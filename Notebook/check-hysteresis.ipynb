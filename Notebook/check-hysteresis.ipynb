{
 "cells": [
  {
   "cell_type": "code",
   "execution_count": 1,
   "metadata": {},
   "outputs": [
    {
     "name": "stdout",
     "output_type": "stream",
     "text": [
      "[0.16325   0.6258075] [0.00694489 0.14412678]\n"
     ]
    }
   ],
   "source": [
    "import  numpy as np\n",
    "from matplotlib import pyplot as plt\n",
    "import pandas as pd\n",
    "\n",
    "moves = np.array([[   0.        ,  -30.        ],\n",
    "       [  -0.        ,   30.        ],\n",
    "       [ 152.42916513,  253.0109294 ],\n",
    "       [ 207.66137296,   76.99530985],\n",
    "       [ -73.33977752, -725.55321137],\n",
    "       [ -91.82711862,   50.51517398],\n",
    "       [  30.30196728,  474.6920921 ],\n",
    "       [  -0.        ,   30.        ],\n",
    "       [   0.        ,  -30.        ],\n",
    "       [ -30.30196728, -474.6920921 ],\n",
    "       [  91.82711862,  -80.51517398],\n",
    "       [   0.        ,   30.        ],\n",
    "       [  73.33977752,  755.55321137],\n",
    "       [  -0.        ,  -30.        ],\n",
    "       [-207.66137296,  -76.99530985],\n",
    "       [-152.42916513, -253.0109294 ]])\n",
    "\n",
    "flags = np.array([False,  True,  True,  True,  True,  True,  True, False,  True,\n",
    "        True, False,  True, False,  True,  True,  True])\n",
    "\n",
    "\n",
    "moves = pd.DataFrame(np.hstack((moves,flags[:,None])), columns=[\"EL\",\"CE\",\"UV_image\"])#,dtype=[(\"EL\",float),(\"CE\",float),(\"UV_image\",float)])\n",
    "\n",
    "slits_coord_obs_det = np.array([\n",
    "[1744.5149,\t709.2633],\n",
    "[2074.3496,\t567.48754],\n",
    "[1959.6651,\t1885.5387],\n",
    "[1813.3748,\t1795.4066],\n",
    "[1856.6138,\t932.35271],\n",
    "[1856.4786,\t931.65825],\n",
    "[1813.6749,\t1794.3482],\n",
    "[1959.5905,\t1885.554],\n",
    "[2071.5012,\t576.32861],\n",
    "[1744.3718,\t708.52823]])\n",
    "\n",
    "mid  = len(slits_coord_obs_det)//2\n",
    "pair_diff = slits_coord_obs_det[:mid] - slits_coord_obs_det[::-1][:mid]\n",
    "\n",
    "pair_diff_valid = pair_diff[[0,2,3,4],:]\n",
    "mean = np.abs(pair_diff_valid).mean(axis=0)\n",
    "var  = np.abs(pair_diff_valid).var(axis=0)\n",
    "print(mean,var)"
   ]
  },
  {
   "cell_type": "code",
   "execution_count": 2,
   "metadata": {},
   "outputs": [
    {
     "name": "stdout",
     "output_type": "stream",
     "text": [
      "[0.20460353 0.78433339] [0.01521204 0.22354383] [0.00694489 0.14412678]\n"
     ]
    }
   ],
   "source": [
    "sigma = mean/np.sqrt(2/np.pi)\n",
    "var_from_sigma = sigma**2*(1-2/np.pi)\n",
    "print(sigma, var_from_sigma, var)"
   ]
  },
  {
   "cell_type": "code",
   "execution_count": 3,
   "metadata": {},
   "outputs": [],
   "source": [
    "moves_sign  = np.sign(moves.loc[2:mid+1,moves.columns != 'UV_image'])\n",
    "\n",
    "pair_diff_signed = pair_diff * moves_sign\n",
    "\n"
   ]
  },
  {
   "cell_type": "code",
   "execution_count": 4,
   "metadata": {},
   "outputs": [
    {
     "name": "stdout",
     "output_type": "stream",
     "text": [
      "2    152.429165\n",
      "3    207.661373\n",
      "4    -73.339778\n",
      "5    -91.827119\n",
      "6     30.301967\n",
      "Name: EL, dtype: float64\n",
      "7      -0.000000\n",
      "9     -30.301967\n",
      "10     91.827119\n",
      "12     73.339778\n",
      "14   -207.661373\n",
      "Name: EL, dtype: float64\n",
      "[ True False  True False False]\n"
     ]
    }
   ],
   "source": [
    "CE_comp = moves.loc[moves.UV_image == 0].index + 1\n",
    "EL = moves.drop(index = CE_comp).EL\n",
    "moves_EL_fwd = EL[1:mid+1]  # skip first to GC\n",
    "moves_EL_bwd = EL[mid+1:-1] # skip last back to gc\n",
    "\n",
    "print(moves_EL_fwd)\n",
    "print(moves_EL_bwd)\n",
    "moves_EL_opposite = np.sign(moves_EL_fwd.values)*np.sign(moves_EL_bwd.values[::-1]) == -1\n",
    "print(moves_EL_opposite)\n"
   ]
  },
  {
   "cell_type": "code",
   "execution_count": 6,
   "metadata": {},
   "outputs": [
    {
     "data": {
      "image/png": "[encoded data removed]",
      "text/plain": [
       "<Figure size 432x288 with 2 Axes>"
      ]
     },
     "metadata": {
      "needs_background": "light"
     },
     "output_type": "display_data"
    }
   ],
   "source": [
    "#valid = np.array([0,1,2,3,4]) \n",
    "valid = np.array([0,2,3,4]) \n",
    "\n",
    "fig, (ax0,ax1) = plt.subplots(1,2)\n",
    "#index = np.arange(pair_diff.shape[0], dtype='int')\n",
    "ax0.plot(valid[moves_EL_opposite[valid]], pair_diff_signed.EL.values[valid][moves_EL_opposite[valid]],'*')\n",
    "ax0.plot(valid[~moves_EL_opposite[valid]], pair_diff_signed.EL.values[valid][~moves_EL_opposite[valid]],'x',color='0.5')\n",
    "ax0.set_title(\"El pair diff\")\n",
    "ax0.set_ylabel(\"El arcsec\")\n",
    "ax1.plot(valid, pair_diff_signed.CE.values[valid],'*')\n",
    "ax1.set_title(\"Ce pair diff\")\n",
    "ax1.set_ylabel(\"Ce arcsec\")\n",
    "fig.suptitle(\"Hysteresis analysis\")\n",
    "fig.tight_layout()\n"
   ]
  },
  {
   "cell_type": "code",
   "execution_count": null,
   "metadata": {},
   "outputs": [],
   "source": []
  }
 ],
 "metadata": {
  "kernelspec": {
   "display_name": "Python 3.7.13 ('fireballpipe')",
   "language": "python",
   "name": "python3"
  },
  "language_info": {
   "codemirror_mode": {
    "name": "ipython",
    "version": 3
   },
   "file_extension": ".py",
   "mimetype": "text/x-python",
   "name": "python",
   "nbconvert_exporter": "python",
   "pygments_lexer": "ipython3",
   "version": "3.7.13"
  },
  "orig_nbformat": 4,
  "vscode": {
   "interpreter": {
    "hash": "b1dd221068d64dffbc99f7f51fa8ddbb010e2dde82971704e31c221ef528cd60"
   }
  }
 },
 "nbformat": 4,
 "nbformat_minor": 2
}
