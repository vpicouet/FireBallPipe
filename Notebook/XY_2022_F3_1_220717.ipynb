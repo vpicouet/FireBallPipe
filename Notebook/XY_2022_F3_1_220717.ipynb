{
 "cells": [
  {
   "cell_type": "markdown",
   "metadata": {},
   "source": [
    "# XY-calibration (F3)"
   ]
  },
  {
   "cell_type": "code",
   "execution_count": 1,
   "metadata": {},
   "outputs": [
    {
     "name": "stdout",
     "output_type": "stream",
     "text": [
      "/Users/Vincent/Github/FireBallPipe\n"
     ]
    }
   ],
   "source": [
    "cd .."
   ]
  },
  {
   "cell_type": "markdown",
   "metadata": {},
   "source": [
    "\n",
    "| #  | Name                               | Done                     |       Comment               |\n",
    "|----|------------------------------------|--------------------------|-----------------------------|\n",
    "| 1  | Have a mask-detector mapping       | <input type=\"checkbox\">  |  And send region file to zeren |\n",
    "| 2  | Use the previous XY mapping        | <input type=\"checkbox\">  | of the same mask, if never done do a new one   |\n",
    "| 2.a  |Add mask rotation for F2       | <input type=\"checkbox\">  |                             |\n",
    "| 3  | Reset magnification/offset/angle   | <input type=\"checkbox\">  |                             |\n",
    "| 4  | Be sure of the slits path          | <input type=\"checkbox\">  |  Use only regular slits, big moves, do not use slits that are seen with one line or in shadow   |\n",
    "| 4.a  | Decide to use or not hysteresis compensation          | <input type=\"checkbox\">  |  Adds ~1h in total + slight code complexity but might improve results by <1''  |\n",
    "| 5  | Account from Zeren offset          | <input type=\"checkbox\">  |                             |\n",
    "| 6  | Add slits path in google drive     | <input type=\"checkbox\">  |                             |\n",
    "| 7  | Add CNES moves to google drive     | <input type=\"checkbox\">  |                             |\n"
   ]
  },
  {
   "cell_type": "code",
   "execution_count": 2,
   "metadata": {
    "collapsed": true
   },
   "outputs": [
    {
     "name": "stdout",
     "output_type": "stream",
     "text": [
      "After calibration of the encoders, El is 0.09283 ''/inc and Ce is 0.01019 ''/inc\n"
     ]
    }
   ],
   "source": [
    "# %matplotlib widget\n",
    "%load_ext autoreload\n",
    "%autoreload 2\n",
    "\n",
    "import sys\n",
    "import numpy as np\n",
    "from astropy.io import fits\n",
    "from astropy import wcs, coordinates\n",
    "from astropy import units as u\n",
    "from astropy.wcs.utils import proj_plane_pixel_scales\n",
    "from matplotlib import pyplot as plt\n",
    "from astropy.table import Table, vstack \n",
    "import matplotlib.patches as patches\n",
    "import unittest\n",
    "from mpl_interactions import heatmap_slicer\n",
    "import pandas as pd\n",
    "import datetime \n",
    "# os.chdir(os.path.dirname(os.path.realpath(__file__)))\n",
    "sys.path.insert(1, './Calibration')\n",
    "from guider2UV.guider2UV import Guider2UV, diff_skycoord, fit_model, plot_fit\n",
    "from guider2UV.MaskAstrometry import LocalScienceMaskProjector\n",
    "from Calibration.mapping import Mapping\n",
    "\n",
    "# encoder gains 2022:\n",
    "CEg = 1.0187 # CEg = 1.02928 # 2018\n",
    "Elg = 1.0090 # Elg = 1.00379 # 2018\n",
    "print(\"After calibration of the encoders, El is %0.5f ''/inc and Ce is %0.5f ''/inc\" %(Elg*0.092,CEg*0.01))\n"
   ]
  },
  {
   "cell_type": "markdown",
   "metadata": {},
   "source": [
    "## initialization from last xy calib\n",
    "---------------------------------\n",
    "This was actually a mistake, it should slways be done from the same mask (same field center), or create a new G2UV object"
   ]
  },
  {
   "cell_type": "code",
   "execution_count": 3,
   "metadata": {},
   "outputs": [],
   "source": [
    "# prerequisites:\n",
    "Field = \"F3\"\n",
    "previous_xy_mapping = \"Calibration/Mappings/2018/XY/Guider2UV_F3_nogamma.new.pkl\"\n",
    "mask_det_map_file = \"Calibration/Mappings/2022/mask_to_det_mapping/mapping-mask-det-w-2022-5-F3_60.pkl\"\n",
    "target_filename = 'Calibration/Targets/2022/targets_%s.csv'%(Field)\n",
    "Hysteresis_compensation = False\n",
    "if input(\"Are you sure that you want to use Hysteresis_compensation = %s? (y/n)\"%(Hysteresis_compensation))!=\"y\":\n",
    "    raise ValueError(\"Please be verify the value of Hysteresis_compensation\")\n"
   ]
  },
  {
   "cell_type": "code",
   "execution_count": 5,
   "metadata": {
    "scrolled": false
   },
   "outputs": [
    {
     "name": "stdout",
     "output_type": "stream",
     "text": [
      "FOV center angular position in guider <SkyCoord (SkyOffsetICRS: rotation=0.0 deg, origin=<ICRS Coordinate: (ra, dec) in deg\n",
      "    (250.42402654, 36.43499699)>): (lon, lat) in deg\n",
      "    (0.18212015, -0.00658703)>\n",
      "FOV center pixel position in guider [array(1356.48459465), array(515.54397687)]\n",
      "\n",
      "Guider2UV object:\n",
      "    Local Field Projector: \n",
      "ScienceMaskProjector object:\n",
      "    LocalFrame: <SkyOffsetICRS Frame (rotation=-90.0 deg, origin=<ICRS Coordinate: (ra, dec) in deg\n",
      "    (352.3424, 0.21245)>)>\n",
      "    gamma: 1.0\n",
      "\n",
      "    Guider Field Projector: \n",
      "GuiderMaskProjector object:\n",
      "    LocalFrame: <SkyOffsetICRS Frame (rotation=0.0 deg, origin=<ICRS Coordinate: (ra, dec) in deg\n",
      "    (250.42402654, 36.43499699)>)>\n",
      "    wcs: WCS Keywords\n",
      "\n",
      "Number of WCS axes: 2\n",
      "CTYPE : 'RA---TAN-SIP'  'DEC--TAN-SIP'  \n",
      "CRVAL : 250.424026537  36.4349969891  \n",
      "CRPIX : 640.0  540.0  \n",
      "PC1_1 PC1_2  : 1.0  0.0  \n",
      "PC2_1 PC2_2  : 0.0  1.0  \n",
      "CDELT : 0.00024648264068189  0.00024664057706659  \n",
      "NAXIS : 0  0\n",
      "\n",
      "    mask_rotation: 0.0 arcmin\n",
      "    FOV center in guider: 1356.4845946522387x515.5439768745559 pix\n",
      "\n"
     ]
    }
   ],
   "source": [
    "# load model from previous XY calib \n",
    "G2UV = Guider2UV(filename=previous_xy_mapping)\n",
    "\n",
    "# eventually reset the guider-scmask rotation to 0 and magnification correction to 0.\n",
    "G2UV.mask_rotation = 0.0*u.arcmin\n",
    "G2UV.FieldP.gamma = 1. \n",
    "G2UV.FieldP.radial_mag_polynomial = (42.26134, 0., 0.)\n",
    "G2UV.FieldP.radial_mag_inv_polynomial = (1./42.26134, 0., 0.)\n",
    "print(G2UV)\n",
    "\n",
    "# if you already know the approx angular distance between guidercenter and FOVcenter, set it:\n",
    "#G2UV.FOV_center_guider_coord = coordinates.SkyCoord(delta_x*u.deg, # x guider axis (x axis in guider local frame, see XYcalib figure)\n",
    "#                                                    delta_y*u.deg, # y guider axis (y axis guider local frame, see XYcalib figure)\n",
    "#                                                    frame = G2UV.GuiderP.localframe)\n",
    "\n",
    "# load targets\n",
    "F1 = Table.read(target_filename, format='ascii')\n",
    "\n",
    "# load mask-UVdetector mappings\n",
    "mask_det_map = Mapping(mask_det_map_file)\n",
    "\n",
    "if input(\"Are you sure that these values make sense for %s: Theta=%s, center=%s? (y/n)\"%(Field, G2UV.FieldP.rotation, G2UV.FieldP.center))!=\"y\":\n",
    "    raise ValueError(\"Please verify the initialization mapping\")\n",
    "\n"
   ]
  },
  {
   "cell_type": "markdown",
   "metadata": {},
   "source": [
    "## Alternative initialisation for new fields:\n",
    "---------------------------------------"
   ]
  },
  {
   "cell_type": "code",
   "execution_count": 6,
   "metadata": {
    "scrolled": false
   },
   "outputs": [],
   "source": [
    "\n",
    "# f_ra, f_dec, f_rot = 0, 0, 0\n",
    "# Field_center=coordinates.SkyCoord(f_ra * u.deg, f_dec * u.deg)\n",
    "# # get FOVcenter & guider wcs from another field\n",
    "# #  put pkl from a functionning mapping from another field\n",
    "# G2UVother = Guider2UV(filename=previous_xy_mapping)\n",
    "# FOVcenter = G2UVother.FOV_center_guider_coord\n",
    "# guider_wcs = G2UVother.GuiderP.w\n",
    "# G2UV = Guider2UV(Field_center=Field_center,\n",
    "#                  Field_rotation= f_rot * u.deg,\n",
    "#                  Field_gamma=1.0,  # platescale correction (need to update the polynomial in the MaskAstrometry.py)\n",
    "#                  FOVcenter_guider_coord=FOVcenter,\n",
    "#                  guider_wcs = guider_wcs,\n",
    "#                  )\n",
    "                 \n",
    "# FNEW = Table.read(target_filename, format='ascii')\n",
    "# mask_det_map = Mapping(mask_det_map_file)\n",
    "\n",
    "# print(G2UV)"
   ]
  },
  {
   "cell_type": "markdown",
   "metadata": {},
   "source": [
    "## 1-  Rotate mask carousel\n",
    "## 2- Diffuse UV image"
   ]
  },
  {
   "cell_type": "markdown",
   "metadata": {},
   "source": [
    "Copy the offset from [this spreadsheet step \"Compute offsets with previous diffuse illumination image\"](https://docs.google.com/spreadsheets/d/19jO0fZ0FL0zZKt8IgJ_DMlZrbCD0VXpYVeulKzXtHzY/edit#gid=0)"
   ]
  },
  {
   "cell_type": "code",
   "execution_count": 7,
   "metadata": {},
   "outputs": [],
   "source": [
    "# This offset in X and Y should be positive if the slit position in tghe new image appears to be shifted towards the top right\n",
    "diffuse_offset = np.array([0.88,-3.00])\n",
    "G2UV.set_detector_mapping(mask_det_map, offsets = diffuse_offset+1) #+1 offset is to account for DS9 vs python offset\n",
    "direct_map = lambda w, x, y: mask_det_map.map(w, x, y) + diffuse_offset\n",
    "inv_map = lambda w, x, y: mask_det_map.inv_map(w, x - diffuse_offset[0], y - diffuse_offset[1])"
   ]
  },
  {
   "cell_type": "markdown",
   "metadata": {},
   "source": [
    "## 3 - Set guider at best focus          \n",
    "## 4 - Align siderostat frames           \n",
    "## 5 - Go to guider reference            \n",
    "## 6 - Set UV/guider best focus offset   \n",
    "## 7 - Rotate mask carousel              \n",
    "## 8 - Through focus in UV               \n",
    "## 9 - Note open-mask guider ref point   \n",
    "    \n",
    "\n",
    "## 10 - Go through the list of slits      \n",
    "\n",
    "['23', '36', '2', '13', '32', '11',\"4\"]\n",
    "\n",
    "Here we struggled to find the good path because of faint 202/206 lines and of shadow of fiber holder"
   ]
  },
  {
   "cell_type": "code",
   "execution_count": 8,
   "metadata": {},
   "outputs": [
    {
     "data": {
      "image/png": "[encoded data removed]",
      "text/plain": [
       "<Figure size 720x432 with 1 Axes>"
      ]
     },
     "metadata": {
      "needs_background": "light"
     },
     "output_type": "display_data"
    },
    {
     "data": {
      "text/html": [
       "<div><i>Table length=9</i>\n",
       "<table id=\"table140184929811040\" class=\"table-striped table-bordered table-condensed\">\n",
       "<thead><tr><th>Internal-count</th><th>x_mm</th><th>y_mm</th><th>RA</th><th>DEC</th><th>ra_diff</th><th>dec_diff</th><th>angular_distance</th></tr></thead>\n",
       "<thead><tr><th>str2</th><th>float64</th><th>float64</th><th>float64</th><th>float64</th><th>float64</th><th>float64</th><th>float64</th></tr></thead>\n",
       "<tr><td>4</td><td>9.606448141617294</td><td>-4.438478203336938</td><td>352.5700988769531</td><td>0.10724475234746933</td><td>896.4828045669061</td><td>-640.5059605836868</td><td>1101.784599832189</td></tr>\n",
       "<tr><td>13</td><td>-0.9010535220373401</td><td>3.0724750743209586</td><td>352.3210754394531</td><td>0.2851630747318268</td><td>738.1622441627849</td><td>565.1210010051727</td><td>929.6479142581493</td></tr>\n",
       "<tr><td>22</td><td>-9.551649625200541</td><td>-3.555461620393433</td><td>352.11602783203125</td><td>0.12818501889705658</td><td>-823.8333429206866</td><td>79.2756680294037</td><td>827.6388152143312</td></tr>\n",
       "<tr><td>12</td><td>0.10439565884226028</td><td>-4.4904126516402565</td><td>352.344871</td><td>0.106164</td><td>-496.06120469011836</td><td>-521.7387143417359</td><td>719.922221383379</td></tr>\n",
       "<tr><td>6</td><td>5.92437193981131</td><td>1.632129696087109</td><td>352.482666015625</td><td>0.2510914206504822</td><td>1472.9727117804312</td><td>176.50951434173587</td><td>1483.5107745826967</td></tr>\n",
       "<tr><td>23</td><td>-11.341588243654323</td><td>-0.43809484447039143</td><td>352.073503</td><td>0.202061</td><td>-1607.8889668212646</td><td>370.1523632904052</td><td>1649.9453632393486</td></tr>\n",
       "<tr><td>5</td><td>7.5025532792065714</td><td>-4.778575854140258</td><td>352.5201416015625</td><td>0.09924089908599854</td><td>1313.7431465028847</td><td>-683.7893843650818</td><td>1481.0432057011967</td></tr>\n",
       "<tr><td>20</td><td>-7.9019272609735784</td><td>3.2392711320202587</td><td>352.15521240234375</td><td>0.2891823947429657</td><td>-846.1562145493774</td><td>338.9959752559662</td><td>911.5364011712728</td></tr>\n",
       "<tr><td>10</td><td>2.0224236704981835</td><td>-0.7366939649626044</td><td>352.3902587890625</td><td>0.19501684606075287</td><td>0.0</td><td>0.0</td><td>0.0</td></tr>\n",
       "</table></div>"
      ],
      "text/plain": [
       "<Table length=9>\n",
       "Internal-count         x_mm        ...      dec_diff       angular_distance \n",
       "     str2            float64       ...      float64            float64      \n",
       "-------------- ------------------- ... ------------------ ------------------\n",
       "             4   9.606448141617294 ... -640.5059605836868  1101.784599832189\n",
       "            13 -0.9010535220373401 ...  565.1210010051727  929.6479142581493\n",
       "            22  -9.551649625200541 ...   79.2756680294037  827.6388152143312\n",
       "            12 0.10439565884226028 ... -521.7387143417359   719.922221383379\n",
       "             6    5.92437193981131 ... 176.50951434173587 1483.5107745826967\n",
       "            23 -11.341588243654323 ...  370.1523632904052 1649.9453632393486\n",
       "             5  7.5025532792065714 ... -683.7893843650818 1481.0432057011967\n",
       "            20 -7.9019272609735784 ...  338.9959752559662  911.5364011712728\n",
       "            10  2.0224236704981835 ...                0.0                0.0"
      ]
     },
     "execution_count": 8,
     "metadata": {},
     "output_type": "execute_result"
    }
   ],
   "source": [
    "# can not do 24 and 2 because they are not well mapped!\n",
    "\n",
    "slits =['4', '23', '9', '6', '22', '5',\"11\"] # with only 213\n",
    "slits =['4', '13', '22', '12', '6', '23',\"5\",\"20\",\"10\"] # with 206\n",
    "\n",
    "\n",
    "F1['Internal-count'] = F1['Internal-count'].astype(str)\n",
    "F1p = F1.to_pandas()\n",
    "from functools import reduce\n",
    "import warnings\n",
    "warnings.simplefilter(action='ignore', category=FutureWarning)\n",
    "\n",
    "# selected_slits = F1[mask.values]['Internal-count',\"x_mm\",\"y_mm\",\"ra\",\"dec\"]\n",
    "# selected_slits['Internal-count'] = selected_slits['Internal-count'].astype(str)\n",
    "selected_slits = Table.from_pandas((reduce(pd.DataFrame.append, map(lambda i: F1p[F1p['Internal-count'] == i],slits))))\n",
    "ra,dec = \"RA\", \"DEC\"\n",
    "x,y = \"x_mm\",\"y_mm\"\n",
    "plt.figure(figsize=(10,6))\n",
    "plt.plot(F1[x],F1[y],\"x\")\n",
    "plt.plot(selected_slits[x],selected_slits[y],\"-o\")\n",
    "for s in selected_slits:\n",
    "    plt.text(s[x],s[y],s[\"Internal-count\"])\n",
    "plt.xlabel(\"x_mm\")\n",
    "plt.xlabel(\"y_mm\")\n",
    "plt.title(\"Do you want to use these slits: %s\"%(slits))\n",
    "plt.show()\n",
    "\n",
    "selected_slits = selected_slits['Internal-count',x,y,ra,dec]\n",
    "slit_path = selected_slits#Table.from_pandas(selected_slits)   # vstack((selected_slits,selected_slits[::-1]) )\n",
    "slit_path[\"ra_diff\"] = list((slit_path[ra][:-1] - slit_path[ra][1:])*np.cos(slit_path[dec][:-1]*np.pi/180)) + [0]\n",
    "slit_path[\"dec_diff\"] = list((slit_path[dec][:-1] - slit_path[dec][1:])) + [0]\n",
    "\n",
    "slit_path[\"ra_diff\"] *= 3600\n",
    "slit_path[\"dec_diff\"] *= 3600\n",
    "slit_path[\"angular_distance\"] = np.sqrt(slit_path[\"ra_diff\"]** 2 + slit_path[\"dec_diff\"]** 2)\n",
    "try:\n",
    "    slit_path.to_pandas().to_clipboard()\n",
    "except Exception:\n",
    "    pass\n",
    "slit_path"
   ]
  },
  {
   "cell_type": "markdown",
   "metadata": {},
   "source": [
    "The slits table has been copied. Add it to the [slit tab of this spreadsheet](https://docs.google.com/spreadsheets/d/19jO0fZ0FL0zZKt8IgJ_DMlZrbCD0VXpYVeulKzXtHzY/edit#gid=0)"
   ]
  },
  {
   "cell_type": "code",
   "execution_count": 9,
   "metadata": {},
   "outputs": [
    {
     "name": "stdout",
     "output_type": "stream",
     "text": [
      "slit position in mm on mask: [ 9.60644814 -4.4384782 ]\n",
      "slit position in mm on mask: [-0.90105352  3.07247507]\n",
      "slit position in mm on mask: [-9.55164963 -3.55546162]\n",
      "slit position in mm on mask: [ 0.10439566 -4.49041265]\n",
      "slit position in mm on mask: [5.92437194 1.6321297 ]\n",
      "slit position in mm on mask: [-11.34158824  -0.43809484]\n",
      "slit position in mm on mask: [ 7.50255328 -4.77857585]\n",
      "slit position in mm on mask: [-7.90192726  3.23927113]\n",
      "slit position in mm on mask: [ 2.02242367 -0.73669396]\n",
      "\n",
      "targets local coords in siderostat local frame:\n",
      "EL: 138.2 arcsec ; CE: 409.0 arcsec\n",
      "EL: 456.9 arcsec ; CE: -25.8 arcsec\n",
      "EL: 175.7 arcsec ; CE: -383.7 arcsec\n",
      "EL: 136.0 arcsec ; CE: 15.8 arcsec\n",
      "EL: 395.8 arcsec ; CE: 256.7 arcsec\n",
      "EL: 308.0 arcsec ; CE: -457.8 arcsec\n",
      "EL: 123.8 arcsec ; CE: 322.0 arcsec\n",
      "EL: 464.0 arcsec ; CE: -315.5 arcsec\n",
      "EL: 295.3 arcsec ; CE: 95.2 arcsec\n",
      "\n",
      "siderostat moves sequence: \n",
      "(They have been copied to clipboard, paste it in the spreadsheet)\n",
      "Carefull, with Hysteresis_compensation==False the last move to return to the guider is not given. You just need to do -∑all moves\n",
      "You should then add EL=295.3196 and CE=95.2083\n"
     ]
    },
    {
     "data": {
      "text/html": [
       "<div>\n",
       "<style scoped>\n",
       "    .dataframe tbody tr th:only-of-type {\n",
       "        vertical-align: middle;\n",
       "    }\n",
       "\n",
       "    .dataframe tbody tr th {\n",
       "        vertical-align: top;\n",
       "    }\n",
       "\n",
       "    .dataframe thead th {\n",
       "        text-align: right;\n",
       "    }\n",
       "</style>\n",
       "<table border=\"1\" class=\"dataframe\">\n",
       "  <thead>\n",
       "    <tr style=\"text-align: right;\">\n",
       "      <th></th>\n",
       "      <th>EL</th>\n",
       "      <th>CE</th>\n",
       "      <th>UV_image</th>\n",
       "      <th>EL_abs</th>\n",
       "      <th>CE_abs</th>\n",
       "    </tr>\n",
       "  </thead>\n",
       "  <tbody>\n",
       "    <tr>\n",
       "      <th>0</th>\n",
       "      <td>138.248116</td>\n",
       "      <td>409.038970</td>\n",
       "      <td>True</td>\n",
       "      <td>138.248116</td>\n",
       "      <td>409.038970</td>\n",
       "    </tr>\n",
       "    <tr>\n",
       "      <th>1</th>\n",
       "      <td>318.699541</td>\n",
       "      <td>-434.805646</td>\n",
       "      <td>True</td>\n",
       "      <td>456.947657</td>\n",
       "      <td>-25.766676</td>\n",
       "    </tr>\n",
       "    <tr>\n",
       "      <th>2</th>\n",
       "      <td>-281.231996</td>\n",
       "      <td>-357.965970</td>\n",
       "      <td>True</td>\n",
       "      <td>175.715661</td>\n",
       "      <td>-383.732647</td>\n",
       "    </tr>\n",
       "    <tr>\n",
       "      <th>3</th>\n",
       "      <td>-39.671191</td>\n",
       "      <td>399.571958</td>\n",
       "      <td>True</td>\n",
       "      <td>136.044470</td>\n",
       "      <td>15.839311</td>\n",
       "    </tr>\n",
       "    <tr>\n",
       "      <th>4</th>\n",
       "      <td>259.787455</td>\n",
       "      <td>240.833514</td>\n",
       "      <td>True</td>\n",
       "      <td>395.831924</td>\n",
       "      <td>256.672825</td>\n",
       "    </tr>\n",
       "    <tr>\n",
       "      <th>5</th>\n",
       "      <td>-87.842326</td>\n",
       "      <td>-714.474022</td>\n",
       "      <td>True</td>\n",
       "      <td>307.989598</td>\n",
       "      <td>-457.801197</td>\n",
       "    </tr>\n",
       "    <tr>\n",
       "      <th>6</th>\n",
       "      <td>-184.172268</td>\n",
       "      <td>779.779951</td>\n",
       "      <td>True</td>\n",
       "      <td>123.817329</td>\n",
       "      <td>321.978754</td>\n",
       "    </tr>\n",
       "    <tr>\n",
       "      <th>7</th>\n",
       "      <td>340.207702</td>\n",
       "      <td>-637.445069</td>\n",
       "      <td>True</td>\n",
       "      <td>464.025031</td>\n",
       "      <td>-315.466315</td>\n",
       "    </tr>\n",
       "    <tr>\n",
       "      <th>8</th>\n",
       "      <td>-168.705383</td>\n",
       "      <td>410.674579</td>\n",
       "      <td>True</td>\n",
       "      <td>295.319648</td>\n",
       "      <td>95.208264</td>\n",
       "    </tr>\n",
       "  </tbody>\n",
       "</table>\n",
       "</div>"
      ],
      "text/plain": [
       "           EL          CE  UV_image      EL_abs      CE_abs\n",
       "0  138.248116  409.038970      True  138.248116  409.038970\n",
       "1  318.699541 -434.805646      True  456.947657  -25.766676\n",
       "2 -281.231996 -357.965970      True  175.715661 -383.732647\n",
       "3  -39.671191  399.571958      True  136.044470   15.839311\n",
       "4  259.787455  240.833514      True  395.831924  256.672825\n",
       "5  -87.842326 -714.474022      True  307.989598 -457.801197\n",
       "6 -184.172268  779.779951      True  123.817329  321.978754\n",
       "7  340.207702 -637.445069      True  464.025031 -315.466315\n",
       "8 -168.705383  410.674579      True  295.319648   95.208264"
      ]
     },
     "execution_count": 9,
     "metadata": {},
     "output_type": "execute_result"
    }
   ],
   "source": [
    "moves, flags, slit_coords = G2UV.compute_autocoll_moves_slits(slits, F1, hystcomp = Hysteresis_compensation)\n",
    "moves = pd.DataFrame(np.hstack((moves,flags[:,None])), columns=[\"EL\",\"CE\",\"UV_image\"])#,dtype=[(\"EL\",float),(\"CE\",float),(\"UV_image\",float)])\n",
    "# assert moves.sum(axis=0)[0] <0.1\n",
    "# assert moves.sum(axis=0)[1] <0.1\n",
    "moves[\"UV_image\"] = moves[\"UV_image\"].astype(bool)\n",
    "moves[\"EL_abs\"] =  [np.sum(moves[\"EL\"][:i+1]) for i in range(len(moves))]\n",
    "moves[\"CE_abs\"] = [np.sum(moves[\"CE\"][:i+1]) for i in range(len(moves))]\n",
    "\n",
    "# slit_path['lon'] = [s.lon.deg*3600 for s in slits_coord]\n",
    "# slit_path['lat'] =  [s.lat.deg*3600 for s in slits_coord]\n",
    "# slit_path\n",
    "print(\"(They have been copied to clipboard, paste it in the spreadsheet)\")\n",
    "moves.to_clipboard()\n",
    "\n",
    "if ~Hysteresis_compensation:\n",
    "    print(\"Carefull, with Hysteresis_compensation==%s the last move to return to the guider is not given. You just need to do -∑all moves\"%(Hysteresis_compensation))\n",
    "    print(\"You should then add EL=%0.4f and CE=%0.4f\"%(moves.sum(axis=0)[0],moves.sum(axis=0)[1]))\n",
    "\n",
    "moves \n"
   ]
  },
  {
   "cell_type": "markdown",
   "metadata": {},
   "source": [
    "The moves has been copied. Add it to the [moves tab of this spreadsheet](https://docs.google.com/spreadsheets/d/19jO0fZ0FL0zZKt8IgJ_DMlZrbCD0VXpYVeulKzXtHzY/edit#gid=0)"
   ]
  },
  {
   "cell_type": "markdown",
   "metadata": {},
   "source": [
    "Copy below the observed slits position from the [slit tab of this spreadsheet](https://docs.google.com/spreadsheets/d/19jO0fZ0FL0zZKt8IgJ_DMlZrbCD0VXpYVeulKzXtHzY/edit#gid=0)"
   ]
  },
  {
   "cell_type": "code",
   "execution_count": 10,
   "metadata": {},
   "outputs": [
    {
     "name": "stdout",
     "output_type": "stream",
     "text": [
      "wave:  0.20619\n"
     ]
    }
   ],
   "source": [
    "slits_coord_obs_det = np.array([\n",
    "[ 1346.5,\t435.5  ],\n",
    "[ 1842.4207,1214.4992  ],\n",
    "[ 1414.5  ,\t1875.5  ],\n",
    "# [ ? ,   \t?  ],\n",
    "[ 1747.5 ,\t707.5  ],\n",
    "[ 1619.5 ,\t2000.5  ],\n",
    "[ 1321.5 ,\t593.5  ],\n",
    "[ 1862.1 ,\t1746.9  ],\n",
    "[ 1589.5,\t1002.5  ]]) \n",
    "\n",
    "valid = np.isfinite(slits_coord_obs_det[:,0])\n",
    "obs_wave = 0.20619\n",
    "print(\"wave: \", obs_wave)\n",
    "# slits_coord_valid = [slit_coords[i] for i in np.nonzero(valid)[0]]\n",
    "# slits_valid = slits[valid]\n",
    "slits_coord_obs = G2UV.detector2guider(slits_coord_obs_det, wave=obs_wave, angle=True  )\n",
    "slits_coord_obs\n",
    "\n",
    "if input(\"Are you sure you computed the barycenter on the line %s? Remember that it's better to use 206 line to probe a bigger part of the detector. It might require gain and longer exposure though. Be sure to always compute the centroid on the same line. (y/n)\"%(obs_wave))!=\"y\":\n",
    "    raise ValueError(\"Please change obs_wave parameter (c)\")\n"
   ]
  },
  {
   "cell_type": "markdown",
   "metadata": {},
   "source": [
    "### look at siderostat frame hysteresis "
   ]
  },
  {
   "cell_type": "code",
   "execution_count": 11,
   "metadata": {},
   "outputs": [],
   "source": [
    "if Hysteresis_compensation:\n",
    "    mid  = len(slits_coord_obs_det)//2\n",
    "    pair_diff = slits_coord_obs_det[:mid] - slits_coord_obs_det[::-1][:mid]\n",
    "    moves_sign  = np.sign(moves[2:mid+2])\n",
    "    pair_diff_signed = pair_diff * moves_sign\n",
    "    valid = np.arange(len(moves_sign))#[0,2,3,4]\n",
    "    fig, (ax0,ax1) = plt.subplots(1,2)\n",
    "    ax0.plot(pair_diff_signed[valid,0],'*-')\n",
    "    ax0.set_title(\"El pair diff\")\n",
    "    ax0.set_ylabel(\"El arcsec\")\n",
    "    ax1.plot(pair_diff_signed[valid,1],'*-')\n",
    "    ax1.set_title(\"Ce pair diff\")\n",
    "    ax1.set_ylabel(\"Ce arcsec\")\n",
    "    fig.suptitle(\"Hysteresis analysis\")\n",
    "    fig.tight_layout()\n"
   ]
  },
  {
   "cell_type": "markdown",
   "metadata": {},
   "source": [
    "## 11- Note open-mask guider ref point\n",
    "## 12- Update model with observed slit positions"
   ]
  },
  {
   "cell_type": "code",
   "execution_count": 12,
   "metadata": {},
   "outputs": [
    {
     "data": {
      "text/plain": [
       "[[0.07709559807387786, -0.23389757272574294],\n",
       " [0.25482193797835495, 0.014733958211388627],\n",
       " [0.09798979080285217, 0.21942685491469247],\n",
       " [0.07586671019897603, -0.009057269915301166],\n",
       " [0.22074007076274255, -0.14677122505654966],\n",
       " [0.17175382137839842, 0.26178089807692495],\n",
       " [0.06904810949914572, -0.18411460648731504],\n",
       " [0.2587687143394287, 0.18039064914774416],\n",
       " [0.16468828298105673, -0.05444220119424129]]"
      ]
     },
     "execution_count": 12,
     "metadata": {},
     "output_type": "execute_result"
    }
   ],
   "source": [
    "# [[slits_coord_obs[i].lon.deg[0], slits_coord_obs[i].lat.deg[0]] for i in range(len(slits_coord_obs))]\n",
    "\n",
    "[[s.lon.deg[0], s.lat.deg[0]]  for s in slit_coords[:9]]"
   ]
  },
  {
   "cell_type": "code",
   "execution_count": 13,
   "metadata": {
    "collapsed": true
   },
   "outputs": [
    {
     "name": "stdout",
     "output_type": "stream",
     "text": [
      "Fitting rotation, translation and magnification\n",
      "gamma: 1.0330544879844736\n",
      "theta: 13.120608368474695 arcmin\n",
      "dx: -32.073187777009586 arcsec\n",
      "dy: -120.63127054425921 arcsec\n",
      "variances: [5.04156388e-04 1.73316200e+00 4.62772809e-01 4.62772809e-01]\n",
      "\n",
      "residuals in arcsec: [[-1.67426098 -0.30917765]\n",
      " [ 1.43057833 -3.1666471 ]\n",
      " [-0.16328314  2.13761904]\n",
      " [ 5.695767    1.75783445]\n",
      " [-3.8864611  -6.57893677]\n",
      " [-4.85639304  0.29838535]\n",
      " [ 2.64291635  2.41938244]\n",
      " [ 0.81113657  3.44154025]]\n",
      "max residual in EL,CE 5.7, 6.6 arcsec\n",
      "mean residual in EL,CE 3.2, 3.1 arcsec\n"
     ]
    },
    {
     "data": {
      "image/png": "[encoded data removed]",
      "text/plain": [
       "<Figure size 864x504 with 2 Axes>"
      ]
     },
     "metadata": {
      "needs_background": "light"
     },
     "output_type": "display_data"
    },
    {
     "name": "stdout",
     "output_type": "stream",
     "text": [
      "After updating:\n",
      "    mask_rotation: 13.120608368474695 arcmin\n",
      "    FOV center in guider: 1344.9458659102224 x 387.1221290050064 pix = 645.3214467959683 arcsec x -142.6261019631289 arcsec arcsec\n",
      "    mask_magnification correction: 1.0330544879844736  \n",
      "    \n"
     ]
    }
   ],
   "source": [
    "slits_coord_obs_det = np.array([\n",
    "[ 1346.5,\t435.5  ],\n",
    "[ 1842.4207,1214.4992  ],\n",
    "[ 1414.5  ,\t1875.5  ],\n",
    "# [ ? ,   \t?  ],\n",
    "[ 1747.5 ,\t707.5  ],\n",
    "[ 1619.5 ,\t2000.5  ],\n",
    "[ 1321.5 ,\t593.5  ],\n",
    "[ 1862.1 ,\t1746.9  ],\n",
    "[ 1589.5,\t1002.5  ]]) \n",
    "\n",
    "slits_coord_obs = G2UV.detector2guider(slits_coord_obs_det, wave=obs_wave, angle=True  )\n",
    "weight = np.array( [1.]*16  + [1./(1. + 1e-1)]*16)\n",
    "G2UVcor, residuals = G2UV.update_model((slit_coords[:3] + slit_coords[4:])[:8], slits_coord_obs[:], plot=True, figsize=(12,7))#, labels=slits_valid\n"
   ]
  },
  {
   "cell_type": "code",
   "execution_count": 14,
   "metadata": {},
   "outputs": [
    {
     "name": "stdout",
     "output_type": "stream",
     "text": [
      "Fitting rotation, translation and magnification\n",
      "gamma: 0.9911138765520151\n",
      "theta: -6.184053343804603 arcmin\n",
      "dx: 8.58433642718091 arcsec\n",
      "dy: -2.9971661213587364 arcsec\n",
      "variances: [4.98286342e-04 1.71298226e+00 4.33639690e-01 4.33639690e-01]\n",
      "\n",
      "residuals in arcsec: [[-2.57702142 -3.46562441]\n",
      " [-2.77141572  1.42017551]\n",
      " [ 4.16058768  2.89082677]\n",
      " [ 2.00960103  3.69804689]\n",
      " [ 2.34341318 -1.01347078]\n",
      " [ 0.34350637  1.06100336]\n",
      " [ 2.73203369 -0.96419969]\n",
      " [-6.37638987 -4.37055912]\n",
      " [ 0.13568505  0.74380146]]\n",
      "max residual in EL,CE 6.4, 4.4 arcsec\n",
      "mean residual in EL,CE 3.2, 2.6 arcsec\n"
     ]
    },
    {
     "data": {
      "image/png": "[encoded data removed]",
      "text/plain": [
       "<Figure size 864x504 with 2 Axes>"
      ]
     },
     "metadata": {
      "needs_background": "light"
     },
     "output_type": "display_data"
    },
    {
     "name": "stdout",
     "output_type": "stream",
     "text": [
      "After updating:\n",
      "    mask_rotation: -6.184053343804603 arcmin\n",
      "    FOV center in guider: 1359.3382789815819 x 511.278864338963 pix = 658.3481796933073 arcsec x -27.67915041561571 arcsec arcsec\n",
      "    mask_magnification correction: 0.9911138765520151  \n",
      "    \n"
     ]
    },
    {
     "data": {
      "text/plain": [
       "(<guider2UV.guider2UV.Guider2UV at 0x7f7f895bd670>,\n",
       " array([[-7.15839284e-04, -9.62673447e-04],\n",
       "        [-7.69837700e-04,  3.94493197e-04],\n",
       "        [ 1.15571880e-03,  8.03007437e-04],\n",
       "        [ 5.58222509e-04,  1.02723525e-03],\n",
       "        [ 6.50948106e-04, -2.81519660e-04],\n",
       "        [ 9.54184355e-05,  2.94723155e-04],\n",
       "        [ 7.58898248e-04, -2.67833246e-04],\n",
       "        [-1.77121941e-03, -1.21404420e-03],\n",
       "        [ 3.76902925e-05,  2.06611516e-04]]))"
      ]
     },
     "execution_count": 14,
     "metadata": {},
     "output_type": "execute_result"
    }
   ],
   "source": [
    "slits_coord_obs_det_new = np.array([\n",
    "[ 1328  ,   295.5   ],\n",
    "[ 1835.6,\t1117.9  ],\n",
    "[ 1392.5,\t1800.5  ],\n",
    "[ 1322.5,\t1044.5  ],\n",
    "[ 1742.5,\t582.5   ],\n",
    "[ 1605.5,\t1939.5  ],\n",
    "[ 1307.8,\t461.5   ],\n",
    "[ 1850.5,\t1663    ],\n",
    "[ 1577.5,\t888.5   ]]) \n",
    "# ss = G2UV.detector2guider(slits_coord_obs_det_new, wave=obs_wave, angle=True  )\n",
    "# [[s.lon.deg[0], s.lat.deg[0]]  for s in ss]\n",
    "G2UV.update_model(slit_coords[:9], G2UV.detector2guider(slits_coord_obs_det_new, wave=obs_wave, angle=True  ),plot=True, figsize=(12,7))\n"
   ]
  },
  {
   "cell_type": "markdown",
   "metadata": {},
   "source": [
    "### check updating without fitting magnification"
   ]
  },
  {
   "cell_type": "code",
   "execution_count": 15,
   "metadata": {},
   "outputs": [
    {
     "name": "stdout",
     "output_type": "stream",
     "text": [
      "\n",
      "Guider2UV object:\n",
      "    Local Field Projector: \n",
      "ScienceMaskProjector object:\n",
      "    LocalFrame: <SkyOffsetICRS Frame (rotation=-90.0 deg, origin=<ICRS Coordinate: (ra, dec) in deg\n",
      "    (352.3424, 0.21245)>)>\n",
      "    gamma: 1.0\n",
      "\n",
      "    Guider Field Projector: \n",
      "GuiderMaskProjector object:\n",
      "    LocalFrame: <SkyOffsetICRS Frame (rotation=0.0 deg, origin=<ICRS Coordinate: (ra, dec) in deg\n",
      "    (250.42402654, 36.43499699)>)>\n",
      "    wcs: WCS Keywords\n",
      "\n",
      "Number of WCS axes: 2\n",
      "CTYPE : 'RA---TAN-SIP'  'DEC--TAN-SIP'  \n",
      "CRVAL : 250.424026537  36.4349969891  \n",
      "CRPIX : 640.0  540.0  \n",
      "PC1_1 PC1_2  : 1.0  0.0  \n",
      "PC2_1 PC2_2  : 0.0  1.0  \n",
      "CDELT : 0.00024648264068189  0.00024664057706659  \n",
      "NAXIS : 0  0\n",
      "\n",
      "    mask_rotation: 0.0 arcmin\n",
      "    FOV center in guider: 1356.4845946522387x515.5439768745559 pix\n",
      "\n"
     ]
    }
   ],
   "source": [
    "G2UVtest=G2UV.copy()\n",
    "G2UVtest.FieldP.radial_mag_polynomial = (42.26134, 0., 0.)\n",
    "G2UVtest.FieldP.radial_mag_inv_polynomial = (1./42.26134, 0., 0.)\n",
    "G2UVtest.FieldP.gamma = 1.\n",
    "print(G2UVtest)"
   ]
  },
  {
   "cell_type": "code",
   "execution_count": 17,
   "metadata": {},
   "outputs": [],
   "source": [
    "# G2UVcor_test, residuals = G2UVtest.update_model(slits_coord_valid, slits_coord_obs, labels=slits, plot=True, figsize=(16,6), gamma=True)\n"
   ]
  },
  {
   "cell_type": "markdown",
   "metadata": {},
   "source": [
    "### save corrected model for future use (eg redo the calib on same field)"
   ]
  },
  {
   "cell_type": "code",
   "execution_count": 14,
   "metadata": {},
   "outputs": [
    {
     "name": "stdout",
     "output_type": "stream",
     "text": [
      "Dumping to Calibration/Mappings/2022/XY/F3_XY_220717.pkl\n"
     ]
    }
   ],
   "source": [
    "G2UVcor.save(filename=\"Calibration/Mappings/2022/XY/F3_XY_220717.pkl\")"
   ]
  },
  {
   "cell_type": "markdown",
   "metadata": {},
   "source": [
    "## 13 - Rotate carousel to science mask\n",
    "## 14 - Note open-mask guider ref point\n",
    "## 15 - Check corrected model through science mask"
   ]
  },
  {
   "cell_type": "code",
   "execution_count": 19,
   "metadata": {},
   "outputs": [],
   "source": [
    "# moves, flags, slit_coords = G2UVcor.compute_autocoll_moves_slits(slits, F1, hystcomp = Hysteresis_compensation, CEg = CEg, Elg = Elg)\n",
    "# moves = Table.from_pandas(pd.DataFrame(np.hstack((moves,flags[:,None])), columns=[\"EL\",\"CE\",\"UV_image\"]))\n",
    "# print(\"(They have been copied to clipboard, paste it in the spreadsheet)\")\n",
    "# moves.to_pandas().to_clipboard()\n",
    "# moves\n",
    "\n",
    "# # new_cat = slit_path[:9]\n",
    "# new_cat[\"EL\"] = moves[\"EL\"][1:]\n",
    "# new_cat[\"CE\"] = moves[\"CE\"][1:]\n",
    "\n",
    "# new_cat[\"El_sky\"] = new_cat[\"EL\"]  * 2 * Elg \n",
    "# new_cat[\"Cel_sky\"] = new_cat[\"CE\"] * 2 * CEg \n",
    "# new_cat[\"Frame_angular_distance\"] = np.sqrt(new_cat[\"El_sky\"]**2 + new_cat[\"Cel_sky\"]**2)\n",
    "# new_cat[\"frame_divided_sky\"] = new_cat[\"Frame_angular_distance\"] / new_cat[\"angular_distance\"]\n",
    "# new_cat[\"EL_dec_ratio\"] =   new_cat[\"El_sky\"] / new_cat[\"dec_diff\"]\n",
    "# new_cat[\"CE_ra_ratio\"] =   new_cat[\"Cel_sky\"] / new_cat[\"ra_diff\"]\n",
    "# # new_cat\n",
    "# # new_cat.to_pandas().to_clipboard()\n",
    "\n",
    "# plt.figure()\n",
    "# plt.plot(new_cat[\"angular_distance\"],-new_cat[\"EL_dec_ratio\"],\"P\",label=\"El move / dec angular distance between targets\")\n",
    "# plt.plot(new_cat[\"angular_distance\"],-new_cat[\"CE_ra_ratio\"],\"X\",label=\"CE move / ra angular distance between targets\")\n",
    "# plt.plot(new_cat[\"angular_distance\"],new_cat[\"frame_divided_sky\"],\"o\",label=\"Sky angular move / angular distance between targets\")\n",
    "# plt.legend()\n",
    "# plt.show()\n",
    "# new_cat#[\"ra_diff\",\"dec_diff\",\"El_sky\",\"Cel_sky\",\"frame_divided_sky\",\"EL_dec_ratio\",\"CE_ra_ratio\"]#,\"EL_moves\",\"CE_moves\"\n"
   ]
  },
  {
   "cell_type": "markdown",
   "metadata": {},
   "source": [
    "The moves has been copied. Add it to the [moves tab of this spreadsheet](https://docs.google.com/spreadsheets/d/19jO0fZ0FL0zZKt8IgJ_DMlZrbCD0VXpYVeulKzXtHzY/edit#gid=0)"
   ]
  },
  {
   "cell_type": "markdown",
   "metadata": {},
   "source": [
    "Here we just wanted to do another try to verify that the least square gives consistent results"
   ]
  },
  {
   "cell_type": "code",
   "execution_count": 20,
   "metadata": {},
   "outputs": [],
   "source": [
    "# slits_coord_obs_det = np.array([\n",
    "# [2015.5591,  \t931.45115  ],\n",
    "# [1958.5063  ,\t467.6615  ],\n",
    "# [1665.4307  ,\t1955.4355  ],\n",
    "# [2034.4282 ,\t1432.4388  ],\n",
    "# [2057.2718 ,\t620.85921  ],\n",
    "# [1715.4736 ,\t1503.1555  ],\n",
    "# [2102.354,  \t1784.8877  ]]) \n",
    "\n",
    "# slits_coord_obs = G2UV.detector2guider(slits_coord_obs_det, wave=obs_wave, angle=True  )\n",
    "# weight = np.array( [1.]*16  + [1./(1. + 1e-1)]*16)\n",
    "# G2UVcor.update_model(slits_coord_valid[1:], slits_coord_obs[1:], plot=True, figsize=(16,6))#, labels=slits_valid\n",
    "\n",
    "\n"
   ]
  },
  {
   "cell_type": "markdown",
   "metadata": {},
   "source": [
    "\n",
    "## 16 - Note science-mask guider ref point\n",
    "## 17 - Go through the Star sequence \n",
    " [29, 34, 18, 14]\n",
    "we did not have the time to do this because G2UV was not well"
   ]
  },
  {
   "cell_type": "code",
   "execution_count": 22,
   "metadata": {},
   "outputs": [
    {
     "name": "stdout",
     "output_type": "stream",
     "text": [
      "\n",
      "targets local coords in siderostat local frame:\n",
      "EL: -257.3 arcsec ; CE: 152.4 arcsec\n",
      "EL: -133.4 arcsec ; CE: -129.4 arcsec\n",
      "EL: 131.9 arcsec ; CE: -62.2 arcsec\n",
      "\n",
      "siderostat moves sequence: \n"
     ]
    }
   ],
   "source": [
    "# G2UVcor.FieldP.center = 36.9049, 0.65245\n",
    "star_target_path = \"Calibration/Targets/2022/GuidingStars/F3_guidingstars.fits\"\n",
    "# il faut que le centre soit bien defini à l'arcseconde pres.\n",
    "# G2UVcor.FieldP = LocalScienceMaskProjector(center=coordinates.SkyCoord(36.9049*u.deg, 0.65245*u.deg), rotation=0.0*u.arcmin, gamma=1)\n",
    "\n",
    "\n",
    "F1_stars = Table.read(star_target_path, format='fits').to_pandas()\n",
    "\n",
    "stars = [20, 5, 9]#[29, 34, 18, 14]\n",
    "selected_stars = Table.from_pandas((reduce(pd.DataFrame.append, map(lambda i: F1_stars[F1_stars['Internal count'] == i],stars))))\n",
    "# G2UVcor.FOV_center_guider_coord = 0.18182478, 0.00998363\n",
    "star_moves, flags, stars_coord = G2UVcor.compute_autocoll_move_stars(stars, F1_stars, hystcomp = Hysteresis_compensation, CEg = CEg, Elg = Elg)\n",
    "star_moves = pd.DataFrame(np.hstack((star_moves,flags[:,None])), columns=[\"EL\",\"CE\",\"Image\"])\n",
    "star_moves\n",
    "star_moves.to_clipboard()\n",
    "# stars_path = vstack((selected_stars,selected_stars[::-1]) )\n",
    "# selected_stars['lon'] = [s.lon.deg*3600 for s in stars_coord]\n",
    "# selected_stars['lat'] =  [s.lat.deg*3600 for s in stars_coord]\n",
    "# print(\"(They have been copied to clipboard, paste it in the spreadsheet)\")\n",
    "# star_moves.to_clipboard()\n",
    "# star_moves\n",
    "\n"
   ]
  },
  {
   "cell_type": "markdown",
   "metadata": {},
   "source": [
    "The moves has been copied. Add it to the [moves tab of this spreadsheet](https://docs.google.com/spreadsheets/d/19jO0fZ0FL0zZKt8IgJ_DMlZrbCD0VXpYVeulKzXtHzY/edit#gid=0)"
   ]
  },
  {
   "cell_type": "code",
   "execution_count": 23,
   "metadata": {},
   "outputs": [
    {
     "data": {
      "text/html": [
       "<div><i>Table length=4</i>\n",
       "<table id=\"table140186015021904\" class=\"table-striped table-bordered table-condensed\">\n",
       "<thead><tr><th>Internal count</th><th>RA</th><th>DEC</th><th>X</th><th>Y</th><th>GAIA gband</th><th>SDSS gband</th><th>SDSS rband</th><th>Xguider</th><th>Yguider</th></tr></thead>\n",
       "<thead><tr><th>int64</th><th>float64</th><th>float64</th><th>float64</th><th>float64</th><th>int64</th><th>object</th><th>object</th><th>float64</th><th>float64</th></tr></thead>\n",
       "<tr><td>20</td><td>352.387774</td><td>-0.111235</td><td>1.930845</td><td>-13.773961</td><td>--</td><td>12</td><td>12</td><td>58.50638377206623</td><td>322.426324860575</td></tr>\n",
       "<tr><td>5</td><td>352.228576</td><td>-0.041124</td><td>-4.843635</td><td>-10.790471</td><td>9</td><td>10</td><td>9</td><td>353.4101855036889</td><td>982.9681967990201</td></tr>\n",
       "<tr><td>9</td><td>352.267202</td><td>0.107397</td><td>-3.199912</td><td>-4.470323</td><td>--</td><td>13</td><td>12</td><td>955.7861839419787</td><td>813.2265808353644</td></tr>\n",
       "<tr><td>-99</td><td>-99.0</td><td>-99.0</td><td>640.0</td><td>540.0</td><td>-99</td><td>-99</td><td>-99</td><td>-99.0</td><td>-99.0</td></tr>\n",
       "</table></div>"
      ],
      "text/plain": [
       "<Table length=4>\n",
       "Internal count     RA        DEC    ...      Xguider           Yguider     \n",
       "    int64       float64    float64  ...      float64           float64     \n",
       "-------------- ---------- --------- ... ----------------- -----------------\n",
       "            20 352.387774 -0.111235 ... 58.50638377206623  322.426324860575\n",
       "             5 352.228576 -0.041124 ... 353.4101855036889 982.9681967990201\n",
       "             9 352.267202  0.107397 ... 955.7861839419787 813.2265808353644\n",
       "           -99      -99.0     -99.0 ...             -99.0             -99.0"
      ]
     },
     "execution_count": 23,
     "metadata": {},
     "output_type": "execute_result"
    }
   ],
   "source": [
    "selection = selected_stars['Internal count',\n",
    " 'RA',\n",
    " 'DEC',\n",
    " 'X',\n",
    " 'Y',\n",
    " 'GAIA gband',\n",
    " 'SDSS gband',\n",
    " 'SDSS rband',\n",
    " 'Xguider',\n",
    " 'Yguider']\n",
    "# selection=vstack((selection,selection[::-1]))\n",
    "selection.add_row([\"-99\",-99,-99,640,540,-99,-99,-99,-99,-99])\n",
    "selection.to_pandas().to_clipboard()\n",
    "selection"
   ]
  },
  {
   "cell_type": "markdown",
   "metadata": {},
   "source": [
    "The stars table has been copied. Add it to the [stars tab of this spreadsheet](https://docs.google.com/spreadsheets/d/19jO0fZ0FL0zZKt8IgJ_DMlZrbCD0VXpYVeulKzXtHzY/edit#gid=0)"
   ]
  },
  {
   "cell_type": "markdown",
   "metadata": {},
   "source": [
    "\n",
    "## 18 - Through focus guide star 1\n",
    "## 19 - Track mask to guider changes\n",
    "------------------------------------------------------"
   ]
  },
  {
   "cell_type": "markdown",
   "metadata": {},
   "source": []
  }
 ],
 "metadata": {
  "kernelspec": {
   "display_name": "Python 3.8.13 ('py38')",
   "language": "python",
   "name": "python3"
  },
  "language_info": {
   "codemirror_mode": {
    "name": "ipython",
    "version": 3
   },
   "file_extension": ".py",
   "mimetype": "text/x-python",
   "name": "python",
   "nbconvert_exporter": "python",
   "pygments_lexer": "ipython3",
   "version": "3.8.13"
  },
  "vscode": {
   "interpreter": {
    "hash": "6429251b47eee9d8b9b4d9852116ca976e0b69b141b5bab3b174d6f3c07282ea"
   }
  }
 },
 "nbformat": 4,
 "nbformat_minor": 2
}
