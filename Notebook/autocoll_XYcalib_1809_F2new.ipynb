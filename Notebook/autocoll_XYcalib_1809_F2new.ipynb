{
 "cells": [
  {
   "cell_type": "markdown",
   "metadata": {},
   "source": [
    "# UV-Guider alignement with source in autocoll\n",
    "##  Field 2"
   ]
  },
  {
   "cell_type": "code",
   "execution_count": 5,
   "metadata": {},
   "outputs": [],
   "source": [
    "%matplotlib inline\n",
    "\n",
    "from __future__ import division, print_function\n",
    "\n",
    "import sys\n",
    "sys.path.insert(1, './Calibration')\n",
    "\n",
    "import numpy as np\n",
    "from astropy.io import fits\n",
    "from astropy import wcs, coordinates\n",
    "from astropy import units as u\n",
    "from astropy.wcs.utils import proj_plane_pixel_scales\n",
    "from matplotlib import pyplot as plt\n",
    "from astropy.table import Table\n",
    "import matplotlib.patches as patches\n",
    "\n",
    "from guider2UV.guider2UV import Guider2UV, diff_skycoord\n",
    "\n",
    "from Calibration.mapping import Mapping"
   ]
  },
  {
   "cell_type": "code",
   "execution_count": 6,
   "metadata": {},
   "outputs": [],
   "source": [
    "cloudpath = '/home/dvibert/ownCloud/FIREBALL/'\n",
    "path_SC_GUI02 = cloudpath + 'Tests-at-FortSumner/170909_SC_GUI02/'\n",
    "\n",
    "#mask_plate_scale = 42.26134 #mm/deg\n",
    "\n",
    "#detector platescale\n",
    "#yscale = 1.106 # arcsec/pix spatial (y det -> y mask)\n",
    "#xscale = 1.271 # arcsec/pix spectral (x det -> - x mask)\n",
    "\n",
    "#guider center => put source on guider center\n",
    "gc = np.array([640, 540])"
   ]
  },
  {
   "cell_type": "markdown",
   "metadata": {},
   "source": [
    "## calibrated frame encoder gains:\n",
    "\n",
    "EL : 0.092 x 1.00379 = 0.09469 arcsec/inc\n",
    "\n",
    "CE : 0.01 x 1.02928 = 0.010293 arcsec/inc"
   ]
  },
  {
   "cell_type": "code",
   "execution_count": 7,
   "metadata": {
    "collapsed": true
   },
   "outputs": [],
   "source": [
    "# encoder gains:\n",
    "\n",
    "CEg = 1.02928\n",
    "Elg = 1.00379\n",
    "\n",
    "# 2018 calibrated gains put in CNES software\n",
    "#CEg = 1.0\n",
    "#Elg = 1.0"
   ]
  },
  {
   "cell_type": "markdown",
   "metadata": {},
   "source": [
    "## initialization from last xy calib"
   ]
  },
  {
   "cell_type": "code",
   "execution_count": 8,
   "metadata": {
    "scrolled": true
   },
   "outputs": [
    {
     "name": "stdout",
     "output_type": "stream",
     "text": [
      "FOV center angular position in guider <SkyCoord (SkyOffsetICRS: rotation=0.0 deg, origin=<ICRS Coordinate: (ra, dec) in deg\n",
      "    (250.39837843, 36.42897653)>): (lon, lat) in deg\n",
      "    (0.18293516, -0.01420325)>\n",
      "FOV center pixel position in guider [array(1357.77258408), array(471.30507922)]\n"
     ]
    },
    {
     "name": "stderr",
     "output_type": "stream",
     "text": [
      "WARNING: FITSFixedWarning: The WCS transformation has more axes (2) than the image it is associated with (0) [astropy.wcs.wcs]\n"
     ]
    }
   ],
   "source": [
    "G2UV = Guider2UV(filename=path_SC_GUI02 + 'Guider2UV_F2_nogamma.new.pkl')\n",
    "gc_coord = G2UV.GuiderP.pix2local([gc])\n",
    "\n",
    "target_filename = '/home/dvibert/ownCloud/FIREBALL/Target_selection/targets_F2.txt'\n",
    "F2 = Table.read(target_filename, format='ascii')"
   ]
  },
  {
   "cell_type": "markdown",
   "metadata": {},
   "source": [
    "## Diffuse UV image\n",
    "\n",
    "load new mapping"
   ]
  },
  {
   "cell_type": "code",
   "execution_count": 9,
   "metadata": {},
   "outputs": [],
   "source": [
    "#diffuse_path = '/data/ownCloud/FIREBALL/TestsFTS2018-Flight/AIT-Optical-FTS-2018-Flight/XYCalibration/DiffuseMasksIllumination180823/'\n",
    "#diffuse_tab_file = diffuse_path + 'StackedImage_24-43-NoDark_table.csv'\n",
    "#diffuse_tab = Table.read(diffuse_tab_file, format='csv')\n",
    "mask_det_map_file = '/home/dvibert/work/FireBallPipe/mappings_mask_det_180612/mapping-mask-det-F2.pkl'\n",
    "mask_det_map = Mapping(mask_det_map_file)\n",
    "dxm_dyd = -0.013\n",
    "dym_dxd = -0.015\n",
    "m = np.array([[0., dxm_dyd],[dym_dxd ,0.]])"
   ]
  },
  {
   "cell_type": "markdown",
   "metadata": {},
   "source": [
    "record shift from mapping\n",
    "\n",
    "positive: current diffuse -> mapping (old diffuse)"
   ]
  },
  {
   "cell_type": "code",
   "execution_count": 11,
   "metadata": {},
   "outputs": [],
   "source": [
    "diffuse_offset = [ 3.7+1, 3.+1] \n",
    "direct_map = lambda w, x, y: mask_det_map.map(w, x, y) + diffuse_offset\n",
    "inv_map = lambda w, x, y: mask_det_map.inv_map(w, x - diffuse_offset[0], y - diffuse_offset[1])"
   ]
  },
  {
   "cell_type": "markdown",
   "metadata": {},
   "source": [
    "## Scan sequence\n",
    "\n",
    "\n",
    "gc - 37 - 42 - 38 - 27 - 13 - 9 - 8 - 26- newmodel - s36 - s40 - s46 - s21"
   ]
  },
  {
   "cell_type": "markdown",
   "metadata": {},
   "source": [
    "### Go from guider to 1st slit: #37"
   ]
  },
  {
   "cell_type": "code",
   "execution_count": 12,
   "metadata": {},
   "outputs": [
    {
     "name": "stdout",
     "output_type": "stream",
     "text": [
      "slit position in mm on mask: [ 4.02636 -5.77259]\n",
      "slit coord in guider local frame: ['0d02m59.2244s -0d06m52.663s']\n",
      "EL: [89.27384235] arcsec \n",
      "CE: [200.46196137] arcsec\n"
     ]
    }
   ],
   "source": [
    "slit_pos1 =   np.array([F2[F2['Internal-count']=='37']['xmm'][0], F2[F2['Internal-count']=='37']['ymm'][0]])\n",
    "\n",
    "print(\"slit position in mm on mask:\", slit_pos1)\n",
    "slit_coord1 = G2UV.SienceMask2guider(slit_pos1, angle=True)\n",
    "print(\"slit coord in guider local frame:\", slit_coord1.to_string(u'dms'))\n",
    "\n",
    "#frame move\n",
    "theta_EL =  slit_coord1.lon.deg/2./Elg\n",
    "theta_CE = -slit_coord1.lat.deg/2./CEg\n",
    "print(\"EL: {} arcsec \\nCE: {} arcsec\".format(theta_EL*3600, theta_CE*3600))"
   ]
  },
  {
   "cell_type": "markdown",
   "metadata": {},
   "source": [
    "### Go from guider to 1st slit: #37"
   ]
  },
  {
   "cell_type": "markdown",
   "metadata": {},
   "source": [
    "remove offset from model to prediction"
   ]
  },
  {
   "cell_type": "code",
   "execution_count": 13,
   "metadata": {},
   "outputs": [
    {
     "name": "stdout",
     "output_type": "stream",
     "text": [
      "mapped slit position on detector:  [1912.32192028  544.738795  ]\n"
     ]
    }
   ],
   "source": [
    "slit_coord1_det = direct_map(mask_det_map.w[1], slit_pos1[0], slit_pos1[1])\n",
    "print(\"mapped slit position on detector: \", slit_coord1_det)"
   ]
  },
  {
   "cell_type": "code",
   "execution_count": 14,
   "metadata": {},
   "outputs": [
    {
     "name": "stdout",
     "output_type": "stream",
     "text": [
      "observed slit position in mm on mask: [ 3.75248214 -5.72902049]\n",
      "observed slit position (linear mapping) in mm on mask: [ 3.76296433 -5.7122612 ]\n",
      "observed slit coord in guider local frame: ['0d03m02.0895s -0d06m29.1641s']\n",
      "observed slit coord in guider pixel frame: [array([850.73712814]), array([97.76556668])]\n"
     ]
    }
   ],
   "source": [
    "# compute observed position on mask\n",
    "slit_coord1_obs_det = np.array([1908.3, 565.0]) # observed\n",
    "slit_coord1_obs_wave = 0.20619\n",
    "slit_pos1_obs = inv_map(slit_coord1_obs_wave, slit_coord1_obs_det[0], slit_coord1_obs_det[1])\n",
    "slit_pos1_obs2 = slit_pos1 + m.dot(slit_coord1_obs_det - slit_coord1_det)\n",
    "print(\"observed slit position in mm on mask:\", slit_pos1_obs)\n",
    "print(\"observed slit position (linear mapping) in mm on mask:\", slit_pos1_obs2)\n",
    "\n",
    "slit_coord1_obs = G2UV.SienceMask2guider(slit_pos1_obs, angle=True)\n",
    "print(\"observed slit coord in guider local frame:\", slit_coord1_obs.to_string(u'dms'))\n",
    "slit_coord1_obs_pix = G2UV.SienceMask2guider(slit_pos1_obs, angle=False)\n",
    "print(\"observed slit coord in guider pixel frame:\", slit_coord1_obs_pix)\n"
   ]
  },
  {
   "cell_type": "code",
   "execution_count": 15,
   "metadata": {},
   "outputs": [
    {
     "name": "stdout",
     "output_type": "stream",
     "text": [
      "offset from guider in arcsec (guider frame): \n",
      " [[ -2.86511642]\n",
      " [-23.49890734]]\n"
     ]
    }
   ],
   "source": [
    "offset =  diff_skycoord(slit_coord1_obs, slit_coord1) \n",
    "print(\"offset from guider in arcsec (guider frame): \\n\",offset*3600)\n"
   ]
  },
  {
   "cell_type": "code",
   "execution_count": 16,
   "metadata": {},
   "outputs": [],
   "source": [
    "G2UVnew  = G2UV.copy()\n",
    "\n",
    "newFOVcenter = coordinates.SkyCoord(G2UV.FOV_center_guider_coord.lon + offset[0]*u.deg, \n",
    "                              G2UV.FOV_center_guider_coord.lat + offset[1]*u.deg,\n",
    "                              frame = G2UV.GuiderP.localframe)\n",
    "                     \n",
    "G2UVnew.FOV_center_guider_coord = newFOVcenter"
   ]
  },
  {
   "cell_type": "code",
   "execution_count": 17,
   "metadata": {},
   "outputs": [
    {
     "name": "stdout",
     "output_type": "stream",
     "text": [
      "slit coord in guider local frame, corrected from offset: ['0d02m56.3593s -0d07m16.1619s']\n"
     ]
    }
   ],
   "source": [
    "slit_coord1_cor = G2UVnew.SienceMask2guider(slit_pos1, angle=True)\n",
    "print(\"slit coord in guider local frame, corrected from offset:\", slit_coord1_cor.to_string(u'dms'))\n"
   ]
  },
  {
   "cell_type": "markdown",
   "metadata": {},
   "source": [
    "### go back to guider center (absolute)"
   ]
  },
  {
   "cell_type": "markdown",
   "metadata": {},
   "source": [
    "go to 1st slit, offset removed:"
   ]
  },
  {
   "cell_type": "code",
   "execution_count": 18,
   "metadata": {},
   "outputs": [
    {
     "name": "stdout",
     "output_type": "stream",
     "text": [
      "slit coord in guider local frame: ['0d02m56.3593s -0d07m16.1619s']\n",
      "EL: [87.84669303] arcsec \n",
      "CE: [211.87717751] arcsec\n"
     ]
    }
   ],
   "source": [
    "\n",
    "slit_coord1 = G2UVnew.SienceMask2guider(slit_pos1, angle=True)\n",
    "print(\"slit coord in guider local frame:\", slit_coord1.to_string(u'dms'))\n",
    "\n",
    "#frame move\n",
    "theta_EL =  slit_coord1.lon.deg/2./Elg\n",
    "theta_CE = -slit_coord1.lat.deg/2./CEg\n",
    "print(\"EL: {} arcsec \\nCE: {} arcsec\".format(theta_EL*3600, theta_CE*3600))"
   ]
  },
  {
   "cell_type": "markdown",
   "metadata": {},
   "source": [
    "### Loop on slits"
   ]
  },
  {
   "cell_type": "code",
   "execution_count": 19,
   "metadata": {},
   "outputs": [
    {
     "data": {
      "text/plain": [
       "['37',\n",
       " '42',\n",
       " '38',\n",
       " '27',\n",
       " '13',\n",
       " '9',\n",
       " '8',\n",
       " '26',\n",
       " '26',\n",
       " '8',\n",
       " '9',\n",
       " '13',\n",
       " '27',\n",
       " '38',\n",
       " '42',\n",
       " '37']"
      ]
     },
     "execution_count": 19,
     "metadata": {},
     "output_type": "execute_result"
    }
   ],
   "source": [
    "slits = ['37', '42', '38', '27', '13', '9', '8', '26'] \n",
    "slits += slits[::-1]\n",
    "slits"
   ]
  },
  {
   "cell_type": "code",
   "execution_count": 21,
   "metadata": {},
   "outputs": [
    {
     "name": "stdout",
     "output_type": "stream",
     "text": [
      "slit position in mm on mask: [ 4.02636 -5.77259]\n",
      "slit coord in guider local frame: ['0d02m56.3593s -0d07m16.1619s']\n",
      "slit coord in guider pixel frame: [846.06404759  43.78582257]\n",
      "EL: 87.8 arcsec \n",
      "CE: 211.9 arcsec\n",
      "slit position in mm on mask: [ 6.431447 -0.117245]\n",
      "slit coord in guider local frame: ['0d11m06.0857s -0d10m23.2024s']\n",
      "slit coord in guider pixel frame: [1386.77126104 -170.61650828]\n",
      "EL: 331.8 arcsec \n",
      "CE: 302.7 arcsec\n",
      "slit position in mm on mask: [4.334963 3.091563]\n",
      "slit coord in guider local frame: ['0d15m32.8996s -0d07m14.2661s']\n",
      "slit coord in guider pixel frame: [1655.4229569    36.78199493]\n",
      "EL: 464.7 arcsec \n",
      "CE: 211.0 arcsec\n",
      "slit position in mm on mask: [-0.55449  -2.841184]\n",
      "slit coord in guider local frame: ['0d06m51.8901s -0d00m36.3885s']\n",
      "slit coord in guider pixel frame: [1094.7319317   494.52746691]\n",
      "EL: 205.2 arcsec \n",
      "CE: 17.7 arcsec\n",
      "slit position in mm on mask: [-6.6486    4.448872]\n",
      "slit coord in guider local frame: ['0d16m53.9676s 0d08m26.3723s']\n",
      "slit coord in guider pixel frame: [1723.64314093 1055.93578019]\n",
      "EL: 505.1 arcsec \n",
      "CE: -246.0 arcsec\n",
      "slit position in mm on mask: [-8.420053  0.443957]\n",
      "slit coord in guider local frame: ['0d11m06.8695s 0d10m44.8005s']\n",
      "slit coord in guider pixel frame: [1371.99121412 1225.14921698]\n",
      "EL: 332.2 arcsec \n",
      "CE: -313.2 arcsec\n",
      "slit position in mm on mask: [-8.63111  -3.466157]\n",
      "slit coord in guider local frame: ['0d05m32.6891s 0d10m50.5714s']\n",
      "slit coord in guider pixel frame: [1019.55370079 1249.13984006]\n",
      "EL: 165.7 arcsec \n",
      "CE: -316.0 arcsec\n",
      "slit position in mm on mask: [-2.111124 -5.892199]\n",
      "slit coord in guider local frame: ['0d02m26.793s 0d01m26.6417s']\n",
      "slit coord in guider pixel frame: [804.39481559 636.42544825]\n",
      "EL: 73.1 arcsec \n",
      "CE: -42.1 arcsec\n",
      "slit position in mm on mask: [-2.111124 -5.892199]\n",
      "slit coord in guider local frame: ['0d02m26.793s 0d01m26.6417s']\n",
      "slit coord in guider pixel frame: [804.39481559 636.42544825]\n",
      "EL: 73.1 arcsec \n",
      "CE: -42.1 arcsec\n",
      "slit position in mm on mask: [-8.63111  -3.466157]\n",
      "slit coord in guider local frame: ['0d05m32.6891s 0d10m50.5714s']\n",
      "slit coord in guider pixel frame: [1019.55370079 1249.13984006]\n",
      "EL: 165.7 arcsec \n",
      "CE: -316.0 arcsec\n",
      "slit position in mm on mask: [-8.420053  0.443957]\n",
      "slit coord in guider local frame: ['0d11m06.8695s 0d10m44.8005s']\n",
      "slit coord in guider pixel frame: [1371.99121412 1225.14921698]\n",
      "EL: 332.2 arcsec \n",
      "CE: -313.2 arcsec\n",
      "slit position in mm on mask: [-6.6486    4.448872]\n",
      "slit coord in guider local frame: ['0d16m53.9676s 0d08m26.3723s']\n",
      "slit coord in guider pixel frame: [1723.64314093 1055.93578019]\n",
      "EL: 505.1 arcsec \n",
      "CE: -246.0 arcsec\n",
      "slit position in mm on mask: [-0.55449  -2.841184]\n",
      "slit coord in guider local frame: ['0d06m51.8901s -0d00m36.3885s']\n",
      "slit coord in guider pixel frame: [1094.7319317   494.52746691]\n",
      "EL: 205.2 arcsec \n",
      "CE: 17.7 arcsec\n",
      "slit position in mm on mask: [4.334963 3.091563]\n",
      "slit coord in guider local frame: ['0d15m32.8996s -0d07m14.2661s']\n",
      "slit coord in guider pixel frame: [1655.4229569    36.78199493]\n",
      "EL: 464.7 arcsec \n",
      "CE: 211.0 arcsec\n",
      "slit position in mm on mask: [ 6.431447 -0.117245]\n",
      "slit coord in guider local frame: ['0d11m06.0857s -0d10m23.2024s']\n",
      "slit coord in guider pixel frame: [1386.77126104 -170.61650828]\n",
      "EL: 331.8 arcsec \n",
      "CE: 302.7 arcsec\n",
      "slit position in mm on mask: [ 4.02636 -5.77259]\n",
      "slit coord in guider local frame: ['0d02m56.3593s -0d07m16.1619s']\n",
      "slit coord in guider pixel frame: [846.06404759  43.78582257]\n",
      "EL: 87.8 arcsec \n",
      "CE: 211.9 arcsec\n"
     ]
    }
   ],
   "source": [
    "slit_pos = np.zeros((len(slits),2))\n",
    "slit_coord = []\n",
    "slit_coord_pix = np.zeros((len(slits),2))\n",
    "theta_EL = np.zeros(len(slits))\n",
    "theta_CE = np.zeros(len(slits))\n",
    "\n",
    "for i, s in enumerate(slits):\n",
    "    \n",
    "    slit_pos[i] = np.array([F2[F2['Internal-count']==s]['xmm'][0], F2[F2['Internal-count']==s]['ymm'][0]])\n",
    "    print(\"slit position in mm on mask:\", slit_pos[i])\n",
    "    slit_coord.append(G2UVnew.SienceMask2guider(slit_pos[i], angle=True))\n",
    "    print(\"slit coord in guider local frame:\", slit_coord[-1].to_string(u'dms'))\n",
    "    slit_coord_pix[i] = np.array(G2UVnew.SienceMask2guider(slit_pos[i], angle=False)).T\n",
    "    print(\"slit coord in guider pixel frame:\", slit_coord_pix[i])\n",
    "\n",
    "    #frame move\n",
    "    theta_EL[i] =  slit_coord[-1].lon.deg/2./Elg\n",
    "    theta_CE[i] = -slit_coord[-1].lat.deg/2./CEg\n",
    "    print(\"EL: {:.1f} arcsec \\nCE: {:.1f} arcsec\".format(theta_EL[i]*3600, theta_CE[i]*3600))\n",
    "    \n",
    "# compute relative moves\n",
    "moves_EL = theta_EL[1:] - theta_EL[:-1]\n",
    "moves_CE = theta_CE[1:] - theta_CE[:-1]\n"
   ]
  },
  {
   "cell_type": "code",
   "execution_count": 22,
   "metadata": {},
   "outputs": [
    {
     "name": "stdout",
     "output_type": "stream",
     "text": [
      "move:  EL 243.9 arcsec - CE 90.9 arcsec\n",
      "move:  EL 132.9 arcsec - CE -91.8 arcsec\n",
      "move:  EL -259.5 arcsec - CE -193.3 arcsec\n",
      "move:  EL 299.9 arcsec - CE -263.7 arcsec\n",
      "move:  EL -172.9 arcsec - CE -67.2 arcsec\n",
      "move:  EL -166.5 arcsec - CE -2.8 arcsec\n",
      "move:  EL -92.6 arcsec - CE 273.9 arcsec\n",
      "move:  EL 92.6 arcsec - CE -273.9 arcsec\n",
      "move:  EL 166.5 arcsec - CE 2.8 arcsec\n",
      "move:  EL 172.9 arcsec - CE 67.2 arcsec\n",
      "move:  EL -299.9 arcsec - CE 263.7 arcsec\n",
      "move:  EL 259.5 arcsec - CE 193.3 arcsec\n",
      "move:  EL -132.9 arcsec - CE 91.8 arcsec\n",
      "move:  EL -243.9 arcsec - CE -90.9 arcsec\n"
     ]
    }
   ],
   "source": [
    "# remove middle\n",
    "idx = np.arange(len(slits)//2)\n",
    "idx = np.concatenate((idx[:-1], idx[:-1]+len(idx)))\n",
    "for i in idx:\n",
    "    print(\"move:  EL {:.1f} arcsec - CE {:.1f} arcsec\".format(moves_EL[i]*3600, moves_CE[i]*3600))\n"
   ]
  },
  {
   "cell_type": "markdown",
   "metadata": {},
   "source": [
    "observed slits position :"
   ]
  },
  {
   "cell_type": "code",
   "execution_count": null,
   "metadata": {},
   "outputs": [],
   "source": [
    "#slit_coord_obs_det = np.zeros((8,2)) + np.array([1800, 421])\n",
    "\n",
    "#slit_coord_obs_det = np.array([[ 1803 ,  421.2 ],\n",
    "#         [ 1469.6 ,  288.7 ],\n",
    "#         [ 1304.2 , 1347.9 ],\n",
    "#         [ 1619.6 ,  1625.4 ],\n",
    "#         [ 1620 ,  1626.6 ],\n",
    "#\n",
    "#         [ 1304.3 ,  1355.6 ],\n",
    "#         [ 1469.5 ,  288.7 ],\n",
    "#         [ 1802.9 ,  412.5 ]])\n",
    "slit_coord_obs_det"
   ]
  },
  {
   "cell_type": "code",
   "execution_count": null,
   "metadata": {},
   "outputs": [],
   "source": [
    "mask_det_map.map(mask_det_map.w[1], slit_pos[:,0], slit_pos[:, 1]).T + diffuse_offset\n",
    "#direct_map(mask_det_map.w[1], slit_pos[:,0].T, slit_pos[:, 1].T)"
   ]
  },
  {
   "cell_type": "markdown",
   "metadata": {},
   "source": [
    "map on mask :"
   ]
  },
  {
   "cell_type": "code",
   "execution_count": null,
   "metadata": {},
   "outputs": [],
   "source": [
    "slit_coord_obs_wave = 0.20619    \n",
    "\n",
    "#slit_pos_obs = mask_det_map.inv_map(slit_coord_obs_wave, slit_coord_obs_det[:,0], slit_coord_obs_det[:,1]).T\n",
    "slit_pos_obs = inv_map(slit_coord_obs_wave, slit_coord_obs_det[:,0], slit_coord_obs_det[:,1]).T\n",
    "#print(slit_pos_obs - slit_pos)\n",
    "\n",
    "#print(slit_coord_obs_wave)\n",
    "#print(slit_pos_obs)\n"
   ]
  },
  {
   "cell_type": "code",
   "execution_count": null,
   "metadata": {},
   "outputs": [],
   "source": []
  },
  {
   "cell_type": "code",
   "execution_count": null,
   "metadata": {},
   "outputs": [],
   "source": [
    "slit_coord_obs = []\n",
    "slit_coord_obs_pix = np.zeros((len(slits),2))\n",
    "\n",
    "for i, s in enumerate(slits):\n",
    "    \n",
    "    print(\"observed slit position in mm on mask:\", slit_pos_obs[i])\n",
    "    slit_coord_obs.append(G2UVnew.SienceMask2guider(slit_pos_obs[i], angle=True))\n",
    "    print(\"observed slit coord in guider local frame:\", slit_coord_obs[-1].to_string(u'dms'))\n",
    "    slit_coord_obs_pix[i] = np.array(G2UVnew.SienceMask2guider(slit_pos_obs[i], angle=False)).T\n",
    "    print(\"observed slit coord in guider pixel frame:\", slit_coord_obs_pix[i])\n",
    "\n"
   ]
  },
  {
   "cell_type": "markdown",
   "metadata": {},
   "source": [
    "## compute NEW MODEL: orientation, offset & magnification"
   ]
  },
  {
   "cell_type": "code",
   "execution_count": null,
   "metadata": {},
   "outputs": [],
   "source": [
    "slit_coord_F = np.zeros((len(slits),2))\n",
    "slit_coord_obs_F = np.zeros((len(slits),2))\n",
    "\n",
    "for i in range(len(slits)):\n",
    "    \n",
    "    c = G2UVnew.guider_to_FieldLocal(slit_coord[i], angle=True)\n",
    "    slit_coord_F[i] = np.array([ c.lon.deg, c.lat.deg]).T\n",
    "    \n",
    "    c_obs = G2UVnew.guider_to_FieldLocal(slit_coord_obs[i], angle=True)\n",
    "    slit_coord_obs_F[i] = np.array([ c_obs.lon.deg, c_obs.lat.deg]).T\n",
    "\n",
    "    \n",
    "delta = slit_coord_obs_F - slit_coord_F\n",
    "print(delta*3600)\n"
   ]
  },
  {
   "cell_type": "code",
   "execution_count": null,
   "metadata": {},
   "outputs": [],
   "source": [
    "row_x = np.hstack((slit_coord_F*[1.,-1], np.ones((8,1)), np.zeros((8,1)) )) # xn -x = x dgamma - y theta + dx\n",
    "row_y = np.hstack((slit_coord_F[:,::-1], np.zeros((8,1)), np.ones((8,1)) )) # yn - y = x theta - y dgamma \n",
    "mat = np.vstack((row_x, row_y))\n",
    "matinv =  np.linalg.pinv(mat)\n",
    "data = np.concatenate((delta[:,0], delta[:,1]))\n",
    "sol = matinv.dot(data)\n",
    "gama = 1 + sol[0]\n",
    "theta_rad = sol[1]\n",
    "deltax = sol[2]\n",
    "deltay = sol[3]\n",
    "theta = theta_rad*180/np.pi*60 #arcmin\n",
    "print(\"gamma: {}\\ntheta: {} arcmin\\ndx: {} arcsec\\ndy: {} arcsec\".format(gama, theta, deltax*3600, deltay*3600))\n",
    "covar = matinv.dot(matinv.T)\n",
    "# accuracy, assuming 1 arcsec measurement error\n",
    "print(\"variances: {}\\n\".format(np.sqrt(np.diag(covar))/3600*[1, 180/np.pi*60, 3600, 3600])) #\n",
    "#residual\n",
    "data_new = mat.dot(sol) \n",
    "print(\"residuals in arcsec:\", (data_new - data)*3600)"
   ]
  },
  {
   "cell_type": "code",
   "execution_count": null,
   "metadata": {},
   "outputs": [],
   "source": [
    "mask_plate_scale = 42.26134\n",
    "plt.figure()\n",
    "plt.axis('equal')\n",
    "plt.plot(slit_pos[:,0], slit_pos[:,1], 'or')\n",
    "qv = plt.quiver(slit_pos[:,0], slit_pos[:,1], 0., delta[:,0]*mask_plate_scale)\n",
    "plt.quiverkey(qv, .8,.9,.075, \"75 mu\", color='r')\n",
    "plt.xlim([-13, 13])\n",
    "plt.ylim([-7,7])\n",
    "plt.xlabel('x mm')\n",
    "plt.ylabel('y mm')\n",
    "plt.text(-10,7,\"rotation: {:.2f} arcmin\\nmagnification {:.4f}\\ndeltax: {:.4f} arcsec\\ndeltay: {:.4f} arcsec\".format(theta, gama, -deltay*3600, deltax*3600))\n",
    "\n"
   ]
  },
  {
   "cell_type": "code",
   "execution_count": null,
   "metadata": {},
   "outputs": [],
   "source": [
    "sit_pos14_obs_det = np.array([1312.8, 1357.7])\n",
    "slit_pos14_obs = inv_map(slit_coord_obs_wave, sit_pos14_obs_det[0], sit_pos14_obs_det[1]).T\n",
    "print(slit_pos14_obs, slit_pos[2])\n",
    "\n",
    "print(G2UV.FieldP.pix2local(slit_pos[2]))\n",
    "print(G2UV.FieldP.pix2local(slit_pos14_obs))"
   ]
  },
  {
   "cell_type": "code",
   "execution_count": null,
   "metadata": {},
   "outputs": [],
   "source": [
    "G2UVcor  = Guider2UV(guider_wcs=G2UVnew.GuiderP.w, \n",
    "                     Field_center=G2UVnew.FieldP.center, \n",
    "                     Field_rotation=G2UVnew.FieldP.rotation,\n",
    "                     Field_gamma=gama,\n",
    "                     mask_rotation=G2UVnew.mask_rotation + theta*u.arcmin)\n",
    "\n",
    "\n",
    "#deltaFOV = - 1/gama*deltax\n",
    "\n",
    "#G2UVnew  = Guider2UV(guider_wcs=G2UV.GuiderP.w, \n",
    "#                     Field_center=G2UV.FieldP.center, \n",
    "#                     Field_rotation=G2UV.FieldP.rotation,\n",
    "#                     Field_gamma=gama)\n",
    "#                     #mask_rotation=theta*u.arcmin)\n",
    "#\n",
    "#deltaFOV = - deltax\n",
    "\n",
    "newFOVcenter = coordinates.SkyCoord(G2UVnew.FOV_center_guider_coord.lon + deltax*u.deg, \n",
    "                              G2UVnew.FOV_center_guider_coord.lat + deltay*u.deg,\n",
    "                              frame = G2UVnew.GuiderP.localframe)\n",
    "                     \n",
    "G2UVcor.FOV_center_guider_coord = newFOVcenter\n",
    "\n",
    "#G2UVnew.FOV_guider_coord = G2UV.FOV_guider_coord\n"
   ]
  },
  {
   "cell_type": "code",
   "execution_count": null,
   "metadata": {},
   "outputs": [],
   "source": []
  },
  {
   "cell_type": "markdown",
   "metadata": {},
   "source": [
    "## check new model on new slit #??\n",
    "\n",
    "start from last slit #26"
   ]
  },
  {
   "cell_type": "code",
   "execution_count": null,
   "metadata": {},
   "outputs": [],
   "source": [
    "slitcheck = '26'\n",
    "slit_pos5 =   np.array([F2[F2['Internal-count']==slitcheck]['xmm'][0], F2[F2['Internal-count']==slitcheck]['ymm'][0]])\n",
    "\n",
    "print(\"slit position in mm on mask:\", slit_pos5)\n",
    "slit_coord5 = G2UVcor.SienceMask2guider(slit_pos5, angle=True)\n",
    "print(\"slit coord in guider local frame:\", slit_coord5.to_string(u'dms'))\n",
    "slit_coord5_pix = G2UVcor.SienceMask2guider(slit_pos5, angle=False)\n",
    "print(\"slit coord in guider pixel frame:\", slit_coord5_pix)\n",
    "\n",
    "#frame move\n",
    "theta_EL =  (slit_coord5.lon.deg -  slit_coord[0].lon.deg)/2./Elg\n",
    "theta_CE = -(slit_coord5.lat.deg -  slit_coord[0].lat.deg)/2./CEg\n",
    "print(\"EL: {} arcsec \\nCE: {} arcsec\".format(theta_EL*3600, theta_CE*3600))"
   ]
  },
  {
   "cell_type": "markdown",
   "metadata": {},
   "source": [
    "## check new model on known slit #??\n",
    "\n",
    "start from last slit #14"
   ]
  },
  {
   "cell_type": "code",
   "execution_count": null,
   "metadata": {},
   "outputs": [],
   "source": [
    "slits"
   ]
  },
  {
   "cell_type": "code",
   "execution_count": null,
   "metadata": {},
   "outputs": [],
   "source": [
    "slitcheck2 = slits[2]\n",
    "slit_pos6 =   np.array([F2[F2['Internal-count']==slitcheck2]['xmm'][0], F2[F2['Internal-count']==slitcheck2]['ymm'][0]])\n",
    "\n",
    "print(\"slit position in mm on mask:\", slit_pos6)\n",
    "slit_coord6 = G2UVcor.SienceMask2guider(slit_pos6, angle=True)\n",
    "print(\"slit coord in guider local frame:\", slit_coord6.to_string(u'dms'))\n",
    "slit_coord6_pix = G2UVcor.SienceMask2guider(slit_pos6, angle=False)\n",
    "print(\"slit coord in guider pixel frame:\", slit_coord6_pix)\n",
    "\n",
    "#frame move\n",
    "theta_EL =  (slit_coord6.lon.deg -  slit_coord5.lon.deg)/2./Elg\n",
    "theta_CE = -(slit_coord6.lat.deg -  slit_coord5.lat.deg)/2./CEg\n",
    "print(\"EL: {} arcsec \\nCE: {} arcsec\".format(theta_EL*3600, theta_CE*3600))"
   ]
  },
  {
   "cell_type": "markdown",
   "metadata": {},
   "source": [
    "compared observed vs diffuse\n",
    "\n",
    "| wavelength | diffuse   | observed |\n",
    "|------------|-----------|----------|\n",
    "| 0.21382    |           |           \n",
    "| 0.20619    | 1738.31531.2| 1754.3x1574.3\n",
    "| 0.20255    |   |\n"
   ]
  },
  {
   "cell_type": "code",
   "execution_count": null,
   "metadata": {},
   "outputs": [],
   "source": [
    "# compute observed position on mask\n",
    "slit_coord5_obs_det = np.array([1754.3, 1574.3])\n",
    "slit_coord5_obs_wave = 0.20619\n",
    "slit_pos5_obs = mask_det_map.inv_map(slit_coord5_obs_wave, slit_coord5_obs_det[0], slit_coord5_obs_det[1])\n",
    "print(\"observed slit position in mm on mask:\", slit_pos5_obs)\n",
    "slit_coord5_obs = G2UVnew.SienceMask2guider(slit_pos5_obs, angle=True)\n",
    "print(\"observed slit coord in guider local frame:\", slit_coord5_obs.to_string(u'dms'))\n",
    "slit_coord5_obs_pix = G2UVnew.SienceMask2guider(slit_pos5_obs, angle=False)\n",
    "print(\"observed slit coord in guider pixel frame:\", slit_coord5_obs_pix)\n"
   ]
  },
  {
   "cell_type": "markdown",
   "metadata": {},
   "source": [
    "## F2 Star sequence\n",
    "\n",
    "gc - s36 - s40 - s46 - s21\n"
   ]
  },
  {
   "cell_type": "code",
   "execution_count": 24,
   "metadata": {},
   "outputs": [],
   "source": [
    "star_target_path = cloudpath + 'Target_selection/GuidingStars/'\n",
    "F2_stars = Table.read(star_target_path + \"F2_guidingstars.fits\", format='fits')\n",
    "F2_stars_coords = coordinates.SkyCoord(F2_stars['RA']*u.deg, F2_stars['DEC']*u.deg)\n"
   ]
  },
  {
   "cell_type": "markdown",
   "metadata": {},
   "source": [
    "### star s36"
   ]
  },
  {
   "cell_type": "code",
   "execution_count": 25,
   "metadata": {},
   "outputs": [
    {
     "name": "stdout",
     "output_type": "stream",
     "text": [
      "star position Ra/Dec:  <SkyCoord (ICRS): (ra, dec) in deg\n",
      "    [(252.895501, 34.875333)]>\n",
      "Star position in guider local frame:  <SkyCoord (SkyOffsetICRS: rotation=0.0 deg, origin=<ICRS Coordinate: (ra, dec) in deg\n",
      "    (250.39837843, 36.42897653)>): (lon, lat) in deg\n",
      "    [(0.02272687, -0.06864028)]>\n",
      "Star position in guider pixel frame:  [array([734.74174777]), array([259.57792384])]\n",
      "EL: [40.75390833] arcsec \n",
      "CE: [120.03780446] arcsec\n"
     ]
    }
   ],
   "source": [
    "star_pos1_radec = F2_stars_coords[F2_stars['Internal count']==36]\n",
    "print(\"star position Ra/Dec: \", star_pos1_radec)\n",
    "star_coord1 = G2UVnew.SienceMask2guider(star_pos1_radec, world=True, angle=True)\n",
    "print(\"Star position in guider local frame: \", star_coord1)\n",
    "star_coord1_pix = G2UVnew.SienceMask2guider(star_pos1_radec, world=True, angle=False)\n",
    "print(\"Star position in guider pixel frame: \", star_coord1_pix)\n",
    "\n",
    "#frame move\n",
    "theta_EL =  star_coord1.lon.deg/2./Elg\n",
    "theta_CE = -star_coord1.lat.deg/2./CEg\n",
    "print(\"EL: {} arcsec \\nCE: {} arcsec\".format(theta_EL*3600, theta_CE*3600))"
   ]
  },
  {
   "cell_type": "markdown",
   "metadata": {},
   "source": [
    "obs star: 736.5x271.2 736.3x264.0"
   ]
  },
  {
   "cell_type": "markdown",
   "metadata": {},
   "source": [
    "### star s40"
   ]
  },
  {
   "cell_type": "code",
   "execution_count": 9,
   "metadata": {},
   "outputs": [
    {
     "name": "stdout",
     "output_type": "stream",
     "text": [
      "star position Ra/Dec:  <SkyCoord (ICRS): (ra, dec) in deg\n",
      "    [(252.83754, 34.836825)]>\n",
      "Star position in guider local frame:  <SkyCoord (SkyOffsetICRS: rotation=0.0 deg, origin=<ICRS Coordinate: (ra, dec) in deg\n",
      "    (250.39837843, 36.42897653)>): (lon, lat) in deg\n",
      "    [(-0.03364437, -0.08407031)]>\n",
      "Star position in guider pixel frame:  [array([505.29012519]), array([192.79828529])]\n",
      "EL: [-102.51225968] arcsec \n",
      "CE: [38.39916836] arcsec\n"
     ]
    }
   ],
   "source": [
    "star_pos2_radec = F2_stars_coords[F2_stars['Internal count']==40]\n",
    "print(\"star position Ra/Dec: \", star_pos2_radec)\n",
    "star_coord2 = G2UVnew.SienceMask2guider(star_pos2_radec, world=True, angle=True)\n",
    "print(\"Star position in guider local frame: \", star_coord2)\n",
    "star_coord2_pix = G2UVew.SienceMask2guider(star_pos2_radec, world=True, angle=False)\n",
    "print(\"Star position in guider pixel frame: \", star_coord2_pix)\n",
    "\n",
    "#frame move\n",
    "#theta_EL =  star_coord2.lon.deg/2./Elg\n",
    "#theta_CE = -star_coord2.lat.deg/2./CEg\n",
    "#print(\"EL: {} arcsec \\nCE: {} arcsec\".format(theta_EL*3600, theta_CE*3600))\n",
    "\n",
    "theta_EL =  (star_coord2.lon.deg - star_coord1.lon.deg)/2./Elg\n",
    "theta_CE = -(star_coord2.lat.deg - star_coord1.lat.deg)/2./CEg\n",
    "print(\"EL: {} arcsec \\nCE: {} arcsec\".format(theta_EL*3600, theta_CE*3600))"
   ]
  },
  {
   "cell_type": "markdown",
   "metadata": {},
   "source": [
    "obs star: 505.2x176.9 retour 504.8x171.4"
   ]
  },
  {
   "cell_type": "markdown",
   "metadata": {},
   "source": [
    "### star s46"
   ]
  },
  {
   "cell_type": "code",
   "execution_count": 10,
   "metadata": {},
   "outputs": [
    {
     "name": "stdout",
     "output_type": "stream",
     "text": [
      "star position Ra/Dec:  <SkyCoord (ICRS): (ra, dec) in deg\n",
      "    [(252.787662, 34.810634)]>\n",
      "Star position in guider local frame:  <SkyCoord (SkyOffsetICRS: rotation=0.0 deg, origin=<ICRS Coordinate: (ra, dec) in deg\n",
      "    (250.39837843, 36.42897653)>): (lon, lat) in deg\n",
      "    [(-0.08071486, -0.09632337)]>\n",
      "Star position in guider pixel frame:  [array([309.19014692]), array([136.41712945])]\n",
      "EL: [-84.40698687] arcsec \n",
      "CE: [21.42809089] arcsec\n"
     ]
    }
   ],
   "source": [
    "star_pos3_radec = F2_stars_coords[F2_stars['Internal count']==46]\n",
    "print(\"star position Ra/Dec: \", star_pos3_radec)\n",
    "star_coord3 = G2UVnew.SienceMask2guider(star_pos3_radec, world=True, angle=True)\n",
    "print(\"Star position in guider local frame: \", star_coord3)\n",
    "star_coord3_pix = G2UVnew.SienceMask2guider(star_pos3_radec, world=True, angle=False)\n",
    "print(\"Star position in guider pixel frame: \", star_coord3_pix)\n",
    "\n",
    "#frame move\n",
    "#theta_EL =  star_coord2.lon.deg/2./Elg\n",
    "#theta_CE = -star_coord2.lat.deg/2./CEg\n",
    "#print(\"EL: {} arcsec \\nCE: {} arcsec\".format(theta_EL*3600, theta_CE*3600))\n",
    "\n",
    "theta_EL =  (star_coord3.lon.deg - star_coord2.lon.deg)/2./Elg\n",
    "theta_CE = -(star_coord3.lat.deg - star_coord2.lat.deg)/2./CEg\n",
    "print(\"EL: {} arcsec \\nCE: {} arcsec\".format(theta_EL*3600, theta_CE*3600))"
   ]
  },
  {
   "cell_type": "markdown",
   "metadata": {},
   "source": [
    "obs star 307.7x122.7 retour: 307.8x122.5"
   ]
  },
  {
   "cell_type": "markdown",
   "metadata": {},
   "source": [
    "### star s21"
   ]
  },
  {
   "cell_type": "code",
   "execution_count": 11,
   "metadata": {},
   "outputs": [
    {
     "name": "stdout",
     "output_type": "stream",
     "text": [
      "star position Ra/Dec:  <SkyCoord (ICRS): (ra, dec) in deg\n",
      "    [(252.829951, 34.945769)]>\n",
      "Star position in guider local frame:  <SkyCoord (SkyOffsetICRS: rotation=0.0 deg, origin=<ICRS Coordinate: (ra, dec) in deg\n",
      "    (250.39837843, 36.42897653)>): (lon, lat) in deg\n",
      "    [(-0.0058759, 0.02153703)]>\n",
      "Star position in guider pixel frame:  [array([616.35244458]), array([627.49245875])]\n",
      "EL: [134.20150808] arcsec \n",
      "CE: [-206.1136998] arcsec\n"
     ]
    }
   ],
   "source": [
    "star_pos4_radec = F2_stars_coords[F2_stars['Internal count']==21]\n",
    "print(\"star position Ra/Dec: \", star_pos4_radec)\n",
    "star_coord4 = G2UVnew.SienceMask2guider(star_pos4_radec, world=True, angle=True)\n",
    "print(\"Star position in guider local frame: \", star_coord4)\n",
    "star_coord4_pix = G2UVnew.SienceMask2guider(star_pos4_radec, world=True, angle=False)\n",
    "print(\"Star position in guider pixel frame: \", star_coord4_pix)\n",
    "\n",
    "#frame move\n",
    "#theta_EL =  star_coord2.lon.deg/2./Elg\n",
    "#theta_CE = -star_coord2.lat.deg/2./CEg\n",
    "#print(\"EL: {} arcsec \\nCE: {} arcsec\".format(theta_EL*3600, theta_CE*3600))\n",
    "\n",
    "theta_EL =  (star_coord4.lon.deg - star_coord3.lon.deg)/2./Elg\n",
    "theta_CE = -(star_coord4.lat.deg - star_coord3.lat.deg)/2./CEg\n",
    "print(\"EL: {} arcsec \\nCE: {} arcsec\".format(theta_EL*3600, theta_CE*3600))"
   ]
  },
  {
   "cell_type": "markdown",
   "metadata": {},
   "source": [
    "obs star 611.9x600 - retour: 611.5x605.7"
   ]
  },
  {
   "cell_type": "markdown",
   "metadata": {},
   "source": [
    "### back to guider center"
   ]
  },
  {
   "cell_type": "code",
   "execution_count": 12,
   "metadata": {},
   "outputs": [
    {
     "name": "stdout",
     "output_type": "stream",
     "text": [
      "EL: [10.53668082] arcsec \n",
      "CE: [37.66385224] arcsec\n"
     ]
    }
   ],
   "source": [
    "#frame move\n",
    "theta_EL =  (0. - star_coord4.lon.deg)/2./Elg\n",
    "theta_CE = -(0. - star_coord4.lat.deg)/2./CEg\n",
    "print(\"EL: {} arcsec \\nCE: {} arcsec\".format(theta_EL*3600, theta_CE*3600))"
   ]
  }
 ],
 "metadata": {
  "kernelspec": {
   "display_name": "Python 3",
   "language": "python",
   "name": "python3"
  },
  "language_info": {
   "codemirror_mode": {
    "name": "ipython",
    "version": 3
   },
   "file_extension": ".py",
   "mimetype": "text/x-python",
   "name": "python",
   "nbconvert_exporter": "python",
   "pygments_lexer": "ipython3",
   "version": "3.6.4"
  }
 },
 "nbformat": 4,
 "nbformat_minor": 2
}
