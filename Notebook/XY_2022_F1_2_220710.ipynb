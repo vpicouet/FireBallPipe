{
 "cells": [
  {
   "cell_type": "markdown",
   "metadata": {},
   "source": [
    "# XY-calibration (F1)"
   ]
  },
  {
   "cell_type": "code",
   "execution_count": 1,
   "metadata": {},
   "outputs": [
    {
     "name": "stdout",
     "output_type": "stream",
     "text": [
      "/Users/Vincent/Github/FireBallPipe\n"
     ]
    }
   ],
   "source": [
    "cd .."
   ]
  },
  {
   "cell_type": "code",
   "execution_count": 2,
   "metadata": {
    "collapsed": true
   },
   "outputs": [],
   "source": [
    "# %matplotlib widget\n",
    "%load_ext autoreload\n",
    "%autoreload 2\n",
    "\n",
    "import sys\n",
    "import numpy as np\n",
    "from astropy.io import fits\n",
    "from astropy import wcs, coordinates\n",
    "from astropy import units as u\n",
    "from astropy.wcs.utils import proj_plane_pixel_scales\n",
    "from matplotlib import pyplot as plt\n",
    "from astropy.table import Table, vstack \n",
    "import matplotlib.patches as patches\n",
    "import unittest\n",
    "from mpl_interactions import heatmap_slicer\n",
    "import pandas as pd\n",
    "import datetime \n",
    "# os.chdir(os.path.dirname(os.path.realpath(__file__)))\n",
    "sys.path.insert(1, './Calibration')\n",
    "from guider2UV.guider2UV import Guider2UV, diff_skycoord, fit_model, plot_fit\n",
    "from Calibration.mapping import Mapping"
   ]
  },
  {
   "cell_type": "markdown",
   "metadata": {},
   "source": [
    "## initialization from last xy calib\n",
    "---------------------------------"
   ]
  },
  {
   "cell_type": "code",
   "execution_count": 3,
   "metadata": {},
   "outputs": [
    {
     "name": "stdout",
     "output_type": "stream",
     "text": [
      "After calibration of the encoders, El is 0.09283 ''/inc and Ce is 0.01019 ''/inc\n"
     ]
    }
   ],
   "source": [
    "# prerequisites:\n",
    "Field = \"F1\"\n",
    "# previous_xy_mapping = 'Notebook/Files/Guider2UV_%s_nogamma.new.pkl'%(Field)\n",
    "previous_xy_mapping = 'Calibration/Mappings/2022/XY/%s_XY_prep.pkl'%(Field)\n",
    "# mask_det_map_file = \"Calibration/Mappings/2022/mapping-mask-det-w-2022-5-%s_center.pkl\"%(Field)\n",
    "mask_det_map_file = \"Calibration/Mappings/2022/mapping_new_center/mapping-mask-det-w-2022-5-%s_-60.pkl\"%(Field)\n",
    "target_filename = 'Calibration/Targets/2022/targets_%s.txt'%(Field)\n",
    "# mapping_diffuse_image = \"/Users/Vincent/Nextcloud/LAM/FIREBALL/TestsFTS2018-Flight/E2E-AIT-Flight/all_diffuse_illumination/FocusEvolution/%s/%s_2022_6_-82.fits\"%(Field,Field)\n",
    "# new_diffuse_image = \"/Users/Vincent/Nextcloud/LAM/FIREBALL/TestsFTS2018-Flight/E2E-AIT-Flight/all_diffuse_illumination/FocusEvolution/%s/%s_2022_6_-106.fits\"%(Field,Field)\n",
    "# encoder gains 2018:\n",
    "# CEg = 1.02928\n",
    "# Elg = 1.00379\n",
    "# encoder gains 2022:\n",
    "CEg = 1.0187\n",
    "Elg = 1.0090\n",
    "print(\"After calibration of the encoders, El is %0.5f ''/inc and Ce is %0.5f ''/inc\" %(Elg*0.092,CEg*0.01))\n"
   ]
  },
  {
   "cell_type": "code",
   "execution_count": 4,
   "metadata": {
    "scrolled": false
   },
   "outputs": [
    {
     "name": "stdout",
     "output_type": "stream",
     "text": [
      "FOV center angular position in guider <SkyCoord (SkyOffsetICRS: rotation=0.0 deg, origin=<ICRS Coordinate: (ra, dec) in deg\n",
      "    (250.39272815, 36.41856381)>): (lon, lat) in deg\n",
      "    (0.1863709, -0.04835265)>\n",
      "FOV center pixel position in guider [array(1377.23597897), array(352.97093804)]\n",
      "\n",
      "Guider2UV object:\n",
      "    Local Field Projector: \n",
      "ScienceMaskProjector object:\n",
      "    LocalFrame: <SkyOffsetICRS Frame (rotation=-90.0 deg, origin=<ICRS Coordinate: (ra, dec) in deg\n",
      "    (32.19, -5.688)>)>\n",
      "    gamma: 1.0256783356512071\n",
      "\n",
      "    Guider Field Projector: \n",
      "GuiderMaskProjector object:\n",
      "    LocalFrame: <SkyOffsetICRS Frame (rotation=0.0 deg, origin=<ICRS Coordinate: (ra, dec) in deg\n",
      "    (250.39272815, 36.41856381)>)>\n",
      "    wcs: WCS Keywords\n",
      "\n",
      "Number of WCS axes: 2\n",
      "CTYPE : 'RA---TAN-SIP'  'DEC--TAN-SIP'  \n",
      "CRVAL : 250.392728151  36.4185638082  \n",
      "CRPIX : 640.0  540.0  \n",
      "PC1_1 PC1_2  : 1.0  0.0  \n",
      "PC2_1 PC2_2  : 0.0  1.0  \n",
      "CDELT : 0.00024551548564194  0.00024661678545423  \n",
      "NAXIS : 0  0\n",
      "\n",
      "    mask_rotation: -20.55693768087474 arcmin\n",
      "    FOV center in guider: 1377.2359789723296x352.9709380356736 pix\n",
      "\n"
     ]
    }
   ],
   "source": [
    "# load model from previous XY calib \n",
    "G2UV = Guider2UV(filename=previous_xy_mapping)\n",
    "print(G2UV)\n",
    "\n",
    "## eventually reset the guider-scmask rotation to 0 and magnification correction to 0.\n",
    "# G2UV.mask_rotation = 0.0*u.arcmin\n",
    "# G2UV.FieldP.gamma = 1. \n",
    "\n",
    "# if you already know the approx angular distance between guidercenter and FOVcenter, set it:\n",
    "#G2UV.FOV_center_guider_coord = coordinates.SkyCoord(delta_x*u.deg, # x guider axis (x axis in guider local frame, see XYcalib figure)\n",
    "#                                                    delta_y*u.deg, # y guider axis (y axis guider local frame, see XYcalib figure)\n",
    "#                                                    frame = G2UV.GuiderP.localframe)\n",
    "\n",
    "\n",
    "# load targets\n",
    "F1 = Table.read(target_filename, format='ascii')\n",
    "\n",
    "# load mask-UVdetector mappings\n",
    "mask_det_map = Mapping(mask_det_map_file)\n",
    "\n"
   ]
  },
  {
   "cell_type": "markdown",
   "metadata": {},
   "source": [
    "## Alternative initialisation for new fields:\n",
    "---------------------------------------"
   ]
  },
  {
   "cell_type": "code",
   "execution_count": 5,
   "metadata": {
    "scrolled": false
   },
   "outputs": [],
   "source": [
    "\n",
    "# # prerequisites:\n",
    "# previous_xy_mapping = 'Notebook/Files/Guider2UV_F1_nogamma.new.pkl'\n",
    "# mask_det_map_file = \"Calibration/Mappings/2022/mapping-mask-det-w-2022-5-F1.pkl\"\n",
    "# target_filename = 'Calibration/Targets/2022/targets_F1.txt'\n",
    "# mapping_diffuse_image = \"/Users/Vincent/Nextcloud/LAM/FIREBALL/TestsFTS2018-Flight/E2E-AIT-Flight/all_diffuse_illumination/FocusEvolution/F1/F1_2022_6_-82.fits\"\n",
    "# new_diffuse_image = \"/Users/Vincent/Nextcloud/LAM/FIREBALL/TestsFTS2018-Flight/E2E-AIT-Flight/all_diffuse_illumination/FocusEvolution/F1/F1_2022_6_-106.fits\"\n",
    "\n",
    "# f_ra, f_dec, f_rot = 0, 0, 0\n",
    "# Field_center=coordinates.SkyCoord(f_ra * u.deg, f_dec * u.deg)\n",
    "# # get FOVcenter & guider wcs from another field\n",
    "# #  put pkl from a functionning mapping from another field\n",
    "# G2UVother = Guider2UV(filename=previous_xy_mapping)\n",
    "# FOVcenter = G2UVother.FOV_center_guider_coord\n",
    "# guider_wcs = G2UVother.GuiderP.w\n",
    "# G2UV = Guider2UV(Field_center=Field_center,\n",
    "#                  Field_rotation= f_rot * u.deg,\n",
    "#                  Field_gamma=1.0,  # platescale correction (need to update the polynomial in the MaskAstrometry.py)\n",
    "#                  FOVcenter_guider_coord=FOVcenter,\n",
    "#                  guider_wcs = guider_wcs,\n",
    "#                  )\n",
    "                 \n",
    "# FNEW = Table.read(target_filename, format='ascii')\n",
    "# mask_det_map = Mapping(mask_det_map_file)\n",
    "\n",
    "# # print(G2UV)"
   ]
  },
  {
   "cell_type": "markdown",
   "metadata": {},
   "source": [
    "## 1-  Rotate mask carousel\n",
    "## 2- Diffuse UV image"
   ]
  },
  {
   "cell_type": "code",
   "execution_count": 6,
   "metadata": {
    "collapsed": true
   },
   "outputs": [],
   "source": [
    "# data1 = fits.open(mapping_diffuse_image)[0].data[1404:1500,1925:2080]\n",
    "# data2 = fits.open(new_diffuse_image)[0].data[1404:1500,1925:2080]\n",
    "# data1 = (data1-data1.min()) / (data1-data1.min()).ptp()\n",
    "# data2 = (data2-data2.min()) / (data2-data2.min()).ptp()\n",
    "# fig, axes = heatmap_slicer(\n",
    "#     np.arange(data2.shape[1]),\n",
    "#     np.arange(data2.shape[0]),\n",
    "#     (data1, data2),\n",
    "#     slices=\"both\",\n",
    "#     figsize = (8,8),\n",
    "#     heatmap_names=(\"Old diffuse image\", \"Map based diffuse\"),\n",
    "#     labels=(\"Some wild X variable\", \"Y axis\"),\n",
    "#     interaction_type=\"click\")\n",
    "# plt.tight_layout()\n",
    "# plt.show()\n",
    "\n"
   ]
  },
  {
   "cell_type": "markdown",
   "metadata": {},
   "source": [
    "Copy the offset from [this spreadsheet step \"Compute offsets with previous diffuse illumination image\"](https://docs.google.com/spreadsheets/d/19jO0fZ0FL0zZKt8IgJ_DMlZrbCD0VXpYVeulKzXtHzY/edit#gid=0)"
   ]
  },
  {
   "cell_type": "code",
   "execution_count": 7,
   "metadata": {},
   "outputs": [],
   "source": [
    "# This offset in X and Y should be positive if the slit position in tghe new image appears to be shifted towards the top right\n",
    "diffuse_offset = np.array([0,0])\n",
    "G2UV.set_detector_mapping(mask_det_map, offsets = diffuse_offset)\n",
    "direct_map = lambda w, x, y: mask_det_map.map(w, x, y) + diffuse_offset\n",
    "inv_map = lambda w, x, y: mask_det_map.inv_map(w, x - diffuse_offset[0], y - diffuse_offset[1])"
   ]
  },
  {
   "cell_type": "markdown",
   "metadata": {},
   "source": [
    "## 3 - Set guider at best focus          \n",
    "## 4 - Align siderostat frames           \n",
    "## 5 - Go to guider reference            \n",
    "## 6 - Set UV/guider best focus offset   \n",
    "## 7 - Rotate mask carousel              \n",
    "## 8 - Through focus in UV               \n",
    "## 9 - Note open-mask guider ref point   \n",
    "    \n",
    "\n",
    "## 10 - Go through the list of slits      \n",
    "\n",
    "GC - 46 - 51 - 19 - 8 - 12 - 10 - 38 - 43"
   ]
  },
  {
   "cell_type": "code",
   "execution_count": 8,
   "metadata": {},
   "outputs": [
    {
     "data": {
      "image/png": "[encoded data removed]",
      "text/plain": [
       "<Figure size 432x288 with 1 Axes>"
      ]
     },
     "metadata": {
      "needs_background": "light"
     },
     "output_type": "display_data"
    },
    {
     "data": {
      "text/html": [
       "<div><i>Table length=8</i>\n",
       "<table id=\"table140638718766864\" class=\"table-striped table-bordered table-condensed\">\n",
       "<thead><tr><th>Internal-count</th><th>x_mm</th><th>y_mm</th><th>ra</th><th>dec</th><th>ra_diff</th><th>dec_diff</th><th>angular_distance</th></tr></thead>\n",
       "<thead><tr><th>str2</th><th>float64</th><th>float64</th><th>float64</th><th>float64</th><th>float64</th><th>float64</th><th>float64</th></tr></thead>\n",
       "<tr><td>46</td><td>6.7589561</td><td>-3.858979</td><td>32.350896</td><td>-5.779373</td><td>406.150599701095</td><td>-797.6987999999996</td><td>895.1433880440599</td></tr>\n",
       "<tr><td>35</td><td>1.9969477</td><td>5.4999202</td><td>32.2375</td><td>-5.55779</td><td>825.2434234417993</td><td>712.3644000000013</td><td>1090.1787680565526</td></tr>\n",
       "<tr><td>12</td><td>-7.6793793</td><td>-2.8581218</td><td>32.007183</td><td>-5.755669</td><td>-977.1719245924244</td><td>-60.75359999999961</td><td>979.0587163825378</td></tr>\n",
       "<tr><td>38</td><td>3.7831595</td><td>-2.1462593</td><td>32.279995</td><td>-5.738793</td><td>0.0</td><td>0.0</td><td>0.0</td></tr>\n",
       "<tr><td>38</td><td>3.7831595</td><td>-2.1462593</td><td>32.279995</td><td>-5.738793</td><td>977.2008927142359</td><td>60.75359999999961</td><td>979.0876286801196</td></tr>\n",
       "<tr><td>12</td><td>-7.6793793</td><td>-2.8581218</td><td>32.007183</td><td>-5.755669</td><td>-824.9611679704387</td><td>-712.3644000000013</td><td>1089.9651219403822</td></tr>\n",
       "<tr><td>35</td><td>1.9969477</td><td>5.4999202</td><td>32.2375</td><td>-5.55779</td><td>-406.3065394417599</td><td>797.6987999999996</td><td>895.2141528788392</td></tr>\n",
       "<tr><td>46</td><td>6.7589561</td><td>-3.858979</td><td>32.350896</td><td>-5.779373</td><td>0.0</td><td>0.0</td><td>0.0</td></tr>\n",
       "</table></div>"
      ],
      "text/plain": [
       "<Table length=8>\n",
       "Internal-count    x_mm       y_mm    ...      dec_diff       angular_distance \n",
       "     str2       float64    float64   ...      float64            float64      \n",
       "-------------- ---------- ---------- ... ------------------ ------------------\n",
       "            46  6.7589561  -3.858979 ... -797.6987999999996  895.1433880440599\n",
       "            35  1.9969477  5.4999202 ...  712.3644000000013 1090.1787680565526\n",
       "            12 -7.6793793 -2.8581218 ... -60.75359999999961  979.0587163825378\n",
       "            38  3.7831595 -2.1462593 ...                0.0                0.0\n",
       "            38  3.7831595 -2.1462593 ...  60.75359999999961  979.0876286801196\n",
       "            12 -7.6793793 -2.8581218 ... -712.3644000000013 1089.9651219403822\n",
       "            35  1.9969477  5.4999202 ...  797.6987999999996  895.2141528788392\n",
       "            46  6.7589561  -3.858979 ...                0.0                0.0"
      ]
     },
     "execution_count": 8,
     "metadata": {},
     "output_type": "execute_result"
    }
   ],
   "source": [
    "slits = ['46', '51', '14', '8', '12', '16', '38', '44']  #2018\n",
    "slits = ['46', '51', '19', '8', '12', '10', '38', '43']  # 2022 because 44 and 14 are not visible in 213.9. need to bee thought\n",
    "# slits = ['46', \"51\", '35', '12','38']  # 2022 because 44 and 14 are not visible in 213.9. need to bee thought\n",
    "slits = ['46',  '35', '12','38']  # 2022 because 44 and 14 are not visible in 213.9. need to bee thought\n",
    "# mask = F1.to_pandas()['Internal-count'].isin(slits)\n",
    "F1p = F1.to_pandas()\n",
    "from functools import reduce\n",
    "import warnings\n",
    "warnings.simplefilter(action='ignore', category=FutureWarning)\n",
    "\n",
    "# selected_slits = F1[mask.values]['Internal-count',\"x_mm\",\"y_mm\",\"ra\",\"dec\"]\n",
    "selected_slits = Table.from_pandas((reduce(pd.DataFrame.append, map(lambda i: F1p[F1p['Internal-count'] == i],slits))))\n",
    "\n",
    "plt.figure()\n",
    "plt.plot(F1[\"x_mm\"],F1[\"y_mm\"],\"x\")\n",
    "plt.plot(selected_slits[\"x_mm\"],selected_slits[\"y_mm\"],\"-o\")\n",
    "for s in selected_slits:\n",
    "    plt.text(s[\"x_mm\"],s[\"y_mm\"],s[\"Internal-count\"])\n",
    "plt.xlabel(\"x_mm\")\n",
    "plt.xlabel(\"y_mm\")\n",
    "plt.title(slits)\n",
    "plt.show()\n",
    "\n",
    "selected_slits = selected_slits['Internal-count',\"x_mm\",\"y_mm\",\"ra\",\"dec\"]\n",
    "slit_path = vstack((selected_slits,selected_slits[::-1]) )\n",
    "slit_path[\"ra_diff\"] = list((slit_path[\"ra\"][:-1] - slit_path[\"ra\"][1:])*np.cos(slit_path[\"dec\"][:-1]*np.pi/180)) + [0]\n",
    "slit_path[\"dec_diff\"] = list((slit_path[\"dec\"][:-1] - slit_path[\"dec\"][1:])) + [0]\n",
    "# slit_path[\"ra_diff\"] = [0] +list((slit_path[\"ra\"][:-1] - slit_path[\"ra\"][1:])*np.cos(slit_path[\"dec\"][1:]*np.pi/180)) \n",
    "# slit_path[\"dec_diff\"] = [0] + list((slit_path[\"dec\"][:-1] - slit_path[\"dec\"][1:])) \n",
    "\n",
    "slit_path[\"ra_diff\"] *= 3600\n",
    "slit_path[\"dec_diff\"] *= 3600\n",
    "slit_path[\"angular_distance\"] = np.sqrt(slit_path[\"ra_diff\"]** 2 + slit_path[\"dec_diff\"]** 2)\n",
    "try:\n",
    "    slit_path.to_pandas().to_clipboard()\n",
    "except Exception:\n",
    "    pass\n",
    "slit_path\n",
    "\n",
    "\n",
    "# selected_slits"
   ]
  },
  {
   "cell_type": "markdown",
   "metadata": {},
   "source": [
    "The slits table has been copied. Add it to the [slit tab of this spreadsheet](https://docs.google.com/spreadsheets/d/19jO0fZ0FL0zZKt8IgJ_DMlZrbCD0VXpYVeulKzXtHzY/edit#gid=0)"
   ]
  },
  {
   "cell_type": "code",
   "execution_count": 9,
   "metadata": {},
   "outputs": [
    {
     "name": "stdout",
     "output_type": "stream",
     "text": [
      "slit position in mm on mask: [ 6.7589561 -3.858979 ]\n",
      "slit position in mm on mask: [1.9969477 5.4999202]\n",
      "slit position in mm on mask: [-7.6793793 -2.8581218]\n",
      "slit position in mm on mask: [ 3.7831595 -2.1462593]\n",
      "\n",
      "targets local coords in siderostat local frame:\n",
      "EL: 163.5 arcsec ; CE: 374.6 arcsec\n",
      "EL: 570.2 arcsec ; CE: 172.5 arcsec\n",
      "EL: 210.6 arcsec ; CE: -245.0 arcsec\n",
      "EL: 238.5 arcsec ; CE: 247.2 arcsec\n",
      "\n",
      "siderostat moves sequence: \n",
      "(They have been copied to clipboard, paste it in the spreadsheet)\n"
     ]
    },
    {
     "name": "stderr",
     "output_type": "stream",
     "text": [
      "/var/folders/m8/f6l41h_51qxdzrz8p1xqr3f80000gp/T/ipykernel_37849/3688018135.py:21: UserWarning: Boolean Series key will be reindexed to match DataFrame index.\n",
      "  new_cat = hstack((slit_path,Table.from_pandas(a[moves_tab[\"UV_image\"]])[2:]))\n",
      "/var/folders/m8/f6l41h_51qxdzrz8p1xqr3f80000gp/T/ipykernel_37849/3688018135.py:26: RuntimeWarning: divide by zero encountered in true_divide\n",
      "  new_cat[\"frame_divided_sky\"] = new_cat[\"Frame_angular_distance\"] / new_cat[\"angular_distance\"]\n",
      "/var/folders/m8/f6l41h_51qxdzrz8p1xqr3f80000gp/T/ipykernel_37849/3688018135.py:27: RuntimeWarning: divide by zero encountered in true_divide\n",
      "  new_cat[\"EL_dec_ratio\"] =   new_cat[\"El_sky\"] / new_cat[\"dec_diff\"]\n",
      "/var/folders/m8/f6l41h_51qxdzrz8p1xqr3f80000gp/T/ipykernel_37849/3688018135.py:27: RuntimeWarning: invalid value encountered in true_divide\n",
      "  new_cat[\"EL_dec_ratio\"] =   new_cat[\"El_sky\"] / new_cat[\"dec_diff\"]\n",
      "/var/folders/m8/f6l41h_51qxdzrz8p1xqr3f80000gp/T/ipykernel_37849/3688018135.py:28: RuntimeWarning: divide by zero encountered in true_divide\n",
      "  new_cat[\"CE_ra_ratio\"] =   new_cat[\"Cel_sky\"] / new_cat[\"ra_diff\"]\n"
     ]
    },
    {
     "data": {
      "text/html": [
       "<div><i>Table length=8</i>\n",
       "<table id=\"table140638452084064\" class=\"table-striped table-bordered table-condensed\">\n",
       "<thead><tr><th>Internal-count</th><th>x_mm</th><th>y_mm</th><th>ra</th><th>dec</th><th>ra_diff</th><th>dec_diff</th><th>angular_distance</th><th>EL</th><th>CE</th><th>UV_image</th><th>El_sky</th><th>Cel_sky</th><th>Frame_angular_distance</th><th>frame_divided_sky</th><th>EL_dec_ratio</th><th>CE_ra_ratio</th></tr></thead>\n",
       "<thead><tr><th>str2</th><th>float64</th><th>float64</th><th>float64</th><th>float64</th><th>float64</th><th>float64</th><th>float64</th><th>float64</th><th>float64</th><th>bool</th><th>float64</th><th>float64</th><th>float64</th><th>float64</th><th>float64</th><th>float64</th></tr></thead>\n",
       "<tr><td>46</td><td>6.7589561</td><td>-3.858979</td><td>32.350896</td><td>-5.779373</td><td>406.150599701095</td><td>-797.6987999999996</td><td>895.1433880440599</td><td>406.71421322607995</td><td>-202.03234977146386</td><td>True</td><td>820.7492822902293</td><td>-411.62070942438044</td><td>918.1835289346878</td><td>1.0257390505234831</td><td>-1.028896222847809</td><td>-1.0134681808356583</td></tr>\n",
       "<tr><td>35</td><td>1.9969477</td><td>5.4999202</td><td>32.2375</td><td>-5.55779</td><td>825.2434234417993</td><td>712.3644000000013</td><td>1090.1787680565526</td><td>-359.6118932707279</td><td>-417.4809375668328</td><td>True</td><td>-725.6968006203288</td><td>-850.5756621986651</td><td>1118.0853292818392</td><td>1.0255981514619252</td><td>-1.0187157031153262</td><td>-1.0306966866227347</td></tr>\n",
       "<tr><td>12</td><td>-7.6793793</td><td>-2.8581218</td><td>32.007183</td><td>-5.755669</td><td>-977.1719245924244</td><td>-60.75359999999961</td><td>979.0587163825378</td><td>27.94963207472453</td><td>492.1211723769399</td><td>True</td><td>56.4023575267941</td><td>1002.6476766007773</td><td>1004.2328362125575</td><td>1.0257125741375694</td><td>-0.9283788537106354</td><td>-1.026070900490698</td></tr>\n",
       "<tr><td>38</td><td>3.7831595</td><td>-2.1462593</td><td>32.279995</td><td>-5.738793</td><td>0.0</td><td>0.0</td><td>0.0</td><td>0.0</td><td>-30.0</td><td>True</td><td>0.0</td><td>-61.122</td><td>61.122</td><td>inf</td><td>nan</td><td>-inf</td></tr>\n",
       "<tr><td>38</td><td>3.7831595</td><td>-2.1462593</td><td>32.279995</td><td>-5.738793</td><td>977.2008927142359</td><td>60.75359999999961</td><td>979.0876286801196</td><td>0.0</td><td>30.0</td><td>True</td><td>0.0</td><td>61.122</td><td>61.122</td><td>0.062427507211378866</td><td>0.0</td><td>0.0625480394622132</td></tr>\n",
       "<tr><td>12</td><td>-7.6793793</td><td>-2.8581218</td><td>32.007183</td><td>-5.755669</td><td>-824.9611679704387</td><td>-712.3644000000013</td><td>1089.9651219403822</td><td>359.6118932707279</td><td>417.4809375668328</td><td>True</td><td>725.6968006203288</td><td>850.5756621986651</td><td>1118.0853292818392</td><td>1.0257991808869964</td><td>-1.0187157031153262</td><td>-1.0310493332567918</td></tr>\n",
       "<tr><td>35</td><td>1.9969477</td><td>5.4999202</td><td>32.2375</td><td>-5.55779</td><td>-406.3065394417599</td><td>797.6987999999996</td><td>895.2141528788392</td><td>-0.0</td><td>-30.0</td><td>True</td><td>-0.0</td><td>-61.122</td><td>61.122</td><td>0.06827640046065316</td><td>-0.0</td><td>0.15043321745197075</td></tr>\n",
       "<tr><td>46</td><td>6.7589561</td><td>-3.858979</td><td>32.350896</td><td>-5.779373</td><td>0.0</td><td>0.0</td><td>0.0</td><td>-163.49228312620417</td><td>-374.5616953307734</td><td>True</td><td>-329.92742734868</td><td>-763.1319980669176</td><td>831.3979515193217</td><td>inf</td><td>-inf</td><td>-inf</td></tr>\n",
       "</table></div>"
      ],
      "text/plain": [
       "<Table length=8>\n",
       "Internal-count    x_mm       y_mm    ...     EL_dec_ratio        CE_ra_ratio    \n",
       "     str2       float64    float64   ...       float64             float64      \n",
       "-------------- ---------- ---------- ... ------------------- -------------------\n",
       "            46  6.7589561  -3.858979 ...  -1.028896222847809 -1.0134681808356583\n",
       "            35  1.9969477  5.4999202 ... -1.0187157031153262 -1.0306966866227347\n",
       "            12 -7.6793793 -2.8581218 ... -0.9283788537106354  -1.026070900490698\n",
       "            38  3.7831595 -2.1462593 ...                 nan                -inf\n",
       "            38  3.7831595 -2.1462593 ...                 0.0  0.0625480394622132\n",
       "            12 -7.6793793 -2.8581218 ... -1.0187157031153262 -1.0310493332567918\n",
       "            35  1.9969477  5.4999202 ...                -0.0 0.15043321745197075\n",
       "            46  6.7589561  -3.858979 ...                -inf                -inf"
      ]
     },
     "execution_count": 9,
     "metadata": {},
     "output_type": "execute_result"
    }
   ],
   "source": [
    "\n",
    "moves, flags, slit_coords = G2UV.compute_autocoll_moves_slits(slits, F1, hystcomp = True, CEg = CEg, Elg = Elg)\n",
    "moves_tab = pd.DataFrame(np.hstack((moves,flags[:,None])), columns=[\"EL\",\"CE\",\"UV_image\"])#,dtype=[(\"EL\",float),(\"CE\",float),(\"UV_image\",float)])\n",
    "assert moves.sum(axis=0)[0] <0.1\n",
    "assert moves.sum(axis=0)[1] <0.1\n",
    "\n",
    "# slit_path['lon'] = [s.lon.deg*3600 for s in slits_coord]\n",
    "# slit_path['lat'] =  [s.lat.deg*3600 for s in slits_coord]\n",
    "# slit_path\n",
    "print(\"(They have been copied to clipboard, paste it in the spreadsheet)\")\n",
    "moves_tab[\"UV_image\"] = moves_tab[\"UV_image\"].astype(bool)\n",
    "try:\n",
    "    moves_tab.to_clipboard()\n",
    "except Exception:\n",
    "    pass\n",
    "moves_tab \n",
    "# print(len(slit_path),len(moves_tab[moves_tab[\"UV_image\"]]))\n",
    "a = moves_tab[moves_tab[\"UV_image\"]]\n",
    "\n",
    "from astropy.table import hstack \n",
    "# Table.from_pandas(a[moves_tab[\"UV_image\"]])[2:]\n",
    "new_cat = hstack((slit_path,Table.from_pandas(a[moves_tab[\"UV_image\"]])[2:]))\n",
    "\n",
    "new_cat[\"El_sky\"] = new_cat[\"EL\"]  * 2 * Elg \n",
    "new_cat[\"Cel_sky\"] = new_cat[\"CE\"] * 2 * CEg \n",
    "new_cat[\"Frame_angular_distance\"] = np.sqrt(new_cat[\"El_sky\"]**2 + new_cat[\"Cel_sky\"]**2)\n",
    "new_cat[\"frame_divided_sky\"] = new_cat[\"Frame_angular_distance\"] / new_cat[\"angular_distance\"]\n",
    "new_cat[\"EL_dec_ratio\"] =   new_cat[\"El_sky\"] / new_cat[\"dec_diff\"]\n",
    "new_cat[\"CE_ra_ratio\"] =   new_cat[\"Cel_sky\"] / new_cat[\"ra_diff\"]\n",
    "# new_cat\n",
    "new_cat.to_pandas().to_clipboard()\n",
    "new_cat\n",
    "# pd.concat([slit_path.to_pandas(), a[1:-1]], axis=1)\n",
    "# hstack((slit_path,moves_tab[moves_tab[\"UV_image\"]]))"
   ]
  },
  {
   "cell_type": "markdown",
   "metadata": {},
   "source": [
    "The moves has been copied. Add it to the [moves tab of this spreadsheet](https://docs.google.com/spreadsheets/d/19jO0fZ0FL0zZKt8IgJ_DMlZrbCD0VXpYVeulKzXtHzY/edit#gid=0)"
   ]
  },
  {
   "cell_type": "markdown",
   "metadata": {},
   "source": [
    "Copy below the observed slits position from the [slit tab of this spreadsheet](https://docs.google.com/spreadsheets/d/19jO0fZ0FL0zZKt8IgJ_DMlZrbCD0VXpYVeulKzXtHzY/edit#gid=0)"
   ]
  },
  {
   "cell_type": "code",
   "execution_count": 10,
   "metadata": {},
   "outputs": [
    {
     "data": {
      "text/html": [
       "<div><i>Table length=8</i>\n",
       "<table id=\"table140638718766864\" class=\"table-striped table-bordered table-condensed\">\n",
       "<thead><tr><th>Internal-count</th><th>x_mm</th><th>y_mm</th><th>ra</th><th>dec</th><th>ra_diff</th><th>dec_diff</th><th>angular_distance</th><th>x_det_obs</th><th>y_det_obs</th></tr></thead>\n",
       "<thead><tr><th>str2</th><th>float64</th><th>float64</th><th>float64</th><th>float64</th><th>float64</th><th>float64</th><th>float64</th><th>float64</th><th>float64</th></tr></thead>\n",
       "<tr><td>46</td><td>6.7589561</td><td>-3.858979</td><td>32.350896</td><td>-5.779373</td><td>406.150599701095</td><td>-797.6987999999996</td><td>895.1433880440599</td><td>1420.2</td><td>593.9</td></tr>\n",
       "<tr><td>35</td><td>1.9969477</td><td>5.4999202</td><td>32.2375</td><td>-5.55779</td><td>825.2434234417993</td><td>712.3644000000013</td><td>1090.1787680565526</td><td>2039.1</td><td>965.9</td></tr>\n",
       "<tr><td>12</td><td>-7.6793793</td><td>-2.8581218</td><td>32.007183</td><td>-5.755669</td><td>-977.1719245924244</td><td>-60.75359999999961</td><td>979.0587163825378</td><td>1479.7</td><td>1706.4</td></tr>\n",
       "<tr><td>38</td><td>3.7831595</td><td>-2.1462593</td><td>32.279995</td><td>-5.738793</td><td>0.0</td><td>0.0</td><td>0.0</td><td>1530.3</td><td>826.6</td></tr>\n",
       "<tr><td>38</td><td>3.7831595</td><td>-2.1462593</td><td>32.279995</td><td>-5.738793</td><td>977.2008927142359</td><td>60.75359999999961</td><td>979.0876286801196</td><td>1529.5</td><td>825.49511</td></tr>\n",
       "<tr><td>12</td><td>-7.6793793</td><td>-2.8581218</td><td>32.007183</td><td>-5.755669</td><td>-824.9611679704387</td><td>-712.3644000000013</td><td>1089.9651219403822</td><td>1479.4</td><td>1708.3128</td></tr>\n",
       "<tr><td>35</td><td>1.9969477</td><td>5.4999202</td><td>32.2375</td><td>-5.55779</td><td>-406.3065394417599</td><td>797.6987999999996</td><td>895.2141528788392</td><td>2039.4</td><td>966.49409</td></tr>\n",
       "<tr><td>46</td><td>6.7589561</td><td>-3.858979</td><td>32.350896</td><td>-5.779373</td><td>0.0</td><td>0.0</td><td>0.0</td><td>1419.5</td><td>594.50322</td></tr>\n",
       "</table></div>"
      ],
      "text/plain": [
       "<Table length=8>\n",
       "Internal-count    x_mm       y_mm    ...  angular_distance  x_det_obs y_det_obs\n",
       "     str2       float64    float64   ...      float64        float64   float64 \n",
       "-------------- ---------- ---------- ... ------------------ --------- ---------\n",
       "            46  6.7589561  -3.858979 ...  895.1433880440599    1420.2     593.9\n",
       "            35  1.9969477  5.4999202 ... 1090.1787680565526    2039.1     965.9\n",
       "            12 -7.6793793 -2.8581218 ...  979.0587163825378    1479.7    1706.4\n",
       "            38  3.7831595 -2.1462593 ...                0.0    1530.3     826.6\n",
       "            38  3.7831595 -2.1462593 ...  979.0876286801196    1529.5 825.49511\n",
       "            12 -7.6793793 -2.8581218 ... 1089.9651219403822    1479.4 1708.3128\n",
       "            35  1.9969477  5.4999202 ...  895.2141528788392    2039.4 966.49409\n",
       "            46  6.7589561  -3.858979 ...                0.0    1419.5 594.50322"
      ]
     },
     "execution_count": 10,
     "metadata": {},
     "output_type": "execute_result"
    }
   ],
   "source": [
    "slits_coord_obs_det = np.array([\n",
    "[1420.2,593.9\t],\n",
    "# [?     ,?\t],\n",
    "[2039.1,965.9\t],\n",
    "[1479.7,1706.4\t],\n",
    "[1530.3,826.6\t],\n",
    "[1529.5,825.49511\t],\n",
    "[1479.4,1708.3128\t],\n",
    "[2039.4,966.49409\t],\n",
    "# [?     ,\t?\t],\n",
    "[1419.5,594.50322\t]])\n",
    "\n",
    "slit_path[\"x_det_obs\"] = slits_coord_obs_det[:,0]\n",
    "slit_path[\"y_det_obs\"] = slits_coord_obs_det[:,1]\n",
    "#TODO should add difference\n",
    "slit_path\n",
    "# slit_path.write(\"/tmp/slit.csv\",overwrite=True)\n",
    "\n"
   ]
  },
  {
   "cell_type": "code",
   "execution_count": 11,
   "metadata": {},
   "outputs": [
    {
     "data": {
      "image/png": "[encoded data removed]",
      "text/plain": [
       "<Figure size 432x288 with 1 Axes>"
      ]
     },
     "metadata": {
      "needs_background": "light"
     },
     "output_type": "display_data"
    }
   ],
   "source": [
    "# TODO create some quiver of the error\n",
    "plt.figure()\n",
    "plt.plot(F1[\"x_mm\"],F1[\"y_mm\"],\"x\")\n",
    "plt.plot(selected_slits[\"x_mm\"],selected_slits[\"y_mm\"],\"-o\")\n",
    "for s in selected_slits:\n",
    "    plt.text(s[\"x_mm\"],s[\"y_mm\"],s[\"Internal-count\"])\n",
    "plt.quiver(slit_path[\"x_mm\"],slit_path[\"y_mm\"],slit_path[\"x_det_obs\"],slit_path[\"y_det_obs\"])\n",
    "plt.xlabel(\"x_mm\")\n",
    "plt.xlabel(\"y_mm\")\n",
    "plt.title(Field + \" : %s\"%(slits))\n",
    "plt.show()"
   ]
  },
  {
   "cell_type": "code",
   "execution_count": 12,
   "metadata": {},
   "outputs": [
    {
     "name": "stdout",
     "output_type": "stream",
     "text": [
      "wave:  0.20619\n"
     ]
    }
   ],
   "source": [
    "valid = np.isfinite(slits_coord_obs_det[:,0])\n",
    "#valid = np.array([True]*8 + [False]*8)\n",
    "# obs_wave = G2UV.mask_det_map.w[0]\n",
    "try:\n",
    "    obs_wave = G2UV.mask_det_map.w[0]\n",
    "except (TypeError, AttributeError) as e:\n",
    "    obs_wave = 0.2139\n",
    "    obs_wave = 0.20619 #0.2139\n",
    "print(\"wave: \", obs_wave)\n",
    "slits_coord_valid = [slit_coords[i] for i in np.nonzero(valid)[0]]\n",
    "slits_valid = np.array(slits + slits[::-1])[valid]"
   ]
  },
  {
   "cell_type": "markdown",
   "metadata": {},
   "source": [
    "### look at siderostat frame hysteresis "
   ]
  },
  {
   "cell_type": "code",
   "execution_count": 13,
   "metadata": {},
   "outputs": [
    {
     "data": {
      "image/png": "[encoded data removed]",
      "text/plain": [
       "<Figure size 432x288 with 2 Axes>"
      ]
     },
     "metadata": {
      "needs_background": "light"
     },
     "output_type": "display_data"
    }
   ],
   "source": [
    "mid  = len(slits_coord_obs_det)//2\n",
    "pair_diff = slits_coord_obs_det[:mid] - slits_coord_obs_det[::-1][:mid]\n",
    "# pair_diff\n",
    "# fig, (ax0,ax1) = plt.subplots(1,2)\n",
    "# ax0.plot(np.abs(pair_diff[:,0]),'*')\n",
    "# ax0.plot(np.abs(pair_diff[:,0]),'-')\n",
    "# ax0.set_title(\"El pair diff\")\n",
    "# ax0.set_ylabel(\"El arcsec\")\n",
    "# ax1.plot(np.abs(pair_diff[:,1]),'*')\n",
    "# ax1.plot(np.abs(pair_diff[:,1]),'-')\n",
    "# ax1.set_title(\"Ce pair diff\")\n",
    "# ax1.set_ylabel(\"Ce arcsec\")\n",
    "# fig.suptitle(Field + \" : Hysteresis analysis\")\n",
    "# fig.tight_layout()\n",
    "\n",
    "moves_sign  = np.sign(moves[2:mid+2])\n",
    "pair_diff_signed = pair_diff * moves_sign\n",
    "valid = np.arange(len(moves_sign))#[0,2,3,4]\n",
    "fig, (ax0,ax1) = plt.subplots(1,2)\n",
    "ax0.plot(pair_diff_signed[valid,0],'*-')\n",
    "ax0.set_title(\"El pair diff\")\n",
    "ax0.set_ylabel(\"El arcsec\")\n",
    "ax1.plot(pair_diff_signed[valid,1],'*-')\n",
    "ax1.set_title(\"Ce pair diff\")\n",
    "ax1.set_ylabel(\"Ce arcsec\")\n",
    "fig.suptitle(\"Hysteresis analysis\")\n",
    "fig.tight_layout()\n"
   ]
  },
  {
   "cell_type": "markdown",
   "metadata": {},
   "source": [
    "## 11- Note open-mask guider ref point\n",
    "## 12- Update model with observed slit positions"
   ]
  },
  {
   "cell_type": "code",
   "execution_count": 14,
   "metadata": {
    "collapsed": true
   },
   "outputs": [
    {
     "name": "stdout",
     "output_type": "stream",
     "text": [
      "Fitting rotation, translation and magnification\n",
      "gamma: 1.0066292465414992\n",
      "theta: -38.08817906911946 arcmin\n",
      "dx: -2.385843643297827 arcsec\n",
      "dy: -115.59492681107606 arcsec\n",
      "variances: [6.16320729e-04 2.11875459e+00 5.38517430e-01 5.38517430e-01]\n",
      "\n",
      "residuals in arcsec: [[ 2.70799792 -0.41186526]\n",
      " [-1.46909364 -2.97205219]\n",
      " [-0.84219775  0.42359429]\n",
      " [ 0.59415742  1.80271605]\n",
      " [-0.45654265  0.56486038]\n",
      " [-1.26968476  2.60500545]\n",
      " [-1.07586554 -2.29619176]\n",
      " [ 1.81122899  0.28393303]]\n",
      "max residual in EL,CE 2.7, 3.0 arcsec\n",
      "mean residual in EL,CE 1.4, 1.8 arcsec\n"
     ]
    },
    {
     "data": {
      "image/png": "[encoded data removed]",
      "text/plain": [
       "<Figure size 576x288 with 2 Axes>"
      ]
     },
     "metadata": {
      "needs_background": "light"
     },
     "output_type": "display_data"
    }
   ],
   "source": [
    "slits_coord_obs = G2UV.detector2guider(slits_coord_obs_det, wave=obs_wave, angle=True  )\n",
    "weight = np.array( [1.]*16  + [1./(1. + 1e-1)]*16)\n",
    "G2UVcor, residuals = G2UV.update_model(slits_coord_valid, slits_coord_obs, labels=slits_valid, plot=True)\n"
   ]
  },
  {
   "cell_type": "markdown",
   "metadata": {},
   "source": [
    "### save corrected model for future use (eg redo the clalib on same field)"
   ]
  },
  {
   "cell_type": "code",
   "execution_count": 15,
   "metadata": {},
   "outputs": [
    {
     "name": "stdout",
     "output_type": "stream",
     "text": [
      "Dumping to Calibration/Mappings/2022/XY/F1_XY_220714.pkl\n"
     ]
    }
   ],
   "source": [
    "G2UVcor.save(filename=\"Calibration/Mappings/2022/XY/%s_XY_%s.pkl\"%(Field,datetime.datetime.now().strftime(\"%y%m%d\")))"
   ]
  },
  {
   "cell_type": "markdown",
   "metadata": {},
   "source": [
    "## 13 - Rotate carousel to science mask\n",
    "## 14 - Note open-mask guider ref point\n",
    "## 15 - Check corrected model through science mask"
   ]
  },
  {
   "cell_type": "code",
   "execution_count": 28,
   "metadata": {},
   "outputs": [
    {
     "data": {
      "text/plain": [
       "1.0187"
      ]
     },
     "execution_count": 28,
     "metadata": {},
     "output_type": "execute_result"
    }
   ],
   "source": [
    "# moves, flags, slit_coords = G2UVcor.compute_autocoll_moves_slits(slits, F1, hystcomp = True, CEg = CEg/2, Elg = Elg/2)\n",
    "CEg"
   ]
  },
  {
   "cell_type": "code",
   "execution_count": 26,
   "metadata": {},
   "outputs": [
    {
     "name": "stdout",
     "output_type": "stream",
     "text": [
      "slit position in mm on mask: [ 6.7589561 -3.858979 ]\n",
      "slit position in mm on mask: [1.9969477 5.4999202]\n",
      "slit position in mm on mask: [-7.6793793 -2.8581218]\n",
      "slit position in mm on mask: [ 3.7831595 -2.1462593]\n",
      "\n",
      "targets local coords in siderostat local frame:\n",
      "EL: 159.2 arcsec ; CE: 435.6 arcsec\n",
      "EL: 570.9 arcsec ; CE: 236.7 arcsec\n",
      "EL: 213.6 arcsec ; CE: -187.6 arcsec\n",
      "EL: 236.2 arcsec ; CE: 308.2 arcsec\n",
      "\n",
      "siderostat moves sequence: \n",
      "         EL                  CE         UV_image\n",
      "------------------- ------------------- --------\n",
      "                0.0               -30.0      0.0\n",
      "               -0.0                30.0      1.0\n",
      " 159.17142494186535   435.5824518302165      1.0\n",
      "  411.7123620697076 -198.89247504355012      1.0\n",
      "-357.31913572306104  -424.2487289951883      1.0\n",
      " 22.595661305444974   495.7251229379478      1.0\n",
      "               -0.0                30.0      0.0\n",
      "                0.0               -30.0      1.0\n",
      "-22.595661305444974  -525.7251229379478      0.0\n",
      "                0.0                30.0      1.0\n",
      " 357.31913572306104   424.2487289951883      1.0\n",
      " -411.7123620697076  228.89247504355012      0.0\n",
      "               -0.0               -30.0      1.0\n",
      "-159.17142494186535  -435.5824518302165      1.0\n",
      "(They have been copied to clipboard, paste it in the spreadsheet)\n"
     ]
    },
    {
     "name": "stderr",
     "output_type": "stream",
     "text": [
      "/var/folders/m8/f6l41h_51qxdzrz8p1xqr3f80000gp/T/ipykernel_37849/2202393955.py:18: RuntimeWarning: divide by zero encountered in true_divide\n",
      "  new_cat[\"frame_divided_sky\"] = new_cat[\"Frame_angular_distance\"] / new_cat[\"angular_distance\"]\n",
      "/var/folders/m8/f6l41h_51qxdzrz8p1xqr3f80000gp/T/ipykernel_37849/2202393955.py:18: RuntimeWarning: invalid value encountered in true_divide\n",
      "  new_cat[\"frame_divided_sky\"] = new_cat[\"Frame_angular_distance\"] / new_cat[\"angular_distance\"]\n",
      "/var/folders/m8/f6l41h_51qxdzrz8p1xqr3f80000gp/T/ipykernel_37849/2202393955.py:19: RuntimeWarning: divide by zero encountered in true_divide\n",
      "  new_cat[\"EL_dec_ratio\"] =   new_cat[\"El_sky\"] / new_cat[\"dec_diff\"]\n",
      "/var/folders/m8/f6l41h_51qxdzrz8p1xqr3f80000gp/T/ipykernel_37849/2202393955.py:19: RuntimeWarning: invalid value encountered in true_divide\n",
      "  new_cat[\"EL_dec_ratio\"] =   new_cat[\"El_sky\"] / new_cat[\"dec_diff\"]\n",
      "/var/folders/m8/f6l41h_51qxdzrz8p1xqr3f80000gp/T/ipykernel_37849/2202393955.py:20: RuntimeWarning: invalid value encountered in true_divide\n",
      "  new_cat[\"CE_ra_ratio\"] =   new_cat[\"Cel_sky\"] / new_cat[\"ra_diff\"]\n"
     ]
    },
    {
     "data": {
      "text/html": [
       "<div><i>Table length=8</i>\n",
       "<table id=\"table140638994009920\" class=\"table-striped table-bordered table-condensed\">\n",
       "<thead><tr><th>ra_diff</th><th>dec_diff</th><th>EL_moves</th><th>CE_moves</th><th>El_sky</th><th>Cel_sky</th><th>frame_divided_sky</th><th>EL_dec_ratio</th><th>CE_ra_ratio</th></tr></thead>\n",
       "<thead><tr><th>float64</th><th>float64</th><th>float64</th><th>float64</th><th>float64</th><th>float64</th><th>float64</th><th>float64</th><th>float64</th></tr></thead>\n",
       "<tr><td>406.150599701095</td><td>-797.6987999999996</td><td>411.71236206970764</td><td>-198.89247504355012</td><td>830.83554665667</td><td>-405.223528653729</td><td>1.0326706962247094</td><td>-1.0415404243514852</td><td>-0.9977174204641128</td></tr>\n",
       "<tr><td>825.2434234417993</td><td>712.3644000000013</td><td>-357.31913572306104</td><td>-424.2487289951883</td><td>-721.0700158891372</td><td>-864.3643604547966</td><td>1.032528845008387</td><td>-1.0122207340641052</td><td>-1.047405330235578</td></tr>\n",
       "<tr><td>-977.1719245924244</td><td>-60.75359999999961</td><td>22.595661305444963</td><td>495.7251229379478</td><td>45.59804451438793</td><td>1009.9903654737748</td><td>1.0326440409191107</td><td>-0.7505406184059582</td><td>-1.0335851246391865</td></tr>\n",
       "<tr><td>0.0</td><td>0.0</td><td>2.842170943040401e-14</td><td>0.0</td><td>5.735500963055528e-14</td><td>0.0</td><td>inf</td><td>inf</td><td>nan</td></tr>\n",
       "<tr><td>977.2008927142359</td><td>60.75359999999961</td><td>-22.595661305444963</td><td>-495.72512293794784</td><td>-45.59804451438793</td><td>-1009.9903654737749</td><td>1.0326135471094327</td><td>-0.7505406184059582</td><td>-1.0335544850644418</td></tr>\n",
       "<tr><td>-824.9611679704387</td><td>-712.3644000000013</td><td>357.319135723061</td><td>424.2487289951883</td><td>721.070015889137</td><td>864.3643604547966</td><td>1.032731232931752</td><td>-1.012220734064105</td><td>-1.0477636936309345</td></tr>\n",
       "<tr><td>-406.3065394417599</td><td>797.6987999999996</td><td>-411.7123620697076</td><td>198.89247504355012</td><td>-830.8355466566699</td><td>405.223528653729</td><td>1.0325890657333183</td><td>-1.041540424351485</td><td>-0.9973344982595679</td></tr>\n",
       "<tr><td>0.0</td><td>0.0</td><td>0.0</td><td>0.0</td><td>0.0</td><td>0.0</td><td>nan</td><td>nan</td><td>nan</td></tr>\n",
       "</table></div>"
      ],
      "text/plain": [
       "<Table length=8>\n",
       "     ra_diff            dec_diff      ...     CE_ra_ratio    \n",
       "     float64            float64       ...       float64      \n",
       "------------------ ------------------ ... -------------------\n",
       "  406.150599701095 -797.6987999999996 ... -0.9977174204641128\n",
       " 825.2434234417993  712.3644000000013 ...  -1.047405330235578\n",
       "-977.1719245924244 -60.75359999999961 ... -1.0335851246391865\n",
       "               0.0                0.0 ...                 nan\n",
       " 977.2008927142359  60.75359999999961 ... -1.0335544850644418\n",
       "-824.9611679704387 -712.3644000000013 ... -1.0477636936309345\n",
       "-406.3065394417599  797.6987999999996 ... -0.9973344982595679\n",
       "               0.0                0.0 ...                 nan"
      ]
     },
     "execution_count": 26,
     "metadata": {},
     "output_type": "execute_result"
    }
   ],
   "source": [
    "moves, flags, slit_coords = G2UVcor.compute_autocoll_moves_slits(slits, F1, hystcomp = True, CEg = CEg, Elg = Elg)\n",
    "moves = Table.from_pandas(pd.DataFrame(np.hstack((moves,flags[:,None])), columns=[\"EL\",\"CE\",\"UV_image\"]))\n",
    "print(moves)\n",
    "print(\"(They have been copied to clipboard, paste it in the spreadsheet)\")\n",
    "moves[\"EL_abs\"] =  [np.sum(moves[\"EL\"][:i+1]) for i in range(len(moves))]\n",
    "moves[\"CE_abs\"] = [np.sum(moves[\"CE\"][:i+1]) for i in range(len(moves))]\n",
    "moves[\"UV_image\"] = moves[\"UV_image\"].astype(bool)\n",
    "new_cat = hstack((slit_path,moves[moves[\"UV_image\"]][1:-1]))\n",
    "new_cat\n",
    "new_cat[\"EL_moves\"] =  list(new_cat[\"EL_abs\"][1:] - new_cat[\"EL_abs\"][:-1]) +  [0]\n",
    "new_cat[\"CE_moves\"] =  list(new_cat[\"CE_abs\"][1:] - new_cat[\"CE_abs\"][:-1]) +  [0]\n",
    "\n",
    "\n",
    "\n",
    "new_cat[\"El_sky\"] = new_cat[\"EL_moves\"]  * 2 * Elg \n",
    "new_cat[\"Cel_sky\"] = new_cat[\"CE_moves\"] * 2 * CEg \n",
    "new_cat[\"Frame_angular_distance\"] = np.sqrt(new_cat[\"El_sky\"]**2 + new_cat[\"Cel_sky\"]**2)\n",
    "new_cat[\"frame_divided_sky\"] = new_cat[\"Frame_angular_distance\"] / new_cat[\"angular_distance\"]\n",
    "new_cat[\"EL_dec_ratio\"] =   new_cat[\"El_sky\"] / new_cat[\"dec_diff\"]\n",
    "new_cat[\"CE_ra_ratio\"] =   new_cat[\"Cel_sky\"] / new_cat[\"ra_diff\"]\n",
    "# new_cat\n",
    "new_cat.to_pandas().to_clipboard()\n",
    "new_cat[\"ra_diff\",\"dec_diff\",\"EL_moves\",\"CE_moves\",\"El_sky\",\"Cel_sky\",\"frame_divided_sky\",\"EL_dec_ratio\",\"CE_ra_ratio\"]"
   ]
  },
  {
   "cell_type": "code",
   "execution_count": null,
   "metadata": {},
   "outputs": [],
   "source": []
  },
  {
   "cell_type": "code",
   "execution_count": null,
   "metadata": {},
   "outputs": [],
   "source": []
  },
  {
   "cell_type": "markdown",
   "metadata": {},
   "source": [
    "The moves has been copied. Add it to the [moves tab of this spreadsheet](https://docs.google.com/spreadsheets/d/19jO0fZ0FL0zZKt8IgJ_DMlZrbCD0VXpYVeulKzXtHzY/edit#gid=0)"
   ]
  },
  {
   "cell_type": "markdown",
   "metadata": {},
   "source": [
    "\n",
    "## 16 - Note science-mask guider ref point\n",
    "## 17 - Go through the Star sequence \n",
    "gc - s8 - s25 - s31"
   ]
  },
  {
   "cell_type": "code",
   "execution_count": 19,
   "metadata": {},
   "outputs": [
    {
     "name": "stdout",
     "output_type": "stream",
     "text": [
      "\n",
      "targets local coords in siderostat local frame:\n",
      "EL: 167.5 arcsec ; CE: -64.9 arcsec\n",
      "EL: 184.1 arcsec ; CE: 144.1 arcsec\n",
      "EL: 114.3 arcsec ; CE: 201.2 arcsec\n",
      "\n",
      "siderostat moves sequence: \n",
      "(They have been copied to clipboard, paste it in the spreadsheet)\n"
     ]
    },
    {
     "data": {
      "text/html": [
       "<div>\n",
       "<style scoped>\n",
       "    .dataframe tbody tr th:only-of-type {\n",
       "        vertical-align: middle;\n",
       "    }\n",
       "\n",
       "    .dataframe tbody tr th {\n",
       "        vertical-align: top;\n",
       "    }\n",
       "\n",
       "    .dataframe thead th {\n",
       "        text-align: right;\n",
       "    }\n",
       "</style>\n",
       "<table border=\"1\" class=\"dataframe\">\n",
       "  <thead>\n",
       "    <tr style=\"text-align: right;\">\n",
       "      <th></th>\n",
       "      <th>EL</th>\n",
       "      <th>CE</th>\n",
       "      <th>Image</th>\n",
       "    </tr>\n",
       "  </thead>\n",
       "  <tbody>\n",
       "    <tr>\n",
       "      <th>0</th>\n",
       "      <td>-0.000000</td>\n",
       "      <td>30.000000</td>\n",
       "      <td>0.0</td>\n",
       "    </tr>\n",
       "    <tr>\n",
       "      <th>1</th>\n",
       "      <td>0.000000</td>\n",
       "      <td>-30.000000</td>\n",
       "      <td>1.0</td>\n",
       "    </tr>\n",
       "    <tr>\n",
       "      <th>2</th>\n",
       "      <td>167.477933</td>\n",
       "      <td>-64.941810</td>\n",
       "      <td>1.0</td>\n",
       "    </tr>\n",
       "    <tr>\n",
       "      <th>3</th>\n",
       "      <td>16.627607</td>\n",
       "      <td>209.052352</td>\n",
       "      <td>1.0</td>\n",
       "    </tr>\n",
       "    <tr>\n",
       "      <th>4</th>\n",
       "      <td>-69.853718</td>\n",
       "      <td>57.056060</td>\n",
       "      <td>1.0</td>\n",
       "    </tr>\n",
       "    <tr>\n",
       "      <th>5</th>\n",
       "      <td>-0.000000</td>\n",
       "      <td>30.000000</td>\n",
       "      <td>0.0</td>\n",
       "    </tr>\n",
       "    <tr>\n",
       "      <th>6</th>\n",
       "      <td>0.000000</td>\n",
       "      <td>-30.000000</td>\n",
       "      <td>1.0</td>\n",
       "    </tr>\n",
       "    <tr>\n",
       "      <th>7</th>\n",
       "      <td>69.853718</td>\n",
       "      <td>-57.056060</td>\n",
       "      <td>1.0</td>\n",
       "    </tr>\n",
       "    <tr>\n",
       "      <th>8</th>\n",
       "      <td>-16.627607</td>\n",
       "      <td>-239.052352</td>\n",
       "      <td>0.0</td>\n",
       "    </tr>\n",
       "    <tr>\n",
       "      <th>9</th>\n",
       "      <td>0.000000</td>\n",
       "      <td>30.000000</td>\n",
       "      <td>1.0</td>\n",
       "    </tr>\n",
       "    <tr>\n",
       "      <th>10</th>\n",
       "      <td>-167.477933</td>\n",
       "      <td>64.941810</td>\n",
       "      <td>1.0</td>\n",
       "    </tr>\n",
       "  </tbody>\n",
       "</table>\n",
       "</div>"
      ],
      "text/plain": [
       "            EL          CE  Image\n",
       "0    -0.000000   30.000000    0.0\n",
       "1     0.000000  -30.000000    1.0\n",
       "2   167.477933  -64.941810    1.0\n",
       "3    16.627607  209.052352    1.0\n",
       "4   -69.853718   57.056060    1.0\n",
       "5    -0.000000   30.000000    0.0\n",
       "6     0.000000  -30.000000    1.0\n",
       "7    69.853718  -57.056060    1.0\n",
       "8   -16.627607 -239.052352    0.0\n",
       "9     0.000000   30.000000    1.0\n",
       "10 -167.477933   64.941810    1.0"
      ]
     },
     "execution_count": 19,
     "metadata": {},
     "output_type": "execute_result"
    }
   ],
   "source": [
    "star_target_path = \"Calibration/Targets/2022/GuidingStars/F1_guidingstars.fits\"\n",
    "\n",
    "F1_stars = Table.read(star_target_path, format='fits').to_pandas()\n",
    "\n",
    "stars = [8, 25, 31]\n",
    "selected_stars = Table.from_pandas((reduce(pd.DataFrame.append, map(lambda i: F1_stars[F1_stars['Internal count'] == i],stars))))\n",
    "\n",
    "star_moves, flags, stars_coord = G2UVcor.compute_autocoll_move_stars(stars, F1_stars, hystcomp = True, CEg = CEg, Elg = Elg)\n",
    "star_moves = pd.DataFrame(np.hstack((star_moves,flags[:,None])), columns=[\"EL\",\"CE\",\"Image\"])\n",
    "\n",
    "stars_path = vstack((selected_stars,selected_stars[::-1]) )\n",
    "selected_stars['lon'] = [s.lon.deg*3600 for s in stars_coord]\n",
    "selected_stars['lat'] =  [s.lat.deg*3600 for s in stars_coord]\n",
    "print(\"(They have been copied to clipboard, paste it in the spreadsheet)\")\n",
    "star_moves.to_clipboard()\n",
    "star_moves\n",
    "\n"
   ]
  },
  {
   "cell_type": "markdown",
   "metadata": {},
   "source": [
    "The moves has been copied. Add it to the [moves tab of this spreadsheet](https://docs.google.com/spreadsheets/d/19jO0fZ0FL0zZKt8IgJ_DMlZrbCD0VXpYVeulKzXtHzY/edit#gid=0)"
   ]
  },
  {
   "cell_type": "code",
   "execution_count": 20,
   "metadata": {},
   "outputs": [
    {
     "data": {
      "text/html": [
       "<div><i>Table length=4</i>\n",
       "<table id=\"table140407320646272\" class=\"table-striped table-bordered table-condensed\">\n",
       "<thead><tr><th>Internal count</th><th>RA</th><th>DEC</th><th>X</th><th>Y</th><th>GAIA gband</th><th>SDSS gband</th><th>SDSS rband</th><th>Xguider</th><th>Yguider</th></tr></thead>\n",
       "<thead><tr><th>int64</th><th>float64</th><th>float64</th><th>float64</th><th>float64</th><th>int64</th><th>int64</th><th>int64</th><th>float64</th><th>float64</th></tr></thead>\n",
       "<tr><td>8</td><td>32.1014</td><td>-5.786504</td><td>-3.751016</td><td>-4.191964</td><td>11</td><td>11</td><td>11</td><td>954.7166340246686</td><td>952.1343510310977</td></tr>\n",
       "<tr><td>25</td><td>32.221491</td><td>-5.776507</td><td>1.333233</td><td>-3.766303</td><td>9</td><td>--</td><td>--</td><td>990.2173692400569</td><td>476.91827039575276</td></tr>\n",
       "<tr><td>31</td><td>32.254526</td><td>-5.815258</td><td>2.731668</td><td>-5.415391</td><td>--</td><td>12</td><td>12</td><td>836.6074480025399</td><td>344.4301880821129</td></tr>\n",
       "<tr><td>-99</td><td>-99.0</td><td>-99.0</td><td>640.0</td><td>540.0</td><td>-99</td><td>-99</td><td>-99</td><td>-99.0</td><td>-99.0</td></tr>\n",
       "</table></div>"
      ],
      "text/plain": [
       "<Table length=4>\n",
       "Internal count     RA       DEC    ...      Xguider           Yguider      \n",
       "    int64       float64   float64  ...      float64           float64      \n",
       "-------------- --------- --------- ... ----------------- ------------------\n",
       "             8   32.1014 -5.786504 ... 954.7166340246686  952.1343510310977\n",
       "            25 32.221491 -5.776507 ... 990.2173692400569 476.91827039575276\n",
       "            31 32.254526 -5.815258 ... 836.6074480025399  344.4301880821129\n",
       "           -99     -99.0     -99.0 ...             -99.0              -99.0"
      ]
     },
     "execution_count": 20,
     "metadata": {},
     "output_type": "execute_result"
    }
   ],
   "source": [
    "selection = selected_stars['Internal count',\n",
    " 'RA',\n",
    " 'DEC',\n",
    " 'X',\n",
    " 'Y',\n",
    " 'GAIA gband',\n",
    " 'SDSS gband',\n",
    " 'SDSS rband',\n",
    " 'Xguider',\n",
    " 'Yguider']\n",
    "# selection=vstack((selection,selection[::-1]))\n",
    "selection.add_row([\"-99\",-99,-99,640,540,-99,-99,-99,-99,-99])\n",
    "selection.to_pandas().to_clipboard()\n",
    "selection"
   ]
  },
  {
   "cell_type": "markdown",
   "metadata": {},
   "source": [
    "The stars table has been copied. Add it to the [stars tab of this spreadsheet](https://docs.google.com/spreadsheets/d/19jO0fZ0FL0zZKt8IgJ_DMlZrbCD0VXpYVeulKzXtHzY/edit#gid=0)"
   ]
  },
  {
   "cell_type": "markdown",
   "metadata": {},
   "source": [
    "\n",
    "## 18 - Through focus guide star 1\n",
    "## 19 - Track mask to guider changes\n",
    "------------------------------------------------------"
   ]
  },
  {
   "cell_type": "code",
   "execution_count": null,
   "metadata": {},
   "outputs": [],
   "source": []
  },
  {
   "cell_type": "code",
   "execution_count": null,
   "metadata": {},
   "outputs": [],
   "source": [
    "gal = Table.read(\"/Users/Vincent/Github/FireBallPipe/Calibration/Targets/2022/targets_F1.txt\")\n",
    "plt.figure()\n",
    "for gali in gal:    \n",
    "    plt.plot(gal[\"\"])"
   ]
  }
 ],
 "metadata": {
  "kernelspec": {
   "display_name": "Python 3.8.13 ('py38')",
   "language": "python",
   "name": "python3"
  },
  "language_info": {
   "codemirror_mode": {
    "name": "ipython",
    "version": 3
   },
   "file_extension": ".py",
   "mimetype": "text/x-python",
   "name": "python",
   "nbconvert_exporter": "python",
   "pygments_lexer": "ipython3",
   "version": "3.8.13"
  },
  "vscode": {
   "interpreter": {
    "hash": "6429251b47eee9d8b9b4d9852116ca976e0b69b141b5bab3b174d6f3c07282ea"
   }
  }
 },
 "nbformat": 4,
 "nbformat_minor": 2
}
