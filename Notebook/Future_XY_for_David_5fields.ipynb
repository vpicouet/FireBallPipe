{
 "cells": [
  {
   "cell_type": "markdown",
   "metadata": {},
   "source": [
    "# XY-calibration (All fields possible depending on initialization)"
   ]
  },
  {
   "cell_type": "code",
   "execution_count": 1,
   "metadata": {},
   "outputs": [
    {
     "name": "stdout",
     "output_type": "stream",
     "text": [
      "/Users/Vincent/Github/FireBallPipe\n"
     ]
    }
   ],
   "source": [
    "cd .."
   ]
  },
  {
   "cell_type": "markdown",
   "metadata": {},
   "source": [
    "\n",
    "| #  | Name                               | Done                     |       Comment               |\n",
    "|----|------------------------------------|--------------------------|-----------------------------|\n",
    "| 1  | Have a mask-detector mapping       | <input type=\"checkbox\">  |  And send region file to zeren |\n",
    "| 2  | Use the previous XY mapping        | <input type=\"checkbox\">  | of the same mask, if never done do a new one   |\n",
    "| 2.a  |Add mask rotation for F2       | <input type=\"checkbox\">  |                             |\n",
    "| 3  | Reset magnification/offset/angle   | <input type=\"checkbox\">  |                             |\n",
    "| 4  | Be sure of the slits path          | <input type=\"checkbox\">  |  Use only regular slits, big moves, do not use slits that are seen with one line or in shadow   |\n",
    "| 4.a  | Decide to use or not hysteresis compensation          | <input type=\"checkbox\">  |  Adds ~1h in total + slight code complexity but might improve results by <1''  |\n",
    "| 5  | Account from Zeren offset          | <input type=\"checkbox\">  |                             |\n",
    "| 6  | Add slits path in google drive     | <input type=\"checkbox\">  |                             |\n",
    "| 7  | Add CNES moves to google drive     | <input type=\"checkbox\">  |                             |\n"
   ]
  },
  {
   "cell_type": "code",
   "execution_count": 2,
   "metadata": {
    "collapsed": true
   },
   "outputs": [
    {
     "name": "stdout",
     "output_type": "stream",
     "text": [
      "After calibration of the encoders, El is 0.09283 ''/inc and Ce is 0.01019 ''/inc\n"
     ]
    }
   ],
   "source": [
    "# %matplotlib widget\n",
    "%load_ext autoreload\n",
    "%autoreload 2\n",
    "\n",
    "import sys\n",
    "import numpy as np\n",
    "from astropy.io import fits\n",
    "from astropy import wcs, coordinates\n",
    "from astropy import units as u\n",
    "from astropy.wcs.utils import proj_plane_pixel_scales\n",
    "from matplotlib import pyplot as plt\n",
    "from astropy.table import Table, vstack \n",
    "import matplotlib.patches as patches\n",
    "import unittest\n",
    "from mpl_interactions import heatmap_slicer\n",
    "import pandas as pd\n",
    "import datetime \n",
    "\n",
    "sys.path.insert(1, './Calibration')\n",
    "from guider2UV.guider2UV import Guider2UV, diff_skycoord, fit_model, plot_fit\n",
    "from guider2UV.MaskAstrometry import LocalScienceMaskProjector\n",
    "from Calibration.mapping import Mapping\n",
    "\n",
    "# encoder gains 2022:\n",
    "CEg = 1.0187 # CEg = 1.02928 # 2018\n",
    "Elg = 1.0090 # Elg = 1.00379 # 2018\n",
    "print(\"After calibration of the encoders, El is %0.5f ''/inc and Ce is %0.5f ''/inc\" %(Elg*0.092,CEg*0.01))\n"
   ]
  },
  {
   "cell_type": "markdown",
   "metadata": {},
   "source": [
    "# QSO"
   ]
  },
  {
   "cell_type": "code",
   "execution_count": 22,
   "metadata": {},
   "outputs": [],
   "source": [
    "# prerequisites:\n",
    "Field = \"QSO\"\n",
    "previous_xy_mapping = \"Calibration/Mappings/2022/XY/QSO1_XY_220718.pkl\"\n",
    "mask_det_map_file = \"Calibration/Mappings/2022/mask_to_det_mapping/mapping-mask-det-w-2022-5-QSO_-100.5.pkl\"\n",
    "save_filename = \"Calibration/Mappings/2022/XY/QSO_XY_%s.pkl\"%(datetime.datetime.now().strftime(\"%y%m%d\"))\n",
    "slits =['17', '6', '14', '1', '16', '7',\"10\",\"0\",\"16\"]\n",
    "stars = [2, 4, 5, 6, 7]"
   ]
  },
  {
   "cell_type": "markdown",
   "metadata": {},
   "source": [
    "# F1"
   ]
  },
  {
   "cell_type": "code",
   "execution_count": 35,
   "metadata": {},
   "outputs": [],
   "source": [
    "# prerequisites:\n",
    "Field = \"F1\"\n",
    "previous_xy_mapping = \"Calibration/Mappings/2022/XY/F1_XY_220716.pkl\"\n",
    "mask_det_map_file = \"Calibration/Mappings/2022/mask_to_det_mapping/mapping-mask-det-w-2022-5-F1_-60.pkl\"\n",
    "save_filename = \"Calibration/Mappings/2022/XY/F1_XY_%s.pkl\"%(datetime.datetime.now().strftime(\"%y%m%d\"))\n",
    "slits = ['46',  '35', '12','38']  # you should use more slits and with 206 line. These slits are only when we see 214\n",
    "stars = [8, 25, 31]\n"
   ]
  },
  {
   "cell_type": "markdown",
   "metadata": {},
   "source": [
    "# F2"
   ]
  },
  {
   "cell_type": "code",
   "execution_count": 37,
   "metadata": {},
   "outputs": [],
   "source": [
    "# prerequisites:\n",
    "Field = \"F2\"\n",
    "previous_xy_mapping = \"Calibration/Mappings/2022/XY/F2_XY_220718.pkl\"\n",
    "mask_det_map_file = \"Calibration/Mappings/2022/mask_to_det_mapping/mapping-mask-det-w-2022-5-F2_21.pkl\"\n",
    "save_filename = \"Calibration/Mappings/2022/XY/F2_XY_%s.pkl\"%(datetime.datetime.now().strftime(\"%y%m%d\"))\n",
    "slits =['3', '22','11', '20', '16', '18', '10', '5',\"0\"]\n",
    "stars =[36, 40, 46, 21 ]\n"
   ]
  },
  {
   "cell_type": "markdown",
   "metadata": {},
   "source": [
    "# F3"
   ]
  },
  {
   "cell_type": "code",
   "execution_count": 39,
   "metadata": {},
   "outputs": [],
   "source": [
    "# prerequisites:\n",
    "Field = \"F3\"\n",
    "previous_xy_mapping = \"Calibration/Mappings/2022/XY/F3_XY_220717.pkl\"\n",
    "mask_det_map_file = \"Calibration/Mappings/2022/mask_to_det_mapping/mapping-mask-det-w-2022-5-F3_60.pkl\"\n",
    "save_filename = \"Calibration/Mappings/2022/XY/F3_XY_%s.pkl\"%(datetime.datetime.now().strftime(\"%y%m%d\"))\n",
    "slits =['4', '13', '22', '12', '6', '23',\"5\",\"20\",\"10\"] # with 206\n",
    "stars = [20, 5, 9]"
   ]
  },
  {
   "cell_type": "markdown",
   "metadata": {},
   "source": [
    "# F4"
   ]
  },
  {
   "cell_type": "code",
   "execution_count": 41,
   "metadata": {},
   "outputs": [],
   "source": [
    "# prerequisites:\n",
    "Field = \"F4\"\n",
    "previous_xy_mapping = \"Calibration/Mappings/2022/XY/F4_XY_220715.pkl\"\n",
    "mask_det_map_file = \"Calibration/Mappings/2022/mask_to_det_mapping/mapping-mask-det-w-2022-5-F4_-20.pkl\"\n",
    "save_filename = \"Calibration/Mappings/2022/XY/F4_XY_%s.pkl\"%(datetime.datetime.now().strftime(\"%y%m%d\"))\n",
    "slits =['23', '36', '2', '13', '32', '11',\"4\"]\n",
    "stars = [29, 34, 18, 14]\n"
   ]
  },
  {
   "cell_type": "markdown",
   "metadata": {},
   "source": [
    "# For all fields"
   ]
  },
  {
   "cell_type": "code",
   "execution_count": 42,
   "metadata": {},
   "outputs": [],
   "source": [
    "Hysteresis_compensation = False\n",
    "star_target_path = \"Calibration/Targets/2022/GuidingStars/QSO_guidingstars.csv\"\n",
    "target_filename = 'Calibration/Targets/2022/targets_%s.csv'%(Field)\n",
    "if input(\"Are you sure that you want to use Hysteresis_compensation = %s? (y/n)\"%(Hysteresis_compensation))!=\"y\":\n",
    "    raise ValueError(\"Please be verify the value of Hysteresis_compensation\")\n",
    "\n",
    "# cat = Table.read(target_filename)\n",
    "# mask_det_map = Mapping(mask_det_map_file)\n",
    "# cat[\"X_IMAGE\"] = mask_det_map.map(w=(1+cat[\"Z\"])*0.121567 ,x=cat[\"x_mm\"],y=cat[\"y_mm\"])[0]\n",
    "# cat[\"Y_IMAGE\"] = mask_det_map.map(w=(1+cat[\"Z\"])*0.121567,x=cat[\"x_mm\"],y=cat[\"y_mm\"])[1]\n",
    "# cat.write(target_filename,overwrite=True)\n",
    "# plt.plot(cat[\"y_mm\"],cat[\"x_mm\"],\"o\")\n",
    "# plt.plot(cat[\"X_IMAGE\"],cat[\"Y_IMAGE\"],\"o\")"
   ]
  },
  {
   "cell_type": "code",
   "execution_count": 35,
   "metadata": {
    "scrolled": false
   },
   "outputs": [
    {
     "name": "stdout",
     "output_type": "stream",
     "text": [
      "FOV center angular position in guider <SkyCoord (SkyOffsetICRS: rotation=0.0 deg, origin=<ICRS Coordinate: (ra, dec) in deg\n",
      "    (250.39272815, 36.41856381)>): (lon, lat) in deg\n",
      "    (0.32252281, -0.04607301)>\n",
      "FOV center pixel position in guider [array(1889.56720515), array(368.50657906)]\n",
      "\n",
      "Guider2UV object:\n",
      "    Local Field Projector: \n",
      "ScienceMaskProjector object:\n",
      "    LocalFrame: <SkyOffsetICRS Frame (rotation=-90.0 deg, origin=<ICRS Coordinate: (ra, dec) in deg\n",
      "    (36.9049, 0.65245)>)>\n",
      "    gamma: 1.0\n",
      "\n",
      "    Guider Field Projector: \n",
      "GuiderMaskProjector object:\n",
      "    LocalFrame: <SkyOffsetICRS Frame (rotation=0.0 deg, origin=<ICRS Coordinate: (ra, dec) in deg\n",
      "    (250.39272815, 36.41856381)>)>\n",
      "    wcs: WCS Keywords\n",
      "\n",
      "Number of WCS axes: 2\n",
      "CTYPE : 'RA---TAN-SIP'  'DEC--TAN-SIP'  \n",
      "CRVAL : 250.392728151  36.4185638082  \n",
      "CRPIX : 640.0  540.0  \n",
      "PC1_1 PC1_2  : 1.0  0.0  \n",
      "PC2_1 PC2_2  : 0.0  1.0  \n",
      "CDELT : 0.00024551548564194  0.00024661678545423  \n",
      "NAXIS : 0  0\n",
      "\n",
      "    mask_rotation: 0.0 arcmin\n",
      "    FOV center in guider: 1889.5672051460258x368.5065790607417 pix\n",
      "\n"
     ]
    }
   ],
   "source": [
    "#load model from previous XY calib \n",
    "G2UV = Guider2UV(filename=previous_xy_mapping)\t\t\n",
    "\t\n",
    "# eventually reset the guider-scmask rotation to 0 and magnification correction to 0.\n",
    "G2UV.mask_rotation = 0.0*u.arcmin\n",
    "G2UV.FieldP.gamma = 1. \n",
    "G2UV.FieldP.radial_mag_polynomial = (42.26134, 0., 0.)\n",
    "G2UV.FieldP.radial_mag_inv_polynomial = (1./42.26134, 0., 0.)\n",
    "print(G2UV)\n",
    "\n",
    "# if you already know the approx angular distance between guidercenter and FOVcenter, set it:\n",
    "# G2UV.FOV_center_guider_coord = coordinates.SkyCoord(delta_x*u.deg, # x guider axis (x axis in guider local frame, see XYcalib figure)\n",
    "#                                                    delta_y*u.deg, # y guider axis (y axis guider local frame, see XYcalib figure)\n",
    "#                                                    frame = G2UV.GuiderP.localframe)\n",
    "\n",
    "# load targets\n",
    "F1 = Table.read(target_filename, format='ascii')\n",
    "# load mask-UVdetector mappings\n",
    "mask_det_map = Mapping(mask_det_map_file)\n",
    "\n",
    "if input(\"Are you sure that these values make sense for %s: Theta=%s, center=%s? (y/n) \\nYou can compare to the above table.\"%(Field, G2UV.FieldP.rotation, G2UV.FieldP.center))!=\"y\":\n",
    "    raise ValueError(\"Please verify the initialization mapping\")\n",
    "\n"
   ]
  },
  {
   "cell_type": "markdown",
   "metadata": {},
   "source": [
    "Copy the offset from [this spreadsheet step \"Compute offsets with previous diffuse illumination image\"](https://drive.google.com/open?id=1VBm8cv2qf9k8MZZmbUK5YKn10usmbJXw&authuser=vp2376%40columbia.edu&usp=drive_fs)"
   ]
  },
  {
   "cell_type": "markdown",
   "metadata": {},
   "source": [
    "| Fields |    RA    |    DEC   | Angle | slits | Guide stars |\n",
    "|:------:|:--------:|:--------:|:-----:|:-----:|:-----------:|\n",
    "|   F1   |   32.19  |  -5.688  |   0   |   33  |      3      |\n",
    "|   F2   | 253.0624 |  34.9699 |   20  |   23  |      3      |\n",
    "|   F3   | 352.3424 |  0.21245 |   0   |   24  |      3      |\n",
    "|   F4   |  36.9049 |  0.65245 |   0   |   25  |      4      |\n",
    "|  QSO1  | 0.038940 | 1.394590 |   10  |   4   |      5      |\n",
    "|  QSO5  | 14.62883 |  0.00512 |   10  |   6   |      2      |\n",
    "|  QSO7  | 22.42638 |  0.62279 |  -20  |   6   |      3      |\n",
    "|  QSO14 | 351.8533 |  -1.8553 |   0   |   2   |      5      |"
   ]
  },
  {
   "cell_type": "code",
   "execution_count": 8,
   "metadata": {},
   "outputs": [],
   "source": [
    "# This offset in X and Y should be positive if the slit position in tghe new image appears to be shifted towards the top right\n",
    "diffuse_offset = np.array([0.6,1.4])\n",
    "G2UV.set_detector_mapping(mask_det_map, offsets = diffuse_offset+1) #+1 offset is to account for DS9 vs python offset"
   ]
  },
  {
   "cell_type": "code",
   "execution_count": 9,
   "metadata": {},
   "outputs": [
    {
     "data": {
      "image/png": "[encoded data removed]",
      "text/plain": [
       "<Figure size 720x432 with 1 Axes>"
      ]
     },
     "metadata": {
      "needs_background": "light"
     },
     "output_type": "display_data"
    },
    {
     "data": {
      "text/html": [
       "<div><i>Table length=9</i>\n",
       "<table id=\"table140335920200912\" class=\"table-striped table-bordered table-condensed\">\n",
       "<thead><tr><th>Internal-count</th><th>x_mm</th><th>y_mm</th><th>RA</th><th>DEC</th><th>ra_diff</th><th>dec_diff</th><th>angular_distance</th></tr></thead>\n",
       "<thead><tr><th>str2</th><th>float64</th><th>float64</th><th>float64</th><th>float64</th><th>float64</th><th>float64</th><th>float64</th></tr></thead>\n",
       "<tr><td>17</td><td>1.4615027187835672</td><td>-0.6202302818514861</td><td>22.45386</td><td>0.59717</td><td>-372.0397917012561</td><td>-83.9160000000002</td><td>381.386289298808</td></tr>\n",
       "<tr><td>6</td><td>5.226252100742708</td><td>1.798431981021356</td><td>22.55721</td><td>0.62048</td><td>80259.99347189153</td><td>-3148.164</td><td>80321.71243617113</td></tr>\n",
       "<tr><td>14</td><td>9.978798853783994</td><td>2.541725765588142</td><td>0.26145999999999997</td><td>1.4949700000000001</td><td>-1264556.2446597973</td><td>12282.283656</td><td>1264615.8904584013</td></tr>\n",
       "<tr><td>1</td><td>-8.71595571546094</td><td>-2.5953305828987903</td><td>351.646688302</td><td>-1.91677546</td><td>1212301.7976884702</td><td>-7141.987656</td><td>1212322.8351665966</td></tr>\n",
       "<tr><td>16</td><td>3.734748022927276</td><td>2.000933456045201</td><td>14.70766</td><td>0.06711</td><td>1235.3391526054388</td><td>329.32800000000003</td><td>1278.4833802376643</td></tr>\n",
       "<tr><td>7</td><td>-11.196029780247189</td><td>0.7110298929269409</td><td>14.364510000000001</td><td>-0.02437</td><td>-782.5319292155341</td><td>13.428000000000003</td><td>782.6471308487534</td></tr>\n",
       "<tr><td>10</td><td>-2.197612879210593</td><td>-1.0379506376223713</td><td>14.581879999999998</td><td>-0.0281</td><td>-1213381.354398507</td><td>6722.007912</td><td>1213399.9738718986</td></tr>\n",
       "<tr><td>0</td><td>-9.3221927436972</td><td>-1.689798368899516</td><td>351.63229675699995</td><td>-1.89532442</td><td>1212265.1211346844</td><td>-7064.763911999999</td><td>1212285.7067576204</td></tr>\n",
       "<tr><td>16</td><td>3.734748022927276</td><td>2.000933456045201</td><td>14.70766</td><td>0.06711</td><td>0.0</td><td>0.0</td><td>0.0</td></tr>\n",
       "</table></div>"
      ],
      "text/plain": [
       "<Table length=9>\n",
       "Internal-count         x_mm        ...      dec_diff       angular_distance \n",
       "     str2            float64       ...      float64            float64      \n",
       "-------------- ------------------- ... ------------------ ------------------\n",
       "            17  1.4615027187835672 ...  -83.9160000000002   381.386289298808\n",
       "             6   5.226252100742708 ...          -3148.164  80321.71243617113\n",
       "            14   9.978798853783994 ...       12282.283656 1264615.8904584013\n",
       "             1   -8.71595571546094 ...       -7141.987656 1212322.8351665966\n",
       "            16   3.734748022927276 ... 329.32800000000003 1278.4833802376643\n",
       "             7 -11.196029780247189 ... 13.428000000000003  782.6471308487534\n",
       "            10  -2.197612879210593 ...        6722.007912 1213399.9738718986\n",
       "             0    -9.3221927436972 ... -7064.763911999999 1212285.7067576204\n",
       "            16   3.734748022927276 ...                0.0                0.0"
      ]
     },
     "execution_count": 9,
     "metadata": {},
     "output_type": "execute_result"
    }
   ],
   "source": [
    "F1['Internal-count'] = F1['Internal-count'].astype(str)\n",
    "if \"ra\" in F1.colnames:\n",
    "    ra,dec = \"ra\", \"dec\"\n",
    "else: \n",
    "    ra,dec = \"RA\", \"DEC\"\n",
    "if \"x_mm\" in F1.colnames:\n",
    "    x,y = \"x_mm\", \"y_mm\"\n",
    "else:\n",
    "    x,y = \"xmm\", \"ymm\"\n",
    "\n",
    "\n",
    "F1p = F1.to_pandas()\n",
    "from functools import reduce\n",
    "import warnings\n",
    "warnings.simplefilter(action='ignore', category=FutureWarning)\n",
    "\n",
    "selected_slits = Table.from_pandas((reduce(pd.DataFrame.append, map(lambda i: F1p[F1p['Internal-count'] == i],slits))))\n",
    "\n",
    "plt.figure(figsize=(10,6))\n",
    "plt.plot(F1[x],F1[y],\"x\")\n",
    "plt.plot(selected_slits[x],selected_slits[y],\"-o\")\n",
    "for s in selected_slits:\n",
    "    plt.text(s[x],s[y],s[\"Internal-count\"])\n",
    "plt.xlabel(x)\n",
    "plt.ylabel(y)\n",
    "plt.title(\"Do you want to use these slits: %s\"%(slits))\n",
    "plt.show()\n",
    "\n",
    "selected_slits = selected_slits['Internal-count',x,y,ra,dec]\n",
    "slit_path = selected_slits# vstack((selected_slits,selected_slits[::-1]) )\n",
    "slit_path[\"ra_diff\"] = list((slit_path[ra][:-1] - slit_path[ra][1:])*np.cos(slit_path[dec][:-1]*np.pi/180)) + [0]\n",
    "slit_path[\"dec_diff\"] = list((slit_path[dec][:-1] - slit_path[dec][1:])) + [0]\n",
    "\n",
    "slit_path[\"ra_diff\"] *= 3600\n",
    "slit_path[\"dec_diff\"] *= 3600\n",
    "slit_path[\"angular_distance\"] = np.sqrt(slit_path[\"ra_diff\"]** 2 + slit_path[\"dec_diff\"]** 2)\n",
    "try:\n",
    "    slit_path.to_pandas().to_clipboard()\n",
    "except Exception:\n",
    "    pass\n",
    "slit_path"
   ]
  },
  {
   "cell_type": "markdown",
   "metadata": {},
   "source": [
    "The slits table has been copied. Add it to the [slit tab of this spreadsheet](https://drive.google.com/open?id=1VBm8cv2qf9k8MZZmbUK5YKn10usmbJXw&authuser=vp2376%40columbia.edu&usp=drive_fs)"
   ]
  },
  {
   "cell_type": "code",
   "execution_count": 10,
   "metadata": {},
   "outputs": [
    {
     "name": "stdout",
     "output_type": "stream",
     "text": [
      "slit position in mm on mask: [ 1.46150272 -0.62023028]\n",
      "slit position in mm on mask: [5.2262521  1.79843198]\n",
      "slit position in mm on mask: [9.97879885 2.54172577]\n",
      "slit position in mm on mask: [-8.71595572 -2.59533058]\n",
      "slit position in mm on mask: [3.73474802 2.00093346]\n",
      "slit position in mm on mask: [-11.19602978   0.71102989]\n",
      "slit position in mm on mask: [-2.19761288 -1.03795064]\n",
      "slit position in mm on mask: [-9.32219274 -1.68979837]\n",
      "slit position in mm on mask: [3.73474802 2.00093346]\n",
      "\n",
      "targets local coords in siderostat local frame:\n",
      "EL: 302.1 arcsec ; CE: 137.9 arcsec\n",
      "EL: 404.7 arcsec ; CE: 293.7 arcsec\n",
      "EL: 436.2 arcsec ; CE: 490.4 arcsec\n",
      "EL: 218.3 arcsec ; CE: -283.2 arcsec\n",
      "EL: 413.3 arcsec ; CE: 232.0 arcsec\n",
      "EL: 358.5 arcsec ; CE: -385.9 arcsec\n",
      "EL: 284.3 arcsec ; CE: -13.5 arcsec\n",
      "EL: 256.7 arcsec ; CE: -308.3 arcsec\n",
      "EL: 413.3 arcsec ; CE: 232.0 arcsec\n",
      "\n",
      "siderostat moves sequence: \n",
      "(They have been copied to clipboard, paste it in the spreadsheet)\n",
      "Carefull, with Hysteresis_compensation==False the last move to return to the guider is not given. You just need to do -∑all moves\n",
      "You should then add EL=413.2792 and CE=231.9740\n"
     ]
    },
    {
     "data": {
      "text/html": [
       "<div>\n",
       "<style scoped>\n",
       "    .dataframe tbody tr th:only-of-type {\n",
       "        vertical-align: middle;\n",
       "    }\n",
       "\n",
       "    .dataframe tbody tr th {\n",
       "        vertical-align: top;\n",
       "    }\n",
       "\n",
       "    .dataframe thead th {\n",
       "        text-align: right;\n",
       "    }\n",
       "</style>\n",
       "<table border=\"1\" class=\"dataframe\">\n",
       "  <thead>\n",
       "    <tr style=\"text-align: right;\">\n",
       "      <th></th>\n",
       "      <th>EL</th>\n",
       "      <th>CE</th>\n",
       "      <th>UV_image</th>\n",
       "      <th>EL_abs</th>\n",
       "      <th>CE_abs</th>\n",
       "    </tr>\n",
       "  </thead>\n",
       "  <tbody>\n",
       "    <tr>\n",
       "      <th>0</th>\n",
       "      <td>302.059814</td>\n",
       "      <td>137.905953</td>\n",
       "      <td>True</td>\n",
       "      <td>302.059814</td>\n",
       "      <td>137.905953</td>\n",
       "    </tr>\n",
       "    <tr>\n",
       "      <th>1</th>\n",
       "      <td>102.626993</td>\n",
       "      <td>155.787202</td>\n",
       "      <td>True</td>\n",
       "      <td>404.686808</td>\n",
       "      <td>293.693155</td>\n",
       "    </tr>\n",
       "    <tr>\n",
       "      <th>2</th>\n",
       "      <td>31.538924</td>\n",
       "      <td>196.662749</td>\n",
       "      <td>True</td>\n",
       "      <td>436.225732</td>\n",
       "      <td>490.355904</td>\n",
       "    </tr>\n",
       "    <tr>\n",
       "      <th>3</th>\n",
       "      <td>-217.971999</td>\n",
       "      <td>-773.598245</td>\n",
       "      <td>True</td>\n",
       "      <td>218.253733</td>\n",
       "      <td>-283.242340</td>\n",
       "    </tr>\n",
       "    <tr>\n",
       "      <th>4</th>\n",
       "      <td>195.025476</td>\n",
       "      <td>515.216315</td>\n",
       "      <td>True</td>\n",
       "      <td>413.279209</td>\n",
       "      <td>231.973975</td>\n",
       "    </tr>\n",
       "    <tr>\n",
       "      <th>5</th>\n",
       "      <td>-54.732290</td>\n",
       "      <td>-617.843014</td>\n",
       "      <td>True</td>\n",
       "      <td>358.546919</td>\n",
       "      <td>-385.869039</td>\n",
       "    </tr>\n",
       "    <tr>\n",
       "      <th>6</th>\n",
       "      <td>-74.211524</td>\n",
       "      <td>372.358968</td>\n",
       "      <td>True</td>\n",
       "      <td>284.335395</td>\n",
       "      <td>-13.510071</td>\n",
       "    </tr>\n",
       "    <tr>\n",
       "      <th>7</th>\n",
       "      <td>-27.658749</td>\n",
       "      <td>-294.818659</td>\n",
       "      <td>True</td>\n",
       "      <td>256.676646</td>\n",
       "      <td>-308.328730</td>\n",
       "    </tr>\n",
       "    <tr>\n",
       "      <th>8</th>\n",
       "      <td>156.602563</td>\n",
       "      <td>540.302705</td>\n",
       "      <td>True</td>\n",
       "      <td>413.279209</td>\n",
       "      <td>231.973975</td>\n",
       "    </tr>\n",
       "  </tbody>\n",
       "</table>\n",
       "</div>"
      ],
      "text/plain": [
       "           EL          CE  UV_image      EL_abs      CE_abs\n",
       "0  302.059814  137.905953      True  302.059814  137.905953\n",
       "1  102.626993  155.787202      True  404.686808  293.693155\n",
       "2   31.538924  196.662749      True  436.225732  490.355904\n",
       "3 -217.971999 -773.598245      True  218.253733 -283.242340\n",
       "4  195.025476  515.216315      True  413.279209  231.973975\n",
       "5  -54.732290 -617.843014      True  358.546919 -385.869039\n",
       "6  -74.211524  372.358968      True  284.335395  -13.510071\n",
       "7  -27.658749 -294.818659      True  256.676646 -308.328730\n",
       "8  156.602563  540.302705      True  413.279209  231.973975"
      ]
     },
     "execution_count": 10,
     "metadata": {},
     "output_type": "execute_result"
    }
   ],
   "source": [
    "moves, flags, slit_coords = G2UV.compute_autocoll_moves_slits(slits, F1, hystcomp = Hysteresis_compensation, CEg = CEg, Elg = Elg)\n",
    "moves = pd.DataFrame(np.hstack((moves,flags[:,None])), columns=[\"EL\",\"CE\",\"UV_image\"])\n",
    "# assert moves.sum(axis=0)[0] <0.1\n",
    "# assert moves.sum(axis=0)[1] <0.1\n",
    "moves[\"UV_image\"] = moves[\"UV_image\"].astype(bool)\n",
    "moves[\"EL_abs\"] =  [np.sum(moves[\"EL\"][:i+1]) for i in range(len(moves))]\n",
    "moves[\"CE_abs\"] = [np.sum(moves[\"CE\"][:i+1]) for i in range(len(moves))]\n",
    "\n",
    "# slit_path['lon'] = [s.lon.deg*3600 for s in slits_coord]\n",
    "# slit_path['lat'] =  [s.lat.deg*3600 for s in slits_coord]\n",
    "# slit_path\n",
    "print(\"(They have been copied to clipboard, paste it in the spreadsheet)\")\n",
    "if ~Hysteresis_compensation:\n",
    "    print(\"Carefull, with Hysteresis_compensation==%s the last move to return to the guider is not given. You just need to do -∑all moves\"%(Hysteresis_compensation))\n",
    "    print(\"You should then add EL=%0.4f and CE=%0.4f\"%(moves.sum(axis=0)[0],moves.sum(axis=0)[1]))\n",
    "\n",
    "moves.to_clipboard()\n",
    "moves \n"
   ]
  },
  {
   "cell_type": "markdown",
   "metadata": {},
   "source": [
    "The moves has been copied. Add it to the [moves tab of this spreadsheet](https://docs.google.com/spreadsheets/d/19jO0fZ0FL0zZKt8IgJ_DMlZrbCD0VXpYVeulKzXtHzY/edit#gid=0)"
   ]
  },
  {
   "cell_type": "markdown",
   "metadata": {},
   "source": [
    "Copy below the observed slits position from the [slit tab of this spreadsheet](https://docs.google.com/spreadsheets/d/19jO0fZ0FL0zZKt8IgJ_DMlZrbCD0VXpYVeulKzXtHzY/edit#gid=0)"
   ]
  },
  {
   "cell_type": "code",
   "execution_count": 11,
   "metadata": {},
   "outputs": [],
   "source": [
    "\n",
    "slits_coord_obs_det = np.array([\n",
    "[ 1616.5,\t1042.5 ],\n",
    "[ 1778.5,\t756.5  ],\n",
    "[ 1830.5,\t400.5  ],\n",
    "[ 1494.5,\t1808.9  ],\n",
    "[ 1791.4,\t868.4  ],\n",
    "[ 1717.4,\t1992.6  ],\n",
    "[ 1590.5,\t1316.6  ],\n",
    "[ 1553.5,\t1854.4  ],\n",
    "[ 1791.4,\t866.5  ]]) \n",
    "\n",
    "\n",
    "valid = np.isfinite(slits_coord_obs_det[:,0])\n",
    "obs_wave = 0.20619 # 0.2139 # 0.20255\n",
    "slits_coord_valid = [slit_coords[i] for i in np.nonzero(valid)[0]]\n",
    "slits_coord_obs = G2UV.detector2guider(slits_coord_obs_det, wave=obs_wave, angle=True  )\n",
    "\n",
    "if input(\"Are you sure you computed the barycenter on the line %s? Remember that it's better to use 206 line to probe a bigger part of the detector. It might require gain and longer exposure though. Be sure to always compute the centroid on the same line. (y/n)\"%(obs_wave))!=\"y\":\n",
    "    raise ValueError(\"Please change obs_wave parameter (c)\")\n"
   ]
  },
  {
   "cell_type": "markdown",
   "metadata": {},
   "source": [
    "### look at siderostat frame hysteresis "
   ]
  },
  {
   "cell_type": "code",
   "execution_count": 12,
   "metadata": {
    "collapsed": true
   },
   "outputs": [
    {
     "name": "stdout",
     "output_type": "stream",
     "text": [
      "Fitting rotation, translation and magnification\n",
      "gamma: 1.0309549563007483\n",
      "theta: -99.9253436125352 arcmin\n",
      "dx: -12.214654041281795 arcsec\n",
      "dy: -111.30543803846919 arcsec\n",
      "variances: [5.40202078e-04 1.85707795e+00 5.01891236e-01 5.01891236e-01]\n",
      "\n",
      "residuals in arcsec: [[-0.86169147  3.2187391 ]\n",
      " [ 2.62508649  0.02155403]\n",
      " [-4.2126828  -2.57634481]\n",
      " [-2.57307988 -4.65357865]\n",
      " [ 2.68370203  1.24717716]\n",
      " [ 4.40345674 -2.03213971]\n",
      " [-0.69077625  4.42381769]\n",
      " [-4.11801325  1.20804356]\n",
      " [ 2.74399839 -0.85726838]]\n",
      "max residual in EL,CE 4.4, 4.7 arcsec\n",
      "mean residual in EL,CE 3.0, 2.7 arcsec\n"
     ]
    },
    {
     "data": {
      "image/png": "[encoded data removed]",
      "text/plain": [
       "<Figure size 864x504 with 2 Axes>"
      ]
     },
     "metadata": {
      "needs_background": "light"
     },
     "output_type": "display_data"
    },
    {
     "name": "stdout",
     "output_type": "stream",
     "text": [
      "After updating:\n",
      "    mask_rotation: -99.9253436125352 arcmin\n",
      "    FOV center in guider: 1363.2898636170698 x 223.30676159491327 pix = 662.8022467381585 arcsec x -294.79234200060904 arcsec arcsec\n",
      "    mask_magnification correction: 1.0309549563007483  \n",
      "    \n"
     ]
    }
   ],
   "source": [
    "slits_coord_obs = G2UV.detector2guider(slits_coord_obs_det, wave=obs_wave, angle=True  )\n",
    "G2UVcor, residuals = G2UV.update_model(slits_coord_valid, slits_coord_obs, plot=True, figsize=(12,7), labels=slits)\n"
   ]
  },
  {
   "cell_type": "markdown",
   "metadata": {},
   "source": [
    "### save corrected model for future use"
   ]
  },
  {
   "cell_type": "code",
   "execution_count": 18,
   "metadata": {},
   "outputs": [
    {
     "name": "stdout",
     "output_type": "stream",
     "text": [
      "Dumping to Calibration/Mappings/2022/XY/F4_XY_220715.pkl\n"
     ]
    }
   ],
   "source": [
    "G2UVcor.save(filename=save_filename)"
   ]
  },
  {
   "cell_type": "markdown",
   "metadata": {},
   "source": [
    "### Compute new moves (and compare to position of targets on the sky (does not work for QSO field which have different ra,dec)"
   ]
  },
  {
   "cell_type": "code",
   "execution_count": 13,
   "metadata": {},
   "outputs": [
    {
     "name": "stdout",
     "output_type": "stream",
     "text": [
      "slit position in mm on mask: [ 1.46150272 -0.62023028]\n",
      "slit position in mm on mask: [5.2262521  1.79843198]\n",
      "slit position in mm on mask: [9.97879885 2.54172577]\n",
      "slit position in mm on mask: [-8.71595572 -2.59533058]\n",
      "slit position in mm on mask: [3.73474802 2.00093346]\n",
      "slit position in mm on mask: [-11.19602978   0.71102989]\n",
      "slit position in mm on mask: [-2.19761288 -1.03795064]\n",
      "slit position in mm on mask: [-9.32219274 -1.68979837]\n",
      "slit position in mm on mask: [3.73474802 2.00093346]\n",
      "\n",
      "targets local coords in siderostat local frame:\n",
      "EL: 299.6 arcsec ; CE: 206.9 arcsec\n",
      "EL: 400.1 arcsec ; CE: 372.3 arcsec\n",
      "EL: 426.6 arcsec ; CE: 578.7 arcsec\n",
      "EL: 226.4 arcsec ; CE: -234.7 arcsec\n",
      "EL: 410.8 arcsec ; CE: 308.2 arcsec\n",
      "EL: 373.6 arcsec ; CE: -337.9 arcsec\n",
      "EL: 286.1 arcsec ; CE: 48.7 arcsec\n",
      "EL: 266.6 arcsec ; CE: -259.8 arcsec\n",
      "EL: 410.8 arcsec ; CE: 308.2 arcsec\n",
      "\n",
      "siderostat moves sequence: \n",
      "(They have been copied to clipboard, paste it in the spreadsheet)\n"
     ]
    },
    {
     "name": "stderr",
     "output_type": "stream",
     "text": [
      "/var/folders/m8/f6l41h_51qxdzrz8p1xqr3f80000gp/T/ipykernel_18539/1504510991.py:14: RuntimeWarning: invalid value encountered in true_divide\n",
      "  new_cat[\"frame_divided_sky\"] = new_cat[\"Frame_angular_distance\"] / new_cat[\"angular_distance\"]\n",
      "/var/folders/m8/f6l41h_51qxdzrz8p1xqr3f80000gp/T/ipykernel_18539/1504510991.py:15: RuntimeWarning: invalid value encountered in true_divide\n",
      "  new_cat[\"EL_dec_ratio\"] =   new_cat[\"El_sky\"] / new_cat[\"dec_diff\"]\n",
      "/var/folders/m8/f6l41h_51qxdzrz8p1xqr3f80000gp/T/ipykernel_18539/1504510991.py:16: RuntimeWarning: invalid value encountered in true_divide\n",
      "  new_cat[\"CE_ra_ratio\"] =   new_cat[\"Cel_sky\"] / new_cat[\"ra_diff\"]\n"
     ]
    },
    {
     "data": {
      "image/png": "[encoded data removed]",
      "text/plain": [
       "<Figure size 432x288 with 1 Axes>"
      ]
     },
     "metadata": {
      "needs_background": "light"
     },
     "output_type": "display_data"
    },
    {
     "data": {
      "text/html": [
       "<div><i>Table length=9</i>\n",
       "<table id=\"table140335920200912\" class=\"table-striped table-bordered table-condensed\">\n",
       "<thead><tr><th>Internal-count</th><th>x_mm</th><th>y_mm</th><th>RA</th><th>DEC</th><th>ra_diff</th><th>dec_diff</th><th>angular_distance</th><th>EL</th><th>CE</th><th>El_sky</th><th>Cel_sky</th><th>Frame_angular_distance</th><th>frame_divided_sky</th><th>EL_dec_ratio</th><th>CE_ra_ratio</th></tr></thead>\n",
       "<thead><tr><th>str2</th><th>float64</th><th>float64</th><th>float64</th><th>float64</th><th>float64</th><th>float64</th><th>float64</th><th>float64</th><th>float64</th><th>float64</th><th>float64</th><th>float64</th><th>float64</th><th>float64</th><th>float64</th></tr></thead>\n",
       "<tr><td>17</td><td>1.4615027187835672</td><td>-0.6202302818514861</td><td>22.45386</td><td>0.59717</td><td>-372.0397917012561</td><td>-83.9160000000002</td><td>381.386289298808</td><td>100.52939478157585</td><td>165.41054789874445</td><td>202.86831866922003</td><td>337.0074502889019</td><td>393.35680529247605</td><td>1.0313868545607034</td><td>-2.4175165483247483</td><td>-0.9058371115300355</td></tr>\n",
       "<tr><td>6</td><td>5.226252100742708</td><td>1.798431981021356</td><td>22.55721</td><td>0.62048</td><td>80259.99347189153</td><td>-3148.164</td><td>80321.71243617113</td><td>26.459058800248247</td><td>206.37504962902162</td><td>53.39438065890096</td><td>420.46852611416864</td><td>423.8451855790849</td><td>0.005276844488542247</td><td>-0.0169604825729857</td><td>0.005238830803810421</td></tr>\n",
       "<tr><td>14</td><td>9.978798853783994</td><td>2.541725765588142</td><td>0.26145999999999997</td><td>1.4949700000000001</td><td>-1264556.2446597973</td><td>12282.283656</td><td>1264615.8904584013</td><td>-200.19439535863398</td><td>-813.4294577414918</td><td>-403.99228983372336</td><td>-1657.2811772025152</td><td>1705.8108542727853</td><td>0.0013488766566537912</td><td>-0.032892278109565534</td><td>0.0013105634361470196</td></tr>\n",
       "<tr><td>1</td><td>-8.71595571546094</td><td>-2.5953305828987903</td><td>351.646688302</td><td>-1.91677546</td><td>1212301.7976884702</td><td>-7141.987656</td><td>1212322.8351665966</td><td>184.4239983547855</td><td>542.957041257549</td><td>372.16762867995715</td><td>1106.2206758581303</td><td>1167.1473461107134</td><td>0.0009627364199160076</td><td>-0.052109811246634996</td><td>0.0009124961110899878</td></tr>\n",
       "<tr><td>16</td><td>3.734748022927276</td><td>2.000933456045201</td><td>14.70766</td><td>0.06711</td><td>1235.3391526054388</td><td>329.32800000000003</td><td>1278.4833802376643</td><td>-37.18502466300924</td><td>-646.1580343091248</td><td>-75.03937976995263</td><td>-1316.4823791014107</td><td>1318.6192638516889</td><td>1.0313933557795358</td><td>-0.2278560576991711</td><td>-1.065684979161256</td></tr>\n",
       "<tr><td>7</td><td>-11.196029780247189</td><td>0.7110298929269409</td><td>14.364510000000001</td><td>-0.02437</td><td>-782.5319292155341</td><td>13.428000000000003</td><td>782.6471308487534</td><td>-87.58578561560002</td><td>386.5859859132991</td><td>-176.7481153722808</td><td>787.6302876997555</td><td>807.2182891818376</td><td>1.0313949382353675</td><td>-13.162653810863924</td><td>-1.0065152082539717</td></tr>\n",
       "<tr><td>10</td><td>-2.197612879210593</td><td>-1.0379506376223713</td><td>14.581879999999998</td><td>-0.0281</td><td>-1213381.354398507</td><td>6722.007912</td><td>1213399.9738718986</td><td>-19.435035959351072</td><td>-308.4560694518574</td><td>-39.21990256597046</td><td>-628.4483959012142</td><td>629.6710149499447</td><td>0.0005189311261814981</td><td>-0.005834551681493239</td><td>0.0005179314760549839</td></tr>\n",
       "<tr><td>0</td><td>-9.3221927436972</td><td>-1.689798368899516</td><td>351.63229675699995</td><td>-1.89532442</td><td>1212265.1211346844</td><td>-7064.763911999999</td><td>1212285.7067576204</td><td>144.20584623796032</td><td>568.0281178476831</td><td>291.0073977082039</td><td>1157.3004873028694</td><td>1193.3271652955696</td><td>0.0009843613255882085</td><td>-0.04119138322710364</td><td>0.0009546595601295797</td></tr>\n",
       "<tr><td>16</td><td>3.734748022927276</td><td>2.000933456045201</td><td>14.70766</td><td>0.06711</td><td>0.0</td><td>0.0</td><td>0.0</td><td>0.0</td><td>0.0</td><td>0.0</td><td>0.0</td><td>0.0</td><td>nan</td><td>nan</td><td>nan</td></tr>\n",
       "</table></div>"
      ],
      "text/plain": [
       "<Table length=9>\n",
       "Internal-count         x_mm        ...      CE_ra_ratio     \n",
       "     str2            float64       ...        float64       \n",
       "-------------- ------------------- ... ---------------------\n",
       "            17  1.4615027187835672 ...   -0.9058371115300355\n",
       "             6   5.226252100742708 ...  0.005238830803810421\n",
       "            14   9.978798853783994 ... 0.0013105634361470196\n",
       "             1   -8.71595571546094 ... 0.0009124961110899878\n",
       "            16   3.734748022927276 ...    -1.065684979161256\n",
       "             7 -11.196029780247189 ...   -1.0065152082539717\n",
       "            10  -2.197612879210593 ... 0.0005179314760549839\n",
       "             0    -9.3221927436972 ... 0.0009546595601295797\n",
       "            16   3.734748022927276 ...                   nan"
      ]
     },
     "execution_count": 13,
     "metadata": {},
     "output_type": "execute_result"
    }
   ],
   "source": [
    "moves, flags, slit_coords = G2UVcor.compute_autocoll_moves_slits(slits, F1, hystcomp = Hysteresis_compensation, CEg = CEg, Elg = Elg)\n",
    "moves = Table.from_pandas(pd.DataFrame(np.hstack((moves,flags[:,None])), columns=[\"EL\",\"CE\",\"UV_image\"]))\n",
    "print(\"(They have been copied to clipboard, paste it in the spreadsheet)\")\n",
    "moves.to_pandas().to_clipboard()\n",
    "moves\n",
    "\n",
    "new_cat = slit_path\n",
    "new_cat[\"EL\"] = list(moves[\"EL\"][1:])+ [0]\n",
    "new_cat[\"CE\"] = list(moves[\"CE\"][1:]) + [0]\n",
    "\n",
    "new_cat[\"El_sky\"] = new_cat[\"EL\"]  * 2 * Elg \n",
    "new_cat[\"Cel_sky\"] = new_cat[\"CE\"] * 2 * CEg \n",
    "new_cat[\"Frame_angular_distance\"] = np.sqrt(new_cat[\"El_sky\"]**2 + new_cat[\"Cel_sky\"]**2)\n",
    "new_cat[\"frame_divided_sky\"] = new_cat[\"Frame_angular_distance\"] / new_cat[\"angular_distance\"]\n",
    "new_cat[\"EL_dec_ratio\"] =   new_cat[\"El_sky\"] / new_cat[\"dec_diff\"]\n",
    "new_cat[\"CE_ra_ratio\"] =   new_cat[\"Cel_sky\"] / new_cat[\"ra_diff\"]\n",
    "# new_cat\n",
    "# new_cat.to_pandas().to_clipboard()\n",
    "\n",
    "plt.figure()\n",
    "plt.plot(new_cat[\"angular_distance\"],-new_cat[\"EL_dec_ratio\"],\"P\",label=\"El move / dec angular distance between targets\")\n",
    "plt.plot(new_cat[\"angular_distance\"],-new_cat[\"CE_ra_ratio\"],\"X\",label=\"CE move / ra angular distance between targets\")\n",
    "plt.plot(new_cat[\"angular_distance\"],new_cat[\"frame_divided_sky\"],\"o\",label=\"Sky angular move / angular distance between targets\")\n",
    "plt.legend()\n",
    "plt.show()\n",
    "new_cat#[\"ra_diff\",\"dec_diff\",\"El_sky\",\"Cel_sky\",\"frame_divided_sky\",\"EL_dec_ratio\",\"CE_ra_ratio\"]#,\"EL_moves\",\"CE_moves\"\n"
   ]
  },
  {
   "cell_type": "markdown",
   "metadata": {},
   "source": [
    "The moves has been copied. Add it to the [moves tab of this spreadsheet](https://drive.google.com/open?id=1VBm8cv2qf9k8MZZmbUK5YKn10usmbJXw&authuser=vp2376%40columbia.edu&usp=drive_fs)"
   ]
  },
  {
   "cell_type": "markdown",
   "metadata": {},
   "source": [
    "Here we just wanted to do another try to verify that the least square gives consistent results"
   ]
  },
  {
   "cell_type": "markdown",
   "metadata": {},
   "source": [
    "# Go through the guide stars.\n",
    "## Should do this step for F1, F2, F3, F4 and QSO field. For QSO field you should also run the couple of final cells"
   ]
  },
  {
   "cell_type": "code",
   "execution_count": 14,
   "metadata": {},
   "outputs": [
    {
     "data": {
      "text/html": [
       "<div><i>Table length=5</i>\n",
       "<table id=\"table140337030932272\" class=\"table-striped table-bordered table-condensed\">\n",
       "<thead><tr><th>Internal count</th><th>RA</th><th>DEC</th><th>g mag</th><th>x deg</th><th>y deg</th><th>xmm_nicole</th><th>ymm_nciole</th></tr></thead>\n",
       "<thead><tr><th>int64</th><th>float64</th><th>float64</th><th>float64</th><th>float64</th><th>float64</th><th>float64</th><th>float64</th></tr></thead>\n",
       "<tr><td>2</td><td>0.064613</td><td>1.207946</td><td>11.823838</td><td>-0.007133</td><td>-0.188265</td><td>-0.301159</td><td>-7.948758</td></tr>\n",
       "<tr><td>4</td><td>359.996741</td><td>1.239476</td><td>11.899264</td><td>-0.068484</td><td>-0.145431</td><td>-2.892193</td><td>-6.141819</td></tr>\n",
       "<tr><td>5</td><td>0.002719</td><td>1.247124</td><td>11.21874</td><td>-0.06127</td><td>-0.138937</td><td>-2.587725</td><td>-5.868035</td></tr>\n",
       "<tr><td>6</td><td>0.0266</td><td>1.331968</td><td>9.07557</td><td>-0.023024</td><td>-0.059529</td><td>-0.972906</td><td>-2.51548</td></tr>\n",
       "<tr><td>7</td><td>0.038536</td><td>1.289373</td><td>10.086621</td><td>-0.018669</td><td>-0.103549</td><td>-0.788729</td><td>-4.374788</td></tr>\n",
       "</table></div>"
      ],
      "text/plain": [
       "<Table length=5>\n",
       "Internal count     RA       DEC      g mag   ...   y deg   xmm_nicole ymm_nciole\n",
       "    int64       float64   float64   float64  ...  float64   float64    float64  \n",
       "-------------- ---------- -------- --------- ... --------- ---------- ----------\n",
       "             2   0.064613 1.207946 11.823838 ... -0.188265  -0.301159  -7.948758\n",
       "             4 359.996741 1.239476 11.899264 ... -0.145431  -2.892193  -6.141819\n",
       "             5   0.002719 1.247124  11.21874 ... -0.138937  -2.587725  -5.868035\n",
       "             6     0.0266 1.331968   9.07557 ... -0.059529  -0.972906   -2.51548\n",
       "             7   0.038536 1.289373 10.086621 ... -0.103549  -0.788729  -4.374788"
      ]
     },
     "execution_count": 14,
     "metadata": {},
     "output_type": "execute_result"
    }
   ],
   "source": [
    "F1_stars = Table.read(star_target_path).to_pandas()\n",
    "selected_stars = Table.from_pandas((reduce(pd.DataFrame.append, map(lambda i: F1_stars[F1_stars['Internal count'] == i],stars))))\n",
    "selected_stars.to_pandas().to_clipboard()\n",
    "selected_stars"
   ]
  },
  {
   "cell_type": "markdown",
   "metadata": {},
   "source": [
    "The stars table has been copied. Add it to the [stars tab of this spreadsheet](https://drive.google.com/open?id=1VBm8cv2qf9k8MZZmbUK5YKn10usmbJXw&authuser=vp2376%40columbia.edu&usp=drive_fs)"
   ]
  },
  {
   "cell_type": "code",
   "execution_count": 15,
   "metadata": {},
   "outputs": [
    {
     "name": "stdout",
     "output_type": "stream",
     "text": [
      "\n",
      "targets local coords in siderostat local frame:\n",
      "EL: -7.0 arcsec ; CE: 122.4 arcsec\n",
      "EL: 72.6 arcsec ; CE: 16.2 arcsec\n",
      "EL: 83.8 arcsec ; CE: 29.3 arcsec\n",
      "EL: 223.4 arcsec ; CE: 101.0 arcsec\n",
      "EL: 144.7 arcsec ; CE: 106.4 arcsec\n",
      "\n",
      "siderostat moves sequence: \n"
     ]
    },
    {
     "data": {
      "text/html": [
       "<div>\n",
       "<style scoped>\n",
       "    .dataframe tbody tr th:only-of-type {\n",
       "        vertical-align: middle;\n",
       "    }\n",
       "\n",
       "    .dataframe tbody tr th {\n",
       "        vertical-align: top;\n",
       "    }\n",
       "\n",
       "    .dataframe thead th {\n",
       "        text-align: right;\n",
       "    }\n",
       "</style>\n",
       "<table border=\"1\" class=\"dataframe\">\n",
       "  <thead>\n",
       "    <tr style=\"text-align: right;\">\n",
       "      <th></th>\n",
       "      <th>EL</th>\n",
       "      <th>CE</th>\n",
       "      <th>Image</th>\n",
       "    </tr>\n",
       "  </thead>\n",
       "  <tbody>\n",
       "    <tr>\n",
       "      <th>0</th>\n",
       "      <td>-7.040060</td>\n",
       "      <td>122.417444</td>\n",
       "      <td>1.0</td>\n",
       "    </tr>\n",
       "    <tr>\n",
       "      <th>1</th>\n",
       "      <td>79.595297</td>\n",
       "      <td>-106.203583</td>\n",
       "      <td>1.0</td>\n",
       "    </tr>\n",
       "    <tr>\n",
       "      <th>2</th>\n",
       "      <td>11.210659</td>\n",
       "      <td>13.080273</td>\n",
       "      <td>1.0</td>\n",
       "    </tr>\n",
       "    <tr>\n",
       "      <th>3</th>\n",
       "      <td>139.677784</td>\n",
       "      <td>71.657492</td>\n",
       "      <td>1.0</td>\n",
       "    </tr>\n",
       "    <tr>\n",
       "      <th>4</th>\n",
       "      <td>-78.755097</td>\n",
       "      <td>5.434114</td>\n",
       "      <td>1.0</td>\n",
       "    </tr>\n",
       "  </tbody>\n",
       "</table>\n",
       "</div>"
      ],
      "text/plain": [
       "           EL          CE  Image\n",
       "0   -7.040060  122.417444    1.0\n",
       "1   79.595297 -106.203583    1.0\n",
       "2   11.210659   13.080273    1.0\n",
       "3  139.677784   71.657492    1.0\n",
       "4  -78.755097    5.434114    1.0"
      ]
     },
     "execution_count": 15,
     "metadata": {},
     "output_type": "execute_result"
    }
   ],
   "source": [
    "# G2UVcor.FOV_center_guider_coord = 0.18182478, 0.00998363\n",
    "star_moves, flags, stars_coord = G2UVcor.compute_autocoll_move_stars(stars, F1_stars, hystcomp = Hysteresis_compensation, CEg = CEg, Elg = Elg)\n",
    "star_moves = pd.DataFrame(np.hstack((star_moves,flags[:,None])), columns=[\"EL\",\"CE\",\"Image\"])\n",
    "star_moves.to_clipboard()\n",
    "selected_stars.to_pandas().to_clipboard()\n",
    "star_moves\n",
    "# stars_path = vstack((selected_stars,selected_stars[::-1]) )\n",
    "# selected_stars['lon'] = [s.lon.deg*3600 for s in stars_coord]\n",
    "# selected_stars['lat'] =  [s.lat.deg*3600 for s in stars_coord]\n",
    "# print(\"(They have been copied to clipboard, paste it in the spreadsheet)\")\n",
    "# star_moves.to_clipboard()\n",
    "# star_moves\n",
    "\n"
   ]
  },
  {
   "cell_type": "markdown",
   "metadata": {},
   "source": [
    "The moves has been copied. Add it to the [moves tab of this spreadsheet](https://drive.google.com/open?id=1VBm8cv2qf9k8MZZmbUK5YKn10usmbJXw&authuser=vp2376%40columbia.edu&usp=drive_fs)"
   ]
  },
  {
   "cell_type": "markdown",
   "metadata": {},
   "source": [
    "# Only for QSO\n",
    "---------------------------"
   ]
  },
  {
   "cell_type": "code",
   "execution_count": 16,
   "metadata": {},
   "outputs": [
    {
     "data": {
      "text/html": [
       "<div><i>Table length=3</i>\n",
       "<table id=\"table140337031015680\" class=\"table-striped table-bordered table-condensed\">\n",
       "<thead><tr><th>Internal count</th><th>RA</th><th>DEC</th><th>g mag</th><th>x deg</th><th>y deg</th><th>xmm_nicole</th><th>ymm_nciole</th></tr></thead>\n",
       "<thead><tr><th>int64</th><th>float64</th><th>float64</th><th>float64</th><th>float64</th><th>float64</th><th>float64</th><th>float64</th></tr></thead>\n",
       "<tr><td>8</td><td>22.374342</td><td>0.385839</td><td>11.857352</td><td>0.032143</td><td>-0.240459</td><td>1.356271</td><td>-10.146112</td></tr>\n",
       "<tr><td>10</td><td>22.470774</td><td>0.374579</td><td>7.73287</td><td>0.12661</td><td>-0.218059</td><td>5.341594</td><td>-9.199783</td></tr>\n",
       "<tr><td>12</td><td>22.455571</td><td>0.580502</td><td>10.246187</td><td>0.041892</td><td>-0.029754</td><td>1.770297</td><td>-1.257362</td></tr>\n",
       "</table></div>"
      ],
      "text/plain": [
       "<Table length=3>\n",
       "Internal count     RA      DEC      g mag   ...   y deg   xmm_nicole ymm_nciole\n",
       "    int64       float64  float64   float64  ...  float64   float64    float64  \n",
       "-------------- --------- -------- --------- ... --------- ---------- ----------\n",
       "             8 22.374342 0.385839 11.857352 ... -0.240459   1.356271 -10.146112\n",
       "            10 22.470774 0.374579   7.73287 ... -0.218059   5.341594  -9.199783\n",
       "            12 22.455571 0.580502 10.246187 ... -0.029754   1.770297  -1.257362"
      ]
     },
     "execution_count": 16,
     "metadata": {},
     "output_type": "execute_result"
    }
   ],
   "source": [
    "stars = [8, 10, 12] #QSO7\n",
    "#back to guider center\n",
    "G2UVcor.FieldP = LocalScienceMaskProjector(center=coordinates.SkyCoord(22.42638*u.deg, 0.62279*u.deg), rotation=(90-70)*u.deg, gamma=1)\n",
    "selected_stars = Table.from_pandas((reduce(pd.DataFrame.append, map(lambda i: F1_stars[F1_stars['Internal count'] == i],stars))))\n",
    "selected_stars.to_pandas().to_clipboard()\n",
    "selected_stars\n"
   ]
  },
  {
   "cell_type": "markdown",
   "metadata": {},
   "source": [
    "The stars table has been copied. Add it to the [stars tab of this spreadsheet](https://drive.google.com/open?id=1VBm8cv2qf9k8MZZmbUK5YKn10usmbJXw&authuser=vp2376%40columbia.edu&usp=drive_fs)"
   ]
  },
  {
   "cell_type": "code",
   "execution_count": 18,
   "metadata": {},
   "outputs": [
    {
     "name": "stdout",
     "output_type": "stream",
     "text": [
      "\n",
      "targets local coords in siderostat local frame:\n",
      "EL: -102.2 arcsec ; CE: 189.1 arcsec\n",
      "EL: -67.1 arcsec ; CE: 357.2 arcsec\n",
      "EL: 273.2 arcsec ; CE: 217.2 arcsec\n",
      "\n",
      "siderostat moves sequence: \n"
     ]
    },
    {
     "data": {
      "text/html": [
       "<div>\n",
       "<style scoped>\n",
       "    .dataframe tbody tr th:only-of-type {\n",
       "        vertical-align: middle;\n",
       "    }\n",
       "\n",
       "    .dataframe tbody tr th {\n",
       "        vertical-align: top;\n",
       "    }\n",
       "\n",
       "    .dataframe thead th {\n",
       "        text-align: right;\n",
       "    }\n",
       "</style>\n",
       "<table border=\"1\" class=\"dataframe\">\n",
       "  <thead>\n",
       "    <tr style=\"text-align: right;\">\n",
       "      <th></th>\n",
       "      <th>EL</th>\n",
       "      <th>CE</th>\n",
       "      <th>Image</th>\n",
       "    </tr>\n",
       "  </thead>\n",
       "  <tbody>\n",
       "    <tr>\n",
       "      <th>0</th>\n",
       "      <td>-102.186452</td>\n",
       "      <td>189.135905</td>\n",
       "      <td>1.0</td>\n",
       "    </tr>\n",
       "    <tr>\n",
       "      <th>1</th>\n",
       "      <td>35.061442</td>\n",
       "      <td>168.067310</td>\n",
       "      <td>1.0</td>\n",
       "    </tr>\n",
       "    <tr>\n",
       "      <th>2</th>\n",
       "      <td>340.317892</td>\n",
       "      <td>-140.018695</td>\n",
       "      <td>1.0</td>\n",
       "    </tr>\n",
       "  </tbody>\n",
       "</table>\n",
       "</div>"
      ],
      "text/plain": [
       "           EL          CE  Image\n",
       "0 -102.186452  189.135905    1.0\n",
       "1   35.061442  168.067310    1.0\n",
       "2  340.317892 -140.018695    1.0"
      ]
     },
     "execution_count": 18,
     "metadata": {},
     "output_type": "execute_result"
    }
   ],
   "source": [
    "star_moves, flags, stars_coord = G2UVcor.compute_autocoll_move_stars(stars, F1_stars, hystcomp = Hysteresis_compensation, CEg = CEg, Elg = Elg)\n",
    "star_moves = pd.DataFrame(np.hstack((star_moves,flags[:,None])), columns=[\"EL\",\"CE\",\"Image\"])\n",
    "star_moves.to_clipboard()\n",
    "star_moves\n"
   ]
  },
  {
   "cell_type": "markdown",
   "metadata": {},
   "source": [
    "The moves has been copied. Add it to the [moves tab of this spreadsheet](https://drive.google.com/open?id=1VBm8cv2qf9k8MZZmbUK5YKn10usmbJXw&authuser=vp2376%40columbia.edu&usp=drive_fs)\n",
    "\n",
    "----------------------------"
   ]
  },
  {
   "cell_type": "code",
   "execution_count": 19,
   "metadata": {},
   "outputs": [
    {
     "data": {
      "text/html": [
       "<div><i>Table length=2</i>\n",
       "<table id=\"table140336453798256\" class=\"table-striped table-bordered table-condensed\">\n",
       "<thead><tr><th>Internal count</th><th>RA</th><th>DEC</th><th>g mag</th><th>x deg</th><th>y deg</th><th>xmm_nicole</th><th>ymm_nciole</th></tr></thead>\n",
       "<thead><tr><th>int64</th><th>float64</th><th>float64</th><th>float64</th><th>float64</th><th>float64</th><th>float64</th><th>float64</th></tr></thead>\n",
       "<tr><td>13</td><td>14.779574</td><td>-0.145077</td><td>8.382003</td><td>0.122372</td><td>-0.174092</td><td>5.165337</td><td>-7.348422</td></tr>\n",
       "<tr><td>14</td><td>14.642088</td><td>-0.25461</td><td>11.709938</td><td>-0.032045</td><td>-0.258086</td><td>-1.351831</td><td>-10.88735</td></tr>\n",
       "</table></div>"
      ],
      "text/plain": [
       "<Table length=2>\n",
       "Internal count     RA       DEC      g mag   ...   y deg   xmm_nicole ymm_nciole\n",
       "    int64       float64   float64   float64  ...  float64   float64    float64  \n",
       "-------------- --------- --------- --------- ... --------- ---------- ----------\n",
       "            13 14.779574 -0.145077  8.382003 ... -0.174092   5.165337  -7.348422\n",
       "            14 14.642088  -0.25461 11.709938 ... -0.258086  -1.351831  -10.88735"
      ]
     },
     "execution_count": 19,
     "metadata": {},
     "output_type": "execute_result"
    }
   ],
   "source": [
    "stars = [13,14] #QSO5\n",
    "#back to guider center\n",
    "G2UVcor.FieldP = LocalScienceMaskProjector(center=coordinates.SkyCoord(14.62883*u.deg, 0.00512*u.deg), rotation=(90-100)*u.deg, gamma=1)\n",
    "selected_stars = Table.from_pandas((reduce(pd.DataFrame.append, map(lambda i: F1_stars[F1_stars['Internal count'] == i],stars))))\n",
    "# G2UVcor.FOV_center_guider_coord = 0.18182478, 0.00998363\n",
    "selected_stars.to_pandas().to_clipboard()\n",
    "selected_stars"
   ]
  },
  {
   "cell_type": "markdown",
   "metadata": {},
   "source": [
    "The stars table has been copied. Add it to the [stars tab of this spreadsheet](https://drive.google.com/open?id=1VBm8cv2qf9k8MZZmbUK5YKn10usmbJXw&authuser=vp2376%40columbia.edu&usp=drive_fs)"
   ]
  },
  {
   "cell_type": "code",
   "execution_count": 20,
   "metadata": {},
   "outputs": [
    {
     "name": "stdout",
     "output_type": "stream",
     "text": [
      "\n",
      "targets local coords in siderostat local frame:\n",
      "EL: 11.5 arcsec ; CE: 352.0 arcsec\n",
      "EL: -130.3 arcsec ; CE: 74.8 arcsec\n",
      "\n",
      "siderostat moves sequence: \n"
     ]
    },
    {
     "data": {
      "text/html": [
       "<div>\n",
       "<style scoped>\n",
       "    .dataframe tbody tr th:only-of-type {\n",
       "        vertical-align: middle;\n",
       "    }\n",
       "\n",
       "    .dataframe tbody tr th {\n",
       "        vertical-align: top;\n",
       "    }\n",
       "\n",
       "    .dataframe thead th {\n",
       "        text-align: right;\n",
       "    }\n",
       "</style>\n",
       "<table border=\"1\" class=\"dataframe\">\n",
       "  <thead>\n",
       "    <tr style=\"text-align: right;\">\n",
       "      <th></th>\n",
       "      <th>EL</th>\n",
       "      <th>CE</th>\n",
       "      <th>Image</th>\n",
       "    </tr>\n",
       "  </thead>\n",
       "  <tbody>\n",
       "    <tr>\n",
       "      <th>0</th>\n",
       "      <td>11.529247</td>\n",
       "      <td>351.975036</td>\n",
       "      <td>1.0</td>\n",
       "    </tr>\n",
       "    <tr>\n",
       "      <th>1</th>\n",
       "      <td>-141.834204</td>\n",
       "      <td>-277.162211</td>\n",
       "      <td>1.0</td>\n",
       "    </tr>\n",
       "  </tbody>\n",
       "</table>\n",
       "</div>"
      ],
      "text/plain": [
       "           EL          CE  Image\n",
       "0   11.529247  351.975036    1.0\n",
       "1 -141.834204 -277.162211    1.0"
      ]
     },
     "execution_count": 20,
     "metadata": {},
     "output_type": "execute_result"
    }
   ],
   "source": [
    "star_moves, flags, stars_coord = G2UVcor.compute_autocoll_move_stars(stars, F1_stars, hystcomp = Hysteresis_compensation, CEg = CEg, Elg = Elg)\n",
    "star_moves = pd.DataFrame(np.hstack((star_moves,flags[:,None])), columns=[\"EL\",\"CE\",\"Image\"])\n",
    "star_moves.to_clipboard()\n",
    "star_moves\n"
   ]
  },
  {
   "cell_type": "markdown",
   "metadata": {},
   "source": [
    "The moves has been copied. Add it to the [moves tab of this spreadsheet](https://drive.google.com/open?id=1VBm8cv2qf9k8MZZmbUK5YKn10usmbJXw&authuser=vp2376%40columbia.edu&usp=drive_fs)\n",
    "\n",
    "----------------------------"
   ]
  },
  {
   "cell_type": "code",
   "execution_count": 21,
   "metadata": {},
   "outputs": [
    {
     "data": {
      "text/html": [
       "<div><i>Table length=5</i>\n",
       "<table id=\"table140336453884800\" class=\"table-striped table-bordered table-condensed\">\n",
       "<thead><tr><th>Internal count</th><th>RA</th><th>DEC</th><th>g mag</th><th>x deg</th><th>y deg</th><th>xmm_nicole</th><th>ymm_nciole</th></tr></thead>\n",
       "<thead><tr><th>int64</th><th>float64</th><th>float64</th><th>float64</th><th>float64</th><th>float64</th><th>float64</th><th>float64</th></tr></thead>\n",
       "<tr><td>17</td><td>351.719117</td><td>-1.990274</td><td>10.760506</td><td>-0.134103</td><td>-0.13498</td><td>-5.661853</td><td>-5.698882</td></tr>\n",
       "<tr><td>18</td><td>351.915116</td><td>-1.887787</td><td>10.212835</td><td>0.061782</td><td>-0.032488</td><td>2.61064</td><td>-1.372815</td></tr>\n",
       "<tr><td>19</td><td>351.917335</td><td>-1.86546</td><td>9.717599</td><td>0.064001</td><td>-0.010161</td><td>2.704453</td><td>-0.42938</td></tr>\n",
       "<tr><td>20</td><td>351.944342</td><td>-1.952026</td><td>9.897263</td><td>0.09099</td><td>-0.096728</td><td>3.843519</td><td>-4.085917</td></tr>\n",
       "<tr><td>21</td><td>351.947933</td><td>-2.004666</td><td>11.121481</td><td>0.094576</td><td>-0.149369</td><td>3.993547</td><td>-6.307</td></tr>\n",
       "</table></div>"
      ],
      "text/plain": [
       "<Table length=5>\n",
       "Internal count     RA        DEC    ...   y deg   xmm_nicole ymm_nciole\n",
       "    int64       float64    float64  ...  float64   float64    float64  \n",
       "-------------- ---------- --------- ... --------- ---------- ----------\n",
       "            17 351.719117 -1.990274 ...  -0.13498  -5.661853  -5.698882\n",
       "            18 351.915116 -1.887787 ... -0.032488    2.61064  -1.372815\n",
       "            19 351.917335  -1.86546 ... -0.010161   2.704453   -0.42938\n",
       "            20 351.944342 -1.952026 ... -0.096728   3.843519  -4.085917\n",
       "            21 351.947933 -2.004666 ... -0.149369   3.993547     -6.307"
      ]
     },
     "execution_count": 21,
     "metadata": {},
     "output_type": "execute_result"
    }
   ],
   "source": [
    "stars = [17, 18, 19, 20, 21] #QSOV 14\n",
    "#back to guider center\n",
    "G2UVcor.FieldP = LocalScienceMaskProjector(center=coordinates.SkyCoord(351.8533*u.deg, -1.8553*u.deg), rotation=0*u.deg, gamma=1)\n",
    "\n",
    "selected_stars = Table.from_pandas((reduce(pd.DataFrame.append, map(lambda i: F1_stars[F1_stars['Internal count'] == i],stars))))\n",
    "# G2UVcor.FOV_center_guider_coord = 0.18182478, 0.00998363\n",
    "\n",
    "selected_stars.to_pandas().to_clipboard()\n",
    "selected_stars"
   ]
  },
  {
   "cell_type": "code",
   "execution_count": 22,
   "metadata": {},
   "outputs": [
    {
     "name": "stdout",
     "output_type": "stream",
     "text": [
      "\n",
      "targets local coords in siderostat local frame:\n",
      "EL: 94.6 arcsec ; CE: -99.2 arcsec\n",
      "EL: 267.3 arcsec ; CE: 252.2 arcsec\n",
      "EL: 307.0 arcsec ; CE: 257.3 arcsec\n",
      "EL: 151.2 arcsec ; CE: 300.5 arcsec\n",
      "EL: 57.1 arcsec ; CE: 304.1 arcsec\n",
      "\n",
      "siderostat moves sequence: \n"
     ]
    },
    {
     "data": {
      "text/html": [
       "<div>\n",
       "<style scoped>\n",
       "    .dataframe tbody tr th:only-of-type {\n",
       "        vertical-align: middle;\n",
       "    }\n",
       "\n",
       "    .dataframe tbody tr th {\n",
       "        vertical-align: top;\n",
       "    }\n",
       "\n",
       "    .dataframe thead th {\n",
       "        text-align: right;\n",
       "    }\n",
       "</style>\n",
       "<table border=\"1\" class=\"dataframe\">\n",
       "  <thead>\n",
       "    <tr style=\"text-align: right;\">\n",
       "      <th></th>\n",
       "      <th>EL</th>\n",
       "      <th>CE</th>\n",
       "      <th>Image</th>\n",
       "    </tr>\n",
       "  </thead>\n",
       "  <tbody>\n",
       "    <tr>\n",
       "      <th>0</th>\n",
       "      <td>94.603005</td>\n",
       "      <td>-99.194811</td>\n",
       "      <td>1.0</td>\n",
       "    </tr>\n",
       "    <tr>\n",
       "      <th>1</th>\n",
       "      <td>172.681476</td>\n",
       "      <td>351.383658</td>\n",
       "      <td>1.0</td>\n",
       "    </tr>\n",
       "    <tr>\n",
       "      <th>2</th>\n",
       "      <td>39.714966</td>\n",
       "      <td>5.066915</td>\n",
       "      <td>1.0</td>\n",
       "    </tr>\n",
       "    <tr>\n",
       "      <th>3</th>\n",
       "      <td>-155.830699</td>\n",
       "      <td>43.240719</td>\n",
       "      <td>1.0</td>\n",
       "    </tr>\n",
       "    <tr>\n",
       "      <th>4</th>\n",
       "      <td>-94.093264</td>\n",
       "      <td>3.632538</td>\n",
       "      <td>1.0</td>\n",
       "    </tr>\n",
       "  </tbody>\n",
       "</table>\n",
       "</div>"
      ],
      "text/plain": [
       "           EL          CE  Image\n",
       "0   94.603005  -99.194811    1.0\n",
       "1  172.681476  351.383658    1.0\n",
       "2   39.714966    5.066915    1.0\n",
       "3 -155.830699   43.240719    1.0\n",
       "4  -94.093264    3.632538    1.0"
      ]
     },
     "execution_count": 22,
     "metadata": {},
     "output_type": "execute_result"
    }
   ],
   "source": [
    "star_moves, flags, stars_coord = G2UVcor.compute_autocoll_move_stars(stars, F1_stars, hystcomp = Hysteresis_compensation, CEg = CEg, Elg = Elg)\n",
    "star_moves = pd.DataFrame(np.hstack((star_moves,flags[:,None])), columns=[\"EL\",\"CE\",\"Image\"])\n",
    "star_moves.to_clipboard()\n",
    "star_moves"
   ]
  },
  {
   "cell_type": "markdown",
   "metadata": {},
   "source": [
    "The moves has been copied. Add it to the [moves tab of this spreadsheet](https://drive.google.com/open?id=1VBm8cv2qf9k8MZZmbUK5YKn10usmbJXw&authuser=vp2376%40columbia.edu&usp=drive_fs)\n",
    "\n",
    "----------------------------"
   ]
  }
 ],
 "metadata": {
  "kernelspec": {
   "display_name": "Python 3.8.13 ('py38')",
   "language": "python",
   "name": "python3"
  },
  "language_info": {
   "codemirror_mode": {
    "name": "ipython",
    "version": 3
   },
   "file_extension": ".py",
   "mimetype": "text/x-python",
   "name": "python",
   "nbconvert_exporter": "python",
   "pygments_lexer": "ipython3",
   "version": "3.8.13"
  },
  "vscode": {
   "interpreter": {
    "hash": "6429251b47eee9d8b9b4d9852116ca976e0b69b141b5bab3b174d6f3c07282ea"
   }
  }
 },
 "nbformat": 4,
 "nbformat_minor": 2
}
