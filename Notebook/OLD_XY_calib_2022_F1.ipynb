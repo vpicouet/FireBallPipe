{
 "cells": [
  {
   "cell_type": "markdown",
   "metadata": {},
   "source": [
    "# XY 2022\n",
    "## Example notebook + questions"
   ]
  },
  {
   "cell_type": "markdown",
   "metadata": {},
   "source": [
    "### F1\n"
   ]
  },
  {
   "cell_type": "code",
   "execution_count": null,
   "metadata": {},
   "outputs": [],
   "source": [
    "# prerequisites: \n",
    "previous_xy_mapping = os.getcwd()+'/Files/Guider2UV_F4_nogamma.new.pkl'\n",
    "mask_det_map_file = '../Calibration/Mappings/mapping-mask-det-w-1806012-F4.pkl'\n",
    "target_filename = '../Calibration/Targets/2022/targets_F4.txt'"
   ]
  },
  {
   "cell_type": "code",
   "execution_count": 2,
   "metadata": {},
   "outputs": [],
   "source": [
    "%matplotlib inline\n",
    "import sys\n",
    "import numpy as np\n",
    "from astropy.io import fits\n",
    "from astropy import wcs, coordinates\n",
    "from astropy import units as u\n",
    "from astropy.wcs.utils import proj_plane_pixel_scales\n",
    "from matplotlib import pyplot as plt\n",
    "from astropy.table import Table\n",
    "import matplotlib.patches as patches\n",
    "\n",
    "sys.path.insert(1, '../../Calibration')\n",
    "sys.path.append( '../../FireBallPipe')\n",
    "from guider2UV.guider2UV import Guider2UV, diff_skycoord\n",
    "from Calibration.mapping import Mapping"
   ]
  },
  {
   "cell_type": "code",
   "execution_count": 3,
   "metadata": {},
   "outputs": [],
   "source": [
    "#mask_plate_scale = 42.26134 #mm/deg\n",
    "#detector platescale\n",
    "#yscale = 1.106 # arcsec/pix spatial (y det -> y mask)\n",
    "#xscale = 1.271 # arcsec/pix spectral (x det -> - x mask)\n",
    "\n",
    "#guider center => put source on guider center\n",
    "gc = np.array([640, 540])"
   ]
  },
  {
   "cell_type": "markdown",
   "metadata": {},
   "source": [
    "## calibrated frame encoder gains:\n",
    "\n",
    "EL : 0.092 x ? = ? arcsec/inc\n",
    "\n",
    "CE : 0.01 x ? = ? arcsec/inc"
   ]
  },
  {
   "cell_type": "code",
   "execution_count": 45,
   "metadata": {},
   "outputs": [],
   "source": [
    "# encoder gains:\n",
    "CEg = 1.02928\n",
    "Elg = 1.00379\n"
   ]
  },
  {
   "cell_type": "markdown",
   "metadata": {},
   "source": [
    "## initialization from last xy calib\n",
    "This is to know where we begin. \n",
    "\n",
    "We can directly do this for F1 and F4, by using 2018 calibration.\n",
    "\n",
    "For F2, F3 and QSO field we need to have a first mapping... how?"
   ]
  },
  {
   "cell_type": "code",
   "execution_count": 48,
   "metadata": {},
   "outputs": [
    {
     "name": "stdout",
     "output_type": "stream",
     "text": [
      "FOV center angular position in guider <SkyCoord (SkyOffsetICRS: rotation=0.0 deg, origin=<ICRS Coordinate: (ra, dec) in deg\n",
      "    (250.39242605, 36.41307253)>): (lon, lat) in deg\n",
      "    (0.18585616, 0.01856568)>\n",
      "FOV center pixel position in guider [array(1377.264363), array(605.11696717)]\n"
     ]
    }
   ],
   "source": [
    "# Open last XY mapping from 2018\n",
    "G2UV = Guider2UV(filename=os.getcwd()+'/Files/Guider2UV_F4_nogamma.new.pkl')\n",
    "gc_coord = G2UV.GuiderP.pix2local([gc])\n",
    "\n",
    "# Open new slits positions \n",
    "target_filename = '../Calibration/Targets/2022/targets_F4.txt'\n",
    "F4 = Table.read(target_filename, format='ascii')\n"
   ]
  },
  {
   "cell_type": "markdown",
   "metadata": {},
   "source": [
    "## Diffuse UV image\n",
    "\n",
    "load new mapping"
   ]
  },
  {
   "cell_type": "code",
   "execution_count": 58,
   "metadata": {},
   "outputs": [],
   "source": [
    "# We actually do not need here the diffuse image. Don't know why Didier was oppening it\n",
    "diffuse_tab = Table.read(filename=os.getcwd()+'/Files/StackedImage_44-63-NoDark_table.csv', format='csv')\n",
    "# Open new mask to detector mapping that we made after last shimming iteration.\n",
    "\n",
    "mask_det_map_file = '../Calibration/Mappings/mapping-mask-det-w-1806012-F4.pkl'\n",
    "# mask_det_map_file = '../Calibration/Mappings/2022/mapping-mask-det-w-2022-5-F4.pkl'\n",
    "mask_det_map = Mapping(mask_det_map_file)\n",
    "dxm_dyd = -0.013\n",
    "dym_dxd = -0.015\n",
    "m = np.array([[0., dxm_dyd],[dym_dxd ,0.]])"
   ]
  },
  {
   "cell_type": "markdown",
   "metadata": {},
   "source": [
    "record shift from mapping\n",
    "\n"
   ]
  },
  {
   "cell_type": "code",
   "execution_count": 66,
   "metadata": {},
   "outputs": [],
   "source": [
    "# I guess here we write in both direction the x-y offset we have from\n",
    "#  diffuse illumination used to create the mapping and the one we take\n",
    "# just before the XY calib\n",
    " \n",
    "diffuse_offset = [ 16.0+1, 1.8+1] \n",
    "# definition of the mapping mask to detector and detector to mask\n",
    "direct_map = lambda w, x, y: mask_det_map.map(w, x, y) + diffuse_offset\n",
    "inv_map = lambda w, x, y: mask_det_map.inv_map(w, x - diffuse_offset[0], y - diffuse_offset[1])"
   ]
  },
  {
   "cell_type": "markdown",
   "metadata": {},
   "source": [
    "## Scan sequence\n",
    "Guider center\n",
    "\n",
    "then do 8 slits \n",
    "\n",
    "then do 4 stars \n",
    "\n",
    "then go to guider center\n",
    "\n",
    "gc - 31 - 40 - 44 - 33 - 23 - 6  - 8 - 13 - gc - s18 - s29 - s34 - s14 - gc"
   ]
  },
  {
   "cell_type": "markdown",
   "metadata": {},
   "source": [
    "### Go from guider to 1st slit: #31"
   ]
  },
  {
   "cell_type": "code",
   "execution_count": 67,
   "metadata": {},
   "outputs": [
    {
     "name": "stdout",
     "output_type": "stream",
     "text": [
      "slit position in mm on mask: [ 4.853195 -3.812219]\n",
      "slit coord in guider local frame: ['0d05m48.03789274s -0d05m49.86729775s']\n",
      "EL: [173.36190475] arcsec \n",
      "CE: [169.95729916] arcsec\n"
     ]
    }
   ],
   "source": [
    "# x,y position from slit 31\n",
    "slit_pos1 =   np.array([F4[F4['Internal-count']=='31']['x_mm'][0], F4[F4['Internal-count']=='31']['y_mm'][0]])\n",
    "\n",
    "print(\"slit position in mm on mask:\", slit_pos1)\n",
    "slit_coord1 = G2UV.SienceMask2guider(slit_pos1, angle=True)\n",
    "print(\"slit coord in guider local frame:\", slit_coord1.to_string(u'dms'))\n",
    "\n",
    "#I guess frame move from guider center to slit 31. How do you take into account the guider center?\n",
    "# we do not care because gc_coord is almost 0,0?\n",
    "theta_EL =  slit_coord1.lon.deg/2./Elg\n",
    "theta_CE = -slit_coord1.lat.deg/2./CEg\n",
    "print(\"EL: {} arcsec \\nCE: {} arcsec\".format(theta_EL*3600, theta_CE*3600))"
   ]
  },
  {
   "cell_type": "markdown",
   "metadata": {},
   "source": [
    "### Go from guider to 1st slit: #31"
   ]
  },
  {
   "cell_type": "markdown",
   "metadata": {},
   "source": [
    "remove offset from model to prediction"
   ]
  },
  {
   "cell_type": "code",
   "execution_count": 68,
   "metadata": {},
   "outputs": [
    {
     "name": "stdout",
     "output_type": "stream",
     "text": [
      "mapped slit position on detector:  [1434.8650639   585.43183891]\n"
     ]
    }
   ],
   "source": [
    "\n",
    "slit_coord1_det = direct_map(0.2139, slit_pos1[0], slit_pos1[1])\n",
    "# slit_coord1_det = direct_map(mask_det_map.w[1], slit_pos1[0], slit_pos1[1])\n",
    "print(\"mapped slit position on detector: \", slit_coord1_det)"
   ]
  },
  {
   "cell_type": "code",
   "execution_count": 69,
   "metadata": {},
   "outputs": [
    {
     "name": "stdout",
     "output_type": "stream",
     "text": [
      "observed slit position in mm on mask: [ 4.36749312 -3.50296168]\n",
      "observed slit position (linear mapping) in mm on mask: [ 4.35700891 -8.93224304]\n"
     ]
    }
   ],
   "source": [
    "# compute observed position on det\n",
    "slit_coord1_obs_det = np.array([1776.2, 623.6]) # observed\n",
    "slit_coord1_obs_wave = 0.20619\n",
    "#compute observed position in mask frame\n",
    "slit_pos1_obs = inv_map(slit_coord1_obs_wave, slit_coord1_obs_det[0], slit_coord1_obs_det[1])\n",
    "# I don't understand this formula. How can you add to a mm position a difference in \n",
    "# detector coordinates?\n",
    "slit_pos1_obs2 = slit_pos1 + m.dot(slit_coord1_obs_det - slit_coord1_det)\n",
    "print(\"observed slit position in mm on mask:\", slit_pos1_obs)\n",
    "print(\"observed slit position (linear mapping) in mm on mask:\", slit_pos1_obs2)\n"
   ]
  },
  {
   "cell_type": "code",
   "execution_count": 70,
   "metadata": {},
   "outputs": [
    {
     "name": "stdout",
     "output_type": "stream",
     "text": [
      "observed slit coord in guider local frame: ['0d06m14.03817827s -0d05m08.18386659s']\n",
      "observed slit coord in guider pixel frame: [array([1060.29403101]), array([188.59037517])]\n"
     ]
    }
   ],
   "source": [
    "\n",
    "# Here the only difference in the angle... Don't understand that.\n",
    "slit_coord1_obs = G2UV.SienceMask2guider(slit_pos1_obs, angle=True)\n",
    "print(\"observed slit coord in guider local frame:\", slit_coord1_obs.to_string(u'dms'))\n",
    "slit_coord1_obs_pix = G2UV.SienceMask2guider(slit_pos1_obs, angle=False)\n",
    "print(\"observed slit coord in guider pixel frame:\", slit_coord1_obs_pix)\n"
   ]
  },
  {
   "cell_type": "code",
   "execution_count": 71,
   "metadata": {},
   "outputs": [
    {
     "name": "stdout",
     "output_type": "stream",
     "text": [
      "offset from guider in arcsec (guider frame): \n",
      " [[-26.00028552]\n",
      " [-41.68343116]]\n"
     ]
    }
   ],
   "source": [
    "offset =  diff_skycoord(slit_coord1_obs, slit_coord1) \n",
    "print(\"offset from guider in arcsec (guider frame): \\n\",offset*3600)\n"
   ]
  },
  {
   "cell_type": "markdown",
   "metadata": {},
   "source": [
    "## create new mapping"
   ]
  },
  {
   "cell_type": "code",
   "execution_count": 72,
   "metadata": {},
   "outputs": [],
   "source": [
    "# new mapping has the same form than previous one\n",
    "G2UVnew  = G2UV.copy()\n",
    "# add the previously computed offset to the previous mapping\n",
    "newFOVcenter = coordinates.SkyCoord(G2UV.FOV_center_guider_coord.lon + offset[0]*u.deg, \n",
    "                              G2UV.FOV_center_guider_coord.lat + offset[1]*u.deg,\n",
    "                              frame = G2UV.GuiderP.localframe)\n",
    "# Apply this new center to the new mapping\n",
    "G2UVnew.FOV_center_guider_coord = newFOVcenter\n"
   ]
  },
  {
   "cell_type": "code",
   "execution_count": 74,
   "metadata": {},
   "outputs": [
    {
     "name": "stdout",
     "output_type": "stream",
     "text": [
      "slit coord in guider local frame, corrected from offset: ['0d05m22.03760722s -0d06m31.55072891s']\n"
     ]
    }
   ],
   "source": [
    "#Use the new mapping with offset to predict new position of slit\n",
    "slit_coord1_cor = G2UVnew.SienceMask2guider(slit_pos1, angle=True)\n",
    "print(\"slit coord in guider local frame, corrected from offset:\", slit_coord1_cor.to_string(u'dms'))\n"
   ]
  },
  {
   "cell_type": "markdown",
   "metadata": {},
   "source": [
    "### go back to guider center (absolute)"
   ]
  },
  {
   "cell_type": "markdown",
   "metadata": {},
   "source": [
    "go to 1st slit, offset removed:"
   ]
  },
  {
   "cell_type": "code",
   "execution_count": 76,
   "metadata": {},
   "outputs": [
    {
     "name": "stdout",
     "output_type": "stream",
     "text": [
      "EL: [173.36190475] arcsec \n",
      "CE: [169.95729916] arcsec\n"
     ]
    }
   ],
   "source": [
    "# to go to the previously computed slit you need to do the following frame move:\n",
    "# we divide by 2 as we are in autocoll\n",
    "theta_EL =  slit_coord1.lon.deg/2./Elg\n",
    "theta_CE = -slit_coord1.lat.deg/2./CEg\n",
    "print(\"EL: {} arcsec \\nCE: {} arcsec\".format(theta_EL*3600, theta_CE*3600))\n",
    "# Do we need now to verify that we are at thr right position? If we are not, it's that\n",
    "# the offset was not well taken into account?"
   ]
  },
  {
   "cell_type": "markdown",
   "metadata": {},
   "source": [
    "### Loop on slits\n",
    "Do we need to add slits += slits[::-1]?"
   ]
  },
  {
   "cell_type": "code",
   "execution_count": 143,
   "metadata": {},
   "outputs": [
    {
     "name": "stdout",
     "output_type": "stream",
     "text": [
      "Internal-count    x_mm      y_mm       RA      DEC   \n",
      "-------------- --------- --------- --------- --------\n",
      "             6  -8.51572  4.436704 36.704784 0.756674\n",
      "             8 -7.570966    1.9379 36.727066 0.698124\n",
      "            13 -5.303522 -0.138687 36.780373 0.647485\n",
      "            23  1.149408  -0.37309 36.931808 0.643882\n",
      "            31  4.853195 -3.812219 37.018761  0.56313\n",
      "            33  5.386155   4.42581 37.031296 0.756175\n",
      "            40  8.811543 -3.028793 37.111828 0.581537\n",
      "            44 10.563193  2.136243 37.153091 0.702315\n"
     ]
    }
   ],
   "source": [
    "slits = ['31', '40', '44', '33', '23', '6', '8', '13'] \n",
    "# slits += slits[::-1]\n",
    "# print(slits)\n",
    "mask = F4.to_pandas()['Internal-count'].isin(slits)\n",
    "selected_slits = F4[mask.values]['Internal-count',\"x_mm\",\"y_mm\",\"RA\",\"DEC\"]\n",
    "print(selected_slits)"
   ]
  },
  {
   "cell_type": "code",
   "execution_count": 172,
   "metadata": {},
   "outputs": [
    {
     "data": {
      "text/html": [
       "<div><i>Table length=8</i>\n",
       "<table id=\"table140203858672656\" class=\"table-striped table-bordered table-condensed\">\n",
       "<thead><tr><th>Internal-count</th><th>xmm_pred</th><th>ymm_pred</th><th>xy_glf_pred</th><th>x_gpix_pred</th><th>y_gpix_pred</th><th>theta_EL</th><th>theta_CE</th></tr></thead>\n",
       "<thead><tr><th></th><th></th><th></th><th>deg,deg</th><th></th><th></th><th></th><th></th></tr></thead>\n",
       "<thead><tr><th>str7</th><th>float64</th><th>float64</th><th>SkyCoord</th><th>float64</th><th>float64</th><th>float64</th><th>float64</th></tr></thead>\n",
       "<tr><td>6</td><td>4.853195</td><td>-3.812219</td><td>0.08945489089506517,-0.10876409136372321</td><td>1005.2794286336583</td><td>93.27246029125091</td><td>0.04455856847301984</td><td>0.05283503583268072</td></tr>\n",
       "<tr><td>8</td><td>8.811543</td><td>-3.028793</td><td>0.10883184611760682,-0.2024608944480025</td><td>1095.871349529831</td><td>-295.6712247612692</td><td>0.054210465394956525</td><td>0.0983507376263031</td></tr>\n",
       "<tr><td>13</td><td>10.563193</td><td>2.136243</td><td>0.23162135760719532,-0.2429245397592568</td><td>1578.8353423022463</td><td>-460.71257555716613</td><td>0.11537341356618183</td><td>0.11800702421073798</td></tr>\n",
       "<tr><td>23</td><td>5.386155</td><td>4.42581</td><td>0.28463278664258745,-0.11957137011046146</td><td>1759.123449283211</td><td>42.34695715031819</td><td>0.14177905071906846</td><td>0.05808495749964123</td></tr>\n",
       "<tr><td>31</td><td>1.149408</td><td>-0.37309</td><td>0.17006082610219198,-0.020294194109180916</td><td>1316.0786011641105</td><td>451.0044460809549</td><td>0.0847093645594158</td><td>0.009858441876448059</td></tr>\n",
       "<tr><td>33</td><td>-8.51572</td><td>4.436704</td><td>0.2818680377051379,0.20975537231778413</td><td>1761.5413264744411</td><td>1333.3726013720427</td><td>0.14040189566798728</td><td>-0.10189422330064907</td></tr>\n",
       "<tr><td>40</td><td>-7.570966</td><td>1.9379</td><td>0.22284788559496477,0.18672921205859702</td><td>1534.5263466634883</td><td>1257.8027134927486</td><td>0.11100324051592703</td><td>-0.09070865656507317</td></tr>\n",
       "<tr><td>44</td><td>-5.303522</td><td>-0.138687</td><td>0.17417219287899036,0.13250295031859852</td><td>1340.0062693305288</td><td>1056.1203952256876</td><td>0.08675728632432599</td><td>-0.06436681482133069</td></tr>\n",
       "</table></div>"
      ],
      "text/plain": [
       "<Table length=8>\n",
       "Internal-count  xmm_pred  ymm_pred ...       theta_EL             theta_CE      \n",
       "                                   ...                                          \n",
       "     str7       float64   float64  ...       float64              float64       \n",
       "-------------- --------- --------- ... -------------------- --------------------\n",
       "             6  4.853195 -3.812219 ...  0.04455856847301984  0.05283503583268072\n",
       "             8  8.811543 -3.028793 ... 0.054210465394956525   0.0983507376263031\n",
       "            13 10.563193  2.136243 ...  0.11537341356618183  0.11800702421073798\n",
       "            23  5.386155   4.42581 ...  0.14177905071906846  0.05808495749964123\n",
       "            31  1.149408  -0.37309 ...   0.0847093645594158 0.009858441876448059\n",
       "            33  -8.51572  4.436704 ...  0.14040189566798728 -0.10189422330064907\n",
       "            40 -7.570966    1.9379 ...  0.11100324051592703 -0.09070865656507317\n",
       "            44 -5.303522 -0.138687 ...  0.08675728632432599 -0.06436681482133069"
      ]
     },
     "execution_count": 172,
     "metadata": {},
     "output_type": "execute_result"
    }
   ],
   "source": [
    "slit_pos = np.zeros((len(slits),2))\n",
    "slit_coord = [] # filed with SienceMask2guider(slit_pos[i], angle=True)\n",
    "slit_coord_pix = np.zeros((len(slits),2)) # filed with G2UVnew.SienceMask2guider(slit_pos[i], angle=False)\n",
    "theta_EL = np.zeros(len(slits)) # moves that will need to be done\n",
    "theta_CE = np.zeros(len(slits))\n",
    "\n",
    "for i, s in enumerate(slits):\n",
    "    \n",
    "    slit_pos[i] = np.array([F4[F4['Internal-count']==s]['x_mm'][0], F4[F4['Internal-count']==s]['y_mm'][0]])\n",
    "    # print(\"Slit %i position in mm on mask:\"%(i), slit_pos[i])\n",
    "    slit_coord.append(G2UVnew.SienceMask2guider(slit_pos[i], angle=True))\n",
    "    # print(\"Slit %i coord in guider local frame:\"%(i), slit_coord[-1].to_string(u'dms'))\n",
    "    slit_coord_pix[i] = np.array(G2UVnew.SienceMask2guider(slit_pos[i], angle=False)).T\n",
    "    # print(\"Slit %i coord in guider pixel frame:\"%(i), slit_coord_pix[i])\n",
    "\n",
    "    #frame movevement \n",
    "    theta_EL[i] =  slit_coord[-1].lon.deg/2./Elg\n",
    "    theta_CE[i] = -slit_coord[-1].lat.deg/2./CEg\n",
    "    # print(\"EL: {:.1f} arcsec \\nCE: {:.1f} arcsec\".format(theta_EL[i]*3600, theta_CE[i]*3600))\n",
    "    # print(\"-------------\")\n",
    "\n",
    "# compute relative moves\n",
    "moves_EL = theta_EL[1:] - theta_EL[:-1]\n",
    "moves_CE = theta_CE[1:] - theta_CE[:-1]\n",
    "selected_slits[\"xmm_pred\"] = slit_pos[:,0]\n",
    "selected_slits[\"ymm_pred\"] = slit_pos[:,1]\n",
    "# selected_slits[\"x_glf_pred\"] = slit_coord[:,0]\n",
    "selected_slits[\"xy_glf_pred\"] = slit_coord\n",
    "selected_slits[\"x_gpix_pred\"] = slit_coord_pix[:,0]\n",
    "selected_slits[\"y_gpix_pred\"] = slit_coord_pix[:,1]\n",
    "selected_slits[\"theta_EL\"] = theta_EL\n",
    "selected_slits[\"theta_CE\"] = theta_CE\n",
    "\n",
    "selected_slits['Internal-count',\"xmm_pred\",\"ymm_pred\",\"xy_glf_pred\",\"x_gpix_pred\",\"y_gpix_pred\",\"theta_EL\",\"theta_CE\"]"
   ]
  },
  {
   "cell_type": "code",
   "execution_count": 163,
   "metadata": {},
   "outputs": [
    {
     "name": "stdout",
     "output_type": "stream",
     "text": [
      "move 0 :  EL 34.7 arcsec - CE 163.9 arcsec\n",
      "move 1 :  EL 220.2 arcsec - CE 70.8 arcsec\n",
      "move 2 :  EL 95.1 arcsec - CE -215.7 arcsec\n",
      "move 4 :  EL 200.5 arcsec - CE -402.3 arcsec\n",
      "move 5 :  EL -105.8 arcsec - CE 40.3 arcsec\n",
      "move 6 :  EL -87.3 arcsec - CE 94.8 arcsec\n"
     ]
    }
   ],
   "source": [
    "# remove middle\n",
    "# We should not remove middle if we do not add slit[::-1]\n",
    "# why 6 moves and not 7?\n",
    "idx = np.arange(len(slits)//2)\n",
    "idx = np.concatenate((idx[:-1], idx[:-1]+len(idx)))\n",
    "for i in idx:\n",
    "    print(\"move %i :  EL %0.1f arcsec - CE %0.1f arcsec\"%(i,moves_EL[i]*3600, moves_CE[i]*3600))\n"
   ]
  },
  {
   "cell_type": "markdown",
   "metadata": {},
   "source": [
    "Write down the barycentered observed slits position :"
   ]
  },
  {
   "cell_type": "code",
   "execution_count": 171,
   "metadata": {},
   "outputs": [
    {
     "name": "stdout",
     "output_type": "stream",
     "text": [
      "Observed slits positions are:\n"
     ]
    },
    {
     "data": {
      "text/html": [
       "<div><i>Table length=8</i>\n",
       "<table id=\"table140203858607888\" class=\"table-striped table-bordered table-condensed\">\n",
       "<thead><tr><th>Internal-count</th><th>x_dpix_obs</th><th>y_dpix_obs</th></tr></thead>\n",
       "<thead><tr><th>str7</th><th>float64</th><th>float64</th></tr></thead>\n",
       "<tr><td>6</td><td>1803.0</td><td>421.2</td></tr>\n",
       "<tr><td>8</td><td>1469.6</td><td>288.7</td></tr>\n",
       "<tr><td>13</td><td>1304.2</td><td>1347.9</td></tr>\n",
       "<tr><td>23</td><td>1619.6</td><td>1625.4</td></tr>\n",
       "<tr><td>31</td><td>1620.0</td><td>1626.6</td></tr>\n",
       "<tr><td>33</td><td>1304.3</td><td>1355.6</td></tr>\n",
       "<tr><td>40</td><td>1469.5</td><td>288.7</td></tr>\n",
       "<tr><td>44</td><td>1802.9</td><td>412.5</td></tr>\n",
       "</table></div>"
      ],
      "text/plain": [
       "<Table length=8>\n",
       "Internal-count x_dpix_obs y_dpix_obs\n",
       "     str7       float64    float64  \n",
       "-------------- ---------- ----------\n",
       "             6     1803.0      421.2\n",
       "             8     1469.6      288.7\n",
       "            13     1304.2     1347.9\n",
       "            23     1619.6     1625.4\n",
       "            31     1620.0     1626.6\n",
       "            33     1304.3     1355.6\n",
       "            40     1469.5      288.7\n",
       "            44     1802.9      412.5"
      ]
     },
     "execution_count": 171,
     "metadata": {},
     "output_type": "execute_result"
    }
   ],
   "source": [
    "# slit_coord_obs_det = np.zeros((8,2)) + np.array([1800, 421])\n",
    "slit_coord_obs_det = np.array([[ 1803 ,  421.2 ],\n",
    "        [ 1469.6 ,  288.7 ],\n",
    "        [ 1304.2 , 1347.9 ],\n",
    "        [ 1619.6 ,  1625.4 ],\n",
    "        [ 1620 ,  1626.6 ],\n",
    "\n",
    "        [ 1304.3 ,  1355.6 ],\n",
    "        [ 1469.5 ,  288.7 ],\n",
    "        [ 1802.9 ,  412.5 ]])\n",
    "selected_slits[\"x_dpix_obs\"] = slit_coord_obs_det[:,0]\n",
    "selected_slits[\"y_dpix_obs\"] = slit_coord_obs_det[:,1]\n",
    "print(\"Observed slits positions are:\")\n",
    "selected_slits['Internal-count',\"x_dpix_obs\",\"y_dpix_obs\"]"
   ]
  },
  {
   "cell_type": "code",
   "execution_count": 175,
   "metadata": {},
   "outputs": [
    {
     "name": "stdout",
     "output_type": "stream",
     "text": [
      "Observed slits positions with offset are: \n"
     ]
    },
    {
     "data": {
      "text/html": [
       "<div><i>Table length=8</i>\n",
       "<table id=\"table140204400089072\" class=\"table-striped table-bordered table-condensed\">\n",
       "<thead><tr><th>Internal-count</th><th>x_dpix_obs</th><th>y_dpix_obs</th><th>x_dpix_obs_off</th><th>y_dpix_obs_off</th></tr></thead>\n",
       "<thead><tr><th>str7</th><th>float64</th><th>float64</th><th>float64</th><th>float64</th></tr></thead>\n",
       "<tr><td>6</td><td>1803.0</td><td>421.2</td><td>1434.8650639047241</td><td>585.4318389144532</td></tr>\n",
       "<tr><td>8</td><td>1469.6</td><td>288.7</td><td>1374.0646684855358</td><td>282.6683321302842</td></tr>\n",
       "<tr><td>13</td><td>1304.2</td><td>1347.9</td><td>1023.6213263757355</td><td>154.47212256836147</td></tr>\n",
       "<tr><td>23</td><td>1619.6</td><td>1625.4</td><td>880.9704115754898</td><td>557.8605379516365</td></tr>\n",
       "<tr><td>31</td><td>1620.0</td><td>1626.6</td><td>1212.5918542880215</td><td>874.2873592098728</td></tr>\n",
       "<tr><td>33</td><td>1304.3</td><td>1355.6</td><td>895.6365605263172</td><td>1624.9946945186036</td></tr>\n",
       "<tr><td>40</td><td>1469.5</td><td>288.7</td><td>1064.253421103943</td><td>1549.728941752119</td></tr>\n",
       "<tr><td>44</td><td>1802.9</td><td>412.5</td><td>1203.386652592604</td><td>1371.473072956389</td></tr>\n",
       "</table></div>"
      ],
      "text/plain": [
       "<Table length=8>\n",
       "Internal-count x_dpix_obs y_dpix_obs   x_dpix_obs_off     y_dpix_obs_off  \n",
       "     str7       float64    float64        float64            float64      \n",
       "-------------- ---------- ---------- ------------------ ------------------\n",
       "             6     1803.0      421.2 1434.8650639047241  585.4318389144532\n",
       "             8     1469.6      288.7 1374.0646684855358  282.6683321302842\n",
       "            13     1304.2     1347.9 1023.6213263757355 154.47212256836147\n",
       "            23     1619.6     1625.4  880.9704115754898  557.8605379516365\n",
       "            31     1620.0     1626.6 1212.5918542880215  874.2873592098728\n",
       "            33     1304.3     1355.6  895.6365605263172 1624.9946945186036\n",
       "            40     1469.5      288.7  1064.253421103943  1549.728941752119\n",
       "            44     1802.9      412.5  1203.386652592604  1371.473072956389"
      ]
     },
     "execution_count": 175,
     "metadata": {},
     "output_type": "execute_result"
    }
   ],
   "source": [
    "slit_pos_offset = mask_det_map.map(0.2139, slit_pos[:,0], slit_pos[:, 1]).T + diffuse_offset\n",
    "selected_slits[\"x_dpix_obs_off\"] = slit_pos_offset[:,0]\n",
    "selected_slits[\"y_dpix_obs_off\"] = slit_pos_offset[:,1]\n",
    "print(\"Observed slits positions with offset are: \")\n",
    "selected_slits['Internal-count',\"x_dpix_obs\",\"y_dpix_obs\",\"x_dpix_obs_off\",\"y_dpix_obs_off\"]"
   ]
  },
  {
   "cell_type": "markdown",
   "metadata": {},
   "source": [
    "map on mask :"
   ]
  },
  {
   "cell_type": "code",
   "execution_count": 97,
   "metadata": {},
   "outputs": [],
   "source": [
    "# compute the position in the mask frame of the slit probed at the central wavelength or barycentered over the 3 waves\n",
    "slit_coord_obs_wave = 0.20619    \n",
    "\n",
    "#slit_pos_obs = mask_det_map.inv_map(slit_coord_obs_wave, slit_coord_obs_det[:,0], slit_coord_obs_det[:,1]).T\n",
    "slit_pos_obs = inv_map(slit_coord_obs_wave, slit_coord_obs_det[:,0], slit_coord_obs_det[:,1]).T\n"
   ]
  },
  {
   "cell_type": "code",
   "execution_count": 181,
   "metadata": {},
   "outputs": [
    {
     "name": "stdout",
     "output_type": "stream",
     "text": [
      "observed slit 0 position in mm on mask: [ 6.9958932  -3.98569701]\n",
      "observed slit 0 coord in guider local frame: ['0d05m08.83154164s -0d09m34.55986535s']\n",
      "observed slit coord in guider pixel frame: [ 997.33248824 -117.69146038]\n",
      "-------------\n",
      "observed slit 1 position in mm on mask: [8.8177731  0.93034368]\n",
      "observed slit 1 coord in guider local frame: ['0d12m09.4864078s -0d12m06.12768296s']\n",
      "observed slit coord in guider pixel frame: [1459.81502663 -290.03807805]\n",
      "-------------\n",
      "observed slit 2 position in mm on mask: [-4.89687232  3.70343821]\n",
      "observed slit 2 coord in guider local frame: ['0d15m54.81768072s 0d07m25.49001266s']\n",
      "observed slit coord in guider pixel frame: [1686.93209582 1006.77452425]\n",
      "-------------\n",
      "observed slit 3 position in mm on mask: [-8.61528237 -0.946206  ]\n",
      "observed slit 3 coord in guider local frame: ['0d09m15.49131885s 0d12m39.11291293s']\n",
      "observed slit coord in guider pixel frame: [1274.83650397 1363.72718512]\n",
      "-------------\n",
      "observed slit 4 position in mm on mask: [-8.63108915 -0.95205141]\n",
      "observed slit 4 coord in guider local frame: ['0d09m14.97978698s 0d12m40.45938511s']\n",
      "observed slit coord in guider pixel frame: [1274.3534242  1365.19648205]\n",
      "-------------\n",
      "observed slit 5 position in mm on mask: [-4.99734946  3.70305821]\n",
      "observed slit 5 coord in guider local frame: ['0d15m54.7095441s 0d07m34.06004594s']\n",
      "observed slit coord in guider pixel frame: [1687.07358077 1015.99313536]\n",
      "-------------\n",
      "observed slit 6 position in mm on mask: [8.81780664 0.93182621]\n",
      "observed slit 6 coord in guider local frame: ['0d12m09.61287657s -0d12m06.12939442s']\n",
      "observed slit coord in guider pixel frame: [1459.94973061 -290.03998622]\n",
      "-------------\n",
      "observed slit 7 position in mm on mask: [ 7.10871515 -3.98773917]\n",
      "observed slit 7 coord in guider local frame: ['0d05m08.7396363s -0d09m44.19628616s']\n",
      "observed slit coord in guider pixel frame: [ 997.65184603 -128.85211618]\n",
      "-------------\n"
     ]
    },
    {
     "data": {
      "text/html": [
       "<div><i>Table length=8</i>\n",
       "<table id=\"table140203474348736\" class=\"table-striped table-bordered table-condensed\">\n",
       "<thead><tr><th>Internal-count</th><th>xmm_obs</th><th>ymm_obs</th><th>xy_g_obs</th><th>x_gpix_obs</th><th>y_gpix_obs</th></tr></thead>\n",
       "<thead><tr><th></th><th></th><th></th><th>deg,deg</th><th></th><th></th></tr></thead>\n",
       "<thead><tr><th>str7</th><th>float64</th><th>float64</th><th>SkyCoord</th><th>float64</th><th>float64</th></tr></thead>\n",
       "<tr><td>6</td><td>6.99589320064003</td><td>-3.9856970054895466</td><td>0.08578653934502586,-0.15959996259729778</td><td>997.3324882373652</td><td>-117.69146037796624</td></tr>\n",
       "<tr><td>8</td><td>8.817773100021933</td><td>0.9303436842348247</td><td>0.2026351132768643,-0.20170213415491536</td><td>1459.8150266265584</td><td>-290.0380780532258</td></tr>\n",
       "<tr><td>13</td><td>-4.896872318965984</td><td>3.7034382068660086</td><td>0.26522713353358146,0.12374722573759155</td><td>1686.9320958229325</td><td>1006.7745242460092</td></tr>\n",
       "<tr><td>23</td><td>-8.615282367081317</td><td>-0.9462059956722808</td><td>0.15430314412404675,0.21086469803732893</td><td>1274.836503968749</td><td>1363.7271851216644</td></tr>\n",
       "<tr><td>31</td><td>-8.631089146935846</td><td>-0.9520514061022937</td><td>0.15416105193985155,0.21123871808560005</td><td>1274.3534242027388</td><td>1365.1964820494434</td></tr>\n",
       "<tr><td>33</td><td>-4.997349461286163</td><td>3.703058206865721</td><td>0.265197095583133,0.1261277905381657</td><td>1687.0735807687743</td><td>1015.9931353616919</td></tr>\n",
       "<tr><td>40</td><td>8.817806641107307</td><td>0.9318262104896804</td><td>0.2026702434919065,-0.20170260956133026</td><td>1459.9497306083902</td><td>-290.03998621559737</td></tr>\n",
       "<tr><td>44</td><td>7.108715148078854</td><td>-3.9877391686023653</td><td>0.08576101008363483,-0.16227674615659868</td><td>997.6518460255909</td><td>-128.85211617830362</td></tr>\n",
       "</table></div>"
      ],
      "text/plain": [
       "<Table length=8>\n",
       "Internal-count      xmm_obs       ...     x_gpix_obs          y_gpix_obs    \n",
       "                                  ...                                       \n",
       "     str7           float64       ...      float64             float64      \n",
       "-------------- ------------------ ... ------------------ -------------------\n",
       "             6   6.99589320064003 ...  997.3324882373652 -117.69146037796624\n",
       "             8  8.817773100021933 ... 1459.8150266265584  -290.0380780532258\n",
       "            13 -4.896872318965984 ... 1686.9320958229325  1006.7745242460092\n",
       "            23 -8.615282367081317 ...  1274.836503968749  1363.7271851216644\n",
       "            31 -8.631089146935846 ... 1274.3534242027388  1365.1964820494434\n",
       "            33 -4.997349461286163 ... 1687.0735807687743  1015.9931353616919\n",
       "            40  8.817806641107307 ... 1459.9497306083902 -290.03998621559737\n",
       "            44  7.108715148078854 ...  997.6518460255909 -128.85211617830362"
      ]
     },
     "execution_count": 181,
     "metadata": {},
     "output_type": "execute_result"
    }
   ],
   "source": [
    "slit_coord_obs = []\n",
    "slit_coord_obs_pix = np.zeros((len(slits),2))\n",
    "\n",
    "# for i, s in enumerate(slit_pos_obs):\n",
    "for i, s in enumerate(slits):# change vincent\n",
    "    print(\"observed slit %i position in mm on mask:\"%(i), slit_pos_obs[i])\n",
    "    slit_coord_obs.append(G2UVnew.SienceMask2guider(slit_pos_obs[i], angle=True))\n",
    "    print(\"observed slit %i coord in guider local frame:\"%(i), slit_coord_obs[-1].to_string(u'dms'))\n",
    "    slit_coord_obs_pix[i] = np.array(G2UVnew.SienceMask2guider(slit_pos_obs[i], angle=False)).T\n",
    "    print(\"observed slit coord in guider pixel frame:\", slit_coord_obs_pix[i])\n",
    "    print(\"-------------\")\n",
    "\n",
    "selected_slits[\"xmm_obs\"] = slit_pos_obs[:,0]\n",
    "selected_slits[\"ymm_obs\"] = slit_pos_obs[:,1]\n",
    "\n",
    "selected_slits[\"xy_g_obs\"] = slit_coord_obs#[:,0]\n",
    "# selected_slits[\"ymm_obs\"] = slit_coord_obs[:,1]\n",
    "\n",
    "selected_slits[\"x_gpix_obs\"] = slit_coord_obs_pix[:,0]\n",
    "selected_slits[\"y_gpix_obs\"] = slit_coord_obs_pix[:,1]\n",
    "\n",
    "selected_slits['Internal-count',\"xmm_obs\",\"ymm_obs\",\"xy_g_obs\",\"x_gpix_obs\",\"y_gpix_obs\"]"
   ]
  },
  {
   "cell_type": "markdown",
   "metadata": {},
   "source": [
    "## compute NEW MODEL: orientation, offset & magnification"
   ]
  },
  {
   "cell_type": "code",
   "execution_count": 185,
   "metadata": {},
   "outputs": [
    {
     "data": {
      "text/html": [
       "<div><i>Table length=8</i>\n",
       "<table id=\"table140203852265696\" class=\"table-striped table-bordered table-condensed\">\n",
       "<thead><tr><th>Internal-count</th><th>xmm_obs</th><th>ymm_obs</th><th>x_obs-orig</th><th>y_obs-orig</th></tr></thead>\n",
       "<thead><tr><th>str7</th><th>float64</th><th>float64</th><th>float64</th><th>float64</th></tr></thead>\n",
       "<tr><td>6</td><td>6.99589320064003</td><td>-3.9856970054895466</td><td>-14.924139478921461</td><td>-182.88515904267635</td></tr>\n",
       "<tr><td>8</td><td>8.817773100021933</td><td>0.9303436842348247</td><td>337.7174052063412</td><td>-0.43868391353837355</td></tr>\n",
       "<tr><td>13</td><td>-4.896872318965984</td><td>3.7034382068660086</td><td>133.3730111627254</td><td>1318.8825985945173</td></tr>\n",
       "<tr><td>23</td><td>-8.615282367081317</td><td>-0.9462059956722808</td><td>-458.01913454019495</td><td>1193.9745294977654</td></tr>\n",
       "<tr><td>31</td><td>-8.631089146935846</td><td>-0.9520514061022937</td><td>-49.4141877556558</td><td>834.0558404237801</td></tr>\n",
       "<tr><td>33</td><td>-4.997349461286163</td><td>3.703058206865721</td><td>-62.84171018167638</td><td>-300.4958751155623</td></tr>\n",
       "<tr><td>40</td><td>8.817806641107307</td><td>0.9318262104896804</td><td>-85.7671428687611</td><td>-1397.6726243977516</td></tr>\n",
       "<tr><td>44</td><td>7.108715148078854</td><td>-3.9877391686023653</td><td>-328.2427764616159</td><td>-1058.2189198551632</td></tr>\n",
       "</table></div>"
      ],
      "text/plain": [
       "<Table length=8>\n",
       "Internal-count      xmm_obs       ...      x_obs-orig          y_obs-orig     \n",
       "     str7           float64       ...       float64             float64       \n",
       "-------------- ------------------ ... ------------------- --------------------\n",
       "             6   6.99589320064003 ... -14.924139478921461  -182.88515904267635\n",
       "             8  8.817773100021933 ...   337.7174052063412 -0.43868391353837355\n",
       "            13 -4.896872318965984 ...   133.3730111627254   1318.8825985945173\n",
       "            23 -8.615282367081317 ... -458.01913454019495   1193.9745294977654\n",
       "            31 -8.631089146935846 ...   -49.4141877556558    834.0558404237801\n",
       "            33 -4.997349461286163 ...  -62.84171018167638   -300.4958751155623\n",
       "            40  8.817806641107307 ...   -85.7671428687611  -1397.6726243977516\n",
       "            44  7.108715148078854 ...  -328.2427764616159  -1058.2189198551632"
      ]
     },
     "execution_count": 185,
     "metadata": {},
     "output_type": "execute_result"
    }
   ],
   "source": [
    "slit_coord_F = np.zeros((len(slits),2))\n",
    "slit_coord_obs_F = np.zeros((len(slits),2))\n",
    "\n",
    "for i in range(len(slits)): #change vincent\n",
    "# for i in range(len(slit_coord_obs)):\n",
    "    \n",
    "    c     = G2UVnew.guider_to_FieldLocal(slit_coord[i], angle=True)\n",
    "    slit_coord_F[i] = np.array([ c.lon.deg, c.lat.deg]).T\n",
    "    # only difference is slit_coord vs slit_coord_obs\n",
    "    c_obs = G2UVnew.guider_to_FieldLocal(slit_coord_obs[i], angle=True)\n",
    "    slit_coord_obs_F[i] = np.array([ c_obs.lon.deg, c_obs.lat.deg]).T\n",
    "\n",
    "    \n",
    "delta = slit_coord_obs_F - slit_coord_F\n",
    "# print(delta*3600) # give the difference in arcseconds between the regular position of slits and the one observed\n",
    "# slit_coord_obs_F\n",
    "selected_slits[\"x_obs-orig\"] = delta[:,0]*3600\n",
    "selected_slits[\"y_obs-orig\"] = delta[:,1]*3600\n",
    "selected_slits['Internal-count',\"xmm_obs\",\"ymm_obs\",\"x_obs-orig\",\"y_obs-orig\"]"
   ]
  },
  {
   "cell_type": "code",
   "execution_count": 187,
   "metadata": {},
   "outputs": [
    {
     "name": "stdout",
     "output_type": "stream",
     "text": [
      "gamma: -0.061174855001148165\n",
      "theta: 849.2557585474365 arcmin\n",
      "dx: -27.516059820613332 arcsec\n",
      "dy: -69.91196286597793 arcsec\n",
      "variances: [5.48046431e-04 1.88404485e+00 3.59260143e-01 3.59260143e-01]\n",
      "\n",
      "residuals in arcsec: [ 434.44081521   94.62515345 -131.65232302  143.53992789   79.81810224\n",
      " -545.79254056 -276.58548238  201.60634717  471.69371996  664.33586432\n",
      " -387.13767276 -683.3908304  -807.90713532 -446.83254793  683.51157709\n",
      "  505.72702504]\n"
     ]
    }
   ],
   "source": [
    "# compute new model:\n",
    "# add units of gamma\n",
    "row_x = np.hstack((slit_coord_F*[1.,-1], np.ones((8,1)), np.zeros((8,1)) )) # xn -x = x dgamma - y theta + dx\n",
    "row_y = np.hstack((slit_coord_F[:,::-1], np.zeros((8,1)), np.ones((8,1)) )) # yn - y = x theta - y dgamma \n",
    "mat = np.vstack((row_x, row_y))\n",
    "matinv =  np.linalg.pinv(mat)\n",
    "data = np.concatenate((delta[:,0], delta[:,1]))\n",
    "sol = matinv.dot(data)\n",
    "gama = 1 + sol[0]\n",
    "theta_rad = sol[1]\n",
    "deltax = sol[2]\n",
    "deltay = sol[3]\n",
    "theta = theta_rad*180/np.pi*60 #arcmin\n",
    "print(\"gamma: {}\\ntheta: {} arcmin\\ndx: {} arcsec\\ndy: {} arcsec\".format(gama, theta, deltax*3600, deltay*3600))\n",
    "covar = matinv.dot(matinv.T)\n",
    "# accuracy, assuming 1 arcsec measurement error\n",
    "print(\"variances: {}\\n\".format(np.sqrt(np.diag(covar))/3600*[1, 180/np.pi*60, 3600, 3600])) #\n",
    "#residual\n",
    "data_new = mat.dot(sol) \n",
    "print(\"residuals in arcsec:\", (data_new - data)*3600)"
   ]
  },
  {
   "cell_type": "code",
   "execution_count": 188,
   "metadata": {},
   "outputs": [
    {
     "data": {
      "image/png": "[encoded data removed]",
      "text/plain": [
       "<Figure size 432x288 with 1 Axes>"
      ]
     },
     "metadata": {
      "needs_background": "light"
     },
     "output_type": "display_data"
    }
   ],
   "source": [
    "mask_plate_scale = 42.26134\n",
    "plt.figure()\n",
    "plt.axis('equal')\n",
    "plt.plot(slit_pos[:,0], slit_pos[:,1], 'or')\n",
    "qv = plt.quiver(slit_pos[:,0], slit_pos[:,1], 0., delta[:,0]*mask_plate_scale)\n",
    "plt.quiverkey(qv, .8,.9,.075, \"75 mu\", color='r')\n",
    "plt.xlim([-13, 13])\n",
    "plt.ylim([-7,7])\n",
    "plt.xlabel('x mm')\n",
    "plt.ylabel('y mm')\n",
    "plt.text(-10,7,\"rotation: {:.2f} arcmin\\nmagnification {:.4f}\\ndeltax: {:.4f} arcsec\\ndeltay: {:.4f} arcsec\".format(theta, gama, -deltay*3600, deltax*3600))\n",
    "plt.show()\n"
   ]
  },
  {
   "cell_type": "code",
   "execution_count": 189,
   "metadata": {},
   "outputs": [
    {
     "name": "stdout",
     "output_type": "stream",
     "text": [
      "[-5.02836519  3.57815955] [10.563193  2.136243]\n",
      "<SkyCoord (SkyOffsetICRS: rotation=-90.0 deg, origin=<ICRS Coordinate: (ra, dec) in deg\n",
      "    (36.9049, 0.65245)>): (lon, lat) in deg\n",
      "    (0.05063688, -0.25038687)>\n",
      "<SkyCoord (SkyOffsetICRS: rotation=-90.0 deg, origin=<ICRS Coordinate: (ra, dec) in deg\n",
      "    (36.9049, 0.65245)>): (lon, lat) in deg\n",
      "    (0.08471611, 0.11905102)>\n"
     ]
    }
   ],
   "source": [
    "sit_pos14_obs_det = np.array([1312.8, 1357.7])\n",
    "slit_pos14_obs = inv_map(slit_coord_obs_wave, sit_pos14_obs_det[0], sit_pos14_obs_det[1]).T\n",
    "print(slit_pos14_obs, slit_pos[2])\n",
    "\n",
    "print(G2UV.FieldP.pix2local(slit_pos[2]))\n",
    "print(G2UV.FieldP.pix2local(slit_pos14_obs))"
   ]
  },
  {
   "cell_type": "code",
   "execution_count": 190,
   "metadata": {},
   "outputs": [],
   "source": [
    "G2UVcor  = Guider2UV(guider_wcs=G2UVnew.GuiderP.w, \n",
    "                     Field_center=G2UVnew.FieldP.center, \n",
    "                     Field_rotation=G2UVnew.FieldP.rotation,\n",
    "                     Field_gamma=gama,\n",
    "                     mask_rotation=G2UVnew.mask_rotation + theta*u.arcmin)\n",
    "\n",
    "\n",
    "#deltaFOV = - 1/gama*deltax\n",
    "\n",
    "#G2UVnew  = Guider2UV(guider_wcs=G2UV.GuiderP.w, \n",
    "#                     Field_center=G2UV.FieldP.center, \n",
    "#                     Field_rotation=G2UV.FieldP.rotation,\n",
    "#                     Field_gamma=gama)\n",
    "#                     #mask_rotation=theta*u.arcmin)\n",
    "#\n",
    "#deltaFOV = - deltax\n",
    "\n",
    "newFOVcenter = coordinates.SkyCoord(G2UVnew.FOV_center_guider_coord.lon + deltax*u.deg, \n",
    "                              G2UVnew.FOV_center_guider_coord.lat + deltay*u.deg,\n",
    "                              frame = G2UVnew.GuiderP.localframe)\n",
    "                     \n",
    "G2UVcor.FOV_center_guider_coord = newFOVcenter\n",
    "\n",
    "#G2UVnew.FOV_guider_coord = G2UV.FOV_guider_coord\n"
   ]
  },
  {
   "cell_type": "markdown",
   "metadata": {},
   "source": [
    "## check new model on new slit #??\n",
    "\n",
    "start from last slit #46"
   ]
  },
  {
   "cell_type": "code",
   "execution_count": 194,
   "metadata": {},
   "outputs": [
    {
     "name": "stdout",
     "output_type": "stream",
     "text": [
      "slit position in mm on mask: [-0.226751  5.705359]\n",
      "slit coord in guider local frame: ['0d09m46.12297342s -0d00m53.5688165s']\n",
      "slit coord in guider pixel frame: [array([1287.87410866]), array([473.31418859])]\n",
      "EL: [131.54413084] arcsec \n",
      "CE: [-164.18365868] arcsec\n"
     ]
    }
   ],
   "source": [
    "slitcheck = '21'\n",
    "slit_pos5 =   np.array([F4[F4['Internal-count']==slitcheck]['x_mm'][0], F4[F4['Internal-count']==slitcheck]['y_mm'][0]])\n",
    "\n",
    "print(\"slit position in mm on mask:\", slit_pos5)\n",
    "slit_coord5 = G2UVcor.SienceMask2guider(slit_pos5, angle=True)\n",
    "print(\"slit coord in guider local frame:\", slit_coord5.to_string(u'dms'))\n",
    "slit_coord5_pix = G2UVcor.SienceMask2guider(slit_pos5, angle=False)\n",
    "print(\"slit coord in guider pixel frame:\", slit_coord5_pix)\n",
    "\n",
    "#frame move\n",
    "theta_EL =  (slit_coord5.lon.deg -  slit_coord[0].lon.deg)/2./Elg\n",
    "theta_CE = -(slit_coord5.lat.deg -  slit_coord[0].lat.deg)/2./CEg\n",
    "print(\"EL: {} arcsec \\nCE: {} arcsec\".format(theta_EL*3600, theta_CE*3600))"
   ]
  },
  {
   "cell_type": "markdown",
   "metadata": {},
   "source": [
    "## check new model on known slit #??\n",
    "\n",
    "start from last slit #14"
   ]
  },
  {
   "cell_type": "code",
   "execution_count": 196,
   "metadata": {},
   "outputs": [
    {
     "name": "stdout",
     "output_type": "stream",
     "text": [
      "slit position in mm on mask: [10.563193  2.136243]\n",
      "slit coord in guider local frame: ['0d09m50.27410018s 0d00m07.52402965s']\n",
      "slit coord in guider pixel frame: [array([1292.30202511]), array([541.32931779])]\n",
      "EL: [2.06772669] arcsec \n",
      "CE: [-29.67746685] arcsec\n"
     ]
    }
   ],
   "source": [
    "slitcheck2 = slits[2]\n",
    "slit_pos6 =   np.array([F4[F4['Internal-count']==slitcheck2]['x_mm'][0], F4[F4['Internal-count']==slitcheck2]['y_mm'][0]])\n",
    "\n",
    "print(\"slit position in mm on mask:\", slit_pos6)\n",
    "slit_coord6 = G2UVcor.SienceMask2guider(slit_pos6, angle=True)\n",
    "print(\"slit coord in guider local frame:\", slit_coord6.to_string(u'dms'))\n",
    "slit_coord6_pix = G2UVcor.SienceMask2guider(slit_pos6, angle=False)\n",
    "print(\"slit coord in guider pixel frame:\", slit_coord6_pix)\n",
    "\n",
    "#frame move\n",
    "theta_EL =  (slit_coord6.lon.deg -  slit_coord5.lon.deg)/2./Elg\n",
    "theta_CE = -(slit_coord6.lat.deg -  slit_coord5.lat.deg)/2./CEg\n",
    "print(\"EL: {} arcsec \\nCE: {} arcsec\".format(theta_EL*3600, theta_CE*3600))"
   ]
  },
  {
   "cell_type": "markdown",
   "metadata": {},
   "source": [
    "compared observed vs diffuse\n",
    "\n",
    "| wavelength | diffuse   | observed |\n",
    "|------------|-----------|----------|\n",
    "| 0.21382    |           |           \n",
    "| 0.20619    | 1738.3-1531.2| 1754.3x1574.3\n",
    "| 0.20255    |   |\n"
   ]
  },
  {
   "cell_type": "code",
   "execution_count": 197,
   "metadata": {},
   "outputs": [
    {
     "name": "stdout",
     "output_type": "stream",
     "text": [
      "observed slit position in mm on mask: [-8.0507355  -3.21109152]\n",
      "observed slit coord in guider local frame: ['0d06m02.79221588s 0d11m49.15474044s']\n",
      "observed slit coord in guider pixel frame: [array([1062.67180859]), array([1318.89091796])]\n"
     ]
    }
   ],
   "source": [
    "# compute observed position on mask\n",
    "slit_coord5_obs_det = np.array([1754.3, 1574.3])\n",
    "slit_coord5_obs_wave = 0.20619\n",
    "slit_pos5_obs = mask_det_map.inv_map(slit_coord5_obs_wave, slit_coord5_obs_det[0], slit_coord5_obs_det[1])\n",
    "print(\"observed slit position in mm on mask:\", slit_pos5_obs)\n",
    "slit_coord5_obs = G2UVnew.SienceMask2guider(slit_pos5_obs, angle=True)\n",
    "print(\"observed slit coord in guider local frame:\", slit_coord5_obs.to_string(u'dms'))\n",
    "slit_coord5_obs_pix = G2UVnew.SienceMask2guider(slit_pos5_obs, angle=False)\n",
    "print(\"observed slit coord in guider pixel frame:\", slit_coord5_obs_pix)\n"
   ]
  },
  {
   "cell_type": "markdown",
   "metadata": {},
   "source": [
    "## F4 Star sequence\n",
    "\n",
    "s18 - s29 - s34 - s14 \n"
   ]
  },
  {
   "cell_type": "code",
   "execution_count": 200,
   "metadata": {},
   "outputs": [],
   "source": [
    "star_target_path = \"/Users/Vincent/Github/FireBallPipe/Calibration/Targets/2022/GuidingStars/\"\n",
    "F4_stars = Table.read(star_target_path + \"F4_guidingstars.fits\", format='fits')\n",
    "F4_stars_coords = coordinates.SkyCoord(F4_stars['RA']*u.deg, F4_stars['DEC']*u.deg)\n"
   ]
  },
  {
   "cell_type": "markdown",
   "metadata": {},
   "source": [
    "### star s18, from guider center"
   ]
  },
  {
   "cell_type": "code",
   "execution_count": 201,
   "metadata": {},
   "outputs": [
    {
     "name": "stdout",
     "output_type": "stream",
     "text": [
      "star position Ra/Dec:  <SkyCoord (ICRS): (ra, dec) in deg\n",
      "    [(36.877561, 0.53311)]>\n",
      "Star position in guider local frame:  <SkyCoord (SkyOffsetICRS: rotation=0.0 deg, origin=<ICRS Coordinate: (ra, dec) in deg\n",
      "    (250.39242605, 36.41307253)>): (lon, lat) in deg\n",
      "    [(0.05903728, 0.03320441)]>\n",
      "Star position in guider pixel frame:  [array([879.11653979]), array([673.54577459])]\n",
      "EL: [105.86586903] arcsec \n",
      "CE: [-58.06772305] arcsec\n"
     ]
    }
   ],
   "source": [
    "star_pos1_radec = F4_stars_coords[F4_stars['Internal count']==18]\n",
    "print(\"star position Ra/Dec: \", star_pos1_radec)\n",
    "star_coord1 = G2UVnew.SienceMask2guider(star_pos1_radec, world=True, angle=True)\n",
    "print(\"Star position in guider local frame: \", star_coord1)\n",
    "star_coord1_pix = G2UVnew.SienceMask2guider(star_pos1_radec, world=True, angle=False)\n",
    "print(\"Star position in guider pixel frame: \", star_coord1_pix)\n",
    "\n",
    "#frame move\n",
    "theta_EL =  star_coord1.lon.deg/2./Elg\n",
    "theta_CE = -star_coord1.lat.deg/2./CEg\n",
    "print(\"EL: {} arcsec \\nCE: {} arcsec\".format(theta_EL*3600, theta_CE*3600))"
   ]
  },
  {
   "cell_type": "markdown",
   "metadata": {},
   "source": [
    "observed star position on guider: 896.2 671.0 retour: 895.3x671.5"
   ]
  },
  {
   "cell_type": "markdown",
   "metadata": {},
   "source": [
    "### star s29"
   ]
  },
  {
   "cell_type": "code",
   "execution_count": 202,
   "metadata": {},
   "outputs": [
    {
     "name": "stdout",
     "output_type": "stream",
     "text": [
      "star position Ra/Dec:  <SkyCoord (ICRS): (ra, dec) in deg\n",
      "    [(36.987137, 0.402799)]>\n",
      "Star position in guider local frame:  <SkyCoord (SkyOffsetICRS: rotation=0.0 deg, origin=<ICRS Coordinate: (ra, dec) in deg\n",
      "    (250.39242605, 36.41307253)>): (lon, lat) in deg\n",
      "    [(-0.07024471, -0.07759171)]>\n",
      "Star position in guider pixel frame:  [array([353.76231425]), array([215.25627296])]\n",
      "EL: [-231.8289431] arcsec \n",
      "CE: [193.75974755] arcsec\n"
     ]
    }
   ],
   "source": [
    "star_pos2_radec = F4_stars_coords[F4_stars['Internal count']==29]\n",
    "print(\"star position Ra/Dec: \", star_pos2_radec)\n",
    "star_coord2 = G2UVnew.SienceMask2guider(star_pos2_radec, world=True, angle=True)\n",
    "print(\"Star position in guider local frame: \", star_coord2)\n",
    "star_coord2_pix = G2UVnew.SienceMask2guider(star_pos2_radec, world=True, angle=False)\n",
    "print(\"Star position in guider pixel frame: \", star_coord2_pix)\n",
    "\n",
    "#frame move\n",
    "#theta_EL =  star_coord2.lon.deg/2./Elg\n",
    "#theta_CE = -star_coord2.lat.deg/2./CEg\n",
    "#print(\"EL: {} arcsec \\nCE: {} arcsec\".format(theta_EL*3600, theta_CE*3600))\n",
    "\n",
    "theta_EL =  (star_coord2.lon.deg - star_coord1.lon.deg)/2./Elg\n",
    "theta_CE = -(star_coord2.lat.deg - star_coord1.lat.deg)/2./CEg\n",
    "print(\"EL: {} arcsec \\nCE: {} arcsec\".format(theta_EL*3600, theta_CE*3600))"
   ]
  },
  {
   "cell_type": "markdown",
   "metadata": {},
   "source": [
    "observed star position on guider: aller 373.2 x 227.2 - retour 372.5x217.6"
   ]
  },
  {
   "cell_type": "markdown",
   "metadata": {},
   "source": [
    "### star s34"
   ]
  },
  {
   "cell_type": "code",
   "execution_count": 203,
   "metadata": {},
   "outputs": [
    {
     "name": "stdout",
     "output_type": "stream",
     "text": [
      "star position Ra/Dec:  <SkyCoord (ICRS): (ra, dec) in deg\n",
      "    [(37.023638, 0.390844)]>\n",
      "Star position in guider local frame:  <SkyCoord (SkyOffsetICRS: rotation=0.0 deg, origin=<ICRS Coordinate: (ra, dec) in deg\n",
      "    (250.39242605, 36.41307253)>): (lon, lat) in deg\n",
      "    [(-0.08185662, -0.11420421)]>\n",
      "Star position in guider pixel frame:  [array([309.20173299]), array([59.75261016])]\n",
      "EL: [-20.8225283] arcsec \n",
      "CE: [64.02776367] arcsec\n"
     ]
    }
   ],
   "source": [
    "star_pos3_radec = F4_stars_coords[F4_stars['Internal count']==34]\n",
    "print(\"star position Ra/Dec: \", star_pos3_radec)\n",
    "star_coord3 = G2UVnew.SienceMask2guider(star_pos3_radec, world=True, angle=True)\n",
    "print(\"Star position in guider local frame: \", star_coord3)\n",
    "star_coord3_pix = G2UVnew.SienceMask2guider(star_pos3_radec, world=True, angle=False)\n",
    "print(\"Star position in guider pixel frame: \", star_coord3_pix)\n",
    "\n",
    "#frame move\n",
    "#theta_EL =  star_coord2.lon.deg/2./Elg\n",
    "#theta_CE = -star_coord2.lat.deg/2./CEg\n",
    "#print(\"EL: {} arcsec \\nCE: {} arcsec\".format(theta_EL*3600, theta_CE*3600))\n",
    "\n",
    "theta_EL =  (star_coord3.lon.deg - star_coord2.lon.deg)/2./Elg\n",
    "theta_CE = -(star_coord3.lat.deg - star_coord2.lat.deg)/2./CEg\n",
    "print(\"EL: {} arcsec \\nCE: {} arcsec\".format(theta_EL*3600, theta_CE*3600))"
   ]
  },
  {
   "cell_type": "markdown",
   "metadata": {},
   "source": [
    "### star s34"
   ]
  },
  {
   "cell_type": "code",
   "execution_count": 204,
   "metadata": {},
   "outputs": [
    {
     "name": "stdout",
     "output_type": "stream",
     "text": [
      "star position Ra/Dec:  <SkyCoord (ICRS): (ra, dec) in deg\n",
      "    [(36.867454, 0.492628)]>\n",
      "Star position in guider local frame:  <SkyCoord (SkyOffsetICRS: rotation=0.0 deg, origin=<ICRS Coordinate: (ra, dec) in deg\n",
      "    (250.39242605, 36.41307253)>): (lon, lat) in deg\n",
      "    [(0.01846044, 0.04293117)]>\n",
      "Star position in guider pixel frame:  [array([715.97692811]), array([714.60307498])]\n",
      "EL: [179.8889344] arcsec \n",
      "CE: [-274.79762006] arcsec\n"
     ]
    }
   ],
   "source": [
    "star_pos4_radec = F4_stars_coords[F4_stars['Internal count']==14]\n",
    "print(\"star position Ra/Dec: \", star_pos4_radec)\n",
    "star_coord4 = G2UVnew.SienceMask2guider(star_pos4_radec, world=True, angle=True)\n",
    "print(\"Star position in guider local frame: \", star_coord4)\n",
    "star_coord4_pix = G2UVnew.SienceMask2guider(star_pos4_radec, world=True, angle=False)\n",
    "print(\"Star position in guider pixel frame: \", star_coord4_pix)\n",
    "\n",
    "#frame move\n",
    "#theta_EL =  star_coord2.lon.deg/2./Elg\n",
    "#theta_CE = -star_coord2.lat.deg/2./CEg\n",
    "#print(\"EL: {} arcsec \\nCE: {} arcsec\".format(theta_EL*3600, theta_CE*3600))\n",
    "\n",
    "theta_EL =  (star_coord4.lon.deg - star_coord3.lon.deg)/2./Elg\n",
    "theta_CE = -(star_coord4.lat.deg - star_coord3.lat.deg)/2./CEg\n",
    "print(\"EL: {} arcsec \\nCE: {} arcsec\".format(theta_EL*3600, theta_CE*3600))"
   ]
  },
  {
   "cell_type": "markdown",
   "metadata": {},
   "source": [
    "star pos aller: 732.2 710.0 retour: 732.0 718.5"
   ]
  },
  {
   "cell_type": "code",
   "execution_count": 205,
   "metadata": {},
   "outputs": [
    {
     "name": "stdout",
     "output_type": "stream",
     "text": [
      "EL: [-33.10333202] arcsec \n",
      "CE: [75.07783189] arcsec\n"
     ]
    }
   ],
   "source": [
    "#frame move\n",
    "theta_EL =  (0. - star_coord4.lon.deg)/2./Elg\n",
    "theta_CE = -(0. - star_coord4.lat.deg)/2./CEg\n",
    "print(\"EL: {} arcsec \\nCE: {} arcsec\".format(theta_EL*3600, theta_CE*3600))"
   ]
  },
  {
   "cell_type": "code",
   "execution_count": null,
   "metadata": {},
   "outputs": [],
   "source": []
  }
 ],
 "metadata": {
  "kernelspec": {
   "display_name": "Python 3.8.13 ('py38')",
   "language": "python",
   "name": "python3"
  },
  "language_info": {
   "codemirror_mode": {
    "name": "ipython",
    "version": 3
   },
   "file_extension": ".py",
   "mimetype": "text/x-python",
   "name": "python",
   "nbconvert_exporter": "python",
   "pygments_lexer": "ipython3",
   "version": "3.8.13"
  },
  "orig_nbformat": 4,
  "vscode": {
   "interpreter": {
    "hash": "6429251b47eee9d8b9b4d9852116ca976e0b69b141b5bab3b174d6f3c07282ea"
   }
  }
 },
 "nbformat": 4,
 "nbformat_minor": 2
}
