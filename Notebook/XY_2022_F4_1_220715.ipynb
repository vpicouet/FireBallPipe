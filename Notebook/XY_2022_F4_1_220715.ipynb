{
 "cells": [
  {
   "cell_type": "markdown",
   "metadata": {},
   "source": [
    "# XY-calibration (F4)"
   ]
  },
  {
   "cell_type": "code",
   "execution_count": 1,
   "metadata": {},
   "outputs": [
    {
     "name": "stdout",
     "output_type": "stream",
     "text": [
      "/Users/Vincent/Github/FireBallPipe\n"
     ]
    }
   ],
   "source": [
    "cd .."
   ]
  },
  {
   "cell_type": "markdown",
   "metadata": {},
   "source": [
    "\n",
    "| #  | Name                               | Done                     |       Comment               |\n",
    "|----|------------------------------------|--------------------------|-----------------------------|\n",
    "| 1  | Have a mask-detector mapping       | <input type=\"checkbox\">  |  And send region file to zeren |\n",
    "| 2  | Use the previous XY mapping        | <input type=\"checkbox\">  |                             |\n",
    "| 2.5  |Add mask rotation for F2       | <input type=\"checkbox\">  |                             |\n",
    "| 3  | Reset magnification/offset/angle   | <input type=\"checkbox\">  |                             |\n",
    "| 4  | Be sure of the slits path          | <input type=\"checkbox\">  |  Use only regular slits, big moves, do not use slits that are seen with one line   |\n",
    "| 5  | Account from Zeren offset          | <input type=\"checkbox\">  |                             |\n",
    "| 6  | Add slits path in google drive     | <input type=\"checkbox\">  |                             |\n",
    "| 7  | Add CNES moves to google drive     | <input type=\"checkbox\">  |                             |\n"
   ]
  },
  {
   "cell_type": "code",
   "execution_count": 42,
   "metadata": {
    "collapsed": true
   },
   "outputs": [
    {
     "name": "stdout",
     "output_type": "stream",
     "text": [
      "The autoreload extension is already loaded. To reload it, use:\n",
      "  %reload_ext autoreload\n"
     ]
    }
   ],
   "source": [
    "# %matplotlib widget\n",
    "%load_ext autoreload\n",
    "%autoreload 2\n",
    "\n",
    "import sys\n",
    "import numpy as np\n",
    "from astropy.io import fits\n",
    "from astropy import wcs, coordinates\n",
    "from astropy import units as u\n",
    "from astropy.wcs.utils import proj_plane_pixel_scales\n",
    "from matplotlib import pyplot as plt\n",
    "from astropy.table import Table, vstack \n",
    "import matplotlib.patches as patches\n",
    "import unittest\n",
    "from mpl_interactions import heatmap_slicer\n",
    "import pandas as pd\n",
    "import datetime \n",
    "# os.chdir(os.path.dirname(os.path.realpath(__file__)))\n",
    "sys.path.insert(1, './Calibration')\n",
    "from guider2UV.guider2UV import Guider2UV, diff_skycoord, fit_model, plot_fit\n",
    "from guider2UV.MaskAstrometry import LocalScienceMaskProjector\n",
    "from Calibration.mapping import Mapping"
   ]
  },
  {
   "cell_type": "markdown",
   "metadata": {},
   "source": [
    "## initialization from last xy calib\n",
    "---------------------------------"
   ]
  },
  {
   "cell_type": "code",
   "execution_count": 36,
   "metadata": {},
   "outputs": [
    {
     "name": "stdout",
     "output_type": "stream",
     "text": [
      "After calibration of the encoders, El is 0.09283 ''/inc and Ce is 0.01019 ''/inc\n"
     ]
    }
   ],
   "source": [
    "# prerequisites:\n",
    "Field = \"F4\"\n",
    "# previous_xy_mapping = 'Notebook/Files/Guider2UV_%s_nogamma.new.pkl'%(Field)\n",
    "previous_xy_mapping = \"Calibration/Mappings/2022/XY/F1_prep1_XY_220715.pkl\"\n",
    "# mask_det_map_file = \"Calibration/Mappings/2022/mapping-mask-det-w-2022-5-%s_center.pkl\"%(Field)\n",
    "mask_det_map_file = \"Calibration/Mappings/2022/mapping_new_center/mapping-mask-det-w-2022-5-%s_-20.pkl\"%(Field)\n",
    "target_filename = 'Calibration/Targets/2022/targets_%s.csv'%(Field)\n",
    "# mapping_diffuse_image = \"/Users/Vincent/Nextcloud/LAM/FIREBALL/TestsFTS2018-Flight/E2E-AIT-Flight/all_diffuse_illumination/FocusEvolution/%s/%s_2022_6_-82.fits\"%(Field,Field)\n",
    "# new_diffuse_image = \"/Users/Vincent/Nextcloud/LAM/FIREBALL/TestsFTS2018-Flight/E2E-AIT-Flight/all_diffuse_illumination/FocusEvolution/%s/%s_2022_6_-106.fits\"%(Field,Field)\n",
    "# encoder gains 2018:\n",
    "# CEg = 1.02928\n",
    "# Elg = 1.00379\n",
    "# encoder gains 2022:\n",
    "CEg = 1.0187\n",
    "Elg = 1.0090\n",
    "print(\"After calibration of the encoders, El is %0.5f ''/inc and Ce is %0.5f ''/inc\" %(Elg*0.092,CEg*0.01))\n"
   ]
  },
  {
   "cell_type": "code",
   "execution_count": 46,
   "metadata": {
    "scrolled": false
   },
   "outputs": [
    {
     "name": "stdout",
     "output_type": "stream",
     "text": [
      "FOV center angular position in guider <SkyCoord (SkyOffsetICRS: rotation=0.0 deg, origin=<ICRS Coordinate: (ra, dec) in deg\n",
      "    (250.39272815, 36.41856381)>): (lon, lat) in deg\n",
      "    (0.18640794, -0.08284778)>\n",
      "FOV center pixel position in guider [array(1378.69397987), array(218.86229257)]\n",
      "\n",
      "Guider2UV object:\n",
      "    Local Field Projector: \n",
      "ScienceMaskProjector object:\n",
      "    LocalFrame: <SkyOffsetICRS Frame (rotation=-90.0 deg, origin=<ICRS Coordinate: (ra, dec) in deg\n",
      "    (32.19, -5.688)>)>\n",
      "    gamma: 1.0\n",
      "\n",
      "    Guider Field Projector: \n",
      "GuiderMaskProjector object:\n",
      "    LocalFrame: <SkyOffsetICRS Frame (rotation=0.0 deg, origin=<ICRS Coordinate: (ra, dec) in deg\n",
      "    (250.39272815, 36.41856381)>)>\n",
      "    wcs: WCS Keywords\n",
      "\n",
      "Number of WCS axes: 2\n",
      "CTYPE : 'RA---TAN-SIP'  'DEC--TAN-SIP'  \n",
      "CRVAL : 250.392728151  36.4185638082  \n",
      "CRPIX : 640.0  540.0  \n",
      "PC1_1 PC1_2  : 1.0  0.0  \n",
      "PC2_1 PC2_2  : 0.0  1.0  \n",
      "CDELT : 0.00024551548564194  0.00024661678545423  \n",
      "NAXIS : 0  0\n",
      "\n",
      "    mask_rotation: 0.0 arcmin\n",
      "    FOV center in guider: 1378.693979871492x218.8622925672349 pix\n",
      "\n"
     ]
    }
   ],
   "source": [
    "# load model from previous XY calib \n",
    "G2UV = Guider2UV(filename=previous_xy_mapping)\n",
    "\n",
    "G2UV.FieldP.center = (36.9049*u.deg, 0.65245*u.deg)\n",
    "# eventually reset the guider-scmask rotation to 0 and magnification correction to 0.\n",
    "# G2UV.FieldP = LocalScienceMaskProjector(center=(36.9049*u.deg, 0.65245*u.deg), rotation=0.0*u.arcmin, gamma=1)\n",
    "G2UV.mask_rotation = 0.0*u.arcmin\n",
    "G2UV.FieldP.gamma = 1. \n",
    "G2UV.FieldP.radial_mag_polynomial = (42.26134, 0., 0.)\n",
    "G2UV.FieldP.radial_mag_inv_polynomial = (1./42.26134, 0., 0.)\n",
    "print(G2UV)\n",
    "# if you already know the approx angular distance between guidercenter and FOVcenter, set it:\n",
    "#G2UV.FOV_center_guider_coord = coordinates.SkyCoord(delta_x*u.deg, # x guider axis (x axis in guider local frame, see XYcalib figure)\n",
    "#                                                    delta_y*u.deg, # y guider axis (y axis guider local frame, see XYcalib figure)\n",
    "#                                                    frame = G2UV.GuiderP.localframe)\n",
    "\n",
    "\n",
    "# load targets\n",
    "F1 = Table.read(target_filename, format='ascii')\n",
    "\n",
    "# load mask-UVdetector mappings\n",
    "mask_det_map = Mapping(mask_det_map_file)\n",
    "\n"
   ]
  },
  {
   "cell_type": "markdown",
   "metadata": {},
   "source": [
    "## Alternative initialisation for new fields:\n",
    "---------------------------------------"
   ]
  },
  {
   "cell_type": "code",
   "execution_count": 5,
   "metadata": {
    "scrolled": false
   },
   "outputs": [],
   "source": [
    "\n",
    "# # prerequisites:\n",
    "# previous_xy_mapping = 'Notebook/Files/Guider2UV_F1_nogamma.new.pkl'\n",
    "# mask_det_map_file = \"Calibration/Mappings/2022/mapping-mask-det-w-2022-5-F1.pkl\"\n",
    "# target_filename = 'Calibration/Targets/2022/targets_F1.txt'\n",
    "# mapping_diffuse_image = \"/Users/Vincent/Nextcloud/LAM/FIREBALL/TestsFTS2018-Flight/E2E-AIT-Flight/all_diffuse_illumination/FocusEvolution/F1/F1_2022_6_-82.fits\"\n",
    "# new_diffuse_image = \"/Users/Vincent/Nextcloud/LAM/FIREBALL/TestsFTS2018-Flight/E2E-AIT-Flight/all_diffuse_illumination/FocusEvolution/F1/F1_2022_6_-106.fits\"\n",
    "\n",
    "# f_ra, f_dec, f_rot = 0, 0, 0\n",
    "# Field_center=coordinates.SkyCoord(f_ra * u.deg, f_dec * u.deg)\n",
    "# # get FOVcenter & guider wcs from another field\n",
    "# #  put pkl from a functionning mapping from another field\n",
    "# G2UVother = Guider2UV(filename=previous_xy_mapping)\n",
    "# FOVcenter = G2UVother.FOV_center_guider_coord\n",
    "# guider_wcs = G2UVother.GuiderP.w\n",
    "# G2UV = Guider2UV(Field_center=Field_center,\n",
    "#                  Field_rotation= f_rot * u.deg,\n",
    "#                  Field_gamma=1.0,  # platescale correction (need to update the polynomial in the MaskAstrometry.py)\n",
    "#                  FOVcenter_guider_coord=FOVcenter,\n",
    "#                  guider_wcs = guider_wcs,\n",
    "#                  )\n",
    "                 \n",
    "# FNEW = Table.read(target_filename, format='ascii')\n",
    "# mask_det_map = Mapping(mask_det_map_file)\n",
    "\n",
    "# # print(G2UV)"
   ]
  },
  {
   "cell_type": "markdown",
   "metadata": {},
   "source": [
    "## 1-  Rotate mask carousel\n",
    "## 2- Diffuse UV image"
   ]
  },
  {
   "cell_type": "code",
   "execution_count": 6,
   "metadata": {
    "collapsed": true
   },
   "outputs": [],
   "source": [
    "# data1 = fits.open(mapping_diffuse_image)[0].data[1404:1500,1925:2080]\n",
    "# data2 = fits.open(new_diffuse_image)[0].data[1404:1500,1925:2080]\n",
    "# data1 = (data1-data1.min()) / (data1-data1.min()).ptp()\n",
    "# data2 = (data2-data2.min()) / (data2-data2.min()).ptp()\n",
    "# fig, axes = heatmap_slicer(\n",
    "#     np.arange(data2.shape[1]),\n",
    "#     np.arange(data2.shape[0]),\n",
    "#     (data1, data2),\n",
    "#     slices=\"both\",\n",
    "#     figsize = (8,8),\n",
    "#     heatmap_names=(\"Old diffuse image\", \"Map based diffuse\"),\n",
    "#     labels=(\"Some wild X variable\", \"Y axis\"),\n",
    "#     interaction_type=\"click\")\n",
    "# plt.tight_layout()\n",
    "# plt.show()\n",
    "\n"
   ]
  },
  {
   "cell_type": "markdown",
   "metadata": {},
   "source": [
    "Copy the offset from [this spreadsheet step \"Compute offsets with previous diffuse illumination image\"](https://docs.google.com/spreadsheets/d/19jO0fZ0FL0zZKt8IgJ_DMlZrbCD0VXpYVeulKzXtHzY/edit#gid=0)"
   ]
  },
  {
   "cell_type": "code",
   "execution_count": 7,
   "metadata": {},
   "outputs": [],
   "source": [
    "# This offset in X and Y should be positive if the slit position in tghe new image appears to be shifted towards the top right\n",
    "diffuse_offset = np.array([2,0])\n",
    "G2UV.set_detector_mapping(mask_det_map, offsets = diffuse_offset+1)\n",
    "direct_map = lambda w, x, y: mask_det_map.map(w, x, y) + diffuse_offset\n",
    "inv_map = lambda w, x, y: mask_det_map.inv_map(w, x - diffuse_offset[0], y - diffuse_offset[1])"
   ]
  },
  {
   "cell_type": "markdown",
   "metadata": {},
   "source": [
    "## 3 - Set guider at best focus          \n",
    "## 4 - Align siderostat frames           \n",
    "## 5 - Go to guider reference            \n",
    "## 6 - Set UV/guider best focus offset   \n",
    "## 7 - Rotate mask carousel              \n",
    "## 8 - Through focus in UV               \n",
    "## 9 - Note open-mask guider ref point   \n",
    "    \n",
    "\n",
    "## 10 - Go through the list of slits      \n",
    "\n",
    "GC - 46 - 51 - 19 - 8 - 12 - 10 - 38 - 43"
   ]
  },
  {
   "cell_type": "code",
   "execution_count": 8,
   "metadata": {},
   "outputs": [
    {
     "data": {
      "image/png": "[encoded data removed]",
      "text/plain": [
       "<Figure size 432x288 with 1 Axes>"
      ]
     },
     "metadata": {
      "needs_background": "light"
     },
     "output_type": "display_data"
    },
    {
     "data": {
      "text/html": [
       "<div><i>Table length=14</i>\n",
       "<table id=\"table140352695284928\" class=\"table-striped table-bordered table-condensed\">\n",
       "<thead><tr><th>Internal-count</th><th>x_mm</th><th>y_mm</th><th>RA</th><th>DEC</th><th>ra_diff</th><th>dec_diff</th><th>angular_distance</th></tr></thead>\n",
       "<thead><tr><th>str2</th><th>float64</th><th>float64</th><th>float64</th><th>float64</th><th>float64</th><th>float64</th><th>float64</th></tr></thead>\n",
       "<tr><td>23</td><td>1.149408</td><td>-0.37309</td><td>36.931808</td><td>0.643882</td><td>-506.0812419404365</td><td>74.80799999999968</td><td>511.5803556705188</td></tr>\n",
       "<tr><td>36</td><td>7.136533</td><td>-1.264856</td><td>37.072395</td><td>0.623102</td><td>1613.8349615117118</td><td>375.41520000000037</td><td>1656.9248188703518</td></tr>\n",
       "<tr><td>2</td><td>-11.936418</td><td>-5.681635</td><td>36.624081</td><td>0.51882</td><td>-562.6281328234214</td><td>-463.19400000000013</td><td>728.7654612290361</td></tr>\n",
       "<tr><td>13</td><td>-5.303522</td><td>-0.138687</td><td>36.780373</td><td>0.647485</td><td>-883.6139752233256</td><td>-30.376800000000202</td><td>884.135966460028</td></tr>\n",
       "<tr><td>32</td><td>5.155472</td><td>0.21635</td><td>37.025837</td><td>0.655923</td><td>955.8561607255427</td><td>420.24240000000003</td><td>1044.1573994157848</td></tr>\n",
       "<tr><td>11</td><td>-6.155668</td><td>-4.825373</td><td>36.760304</td><td>0.539189</td><td>313.1789319515288</td><td>-475.4807999999997</td><td>569.3531721058029</td></tr>\n",
       "<tr><td>4</td><td>-9.854999</td><td>0.771802</td><td>36.673306</td><td>0.671267</td><td>0.0</td><td>0.0</td><td>0.0</td></tr>\n",
       "<tr><td>4</td><td>-9.854999</td><td>0.771802</td><td>36.673306</td><td>0.671267</td><td>-313.1713057579012</td><td>475.4807999999997</td><td>569.3489772703105</td></tr>\n",
       "<tr><td>11</td><td>-6.155668</td><td>-4.825373</td><td>36.760304</td><td>0.539189</td><td>-955.8764723083938</td><td>-420.24240000000003</td><td>1044.1759933414</td></tr>\n",
       "<tr><td>32</td><td>5.155472</td><td>0.21635</td><td>37.025837</td><td>0.655923</td><td>883.6124950056508</td><td>30.376800000000202</td><td>884.1344871162707</td></tr>\n",
       "<tr><td>13</td><td>-5.303522</td><td>-0.138687</td><td>36.780373</td><td>0.647485</td><td>562.6152731789647</td><td>463.19400000000013</td><td>728.7555332553168</td></tr>\n",
       "<tr><td>2</td><td>-11.936418</td><td>-5.681635</td><td>36.624081</td><td>0.51882</td><td>-1613.8642332211527</td><td>-375.41520000000037</td><td>1656.9533293552777</td></tr>\n",
       "<tr><td>36</td><td>7.136533</td><td>-1.264856</td><td>37.072395</td><td>0.623102</td><td>506.08327139917793</td><td>-74.80799999999968</td><td>511.58236331415293</td></tr>\n",
       "<tr><td>23</td><td>1.149408</td><td>-0.37309</td><td>36.931808</td><td>0.643882</td><td>0.0</td><td>0.0</td><td>0.0</td></tr>\n",
       "</table></div>"
      ],
      "text/plain": [
       "<Table length=14>\n",
       "Internal-count    x_mm       y_mm   ...       dec_diff       angular_distance \n",
       "     str2       float64    float64  ...       float64            float64      \n",
       "-------------- ---------- --------- ... ------------------- ------------------\n",
       "            23   1.149408  -0.37309 ...   74.80799999999968  511.5803556705188\n",
       "            36   7.136533 -1.264856 ...  375.41520000000037 1656.9248188703518\n",
       "             2 -11.936418 -5.681635 ... -463.19400000000013  728.7654612290361\n",
       "            13  -5.303522 -0.138687 ... -30.376800000000202   884.135966460028\n",
       "            32   5.155472   0.21635 ...  420.24240000000003 1044.1573994157848\n",
       "            11  -6.155668 -4.825373 ...  -475.4807999999997  569.3531721058029\n",
       "             4  -9.854999  0.771802 ...                 0.0                0.0\n",
       "             4  -9.854999  0.771802 ...   475.4807999999997  569.3489772703105\n",
       "            11  -6.155668 -4.825373 ... -420.24240000000003    1044.1759933414\n",
       "            32   5.155472   0.21635 ...  30.376800000000202  884.1344871162707\n",
       "            13  -5.303522 -0.138687 ...  463.19400000000013  728.7555332553168\n",
       "             2 -11.936418 -5.681635 ... -375.41520000000037 1656.9533293552777\n",
       "            36   7.136533 -1.264856 ...  -74.80799999999968 511.58236331415293\n",
       "            23   1.149408  -0.37309 ...                 0.0                0.0"
      ]
     },
     "execution_count": 8,
     "metadata": {},
     "output_type": "execute_result"
    }
   ],
   "source": [
    "slits = ['46', '51', '14', '8', '12', '16', '38', '44']  #2018\n",
    "slits = ['46', '51', '19', '8', '12', '10', '38', '43']  # 2022 because 44 and 14 are not visible in 213.9. need to bee thought\n",
    "slits = ['46', \"51\", '35', '12','38']  # 2022 because 44 and 14 are not visible in 213.9. need to bee thought\n",
    "# slits = ['4',  '42', '12','38']  # 2022 because 44 and 14 are not visible in 213.9. need to bee thought\n",
    "# mask = F1.to_pandas()['Internal-count'].isin(slits)\n",
    "slits =['4', '38', '24', '2', '6', '37', '11',\"25\"] \n",
    "slits =['23', '36', '2', '13', '32', '11',\"4\"] #add 27\n",
    "F1p = F1.to_pandas()\n",
    "from functools import reduce\n",
    "import warnings\n",
    "warnings.simplefilter(action='ignore', category=FutureWarning)\n",
    "\n",
    "# selected_slits = F1[mask.values]['Internal-count',\"x_mm\",\"y_mm\",\"ra\",\"dec\"]\n",
    "selected_slits = Table.from_pandas((reduce(pd.DataFrame.append, map(lambda i: F1p[F1p['Internal-count'] == i],slits))))\n",
    "ra,dec = \"RA\", \"DEC\"\n",
    "x,y = \"x_mm\",\"y_mm\"\n",
    "plt.figure()\n",
    "plt.plot(F1[x],F1[y],\"x\")\n",
    "plt.plot(selected_slits[x],selected_slits[y],\"-o\")\n",
    "for s in selected_slits:\n",
    "    plt.text(s[x],s[y],s[\"Internal-count\"])\n",
    "plt.xlabel(\"x_mm\")\n",
    "plt.xlabel(\"y_mm\")\n",
    "plt.title(slits)\n",
    "plt.show()\n",
    "\n",
    "selected_slits = selected_slits['Internal-count',x,y,ra,dec]\n",
    "slit_path = vstack((selected_slits,selected_slits[::-1]) )\n",
    "# slit_path[\"ra_diff\"] = [0] + list((slit_path[ra][1:] - slit_path[ra][:-1])*np.cos(slit_path[dec][:-1]*np.pi/180)) \n",
    "# slit_path[\"dec_diff\"] = [0] + list((slit_path[dec][1:] - slit_path[dec][:-1])) \n",
    "slit_path[\"ra_diff\"] = list((slit_path[ra][:-1] - slit_path[ra][1:])*np.cos(slit_path[dec][:-1]*np.pi/180)) + [0]\n",
    "slit_path[\"dec_diff\"] = list((slit_path[dec][:-1] - slit_path[dec][1:])) + [0]\n",
    "\n",
    "slit_path[\"ra_diff\"] *= 3600\n",
    "slit_path[\"dec_diff\"] *= 3600\n",
    "slit_path[\"angular_distance\"] = np.sqrt(slit_path[\"ra_diff\"]** 2 + slit_path[\"dec_diff\"]** 2)\n",
    "try:\n",
    "    slit_path.to_pandas().to_clipboard()\n",
    "except Exception:\n",
    "    pass\n",
    "slit_path"
   ]
  },
  {
   "cell_type": "markdown",
   "metadata": {},
   "source": [
    "The slits table has been copied. Add it to the [slit tab of this spreadsheet](https://docs.google.com/spreadsheets/d/19jO0fZ0FL0zZKt8IgJ_DMlZrbCD0VXpYVeulKzXtHzY/edit#gid=0)"
   ]
  },
  {
   "cell_type": "code",
   "execution_count": 9,
   "metadata": {},
   "outputs": [
    {
     "name": "stdout",
     "output_type": "stream",
     "text": [
      "slit position in mm on mask: [ 1.149408 -0.37309 ]\n",
      "slit position in mm on mask: [ 7.136533 -1.264856]\n",
      "slit position in mm on mask: [-11.936418  -5.681635]\n",
      "slit position in mm on mask: [-5.303522 -0.138687]\n",
      "slit position in mm on mask: [5.155472 0.21635 ]\n",
      "slit position in mm on mask: [-6.155668 -4.825373]\n",
      "slit position in mm on mask: [-9.854999  0.771802]\n",
      "\n",
      "targets local coords in siderostat local frame:\n",
      "EL: 318.4 arcsec ; CE: 192.4 arcsec\n",
      "EL: 280.6 arcsec ; CE: 440.4 arcsec\n",
      "EL: 92.6 arcsec ; CE: -350.4 arcsec\n",
      "EL: 328.4 arcsec ; CE: -74.7 arcsec\n",
      "EL: 343.5 arcsec ; CE: 358.3 arcsec\n",
      "EL: 129.3 arcsec ; CE: -110.1 arcsec\n",
      "EL: 367.1 arcsec ; CE: -263.5 arcsec\n",
      "\n",
      "siderostat moves sequence: \n",
      "367.0642272665182\n",
      "(They have been copied to clipboard, paste it in the spreadsheet)\n"
     ]
    },
    {
     "data": {
      "text/html": [
       "<div>\n",
       "<style scoped>\n",
       "    .dataframe tbody tr th:only-of-type {\n",
       "        vertical-align: middle;\n",
       "    }\n",
       "\n",
       "    .dataframe tbody tr th {\n",
       "        vertical-align: top;\n",
       "    }\n",
       "\n",
       "    .dataframe thead th {\n",
       "        text-align: right;\n",
       "    }\n",
       "</style>\n",
       "<table border=\"1\" class=\"dataframe\">\n",
       "  <thead>\n",
       "    <tr style=\"text-align: right;\">\n",
       "      <th></th>\n",
       "      <th>EL</th>\n",
       "      <th>CE</th>\n",
       "      <th>UV_image</th>\n",
       "      <th>EL_abs</th>\n",
       "      <th>CE_abs</th>\n",
       "    </tr>\n",
       "  </thead>\n",
       "  <tbody>\n",
       "    <tr>\n",
       "      <th>0</th>\n",
       "      <td>318.436356</td>\n",
       "      <td>192.447995</td>\n",
       "      <td>True</td>\n",
       "      <td>318.436356</td>\n",
       "      <td>192.447995</td>\n",
       "    </tr>\n",
       "    <tr>\n",
       "      <th>1</th>\n",
       "      <td>-37.880946</td>\n",
       "      <td>247.983081</td>\n",
       "      <td>True</td>\n",
       "      <td>280.555410</td>\n",
       "      <td>440.431076</td>\n",
       "    </tr>\n",
       "    <tr>\n",
       "      <th>2</th>\n",
       "      <td>-188.002065</td>\n",
       "      <td>-790.783003</td>\n",
       "      <td>True</td>\n",
       "      <td>92.553346</td>\n",
       "      <td>-350.351928</td>\n",
       "    </tr>\n",
       "    <tr>\n",
       "      <th>3</th>\n",
       "      <td>235.826907</td>\n",
       "      <td>275.680039</td>\n",
       "      <td>True</td>\n",
       "      <td>328.380253</td>\n",
       "      <td>-74.671888</td>\n",
       "    </tr>\n",
       "    <tr>\n",
       "      <th>4</th>\n",
       "      <td>15.070878</td>\n",
       "      <td>432.977500</td>\n",
       "      <td>True</td>\n",
       "      <td>343.451130</td>\n",
       "      <td>358.305611</td>\n",
       "    </tr>\n",
       "    <tr>\n",
       "      <th>5</th>\n",
       "      <td>-214.119468</td>\n",
       "      <td>-468.381421</td>\n",
       "      <td>True</td>\n",
       "      <td>129.331662</td>\n",
       "      <td>-110.075809</td>\n",
       "    </tr>\n",
       "    <tr>\n",
       "      <th>6</th>\n",
       "      <td>237.732565</td>\n",
       "      <td>-153.445835</td>\n",
       "      <td>True</td>\n",
       "      <td>367.064227</td>\n",
       "      <td>-263.521645</td>\n",
       "    </tr>\n",
       "  </tbody>\n",
       "</table>\n",
       "</div>"
      ],
      "text/plain": [
       "           EL          CE  UV_image      EL_abs      CE_abs\n",
       "0  318.436356  192.447995      True  318.436356  192.447995\n",
       "1  -37.880946  247.983081      True  280.555410  440.431076\n",
       "2 -188.002065 -790.783003      True   92.553346 -350.351928\n",
       "3  235.826907  275.680039      True  328.380253  -74.671888\n",
       "4   15.070878  432.977500      True  343.451130  358.305611\n",
       "5 -214.119468 -468.381421      True  129.331662 -110.075809\n",
       "6  237.732565 -153.445835      True  367.064227 -263.521645"
      ]
     },
     "execution_count": 9,
     "metadata": {},
     "output_type": "execute_result"
    }
   ],
   "source": [
    "\n",
    "moves, flags, slit_coords = G2UV.compute_autocoll_moves_slits(slits, F1, hystcomp = False)\n",
    "moves = pd.DataFrame(np.hstack((moves,flags[:,None])), columns=[\"EL\",\"CE\",\"UV_image\"])#,dtype=[(\"EL\",float),(\"CE\",float),(\"UV_image\",float)])\n",
    "print(moves.sum(axis=0)[0])\n",
    "# assert moves.sum(axis=0)[0] <0.1\n",
    "# assert moves.sum(axis=0)[1] <0.1\n",
    "moves[\"UV_image\"] = moves[\"UV_image\"].astype(bool)\n",
    "moves[\"EL_abs\"] =  [np.sum(moves[\"EL\"][:i+1]) for i in range(len(moves))]\n",
    "moves[\"CE_abs\"] = [np.sum(moves[\"CE\"][:i+1]) for i in range(len(moves))]\n",
    "\n",
    "# slit_path['lon'] = [s.lon.deg*3600 for s in slits_coord]\n",
    "# slit_path['lat'] =  [s.lat.deg*3600 for s in slits_coord]\n",
    "# slit_path\n",
    "print(\"(They have been copied to clipboard, paste it in the spreadsheet)\")\n",
    "moves.to_clipboard()\n",
    "moves \n"
   ]
  },
  {
   "cell_type": "markdown",
   "metadata": {},
   "source": [
    "The moves has been copied. Add it to the [moves tab of this spreadsheet](https://docs.google.com/spreadsheets/d/19jO0fZ0FL0zZKt8IgJ_DMlZrbCD0VXpYVeulKzXtHzY/edit#gid=0)"
   ]
  },
  {
   "cell_type": "markdown",
   "metadata": {},
   "source": [
    "Copy below the observed slits position from the [slit tab of this spreadsheet](https://docs.google.com/spreadsheets/d/19jO0fZ0FL0zZKt8IgJ_DMlZrbCD0VXpYVeulKzXtHzY/edit#gid=0)"
   ]
  },
  {
   "cell_type": "code",
   "execution_count": 10,
   "metadata": {},
   "outputs": [
    {
     "ename": "NameError",
     "evalue": "name 'obs_wave' is not defined",
     "output_type": "error",
     "traceback": [
      "\u001b[0;31m---------------------------------------------------------------------------\u001b[0m",
      "\u001b[0;31mNameError\u001b[0m                                 Traceback (most recent call last)",
      "\u001b[1;32m/Users/Vincent/Github/FireBallPipe/Notebook/XY_2022_F4_1_220715.ipynb Cell 20'\u001b[0m in \u001b[0;36m<cell line: 18>\u001b[0;34m()\u001b[0m\n\u001b[1;32m      <a href='vscode-notebook-cell:/Users/Vincent/Github/FireBallPipe/Notebook/XY_2022_F4_1_220715.ipynb#ch0000018?line=1'>2</a>\u001b[0m slits_coord_obs_det \u001b[39m=\u001b[39m np\u001b[39m.\u001b[39marray([\n\u001b[1;32m      <a href='vscode-notebook-cell:/Users/Vincent/Github/FireBallPipe/Notebook/XY_2022_F4_1_220715.ipynb#ch0000018?line=2'>3</a>\u001b[0m [ \u001b[39m2003.28\u001b[39m  ,\t\u001b[39m815.70\u001b[39m],\n\u001b[1;32m      <a href='vscode-notebook-cell:/Users/Vincent/Github/FireBallPipe/Notebook/XY_2022_F4_1_220715.ipynb#ch0000018?line=3'>4</a>\u001b[0m [ \u001b[39m1946.4278\u001b[39m  ,\t\u001b[39m366.6895\u001b[39m],\n\u001b[0;32m   (...)\u001b[0m\n\u001b[1;32m      <a href='vscode-notebook-cell:/Users/Vincent/Github/FireBallPipe/Notebook/XY_2022_F4_1_220715.ipynb#ch0000018?line=7'>8</a>\u001b[0m [ \u001b[39m1707.477\u001b[39m  ,\t\u001b[39m1366.6448\u001b[39m],\n\u001b[1;32m      <a href='vscode-notebook-cell:/Users/Vincent/Github/FireBallPipe/Notebook/XY_2022_F4_1_220715.ipynb#ch0000018?line=8'>9</a>\u001b[0m [ \u001b[39m2085.6851\u001b[39m,\t\u001b[39m1638.469\u001b[39m]]) \u001b[39m# np.ones((2,len(selected_slits))).T\u001b[39;00m\n\u001b[1;32m     <a href='vscode-notebook-cell:/Users/Vincent/Github/FireBallPipe/Notebook/XY_2022_F4_1_220715.ipynb#ch0000018?line=10'>11</a>\u001b[0m \u001b[39m# selected_slits[\"x_det_obs\"] = slits_coord_obs_det[:,0]\u001b[39;00m\n\u001b[1;32m     <a href='vscode-notebook-cell:/Users/Vincent/Github/FireBallPipe/Notebook/XY_2022_F4_1_220715.ipynb#ch0000018?line=11'>12</a>\u001b[0m \u001b[39m# selected_slits[\"y_det_obs\"] = slits_coord_obs_det[:,1]\u001b[39;00m\n\u001b[1;32m     <a href='vscode-notebook-cell:/Users/Vincent/Github/FireBallPipe/Notebook/XY_2022_F4_1_220715.ipynb#ch0000018?line=12'>13</a>\u001b[0m \u001b[39m# #TODO should add difference\u001b[39;00m\n\u001b[0;32m   (...)\u001b[0m\n\u001b[1;32m     <a href='vscode-notebook-cell:/Users/Vincent/Github/FireBallPipe/Notebook/XY_2022_F4_1_220715.ipynb#ch0000018?line=15'>16</a>\u001b[0m \u001b[39m# slit_path = selected_slits\u001b[39;00m\n\u001b[1;32m     <a href='vscode-notebook-cell:/Users/Vincent/Github/FireBallPipe/Notebook/XY_2022_F4_1_220715.ipynb#ch0000018?line=16'>17</a>\u001b[0m \u001b[39m# slit_path\u001b[39;00m\n\u001b[0;32m---> <a href='vscode-notebook-cell:/Users/Vincent/Github/FireBallPipe/Notebook/XY_2022_F4_1_220715.ipynb#ch0000018?line=17'>18</a>\u001b[0m slits_coord_obs \u001b[39m=\u001b[39m G2UV\u001b[39m.\u001b[39mdetector2guider(slits_coord_obs_det, wave\u001b[39m=\u001b[39mobs_wave, angle\u001b[39m=\u001b[39m\u001b[39mTrue\u001b[39;00m  )\n\u001b[1;32m     <a href='vscode-notebook-cell:/Users/Vincent/Github/FireBallPipe/Notebook/XY_2022_F4_1_220715.ipynb#ch0000018?line=18'>19</a>\u001b[0m slits_coord_obs\n",
      "\u001b[0;31mNameError\u001b[0m: name 'obs_wave' is not defined"
     ]
    }
   ],
   "source": [
    "# print(len(slit_path))\n",
    "slits_coord_obs_det = np.array([\n",
    "[ 2003.28  ,\t815.70],\n",
    "[ 1946.4278  ,\t366.6895],\n",
    "[ 1655.4181  ,\t1806.5215],\n",
    "[ 2019.965  ,\t1299.2635],\n",
    "[ 2044.314  ,\t516.54041],\n",
    "[ 1707.477  ,\t1366.6448],\n",
    "[ 2085.6851,\t1638.469]]) # np.ones((2,len(selected_slits))).T\n",
    "\n",
    "# selected_slits[\"x_det_obs\"] = slits_coord_obs_det[:,0]\n",
    "# selected_slits[\"y_det_obs\"] = slits_coord_obs_det[:,1]\n",
    "# #TODO should add difference\n",
    "# # slit_path\n",
    "# # slit_path.write(\"/tmp/slit.csv\",overwrite=True)\n",
    "# slit_path = selected_slits\n",
    "# slit_path\n",
    "slits_coord_obs = G2UV.detector2guider(slits_coord_obs_det, wave=obs_wave, angle=True  )\n",
    "slits_coord_obs"
   ]
  },
  {
   "cell_type": "code",
   "execution_count": 11,
   "metadata": {},
   "outputs": [],
   "source": [
    "# # TODO create some quiver of the error\n",
    "# plt.figure()\n",
    "# plt.plot(F1[\"x_mm\"],F1[\"y_mm\"],\"x\")\n",
    "# plt.plot(selected_slits[\"x_mm\"],selected_slits[\"y_mm\"],\"-o\")\n",
    "# for s in selected_slits:\n",
    "#     plt.text(s[\"x_mm\"],s[\"y_mm\"],s[\"Internal-count\"])\n",
    "# plt.quiver(slit_path[\"x_mm\"],slit_path[\"y_mm\"],slit_path[\"x_det_obs\"],slit_path[\"y_det_obs\"])\n",
    "# plt.xlabel(\"x_mm\")\n",
    "# plt.xlabel(\"y_mm\")\n",
    "# plt.title(Field + \" : %s\"%(slits))\n",
    "# plt.show()"
   ]
  },
  {
   "cell_type": "code",
   "execution_count": 18,
   "metadata": {},
   "outputs": [
    {
     "name": "stdout",
     "output_type": "stream",
     "text": [
      "wave:  0.2139\n"
     ]
    }
   ],
   "source": [
    "valid = np.isfinite(slits_coord_obs_det[:,0])\n",
    "#valid = np.array([True]*8 + [False]*8)\n",
    "# obs_wave = G2UV.mask_det_map.w[0]\n",
    "try:\n",
    "    obs_wave = G2UV.mask_det_map.w[0]\n",
    "except (TypeError, AttributeError) as e:\n",
    "    obs_wave = 0.2139\n",
    "    # obs_wave = 0.20619 #0.2139\n",
    "    # obs_wave = [0.20619, 0.2139, 0.2139, 0.2139, 0.2139, 0.2139, 0.2139, 0.2139]\n",
    "print(\"wave: \", obs_wave)\n",
    "slits_coord_valid = [slit_coords[i] for i in np.nonzero(valid)[0]]\n",
    "# slits_valid = np.array(slits + slits[::-1])[valid]"
   ]
  },
  {
   "cell_type": "markdown",
   "metadata": {},
   "source": [
    "### look at siderostat frame hysteresis "
   ]
  },
  {
   "cell_type": "code",
   "execution_count": 13,
   "metadata": {},
   "outputs": [
    {
     "ename": "UFuncTypeError",
     "evalue": "ufunc 'sign' did not contain a loop with signature matching types dtype('bool') -> dtype('bool')",
     "output_type": "error",
     "traceback": [
      "\u001b[0;31m---------------------------------------------------------------------------\u001b[0m",
      "\u001b[0;31mUFuncTypeError\u001b[0m                            Traceback (most recent call last)",
      "\u001b[1;32m/Users/Vincent/Github/FireBallPipe/Notebook/XY_2022_F4_1_220715.ipynb Cell 24'\u001b[0m in \u001b[0;36m<cell line: 16>\u001b[0;34m()\u001b[0m\n\u001b[1;32m      <a href='vscode-notebook-cell:/Users/Vincent/Github/FireBallPipe/Notebook/XY_2022_F4_1_220715.ipynb#ch0000022?line=1'>2</a>\u001b[0m pair_diff \u001b[39m=\u001b[39m slits_coord_obs_det[:mid] \u001b[39m-\u001b[39m slits_coord_obs_det[::\u001b[39m-\u001b[39m\u001b[39m1\u001b[39m][:mid]\n\u001b[1;32m      <a href='vscode-notebook-cell:/Users/Vincent/Github/FireBallPipe/Notebook/XY_2022_F4_1_220715.ipynb#ch0000022?line=2'>3</a>\u001b[0m \u001b[39m# pair_diff\u001b[39;00m\n\u001b[1;32m      <a href='vscode-notebook-cell:/Users/Vincent/Github/FireBallPipe/Notebook/XY_2022_F4_1_220715.ipynb#ch0000022?line=3'>4</a>\u001b[0m \u001b[39m# fig, (ax0,ax1) = plt.subplots(1,2)\u001b[39;00m\n\u001b[1;32m      <a href='vscode-notebook-cell:/Users/Vincent/Github/FireBallPipe/Notebook/XY_2022_F4_1_220715.ipynb#ch0000022?line=4'>5</a>\u001b[0m \u001b[39m# ax0.plot(np.abs(pair_diff[:,0]),'*')\u001b[39;00m\n\u001b[0;32m   (...)\u001b[0m\n\u001b[1;32m     <a href='vscode-notebook-cell:/Users/Vincent/Github/FireBallPipe/Notebook/XY_2022_F4_1_220715.ipynb#ch0000022?line=12'>13</a>\u001b[0m \u001b[39m# fig.suptitle(Field + \" : Hysteresis analysis\")\u001b[39;00m\n\u001b[1;32m     <a href='vscode-notebook-cell:/Users/Vincent/Github/FireBallPipe/Notebook/XY_2022_F4_1_220715.ipynb#ch0000022?line=13'>14</a>\u001b[0m \u001b[39m# fig.tight_layout()\u001b[39;00m\n\u001b[0;32m---> <a href='vscode-notebook-cell:/Users/Vincent/Github/FireBallPipe/Notebook/XY_2022_F4_1_220715.ipynb#ch0000022?line=15'>16</a>\u001b[0m moves_sign  \u001b[39m=\u001b[39m np\u001b[39m.\u001b[39;49msign(moves[\u001b[39m2\u001b[39;49m:mid\u001b[39m+\u001b[39;49m\u001b[39m2\u001b[39;49m])\n\u001b[1;32m     <a href='vscode-notebook-cell:/Users/Vincent/Github/FireBallPipe/Notebook/XY_2022_F4_1_220715.ipynb#ch0000022?line=16'>17</a>\u001b[0m pair_diff_signed \u001b[39m=\u001b[39m pair_diff \u001b[39m*\u001b[39m moves_sign\n\u001b[1;32m     <a href='vscode-notebook-cell:/Users/Vincent/Github/FireBallPipe/Notebook/XY_2022_F4_1_220715.ipynb#ch0000022?line=17'>18</a>\u001b[0m valid \u001b[39m=\u001b[39m np\u001b[39m.\u001b[39marange(\u001b[39mlen\u001b[39m(moves_sign))\u001b[39m#[0,2,3,4]\u001b[39;00m\n",
      "File \u001b[0;32m~/opt/anaconda3/envs/py38/lib/python3.8/site-packages/pandas/core/generic.py:2113\u001b[0m, in \u001b[0;36mNDFrame.__array_ufunc__\u001b[0;34m(self, ufunc, method, *inputs, **kwargs)\u001b[0m\n\u001b[1;32m   2109\u001b[0m \u001b[39m@final\u001b[39m\n\u001b[1;32m   2110\u001b[0m \u001b[39mdef\u001b[39;00m \u001b[39m__array_ufunc__\u001b[39m(\n\u001b[1;32m   2111\u001b[0m     \u001b[39mself\u001b[39m, ufunc: np\u001b[39m.\u001b[39mufunc, method: \u001b[39mstr\u001b[39m, \u001b[39m*\u001b[39minputs: Any, \u001b[39m*\u001b[39m\u001b[39m*\u001b[39mkwargs: Any\n\u001b[1;32m   2112\u001b[0m ):\n\u001b[0;32m-> 2113\u001b[0m     \u001b[39mreturn\u001b[39;00m arraylike\u001b[39m.\u001b[39;49marray_ufunc(\u001b[39mself\u001b[39;49m, ufunc, method, \u001b[39m*\u001b[39;49minputs, \u001b[39m*\u001b[39;49m\u001b[39m*\u001b[39;49mkwargs)\n",
      "File \u001b[0;32m~/opt/anaconda3/envs/py38/lib/python3.8/site-packages/pandas/core/arraylike.py:405\u001b[0m, in \u001b[0;36marray_ufunc\u001b[0;34m(self, ufunc, method, *inputs, **kwargs)\u001b[0m\n\u001b[1;32m    400\u001b[0m \u001b[39mif\u001b[39;00m method \u001b[39m==\u001b[39m \u001b[39m\"\u001b[39m\u001b[39m__call__\u001b[39m\u001b[39m\"\u001b[39m \u001b[39mand\u001b[39;00m \u001b[39mnot\u001b[39;00m kwargs:\n\u001b[1;32m    401\u001b[0m     \u001b[39m# for np.<ufunc>(..) calls\u001b[39;00m\n\u001b[1;32m    402\u001b[0m     \u001b[39m# kwargs cannot necessarily be handled block-by-block, so only\u001b[39;00m\n\u001b[1;32m    403\u001b[0m     \u001b[39m# take this path if there are no kwargs\u001b[39;00m\n\u001b[1;32m    404\u001b[0m     mgr \u001b[39m=\u001b[39m inputs[\u001b[39m0\u001b[39m]\u001b[39m.\u001b[39m_mgr\n\u001b[0;32m--> 405\u001b[0m     result \u001b[39m=\u001b[39m mgr\u001b[39m.\u001b[39;49mapply(\u001b[39mgetattr\u001b[39;49m(ufunc, method))\n\u001b[1;32m    406\u001b[0m \u001b[39melse\u001b[39;00m:\n\u001b[1;32m    407\u001b[0m     \u001b[39m# otherwise specific ufunc methods (eg np.<ufunc>.accumulate(..))\u001b[39;00m\n\u001b[1;32m    408\u001b[0m     \u001b[39m# Those can have an axis keyword and thus can't be called block-by-block\u001b[39;00m\n\u001b[1;32m    409\u001b[0m     result \u001b[39m=\u001b[39m default_array_ufunc(inputs[\u001b[39m0\u001b[39m], ufunc, method, \u001b[39m*\u001b[39minputs, \u001b[39m*\u001b[39m\u001b[39m*\u001b[39mkwargs)\n",
      "File \u001b[0;32m~/opt/anaconda3/envs/py38/lib/python3.8/site-packages/pandas/core/internals/managers.py:302\u001b[0m, in \u001b[0;36mBaseBlockManager.apply\u001b[0;34m(self, f, align_keys, ignore_failures, **kwargs)\u001b[0m\n\u001b[1;32m    300\u001b[0m \u001b[39mtry\u001b[39;00m:\n\u001b[1;32m    301\u001b[0m     \u001b[39mif\u001b[39;00m callable(f):\n\u001b[0;32m--> 302\u001b[0m         applied \u001b[39m=\u001b[39m b\u001b[39m.\u001b[39;49mapply(f, \u001b[39m*\u001b[39;49m\u001b[39m*\u001b[39;49mkwargs)\n\u001b[1;32m    303\u001b[0m     \u001b[39melse\u001b[39;00m:\n\u001b[1;32m    304\u001b[0m         applied \u001b[39m=\u001b[39m \u001b[39mgetattr\u001b[39m(b, f)(\u001b[39m*\u001b[39m\u001b[39m*\u001b[39mkwargs)\n",
      "File \u001b[0;32m~/opt/anaconda3/envs/py38/lib/python3.8/site-packages/pandas/core/internals/blocks.py:402\u001b[0m, in \u001b[0;36mBlock.apply\u001b[0;34m(self, func, **kwargs)\u001b[0m\n\u001b[1;32m    396\u001b[0m \u001b[39m@final\u001b[39m\n\u001b[1;32m    397\u001b[0m \u001b[39mdef\u001b[39;00m \u001b[39mapply\u001b[39m(\u001b[39mself\u001b[39m, func, \u001b[39m*\u001b[39m\u001b[39m*\u001b[39mkwargs) \u001b[39m-\u001b[39m\u001b[39m>\u001b[39m \u001b[39mlist\u001b[39m[Block]:\n\u001b[1;32m    398\u001b[0m     \u001b[39m\"\"\"\u001b[39;00m\n\u001b[1;32m    399\u001b[0m \u001b[39m    apply the function to my values; return a block if we are not\u001b[39;00m\n\u001b[1;32m    400\u001b[0m \u001b[39m    one\u001b[39;00m\n\u001b[1;32m    401\u001b[0m \u001b[39m    \"\"\"\u001b[39;00m\n\u001b[0;32m--> 402\u001b[0m     result \u001b[39m=\u001b[39m func(\u001b[39mself\u001b[39;49m\u001b[39m.\u001b[39;49mvalues, \u001b[39m*\u001b[39;49m\u001b[39m*\u001b[39;49mkwargs)\n\u001b[1;32m    404\u001b[0m     \u001b[39mreturn\u001b[39;00m \u001b[39mself\u001b[39m\u001b[39m.\u001b[39m_split_op_result(result)\n",
      "\u001b[0;31mUFuncTypeError\u001b[0m: ufunc 'sign' did not contain a loop with signature matching types dtype('bool') -> dtype('bool')"
     ]
    }
   ],
   "source": [
    "mid  = len(slits_coord_obs_det)//2\n",
    "pair_diff = slits_coord_obs_det[:mid] - slits_coord_obs_det[::-1][:mid]\n",
    "# pair_diff\n",
    "# fig, (ax0,ax1) = plt.subplots(1,2)\n",
    "# ax0.plot(np.abs(pair_diff[:,0]),'*')\n",
    "# ax0.plot(np.abs(pair_diff[:,0]),'-')\n",
    "# ax0.set_title(\"El pair diff\")\n",
    "# ax0.set_ylabel(\"El arcsec\")\n",
    "# ax1.plot(np.abs(pair_diff[:,1]),'*')\n",
    "# ax1.plot(np.abs(pair_diff[:,1]),'-')\n",
    "# ax1.set_title(\"Ce pair diff\")\n",
    "# ax1.set_ylabel(\"Ce arcsec\")\n",
    "# fig.suptitle(Field + \" : Hysteresis analysis\")\n",
    "# fig.tight_layout()\n",
    "\n",
    "moves_sign  = np.sign(moves[2:mid+2])\n",
    "pair_diff_signed = pair_diff * moves_sign\n",
    "valid = np.arange(len(moves_sign))#[0,2,3,4]\n",
    "fig, (ax0,ax1) = plt.subplots(1,2)\n",
    "ax0.plot(pair_diff_signed[valid,0],'*-')\n",
    "ax0.set_title(\"El pair diff\")\n",
    "ax0.set_ylabel(\"El arcsec\")\n",
    "ax1.plot(pair_diff_signed[valid,1],'*-')\n",
    "ax1.set_title(\"Ce pair diff\")\n",
    "ax1.set_ylabel(\"Ce arcsec\")\n",
    "fig.suptitle(\"Hysteresis analysis\")\n",
    "fig.tight_layout()\n"
   ]
  },
  {
   "cell_type": "markdown",
   "metadata": {},
   "source": [
    "## 11- Note open-mask guider ref point\n",
    "## 12- Update model with observed slit positions"
   ]
  },
  {
   "cell_type": "code",
   "execution_count": 14,
   "metadata": {},
   "outputs": [
    {
     "data": {
      "text/plain": [
       "array([[2003.28   ,  815.7    ],\n",
       "       [1946.4278 ,  366.6895 ],\n",
       "       [1655.4181 , 1806.5215 ],\n",
       "       [2019.965  , 1299.2635 ],\n",
       "       [2044.314  ,  516.54041],\n",
       "       [1707.477  , 1366.6448 ],\n",
       "       [2085.6851 , 1638.469  ]])"
      ]
     },
     "execution_count": 14,
     "metadata": {},
     "output_type": "execute_result"
    }
   ],
   "source": [
    "slits_coord_obs_det"
   ]
  },
  {
   "cell_type": "code",
   "execution_count": 87,
   "metadata": {},
   "outputs": [
    {
     "data": {
      "text/plain": [
       "[<SkyCoord (SkyOffsetICRS: rotation=0.0 deg, origin=<ICRS Coordinate: (ra, dec) in deg\n",
       "     (250.39272815, 36.41856381)>): (lon, lat) in deg\n",
       "     [(0.15645484, -0.25184828)]>,\n",
       " <SkyCoord (SkyOffsetICRS: rotation=0.0 deg, origin=<ICRS Coordinate: (ra, dec) in deg\n",
       "     (250.39272815, 36.41856381)>): (lon, lat) in deg\n",
       "     [(0.0516134, 0.20033902)]>,\n",
       " <SkyCoord (SkyOffsetICRS: rotation=0.0 deg, origin=<ICRS Coordinate: (ra, dec) in deg\n",
       "     (250.39272815, 36.41856381)>): (lon, lat) in deg\n",
       "     [(0.1831249, 0.04269905)]>,\n",
       " <SkyCoord (SkyOffsetICRS: rotation=0.0 deg, origin=<ICRS Coordinate: (ra, dec) in deg\n",
       "     (250.39272815, 36.41856381)>): (lon, lat) in deg\n",
       "     [(0.19152934, -0.20488711)]>,\n",
       " <SkyCoord (SkyOffsetICRS: rotation=0.0 deg, origin=<ICRS Coordinate: (ra, dec) in deg\n",
       "     (250.39272815, 36.41856381)>): (lon, lat) in deg\n",
       "     [(0.07212324, 0.06294379)]>,\n",
       " <SkyCoord (SkyOffsetICRS: rotation=0.0 deg, origin=<ICRS Coordinate: (ra, dec) in deg\n",
       "     (250.39272815, 36.41856381)>): (lon, lat) in deg\n",
       "     [(0.20469744, 0.15068753)]>]"
      ]
     },
     "execution_count": 87,
     "metadata": {},
     "output_type": "execute_result"
    }
   ],
   "source": [
    "slits_coord_valid[1:]"
   ]
  },
  {
   "cell_type": "code",
   "execution_count": 99,
   "metadata": {},
   "outputs": [
    {
     "data": {
      "text/plain": [
       "[<SkyCoord (SkyOffsetICRS: rotation=0.0 deg, origin=<ICRS Coordinate: (ra, dec) in deg\n",
       "     (250.39272815, 36.41856381)>): (lon, lat) in deg\n",
       "     [(0.1563221, -0.25466199)]>,\n",
       " <SkyCoord (SkyOffsetICRS: rotation=0.0 deg, origin=<ICRS Coordinate: (ra, dec) in deg\n",
       "     (250.39272815, 36.41856381)>): (lon, lat) in deg\n",
       "     [(0.05017838, 0.20327737)]>,\n",
       " <SkyCoord (SkyOffsetICRS: rotation=0.0 deg, origin=<ICRS Coordinate: (ra, dec) in deg\n",
       "     (250.39272815, 36.41856381)>): (lon, lat) in deg\n",
       "     [(0.1830106, 0.041714)]>,\n",
       " <SkyCoord (SkyOffsetICRS: rotation=0.0 deg, origin=<ICRS Coordinate: (ra, dec) in deg\n",
       "     (250.39272815, 36.41856381)>): (lon, lat) in deg\n",
       "     [(0.19160946, -0.20621926)]>,\n",
       " <SkyCoord (SkyOffsetICRS: rotation=0.0 deg, origin=<ICRS Coordinate: (ra, dec) in deg\n",
       "     (250.39272815, 36.41856381)>): (lon, lat) in deg\n",
       "     [(0.06999718, 0.06440552)]>,\n",
       " <SkyCoord (SkyOffsetICRS: rotation=0.0 deg, origin=<ICRS Coordinate: (ra, dec) in deg\n",
       "     (250.39272815, 36.41856381)>): (lon, lat) in deg\n",
       "     [(0.20559653, 0.14977861)]>]"
      ]
     },
     "execution_count": 99,
     "metadata": {},
     "output_type": "execute_result"
    }
   ],
   "source": [
    "slits_coord_obs[1:]"
   ]
  },
  {
   "cell_type": "code",
   "execution_count": 79,
   "metadata": {},
   "outputs": [
    {
     "data": {
      "text/plain": [
       "[<SkyCoord (SkyOffsetICRS: rotation=0.0 deg, origin=<ICRS Coordinate: (ra, dec) in deg\n",
       "     (250.39272815, 36.41856381)>): (lon, lat) in deg\n",
       "     [(0.1563221, -0.25466199)]>,\n",
       " <SkyCoord (SkyOffsetICRS: rotation=0.0 deg, origin=<ICRS Coordinate: (ra, dec) in deg\n",
       "     (250.39272815, 36.41856381)>): (lon, lat) in deg\n",
       "     [(0.05017838, 0.20327737)]>,\n",
       " <SkyCoord (SkyOffsetICRS: rotation=0.0 deg, origin=<ICRS Coordinate: (ra, dec) in deg\n",
       "     (250.39272815, 36.41856381)>): (lon, lat) in deg\n",
       "     [(0.1830106, 0.041714)]>,\n",
       " <SkyCoord (SkyOffsetICRS: rotation=0.0 deg, origin=<ICRS Coordinate: (ra, dec) in deg\n",
       "     (250.39272815, 36.41856381)>): (lon, lat) in deg\n",
       "     [(0.19160946, -0.20621926)]>,\n",
       " <SkyCoord (SkyOffsetICRS: rotation=0.0 deg, origin=<ICRS Coordinate: (ra, dec) in deg\n",
       "     (250.39272815, 36.41856381)>): (lon, lat) in deg\n",
       "     [(0.06999718, 0.06440552)]>,\n",
       " <SkyCoord (SkyOffsetICRS: rotation=0.0 deg, origin=<ICRS Coordinate: (ra, dec) in deg\n",
       "     (250.39272815, 36.41856381)>): (lon, lat) in deg\n",
       "     [(0.20559653, 0.14977861)]>]"
      ]
     },
     "execution_count": 79,
     "metadata": {},
     "output_type": "execute_result"
    }
   ],
   "source": [
    "slits_coord_obs[1:]"
   ]
  },
  {
   "cell_type": "code",
   "execution_count": 15,
   "metadata": {},
   "outputs": [
    {
     "data": {
      "text/plain": [
       "[<SkyCoord (SkyOffsetICRS: rotation=0.0 deg, origin=<ICRS Coordinate: (ra, dec) in deg\n",
       "     (250.39272815, 36.41856381)>): (lon, lat) in deg\n",
       "     [(0.17282303, -0.14765249)]>,\n",
       " <SkyCoord (SkyOffsetICRS: rotation=0.0 deg, origin=<ICRS Coordinate: (ra, dec) in deg\n",
       "     (250.39272815, 36.41856381)>): (lon, lat) in deg\n",
       "     [(0.15171089, -0.28499164)]>,\n",
       " <SkyCoord (SkyOffsetICRS: rotation=0.0 deg, origin=<ICRS Coordinate: (ra, dec) in deg\n",
       "     (250.39272815, 36.41856381)>): (lon, lat) in deg\n",
       "     [(0.04709097, 0.15756409)]>,\n",
       " <SkyCoord (SkyOffsetICRS: rotation=0.0 deg, origin=<ICRS Coordinate: (ra, dec) in deg\n",
       "     (250.39272815, 36.41856381)>): (lon, lat) in deg\n",
       "     [(0.17828962, 0.00111517)]>,\n",
       " <SkyCoord (SkyOffsetICRS: rotation=0.0 deg, origin=<ICRS Coordinate: (ra, dec) in deg\n",
       "     (250.39272815, 36.41856381)>): (lon, lat) in deg\n",
       "     [(0.18662782, -0.23878934)]>,\n",
       " <SkyCoord (SkyOffsetICRS: rotation=0.0 deg, origin=<ICRS Coordinate: (ra, dec) in deg\n",
       "     (250.39272815, 36.41856381)>): (lon, lat) in deg\n",
       "     [(0.067757, 0.02256451)]>,\n",
       " <SkyCoord (SkyOffsetICRS: rotation=0.0 deg, origin=<ICRS Coordinate: (ra, dec) in deg\n",
       "     (250.39272815, 36.41856381)>): (lon, lat) in deg\n",
       "     [(0.20016228, 0.10407006)]>]"
      ]
     },
     "execution_count": 15,
     "metadata": {},
     "output_type": "execute_result"
    }
   ],
   "source": [
    "slits_coord_obs = G2UV.detector2guider(slits_coord_obs_det, wave=obs_wave, angle=True  )\n",
    "slits_coord_obs"
   ]
  },
  {
   "cell_type": "code",
   "execution_count": null,
   "metadata": {},
   "outputs": [],
   "source": []
  },
  {
   "cell_type": "code",
   "execution_count": 19,
   "metadata": {
    "collapsed": true
   },
   "outputs": [
    {
     "name": "stdout",
     "output_type": "stream",
     "text": [
      "Fitting rotation, translation and magnification\n",
      "row_x, row_y =  [[ 0.15645484  0.25184828  1.          0.        ]\n",
      " [ 0.0516134  -0.20033902  1.          0.        ]\n",
      " [ 0.1831249  -0.04269905  1.          0.        ]\n",
      " [ 0.19152934  0.20488711  1.          0.        ]\n",
      " [ 0.07212324 -0.06294379  1.          0.        ]\n",
      " [ 0.20469744 -0.15068753  1.          0.        ]] [[-0.25184828  0.15645484  0.          1.        ]\n",
      " [ 0.20033902  0.0516134   0.          1.        ]\n",
      " [ 0.04269905  0.1831249   0.          1.        ]\n",
      " [-0.20488711  0.19152934  0.          1.        ]\n",
      " [ 0.06294379  0.07212324  0.          1.        ]\n",
      " [ 0.15068753  0.20469744  0.          1.        ]]\n",
      "mat =  [[ 0.15645484  0.25184828  1.          0.        ]\n",
      " [ 0.0516134  -0.20033902  1.          0.        ]\n",
      " [ 0.1831249  -0.04269905  1.          0.        ]\n",
      " [ 0.19152934  0.20488711  1.          0.        ]\n",
      " [ 0.07212324 -0.06294379  1.          0.        ]\n",
      " [ 0.20469744 -0.15068753  1.          0.        ]\n",
      " [-0.25184828  0.15645484  0.          1.        ]\n",
      " [ 0.20033902  0.0516134   0.          1.        ]\n",
      " [ 0.04269905  0.1831249   0.          1.        ]\n",
      " [-0.20488711  0.19152934  0.          1.        ]\n",
      " [ 0.06294379  0.07212324  0.          1.        ]\n",
      " [ 0.15068753  0.20469744  0.          1.        ]]\n",
      "matinv =  [[ 0.06755511 -0.46909923  0.20407175  0.24709176 -0.36411505  0.31449566\n",
      "  -1.28908539  1.02553635  0.21862091 -1.04870417  0.32224818  0.77138412]\n",
      " [ 1.28908539 -1.02553635 -0.21862091  1.04870417 -0.32224818 -0.77138412\n",
      "   0.06755511 -0.46909923  0.20407175  0.24709176 -0.36411505  0.31449566]\n",
      " [ 0.15697473  0.23387979  0.13743433  0.13125746  0.21883231  0.12162139\n",
      "   0.18467001 -0.1469103  -0.03132126  0.1502317  -0.04616037 -0.11050978]\n",
      " [-0.18467001  0.1469103   0.03132126 -0.1502317   0.04616037  0.11050978\n",
      "   0.15697473  0.23387979  0.13743433  0.13125746  0.21883231  0.12162139]]\n",
      "gamma: 1.0238857916369708\n",
      "theta: -1.2035698095570653 arcmin\n",
      "dx: 4.424242971719103 arcsec\n",
      "dy: 143.22220101799843 arcsec\n",
      "variances: [6.28461004e-04 2.16048979e+00 5.21264139e-01 5.21264139e-01]\n",
      "\n",
      "residuals in arcsec: [[  0.48195282   2.05273974]\n",
      " [ -7.16583183   6.39433207]\n",
      " [  2.81777845  -3.03893095]\n",
      " [  2.98991687   3.31477545]\n",
      " [ -5.01309219   3.17833111]\n",
      " [  5.88927588 -11.90124743]]\n",
      "max residual in EL,CE 7.2, 11.9 arcsec\n",
      "mean residual in EL,CE 4.6, 6.0 arcsec\n"
     ]
    },
    {
     "data": {
      "image/png": "[encoded data removed]",
      "text/plain": [
       "<Figure size 432x288 with 2 Axes>"
      ]
     },
     "metadata": {
      "needs_background": "light"
     },
     "output_type": "display_data"
    },
    {
     "name": "stdout",
     "output_type": "stream",
     "text": [
      "After updating:\n",
      "    mask_rotation: -1.2035698095570653 arcmin\n",
      "    FOV center in guider: 1398.9724434039827 x 365.8541326450214 pix = 691.4174248524289 arcsec x -162.38871866451066 arcsec arcsec\n",
      "    mask_magnification correction: 1.0238857916369708  \n",
      "    \n"
     ]
    }
   ],
   "source": [
    "slits_coord_obs = G2UV.detector2guider(slits_coord_obs_det, wave=obs_wave, angle=True  )\n",
    "weight = np.array( [1.]*16  + [1./(1. + 1e-1)]*16)\n",
    "G2UVcor, residuals = G2UV.update_model(slits_coord_valid[1:], slits_coord_obs[1:], plot=True)#, labels=slits_valid\n"
   ]
  },
  {
   "cell_type": "markdown",
   "metadata": {},
   "source": [
    "### save corrected model for future use (eg redo the clalib on same field)"
   ]
  },
  {
   "cell_type": "code",
   "execution_count": 52,
   "metadata": {},
   "outputs": [
    {
     "name": "stdout",
     "output_type": "stream",
     "text": [
      "Dumping to Calibration/Mappings/2022/XY/F4_XY_220715.pkl\n"
     ]
    }
   ],
   "source": [
    "G2UVcor.save(filename=\"Calibration/Mappings/2022/XY/%s_XY_%s.pkl\"%(Field,datetime.datetime.now().strftime(\"%y%m%d\")))"
   ]
  },
  {
   "cell_type": "markdown",
   "metadata": {},
   "source": [
    "## 13 - Rotate carousel to science mask\n",
    "## 14 - Note open-mask guider ref point\n",
    "## 15 - Check corrected model through science mask"
   ]
  },
  {
   "cell_type": "code",
   "execution_count": 90,
   "metadata": {},
   "outputs": [],
   "source": []
  },
  {
   "cell_type": "code",
   "execution_count": 91,
   "metadata": {},
   "outputs": [
    {
     "name": "stdout",
     "output_type": "stream",
     "text": [
      "slit position in mm on mask: [ 1.149408 -0.37309 ]\n",
      "slit position in mm on mask: [ 7.136533 -1.264856]\n",
      "slit position in mm on mask: [-11.936418  -5.681635]\n",
      "slit position in mm on mask: [-5.303522 -0.138687]\n",
      "slit position in mm on mask: [5.155472 0.21635 ]\n",
      "slit position in mm on mask: [-6.155668 -4.825373]\n",
      "slit position in mm on mask: [-9.854999  0.771802]\n",
      "\n",
      "targets local coords in siderostat local frame:\n",
      "EL: 326.5 arcsec ; CE: 128.9 arcsec\n",
      "EL: 287.8 arcsec ; CE: 385.4 arcsec\n",
      "EL: 96.6 arcsec ; CE: -432.7 arcsec\n",
      "EL: 336.7 arcsec ; CE: -147.4 arcsec\n",
      "EL: 351.9 arcsec ; CE: 300.5 arcsec\n",
      "EL: 134.0 arcsec ; CE: -184.1 arcsec\n",
      "EL: 376.2 arcsec ; CE: -342.8 arcsec\n",
      "\n",
      "siderostat moves sequence: \n",
      "(They have been copied to clipboard, paste it in the spreadsheet)\n"
     ]
    },
    {
     "data": {
      "text/html": [
       "<div>\n",
       "<style scoped>\n",
       "    .dataframe tbody tr th:only-of-type {\n",
       "        vertical-align: middle;\n",
       "    }\n",
       "\n",
       "    .dataframe tbody tr th {\n",
       "        vertical-align: top;\n",
       "    }\n",
       "\n",
       "    .dataframe thead th {\n",
       "        text-align: right;\n",
       "    }\n",
       "</style>\n",
       "<table border=\"1\" class=\"dataframe\">\n",
       "  <thead>\n",
       "    <tr style=\"text-align: right;\">\n",
       "      <th></th>\n",
       "      <th>EL</th>\n",
       "      <th>CE</th>\n",
       "      <th>UV_image</th>\n",
       "    </tr>\n",
       "  </thead>\n",
       "  <tbody>\n",
       "    <tr>\n",
       "      <th>0</th>\n",
       "      <td>326.482184</td>\n",
       "      <td>128.904401</td>\n",
       "      <td>1.0</td>\n",
       "    </tr>\n",
       "    <tr>\n",
       "      <th>1</th>\n",
       "      <td>-38.676171</td>\n",
       "      <td>256.529989</td>\n",
       "      <td>1.0</td>\n",
       "    </tr>\n",
       "    <tr>\n",
       "      <th>2</th>\n",
       "      <td>-191.209535</td>\n",
       "      <td>-818.146962</td>\n",
       "      <td>1.0</td>\n",
       "    </tr>\n",
       "    <tr>\n",
       "      <th>3</th>\n",
       "      <td>240.112226</td>\n",
       "      <td>285.279716</td>\n",
       "      <td>1.0</td>\n",
       "    </tr>\n",
       "    <tr>\n",
       "      <th>4</th>\n",
       "      <td>15.192852</td>\n",
       "      <td>447.929055</td>\n",
       "      <td>1.0</td>\n",
       "    </tr>\n",
       "    <tr>\n",
       "      <th>5</th>\n",
       "      <td>-217.930587</td>\n",
       "      <td>-484.625415</td>\n",
       "      <td>1.0</td>\n",
       "    </tr>\n",
       "    <tr>\n",
       "      <th>6</th>\n",
       "      <td>242.210247</td>\n",
       "      <td>-158.658760</td>\n",
       "      <td>1.0</td>\n",
       "    </tr>\n",
       "  </tbody>\n",
       "</table>\n",
       "</div>"
      ],
      "text/plain": [
       "           EL          CE  UV_image\n",
       "0  326.482184  128.904401       1.0\n",
       "1  -38.676171  256.529989       1.0\n",
       "2 -191.209535 -818.146962       1.0\n",
       "3  240.112226  285.279716       1.0\n",
       "4   15.192852  447.929055       1.0\n",
       "5 -217.930587 -484.625415       1.0\n",
       "6  242.210247 -158.658760       1.0"
      ]
     },
     "execution_count": 91,
     "metadata": {},
     "output_type": "execute_result"
    }
   ],
   "source": [
    "moves, flags, slit_coords = G2UVcor.compute_autocoll_moves_slits(slits, F1, hystcomp = False, CEg = CEg, Elg = Elg)\n",
    "moves = pd.DataFrame(np.hstack((moves,flags[:,None])), columns=[\"EL\",\"CE\",\"UV_image\"])\n",
    "print(\"(They have been copied to clipboard, paste it in the spreadsheet)\")\n",
    "moves.to_clipboard()\n",
    "moves"
   ]
  },
  {
   "cell_type": "markdown",
   "metadata": {},
   "source": [
    "The moves has been copied. Add it to the [moves tab of this spreadsheet](https://docs.google.com/spreadsheets/d/19jO0fZ0FL0zZKt8IgJ_DMlZrbCD0VXpYVeulKzXtHzY/edit#gid=0)"
   ]
  },
  {
   "cell_type": "code",
   "execution_count": 64,
   "metadata": {},
   "outputs": [
    {
     "data": {
      "text/plain": [
       "[<SkyCoord (SkyOffsetICRS: rotation=0.0 deg, origin=<ICRS Coordinate: (ra, dec) in deg\n",
       "     (250.39272815, 36.41856381)>): (lon, lat) in deg\n",
       "     [(0.1772047, -0.11182764)]>,\n",
       " <SkyCoord (SkyOffsetICRS: rotation=0.0 deg, origin=<ICRS Coordinate: (ra, dec) in deg\n",
       "     (250.39272815, 36.41856381)>): (lon, lat) in deg\n",
       "     [(0.1563221, -0.25466199)]>,\n",
       " <SkyCoord (SkyOffsetICRS: rotation=0.0 deg, origin=<ICRS Coordinate: (ra, dec) in deg\n",
       "     (250.39272815, 36.41856381)>): (lon, lat) in deg\n",
       "     [(0.05017838, 0.20327737)]>,\n",
       " <SkyCoord (SkyOffsetICRS: rotation=0.0 deg, origin=<ICRS Coordinate: (ra, dec) in deg\n",
       "     (250.39272815, 36.41856381)>): (lon, lat) in deg\n",
       "     [(0.1830106, 0.041714)]>,\n",
       " <SkyCoord (SkyOffsetICRS: rotation=0.0 deg, origin=<ICRS Coordinate: (ra, dec) in deg\n",
       "     (250.39272815, 36.41856381)>): (lon, lat) in deg\n",
       "     [(0.19160946, -0.20621926)]>,\n",
       " <SkyCoord (SkyOffsetICRS: rotation=0.0 deg, origin=<ICRS Coordinate: (ra, dec) in deg\n",
       "     (250.39272815, 36.41856381)>): (lon, lat) in deg\n",
       "     [(0.06999718, 0.06440552)]>,\n",
       " <SkyCoord (SkyOffsetICRS: rotation=0.0 deg, origin=<ICRS Coordinate: (ra, dec) in deg\n",
       "     (250.39272815, 36.41856381)>): (lon, lat) in deg\n",
       "     [(0.20559653, 0.14977861)]>]"
      ]
     },
     "execution_count": 64,
     "metadata": {},
     "output_type": "execute_result"
    }
   ],
   "source": [
    "slits_coord_obs"
   ]
  },
  {
   "cell_type": "code",
   "execution_count": 22,
   "metadata": {},
   "outputs": [
    {
     "name": "stdout",
     "output_type": "stream",
     "text": [
      "Fitting rotation, translation and magnification\n",
      "row_x, row_y =  [[ 0.15645484  0.25184828  1.          0.        ]\n",
      " [ 0.0516134  -0.20033902  1.          0.        ]\n",
      " [ 0.1831249  -0.04269905  1.          0.        ]\n",
      " [ 0.19152934  0.20488711  1.          0.        ]\n",
      " [ 0.07212324 -0.06294379  1.          0.        ]\n",
      " [ 0.20469744 -0.15068753  1.          0.        ]] [[-0.25184828  0.15645484  0.          1.        ]\n",
      " [ 0.20033902  0.0516134   0.          1.        ]\n",
      " [ 0.04269905  0.1831249   0.          1.        ]\n",
      " [-0.20488711  0.19152934  0.          1.        ]\n",
      " [ 0.06294379  0.07212324  0.          1.        ]\n",
      " [ 0.15068753  0.20469744  0.          1.        ]]\n",
      "mat =  [[ 0.15645484  0.25184828  1.          0.        ]\n",
      " [ 0.0516134  -0.20033902  1.          0.        ]\n",
      " [ 0.1831249  -0.04269905  1.          0.        ]\n",
      " [ 0.19152934  0.20488711  1.          0.        ]\n",
      " [ 0.07212324 -0.06294379  1.          0.        ]\n",
      " [ 0.20469744 -0.15068753  1.          0.        ]\n",
      " [-0.25184828  0.15645484  0.          1.        ]\n",
      " [ 0.20033902  0.0516134   0.          1.        ]\n",
      " [ 0.04269905  0.1831249   0.          1.        ]\n",
      " [-0.20488711  0.19152934  0.          1.        ]\n",
      " [ 0.06294379  0.07212324  0.          1.        ]\n",
      " [ 0.15068753  0.20469744  0.          1.        ]]\n",
      "matinv =  [[ 0.06755511 -0.46909923  0.20407175  0.24709176 -0.36411505  0.31449566\n",
      "  -1.28908539  1.02553635  0.21862091 -1.04870417  0.32224818  0.77138412]\n",
      " [ 1.28908539 -1.02553635 -0.21862091  1.04870417 -0.32224818 -0.77138412\n",
      "   0.06755511 -0.46909923  0.20407175  0.24709176 -0.36411505  0.31449566]\n",
      " [ 0.15697473  0.23387979  0.13743433  0.13125746  0.21883231  0.12162139\n",
      "   0.18467001 -0.1469103  -0.03132126  0.1502317  -0.04616037 -0.11050978]\n",
      " [-0.18467001  0.1469103   0.03132126 -0.1502317   0.04616037  0.11050978\n",
      "   0.15697473  0.23387979  0.13743433  0.13125746  0.21883231  0.12162139]]\n",
      "gamma: 0.9906903547007436\n",
      "theta: 5.2102438652011465 arcmin\n",
      "dx: 6.498513476063814 arcsec\n",
      "dy: 0.20185058160775113 arcsec\n",
      "variances: [6.28461004e-04 2.16048979e+00 5.21264139e-01 5.21264139e-01]\n",
      "\n",
      "residuals in arcsec: [[ 2.15122163 -0.63325699]\n",
      " [-1.49044106  4.347214  ]\n",
      " [-0.28331576 -3.77620585]\n",
      " [ 1.48577797  3.31788008]\n",
      " [-3.91592004  3.74802979]\n",
      " [ 2.05267727 -7.00366103]]\n",
      "max residual in EL,CE 3.9, 7.0 arcsec\n",
      "mean residual in EL,CE 2.2, 4.2 arcsec\n"
     ]
    },
    {
     "data": {
      "image/png": "[encoded data removed]",
      "text/plain": [
       "<Figure size 432x288 with 2 Axes>"
      ]
     },
     "metadata": {
      "needs_background": "light"
     },
     "output_type": "display_data"
    },
    {
     "name": "stdout",
     "output_type": "stream",
     "text": [
      "After updating:\n",
      "    mask_rotation: 4.006674055644082 arcmin\n",
      "    FOV center in guider: 1399.2818007707926 x 368.8364772982447 pix = 691.7252034485729 arcsec x -159.62717549633345 arcsec arcsec\n",
      "    mask_magnification correction: 1.0143537780898824  \n",
      "    \n"
     ]
    },
    {
     "data": {
      "text/plain": [
       "(<guider2UV.guider2UV.Guider2UV at 0x7fa668cbe8e0>,\n",
       " array([[ 5.97561564e-04, -1.75904721e-04],\n",
       "        [-4.14011407e-04,  1.20755944e-03],\n",
       "        [-7.86988226e-05, -1.04894607e-03],\n",
       "        [ 4.12716103e-04,  9.21633355e-04],\n",
       "        [-1.08775557e-03,  1.04111939e-03],\n",
       "        [ 5.70188130e-04, -1.94546140e-03]]))"
      ]
     },
     "execution_count": 22,
     "metadata": {},
     "output_type": "execute_result"
    }
   ],
   "source": [
    "slits_coord_obs_det = np.array([\n",
    "[2015.5591,  \t931.45115  ],\n",
    "[1958.5063  ,\t467.6615  ],\n",
    "[1665.4307  ,\t1955.4355  ],\n",
    "[2034.4282 ,\t1432.4388  ],\n",
    "[2057.2718 ,\t620.85921  ],\n",
    "[1715.4736 ,\t1503.1555  ],\n",
    "[2102.354,  \t1784.8877  ]]) \n",
    "\n",
    "slits_coord_obs = G2UV.detector2guider(slits_coord_obs_det, wave=obs_wave, angle=True  )\n",
    "weight = np.array( [1.]*16  + [1./(1. + 1e-1)]*16)\n",
    "G2UVcor.update_model(slits_coord_valid[1:], slits_coord_obs[1:], plot=True)#, labels=slits_valid\n",
    "\n",
    "\n"
   ]
  },
  {
   "cell_type": "code",
   "execution_count": null,
   "metadata": {},
   "outputs": [],
   "source": []
  },
  {
   "cell_type": "markdown",
   "metadata": {},
   "source": [
    "\n",
    "## 16 - Note science-mask guider ref point\n",
    "## 17 - Go through the Star sequence \n",
    "gc - s8 - s25 - s31"
   ]
  },
  {
   "cell_type": "code",
   "execution_count": 69,
   "metadata": {},
   "outputs": [
    {
     "data": {
      "text/html": [
       "<div>\n",
       "<style scoped>\n",
       "    .dataframe tbody tr th:only-of-type {\n",
       "        vertical-align: middle;\n",
       "    }\n",
       "\n",
       "    .dataframe tbody tr th {\n",
       "        vertical-align: top;\n",
       "    }\n",
       "\n",
       "    .dataframe thead th {\n",
       "        text-align: right;\n",
       "    }\n",
       "</style>\n",
       "<table border=\"1\" class=\"dataframe\">\n",
       "  <thead>\n",
       "    <tr style=\"text-align: right;\">\n",
       "      <th></th>\n",
       "      <th>Internal count</th>\n",
       "      <th>RA</th>\n",
       "      <th>DEC</th>\n",
       "      <th>X</th>\n",
       "      <th>Y</th>\n",
       "      <th>GAIA gband</th>\n",
       "      <th>SDSS gband</th>\n",
       "      <th>SDSS rband</th>\n",
       "      <th>Xguider</th>\n",
       "      <th>Yguider</th>\n",
       "    </tr>\n",
       "  </thead>\n",
       "  <tbody>\n",
       "    <tr>\n",
       "      <th>0</th>\n",
       "      <td>1</td>\n",
       "      <td>36.737339</td>\n",
       "      <td>0.339020</td>\n",
       "      <td>-7.130249</td>\n",
       "      <td>-13.337500</td>\n",
       "      <td>&lt;NA&gt;</td>\n",
       "      <td>&lt;NA&gt;</td>\n",
       "      <td>13</td>\n",
       "      <td>122.151387</td>\n",
       "      <td>1298.132040</td>\n",
       "    </tr>\n",
       "    <tr>\n",
       "      <th>1</th>\n",
       "      <td>2</td>\n",
       "      <td>36.747639</td>\n",
       "      <td>0.670835</td>\n",
       "      <td>-6.691532</td>\n",
       "      <td>0.782461</td>\n",
       "      <td>&lt;NA&gt;</td>\n",
       "      <td>12</td>\n",
       "      <td>12</td>\n",
       "      <td>1458.077564</td>\n",
       "      <td>1219.460838</td>\n",
       "    </tr>\n",
       "    <tr>\n",
       "      <th>2</th>\n",
       "      <td>3</td>\n",
       "      <td>36.754892</td>\n",
       "      <td>0.533429</td>\n",
       "      <td>-6.383080</td>\n",
       "      <td>-5.064658</td>\n",
       "      <td>&lt;NA&gt;</td>\n",
       "      <td>13</td>\n",
       "      <td>12</td>\n",
       "      <td>919.452076</td>\n",
       "      <td>1212.485004</td>\n",
       "    </tr>\n",
       "    <tr>\n",
       "      <th>3</th>\n",
       "      <td>4</td>\n",
       "      <td>36.759354</td>\n",
       "      <td>0.693686</td>\n",
       "      <td>-6.193004</td>\n",
       "      <td>1.754827</td>\n",
       "      <td>&lt;NA&gt;</td>\n",
       "      <td>14</td>\n",
       "      <td>13</td>\n",
       "      <td>1543.722042</td>\n",
       "      <td>1169.992241</td>\n",
       "    </tr>\n",
       "    <tr>\n",
       "      <th>4</th>\n",
       "      <td>5</td>\n",
       "      <td>36.769798</td>\n",
       "      <td>0.659670</td>\n",
       "      <td>-5.748668</td>\n",
       "      <td>0.307307</td>\n",
       "      <td>&lt;NA&gt;</td>\n",
       "      <td>13</td>\n",
       "      <td>13</td>\n",
       "      <td>1412.002699</td>\n",
       "      <td>1135.629710</td>\n",
       "    </tr>\n",
       "    <tr>\n",
       "      <th>5</th>\n",
       "      <td>6</td>\n",
       "      <td>36.778383</td>\n",
       "      <td>0.429222</td>\n",
       "      <td>-5.383609</td>\n",
       "      <td>-9.499073</td>\n",
       "      <td>&lt;NA&gt;</td>\n",
       "      <td>&lt;NA&gt;</td>\n",
       "      <td>13</td>\n",
       "      <td>493.109220</td>\n",
       "      <td>1128.948828</td>\n",
       "    </tr>\n",
       "    <tr>\n",
       "      <th>6</th>\n",
       "      <td>7</td>\n",
       "      <td>36.779433</td>\n",
       "      <td>0.355071</td>\n",
       "      <td>-5.339015</td>\n",
       "      <td>-12.654508</td>\n",
       "      <td>&lt;NA&gt;</td>\n",
       "      <td>13</td>\n",
       "      <td>13</td>\n",
       "      <td>183.273122</td>\n",
       "      <td>1127.703808</td>\n",
       "    </tr>\n",
       "    <tr>\n",
       "      <th>7</th>\n",
       "      <td>8</td>\n",
       "      <td>36.783078</td>\n",
       "      <td>0.538763</td>\n",
       "      <td>-5.183698</td>\n",
       "      <td>-4.837709</td>\n",
       "      <td>&lt;NA&gt;</td>\n",
       "      <td>12</td>\n",
       "      <td>12</td>\n",
       "      <td>936.688022</td>\n",
       "      <td>1100.729074</td>\n",
       "    </tr>\n",
       "    <tr>\n",
       "      <th>8</th>\n",
       "      <td>9</td>\n",
       "      <td>36.798163</td>\n",
       "      <td>0.354144</td>\n",
       "      <td>-4.541975</td>\n",
       "      <td>-12.693978</td>\n",
       "      <td>&lt;NA&gt;</td>\n",
       "      <td>&lt;NA&gt;</td>\n",
       "      <td>12</td>\n",
       "      <td>176.840937</td>\n",
       "      <td>1051.713541</td>\n",
       "    </tr>\n",
       "    <tr>\n",
       "      <th>9</th>\n",
       "      <td>10</td>\n",
       "      <td>36.810875</td>\n",
       "      <td>0.552607</td>\n",
       "      <td>-4.000899</td>\n",
       "      <td>-4.248598</td>\n",
       "      <td>&lt;NA&gt;</td>\n",
       "      <td>&lt;NA&gt;</td>\n",
       "      <td>13</td>\n",
       "      <td>988.494557</td>\n",
       "      <td>989.198912</td>\n",
       "    </tr>\n",
       "    <tr>\n",
       "      <th>10</th>\n",
       "      <td>11</td>\n",
       "      <td>36.831185</td>\n",
       "      <td>0.455820</td>\n",
       "      <td>-3.136746</td>\n",
       "      <td>-8.367240</td>\n",
       "      <td>&lt;NA&gt;</td>\n",
       "      <td>&lt;NA&gt;</td>\n",
       "      <td>14</td>\n",
       "      <td>596.310082</td>\n",
       "      <td>915.298543</td>\n",
       "    </tr>\n",
       "    <tr>\n",
       "      <th>11</th>\n",
       "      <td>12</td>\n",
       "      <td>36.862129</td>\n",
       "      <td>0.541231</td>\n",
       "      <td>-1.819982</td>\n",
       "      <td>-4.732741</td>\n",
       "      <td>&lt;NA&gt;</td>\n",
       "      <td>12</td>\n",
       "      <td>12</td>\n",
       "      <td>938.987609</td>\n",
       "      <td>785.842794</td>\n",
       "    </tr>\n",
       "    <tr>\n",
       "      <th>12</th>\n",
       "      <td>13</td>\n",
       "      <td>36.863620</td>\n",
       "      <td>0.446798</td>\n",
       "      <td>-1.756554</td>\n",
       "      <td>-8.751201</td>\n",
       "      <td>&lt;NA&gt;</td>\n",
       "      <td>&lt;NA&gt;</td>\n",
       "      <td>14</td>\n",
       "      <td>556.916399</td>\n",
       "      <td>784.338373</td>\n",
       "    </tr>\n",
       "    <tr>\n",
       "      <th>13</th>\n",
       "      <td>14</td>\n",
       "      <td>36.867454</td>\n",
       "      <td>0.492628</td>\n",
       "      <td>-1.593376</td>\n",
       "      <td>-6.800959</td>\n",
       "      <td>&lt;NA&gt;</td>\n",
       "      <td>13</td>\n",
       "      <td>12</td>\n",
       "      <td>743.471575</td>\n",
       "      <td>767.263365</td>\n",
       "    </tr>\n",
       "    <tr>\n",
       "      <th>14</th>\n",
       "      <td>15</td>\n",
       "      <td>36.870173</td>\n",
       "      <td>0.682725</td>\n",
       "      <td>-1.477638</td>\n",
       "      <td>1.288322</td>\n",
       "      <td>&lt;NA&gt;</td>\n",
       "      <td>14</td>\n",
       "      <td>&lt;NA&gt;</td>\n",
       "      <td>1491.224777</td>\n",
       "      <td>739.345050</td>\n",
       "    </tr>\n",
       "    <tr>\n",
       "      <th>15</th>\n",
       "      <td>16</td>\n",
       "      <td>36.870892</td>\n",
       "      <td>0.682735</td>\n",
       "      <td>-1.447034</td>\n",
       "      <td>1.288737</td>\n",
       "      <td>&lt;NA&gt;</td>\n",
       "      <td>&lt;NA&gt;</td>\n",
       "      <td>13</td>\n",
       "      <td>1491.227715</td>\n",
       "      <td>736.507670</td>\n",
       "    </tr>\n",
       "    <tr>\n",
       "      <th>16</th>\n",
       "      <td>17</td>\n",
       "      <td>36.876634</td>\n",
       "      <td>0.273357</td>\n",
       "      <td>-1.202803</td>\n",
       "      <td>-16.131868</td>\n",
       "      <td>&lt;NA&gt;</td>\n",
       "      <td>&lt;NA&gt;</td>\n",
       "      <td>14</td>\n",
       "      <td>-176.409637</td>\n",
       "      <td>724.892406</td>\n",
       "    </tr>\n",
       "    <tr>\n",
       "      <th>17</th>\n",
       "      <td>18</td>\n",
       "      <td>36.877561</td>\n",
       "      <td>0.533110</td>\n",
       "      <td>-1.163312</td>\n",
       "      <td>-5.078307</td>\n",
       "      <td>&lt;NA&gt;</td>\n",
       "      <td>12</td>\n",
       "      <td>11</td>\n",
       "      <td>905.762905</td>\n",
       "      <td>724.386525</td>\n",
       "    </tr>\n",
       "    <tr>\n",
       "      <th>18</th>\n",
       "      <td>19</td>\n",
       "      <td>36.885853</td>\n",
       "      <td>0.568280</td>\n",
       "      <td>-0.810489</td>\n",
       "      <td>-3.581693</td>\n",
       "      <td>&lt;NA&gt;</td>\n",
       "      <td>&lt;NA&gt;</td>\n",
       "      <td>14</td>\n",
       "      <td>1045.257263</td>\n",
       "      <td>688.726314</td>\n",
       "    </tr>\n",
       "    <tr>\n",
       "      <th>19</th>\n",
       "      <td>20</td>\n",
       "      <td>36.898043</td>\n",
       "      <td>0.569608</td>\n",
       "      <td>-0.291757</td>\n",
       "      <td>-3.525206</td>\n",
       "      <td>&lt;NA&gt;</td>\n",
       "      <td>&lt;NA&gt;</td>\n",
       "      <td>14</td>\n",
       "      <td>1050.124212</td>\n",
       "      <td>639.667349</td>\n",
       "    </tr>\n",
       "    <tr>\n",
       "      <th>20</th>\n",
       "      <td>21</td>\n",
       "      <td>36.917013</td>\n",
       "      <td>0.321208</td>\n",
       "      <td>0.515466</td>\n",
       "      <td>-14.095557</td>\n",
       "      <td>&lt;NA&gt;</td>\n",
       "      <td>14</td>\n",
       "      <td>&lt;NA&gt;</td>\n",
       "      <td>29.128602</td>\n",
       "      <td>560.530179</td>\n",
       "    </tr>\n",
       "    <tr>\n",
       "      <th>21</th>\n",
       "      <td>22</td>\n",
       "      <td>36.929505</td>\n",
       "      <td>0.551760</td>\n",
       "      <td>1.046962</td>\n",
       "      <td>-4.284683</td>\n",
       "      <td>&lt;NA&gt;</td>\n",
       "      <td>&lt;NA&gt;</td>\n",
       "      <td>14</td>\n",
       "      <td>979.022554</td>\n",
       "      <td>513.610756</td>\n",
       "    </tr>\n",
       "    <tr>\n",
       "      <th>22</th>\n",
       "      <td>23</td>\n",
       "      <td>36.941588</td>\n",
       "      <td>0.617250</td>\n",
       "      <td>1.561113</td>\n",
       "      <td>-1.497881</td>\n",
       "      <td>&lt;NA&gt;</td>\n",
       "      <td>&lt;NA&gt;</td>\n",
       "      <td>9</td>\n",
       "      <td>1236.932109</td>\n",
       "      <td>461.207021</td>\n",
       "    </tr>\n",
       "    <tr>\n",
       "      <th>23</th>\n",
       "      <td>24</td>\n",
       "      <td>36.968192</td>\n",
       "      <td>0.703468</td>\n",
       "      <td>2.693070</td>\n",
       "      <td>2.171007</td>\n",
       "      <td>&lt;NA&gt;</td>\n",
       "      <td>&lt;NA&gt;</td>\n",
       "      <td>14</td>\n",
       "      <td>1569.769121</td>\n",
       "      <td>347.432760</td>\n",
       "    </tr>\n",
       "    <tr>\n",
       "      <th>24</th>\n",
       "      <td>25</td>\n",
       "      <td>36.975440</td>\n",
       "      <td>0.590984</td>\n",
       "      <td>3.001533</td>\n",
       "      <td>-2.615538</td>\n",
       "      <td>&lt;NA&gt;</td>\n",
       "      <td>12</td>\n",
       "      <td>11</td>\n",
       "      <td>1135.155980</td>\n",
       "      <td>325.547404</td>\n",
       "    </tr>\n",
       "    <tr>\n",
       "      <th>25</th>\n",
       "      <td>26</td>\n",
       "      <td>36.975627</td>\n",
       "      <td>0.590976</td>\n",
       "      <td>3.009518</td>\n",
       "      <td>-2.615895</td>\n",
       "      <td>11</td>\n",
       "      <td>&lt;NA&gt;</td>\n",
       "      <td>&lt;NA&gt;</td>\n",
       "      <td>1135.133273</td>\n",
       "      <td>324.787105</td>\n",
       "    </tr>\n",
       "    <tr>\n",
       "      <th>26</th>\n",
       "      <td>27</td>\n",
       "      <td>36.986064</td>\n",
       "      <td>0.312705</td>\n",
       "      <td>3.453794</td>\n",
       "      <td>-14.457399</td>\n",
       "      <td>&lt;NA&gt;</td>\n",
       "      <td>13</td>\n",
       "      <td>12</td>\n",
       "      <td>-4.656256</td>\n",
       "      <td>268.966891</td>\n",
       "    </tr>\n",
       "    <tr>\n",
       "      <th>27</th>\n",
       "      <td>28</td>\n",
       "      <td>36.987022</td>\n",
       "      <td>0.581874</td>\n",
       "      <td>3.494370</td>\n",
       "      <td>-3.003207</td>\n",
       "      <td>&lt;NA&gt;</td>\n",
       "      <td>12</td>\n",
       "      <td>12</td>\n",
       "      <td>1099.933648</td>\n",
       "      <td>278.650125</td>\n",
       "    </tr>\n",
       "    <tr>\n",
       "      <th>28</th>\n",
       "      <td>29</td>\n",
       "      <td>36.987137</td>\n",
       "      <td>0.402799</td>\n",
       "      <td>3.499382</td>\n",
       "      <td>-10.623502</td>\n",
       "      <td>10</td>\n",
       "      <td>&lt;NA&gt;</td>\n",
       "      <td>&lt;NA&gt;</td>\n",
       "      <td>375.606440</td>\n",
       "      <td>274.037723</td>\n",
       "    </tr>\n",
       "    <tr>\n",
       "      <th>29</th>\n",
       "      <td>30</td>\n",
       "      <td>36.992645</td>\n",
       "      <td>0.450123</td>\n",
       "      <td>3.733748</td>\n",
       "      <td>-8.609653</td>\n",
       "      <td>&lt;NA&gt;</td>\n",
       "      <td>&lt;NA&gt;</td>\n",
       "      <td>13</td>\n",
       "      <td>571.284842</td>\n",
       "      <td>254.055783</td>\n",
       "    </tr>\n",
       "    <tr>\n",
       "      <th>30</th>\n",
       "      <td>31</td>\n",
       "      <td>37.003407</td>\n",
       "      <td>0.665587</td>\n",
       "      <td>4.191489</td>\n",
       "      <td>0.559076</td>\n",
       "      <td>&lt;NA&gt;</td>\n",
       "      <td>&lt;NA&gt;</td>\n",
       "      <td>13</td>\n",
       "      <td>1426.703803</td>\n",
       "      <td>208.485649</td>\n",
       "    </tr>\n",
       "    <tr>\n",
       "      <th>31</th>\n",
       "      <td>32</td>\n",
       "      <td>37.003510</td>\n",
       "      <td>0.333902</td>\n",
       "      <td>4.196151</td>\n",
       "      <td>-13.555351</td>\n",
       "      <td>&lt;NA&gt;</td>\n",
       "      <td>&lt;NA&gt;</td>\n",
       "      <td>14</td>\n",
       "      <td>87.291261</td>\n",
       "      <td>197.899103</td>\n",
       "    </tr>\n",
       "    <tr>\n",
       "      <th>32</th>\n",
       "      <td>33</td>\n",
       "      <td>37.023354</td>\n",
       "      <td>0.378251</td>\n",
       "      <td>5.040541</td>\n",
       "      <td>-11.668087</td>\n",
       "      <td>&lt;NA&gt;</td>\n",
       "      <td>14</td>\n",
       "      <td>14</td>\n",
       "      <td>276.442186</td>\n",
       "      <td>119.430456</td>\n",
       "    </tr>\n",
       "    <tr>\n",
       "      <th>33</th>\n",
       "      <td>34</td>\n",
       "      <td>37.023638</td>\n",
       "      <td>0.390844</td>\n",
       "      <td>5.052622</td>\n",
       "      <td>-11.132199</td>\n",
       "      <td>9</td>\n",
       "      <td>&lt;NA&gt;</td>\n",
       "      <td>&lt;NA&gt;</td>\n",
       "      <td>329.098236</td>\n",
       "      <td>119.627774</td>\n",
       "    </tr>\n",
       "    <tr>\n",
       "      <th>34</th>\n",
       "      <td>35</td>\n",
       "      <td>37.026661</td>\n",
       "      <td>0.333090</td>\n",
       "      <td>5.181340</td>\n",
       "      <td>-13.589910</td>\n",
       "      <td>&lt;NA&gt;</td>\n",
       "      <td>&lt;NA&gt;</td>\n",
       "      <td>14</td>\n",
       "      <td>86.326863</td>\n",
       "      <td>99.446871</td>\n",
       "    </tr>\n",
       "    <tr>\n",
       "      <th>35</th>\n",
       "      <td>36</td>\n",
       "      <td>37.039330</td>\n",
       "      <td>0.674384</td>\n",
       "      <td>5.720056</td>\n",
       "      <td>0.933454</td>\n",
       "      <td>&lt;NA&gt;</td>\n",
       "      <td>&lt;NA&gt;</td>\n",
       "      <td>13</td>\n",
       "      <td>1463.590349</td>\n",
       "      <td>62.177013</td>\n",
       "    </tr>\n",
       "    <tr>\n",
       "      <th>36</th>\n",
       "      <td>37</td>\n",
       "      <td>37.040987</td>\n",
       "      <td>0.493720</td>\n",
       "      <td>5.790743</td>\n",
       "      <td>-6.754409</td>\n",
       "      <td>&lt;NA&gt;</td>\n",
       "      <td>&lt;NA&gt;</td>\n",
       "      <td>14</td>\n",
       "      <td>753.163476</td>\n",
       "      <td>54.976789</td>\n",
       "    </tr>\n",
       "    <tr>\n",
       "      <th>37</th>\n",
       "      <td>38</td>\n",
       "      <td>37.049781</td>\n",
       "      <td>0.317274</td>\n",
       "      <td>6.165194</td>\n",
       "      <td>-14.262917</td>\n",
       "      <td>&lt;NA&gt;</td>\n",
       "      <td>13</td>\n",
       "      <td>13</td>\n",
       "      <td>22.087757</td>\n",
       "      <td>-1.871141</td>\n",
       "    </tr>\n",
       "    <tr>\n",
       "      <th>38</th>\n",
       "      <td>39</td>\n",
       "      <td>37.051475</td>\n",
       "      <td>0.679447</td>\n",
       "      <td>6.236789</td>\n",
       "      <td>1.148905</td>\n",
       "      <td>&lt;NA&gt;</td>\n",
       "      <td>12</td>\n",
       "      <td>&lt;NA&gt;</td>\n",
       "      <td>1484.308628</td>\n",
       "      <td>12.479853</td>\n",
       "    </tr>\n",
       "    <tr>\n",
       "      <th>39</th>\n",
       "      <td>40</td>\n",
       "      <td>37.051475</td>\n",
       "      <td>0.679447</td>\n",
       "      <td>6.236789</td>\n",
       "      <td>1.148905</td>\n",
       "      <td>&lt;NA&gt;</td>\n",
       "      <td>&lt;NA&gt;</td>\n",
       "      <td>11</td>\n",
       "      <td>1484.308628</td>\n",
       "      <td>12.479853</td>\n",
       "    </tr>\n",
       "    <tr>\n",
       "      <th>40</th>\n",
       "      <td>41</td>\n",
       "      <td>37.063940</td>\n",
       "      <td>0.644068</td>\n",
       "      <td>6.767241</td>\n",
       "      <td>-0.356570</td>\n",
       "      <td>&lt;NA&gt;</td>\n",
       "      <td>&lt;NA&gt;</td>\n",
       "      <td>13</td>\n",
       "      <td>1349.739358</td>\n",
       "      <td>-37.494698</td>\n",
       "    </tr>\n",
       "    <tr>\n",
       "      <th>41</th>\n",
       "      <td>42</td>\n",
       "      <td>37.072412</td>\n",
       "      <td>0.379796</td>\n",
       "      <td>7.128112</td>\n",
       "      <td>-11.602323</td>\n",
       "      <td>&lt;NA&gt;</td>\n",
       "      <td>13</td>\n",
       "      <td>12</td>\n",
       "      <td>289.707472</td>\n",
       "      <td>-88.577078</td>\n",
       "    </tr>\n",
       "  </tbody>\n",
       "</table>\n",
       "</div>"
      ],
      "text/plain": [
       "    Internal count         RA       DEC         X          Y  GAIA gband  \\\n",
       "0                1  36.737339  0.339020 -7.130249 -13.337500        <NA>   \n",
       "1                2  36.747639  0.670835 -6.691532   0.782461        <NA>   \n",
       "2                3  36.754892  0.533429 -6.383080  -5.064658        <NA>   \n",
       "3                4  36.759354  0.693686 -6.193004   1.754827        <NA>   \n",
       "4                5  36.769798  0.659670 -5.748668   0.307307        <NA>   \n",
       "5                6  36.778383  0.429222 -5.383609  -9.499073        <NA>   \n",
       "6                7  36.779433  0.355071 -5.339015 -12.654508        <NA>   \n",
       "7                8  36.783078  0.538763 -5.183698  -4.837709        <NA>   \n",
       "8                9  36.798163  0.354144 -4.541975 -12.693978        <NA>   \n",
       "9               10  36.810875  0.552607 -4.000899  -4.248598        <NA>   \n",
       "10              11  36.831185  0.455820 -3.136746  -8.367240        <NA>   \n",
       "11              12  36.862129  0.541231 -1.819982  -4.732741        <NA>   \n",
       "12              13  36.863620  0.446798 -1.756554  -8.751201        <NA>   \n",
       "13              14  36.867454  0.492628 -1.593376  -6.800959        <NA>   \n",
       "14              15  36.870173  0.682725 -1.477638   1.288322        <NA>   \n",
       "15              16  36.870892  0.682735 -1.447034   1.288737        <NA>   \n",
       "16              17  36.876634  0.273357 -1.202803 -16.131868        <NA>   \n",
       "17              18  36.877561  0.533110 -1.163312  -5.078307        <NA>   \n",
       "18              19  36.885853  0.568280 -0.810489  -3.581693        <NA>   \n",
       "19              20  36.898043  0.569608 -0.291757  -3.525206        <NA>   \n",
       "20              21  36.917013  0.321208  0.515466 -14.095557        <NA>   \n",
       "21              22  36.929505  0.551760  1.046962  -4.284683        <NA>   \n",
       "22              23  36.941588  0.617250  1.561113  -1.497881        <NA>   \n",
       "23              24  36.968192  0.703468  2.693070   2.171007        <NA>   \n",
       "24              25  36.975440  0.590984  3.001533  -2.615538        <NA>   \n",
       "25              26  36.975627  0.590976  3.009518  -2.615895          11   \n",
       "26              27  36.986064  0.312705  3.453794 -14.457399        <NA>   \n",
       "27              28  36.987022  0.581874  3.494370  -3.003207        <NA>   \n",
       "28              29  36.987137  0.402799  3.499382 -10.623502          10   \n",
       "29              30  36.992645  0.450123  3.733748  -8.609653        <NA>   \n",
       "30              31  37.003407  0.665587  4.191489   0.559076        <NA>   \n",
       "31              32  37.003510  0.333902  4.196151 -13.555351        <NA>   \n",
       "32              33  37.023354  0.378251  5.040541 -11.668087        <NA>   \n",
       "33              34  37.023638  0.390844  5.052622 -11.132199           9   \n",
       "34              35  37.026661  0.333090  5.181340 -13.589910        <NA>   \n",
       "35              36  37.039330  0.674384  5.720056   0.933454        <NA>   \n",
       "36              37  37.040987  0.493720  5.790743  -6.754409        <NA>   \n",
       "37              38  37.049781  0.317274  6.165194 -14.262917        <NA>   \n",
       "38              39  37.051475  0.679447  6.236789   1.148905        <NA>   \n",
       "39              40  37.051475  0.679447  6.236789   1.148905        <NA>   \n",
       "40              41  37.063940  0.644068  6.767241  -0.356570        <NA>   \n",
       "41              42  37.072412  0.379796  7.128112 -11.602323        <NA>   \n",
       "\n",
       "    SDSS gband  SDSS rband      Xguider      Yguider  \n",
       "0         <NA>          13   122.151387  1298.132040  \n",
       "1           12          12  1458.077564  1219.460838  \n",
       "2           13          12   919.452076  1212.485004  \n",
       "3           14          13  1543.722042  1169.992241  \n",
       "4           13          13  1412.002699  1135.629710  \n",
       "5         <NA>          13   493.109220  1128.948828  \n",
       "6           13          13   183.273122  1127.703808  \n",
       "7           12          12   936.688022  1100.729074  \n",
       "8         <NA>          12   176.840937  1051.713541  \n",
       "9         <NA>          13   988.494557   989.198912  \n",
       "10        <NA>          14   596.310082   915.298543  \n",
       "11          12          12   938.987609   785.842794  \n",
       "12        <NA>          14   556.916399   784.338373  \n",
       "13          13          12   743.471575   767.263365  \n",
       "14          14        <NA>  1491.224777   739.345050  \n",
       "15        <NA>          13  1491.227715   736.507670  \n",
       "16        <NA>          14  -176.409637   724.892406  \n",
       "17          12          11   905.762905   724.386525  \n",
       "18        <NA>          14  1045.257263   688.726314  \n",
       "19        <NA>          14  1050.124212   639.667349  \n",
       "20          14        <NA>    29.128602   560.530179  \n",
       "21        <NA>          14   979.022554   513.610756  \n",
       "22        <NA>           9  1236.932109   461.207021  \n",
       "23        <NA>          14  1569.769121   347.432760  \n",
       "24          12          11  1135.155980   325.547404  \n",
       "25        <NA>        <NA>  1135.133273   324.787105  \n",
       "26          13          12    -4.656256   268.966891  \n",
       "27          12          12  1099.933648   278.650125  \n",
       "28        <NA>        <NA>   375.606440   274.037723  \n",
       "29        <NA>          13   571.284842   254.055783  \n",
       "30        <NA>          13  1426.703803   208.485649  \n",
       "31        <NA>          14    87.291261   197.899103  \n",
       "32          14          14   276.442186   119.430456  \n",
       "33        <NA>        <NA>   329.098236   119.627774  \n",
       "34        <NA>          14    86.326863    99.446871  \n",
       "35        <NA>          13  1463.590349    62.177013  \n",
       "36        <NA>          14   753.163476    54.976789  \n",
       "37          13          13    22.087757    -1.871141  \n",
       "38          12        <NA>  1484.308628    12.479853  \n",
       "39        <NA>          11  1484.308628    12.479853  \n",
       "40        <NA>          13  1349.739358   -37.494698  \n",
       "41          13          12   289.707472   -88.577078  "
      ]
     },
     "execution_count": 69,
     "metadata": {},
     "output_type": "execute_result"
    }
   ],
   "source": [
    "F1_stars"
   ]
  },
  {
   "cell_type": "code",
   "execution_count": 47,
   "metadata": {},
   "outputs": [
    {
     "data": {
      "text/plain": [
       "<SkyCoord (SkyOffsetICRS: rotation=0.0 deg, origin=<ICRS Coordinate: (ra, dec) in deg\n",
       "    (250.39242605, 36.41307253)>): (lon, lat) in deg\n",
       "    [(0.18182478, 0.00998363)]>"
      ]
     },
     "execution_count": 47,
     "metadata": {},
     "output_type": "execute_result"
    }
   ],
   "source": [
    "G2UVcor.FOV_center_guider_coord"
   ]
  },
  {
   "cell_type": "code",
   "execution_count": 30,
   "metadata": {},
   "outputs": [
    {
     "name": "stdout",
     "output_type": "stream",
     "text": [
      "\n",
      "targets local coords in siderostat local frame:\n",
      "EL: 11189.5 arcsec ; CE: 8462.3 arcsec\n",
      "EL: 11168.2 arcsec ; CE: 8526.8 arcsec\n",
      "EL: 11422.7 arcsec ; CE: 8268.6 arcsec\n",
      "EL: 11350.3 arcsec ; CE: 8250.7 arcsec\n",
      "\n",
      "siderostat moves sequence: \n"
     ]
    },
    {
     "data": {
      "text/html": [
       "<div>\n",
       "<style scoped>\n",
       "    .dataframe tbody tr th:only-of-type {\n",
       "        vertical-align: middle;\n",
       "    }\n",
       "\n",
       "    .dataframe tbody tr th {\n",
       "        vertical-align: top;\n",
       "    }\n",
       "\n",
       "    .dataframe thead th {\n",
       "        text-align: right;\n",
       "    }\n",
       "</style>\n",
       "<table border=\"1\" class=\"dataframe\">\n",
       "  <thead>\n",
       "    <tr style=\"text-align: right;\">\n",
       "      <th></th>\n",
       "      <th>EL</th>\n",
       "      <th>CE</th>\n",
       "      <th>Image</th>\n",
       "    </tr>\n",
       "  </thead>\n",
       "  <tbody>\n",
       "    <tr>\n",
       "      <th>0</th>\n",
       "      <td>11189.542520</td>\n",
       "      <td>8462.257219</td>\n",
       "      <td>1.0</td>\n",
       "    </tr>\n",
       "    <tr>\n",
       "      <th>1</th>\n",
       "      <td>-21.387270</td>\n",
       "      <td>64.499088</td>\n",
       "      <td>1.0</td>\n",
       "    </tr>\n",
       "    <tr>\n",
       "      <th>2</th>\n",
       "      <td>254.589031</td>\n",
       "      <td>-258.183802</td>\n",
       "      <td>1.0</td>\n",
       "    </tr>\n",
       "    <tr>\n",
       "      <th>3</th>\n",
       "      <td>-72.466416</td>\n",
       "      <td>-17.830610</td>\n",
       "      <td>1.0</td>\n",
       "    </tr>\n",
       "  </tbody>\n",
       "</table>\n",
       "</div>"
      ],
      "text/plain": [
       "             EL           CE  Image\n",
       "0  11189.542520  8462.257219    1.0\n",
       "1    -21.387270    64.499088    1.0\n",
       "2    254.589031  -258.183802    1.0\n",
       "3    -72.466416   -17.830610    1.0"
      ]
     },
     "execution_count": 30,
     "metadata": {},
     "output_type": "execute_result"
    }
   ],
   "source": [
    "G2UVcor.FieldP.center = 36.9049, 0.65245\n",
    "star_target_path = \"Calibration/Targets/2022/GuidingStars/F4_guidingstars.fits\"\n",
    "\n",
    "F1_stars = Table.read(star_target_path, format='fits').to_pandas()\n",
    "\n",
    "stars = [29, 34, 18, 14]# [8, 25, 31]\n",
    "selected_stars = Table.from_pandas((reduce(pd.DataFrame.append, map(lambda i: F1_stars[F1_stars['Internal count'] == i],stars))))\n",
    "# G2UVcor.FOV_center_guider_coord = 0.18182478, 0.00998363\n",
    "star_moves, flags, stars_coord = G2UVcor.compute_autocoll_move_stars(stars, F1_stars, hystcomp = False, CEg = CEg, Elg = Elg)\n",
    "star_moves = pd.DataFrame(np.hstack((star_moves,flags[:,None])), columns=[\"EL\",\"CE\",\"Image\"])\n",
    "star_moves\n",
    "# stars_path = vstack((selected_stars,selected_stars[::-1]) )\n",
    "# selected_stars['lon'] = [s.lon.deg*3600 for s in stars_coord]\n",
    "# selected_stars['lat'] =  [s.lat.deg*3600 for s in stars_coord]\n",
    "# print(\"(They have been copied to clipboard, paste it in the spreadsheet)\")\n",
    "# star_moves.to_clipboard()\n",
    "# star_moves\n",
    "\n"
   ]
  },
  {
   "cell_type": "markdown",
   "metadata": {},
   "source": [
    "The moves has been copied. Add it to the [moves tab of this spreadsheet](https://docs.google.com/spreadsheets/d/19jO0fZ0FL0zZKt8IgJ_DMlZrbCD0VXpYVeulKzXtHzY/edit#gid=0)"
   ]
  },
  {
   "cell_type": "code",
   "execution_count": 20,
   "metadata": {},
   "outputs": [
    {
     "data": {
      "text/html": [
       "<div><i>Table length=4</i>\n",
       "<table id=\"table140407320646272\" class=\"table-striped table-bordered table-condensed\">\n",
       "<thead><tr><th>Internal count</th><th>RA</th><th>DEC</th><th>X</th><th>Y</th><th>GAIA gband</th><th>SDSS gband</th><th>SDSS rband</th><th>Xguider</th><th>Yguider</th></tr></thead>\n",
       "<thead><tr><th>int64</th><th>float64</th><th>float64</th><th>float64</th><th>float64</th><th>int64</th><th>int64</th><th>int64</th><th>float64</th><th>float64</th></tr></thead>\n",
       "<tr><td>8</td><td>32.1014</td><td>-5.786504</td><td>-3.751016</td><td>-4.191964</td><td>11</td><td>11</td><td>11</td><td>954.7166340246686</td><td>952.1343510310977</td></tr>\n",
       "<tr><td>25</td><td>32.221491</td><td>-5.776507</td><td>1.333233</td><td>-3.766303</td><td>9</td><td>--</td><td>--</td><td>990.2173692400569</td><td>476.91827039575276</td></tr>\n",
       "<tr><td>31</td><td>32.254526</td><td>-5.815258</td><td>2.731668</td><td>-5.415391</td><td>--</td><td>12</td><td>12</td><td>836.6074480025399</td><td>344.4301880821129</td></tr>\n",
       "<tr><td>-99</td><td>-99.0</td><td>-99.0</td><td>640.0</td><td>540.0</td><td>-99</td><td>-99</td><td>-99</td><td>-99.0</td><td>-99.0</td></tr>\n",
       "</table></div>"
      ],
      "text/plain": [
       "<Table length=4>\n",
       "Internal count     RA       DEC    ...      Xguider           Yguider      \n",
       "    int64       float64   float64  ...      float64           float64      \n",
       "-------------- --------- --------- ... ----------------- ------------------\n",
       "             8   32.1014 -5.786504 ... 954.7166340246686  952.1343510310977\n",
       "            25 32.221491 -5.776507 ... 990.2173692400569 476.91827039575276\n",
       "            31 32.254526 -5.815258 ... 836.6074480025399  344.4301880821129\n",
       "           -99     -99.0     -99.0 ...             -99.0              -99.0"
      ]
     },
     "execution_count": 20,
     "metadata": {},
     "output_type": "execute_result"
    }
   ],
   "source": [
    "selection = selected_stars['Internal count',\n",
    " 'RA',\n",
    " 'DEC',\n",
    " 'X',\n",
    " 'Y',\n",
    " 'GAIA gband',\n",
    " 'SDSS gband',\n",
    " 'SDSS rband',\n",
    " 'Xguider',\n",
    " 'Yguider']\n",
    "# selection=vstack((selection,selection[::-1]))\n",
    "selection.add_row([\"-99\",-99,-99,640,540,-99,-99,-99,-99,-99])\n",
    "selection.to_pandas().to_clipboard()\n",
    "selection"
   ]
  },
  {
   "cell_type": "markdown",
   "metadata": {},
   "source": [
    "The stars table has been copied. Add it to the [stars tab of this spreadsheet](https://docs.google.com/spreadsheets/d/19jO0fZ0FL0zZKt8IgJ_DMlZrbCD0VXpYVeulKzXtHzY/edit#gid=0)"
   ]
  },
  {
   "cell_type": "markdown",
   "metadata": {},
   "source": [
    "\n",
    "## 18 - Through focus guide star 1\n",
    "## 19 - Track mask to guider changes\n",
    "------------------------------------------------------"
   ]
  },
  {
   "cell_type": "code",
   "execution_count": null,
   "metadata": {},
   "outputs": [],
   "source": []
  },
  {
   "cell_type": "code",
   "execution_count": 29,
   "metadata": {},
   "outputs": [
    {
     "name": "stdout",
     "output_type": "stream",
     "text": [
      "FOV center angular position in guider <SkyCoord (SkyOffsetICRS: rotation=0.0 deg, origin=<ICRS Coordinate: (ra, dec) in deg\n",
      "    (250.39242605, 36.41307253)>): (lon, lat) in deg\n",
      "    [(0.18182478, 0.00998363)]>\n",
      "FOV center pixel position in guider [array([1361.55931784]), array([571.29095342])]\n"
     ]
    },
    {
     "data": {
      "text/plain": [
       "(0.18182478, 0.00998363)"
      ]
     },
     "execution_count": 29,
     "metadata": {},
     "output_type": "execute_result"
    }
   ],
   "source": [
    "G2UVcor.FOV_center_guider_coord = Guider2UV(filename='/Volumes/ExtremePro/LAM/FIREBALL/TestsFTS2018-Flight/E2E-AIT-Flight/XYCalibration/F4_180904.pkl').FOV_center_guider_coord\n",
    "0.18182478, 0.00998363"
   ]
  },
  {
   "cell_type": "code",
   "execution_count": 26,
   "metadata": {},
   "outputs": [
    {
     "data": {
      "text/plain": [
       "(0.18182478, 0.00998363)"
      ]
     },
     "execution_count": 26,
     "metadata": {},
     "output_type": "execute_result"
    }
   ],
   "source": [
    "G2UVcor.FOV_center_guider_coord"
   ]
  },
  {
   "cell_type": "code",
   "execution_count": null,
   "metadata": {},
   "outputs": [],
   "source": []
  }
 ],
 "metadata": {
  "kernelspec": {
   "display_name": "Python 3.8.13 ('py38')",
   "language": "python",
   "name": "python3"
  },
  "language_info": {
   "codemirror_mode": {
    "name": "ipython",
    "version": 3
   },
   "file_extension": ".py",
   "mimetype": "text/x-python",
   "name": "python",
   "nbconvert_exporter": "python",
   "pygments_lexer": "ipython3",
   "version": "3.8.13"
  },
  "vscode": {
   "interpreter": {
    "hash": "6429251b47eee9d8b9b4d9852116ca976e0b69b141b5bab3b174d6f3c07282ea"
   }
  }
 },
 "nbformat": 4,
 "nbformat_minor": 2
}
