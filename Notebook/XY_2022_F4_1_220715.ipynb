{
 "cells": [
  {
   "cell_type": "markdown",
   "metadata": {},
   "source": [
    "# XY-calibration (F4)"
   ]
  },
  {
   "cell_type": "code",
   "execution_count": 1,
   "metadata": {},
   "outputs": [
    {
     "name": "stdout",
     "output_type": "stream",
     "text": [
      "/Users/Vincent/Github/FireBallPipe\n"
     ]
    }
   ],
   "source": [
    "cd .."
   ]
  },
  {
   "cell_type": "markdown",
   "metadata": {},
   "source": [
    "\n",
    "| #  | Name                               | Done                     |       Comment               |\n",
    "|----|------------------------------------|--------------------------|-----------------------------|\n",
    "| 1  | Have a mask-detector mapping       | <input type=\"checkbox\">  |  And send region file to zeren |\n",
    "| 2  | Use the previous XY mapping        | <input type=\"checkbox\">  | of the same mask, if never done do a new one   |\n",
    "| 2.a  |Add mask rotation for F2       | <input type=\"checkbox\">  |                             |\n",
    "| 3  | Reset magnification/offset/angle   | <input type=\"checkbox\">  |                             |\n",
    "| 4  | Be sure of the slits path          | <input type=\"checkbox\">  |  Use only regular slits, big moves, do not use slits that are seen with one line or in shadow   |\n",
    "| 4.a  | Decide to use or not hysteresis compensation          | <input type=\"checkbox\">  |  Adds ~1h in total + slight code complexity but might improve results by <1''  |\n",
    "| 5  | Account from Zeren offset          | <input type=\"checkbox\">  |                             |\n",
    "| 6  | Add slits path in google drive     | <input type=\"checkbox\">  |                             |\n",
    "| 7  | Add CNES moves to google drive     | <input type=\"checkbox\">  |                             |\n"
   ]
  },
  {
   "cell_type": "code",
   "execution_count": 59,
   "metadata": {
    "collapsed": true
   },
   "outputs": [
    {
     "name": "stdout",
     "output_type": "stream",
     "text": [
      "The autoreload extension is already loaded. To reload it, use:\n",
      "  %reload_ext autoreload\n",
      "After calibration of the encoders, El is 0.09283 ''/inc and Ce is 0.01019 ''/inc\n"
     ]
    }
   ],
   "source": [
    "# %matplotlib widget\n",
    "%load_ext autoreload\n",
    "%autoreload 2\n",
    "\n",
    "import sys\n",
    "import numpy as np\n",
    "from astropy.io import fits\n",
    "from astropy import wcs, coordinates\n",
    "from astropy import units as u\n",
    "from astropy.wcs.utils import proj_plane_pixel_scales\n",
    "from matplotlib import pyplot as plt\n",
    "from astropy.table import Table, vstack \n",
    "import matplotlib.patches as patches\n",
    "import unittest\n",
    "from mpl_interactions import heatmap_slicer\n",
    "import pandas as pd\n",
    "import datetime \n",
    "# os.chdir(os.path.dirname(os.path.realpath(__file__)))\n",
    "sys.path.insert(1, './Calibration')\n",
    "from guider2UV.guider2UV import Guider2UV, diff_skycoord, fit_model, plot_fit\n",
    "from guider2UV.MaskAstrometry import LocalScienceMaskProjector\n",
    "from Calibration.mapping import Mapping\n",
    "\n",
    "# encoder gains 2022:\n",
    "CEg = 1.0187 # CEg = 1.02928 # 2018\n",
    "Elg = 1.0090 # Elg = 1.00379 # 2018\n",
    "print(\"After calibration of the encoders, El is %0.5f ''/inc and Ce is %0.5f ''/inc\" %(Elg*0.092,CEg*0.01))\n"
   ]
  },
  {
   "cell_type": "markdown",
   "metadata": {},
   "source": [
    "## initialization from last xy calib\n",
    "---------------------------------\n",
    "This was actually a mistake, it should slways be done from the same mask (same field center), or create a new G2UV object"
   ]
  },
  {
   "cell_type": "code",
   "execution_count": 61,
   "metadata": {},
   "outputs": [],
   "source": [
    "# prerequisites:\n",
    "Field = \"F4\"\n",
    "previous_xy_mapping = \"Calibration/Mappings/2022/XY/F1_prep1_XY_220710.pkl\"\n",
    "mask_det_map_file = \"Calibration/Mappings/2022/mask_to_det_mapping/mapping-mask-det-w-2022-5-F4_-20.pkl\"\n",
    "target_filename = 'Calibration/Targets/2022/targets_%s.csv'%(Field)\n",
    "Hysteresis_compensation = False\n",
    "if input(\"Are you sure that you want to use Hysteresis_compensation = %s? (y/n)\"%(Hysteresis_compensation))!=\"y\":\n",
    "    raise ValueError(\"Please be verify the value of Hysteresis_compensation\")\n"
   ]
  },
  {
   "cell_type": "code",
   "execution_count": 76,
   "metadata": {
    "scrolled": false
   },
   "outputs": [
    {
     "name": "stdout",
     "output_type": "stream",
     "text": [
      "FOV center angular position in guider <SkyCoord (SkyOffsetICRS: rotation=0.0 deg, origin=<ICRS Coordinate: (ra, dec) in deg\n",
      "    (250.39272815, 36.41856381)>): (lon, lat) in deg\n",
      "    (0.18640794, -0.08284778)>\n",
      "FOV center pixel position in guider [array(1378.69397987), array(218.86229257)]\n",
      "\n",
      "Guider2UV object:\n",
      "    Local Field Projector: \n",
      "ScienceMaskProjector object:\n",
      "    LocalFrame: <SkyOffsetICRS Frame (rotation=-90.0 deg, origin=<ICRS Coordinate: (ra, dec) in deg\n",
      "    (32.19, -5.688)>)>\n",
      "    gamma: 1.0\n",
      "\n",
      "    Guider Field Projector: \n",
      "GuiderMaskProjector object:\n",
      "    LocalFrame: <SkyOffsetICRS Frame (rotation=0.0 deg, origin=<ICRS Coordinate: (ra, dec) in deg\n",
      "    (250.39272815, 36.41856381)>)>\n",
      "    wcs: WCS Keywords\n",
      "\n",
      "Number of WCS axes: 2\n",
      "CTYPE : 'RA---TAN-SIP'  'DEC--TAN-SIP'  \n",
      "CRVAL : 250.392728151  36.4185638082  \n",
      "CRPIX : 640.0  540.0  \n",
      "PC1_1 PC1_2  : 1.0  0.0  \n",
      "PC2_1 PC2_2  : 0.0  1.0  \n",
      "CDELT : 0.00024551548564194  0.00024661678545423  \n",
      "NAXIS : 0  0\n",
      "\n",
      "    mask_rotation: 0.0 arcmin\n",
      "    FOV center in guider: 1378.693979871492x218.8622925672349 pix\n",
      "\n"
     ]
    }
   ],
   "source": [
    "# load model from previous XY calib \n",
    "G2UV = Guider2UV(filename=previous_xy_mapping)\n",
    "\n",
    "# eventually reset the guider-scmask rotation to 0 and magnification correction to 0.\n",
    "G2UV.mask_rotation = 0.0*u.arcmin\n",
    "G2UV.FieldP.gamma = 1. \n",
    "G2UV.FieldP.radial_mag_polynomial = (42.26134, 0., 0.)\n",
    "G2UV.FieldP.radial_mag_inv_polynomial = (1./42.26134, 0., 0.)\n",
    "print(G2UV)\n",
    "\n",
    "# if you already know the approx angular distance between guidercenter and FOVcenter, set it:\n",
    "#G2UV.FOV_center_guider_coord = coordinates.SkyCoord(delta_x*u.deg, # x guider axis (x axis in guider local frame, see XYcalib figure)\n",
    "#                                                    delta_y*u.deg, # y guider axis (y axis guider local frame, see XYcalib figure)\n",
    "#                                                    frame = G2UV.GuiderP.localframe)\n",
    "\n",
    "# load targets\n",
    "F1 = Table.read(target_filename, format='ascii')\n",
    "\n",
    "# load mask-UVdetector mappings\n",
    "mask_det_map = Mapping(mask_det_map_file)\n",
    "\n",
    "if input(\"Are you sure that these values make sense for %s: Theta=%s, center=%s? (y/n)\"%(Field, G2UV.FieldP.rotation, G2UV.FieldP.center))!=\"y\":\n",
    "    raise ValueError(\"Please verify the initialization mapping\")\n",
    "\n"
   ]
  },
  {
   "cell_type": "markdown",
   "metadata": {},
   "source": [
    "## Alternative initialisation for new fields:\n",
    "---------------------------------------"
   ]
  },
  {
   "cell_type": "code",
   "execution_count": 77,
   "metadata": {
    "scrolled": false
   },
   "outputs": [],
   "source": [
    "\n",
    "# f_ra, f_dec, f_rot = 0, 0, 0\n",
    "# Field_center=coordinates.SkyCoord(f_ra * u.deg, f_dec * u.deg)\n",
    "# # get FOVcenter & guider wcs from another field\n",
    "# #  put pkl from a functionning mapping from another field\n",
    "# G2UVother = Guider2UV(filename=previous_xy_mapping)\n",
    "# FOVcenter = G2UVother.FOV_center_guider_coord\n",
    "# guider_wcs = G2UVother.GuiderP.w\n",
    "# G2UV = Guider2UV(Field_center=Field_center,\n",
    "#                  Field_rotation= f_rot * u.deg,\n",
    "#                  Field_gamma=1.0,  # platescale correction (need to update the polynomial in the MaskAstrometry.py)\n",
    "#                  FOVcenter_guider_coord=FOVcenter,\n",
    "#                  guider_wcs = guider_wcs,\n",
    "#                  )\n",
    "                 \n",
    "# FNEW = Table.read(target_filename, format='ascii')\n",
    "# mask_det_map = Mapping(mask_det_map_file)\n",
    "\n",
    "# print(G2UV)"
   ]
  },
  {
   "cell_type": "markdown",
   "metadata": {},
   "source": [
    "## 1-  Rotate mask carousel\n",
    "## 2- Diffuse UV image"
   ]
  },
  {
   "cell_type": "markdown",
   "metadata": {},
   "source": [
    "Copy the offset from [this spreadsheet step \"Compute offsets with previous diffuse illumination image\"](https://docs.google.com/spreadsheets/d/19jO0fZ0FL0zZKt8IgJ_DMlZrbCD0VXpYVeulKzXtHzY/edit#gid=0)"
   ]
  },
  {
   "cell_type": "code",
   "execution_count": 78,
   "metadata": {},
   "outputs": [],
   "source": [
    "# This offset in X and Y should be positive if the slit position in tghe new image appears to be shifted towards the top right\n",
    "diffuse_offset = np.array([2,0])\n",
    "G2UV.set_detector_mapping(mask_det_map, offsets = diffuse_offset+1) #+1 offset is to account for DS9 vs python offset\n",
    "direct_map = lambda w, x, y: mask_det_map.map(w, x, y) + diffuse_offset\n",
    "inv_map = lambda w, x, y: mask_det_map.inv_map(w, x - diffuse_offset[0], y - diffuse_offset[1])"
   ]
  },
  {
   "cell_type": "markdown",
   "metadata": {},
   "source": [
    "## 3 - Set guider at best focus          \n",
    "## 4 - Align siderostat frames           \n",
    "## 5 - Go to guider reference            \n",
    "## 6 - Set UV/guider best focus offset   \n",
    "## 7 - Rotate mask carousel              \n",
    "## 8 - Through focus in UV               \n",
    "## 9 - Note open-mask guider ref point   \n",
    "    \n",
    "\n",
    "## 10 - Go through the list of slits      \n",
    "\n",
    "['23', '36', '2', '13', '32', '11',\"4\"]\n",
    "\n",
    "Here we struggled to find the good path because of faint 202/206 lines and of shadow of fiber holder"
   ]
  },
  {
   "cell_type": "code",
   "execution_count": 80,
   "metadata": {},
   "outputs": [
    {
     "data": {
      "image/png": "[encoded data removed]",
      "text/plain": [
       "<Figure size 720x432 with 1 Axes>"
      ]
     },
     "metadata": {
      "needs_background": "light"
     },
     "output_type": "display_data"
    },
    {
     "data": {
      "text/html": [
       "<div><i>Table length=7</i>\n",
       "<table id=\"table140204259775488\" class=\"table-striped table-bordered table-condensed\">\n",
       "<thead><tr><th>Internal-count</th><th>x_mm</th><th>y_mm</th><th>RA</th><th>DEC</th><th>ra_diff</th><th>dec_diff</th><th>angular_distance</th></tr></thead>\n",
       "<thead><tr><th>str2</th><th>float64</th><th>float64</th><th>float64</th><th>float64</th><th>float64</th><th>float64</th><th>float64</th></tr></thead>\n",
       "<tr><td>23</td><td>1.149408</td><td>-0.37309</td><td>36.931808</td><td>0.643882</td><td>-506.0812419404365</td><td>74.80799999999968</td><td>511.5803556705188</td></tr>\n",
       "<tr><td>36</td><td>7.136533</td><td>-1.264856</td><td>37.072395</td><td>0.623102</td><td>1613.8349615117118</td><td>375.41520000000037</td><td>1656.9248188703518</td></tr>\n",
       "<tr><td>2</td><td>-11.936418</td><td>-5.681635</td><td>36.624081</td><td>0.51882</td><td>-562.6281328234214</td><td>-463.19400000000013</td><td>728.7654612290361</td></tr>\n",
       "<tr><td>13</td><td>-5.303522</td><td>-0.138687</td><td>36.780373</td><td>0.647485</td><td>-883.6139752233256</td><td>-30.376800000000202</td><td>884.135966460028</td></tr>\n",
       "<tr><td>32</td><td>5.155472</td><td>0.21635</td><td>37.025837</td><td>0.655923</td><td>955.8561607255427</td><td>420.24240000000003</td><td>1044.1573994157848</td></tr>\n",
       "<tr><td>11</td><td>-6.155668</td><td>-4.825373</td><td>36.760304</td><td>0.539189</td><td>313.1789319515288</td><td>-475.4807999999997</td><td>569.3531721058029</td></tr>\n",
       "<tr><td>4</td><td>-9.854999</td><td>0.771802</td><td>36.673306</td><td>0.671267</td><td>0.0</td><td>0.0</td><td>0.0</td></tr>\n",
       "</table></div>"
      ],
      "text/plain": [
       "<Table length=7>\n",
       "Internal-count    x_mm       y_mm   ...       dec_diff       angular_distance \n",
       "     str2       float64    float64  ...       float64            float64      \n",
       "-------------- ---------- --------- ... ------------------- ------------------\n",
       "            23   1.149408  -0.37309 ...   74.80799999999968  511.5803556705188\n",
       "            36   7.136533 -1.264856 ...  375.41520000000037 1656.9248188703518\n",
       "             2 -11.936418 -5.681635 ... -463.19400000000013  728.7654612290361\n",
       "            13  -5.303522 -0.138687 ... -30.376800000000202   884.135966460028\n",
       "            32   5.155472   0.21635 ...  420.24240000000003 1044.1573994157848\n",
       "            11  -6.155668 -4.825373 ...  -475.4807999999997  569.3531721058029\n",
       "             4  -9.854999  0.771802 ...                 0.0                0.0"
      ]
     },
     "execution_count": 80,
     "metadata": {},
     "output_type": "execute_result"
    }
   ],
   "source": [
    "slits =['23', '36', '2', '13', '32', '11',\"4\"]\n",
    "F1p = F1.to_pandas()\n",
    "from functools import reduce\n",
    "import warnings\n",
    "warnings.simplefilter(action='ignore', category=FutureWarning)\n",
    "\n",
    "# selected_slits = F1[mask.values]['Internal-count',\"x_mm\",\"y_mm\",\"ra\",\"dec\"]\n",
    "selected_slits = Table.from_pandas((reduce(pd.DataFrame.append, map(lambda i: F1p[F1p['Internal-count'] == i],slits))))\n",
    "ra,dec = \"RA\", \"DEC\"\n",
    "x,y = \"x_mm\",\"y_mm\"\n",
    "plt.figure(figsize=(10,6))\n",
    "plt.plot(F1[x],F1[y],\"x\")\n",
    "plt.plot(selected_slits[x],selected_slits[y],\"-o\")\n",
    "for s in selected_slits:\n",
    "    plt.text(s[x],s[y],s[\"Internal-count\"])\n",
    "plt.xlabel(\"x_mm\")\n",
    "plt.xlabel(\"y_mm\")\n",
    "plt.title(\"Do you want to use these slits: %s\"%(slits))\n",
    "plt.show()\n",
    "\n",
    "selected_slits = selected_slits['Internal-count',x,y,ra,dec]\n",
    "slit_path = selected_slits# vstack((selected_slits,selected_slits[::-1]) )\n",
    "slit_path[\"ra_diff\"] = list((slit_path[ra][:-1] - slit_path[ra][1:])*np.cos(slit_path[dec][:-1]*np.pi/180)) + [0]\n",
    "slit_path[\"dec_diff\"] = list((slit_path[dec][:-1] - slit_path[dec][1:])) + [0]\n",
    "\n",
    "slit_path[\"ra_diff\"] *= 3600\n",
    "slit_path[\"dec_diff\"] *= 3600\n",
    "slit_path[\"angular_distance\"] = np.sqrt(slit_path[\"ra_diff\"]** 2 + slit_path[\"dec_diff\"]** 2)\n",
    "try:\n",
    "    slit_path.to_pandas().to_clipboard()\n",
    "except Exception:\n",
    "    pass\n",
    "slit_path"
   ]
  },
  {
   "cell_type": "markdown",
   "metadata": {},
   "source": [
    "The slits table has been copied. Add it to the [slit tab of this spreadsheet](https://docs.google.com/spreadsheets/d/19jO0fZ0FL0zZKt8IgJ_DMlZrbCD0VXpYVeulKzXtHzY/edit#gid=0)"
   ]
  },
  {
   "cell_type": "code",
   "execution_count": 87,
   "metadata": {},
   "outputs": [
    {
     "name": "stdout",
     "output_type": "stream",
     "text": [
      "Carefull, with Hysteresis_compensation==False the last move to return to the guider is not given. You just need to do -∑all moves\n",
      "You should then add EL=367.0160 and CE=-262.9210\n",
      "slit position in mm on mask: [ 1.149408 -0.37309 ]\n",
      "slit position in mm on mask: [ 7.136533 -1.264856]\n",
      "slit position in mm on mask: [-11.936418  -5.681635]\n",
      "slit position in mm on mask: [-5.303522 -0.138687]\n",
      "slit position in mm on mask: [5.155472 0.21635 ]\n",
      "slit position in mm on mask: [-6.155668 -4.825373]\n",
      "slit position in mm on mask: [-9.854999  0.771802]\n",
      "\n",
      "targets local coords in siderostat local frame:\n",
      "EL: 318.4 arcsec ; CE: 192.4 arcsec\n",
      "EL: 280.6 arcsec ; CE: 440.2 arcsec\n",
      "EL: 93.2 arcsec ; CE: -349.1 arcsec\n",
      "EL: 328.4 arcsec ; CE: -74.6 arcsec\n",
      "EL: 343.4 arcsec ; CE: 358.2 arcsec\n",
      "EL: 129.5 arcsec ; CE: -109.8 arcsec\n",
      "EL: 367.0 arcsec ; CE: -262.9 arcsec\n",
      "\n",
      "siderostat moves sequence: \n",
      "(They have been copied to clipboard, paste it in the spreadsheet)\n"
     ]
    },
    {
     "data": {
      "text/html": [
       "<div>\n",
       "<style scoped>\n",
       "    .dataframe tbody tr th:only-of-type {\n",
       "        vertical-align: middle;\n",
       "    }\n",
       "\n",
       "    .dataframe tbody tr th {\n",
       "        vertical-align: top;\n",
       "    }\n",
       "\n",
       "    .dataframe thead th {\n",
       "        text-align: right;\n",
       "    }\n",
       "</style>\n",
       "<table border=\"1\" class=\"dataframe\">\n",
       "  <thead>\n",
       "    <tr style=\"text-align: right;\">\n",
       "      <th></th>\n",
       "      <th>EL</th>\n",
       "      <th>CE</th>\n",
       "      <th>UV_image</th>\n",
       "      <th>EL_abs</th>\n",
       "      <th>CE_abs</th>\n",
       "    </tr>\n",
       "  </thead>\n",
       "  <tbody>\n",
       "    <tr>\n",
       "      <th>0</th>\n",
       "      <td>318.436730</td>\n",
       "      <td>192.446873</td>\n",
       "      <td>True</td>\n",
       "      <td>318.436730</td>\n",
       "      <td>192.446873</td>\n",
       "    </tr>\n",
       "    <tr>\n",
       "      <th>1</th>\n",
       "      <td>-37.838794</td>\n",
       "      <td>247.750211</td>\n",
       "      <td>True</td>\n",
       "      <td>280.597935</td>\n",
       "      <td>440.197084</td>\n",
       "    </tr>\n",
       "    <tr>\n",
       "      <th>2</th>\n",
       "      <td>-187.409692</td>\n",
       "      <td>-789.248201</td>\n",
       "      <td>True</td>\n",
       "      <td>93.188244</td>\n",
       "      <td>-349.051117</td>\n",
       "    </tr>\n",
       "    <tr>\n",
       "      <th>3</th>\n",
       "      <td>235.194511</td>\n",
       "      <td>274.472536</td>\n",
       "      <td>True</td>\n",
       "      <td>328.382754</td>\n",
       "      <td>-74.578581</td>\n",
       "    </tr>\n",
       "    <tr>\n",
       "      <th>4</th>\n",
       "      <td>15.064683</td>\n",
       "      <td>432.798375</td>\n",
       "      <td>True</td>\n",
       "      <td>343.447437</td>\n",
       "      <td>358.219794</td>\n",
       "    </tr>\n",
       "    <tr>\n",
       "      <th>5</th>\n",
       "      <td>-213.926880</td>\n",
       "      <td>-468.060601</td>\n",
       "      <td>True</td>\n",
       "      <td>129.520557</td>\n",
       "      <td>-109.840807</td>\n",
       "    </tr>\n",
       "    <tr>\n",
       "      <th>6</th>\n",
       "      <td>237.495433</td>\n",
       "      <td>-153.080157</td>\n",
       "      <td>True</td>\n",
       "      <td>367.015990</td>\n",
       "      <td>-262.920964</td>\n",
       "    </tr>\n",
       "  </tbody>\n",
       "</table>\n",
       "</div>"
      ],
      "text/plain": [
       "           EL          CE  UV_image      EL_abs      CE_abs\n",
       "0  318.436730  192.446873      True  318.436730  192.446873\n",
       "1  -37.838794  247.750211      True  280.597935  440.197084\n",
       "2 -187.409692 -789.248201      True   93.188244 -349.051117\n",
       "3  235.194511  274.472536      True  328.382754  -74.578581\n",
       "4   15.064683  432.798375      True  343.447437  358.219794\n",
       "5 -213.926880 -468.060601      True  129.520557 -109.840807\n",
       "6  237.495433 -153.080157      True  367.015990 -262.920964"
      ]
     },
     "execution_count": 87,
     "metadata": {},
     "output_type": "execute_result"
    }
   ],
   "source": [
    "if ~Hysteresis_compensation:\n",
    "    print(\"Carefull, with Hysteresis_compensation==%s the last move to return to the guider is not given. You just need to do -∑all moves\"%(Hysteresis_compensation))\n",
    "    print(\"You should then add EL=%0.4f and CE=%0.4f\"%(moves.sum(axis=0)[0],moves.sum(axis=0)[1]))\n",
    "moves, flags, slit_coords = G2UV.compute_autocoll_moves_slits(slits, F1, hystcomp = Hysteresis_compensation)\n",
    "moves = pd.DataFrame(np.hstack((moves,flags[:,None])), columns=[\"EL\",\"CE\",\"UV_image\"])#,dtype=[(\"EL\",float),(\"CE\",float),(\"UV_image\",float)])\n",
    "# assert moves.sum(axis=0)[0] <0.1\n",
    "# assert moves.sum(axis=0)[1] <0.1\n",
    "moves[\"UV_image\"] = moves[\"UV_image\"].astype(bool)\n",
    "moves[\"EL_abs\"] =  [np.sum(moves[\"EL\"][:i+1]) for i in range(len(moves))]\n",
    "moves[\"CE_abs\"] = [np.sum(moves[\"CE\"][:i+1]) for i in range(len(moves))]\n",
    "\n",
    "# slit_path['lon'] = [s.lon.deg*3600 for s in slits_coord]\n",
    "# slit_path['lat'] =  [s.lat.deg*3600 for s in slits_coord]\n",
    "# slit_path\n",
    "print(\"(They have been copied to clipboard, paste it in the spreadsheet)\")\n",
    "moves.to_clipboard()\n",
    "moves \n"
   ]
  },
  {
   "cell_type": "markdown",
   "metadata": {},
   "source": [
    "The moves has been copied. Add it to the [moves tab of this spreadsheet](https://docs.google.com/spreadsheets/d/19jO0fZ0FL0zZKt8IgJ_DMlZrbCD0VXpYVeulKzXtHzY/edit#gid=0)"
   ]
  },
  {
   "cell_type": "markdown",
   "metadata": {},
   "source": [
    "Copy below the observed slits position from the [slit tab of this spreadsheet](https://docs.google.com/spreadsheets/d/19jO0fZ0FL0zZKt8IgJ_DMlZrbCD0VXpYVeulKzXtHzY/edit#gid=0)"
   ]
  },
  {
   "cell_type": "code",
   "execution_count": 88,
   "metadata": {},
   "outputs": [],
   "source": [
    "slits_coord_obs_det = np.array([\n",
    "[ 2003.28  ,\t815.70],\n",
    "[ 1946.4278  ,\t366.6895],\n",
    "[ 1655.4181  ,\t1806.5215],\n",
    "[ 2019.965  ,\t1299.2635],\n",
    "[ 2044.314  ,\t516.54041],\n",
    "[ 1707.477  ,\t1366.6448],\n",
    "[ 2085.6851,\t1638.469]]) \n"
   ]
  },
  {
   "cell_type": "code",
   "execution_count": 115,
   "metadata": {},
   "outputs": [
    {
     "name": "stdout",
     "output_type": "stream",
     "text": [
      "wave:  0.2139\n"
     ]
    }
   ],
   "source": [
    "valid = np.isfinite(slits_coord_obs_det[:,0])\n",
    "obs_wave = 0.2139 # 0.20255\n",
    "print(\"wave: \", obs_wave)\n",
    "slits_coord_valid = [slit_coords[i] for i in np.nonzero(valid)[0]]\n",
    "# slits_valid = slits[valid]\n",
    "slits_coord_obs = G2UV.detector2guider(slits_coord_obs_det, wave=obs_wave, angle=True  )\n",
    "slits_coord_obs\n",
    "\n",
    "if input(\"Are you sure you computed the barycenter on the line %s? Remember that it's better to use 206 line to probe a bigger part of the detector. It might require gain and longer exposure though. Be sure to always compute the centroid on the same line. (y/n)\"%(obs_wave))!=\"y\":\n",
    "    raise ValueError(\"Please change obs_wave parameter (c)\")\n"
   ]
  },
  {
   "cell_type": "markdown",
   "metadata": {},
   "source": [
    "### look at siderostat frame hysteresis "
   ]
  },
  {
   "cell_type": "code",
   "execution_count": 92,
   "metadata": {},
   "outputs": [],
   "source": [
    "if Hysteresis_compensation:\n",
    "    mid  = len(slits_coord_obs_det)//2\n",
    "    pair_diff = slits_coord_obs_det[:mid] - slits_coord_obs_det[::-1][:mid]\n",
    "    moves_sign  = np.sign(moves[2:mid+2])\n",
    "    pair_diff_signed = pair_diff * moves_sign\n",
    "    valid = np.arange(len(moves_sign))#[0,2,3,4]\n",
    "    fig, (ax0,ax1) = plt.subplots(1,2)\n",
    "    ax0.plot(pair_diff_signed[valid,0],'*-')\n",
    "    ax0.set_title(\"El pair diff\")\n",
    "    ax0.set_ylabel(\"El arcsec\")\n",
    "    ax1.plot(pair_diff_signed[valid,1],'*-')\n",
    "    ax1.set_title(\"Ce pair diff\")\n",
    "    ax1.set_ylabel(\"Ce arcsec\")\n",
    "    fig.suptitle(\"Hysteresis analysis\")\n",
    "    fig.tight_layout()\n"
   ]
  },
  {
   "cell_type": "markdown",
   "metadata": {},
   "source": [
    "## 11- Note open-mask guider ref point\n",
    "## 12- Update model with observed slit positions"
   ]
  },
  {
   "cell_type": "code",
   "execution_count": 93,
   "metadata": {},
   "outputs": [],
   "source": [
    "slits_coord_obs_det\n",
    "slits_coord_obs = G2UV.detector2guider(slits_coord_obs_det, wave=obs_wave, angle=True  )\n"
   ]
  },
  {
   "cell_type": "code",
   "execution_count": 96,
   "metadata": {
    "collapsed": true
   },
   "outputs": [
    {
     "name": "stdout",
     "output_type": "stream",
     "text": [
      "Fitting rotation, translation and magnification\n",
      "gamma: 1.0236473517829268\n",
      "theta: -1.292306120464457 arcmin\n",
      "dx: 4.576888627189566 arcsec\n",
      "dy: 142.8539530606342 arcsec\n",
      "variances: [6.29416330e-04 2.16377395e+00 5.21677896e-01 5.21677896e-01]\n",
      "\n",
      "residuals in arcsec: [[  0.53473804   2.23734649]\n",
      " [ -7.24849468   6.67579775]\n",
      " [  2.8178547   -3.3315457 ]\n",
      " [  2.96590484   3.29930054]\n",
      " [ -4.99758926   2.96446839]\n",
      " [  5.92758636 -11.84536747]]\n",
      "max residual in EL,CE 7.2, 11.8 arcsec\n",
      "mean residual in EL,CE 4.6, 6.1 arcsec\n"
     ]
    },
    {
     "data": {
      "image/png": "[encoded data removed]",
      "text/plain": [
       "<Figure size 864x504 with 2 Axes>"
      ]
     },
     "metadata": {
      "needs_background": "light"
     },
     "output_type": "display_data"
    },
    {
     "name": "stdout",
     "output_type": "stream",
     "text": [
      "After updating:\n",
      "    mask_rotation: -1.292306120464457 arcmin\n",
      "    FOV center in guider: 1398.9585124448668 x 365.5147912402476 pix = 691.4023624259573 arcsec x -162.70317331587498 arcsec arcsec\n",
      "    mask_magnification correction: 1.0236473517829268  \n",
      "    \n"
     ]
    }
   ],
   "source": [
    "slits_coord_obs = G2UV.detector2guider(slits_coord_obs_det, wave=obs_wave, angle=True  )\n",
    "weight = np.array( [1.]*16  + [1./(1. + 1e-1)]*16)\n",
    "G2UVcor, residuals = G2UV.update_model(slits_coord_valid[1:], slits_coord_obs[1:], plot=True, figsize=(12,7))#, labels=slits_valid\n"
   ]
  },
  {
   "cell_type": "markdown",
   "metadata": {},
   "source": [
    "### check updating without fitting magnification"
   ]
  },
  {
   "cell_type": "code",
   "execution_count": 97,
   "metadata": {},
   "outputs": [
    {
     "name": "stdout",
     "output_type": "stream",
     "text": [
      "\n",
      "Guider2UV object:\n",
      "    Local Field Projector: \n",
      "ScienceMaskProjector object:\n",
      "    LocalFrame: <SkyOffsetICRS Frame (rotation=-90.0 deg, origin=<ICRS Coordinate: (ra, dec) in deg\n",
      "    (32.19, -5.688)>)>\n",
      "    gamma: 1.0\n",
      "\n",
      "    Guider Field Projector: \n",
      "GuiderMaskProjector object:\n",
      "    LocalFrame: <SkyOffsetICRS Frame (rotation=0.0 deg, origin=<ICRS Coordinate: (ra, dec) in deg\n",
      "    (250.39272815, 36.41856381)>)>\n",
      "    wcs: WCS Keywords\n",
      "\n",
      "Number of WCS axes: 2\n",
      "CTYPE : 'RA---TAN-SIP'  'DEC--TAN-SIP'  \n",
      "CRVAL : 250.392728151  36.4185638082  \n",
      "CRPIX : 640.0  540.0  \n",
      "PC1_1 PC1_2  : 1.0  0.0  \n",
      "PC2_1 PC2_2  : 0.0  1.0  \n",
      "CDELT : 0.00024551548564194  0.00024661678545423  \n",
      "NAXIS : 0  0\n",
      "\n",
      "    mask_rotation: 0.0 arcmin\n",
      "    FOV center in guider: 1378.693979871492x218.8622925672349 pix\n",
      "\n"
     ]
    }
   ],
   "source": [
    "G2UVtest=G2UV.copy()\n",
    "G2UVtest.FieldP.radial_mag_polynomial = (42.26134, 0., 0.)\n",
    "G2UVtest.FieldP.radial_mag_inv_polynomial = (1./42.26134, 0., 0.)\n",
    "G2UVtest.FieldP.gamma = 1.\n",
    "print(G2UVtest)"
   ]
  },
  {
   "cell_type": "code",
   "execution_count": 98,
   "metadata": {},
   "outputs": [
    {
     "name": "stdout",
     "output_type": "stream",
     "text": [
      "Fitting rotation, translation and magnification\n",
      "gamma: 1.0232833033079378\n",
      "theta: -2.0637580783996947 arcmin\n",
      "dx: 4.437276448568153 arcsec\n",
      "dy: 143.25463394034085 arcsec\n",
      "variances: [6.11843078e-04 2.10336157e+00 5.00674651e-01 5.00674651e-01]\n",
      "\n",
      "residuals in arcsec: [[  1.9657011   -1.71084236]\n",
      " [ -0.01330166   2.84150477]\n",
      " [ -7.2949686    6.7729117 ]\n",
      " [  2.47269373  -3.13469606]\n",
      " [  2.4098009    3.81370921]\n",
      " [ -5.181121     3.22448209]\n",
      " [  5.64119552 -11.80706935]]\n",
      "max residual in EL,CE 7.3, 11.8 arcsec\n",
      "mean residual in EL,CE 4.3, 5.7 arcsec\n"
     ]
    },
    {
     "data": {
      "image/png": "[encoded data removed]",
      "text/plain": [
       "<Figure size 1152x432 with 2 Axes>"
      ]
     },
     "metadata": {
      "needs_background": "light"
     },
     "output_type": "display_data"
    },
    {
     "name": "stdout",
     "output_type": "stream",
     "text": [
      "After updating:\n",
      "    mask_rotation: -2.0637580783996947 arcmin\n",
      "    FOV center in guider: 1398.4762460299144 x 365.8956797724491 pix = 690.9515191289703 arcsec x -162.34450625985818 arcsec arcsec\n",
      "    mask_magnification correction: 1.0232833033079378  \n",
      "    \n"
     ]
    }
   ],
   "source": [
    "G2UVcor_test, residuals = G2UVtest.update_model(slits_coord_valid, slits_coord_obs, labels=slits, plot=True, figsize=(16,6), gamma=True)\n"
   ]
  },
  {
   "cell_type": "markdown",
   "metadata": {},
   "source": [
    "### save corrected model for future use (eg redo the calib on same field)"
   ]
  },
  {
   "cell_type": "code",
   "execution_count": 99,
   "metadata": {},
   "outputs": [
    {
     "name": "stdout",
     "output_type": "stream",
     "text": [
      "Dumping to Calibration/Mappings/2022/XY/F4_XY_220715.pkl\n"
     ]
    }
   ],
   "source": [
    "G2UVcor.save(filename=\"Calibration/Mappings/2022/XY/F4_XY_220715.pkl\")"
   ]
  },
  {
   "cell_type": "markdown",
   "metadata": {},
   "source": [
    "## 13 - Rotate carousel to science mask\n",
    "## 14 - Note open-mask guider ref point\n",
    "## 15 - Check corrected model through science mask"
   ]
  },
  {
   "cell_type": "code",
   "execution_count": 111,
   "metadata": {},
   "outputs": [
    {
     "name": "stdout",
     "output_type": "stream",
     "text": [
      "slit position in mm on mask: [ 1.149408 -0.37309 ]\n",
      "slit position in mm on mask: [ 7.136533 -1.264856]\n",
      "slit position in mm on mask: [-11.936418  -5.681635]\n",
      "slit position in mm on mask: [-5.303522 -0.138687]\n",
      "slit position in mm on mask: [5.155472 0.21635 ]\n",
      "slit position in mm on mask: [-6.155668 -4.825373]\n",
      "slit position in mm on mask: [-9.854999  0.771802]\n",
      "\n",
      "targets local coords in siderostat local frame:\n",
      "EL: 326.5 arcsec ; CE: 129.0 arcsec\n",
      "EL: 287.8 arcsec ; CE: 385.5 arcsec\n",
      "EL: 96.7 arcsec ; CE: -432.4 arcsec\n",
      "EL: 336.7 arcsec ; CE: -147.2 arcsec\n",
      "EL: 351.9 arcsec ; CE: 300.6 arcsec\n",
      "EL: 134.0 arcsec ; CE: -183.9 arcsec\n",
      "EL: 376.2 arcsec ; CE: -342.5 arcsec\n",
      "\n",
      "siderostat moves sequence: \n",
      "(They have been copied to clipboard, paste it in the spreadsheet)\n"
     ]
    },
    {
     "data": {
      "image/png": "[encoded data removed]",
      "text/plain": [
       "<Figure size 432x288 with 1 Axes>"
      ]
     },
     "metadata": {
      "needs_background": "light"
     },
     "output_type": "display_data"
    },
    {
     "data": {
      "text/html": [
       "<div><i>Table length=6</i>\n",
       "<table id=\"table140204531185792\" class=\"table-striped table-bordered table-condensed\">\n",
       "<thead><tr><th>Internal-count</th><th>x_mm</th><th>y_mm</th><th>RA</th><th>DEC</th><th>ra_diff</th><th>dec_diff</th><th>angular_distance</th><th>EL</th><th>CE</th><th>El_sky</th><th>Cel_sky</th><th>Frame_angular_distance</th><th>frame_divided_sky</th><th>EL_dec_ratio</th><th>CE_ra_ratio</th></tr></thead>\n",
       "<thead><tr><th>str2</th><th>float64</th><th>float64</th><th>float64</th><th>float64</th><th>float64</th><th>float64</th><th>float64</th><th>float64</th><th>float64</th><th>float64</th><th>float64</th><th>float64</th><th>float64</th><th>float64</th><th>float64</th></tr></thead>\n",
       "<tr><td>23</td><td>1.149408</td><td>-0.37309</td><td>36.931808</td><td>0.643882</td><td>-506.0812419404365</td><td>74.80799999999968</td><td>511.5803556705188</td><td>-38.67384827530935</td><td>256.46926318699184</td><td>-78.04382581957427</td><td>522.5304768171771</td><td>528.3265448104445</td><td>1.0327342302226925</td><td>-1.0432550772587772</td><td>-1.0325031507069307</td></tr>\n",
       "<tr><td>36</td><td>7.136533</td><td>-1.264856</td><td>37.072395</td><td>0.623102</td><td>1613.8349615117118</td><td>375.41520000000037</td><td>1656.9248188703518</td><td>-191.14369153626237</td><td>-817.9613289080033</td><td>-385.7279695201774</td><td>-1666.5144115171659</td><td>1710.5719365944726</td><td>1.032377520762044</td><td>-1.0274703036003259</td><td>-1.0326424022665293</td></tr>\n",
       "<tr><td>2</td><td>-11.936418</td><td>-5.681635</td><td>36.624081</td><td>0.51882</td><td>-562.6281328234214</td><td>-463.19400000000013</td><td>728.7654612290361</td><td>240.04887870678175</td><td>285.21942123876227</td><td>484.4186372302855</td><td>581.1060488318542</td><td>756.5352973160051</td><td>1.0381053131142304</td><td>-1.0458223492322556</td><td>-1.03284214729133</td></tr>\n",
       "<tr><td>13</td><td>-5.303522</td><td>-0.138687</td><td>36.780373</td><td>0.647485</td><td>-883.6139752233256</td><td>-30.376800000000202</td><td>884.135966460028</td><td>15.177643667795222</td><td>447.8251349700239</td><td>30.628484921610752</td><td>912.3989299879266</td><td>912.9128718183937</td><td>1.0325480542020984</td><td>-1.008285432356619</td><td>-1.0325763914692792</td></tr>\n",
       "<tr><td>32</td><td>5.155472</td><td>0.21635</td><td>37.025837</td><td>0.655923</td><td>955.8561607255427</td><td>420.24240000000003</td><td>1044.1573994157848</td><td>-217.86721088123724</td><td>-484.5181314555316</td><td>-439.65603155833674</td><td>-987.1572410275</td><td>1080.6372400572964</td><td>1.0349371087749053</td><td>-1.0461962704342462</td><td>-1.0327466428402765</td></tr>\n",
       "<tr><td>11</td><td>-6.155668</td><td>-4.825373</td><td>36.760304</td><td>0.539189</td><td>313.1789319515288</td><td>-475.4807999999997</td><td>569.3531721058029</td><td>242.15797739260208</td><td>-158.615622309298</td><td>488.67479837827096</td><td>-323.16346889296375</td><td>585.8649043909162</td><td>1.0290008611422032</td><td>-1.0277487511131287</td><td>-1.0318812535671469</td></tr>\n",
       "</table></div>"
      ],
      "text/plain": [
       "<Table length=6>\n",
       "Internal-count    x_mm       y_mm   ...     EL_dec_ratio        CE_ra_ratio    \n",
       "     str2       float64    float64  ...       float64             float64      \n",
       "-------------- ---------- --------- ... ------------------- -------------------\n",
       "            23   1.149408  -0.37309 ... -1.0432550772587772 -1.0325031507069307\n",
       "            36   7.136533 -1.264856 ... -1.0274703036003259 -1.0326424022665293\n",
       "             2 -11.936418 -5.681635 ... -1.0458223492322556   -1.03284214729133\n",
       "            13  -5.303522 -0.138687 ...  -1.008285432356619 -1.0325763914692792\n",
       "            32   5.155472   0.21635 ... -1.0461962704342462 -1.0327466428402765\n",
       "            11  -6.155668 -4.825373 ... -1.0277487511131287 -1.0318812535671469"
      ]
     },
     "execution_count": 111,
     "metadata": {},
     "output_type": "execute_result"
    }
   ],
   "source": [
    "moves, flags, slit_coords = G2UVcor.compute_autocoll_moves_slits(slits, F1, hystcomp = Hysteresis_compensation, CEg = CEg, Elg = Elg)\n",
    "moves = Table.from_pandas(pd.DataFrame(np.hstack((moves,flags[:,None])), columns=[\"EL\",\"CE\",\"UV_image\"]))\n",
    "print(\"(They have been copied to clipboard, paste it in the spreadsheet)\")\n",
    "# moves.to_clipboard()\n",
    "moves\n",
    "\n",
    "new_cat = slit_path[:6]\n",
    "new_cat[\"EL\"] = moves[\"EL\"][1:]\n",
    "new_cat[\"CE\"] = moves[\"CE\"][1:]\n",
    "\n",
    "new_cat[\"El_sky\"] = new_cat[\"EL\"]  * 2 * Elg \n",
    "new_cat[\"Cel_sky\"] = new_cat[\"CE\"] * 2 * CEg \n",
    "new_cat[\"Frame_angular_distance\"] = np.sqrt(new_cat[\"El_sky\"]**2 + new_cat[\"Cel_sky\"]**2)\n",
    "new_cat[\"frame_divided_sky\"] = new_cat[\"Frame_angular_distance\"] / new_cat[\"angular_distance\"]\n",
    "new_cat[\"EL_dec_ratio\"] =   new_cat[\"El_sky\"] / new_cat[\"dec_diff\"]\n",
    "new_cat[\"CE_ra_ratio\"] =   new_cat[\"Cel_sky\"] / new_cat[\"ra_diff\"]\n",
    "# new_cat\n",
    "# new_cat.to_pandas().to_clipboard()\n",
    "\n",
    "plt.figure()\n",
    "plt.plot(new_cat[\"angular_distance\"],-new_cat[\"EL_dec_ratio\"],\"P\",label=\"El move / dec angular distance between targets\")\n",
    "plt.plot(new_cat[\"angular_distance\"],-new_cat[\"CE_ra_ratio\"],\"X\",label=\"CE move / ra angular distance between targets\")\n",
    "plt.plot(new_cat[\"angular_distance\"],new_cat[\"frame_divided_sky\"],\"o\",label=\"Sky angular move / angular distance between targets\")\n",
    "plt.legend()\n",
    "plt.show()\n",
    "new_cat#[\"ra_diff\",\"dec_diff\",\"El_sky\",\"Cel_sky\",\"frame_divided_sky\",\"EL_dec_ratio\",\"CE_ra_ratio\"]#,\"EL_moves\",\"CE_moves\"\n"
   ]
  },
  {
   "cell_type": "markdown",
   "metadata": {},
   "source": [
    "The moves has been copied. Add it to the [moves tab of this spreadsheet](https://docs.google.com/spreadsheets/d/19jO0fZ0FL0zZKt8IgJ_DMlZrbCD0VXpYVeulKzXtHzY/edit#gid=0)"
   ]
  },
  {
   "cell_type": "markdown",
   "metadata": {},
   "source": [
    "Here we just wanted to do another try to verify that the least square gives consistent results"
   ]
  },
  {
   "cell_type": "code",
   "execution_count": 114,
   "metadata": {},
   "outputs": [
    {
     "name": "stdout",
     "output_type": "stream",
     "text": [
      "Fitting rotation, translation and magnification\n",
      "gamma: 0.9907190063552016\n",
      "theta: 5.199286407697351 arcmin\n",
      "dx: 6.47584039462077 arcsec\n",
      "dy: 0.20600990158452986 arcsec\n",
      "variances: [6.29416330e-04 2.16377395e+00 5.21677896e-01 5.21677896e-01]\n",
      "\n",
      "residuals in arcsec: [[ 2.14345731 -0.63718189]\n",
      " [-1.4729248   4.3142004 ]\n",
      " [-0.28627211 -3.76349203]\n",
      " [ 1.48003037  3.30289086]\n",
      " [-3.9158646   3.74503777]\n",
      " [ 2.05157384 -6.9614551 ]]\n",
      "max residual in EL,CE 3.9, 7.0 arcsec\n",
      "mean residual in EL,CE 2.2, 4.2 arcsec\n"
     ]
    },
    {
     "data": {
      "image/png": "[encoded data removed]",
      "text/plain": [
       "<Figure size 1152x432 with 2 Axes>"
      ]
     },
     "metadata": {
      "needs_background": "light"
     },
     "output_type": "display_data"
    },
    {
     "name": "stdout",
     "output_type": "stream",
     "text": [
      "After updating:\n",
      "    mask_rotation: 3.9069802872328943 arcmin\n",
      "    FOV center in guider: 1399.2648803572893 x 368.49732464566944 pix = 691.7073759757741 arcsec x -159.94143168270693 arcsec arcsec\n",
      "    mask_magnification correction: 1.0141468872165147  \n",
      "    \n"
     ]
    },
    {
     "data": {
      "text/plain": [
       "(<guider2UV.guider2UV.Guider2UV at 0x7f842b04b100>,\n",
       " array([[ 5.95404808e-04, -1.76994970e-04],\n",
       "        [-4.09145779e-04,  1.19838900e-03],\n",
       "        [-7.95200316e-05, -1.04541445e-03],\n",
       "        [ 4.11119548e-04,  9.17469683e-04],\n",
       "        [-1.08774017e-03,  1.04028827e-03],\n",
       "        [ 5.69881621e-04, -1.93373753e-03]]))"
      ]
     },
     "execution_count": 114,
     "metadata": {},
     "output_type": "execute_result"
    }
   ],
   "source": [
    "slits_coord_obs_det = np.array([\n",
    "[2015.5591,  \t931.45115  ],\n",
    "[1958.5063  ,\t467.6615  ],\n",
    "[1665.4307  ,\t1955.4355  ],\n",
    "[2034.4282 ,\t1432.4388  ],\n",
    "[2057.2718 ,\t620.85921  ],\n",
    "[1715.4736 ,\t1503.1555  ],\n",
    "[2102.354,  \t1784.8877  ]]) \n",
    "\n",
    "slits_coord_obs = G2UV.detector2guider(slits_coord_obs_det, wave=obs_wave, angle=True  )\n",
    "weight = np.array( [1.]*16  + [1./(1. + 1e-1)]*16)\n",
    "G2UVcor.update_model(slits_coord_valid[1:], slits_coord_obs[1:], plot=True, figsize=(16,6))#, labels=slits_valid\n",
    "\n",
    "\n"
   ]
  },
  {
   "cell_type": "markdown",
   "metadata": {},
   "source": [
    "\n",
    "## 16 - Note science-mask guider ref point\n",
    "## 17 - Go through the Star sequence \n",
    " [29, 34, 18, 14]\n",
    "we did not have the time to do this because G2UV was not well"
   ]
  },
  {
   "cell_type": "code",
   "execution_count": 57,
   "metadata": {},
   "outputs": [
    {
     "name": "stdout",
     "output_type": "stream",
     "text": [
      "\n",
      "targets local coords in siderostat local frame:\n",
      "EL: -102.8 arcsec ; CE: 225.0 arcsec\n",
      "EL: -124.2 arcsec ; CE: 289.5 arcsec\n",
      "EL: 129.7 arcsec ; CE: 31.5 arcsec\n",
      "EL: 57.5 arcsec ; CE: 13.6 arcsec\n",
      "\n",
      "siderostat moves sequence: \n"
     ]
    },
    {
     "data": {
      "text/html": [
       "<div>\n",
       "<style scoped>\n",
       "    .dataframe tbody tr th:only-of-type {\n",
       "        vertical-align: middle;\n",
       "    }\n",
       "\n",
       "    .dataframe tbody tr th {\n",
       "        vertical-align: top;\n",
       "    }\n",
       "\n",
       "    .dataframe thead th {\n",
       "        text-align: right;\n",
       "    }\n",
       "</style>\n",
       "<table border=\"1\" class=\"dataframe\">\n",
       "  <thead>\n",
       "    <tr style=\"text-align: right;\">\n",
       "      <th></th>\n",
       "      <th>EL</th>\n",
       "      <th>CE</th>\n",
       "      <th>Image</th>\n",
       "    </tr>\n",
       "  </thead>\n",
       "  <tbody>\n",
       "    <tr>\n",
       "      <th>0</th>\n",
       "      <td>-102.800313</td>\n",
       "      <td>224.998137</td>\n",
       "      <td>1.0</td>\n",
       "    </tr>\n",
       "    <tr>\n",
       "      <th>1</th>\n",
       "      <td>-21.350777</td>\n",
       "      <td>64.486499</td>\n",
       "      <td>1.0</td>\n",
       "    </tr>\n",
       "    <tr>\n",
       "      <th>2</th>\n",
       "      <td>253.891218</td>\n",
       "      <td>-258.010438</td>\n",
       "      <td>1.0</td>\n",
       "    </tr>\n",
       "    <tr>\n",
       "      <th>3</th>\n",
       "      <td>-72.210784</td>\n",
       "      <td>-17.885178</td>\n",
       "      <td>1.0</td>\n",
       "    </tr>\n",
       "  </tbody>\n",
       "</table>\n",
       "</div>"
      ],
      "text/plain": [
       "           EL          CE  Image\n",
       "0 -102.800313  224.998137    1.0\n",
       "1  -21.350777   64.486499    1.0\n",
       "2  253.891218 -258.010438    1.0\n",
       "3  -72.210784  -17.885178    1.0"
      ]
     },
     "execution_count": 57,
     "metadata": {},
     "output_type": "execute_result"
    }
   ],
   "source": [
    "G2UVcor.FieldP.center = 36.9049, 0.65245\n",
    "star_target_path = \"Calibration/Targets/2022/GuidingStars/F4_guidingstars.fits\"\n",
    "# il faut que le centre soit bien defini à l'arcseconde pres.\n",
    "G2UVcor.FieldP = LocalScienceMaskProjector(center=coordinates.SkyCoord(36.9049*u.deg, 0.65245*u.deg), rotation=0.0*u.arcmin, gamma=1)\n",
    "\n",
    "\n",
    "F1_stars = Table.read(star_target_path, format='fits').to_pandas()\n",
    "\n",
    "stars = [29, 34, 18, 14]\n",
    "selected_stars = Table.from_pandas((reduce(pd.DataFrame.append, map(lambda i: F1_stars[F1_stars['Internal count'] == i],stars))))\n",
    "# G2UVcor.FOV_center_guider_coord = 0.18182478, 0.00998363\n",
    "star_moves, flags, stars_coord = G2UVcor.compute_autocoll_move_stars(stars, F1_stars, hystcomp = Hysteresis_compensation, CEg = CEg, Elg = Elg)\n",
    "star_moves = pd.DataFrame(np.hstack((star_moves,flags[:,None])), columns=[\"EL\",\"CE\",\"Image\"])\n",
    "star_moves\n",
    "# stars_path = vstack((selected_stars,selected_stars[::-1]) )\n",
    "# selected_stars['lon'] = [s.lon.deg*3600 for s in stars_coord]\n",
    "# selected_stars['lat'] =  [s.lat.deg*3600 for s in stars_coord]\n",
    "# print(\"(They have been copied to clipboard, paste it in the spreadsheet)\")\n",
    "# star_moves.to_clipboard()\n",
    "# star_moves\n",
    "\n"
   ]
  },
  {
   "cell_type": "markdown",
   "metadata": {},
   "source": [
    "The moves has been copied. Add it to the [moves tab of this spreadsheet](https://docs.google.com/spreadsheets/d/19jO0fZ0FL0zZKt8IgJ_DMlZrbCD0VXpYVeulKzXtHzY/edit#gid=0)"
   ]
  },
  {
   "cell_type": "code",
   "execution_count": 58,
   "metadata": {},
   "outputs": [
    {
     "data": {
      "text/html": [
       "<div><i>Table length=5</i>\n",
       "<table id=\"table140204531095968\" class=\"table-striped table-bordered table-condensed\">\n",
       "<thead><tr><th>Internal count</th><th>RA</th><th>DEC</th><th>X</th><th>Y</th><th>GAIA gband</th><th>SDSS gband</th><th>SDSS rband</th><th>Xguider</th><th>Yguider</th></tr></thead>\n",
       "<thead><tr><th>int64</th><th>float64</th><th>float64</th><th>float64</th><th>float64</th><th>int64</th><th>int64</th><th>int64</th><th>float64</th><th>float64</th></tr></thead>\n",
       "<tr><td>29</td><td>36.987137</td><td>0.402799</td><td>3.499382</td><td>-10.623502</td><td>10</td><td>--</td><td>--</td><td>375.60643978519715</td><td>274.037723163956</td></tr>\n",
       "<tr><td>34</td><td>37.023638</td><td>0.390844</td><td>5.052622</td><td>-11.132199</td><td>9</td><td>--</td><td>--</td><td>329.09823563737774</td><td>119.62777354437654</td></tr>\n",
       "<tr><td>18</td><td>36.877561</td><td>0.53311</td><td>-1.163312</td><td>-5.078307</td><td>--</td><td>12</td><td>11</td><td>905.7629054456784</td><td>724.3865249427333</td></tr>\n",
       "<tr><td>14</td><td>36.867454</td><td>0.492628</td><td>-1.593376</td><td>-6.800959</td><td>--</td><td>13</td><td>12</td><td>743.471574722354</td><td>767.263365496059</td></tr>\n",
       "<tr><td>-99</td><td>-99.0</td><td>-99.0</td><td>640.0</td><td>540.0</td><td>-99</td><td>-99</td><td>-99</td><td>-99.0</td><td>-99.0</td></tr>\n",
       "</table></div>"
      ],
      "text/plain": [
       "<Table length=5>\n",
       "Internal count     RA      DEC    ...      Xguider            Yguider      \n",
       "    int64       float64  float64  ...      float64            float64      \n",
       "-------------- --------- -------- ... ------------------ ------------------\n",
       "            29 36.987137 0.402799 ... 375.60643978519715   274.037723163956\n",
       "            34 37.023638 0.390844 ... 329.09823563737774 119.62777354437654\n",
       "            18 36.877561  0.53311 ...  905.7629054456784  724.3865249427333\n",
       "            14 36.867454 0.492628 ...   743.471574722354   767.263365496059\n",
       "           -99     -99.0    -99.0 ...              -99.0              -99.0"
      ]
     },
     "execution_count": 58,
     "metadata": {},
     "output_type": "execute_result"
    }
   ],
   "source": [
    "selection = selected_stars['Internal count',\n",
    " 'RA',\n",
    " 'DEC',\n",
    " 'X',\n",
    " 'Y',\n",
    " 'GAIA gband',\n",
    " 'SDSS gband',\n",
    " 'SDSS rband',\n",
    " 'Xguider',\n",
    " 'Yguider']\n",
    "# selection=vstack((selection,selection[::-1]))\n",
    "selection.add_row([\"-99\",-99,-99,640,540,-99,-99,-99,-99,-99])\n",
    "selection.to_pandas().to_clipboard()\n",
    "selection"
   ]
  },
  {
   "cell_type": "markdown",
   "metadata": {},
   "source": [
    "The stars table has been copied. Add it to the [stars tab of this spreadsheet](https://docs.google.com/spreadsheets/d/19jO0fZ0FL0zZKt8IgJ_DMlZrbCD0VXpYVeulKzXtHzY/edit#gid=0)"
   ]
  },
  {
   "cell_type": "markdown",
   "metadata": {},
   "source": [
    "\n",
    "## 18 - Through focus guide star 1\n",
    "## 19 - Track mask to guider changes\n",
    "------------------------------------------------------"
   ]
  },
  {
   "cell_type": "markdown",
   "metadata": {},
   "source": []
  }
 ],
 "metadata": {
  "kernelspec": {
   "display_name": "Python 3.8.13 ('py38')",
   "language": "python",
   "name": "python3"
  },
  "language_info": {
   "codemirror_mode": {
    "name": "ipython",
    "version": 3
   },
   "file_extension": ".py",
   "mimetype": "text/x-python",
   "name": "python",
   "nbconvert_exporter": "python",
   "pygments_lexer": "ipython3",
   "version": "3.8.13"
  },
  "vscode": {
   "interpreter": {
    "hash": "6429251b47eee9d8b9b4d9852116ca976e0b69b141b5bab3b174d6f3c07282ea"
   }
  }
 },
 "nbformat": 4,
 "nbformat_minor": 2
}
