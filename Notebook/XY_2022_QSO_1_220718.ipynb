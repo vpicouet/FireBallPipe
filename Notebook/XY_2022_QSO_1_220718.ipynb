{
 "cells": [
  {
   "cell_type": "markdown",
   "metadata": {},
   "source": [
    "# XY-calibration (QSO)"
   ]
  },
  {
   "cell_type": "code",
   "execution_count": 1,
   "metadata": {},
   "outputs": [
    {
     "name": "stdout",
     "output_type": "stream",
     "text": [
      "/Users/Vincent/Github/FireBallPipe\n"
     ]
    }
   ],
   "source": [
    "cd .."
   ]
  },
  {
   "cell_type": "markdown",
   "metadata": {},
   "source": [
    "\n",
    "| #  | Name                               | Done                     |       Comment               |\n",
    "|----|------------------------------------|--------------------------|-----------------------------|\n",
    "| 1  | Have a mask-detector mapping       | <input type=\"checkbox\">  |  And send region file to zeren |\n",
    "| 2  | Use the previous XY mapping        | <input type=\"checkbox\">  | of the same mask, if never done do a new one   |\n",
    "| 2.a  |Add mask rotation for F2       | <input type=\"checkbox\">  |                             |\n",
    "| 3  | Reset magnification/offset/angle   | <input type=\"checkbox\">  |                             |\n",
    "| 4  | Be sure of the slits path          | <input type=\"checkbox\">  |  Use only regular slits, big moves, do not use slits that are seen with one line or in shadow   |\n",
    "| 4.a  | Decide to use or not hysteresis compensation          | <input type=\"checkbox\">  |  Adds ~1h in total + slight code complexity but might improve results by <1''  |\n",
    "| 5  | Account from Zeren offset          | <input type=\"checkbox\">  |                             |\n",
    "| 6  | Add slits path in google drive     | <input type=\"checkbox\">  |                             |\n",
    "| 7  | Add CNES moves to google drive     | <input type=\"checkbox\">  |                             |\n"
   ]
  },
  {
   "cell_type": "code",
   "execution_count": 2,
   "metadata": {
    "collapsed": true
   },
   "outputs": [
    {
     "name": "stdout",
     "output_type": "stream",
     "text": [
      "After calibration of the encoders, El is 0.09283 ''/inc and Ce is 0.01019 ''/inc\n"
     ]
    }
   ],
   "source": [
    "# %matplotlib widget\n",
    "%load_ext autoreload\n",
    "%autoreload 2\n",
    "\n",
    "import sys\n",
    "import numpy as np\n",
    "from astropy.io import fits\n",
    "from astropy import wcs, coordinates\n",
    "from astropy import units as u\n",
    "from astropy.wcs.utils import proj_plane_pixel_scales\n",
    "from matplotlib import pyplot as plt\n",
    "from astropy.table import Table, vstack \n",
    "import matplotlib.patches as patches\n",
    "import unittest\n",
    "from mpl_interactions import heatmap_slicer\n",
    "import pandas as pd\n",
    "import datetime \n",
    "# os.chdir(os.path.dirname(os.path.realpath(__file__)))\n",
    "sys.path.insert(1, './Calibration')\n",
    "from guider2UV.guider2UV import Guider2UV, diff_skycoord, fit_model, plot_fit\n",
    "from guider2UV.MaskAstrometry import LocalScienceMaskProjector\n",
    "from Calibration.mapping import Mapping\n",
    "\n",
    "# encoder gains 2022:\n",
    "CEg = 1.0187 # CEg = 1.02928 # 2018\n",
    "Elg = 1.0090 # Elg = 1.00379 # 2018\n",
    "print(\"After calibration of the encoders, El is %0.5f ''/inc and Ce is %0.5f ''/inc\" %(Elg*0.092,CEg*0.01))\n"
   ]
  },
  {
   "cell_type": "markdown",
   "metadata": {},
   "source": [
    "## initialization from last xy calib\n",
    "---------------------------------\n",
    "This was actually a mistake, it should slways be done from the same mask (same field center), or create a new G2UV object"
   ]
  },
  {
   "cell_type": "code",
   "execution_count": 3,
   "metadata": {},
   "outputs": [],
   "source": [
    "# prerequisites:\n",
    "Field = \"QSO\"\n",
    "previous_xy_mapping = \"Calibration/Mappings/2018/XY/Guider2UV_F3_nogamma.new.pkl\"\n",
    "mask_det_map_file = \"Calibration/Mappings/2022/mask_to_det_mapping/mapping-mask-det-w-2022-5-QSO_-100.5.pkl\"\n",
    "target_filename = 'Calibration/Targets/2022/targets_%s.csv'%(Field)\n",
    "Hysteresis_compensation = False\n",
    "# if input(\"Are you sure that you want to use Hysteresis_compensation = %s? (y/n)\"%(Hysteresis_compensation))!=\"y\":\n",
    "#     raise ValueError(\"Please be verify the value of Hysteresis_compensation\")\n"
   ]
  },
  {
   "cell_type": "code",
   "execution_count": 4,
   "metadata": {
    "scrolled": false
   },
   "outputs": [],
   "source": [
    "# load model from previous XY calib \n",
    "# G2UV = Guider2UV(filename=previous_xy_mapping)\n",
    "# #changer de centre \n",
    "# G2UV.FieldP = LocalScienceMaskProjector(center=coordinates.SkyCoord(0.038940*u.deg, 1.394590*u.deg), rotation=(90-100)*u.deg, gamma=1)#QSO1\n",
    "# G2UV.FieldP = LocalScienceMaskProjector(center=coordinates.SkyCoord(0.1038940*u.deg, 1.594590*u.deg), rotation=(90-100)*u.deg, gamma=1)#QSO1\n",
    "\t\t\n",
    "\t\n",
    "# # eventually reset the guider-scmask rotation to 0 and magnification correction to 0.\n",
    "# G2UV.mask_rotation = 0.0*u.arcmin\n",
    "# G2UV.FieldP.gamma = 1. \n",
    "# G2UV.FieldP.radial_mag_polynomial = (42.26134, 0., 0.)\n",
    "# G2UV.FieldP.radial_mag_inv_polynomial = (1./42.26134, 0., 0.)\n",
    "# print(G2UV)\n",
    "\n",
    "# if you already know the approx angular distance between guidercenter and FOVcenter, set it:\n",
    "#G2UV.FOV_center_guider_coord = coordinates.SkyCoord(delta_x*u.deg, # x guider axis (x axis in guider local frame, see XYcalib figure)\n",
    "#                                                    delta_y*u.deg, # y guider axis (y axis guider local frame, see XYcalib figure)\n",
    "#                                                    frame = G2UV.GuiderP.localframe)\n",
    "\n",
    "# load targets\n",
    "F1 = Table.read(target_filename, format='ascii')\n",
    "\n",
    "# load mask-UVdetector mappings\n",
    "mask_det_map = Mapping(mask_det_map_file)\n",
    "\n",
    "# if input(\"Are you sure that these values make sense for %s: Theta=%s, center=%s? (y/n)\"%(Field, G2UV.FieldP.rotation, G2UV.FieldP.center))!=\"y\":\n",
    "#     raise ValueError(\"Please verify the initialization mapping\")\n",
    "\n"
   ]
  },
  {
   "cell_type": "markdown",
   "metadata": {},
   "source": [
    "## Alternative initialisation for new fields:\n",
    "---------------------------------------"
   ]
  },
  {
   "cell_type": "code",
   "execution_count": 5,
   "metadata": {
    "scrolled": false
   },
   "outputs": [
    {
     "name": "stdout",
     "output_type": "stream",
     "text": [
      "FOV center angular position in guider <SkyCoord (SkyOffsetICRS: rotation=0.0 deg, origin=<ICRS Coordinate: (ra, dec) in deg\n",
      "    (250.42402654, 36.43499699)>): (lon, lat) in deg\n",
      "    (0.18212015, -0.00658703)>\n",
      "FOV center pixel position in guider [array(1356.48459465), array(515.54397687)]\n"
     ]
    }
   ],
   "source": [
    "\n",
    "f_ra, f_dec, f_rot = 0.038940, 1.394590, 90-100\n",
    "Field_center=coordinates.SkyCoord(f_ra * u.deg, f_dec * u.deg)\n",
    "# get FOVcenter & guider wcs from another field\n",
    "#  put pkl from a functionning mapping from another field\n",
    "G2UVother = Guider2UV(filename=previous_xy_mapping)\n",
    "FOVcenter = G2UVother.FOV_center_guider_coord\n",
    "guider_wcs = G2UVother.GuiderP.w\n",
    "G2UV = Guider2UV(Field_center=Field_center,\n",
    "                 Field_rotation= f_rot * u.deg,\n",
    "                 Field_gamma=1.0,  # platescale correction (need to update the polynomial in the MaskAstrometry.py)\n",
    "                 FOVcenter_guider_coord=FOVcenter,\n",
    "                 guider_wcs = guider_wcs,\n",
    "                 )\n",
    "                 \n"
   ]
  },
  {
   "cell_type": "markdown",
   "metadata": {},
   "source": [
    "## 1-  Rotate mask carousel\n",
    "## 2- Diffuse UV image"
   ]
  },
  {
   "cell_type": "markdown",
   "metadata": {},
   "source": [
    "Copy the offset from [this spreadsheet step \"Compute offsets with previous diffuse illumination image\"](https://docs.google.com/spreadsheets/d/19jO0fZ0FL0zZKt8IgJ_DMlZrbCD0VXpYVeulKzXtHzY/edit#gid=0)"
   ]
  },
  {
   "cell_type": "code",
   "execution_count": 6,
   "metadata": {},
   "outputs": [],
   "source": [
    "# This offset in X and Y should be positive if the slit position in tghe new image appears to be shifted towards the top right\n",
    "diffuse_offset = np.array([0.6,1.4])\n",
    "G2UV.set_detector_mapping(mask_det_map, offsets = diffuse_offset+1) #+1 offset is to account for DS9 vs python offset\n",
    "direct_map = lambda w, x, y: mask_det_map.map(w, x, y) + diffuse_offset\n",
    "inv_map = lambda w, x, y: mask_det_map.inv_map(w, x - diffuse_offset[0], y - diffuse_offset[1])"
   ]
  },
  {
   "cell_type": "markdown",
   "metadata": {},
   "source": [
    "## 3 - Set guider at best focus          \n",
    "## 4 - Align siderostat frames           \n",
    "## 5 - Go to guider reference            \n",
    "## 6 - Set UV/guider best focus offset   \n",
    "## 7 - Rotate mask carousel              \n",
    "## 8 - Through focus in UV               \n",
    "## 9 - Note open-mask guider ref point   \n",
    "    \n",
    "\n",
    "## 10 - Go through the list of slits      \n",
    "\n",
    "['23', '36', '2', '13', '32', '11',\"4\"]\n",
    "\n",
    "Here we struggled to find the good path because of faint 202/206 lines and of shadow of fiber holder"
   ]
  },
  {
   "cell_type": "code",
   "execution_count": 7,
   "metadata": {},
   "outputs": [
    {
     "data": {
      "image/png": "[encoded data removed]",
      "text/plain": [
       "<Figure size 720x432 with 1 Axes>"
      ]
     },
     "metadata": {
      "needs_background": "light"
     },
     "output_type": "display_data"
    },
    {
     "data": {
      "text/html": [
       "<div><i>Table length=9</i>\n",
       "<table id=\"table140196465201648\" class=\"table-striped table-bordered table-condensed\">\n",
       "<thead><tr><th>Internal-count</th><th>x_mm</th><th>y_mm</th><th>RA</th><th>DEC</th><th>ra_diff</th><th>dec_diff</th><th>angular_distance</th></tr></thead>\n",
       "<thead><tr><th>str2</th><th>float64</th><th>float64</th><th>float64</th><th>float64</th><th>float64</th><th>float64</th><th>float64</th></tr></thead>\n",
       "<tr><td>17</td><td>1.4615027187835672</td><td>-0.6202302818514861</td><td>22.45386</td><td>0.59717</td><td>-372.0397917012561</td><td>-83.9160000000002</td><td>381.386289298808</td></tr>\n",
       "<tr><td>6</td><td>5.226252100742708</td><td>1.798431981021356</td><td>22.55721</td><td>0.62048</td><td>80259.99347189153</td><td>-3148.164</td><td>80321.71243617113</td></tr>\n",
       "<tr><td>14</td><td>9.978798853783994</td><td>2.541725765588142</td><td>0.26145999999999997</td><td>1.4949700000000001</td><td>-1264556.2446597973</td><td>12282.283656</td><td>1264615.8904584013</td></tr>\n",
       "<tr><td>1</td><td>-8.71595571546094</td><td>-2.5953305828987903</td><td>351.646688302</td><td>-1.91677546</td><td>1212301.7976884702</td><td>-7141.987656</td><td>1212322.8351665966</td></tr>\n",
       "<tr><td>16</td><td>3.734748022927276</td><td>2.000933456045201</td><td>14.70766</td><td>0.06711</td><td>1235.3391526054388</td><td>329.32800000000003</td><td>1278.4833802376643</td></tr>\n",
       "<tr><td>7</td><td>-11.196029780247189</td><td>0.7110298929269409</td><td>14.364510000000001</td><td>-0.02437</td><td>-782.5319292155341</td><td>13.428000000000003</td><td>782.6471308487534</td></tr>\n",
       "<tr><td>10</td><td>-2.197612879210593</td><td>-1.0379506376223713</td><td>14.581879999999998</td><td>-0.0281</td><td>-1213381.354398507</td><td>6722.007912</td><td>1213399.9738718986</td></tr>\n",
       "<tr><td>0</td><td>-9.3221927436972</td><td>-1.689798368899516</td><td>351.63229675699995</td><td>-1.89532442</td><td>1212265.1211346844</td><td>-7064.763911999999</td><td>1212285.7067576204</td></tr>\n",
       "<tr><td>16</td><td>3.734748022927276</td><td>2.000933456045201</td><td>14.70766</td><td>0.06711</td><td>0.0</td><td>0.0</td><td>0.0</td></tr>\n",
       "</table></div>"
      ],
      "text/plain": [
       "<Table length=9>\n",
       "Internal-count         x_mm        ...      dec_diff       angular_distance \n",
       "     str2            float64       ...      float64            float64      \n",
       "-------------- ------------------- ... ------------------ ------------------\n",
       "            17  1.4615027187835672 ...  -83.9160000000002   381.386289298808\n",
       "             6   5.226252100742708 ...          -3148.164  80321.71243617113\n",
       "            14   9.978798853783994 ...       12282.283656 1264615.8904584013\n",
       "             1   -8.71595571546094 ...       -7141.987656 1212322.8351665966\n",
       "            16   3.734748022927276 ... 329.32800000000003 1278.4833802376643\n",
       "             7 -11.196029780247189 ... 13.428000000000003  782.6471308487534\n",
       "            10  -2.197612879210593 ...        6722.007912 1213399.9738718986\n",
       "             0    -9.3221927436972 ... -7064.763911999999 1212285.7067576204\n",
       "            16   3.734748022927276 ...                0.0                0.0"
      ]
     },
     "execution_count": 7,
     "metadata": {},
     "output_type": "execute_result"
    }
   ],
   "source": [
    "slits =['17', '6', '14', '1', '16', '7',\"10\",\"0\",\"16\"]\n",
    "F1['Internal-count'] = F1['Internal-count'].astype(str)\n",
    "\n",
    "F1p = F1.to_pandas()\n",
    "from functools import reduce\n",
    "import warnings\n",
    "warnings.simplefilter(action='ignore', category=FutureWarning)\n",
    "\n",
    "# selected_slits = F1[mask.values]['Internal-count',\"x_mm\",\"y_mm\",\"ra\",\"dec\"]\n",
    "selected_slits = Table.from_pandas((reduce(pd.DataFrame.append, map(lambda i: F1p[F1p['Internal-count'] == i],slits))))\n",
    "ra,dec = \"RA\", \"DEC\"\n",
    "x,y = \"x_mm\",\"y_mm\"\n",
    "plt.figure(figsize=(10,6))\n",
    "plt.plot(F1[x],F1[y],\"x\")\n",
    "plt.plot(selected_slits[x],selected_slits[y],\"-o\")\n",
    "for s in selected_slits:\n",
    "    plt.text(s[x],s[y],s[\"Internal-count\"])\n",
    "plt.xlabel(\"x_mm\")\n",
    "plt.ylabel(\"y_mm\")\n",
    "plt.title(\"Do you want to use these slits: %s\"%(slits))\n",
    "plt.show()\n",
    "\n",
    "selected_slits = selected_slits['Internal-count',x,y,ra,dec]\n",
    "slit_path = selected_slits# vstack((selected_slits,selected_slits[::-1]) )\n",
    "slit_path[\"ra_diff\"] = list((slit_path[ra][:-1] - slit_path[ra][1:])*np.cos(slit_path[dec][:-1]*np.pi/180)) + [0]\n",
    "slit_path[\"dec_diff\"] = list((slit_path[dec][:-1] - slit_path[dec][1:])) + [0]\n",
    "\n",
    "slit_path[\"ra_diff\"] *= 3600\n",
    "slit_path[\"dec_diff\"] *= 3600\n",
    "slit_path[\"angular_distance\"] = np.sqrt(slit_path[\"ra_diff\"]** 2 + slit_path[\"dec_diff\"]** 2)\n",
    "try:\n",
    "    slit_path.to_pandas().to_clipboard()\n",
    "except Exception:\n",
    "    pass\n",
    "slit_path"
   ]
  },
  {
   "cell_type": "markdown",
   "metadata": {},
   "source": [
    "The slits table has been copied. Add it to the [slit tab of this spreadsheet](https://docs.google.com/spreadsheets/d/19jO0fZ0FL0zZKt8IgJ_DMlZrbCD0VXpYVeulKzXtHzY/edit#gid=0)"
   ]
  },
  {
   "cell_type": "code",
   "execution_count": 8,
   "metadata": {},
   "outputs": [
    {
     "name": "stdout",
     "output_type": "stream",
     "text": [
      "slit position in mm on mask: [ 1.46150272 -0.62023028]\n",
      "slit position in mm on mask: [5.2262521  1.79843198]\n",
      "slit position in mm on mask: [9.97879885 2.54172577]\n",
      "slit position in mm on mask: [-8.71595572 -2.59533058]\n",
      "slit position in mm on mask: [3.73474802 2.00093346]\n",
      "slit position in mm on mask: [-11.19602978   0.71102989]\n",
      "slit position in mm on mask: [-2.19761288 -1.03795064]\n",
      "slit position in mm on mask: [-9.32219274 -1.68979837]\n",
      "slit position in mm on mask: [3.73474802 2.00093346]\n",
      "\n",
      "targets local coords in siderostat local frame:\n",
      "EL: 300.3 arcsec ; CE: 72.0 arcsec\n",
      "EL: 402.9 arcsec ; CE: 227.9 arcsec\n",
      "EL: 434.6 arcsec ; CE: 425.1 arcsec\n",
      "EL: 216.3 arcsec ; CE: -349.6 arcsec\n",
      "EL: 411.5 arcsec ; CE: 166.1 arcsec\n",
      "EL: 356.8 arcsec ; CE: -452.7 arcsec\n",
      "EL: 282.5 arcsec ; CE: -79.4 arcsec\n",
      "EL: 254.8 arcsec ; CE: -374.8 arcsec\n",
      "EL: 411.5 arcsec ; CE: 166.1 arcsec\n",
      "\n",
      "siderostat moves sequence: \n",
      "(They have been copied to clipboard, paste it in the spreadsheet)\n"
     ]
    },
    {
     "data": {
      "text/html": [
       "<div>\n",
       "<style scoped>\n",
       "    .dataframe tbody tr th:only-of-type {\n",
       "        vertical-align: middle;\n",
       "    }\n",
       "\n",
       "    .dataframe tbody tr th {\n",
       "        vertical-align: top;\n",
       "    }\n",
       "\n",
       "    .dataframe thead th {\n",
       "        text-align: right;\n",
       "    }\n",
       "</style>\n",
       "<table border=\"1\" class=\"dataframe\">\n",
       "  <thead>\n",
       "    <tr style=\"text-align: right;\">\n",
       "      <th></th>\n",
       "      <th>EL</th>\n",
       "      <th>CE</th>\n",
       "      <th>UV_image</th>\n",
       "      <th>EL_abs</th>\n",
       "      <th>CE_abs</th>\n",
       "    </tr>\n",
       "  </thead>\n",
       "  <tbody>\n",
       "    <tr>\n",
       "      <th>0</th>\n",
       "      <td>300.260314</td>\n",
       "      <td>71.999466</td>\n",
       "      <td>True</td>\n",
       "      <td>300.260314</td>\n",
       "      <td>71.999466</td>\n",
       "    </tr>\n",
       "    <tr>\n",
       "      <th>1</th>\n",
       "      <td>102.663237</td>\n",
       "      <td>155.884580</td>\n",
       "      <td>True</td>\n",
       "      <td>402.923551</td>\n",
       "      <td>227.884046</td>\n",
       "    </tr>\n",
       "    <tr>\n",
       "      <th>2</th>\n",
       "      <td>31.676095</td>\n",
       "      <td>197.222960</td>\n",
       "      <td>True</td>\n",
       "      <td>434.599645</td>\n",
       "      <td>425.107007</td>\n",
       "    </tr>\n",
       "    <tr>\n",
       "      <th>3</th>\n",
       "      <td>-218.281676</td>\n",
       "      <td>-774.707915</td>\n",
       "      <td>True</td>\n",
       "      <td>216.317969</td>\n",
       "      <td>-349.600908</td>\n",
       "    </tr>\n",
       "    <tr>\n",
       "      <th>4</th>\n",
       "      <td>195.185846</td>\n",
       "      <td>515.707994</td>\n",
       "      <td>True</td>\n",
       "      <td>411.503815</td>\n",
       "      <td>166.107085</td>\n",
       "    </tr>\n",
       "    <tr>\n",
       "      <th>5</th>\n",
       "      <td>-54.698129</td>\n",
       "      <td>-618.763811</td>\n",
       "      <td>True</td>\n",
       "      <td>356.805687</td>\n",
       "      <td>-452.656725</td>\n",
       "    </tr>\n",
       "    <tr>\n",
       "      <th>6</th>\n",
       "      <td>-74.272735</td>\n",
       "      <td>373.229554</td>\n",
       "      <td>True</td>\n",
       "      <td>282.532952</td>\n",
       "      <td>-79.427171</td>\n",
       "    </tr>\n",
       "    <tr>\n",
       "      <th>7</th>\n",
       "      <td>-27.751784</td>\n",
       "      <td>-295.332400</td>\n",
       "      <td>True</td>\n",
       "      <td>254.781168</td>\n",
       "      <td>-374.759571</td>\n",
       "    </tr>\n",
       "    <tr>\n",
       "      <th>8</th>\n",
       "      <td>156.722647</td>\n",
       "      <td>540.866656</td>\n",
       "      <td>True</td>\n",
       "      <td>411.503815</td>\n",
       "      <td>166.107085</td>\n",
       "    </tr>\n",
       "  </tbody>\n",
       "</table>\n",
       "</div>"
      ],
      "text/plain": [
       "           EL          CE  UV_image      EL_abs      CE_abs\n",
       "0  300.260314   71.999466      True  300.260314   71.999466\n",
       "1  102.663237  155.884580      True  402.923551  227.884046\n",
       "2   31.676095  197.222960      True  434.599645  425.107007\n",
       "3 -218.281676 -774.707915      True  216.317969 -349.600908\n",
       "4  195.185846  515.707994      True  411.503815  166.107085\n",
       "5  -54.698129 -618.763811      True  356.805687 -452.656725\n",
       "6  -74.272735  373.229554      True  282.532952  -79.427171\n",
       "7  -27.751784 -295.332400      True  254.781168 -374.759571\n",
       "8  156.722647  540.866656      True  411.503815  166.107085"
      ]
     },
     "execution_count": 8,
     "metadata": {},
     "output_type": "execute_result"
    }
   ],
   "source": [
    "moves, flags, slit_coords = G2UV.compute_autocoll_moves_slits(slits, F1, hystcomp = Hysteresis_compensation)\n",
    "moves = pd.DataFrame(np.hstack((moves,flags[:,None])), columns=[\"EL\",\"CE\",\"UV_image\"])#,dtype=[(\"EL\",float),(\"CE\",float),(\"UV_image\",float)])\n",
    "# assert moves.sum(axis=0)[0] <0.1\n",
    "# assert moves.sum(axis=0)[1] <0.1\n",
    "moves[\"UV_image\"] = moves[\"UV_image\"].astype(bool)\n",
    "moves[\"EL_abs\"] =  [np.sum(moves[\"EL\"][:i+1]) for i in range(len(moves))]\n",
    "moves[\"CE_abs\"] = [np.sum(moves[\"CE\"][:i+1]) for i in range(len(moves))]\n",
    "\n",
    "# slit_path['lon'] = [s.lon.deg*3600 for s in slits_coord]\n",
    "# slit_path['lat'] =  [s.lat.deg*3600 for s in slits_coord]\n",
    "# slit_path\n",
    "print(\"(They have been copied to clipboard, paste it in the spreadsheet)\")\n",
    "moves.to_clipboard()\n",
    "moves \n",
    "# if ~Hysteresis_compensation:\n",
    "#     print(\"Carefull, with Hysteresis_compensation==%s the last move to return to the guider is not given. You just need to do -∑all moves\"%(Hysteresis_compensation))\n",
    "#     print(\"You should then add EL=%0.4f and CE=%0.4f\"%(moves.sum(axis=0)[0],moves.sum(axis=0)[1]))\n"
   ]
  },
  {
   "cell_type": "markdown",
   "metadata": {},
   "source": [
    "The moves has been copied. Add it to the [moves tab of this spreadsheet](https://docs.google.com/spreadsheets/d/19jO0fZ0FL0zZKt8IgJ_DMlZrbCD0VXpYVeulKzXtHzY/edit#gid=0)"
   ]
  },
  {
   "cell_type": "markdown",
   "metadata": {},
   "source": [
    "Copy below the observed slits position from the [slit tab of this spreadsheet](https://docs.google.com/spreadsheets/d/19jO0fZ0FL0zZKt8IgJ_DMlZrbCD0VXpYVeulKzXtHzY/edit#gid=0)"
   ]
  },
  {
   "cell_type": "code",
   "execution_count": 9,
   "metadata": {},
   "outputs": [
    {
     "ename": "NameError",
     "evalue": "name 'slits_coord_obs_det' is not defined",
     "output_type": "error",
     "traceback": [
      "\u001b[0;31m---------------------------------------------------------------------------\u001b[0m",
      "\u001b[0;31mNameError\u001b[0m                                 Traceback (most recent call last)",
      "\u001b[1;32m/Users/Vincent/Github/FireBallPipe/Notebook/XY_2022_QSO_1_220718.ipynb Cellule 19\u001b[0m in \u001b[0;36m<cell line: 2>\u001b[0;34m()\u001b[0m\n\u001b[1;32m      <a href='vscode-notebook-cell:/Users/Vincent/Github/FireBallPipe/Notebook/XY_2022_QSO_1_220718.ipynb#ch0000041?line=0'>1</a>\u001b[0m fig, (ax0,ax1) \u001b[39m=\u001b[39m plt\u001b[39m.\u001b[39msubplots(\u001b[39m1\u001b[39m,\u001b[39m2\u001b[39m)\n\u001b[0;32m----> <a href='vscode-notebook-cell:/Users/Vincent/Github/FireBallPipe/Notebook/XY_2022_QSO_1_220718.ipynb#ch0000041?line=1'>2</a>\u001b[0m ax0\u001b[39m.\u001b[39mplot(slits_coord_obs_det[:,\u001b[39m1\u001b[39m]\u001b[39m-\u001b[39mslits_coord_obs_det[:,\u001b[39m1\u001b[39m]\u001b[39m.\u001b[39mmean(),slits_coord_obs_det[:,\u001b[39m0\u001b[39m]\u001b[39m-\u001b[39mslits_coord_obs_det[:,\u001b[39m0\u001b[39m]\u001b[39m.\u001b[39mmean(),\u001b[39m\"\u001b[39m\u001b[39mo\u001b[39m\u001b[39m\"\u001b[39m)\n\u001b[1;32m      <a href='vscode-notebook-cell:/Users/Vincent/Github/FireBallPipe/Notebook/XY_2022_QSO_1_220718.ipynb#ch0000041?line=2'>3</a>\u001b[0m ax1\u001b[39m.\u001b[39mplot(\u001b[39m-\u001b[39m\u001b[39m46\u001b[39m\u001b[39m*\u001b[39mselected_slits[\u001b[39m\"\u001b[39m\u001b[39mx_mm\u001b[39m\u001b[39m\"\u001b[39m],\u001b[39m46\u001b[39m\u001b[39m*\u001b[39mselected_slits[\u001b[39m\"\u001b[39m\u001b[39my_mm\u001b[39m\u001b[39m\"\u001b[39m],\u001b[39m\"\u001b[39m\u001b[39mo\u001b[39m\u001b[39m\"\u001b[39m)\n\u001b[1;32m      <a href='vscode-notebook-cell:/Users/Vincent/Github/FireBallPipe/Notebook/XY_2022_QSO_1_220718.ipynb#ch0000041?line=3'>4</a>\u001b[0m ax1\u001b[39m.\u001b[39mplot(slits_coord_obs_det[:,\u001b[39m1\u001b[39m]\u001b[39m-\u001b[39mslits_coord_obs_det[:,\u001b[39m1\u001b[39m]\u001b[39m.\u001b[39mmean(),slits_coord_obs_det[:,\u001b[39m0\u001b[39m]\u001b[39m-\u001b[39mslits_coord_obs_det[:,\u001b[39m0\u001b[39m]\u001b[39m.\u001b[39mmean(),\u001b[39m\"\u001b[39m\u001b[39mo\u001b[39m\u001b[39m\"\u001b[39m)\n",
      "\u001b[0;31mNameError\u001b[0m: name 'slits_coord_obs_det' is not defined"
     ]
    },
    {
     "data": {
      "image/png": "[encoded data removed]",
      "text/plain": [
       "<Figure size 432x288 with 2 Axes>"
      ]
     },
     "metadata": {
      "needs_background": "light"
     },
     "output_type": "display_data"
    }
   ],
   "source": [
    "# fig, (ax0,ax1) = plt.subplots(1,2)\n",
    "# ax0.plot(slits_coord_obs_det[:,1]-slits_coord_obs_det[:,1].mean(),slits_coord_obs_det[:,0]-slits_coord_obs_det[:,0].mean(),\"o\")\n",
    "# ax1.plot(-46*selected_slits[\"x_mm\"],46*selected_slits[\"y_mm\"],\"o\")\n",
    "# ax1.plot(slits_coord_obs_det[:,1]-slits_coord_obs_det[:,1].mean(),slits_coord_obs_det[:,0]-slits_coord_obs_det[:,0].mean(),\"o\")\n"
   ]
  },
  {
   "cell_type": "code",
   "execution_count": 13,
   "metadata": {},
   "outputs": [
    {
     "name": "stdout",
     "output_type": "stream",
     "text": [
      "wave:  0.20619\n"
     ]
    },
    {
     "data": {
      "text/plain": [
       "[<SkyCoord (SkyOffsetICRS: rotation=0.0 deg, origin=<ICRS Coordinate: (ra, dec) in deg\n",
       "     (250.42402654, 36.43499699)>): (lon, lat) in deg\n",
       "     [(0.16767546, -0.00201992)]>,\n",
       " <SkyCoord (SkyOffsetICRS: rotation=0.0 deg, origin=<ICRS Coordinate: (ra, dec) in deg\n",
       "     (250.42402654, 36.43499699)>): (lon, lat) in deg\n",
       "     [(0.2267033, -0.08758828)]>,\n",
       " <SkyCoord (SkyOffsetICRS: rotation=0.0 deg, origin=<ICRS Coordinate: (ra, dec) in deg\n",
       "     (250.42402654, 36.43499699)>): (lon, lat) in deg\n",
       "     [(0.24517405, -0.19696053)]>,\n",
       " <SkyCoord (SkyOffsetICRS: rotation=0.0 deg, origin=<ICRS Coordinate: (ra, dec) in deg\n",
       "     (250.42402654, 36.43499699)>): (lon, lat) in deg\n",
       "     [(0.11480392, 0.22817731)]>,\n",
       " <SkyCoord (SkyOffsetICRS: rotation=0.0 deg, origin=<ICRS Coordinate: (ra, dec) in deg\n",
       "     (250.42402654, 36.43499699)>): (lon, lat) in deg\n",
       "     [(0.23033261, -0.05289553)]>,\n",
       " <SkyCoord (SkyOffsetICRS: rotation=0.0 deg, origin=<ICRS Coordinate: (ra, dec) in deg\n",
       "     (250.42402654, 36.43499699)>): (lon, lat) in deg\n",
       "     [(0.19097852, 0.2883585)]>,\n",
       " <SkyCoord (SkyOffsetICRS: rotation=0.0 deg, origin=<ICRS Coordinate: (ra, dec) in deg\n",
       "     (250.42402654, 36.43499699)>): (lon, lat) in deg\n",
       "     [(0.15562196, 0.0819508)]>,\n",
       " <SkyCoord (SkyOffsetICRS: rotation=0.0 deg, origin=<ICRS Coordinate: (ra, dec) in deg\n",
       "     (250.42402654, 36.43499699)>): (lon, lat) in deg\n",
       "     [(0.13474631, 0.24439254)]>,\n",
       " <SkyCoord (SkyOffsetICRS: rotation=0.0 deg, origin=<ICRS Coordinate: (ra, dec) in deg\n",
       "     (250.42402654, 36.43499699)>): (lon, lat) in deg\n",
       "     [(0.23034944, -0.05348024)]>]"
      ]
     },
     "execution_count": 13,
     "metadata": {},
     "output_type": "execute_result"
    }
   ],
   "source": [
    "\n",
    "slits_coord_obs_det = np.array([\n",
    "[ 1616.5,\t1042.5 ],\n",
    "[ 1778.5,\t756.5  ],\n",
    "[ 1830.5,\t400.5  ],\n",
    "[ 1494.5,\t1808.9  ],\n",
    "[ 1791.4,\t868.4  ],\n",
    "[ 1717.4,\t1992.6  ],\n",
    "[ 1590.5,\t1316.6  ],\n",
    "[ 1553.5,\t1854.4  ],\n",
    "[ 1791.4,\t866.5  ]]) \n",
    "\n",
    "\n",
    "valid = np.isfinite(slits_coord_obs_det[:,0])\n",
    "obs_wave = 0.20619\n",
    "print(\"wave: \", obs_wave)\n",
    "slits_coord_valid = [slit_coords[i] for i in np.nonzero(valid)[0]]\n",
    "# slits_valid = slits[valid]\n",
    "slits_coord_obs = G2UV.detector2guider(slits_coord_obs_det, wave=obs_wave, angle=True  )\n",
    "slits_coord_obs\n",
    "\n",
    "# if input(\"Are you sure you computed the barycenter on the line %s? Remember that it's better to use 206 line to probe a bigger part of the detector. It might require gain and longer exposure though. Be sure to always compute the centroid on the same line. (y/n)\"%(obs_wave))!=\"y\":\n",
    "#     raise ValueError(\"Please change obs_wave parameter (c)\")\n"
   ]
  },
  {
   "cell_type": "markdown",
   "metadata": {},
   "source": [
    "### look at siderostat frame hysteresis "
   ]
  },
  {
   "cell_type": "code",
   "execution_count": 10,
   "metadata": {},
   "outputs": [],
   "source": [
    "if Hysteresis_compensation:\n",
    "    mid  = len(slits_coord_obs_det)//2\n",
    "    pair_diff = slits_coord_obs_det[:mid] - slits_coord_obs_det[::-1][:mid]\n",
    "    moves_sign  = np.sign(moves[2:mid+2])\n",
    "    pair_diff_signed = pair_diff * moves_sign\n",
    "    valid = np.arange(len(moves_sign))#[0,2,3,4]\n",
    "    fig, (ax0,ax1) = plt.subplots(1,2)\n",
    "    ax0.plot(pair_diff_signed[valid,0],'*-')\n",
    "    ax0.set_title(\"El pair diff\")\n",
    "    ax0.set_ylabel(\"El arcsec\")\n",
    "    ax1.plot(pair_diff_signed[valid,1],'*-')\n",
    "    ax1.set_title(\"Ce pair diff\")\n",
    "    ax1.set_ylabel(\"Ce arcsec\")\n",
    "    fig.suptitle(\"Hysteresis analysis\")\n",
    "    fig.tight_layout()\n"
   ]
  },
  {
   "cell_type": "markdown",
   "metadata": {},
   "source": [
    "## 11- Note open-mask guider ref point\n",
    "## 12- Update model with observed slit positions"
   ]
  },
  {
   "cell_type": "code",
   "execution_count": 11,
   "metadata": {},
   "outputs": [
    {
     "ename": "NameError",
     "evalue": "name 'slits_coord_obs_det' is not defined",
     "output_type": "error",
     "traceback": [
      "\u001b[0;31m---------------------------------------------------------------------------\u001b[0m",
      "\u001b[0;31mNameError\u001b[0m                                 Traceback (most recent call last)",
      "\u001b[1;32m/Users/Vincent/Github/FireBallPipe/Notebook/XY_2022_QSO_1_220718.ipynb Cellule 24\u001b[0m in \u001b[0;36m<cell line: 1>\u001b[0;34m()\u001b[0m\n\u001b[0;32m----> <a href='vscode-notebook-cell:/Users/Vincent/Github/FireBallPipe/Notebook/XY_2022_QSO_1_220718.ipynb#ch0000022?line=0'>1</a>\u001b[0m slits_coord_obs_det\n\u001b[1;32m      <a href='vscode-notebook-cell:/Users/Vincent/Github/FireBallPipe/Notebook/XY_2022_QSO_1_220718.ipynb#ch0000022?line=1'>2</a>\u001b[0m slits_coord_obs \u001b[39m=\u001b[39m G2UV\u001b[39m.\u001b[39mdetector2guider(slits_coord_obs_det, wave\u001b[39m=\u001b[39mobs_wave, angle\u001b[39m=\u001b[39m\u001b[39mTrue\u001b[39;00m  )\n",
      "\u001b[0;31mNameError\u001b[0m: name 'slits_coord_obs_det' is not defined"
     ]
    }
   ],
   "source": [
    "# slits_coord_obs_det\n",
    "# slits_coord_obs = G2UV.detector2guider(slits_coord_obs_det, wave=obs_wave, angle=True  )\n"
   ]
  },
  {
   "cell_type": "code",
   "execution_count": 14,
   "metadata": {
    "collapsed": true
   },
   "outputs": [
    {
     "name": "stdout",
     "output_type": "stream",
     "text": [
      "Fitting rotation, translation and magnification\n",
      "gamma: 1.0307487897995826\n",
      "theta: -99.81284102886394 arcmin\n",
      "dx: -15.860852251810309 arcsec\n",
      "dy: -115.91233905287919 arcsec\n",
      "variances: [5.39474522e-04 1.85457680e+00 4.98305186e-01 4.98305186e-01]\n",
      "\n",
      "residuals in arcsec: [[-0.79385976  2.97191534]\n",
      " [ 2.62209627 -0.02775604]\n",
      " [-4.30792246 -2.10280016]\n",
      " [-2.59361661 -4.62828562]\n",
      " [ 2.68407505  1.10478642]\n",
      " [ 4.42653593 -1.78818651]\n",
      " [-0.64106925  4.16403679]\n",
      " [-4.14087955  1.30645919]\n",
      " [ 2.74464039 -1.00016942]]\n",
      "max residual in EL,CE 4.4, 4.6 arcsec\n",
      "mean residual in EL,CE 3.1, 2.6 arcsec\n"
     ]
    },
    {
     "data": {
      "image/png": "[encoded data removed]",
      "text/plain": [
       "<Figure size 864x504 with 2 Axes>"
      ]
     },
     "metadata": {
      "needs_background": "light"
     },
     "output_type": "display_data"
    },
    {
     "name": "stdout",
     "output_type": "stream",
     "text": [
      "After updating:\n",
      "    mask_rotation: -1.6635473504810656 deg\n",
      "    FOV center in guider: 1359.6497345325663 x 369.22049070077884 pix = 659.243085520259 arcsec x -159.3906848164758 arcsec arcsec\n",
      "    mask_magnification correction: 1.0307487897995826  \n",
      "    \n"
     ]
    }
   ],
   "source": [
    "slits_coord_obs = G2UV.detector2guider(slits_coord_obs_det, wave=obs_wave, angle=True  )\n",
    "weight = np.array( [1.]*16  + [1./(1. + 1e-1)]*16)\n",
    "G2UVcor, residuals = G2UV.update_model(slits_coord_valid, slits_coord_obs, plot=True, figsize=(12,7), labels=slits)\n"
   ]
  },
  {
   "cell_type": "markdown",
   "metadata": {},
   "source": [
    "### check updating without fitting magnification"
   ]
  },
  {
   "cell_type": "code",
   "execution_count": 16,
   "metadata": {},
   "outputs": [
    {
     "name": "stdout",
     "output_type": "stream",
     "text": [
      "\n",
      "Guider2UV object:\n",
      "    Local Field Projector: \n",
      "ScienceMaskProjector object:\n",
      "    LocalFrame: <SkyOffsetICRS Frame (rotation=-90.0 deg, origin=<ICRS Coordinate: (ra, dec) in deg\n",
      "    (32.19, -5.688)>)>\n",
      "    gamma: 1.0\n",
      "\n",
      "    Guider Field Projector: \n",
      "GuiderMaskProjector object:\n",
      "    LocalFrame: <SkyOffsetICRS Frame (rotation=0.0 deg, origin=<ICRS Coordinate: (ra, dec) in deg\n",
      "    (250.39272815, 36.41856381)>)>\n",
      "    wcs: WCS Keywords\n",
      "\n",
      "Number of WCS axes: 2\n",
      "CTYPE : 'RA---TAN-SIP'  'DEC--TAN-SIP'  \n",
      "CRVAL : 250.392728151  36.4185638082  \n",
      "CRPIX : 640.0  540.0  \n",
      "PC1_1 PC1_2  : 1.0  0.0  \n",
      "PC2_1 PC2_2  : 0.0  1.0  \n",
      "CDELT : 0.00024551548564194  0.00024661678545423  \n",
      "NAXIS : 0  0\n",
      "\n",
      "    mask_rotation: 0.0 arcmin\n",
      "    FOV center in guider: 1378.693979871492x218.8622925672349 pix\n",
      "\n"
     ]
    }
   ],
   "source": [
    "G2UVtest=G2UV.copy()\n",
    "G2UVtest.FieldP.radial_mag_polynomial = (42.26134, 0., 0.)\n",
    "G2UVtest.FieldP.radial_mag_inv_polynomial = (1./42.26134, 0., 0.)\n",
    "G2UVtest.FieldP.gamma = 1.\n",
    "print(G2UVtest)"
   ]
  },
  {
   "cell_type": "code",
   "execution_count": 17,
   "metadata": {},
   "outputs": [
    {
     "name": "stdout",
     "output_type": "stream",
     "text": [
      "Fitting rotation, translation and magnification\n",
      "gamma: 1.0232833033079378\n",
      "theta: -2.0637580783996947 arcmin\n",
      "dx: 4.437276448568153 arcsec\n",
      "dy: 143.25463394034085 arcsec\n",
      "variances: [6.11843078e-04 2.10336157e+00 5.00674651e-01 5.00674651e-01]\n",
      "\n",
      "residuals in arcsec: [[  1.9657011   -1.71084236]\n",
      " [ -0.01330166   2.84150477]\n",
      " [ -7.2949686    6.7729117 ]\n",
      " [  2.47269373  -3.13469606]\n",
      " [  2.4098009    3.81370921]\n",
      " [ -5.181121     3.22448209]\n",
      " [  5.64119552 -11.80706935]]\n",
      "max residual in EL,CE 7.3, 11.8 arcsec\n",
      "mean residual in EL,CE 4.3, 5.7 arcsec\n"
     ]
    },
    {
     "data": {
      "image/png": "[encoded data removed]",
      "text/plain": [
       "<Figure size 1152x432 with 2 Axes>"
      ]
     },
     "metadata": {
      "needs_background": "light"
     },
     "output_type": "display_data"
    },
    {
     "name": "stdout",
     "output_type": "stream",
     "text": [
      "After updating:\n",
      "    mask_rotation: -2.0637580783996947 arcmin\n",
      "    FOV center in guider: 1398.4762460299144 x 365.8956797724491 pix = 690.9515191289703 arcsec x -162.34450625985818 arcsec arcsec\n",
      "    mask_magnification correction: 1.0232833033079378  \n",
      "    \n"
     ]
    }
   ],
   "source": [
    "G2UVcor_test, residuals = G2UVtest.update_model(slits_coord_valid, slits_coord_obs, labels=slits, plot=True, figsize=(16,6), gamma=True)\n"
   ]
  },
  {
   "cell_type": "markdown",
   "metadata": {},
   "source": [
    "### save corrected model for future use (eg redo the calib on same field)"
   ]
  },
  {
   "cell_type": "code",
   "execution_count": 18,
   "metadata": {},
   "outputs": [
    {
     "name": "stdout",
     "output_type": "stream",
     "text": [
      "Dumping to Calibration/Mappings/2022/XY/F4_XY_220715.pkl\n"
     ]
    }
   ],
   "source": [
    "G2UVcor.save(filename=\"Calibration/Mappings/2022/XY/F4_XY_220715.pkl\")"
   ]
  },
  {
   "cell_type": "markdown",
   "metadata": {},
   "source": [
    "## 13 - Rotate carousel to science mask\n",
    "## 14 - Note open-mask guider ref point\n",
    "## 15 - Check corrected model through science mask"
   ]
  },
  {
   "cell_type": "code",
   "execution_count": 27,
   "metadata": {},
   "outputs": [
    {
     "name": "stdout",
     "output_type": "stream",
     "text": [
      "slit position in mm on mask: [ 1.46150272 -0.62023028]\n",
      "slit position in mm on mask: [5.2262521  1.79843198]\n",
      "slit position in mm on mask: [9.97879885 2.54172577]\n",
      "slit position in mm on mask: [-8.71595572 -2.59533058]\n",
      "slit position in mm on mask: [3.73474802 2.00093346]\n",
      "slit position in mm on mask: [-11.19602978   0.71102989]\n",
      "slit position in mm on mask: [-2.19761288 -1.03795064]\n",
      "slit position in mm on mask: [-9.32219274 -1.68979837]\n",
      "slit position in mm on mask: [3.73474802 2.00093346]\n",
      "\n",
      "targets local coords in siderostat local frame:\n",
      "EL: 297.8 arcsec ; CE: 140.2 arcsec\n",
      "EL: 398.3 arcsec ; CE: 305.6 arcsec\n",
      "EL: 424.7 arcsec ; CE: 511.9 arcsec\n",
      "EL: 224.7 arcsec ; CE: -301.3 arcsec\n",
      "EL: 409.0 arcsec ; CE: 241.5 arcsec\n",
      "EL: 371.9 arcsec ; CE: -404.4 arcsec\n",
      "EL: 284.3 arcsec ; CE: -18.0 arcsec\n",
      "EL: 264.9 arcsec ; CE: -326.3 arcsec\n",
      "EL: 409.0 arcsec ; CE: 241.5 arcsec\n",
      "\n",
      "siderostat moves sequence: \n",
      "(They have been copied to clipboard, paste it in the spreadsheet)\n"
     ]
    },
    {
     "name": "stderr",
     "output_type": "stream",
     "text": [
      "/var/folders/m8/f6l41h_51qxdzrz8p1xqr3f80000gp/T/ipykernel_68075/3419102104.py:14: RuntimeWarning: divide by zero encountered in true_divide\n",
      "  new_cat[\"frame_divided_sky\"] = new_cat[\"Frame_angular_distance\"] / new_cat[\"angular_distance\"]\n",
      "/var/folders/m8/f6l41h_51qxdzrz8p1xqr3f80000gp/T/ipykernel_68075/3419102104.py:15: RuntimeWarning: divide by zero encountered in true_divide\n",
      "  new_cat[\"EL_dec_ratio\"] =   new_cat[\"El_sky\"] / new_cat[\"dec_diff\"]\n",
      "/var/folders/m8/f6l41h_51qxdzrz8p1xqr3f80000gp/T/ipykernel_68075/3419102104.py:16: RuntimeWarning: divide by zero encountered in true_divide\n",
      "  new_cat[\"CE_ra_ratio\"] =   new_cat[\"Cel_sky\"] / new_cat[\"ra_diff\"]\n"
     ]
    },
    {
     "data": {
      "image/png": "[encoded data removed]",
      "text/plain": [
       "<Figure size 432x288 with 1 Axes>"
      ]
     },
     "metadata": {
      "needs_background": "light"
     },
     "output_type": "display_data"
    },
    {
     "data": {
      "text/html": [
       "<div><i>Table length=9</i>\n",
       "<table id=\"table140458196704464\" class=\"table-striped table-bordered table-condensed\">\n",
       "<thead><tr><th>Internal-count</th><th>x_mm</th><th>y_mm</th><th>RA</th><th>DEC</th><th>ra_diff</th><th>dec_diff</th><th>angular_distance</th><th>EL</th><th>CE</th><th>El_sky</th><th>Cel_sky</th><th>Frame_angular_distance</th><th>frame_divided_sky</th><th>EL_dec_ratio</th><th>CE_ra_ratio</th></tr></thead>\n",
       "<thead><tr><th>str2</th><th>float64</th><th>float64</th><th>float64</th><th>float64</th><th>float64</th><th>float64</th><th>float64</th><th>float64</th><th>float64</th><th>float64</th><th>float64</th><th>float64</th><th>float64</th><th>float64</th><th>float64</th></tr></thead>\n",
       "<tr><td>17</td><td>1.4615027187835672</td><td>-0.6202302818514861</td><td>22.45386</td><td>0.59717</td><td>-372.0397917012561</td><td>-83.9160000000002</td><td>381.386289298808</td><td>297.7919974695289</td><td>140.23705464268224</td><td>600.9442508935092</td><td>285.7189751290008</td><td>665.4091413789921</td><td>1.7447117530165284</td><td>-7.161259484407119</td><td>-0.7679796126711899</td></tr>\n",
       "<tr><td>6</td><td>5.226252100742708</td><td>1.798431981021356</td><td>22.55721</td><td>0.62048</td><td>80259.99347189153</td><td>-3148.164</td><td>80321.71243617113</td><td>100.4764222565919</td><td>165.3606394294101</td><td>202.76142011380244</td><td>336.90576677348014</td><td>393.2145586976562</td><td>0.004895495212581904</td><td>-0.0644062444376476</td><td>0.004197679967311118</td></tr>\n",
       "<tr><td>14</td><td>9.978798853783994</td><td>2.541725765588142</td><td>0.26145999999999997</td><td>1.4949700000000001</td><td>-1264556.2446597973</td><td>12282.283656</td><td>1264615.8904584013</td><td>26.42875653378569</td><td>206.30302667371635</td><td>53.33323068517952</td><td>420.3217865450297</td><td>423.6919137058484</td><td>0.00033503605079030554</td><td>0.0043422894454262</td><td>-0.00033238678652692795</td></tr>\n",
       "<tr><td>1</td><td>-8.71595571546094</td><td>-2.5953305828987903</td><td>351.646688302</td><td>-1.91677546</td><td>1212301.7976884702</td><td>-7141.987656</td><td>1212322.8351665966</td><td>-200.04027652503973</td><td>-813.1550312664975</td><td>-403.68127802753014</td><td>-1656.722060702362</td><td>1705.193995018696</td><td>0.0014065510815725658</td><td>0.05652225927447474</td><td>-0.0013665921009613944</td></tr>\n",
       "<tr><td>16</td><td>3.734748022927276</td><td>2.000933456045201</td><td>14.70766</td><td>0.06711</td><td>1235.3391526054388</td><td>329.32800000000003</td><td>1278.4833802376643</td><td>184.3027561672958</td><td>542.7788706010771</td><td>371.9229619456029</td><td>1105.8576709626343</td><td>1166.7252795963977</td><td>0.9125854098936419</td><td>1.1293390235437097</td><td>0.8951854789272107</td></tr>\n",
       "<tr><td>7</td><td>-11.196029780247189</td><td>0.7110298929269409</td><td>14.364510000000001</td><td>-0.02437</td><td>-782.5319292155341</td><td>13.428000000000003</td><td>782.6471308487534</td><td>-37.10665977405397</td><td>-645.9280310236535</td><td>-74.88123942404091</td><td>-1316.0137704075914</td><td>1318.1424217132553</td><td>1.6842103800773869</td><td>-5.576499808165095</td><td>1.681738113519352</td></tr>\n",
       "<tr><td>10</td><td>-2.197612879210593</td><td>-1.0379506376223713</td><td>14.581879999999998</td><td>-0.0281</td><td>-1213381.354398507</td><td>6722.007912</td><td>1213399.9738718986</td><td>-87.59295146857987</td><td>386.4375531522258</td><td>-176.76257606359417</td><td>787.3278707923448</td><td>806.9263810429333</td><td>0.0006650126903069493</td><td>-0.026296097591322527</td><td>-0.0006488709159229138</td></tr>\n",
       "<tr><td>0</td><td>-9.3221927436972</td><td>-1.689798368899516</td><td>351.63229675699995</td><td>-1.89532442</td><td>1212265.1211346844</td><td>-7064.763911999999</td><td>1212285.7067576204</td><td>-19.3970179638917</td><td>-308.34643890739517</td><td>-39.143182251133446</td><td>-628.2250346299269</td><td>629.4433118657456</td><td>0.0005192202699058911</td><td>0.0055406214190181205</td><td>-0.0005182241274432659</td></tr>\n",
       "<tr><td>16</td><td>3.734748022927276</td><td>2.000933456045201</td><td>14.70766</td><td>0.06711</td><td>0.0</td><td>0.0</td><td>0.0</td><td>144.09662920652553</td><td>567.8369167788228</td><td>290.7869977387685</td><td>1156.9109342451734</td><td>1192.895631574685</td><td>inf</td><td>inf</td><td>inf</td></tr>\n",
       "</table></div>"
      ],
      "text/plain": [
       "<Table length=9>\n",
       "Internal-count         x_mm        ...       CE_ra_ratio      \n",
       "     str2            float64       ...         float64        \n",
       "-------------- ------------------- ... -----------------------\n",
       "            17  1.4615027187835672 ...     -0.7679796126711899\n",
       "             6   5.226252100742708 ...    0.004197679967311118\n",
       "            14   9.978798853783994 ... -0.00033238678652692795\n",
       "             1   -8.71595571546094 ...  -0.0013665921009613944\n",
       "            16   3.734748022927276 ...      0.8951854789272107\n",
       "             7 -11.196029780247189 ...       1.681738113519352\n",
       "            10  -2.197612879210593 ...  -0.0006488709159229138\n",
       "             0    -9.3221927436972 ...  -0.0005182241274432659\n",
       "            16   3.734748022927276 ...                     inf"
      ]
     },
     "execution_count": 27,
     "metadata": {},
     "output_type": "execute_result"
    }
   ],
   "source": [
    "moves, flags, slit_coords = G2UVcor.compute_autocoll_moves_slits(slits, F1, hystcomp = Hysteresis_compensation, CEg = CEg, Elg = Elg)\n",
    "moves = Table.from_pandas(pd.DataFrame(np.hstack((moves,flags[:,None])), columns=[\"EL\",\"CE\",\"UV_image\"]))\n",
    "print(\"(They have been copied to clipboard, paste it in the spreadsheet)\")\n",
    "moves.to_pandas().to_clipboard()\n",
    "moves\n",
    "\n",
    "# # new_cat = slit_path[:9]\n",
    "# new_cat[\"EL\"] = moves[\"EL\"][:]\n",
    "# new_cat[\"CE\"] = moves[\"CE\"][:]\n",
    "\n",
    "# new_cat[\"El_sky\"] = new_cat[\"EL\"]  * 2 * Elg \n",
    "# new_cat[\"Cel_sky\"] = new_cat[\"CE\"] * 2 * CEg \n",
    "# new_cat[\"Frame_angular_distance\"] = np.sqrt(new_cat[\"El_sky\"]**2 + new_cat[\"Cel_sky\"]**2)\n",
    "# new_cat[\"frame_divided_sky\"] = new_cat[\"Frame_angular_distance\"] / new_cat[\"angular_distance\"]\n",
    "# new_cat[\"EL_dec_ratio\"] =   new_cat[\"El_sky\"] / new_cat[\"dec_diff\"]\n",
    "# new_cat[\"CE_ra_ratio\"] =   new_cat[\"Cel_sky\"] / new_cat[\"ra_diff\"]\n",
    "# # new_cat\n",
    "# # new_cat.to_pandas().to_clipboard()\n",
    "\n",
    "# plt.figure()\n",
    "# plt.plot(new_cat[\"angular_distance\"],-new_cat[\"EL_dec_ratio\"],\"P\",label=\"El move / dec angular distance between targets\")\n",
    "# plt.plot(new_cat[\"angular_distance\"],-new_cat[\"CE_ra_ratio\"],\"X\",label=\"CE move / ra angular distance between targets\")\n",
    "# plt.plot(new_cat[\"angular_distance\"],new_cat[\"frame_divided_sky\"],\"o\",label=\"Sky angular move / angular distance between targets\")\n",
    "# plt.legend()\n",
    "# plt.show()\n",
    "# new_cat#[\"ra_diff\",\"dec_diff\",\"El_sky\",\"Cel_sky\",\"frame_divided_sky\",\"EL_dec_ratio\",\"CE_ra_ratio\"]#,\"EL_moves\",\"CE_moves\"\n"
   ]
  },
  {
   "cell_type": "markdown",
   "metadata": {},
   "source": [
    "The moves has been copied. Add it to the [moves tab of this spreadsheet](https://docs.google.com/spreadsheets/d/19jO0fZ0FL0zZKt8IgJ_DMlZrbCD0VXpYVeulKzXtHzY/edit#gid=0)"
   ]
  },
  {
   "cell_type": "markdown",
   "metadata": {},
   "source": [
    "Here we just wanted to do another try to verify that the least square gives consistent results"
   ]
  },
  {
   "cell_type": "code",
   "execution_count": 13,
   "metadata": {},
   "outputs": [
    {
     "name": "stdout",
     "output_type": "stream",
     "text": [
      "Fitting rotation, translation and magnification\n",
      "gamma: 0.9934876542772411\n",
      "theta: 66.27481528137125 arcmin\n",
      "dx: -2.381498379197922 arcsec\n",
      "dy: -17.052132923034883 arcsec\n",
      "variances: [5.39474522e-04 1.85457680e+00 4.98305186e-01 4.98305186e-01]\n",
      "\n",
      "residuals in arcsec: [[ -2.83665848  -2.38360588]\n",
      " [  3.60690433  -2.05288506]\n",
      " [ -2.71167861  -5.12662037]\n",
      " [ 49.89932748   3.95095895]\n",
      " [  1.81211867   1.61518766]\n",
      " [-22.28911316  -1.33853714]\n",
      " [ -9.22466124   2.03998768]\n",
      " [-20.19401981   1.67463414]\n",
      " [  1.93778085   1.62088002]]\n",
      "max residual in EL,CE 49.9, 5.1 arcsec\n",
      "mean residual in EL,CE 19.8, 2.7 arcsec\n"
     ]
    },
    {
     "data": {
      "image/png": "[encoded data removed]",
      "text/plain": [
       "<Figure size 1152x432 with 2 Axes>"
      ]
     },
     "metadata": {
      "needs_background": "light"
     },
     "output_type": "display_data"
    },
    {
     "name": "stdout",
     "output_type": "stream",
     "text": [
      "After updating:\n",
      "    mask_rotation: -0.5589670957915449 deg\n",
      "    FOV center in guider: 1355.824871340254 x 365.6054509688707 pix = 655.6411914995867 arcsec x -162.6955516020288 arcsec arcsec\n",
      "    mask_magnification correction: 1.0240361973270924  \n",
      "    \n"
     ]
    },
    {
     "data": {
      "text/plain": [
       "(<guider2UV.guider2UV.Guider2UV at 0x7f90a2ff5130>,\n",
       " array([[-0.00078796, -0.00066211],\n",
       "        [ 0.00100192, -0.00057025],\n",
       "        [-0.00075324, -0.00142406],\n",
       "        [ 0.01386092,  0.00109749],\n",
       "        [ 0.00050337,  0.00044866],\n",
       "        [-0.00619142, -0.00037182],\n",
       "        [-0.00256241,  0.00056666],\n",
       "        [-0.00560945,  0.00046518],\n",
       "        [ 0.00053827,  0.00045024]]))"
      ]
     },
     "execution_count": 13,
     "metadata": {},
     "output_type": "execute_result"
    }
   ],
   "source": [
    "slits_coord_obs_det = np.array([\n",
    "[ 1612.5,\t917.7  ],\n",
    "[ 1772.4,\t615.5 ],\n",
    "[ 1817.5,\t243.5  ],\n",
    "[ 1560.5\t,1721.4  ],\n",
    "[ 1788.4,\t732.5  ],\n",
    "[ 1738.5\t,1903.5  ],\n",
    "[ 1592.6\t,1205.5  ],\n",
    "[ 1569.6\t,1765.5  ],\n",
    "[ 1788.5,\t732.5  ]]) \n",
    "\n",
    "slits_coord_obs = G2UV.detector2guider(slits_coord_obs_det, wave=obs_wave, angle=True  )\n",
    "weight = np.array( [1.]*16  + [1./(1. + 1e-1)]*16)\n",
    "G2UVcor.update_model(slits_coord_valid, slits_coord_obs, plot=True, figsize=(16,6), labels=slits)\n",
    "\n",
    "\n"
   ]
  },
  {
   "cell_type": "markdown",
   "metadata": {},
   "source": [
    "\n",
    "## 16 - Note science-mask guider ref point\n",
    "## 17 - Go through the Star sequence \n",
    " [29, 34, 18, 14]\n",
    "we did not have the time to do this because G2UV was not well"
   ]
  },
  {
   "cell_type": "code",
   "execution_count": 23,
   "metadata": {},
   "outputs": [
    {
     "name": "stdout",
     "output_type": "stream",
     "text": [
      "\n",
      "targets local coords in siderostat local frame:\n",
      "EL: 5388.4 arcsec ; CE: 14741.8 arcsec\n",
      "EL: 5448.4 arcsec ; CE: 14623.4 arcsec\n",
      "EL: 5461.9 arcsec ; CE: 14634.3 arcsec\n",
      "EL: 5613.7 arcsec ; CE: 14680.4 arcsec\n",
      "EL: 5536.4 arcsec ; CE: 14699.5 arcsec\n",
      "\n",
      "siderostat moves sequence: \n"
     ]
    },
    {
     "data": {
      "text/html": [
       "<div>\n",
       "<style scoped>\n",
       "    .dataframe tbody tr th:only-of-type {\n",
       "        vertical-align: middle;\n",
       "    }\n",
       "\n",
       "    .dataframe tbody tr th {\n",
       "        vertical-align: top;\n",
       "    }\n",
       "\n",
       "    .dataframe thead th {\n",
       "        text-align: right;\n",
       "    }\n",
       "</style>\n",
       "<table border=\"1\" class=\"dataframe\">\n",
       "  <thead>\n",
       "    <tr style=\"text-align: right;\">\n",
       "      <th></th>\n",
       "      <th>EL</th>\n",
       "      <th>CE</th>\n",
       "      <th>Image</th>\n",
       "    </tr>\n",
       "  </thead>\n",
       "  <tbody>\n",
       "    <tr>\n",
       "      <th>0</th>\n",
       "      <td>5388.440696</td>\n",
       "      <td>14741.824026</td>\n",
       "      <td>1.0</td>\n",
       "    </tr>\n",
       "    <tr>\n",
       "      <th>1</th>\n",
       "      <td>59.969388</td>\n",
       "      <td>-118.446641</td>\n",
       "      <td>1.0</td>\n",
       "    </tr>\n",
       "    <tr>\n",
       "      <th>2</th>\n",
       "      <td>13.507677</td>\n",
       "      <td>10.915682</td>\n",
       "      <td>1.0</td>\n",
       "    </tr>\n",
       "    <tr>\n",
       "      <th>3</th>\n",
       "      <td>151.820435</td>\n",
       "      <td>46.103143</td>\n",
       "      <td>1.0</td>\n",
       "    </tr>\n",
       "    <tr>\n",
       "      <th>4</th>\n",
       "      <td>-77.321805</td>\n",
       "      <td>19.126586</td>\n",
       "      <td>1.0</td>\n",
       "    </tr>\n",
       "  </tbody>\n",
       "</table>\n",
       "</div>"
      ],
      "text/plain": [
       "            EL            CE  Image\n",
       "0  5388.440696  14741.824026    1.0\n",
       "1    59.969388   -118.446641    1.0\n",
       "2    13.507677     10.915682    1.0\n",
       "3   151.820435     46.103143    1.0\n",
       "4   -77.321805     19.126586    1.0"
      ]
     },
     "execution_count": 23,
     "metadata": {},
     "output_type": "execute_result"
    }
   ],
   "source": [
    "star_target_path = \"Calibration/Targets/2022/GuidingStars/QSO_guidingstars.csv\"\n",
    "# il faut que le centre soit bien defini à l'arcseconde pres.\n",
    "F1_stars = Table.read(star_target_path).to_pandas()\n",
    "stars = [2, 4, 5, 6, 7]\n",
    "selected_stars = Table.from_pandas((reduce(pd.DataFrame.append, map(lambda i: F1_stars[F1_stars['Internal count'] == i],stars))))\n",
    "# G2UVcor.FOV_center_guider_coord = 0.18182478, 0.00998363\n",
    "star_moves, flags, stars_coord = G2UVcor.compute_autocoll_move_stars(stars, F1_stars, hystcomp = Hysteresis_compensation, CEg = CEg, Elg = Elg)\n",
    "star_moves = pd.DataFrame(np.hstack((star_moves,flags[:,None])), columns=[\"EL\",\"CE\",\"Image\"])\n",
    "star_moves.to_clipboard()\n",
    "selected_stars.to_pandas().to_clipboard()\n",
    "star_moves\n",
    "# stars_path = vstack((selected_stars,selected_stars[::-1]) )\n",
    "# selected_stars['lon'] = [s.lon.deg*3600 for s in stars_coord]\n",
    "# selected_stars['lat'] =  [s.lat.deg*3600 for s in stars_coord]\n",
    "# print(\"(They have been copied to clipboard, paste it in the spreadsheet)\")\n",
    "# star_moves.to_clipboard()\n",
    "# star_moves\n",
    "\n"
   ]
  },
  {
   "cell_type": "code",
   "execution_count": 25,
   "metadata": {},
   "outputs": [
    {
     "name": "stdout",
     "output_type": "stream",
     "text": [
      "\n",
      "targets local coords in siderostat local frame:\n",
      "EL: -103.9 arcsec ; CE: 122.7 arcsec\n",
      "EL: -68.9 arcsec ; CE: 290.8 arcsec\n",
      "EL: 271.4 arcsec ; CE: 150.7 arcsec\n",
      "\n",
      "siderostat moves sequence: \n"
     ]
    },
    {
     "data": {
      "text/html": [
       "<div>\n",
       "<style scoped>\n",
       "    .dataframe tbody tr th:only-of-type {\n",
       "        vertical-align: middle;\n",
       "    }\n",
       "\n",
       "    .dataframe tbody tr th {\n",
       "        vertical-align: top;\n",
       "    }\n",
       "\n",
       "    .dataframe thead th {\n",
       "        text-align: right;\n",
       "    }\n",
       "</style>\n",
       "<table border=\"1\" class=\"dataframe\">\n",
       "  <thead>\n",
       "    <tr style=\"text-align: right;\">\n",
       "      <th></th>\n",
       "      <th>EL</th>\n",
       "      <th>CE</th>\n",
       "      <th>Image</th>\n",
       "    </tr>\n",
       "  </thead>\n",
       "  <tbody>\n",
       "    <tr>\n",
       "      <th>0</th>\n",
       "      <td>-103.948283</td>\n",
       "      <td>122.691747</td>\n",
       "      <td>1.0</td>\n",
       "    </tr>\n",
       "    <tr>\n",
       "      <th>1</th>\n",
       "      <td>35.066957</td>\n",
       "      <td>168.066015</td>\n",
       "      <td>1.0</td>\n",
       "    </tr>\n",
       "    <tr>\n",
       "      <th>2</th>\n",
       "      <td>340.312946</td>\n",
       "      <td>-140.029584</td>\n",
       "      <td>1.0</td>\n",
       "    </tr>\n",
       "  </tbody>\n",
       "</table>\n",
       "</div>"
      ],
      "text/plain": [
       "           EL          CE  Image\n",
       "0 -103.948283  122.691747    1.0\n",
       "1   35.066957  168.066015    1.0\n",
       "2  340.312946 -140.029584    1.0"
      ]
     },
     "execution_count": 25,
     "metadata": {},
     "output_type": "execute_result"
    }
   ],
   "source": [
    "\n",
    "\n",
    "stars = [8, 10, 12] #QSO7\n",
    "#back to guider center\n",
    "#Load new \n",
    "G2UVcor.FieldP = LocalScienceMaskProjector(center=coordinates.SkyCoord(22.42638*u.deg, 0.62279*u.deg), rotation=(90-70)*u.deg, gamma=1)\n",
    "selected_stars = Table.from_pandas((reduce(pd.DataFrame.append, map(lambda i: F1_stars[F1_stars['Internal count'] == i],stars))))\n",
    "# G2UVcor.FOV_center_guider_coord = 0.18182478, 0.00998363\n",
    "star_moves, flags, stars_coord = G2UVcor.compute_autocoll_move_stars(stars, F1_stars, hystcomp = Hysteresis_compensation, CEg = CEg, Elg = Elg)\n",
    "star_moves = pd.DataFrame(np.hstack((star_moves,flags[:,None])), columns=[\"EL\",\"CE\",\"Image\"])\n",
    "star_moves.to_clipboard()\n",
    "selected_stars.to_pandas().to_clipboard()\n",
    "\n",
    "star_moves\n"
   ]
  },
  {
   "cell_type": "code",
   "execution_count": 27,
   "metadata": {},
   "outputs": [
    {
     "name": "stdout",
     "output_type": "stream",
     "text": [
      "\n",
      "targets local coords in siderostat local frame:\n",
      "EL: 9.8 arcsec ; CE: 285.5 arcsec\n",
      "EL: -132.1 arcsec ; CE: 8.4 arcsec\n",
      "\n",
      "siderostat moves sequence: \n"
     ]
    },
    {
     "data": {
      "text/html": [
       "<div>\n",
       "<style scoped>\n",
       "    .dataframe tbody tr th:only-of-type {\n",
       "        vertical-align: middle;\n",
       "    }\n",
       "\n",
       "    .dataframe tbody tr th {\n",
       "        vertical-align: top;\n",
       "    }\n",
       "\n",
       "    .dataframe thead th {\n",
       "        text-align: right;\n",
       "    }\n",
       "</style>\n",
       "<table border=\"1\" class=\"dataframe\">\n",
       "  <thead>\n",
       "    <tr style=\"text-align: right;\">\n",
       "      <th></th>\n",
       "      <th>EL</th>\n",
       "      <th>CE</th>\n",
       "      <th>Image</th>\n",
       "    </tr>\n",
       "  </thead>\n",
       "  <tbody>\n",
       "    <tr>\n",
       "      <th>0</th>\n",
       "      <td>9.772684</td>\n",
       "      <td>285.527040</td>\n",
       "      <td>1.0</td>\n",
       "    </tr>\n",
       "    <tr>\n",
       "      <th>1</th>\n",
       "      <td>-141.843219</td>\n",
       "      <td>-277.157354</td>\n",
       "      <td>1.0</td>\n",
       "    </tr>\n",
       "  </tbody>\n",
       "</table>\n",
       "</div>"
      ],
      "text/plain": [
       "           EL          CE  Image\n",
       "0    9.772684  285.527040    1.0\n",
       "1 -141.843219 -277.157354    1.0"
      ]
     },
     "execution_count": 27,
     "metadata": {},
     "output_type": "execute_result"
    }
   ],
   "source": [
    "stars = [13,14] #QSO5\n",
    "#back to guider center\n",
    "G2UVcor.FieldP = LocalScienceMaskProjector(center=coordinates.SkyCoord(14.62883*u.deg, 0.00512*u.deg), rotation=(90-100)*u.deg, gamma=1)\n",
    "selected_stars = Table.from_pandas((reduce(pd.DataFrame.append, map(lambda i: F1_stars[F1_stars['Internal count'] == i],stars))))\n",
    "# G2UVcor.FOV_center_guider_coord = 0.18182478, 0.00998363\n",
    "star_moves, flags, stars_coord = G2UVcor.compute_autocoll_move_stars(stars, F1_stars, hystcomp = Hysteresis_compensation, CEg = CEg, Elg = Elg)\n",
    "star_moves = pd.DataFrame(np.hstack((star_moves,flags[:,None])), columns=[\"EL\",\"CE\",\"Image\"])\n",
    "star_moves.to_clipboard()\n",
    "selected_stars.to_pandas().to_clipboard()\n",
    "star_moves\n"
   ]
  },
  {
   "cell_type": "code",
   "execution_count": 28,
   "metadata": {},
   "outputs": [
    {
     "name": "stdout",
     "output_type": "stream",
     "text": [
      "\n",
      "targets local coords in siderostat local frame:\n",
      "EL: 92.8 arcsec ; CE: -165.6 arcsec\n",
      "EL: 265.5 arcsec ; CE: 185.7 arcsec\n",
      "EL: 305.2 arcsec ; CE: 190.8 arcsec\n",
      "EL: 149.4 arcsec ; CE: 234.0 arcsec\n",
      "EL: 55.3 arcsec ; CE: 237.7 arcsec\n",
      "\n",
      "siderostat moves sequence: \n"
     ]
    },
    {
     "data": {
      "text/html": [
       "<div>\n",
       "<style scoped>\n",
       "    .dataframe tbody tr th:only-of-type {\n",
       "        vertical-align: middle;\n",
       "    }\n",
       "\n",
       "    .dataframe tbody tr th {\n",
       "        vertical-align: top;\n",
       "    }\n",
       "\n",
       "    .dataframe thead th {\n",
       "        text-align: right;\n",
       "    }\n",
       "</style>\n",
       "<table border=\"1\" class=\"dataframe\">\n",
       "  <thead>\n",
       "    <tr style=\"text-align: right;\">\n",
       "      <th></th>\n",
       "      <th>EL</th>\n",
       "      <th>CE</th>\n",
       "      <th>Image</th>\n",
       "    </tr>\n",
       "  </thead>\n",
       "  <tbody>\n",
       "    <tr>\n",
       "      <th>0</th>\n",
       "      <td>92.831469</td>\n",
       "      <td>-165.645069</td>\n",
       "      <td>1.0</td>\n",
       "    </tr>\n",
       "    <tr>\n",
       "      <th>1</th>\n",
       "      <td>172.692911</td>\n",
       "      <td>351.377731</td>\n",
       "      <td>1.0</td>\n",
       "    </tr>\n",
       "    <tr>\n",
       "      <th>2</th>\n",
       "      <td>39.715096</td>\n",
       "      <td>5.065623</td>\n",
       "      <td>1.0</td>\n",
       "    </tr>\n",
       "    <tr>\n",
       "      <th>3</th>\n",
       "      <td>-155.829124</td>\n",
       "      <td>43.245725</td>\n",
       "      <td>1.0</td>\n",
       "    </tr>\n",
       "    <tr>\n",
       "      <th>4</th>\n",
       "      <td>-94.093055</td>\n",
       "      <td>3.635582</td>\n",
       "      <td>1.0</td>\n",
       "    </tr>\n",
       "  </tbody>\n",
       "</table>\n",
       "</div>"
      ],
      "text/plain": [
       "           EL          CE  Image\n",
       "0   92.831469 -165.645069    1.0\n",
       "1  172.692911  351.377731    1.0\n",
       "2   39.715096    5.065623    1.0\n",
       "3 -155.829124   43.245725    1.0\n",
       "4  -94.093055    3.635582    1.0"
      ]
     },
     "execution_count": 28,
     "metadata": {},
     "output_type": "execute_result"
    }
   ],
   "source": [
    "\n",
    "\n",
    "\n",
    "stars = [17, 18, 19, 20, 21] #QSOV 14\n",
    "#back to guider center\n",
    "G2UVcor.FieldP = LocalScienceMaskProjector(center=coordinates.SkyCoord(351.8533*u.deg, -1.8553*u.deg), rotation=0*u.deg, gamma=1)\n",
    "\n",
    "selected_stars = Table.from_pandas((reduce(pd.DataFrame.append, map(lambda i: F1_stars[F1_stars['Internal count'] == i],stars))))\n",
    "# G2UVcor.FOV_center_guider_coord = 0.18182478, 0.00998363\n",
    "star_moves, flags, stars_coord = G2UVcor.compute_autocoll_move_stars(stars, F1_stars, hystcomp = Hysteresis_compensation, CEg = CEg, Elg = Elg)\n",
    "star_moves = pd.DataFrame(np.hstack((star_moves,flags[:,None])), columns=[\"EL\",\"CE\",\"Image\"])\n",
    "star_moves.to_clipboard()\n",
    "selected_stars.to_pandas().to_clipboard()\n",
    "star_moves\n"
   ]
  },
  {
   "cell_type": "markdown",
   "metadata": {},
   "source": [
    "The moves has been copied. Add it to the [moves tab of this spreadsheet](https://docs.google.com/spreadsheets/d/19jO0fZ0FL0zZKt8IgJ_DMlZrbCD0VXpYVeulKzXtHzY/edit#gid=0)"
   ]
  },
  {
   "cell_type": "code",
   "execution_count": 22,
   "metadata": {},
   "outputs": [
    {
     "data": {
      "text/html": [
       "<div><i>Table length=5</i>\n",
       "<table id=\"table140500736972352\" class=\"table-striped table-bordered table-condensed\">\n",
       "<thead><tr><th>Internal count</th><th>RA</th><th>DEC</th><th>X</th><th>Y</th><th>GAIA gband</th><th>SDSS gband</th><th>SDSS rband</th><th>Xguider</th><th>Yguider</th></tr></thead>\n",
       "<thead><tr><th>int64</th><th>float64</th><th>float64</th><th>float64</th><th>float64</th><th>int64</th><th>int64</th><th>int64</th><th>float64</th><th>float64</th></tr></thead>\n",
       "<tr><td>29</td><td>36.987137</td><td>0.402799</td><td>3.499382</td><td>-10.623502</td><td>10</td><td>--</td><td>--</td><td>375.60643978519715</td><td>274.037723163956</td></tr>\n",
       "<tr><td>34</td><td>37.023638</td><td>0.390844</td><td>5.052622</td><td>-11.132199</td><td>9</td><td>--</td><td>--</td><td>329.09823563737774</td><td>119.62777354437654</td></tr>\n",
       "<tr><td>18</td><td>36.877561</td><td>0.53311</td><td>-1.163312</td><td>-5.078307</td><td>--</td><td>12</td><td>11</td><td>905.7629054456784</td><td>724.3865249427333</td></tr>\n",
       "<tr><td>14</td><td>36.867454</td><td>0.492628</td><td>-1.593376</td><td>-6.800959</td><td>--</td><td>13</td><td>12</td><td>743.471574722354</td><td>767.263365496059</td></tr>\n",
       "<tr><td>-99</td><td>-99.0</td><td>-99.0</td><td>640.0</td><td>540.0</td><td>-99</td><td>-99</td><td>-99</td><td>-99.0</td><td>-99.0</td></tr>\n",
       "</table></div>"
      ],
      "text/plain": [
       "<Table length=5>\n",
       "Internal count     RA      DEC    ...      Xguider            Yguider      \n",
       "    int64       float64  float64  ...      float64            float64      \n",
       "-------------- --------- -------- ... ------------------ ------------------\n",
       "            29 36.987137 0.402799 ... 375.60643978519715   274.037723163956\n",
       "            34 37.023638 0.390844 ... 329.09823563737774 119.62777354437654\n",
       "            18 36.877561  0.53311 ...  905.7629054456784  724.3865249427333\n",
       "            14 36.867454 0.492628 ...   743.471574722354   767.263365496059\n",
       "           -99     -99.0    -99.0 ...              -99.0              -99.0"
      ]
     },
     "execution_count": 22,
     "metadata": {},
     "output_type": "execute_result"
    }
   ],
   "source": [
    "selection = selected_stars['Internal count',\n",
    " 'RA',\n",
    " 'DEC',\n",
    " 'X',\n",
    " 'Y',\n",
    " 'GAIA gband',\n",
    " 'SDSS gband',\n",
    " 'SDSS rband',\n",
    " 'Xguider',\n",
    " 'Yguider']\n",
    "# selection=vstack((selection,selection[::-1]))\n",
    "selection.add_row([\"-99\",-99,-99,640,540,-99,-99,-99,-99,-99])\n",
    "selection.to_pandas().to_clipboard()\n",
    "selection"
   ]
  },
  {
   "cell_type": "markdown",
   "metadata": {},
   "source": [
    "The stars table has been copied. Add it to the [stars tab of this spreadsheet](https://docs.google.com/spreadsheets/d/19jO0fZ0FL0zZKt8IgJ_DMlZrbCD0VXpYVeulKzXtHzY/edit#gid=0)"
   ]
  },
  {
   "cell_type": "markdown",
   "metadata": {},
   "source": [
    "\n",
    "## 18 - Through focus guide star 1\n",
    "## 19 - Track mask to guider changes\n",
    "------------------------------------------------------"
   ]
  },
  {
   "cell_type": "markdown",
   "metadata": {},
   "source": []
  }
 ],
 "metadata": {
  "kernelspec": {
   "display_name": "Python 3.8.13 ('py38')",
   "language": "python",
   "name": "python3"
  },
  "language_info": {
   "codemirror_mode": {
    "name": "ipython",
    "version": 3
   },
   "file_extension": ".py",
   "mimetype": "text/x-python",
   "name": "python",
   "nbconvert_exporter": "python",
   "pygments_lexer": "ipython3",
   "version": "3.8.13"
  },
  "vscode": {
   "interpreter": {
    "hash": "6429251b47eee9d8b9b4d9852116ca976e0b69b141b5bab3b174d6f3c07282ea"
   }
  }
 },
 "nbformat": 4,
 "nbformat_minor": 2
}
