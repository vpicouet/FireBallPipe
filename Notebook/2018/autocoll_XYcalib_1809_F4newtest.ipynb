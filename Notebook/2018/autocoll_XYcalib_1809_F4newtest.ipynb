{
 "cells": [
  {
   "cell_type": "markdown",
   "metadata": {},
   "source": [
    "# UV-Guider alignement with source in autocoll\n",
    "##  Field 4"
   ]
  },
  {
   "cell_type": "code",
   "execution_count": 1,
   "metadata": {},
   "outputs": [],
   "source": [
    "%matplotlib inline\n",
    "\n",
    "from __future__ import division, print_function\n",
    "\n",
    "import sys\n",
    "sys.path.insert(1, '../../Calibration')\n",
    "sys.path.append( '../../FireBallPipe')\n",
    "import numpy as np\n",
    "from astropy.io import fits\n",
    "from astropy import wcs, coordinates\n",
    "from astropy import units as u\n",
    "from astropy.wcs.utils import proj_plane_pixel_scales\n",
    "from matplotlib import pyplot as plt\n",
    "from astropy.table import Table\n",
    "import matplotlib.patches as patches\n",
    "\n",
    "from guider2UV.guider2UV import Guider2UV, diff_skycoord\n",
    "\n",
    "from Calibration.mapping import Mapping"
   ]
  },
  {
   "cell_type": "code",
   "execution_count": null,
   "metadata": {},
   "outputs": [],
   "source": []
  },
  {
   "cell_type": "code",
   "execution_count": 2,
   "metadata": {},
   "outputs": [],
   "source": [
    "cloudpath = '/home/dvibert/ownCloud/FIREBALL/'\n",
    "cloudpath = '/Users/Vincent/Nextcloud/LAM/FIREBALL/'\n",
    "\n",
    "path_SC_GUI02 = cloudpath + 'Tests-at-FortSumner/170909_SC_GUI02/'\n",
    "\n",
    "#mask_plate_scale = 42.26134 #mm/deg\n",
    "\n",
    "#detector platescale\n",
    "#yscale = 1.106 # arcsec/pix spatial (y det -> y mask)\n",
    "#xscale = 1.271 # arcsec/pix spectral (x det -> - x mask)\n",
    "\n",
    "#guider center => put source on guider center\n",
    "gc = np.array([640, 540])"
   ]
  },
  {
   "cell_type": "markdown",
   "metadata": {},
   "source": [
    "## calibrated frame encoder gains:\n",
    "\n",
    "EL : 0.092 x 1.00379 = 0.09469 arcsec/inc\n",
    "\n",
    "CE : 0.01 x 1.02928 = 0.010293 arcsec/inc"
   ]
  },
  {
   "cell_type": "code",
   "execution_count": 3,
   "metadata": {},
   "outputs": [],
   "source": [
    "# encoder gains:\n",
    "\n",
    "CEg = 1.02928\n",
    "Elg = 1.00379\n",
    "\n",
    "# 2018 calibrated gains put in CNES software\n",
    "#CEg = 1.0\n",
    "#Elg = 1.0"
   ]
  },
  {
   "cell_type": "markdown",
   "metadata": {},
   "source": [
    "## initialization from last xy calib"
   ]
  },
  {
   "cell_type": "code",
   "execution_count": 4,
   "metadata": {
    "scrolled": true
   },
   "outputs": [
    {
     "name": "stdout",
     "output_type": "stream",
     "text": [
      "FOV center angular position in guider <SkyCoord (SkyOffsetICRS: rotation=0.0 deg, origin=<ICRS Coordinate: (ra, dec) in deg\n",
      "    (250.39242605, 36.41307253)>): (lon, lat) in deg\n",
      "    (0.18585616, 0.01856568)>\n",
      "FOV center pixel position in guider [array(1377.264363), array(605.11696717)]\n"
     ]
    }
   ],
   "source": [
    "G2UV = Guider2UV(filename=path_SC_GUI02 + 'Guider2UV_F4_nogamma.new.pkl')\n",
    "gc_coord = G2UV.GuiderP.pix2local([gc])\n",
    "\n",
    "target_filename = cloudpath+'Target_selection/targets_F4.txt'\n",
    "target_filename = '/Users/Vincent/Github/FireBallPipe/Calibration/Targets/targets_F4.txt'\n",
    "F4 = Table.read(target_filename, format='ascii')"
   ]
  },
  {
   "cell_type": "markdown",
   "metadata": {},
   "source": [
    "## Diffuse UV image\n",
    "\n",
    "load new mapping"
   ]
  },
  {
   "cell_type": "code",
   "execution_count": 5,
   "metadata": {},
   "outputs": [],
   "source": [
    "diffuse_path = cloudpath+'TestsFTS2018-Flight/AIT-Optical-FTS-2018-Flight/XYCalibration/DiffuseMasksIllumination180823/'\n",
    "diffuse_path = cloudpath+'TestsFTS2018-Flight/E2E-AIT-Flight/XYCalibration/DiffuseMasksIllumination180823/'\n",
    "\n",
    "diffuse_tab_file = diffuse_path + 'StackedImage_44-63-NoDark_table.csv'\n",
    "diffuse_tab = Table.read(diffuse_tab_file, format='csv')\n",
    "mask_det_map_file = '/home/dvibert/work/FireBallPipe/mapping-mask-det-180823-F4.pkl'\n",
    "mask_det_map_file = '/Users/Vincent/Github/FireBallPipe/Calibration/Mappings/mapping-mask-det-w-1806012-F4.pkl'\n",
    "mask_det_map = Mapping(mask_det_map_file)\n",
    "dxm_dyd = -0.013\n",
    "dym_dxd = -0.015\n",
    "m = np.array([[0., dxm_dyd],[dym_dxd ,0.]])"
   ]
  },
  {
   "cell_type": "markdown",
   "metadata": {},
   "source": [
    "record shift from mapping\n",
    "\n",
    "positive: current diffuse -> mapping (old diffuse)"
   ]
  },
  {
   "cell_type": "code",
   "execution_count": 6,
   "metadata": {},
   "outputs": [],
   "source": [
    "diffuse_offset = [ 16.0+1, 1.8+1] \n",
    "direct_map = lambda w, x, y: mask_det_map.map(w, x, y) + diffuse_offset\n",
    "inv_map = lambda w, x, y: mask_det_map.inv_map(w, x - diffuse_offset[0], y - diffuse_offset[1])"
   ]
  },
  {
   "cell_type": "markdown",
   "metadata": {},
   "source": [
    "## Scan sequence\n",
    "\n",
    "gc - 31 - 40 - 44 - 33 - 23 - 6  - 8 - 13 - gc - s18 - s29 - s34 - s14 - gc"
   ]
  },
  {
   "cell_type": "markdown",
   "metadata": {},
   "source": [
    "### Go from guider to 1st slit: #31"
   ]
  },
  {
   "cell_type": "code",
   "execution_count": 7,
   "metadata": {},
   "outputs": [
    {
     "name": "stdout",
     "output_type": "stream",
     "text": [
      "slit position in mm on mask: [ 4.853195 -3.812219]\n",
      "slit coord in guider local frame: ['0d05m48.03789274s -0d05m49.86729775s']\n",
      "EL: [173.36190475] arcsec \n",
      "CE: [169.95729916] arcsec\n"
     ]
    }
   ],
   "source": [
    "slit_pos1 =   np.array([F4[F4['Internal-count']=='31']['xmm'][0], F4[F4['Internal-count']=='31']['ymm'][0]])\n",
    "\n",
    "print(\"slit position in mm on mask:\", slit_pos1)\n",
    "slit_coord1 = G2UV.SienceMask2guider(slit_pos1, angle=True)\n",
    "print(\"slit coord in guider local frame:\", slit_coord1.to_string(u'dms'))\n",
    "\n",
    "#frame move\n",
    "theta_EL =  slit_coord1.lon.deg/2./Elg\n",
    "theta_CE = -slit_coord1.lat.deg/2./CEg\n",
    "print(\"EL: {} arcsec \\nCE: {} arcsec\".format(theta_EL*3600, theta_CE*3600))"
   ]
  },
  {
   "cell_type": "markdown",
   "metadata": {},
   "source": [
    "### Go from guider to 1st slit: #31"
   ]
  },
  {
   "cell_type": "markdown",
   "metadata": {},
   "source": [
    "remove offset from model to prediction"
   ]
  },
  {
   "cell_type": "code",
   "execution_count": 17,
   "metadata": {},
   "outputs": [
    {
     "name": "stdout",
     "output_type": "stream",
     "text": [
      "mapped slit position on detector:  [1434.8650639   585.43183891]\n"
     ]
    }
   ],
   "source": [
    "slit_coord1_det = direct_map(0.2139, slit_pos1[0], slit_pos1[1])\n",
    "# slit_coord1_det = direct_map(mask_det_map.w[1], slit_pos1[0], slit_pos1[1])\n",
    "print(\"mapped slit position on detector: \", slit_coord1_det)"
   ]
  },
  {
   "cell_type": "code",
   "execution_count": 18,
   "metadata": {},
   "outputs": [
    {
     "name": "stdout",
     "output_type": "stream",
     "text": [
      "observed slit position in mm on mask: [ 4.36749312 -3.50296168]\n",
      "observed slit position (linear mapping) in mm on mask: [ 4.35700891 -8.93224304]\n",
      "observed slit coord in guider local frame: ['0d06m14.03817827s -0d05m08.18386659s']\n",
      "observed slit coord in guider pixel frame: [array([1060.29403101]), array([188.59037517])]\n"
     ]
    }
   ],
   "source": [
    "# compute observed position on mask\n",
    "slit_coord1_obs_det = np.array([1776.2, 623.6]) # observed\n",
    "slit_coord1_obs_wave = 0.20619\n",
    "slit_pos1_obs = inv_map(slit_coord1_obs_wave, slit_coord1_obs_det[0], slit_coord1_obs_det[1])\n",
    "slit_pos1_obs2 = slit_pos1 + m.dot(slit_coord1_obs_det - slit_coord1_det)\n",
    "print(\"observed slit position in mm on mask:\", slit_pos1_obs)\n",
    "print(\"observed slit position (linear mapping) in mm on mask:\", slit_pos1_obs2)\n",
    "\n",
    "slit_coord1_obs = G2UV.SienceMask2guider(slit_pos1_obs, angle=True)\n",
    "print(\"observed slit coord in guider local frame:\", slit_coord1_obs.to_string(u'dms'))\n",
    "slit_coord1_obs_pix = G2UV.SienceMask2guider(slit_pos1_obs, angle=False)\n",
    "print(\"observed slit coord in guider pixel frame:\", slit_coord1_obs_pix)\n"
   ]
  },
  {
   "cell_type": "code",
   "execution_count": 19,
   "metadata": {},
   "outputs": [
    {
     "name": "stdout",
     "output_type": "stream",
     "text": [
      "offset from guider in arcsec (guider frame): \n",
      " [[-26.00028552]\n",
      " [-41.68343116]]\n"
     ]
    }
   ],
   "source": [
    "offset =  diff_skycoord(slit_coord1_obs, slit_coord1) \n",
    "print(\"offset from guider in arcsec (guider frame): \\n\",offset*3600)\n"
   ]
  },
  {
   "cell_type": "code",
   "execution_count": 20,
   "metadata": {},
   "outputs": [],
   "source": [
    "G2UVnew  = G2UV.copy()\n",
    "\n",
    "newFOVcenter = coordinates.SkyCoord(G2UV.FOV_center_guider_coord.lon + offset[0]*u.deg, \n",
    "                              G2UV.FOV_center_guider_coord.lat + offset[1]*u.deg,\n",
    "                              frame = G2UV.GuiderP.localframe)\n",
    "                     \n",
    "G2UVnew.FOV_center_guider_coord = newFOVcenter"
   ]
  },
  {
   "cell_type": "code",
   "execution_count": 21,
   "metadata": {},
   "outputs": [
    {
     "name": "stdout",
     "output_type": "stream",
     "text": [
      "slit coord in guider local frame, corrected from offset: ['0d05m22.03760722s -0d06m31.55072891s']\n"
     ]
    }
   ],
   "source": [
    "slit_coord1_cor = G2UVnew.SienceMask2guider(slit_pos1, angle=True)\n",
    "print(\"slit coord in guider local frame, corrected from offset:\", slit_coord1_cor.to_string(u'dms'))\n"
   ]
  },
  {
   "cell_type": "markdown",
   "metadata": {},
   "source": [
    "### go back to guider center (absolute)"
   ]
  },
  {
   "cell_type": "markdown",
   "metadata": {},
   "source": [
    "go to 1st slit, offset removed:"
   ]
  },
  {
   "cell_type": "code",
   "execution_count": 22,
   "metadata": {},
   "outputs": [
    {
     "name": "stdout",
     "output_type": "stream",
     "text": [
      "slit coord in guider local frame: ['0d05m22.03760722s -0d06m31.55072891s']\n",
      "EL: [160.4108465] arcsec \n",
      "CE: [190.206129] arcsec\n"
     ]
    }
   ],
   "source": [
    "\n",
    "slit_coord1 = G2UVnew.SienceMask2guider(slit_pos1, angle=True)\n",
    "print(\"slit coord in guider local frame:\", slit_coord1.to_string(u'dms'))\n",
    "\n",
    "#frame move\n",
    "theta_EL =  slit_coord1.lon.deg/2./Elg\n",
    "theta_CE = -slit_coord1.lat.deg/2./CEg\n",
    "print(\"EL: {} arcsec \\nCE: {} arcsec\".format(theta_EL*3600, theta_CE*3600))"
   ]
  },
  {
   "cell_type": "markdown",
   "metadata": {},
   "source": [
    "### Loop on slits"
   ]
  },
  {
   "cell_type": "code",
   "execution_count": 47,
   "metadata": {},
   "outputs": [
    {
     "data": {
      "text/plain": [
       "['31', '40', '44', '33', '23', '6', '8', '13']"
      ]
     },
     "execution_count": 47,
     "metadata": {},
     "output_type": "execute_result"
    }
   ],
   "source": [
    "slits = ['31', '40', '44', '33', '23', '6', '8', '13'] \n",
    "# slits += slits[::-1]\n",
    "slits"
   ]
  },
  {
   "cell_type": "code",
   "execution_count": 48,
   "metadata": {},
   "outputs": [
    {
     "name": "stdout",
     "output_type": "stream",
     "text": [
      "slit position in mm on mask: [ 4.853195 -3.812219]\n",
      "slit coord in guider local frame: ['0d05m22.03760722s -0d06m31.55072891s']\n",
      "slit coord in guider pixel frame: [1005.27942863   93.27246029]\n",
      "EL: 160.4 arcsec \n",
      "CE: 190.2 arcsec\n",
      "slit position in mm on mask: [ 8.811543 -3.028793]\n",
      "slit coord in guider local frame: ['0d06m31.79464602s -0d12m08.85922001s']\n",
      "slit coord in guider pixel frame: [1095.87134953 -295.67122476]\n",
      "EL: 195.2 arcsec \n",
      "CE: 354.1 arcsec\n",
      "slit position in mm on mask: [10.563193  2.136243]\n",
      "slit coord in guider local frame: ['0d13m53.83688739s -0d14m34.52834313s']\n",
      "slit coord in guider pixel frame: [1578.8353423  -460.71257556]\n",
      "EL: 415.3 arcsec \n",
      "CE: 424.8 arcsec\n",
      "slit position in mm on mask: [5.386155 4.42581 ]\n",
      "slit coord in guider local frame: ['0d17m04.67803191s -0d07m10.4569324s']\n",
      "slit coord in guider pixel frame: [1759.12344928   42.34695715]\n",
      "EL: 510.4 arcsec \n",
      "CE: 209.1 arcsec\n",
      "slit position in mm on mask: [ 1.149408 -0.37309 ]\n",
      "slit coord in guider local frame: ['0d10m12.21897397s -0d01m13.05909879s']\n",
      "slit coord in guider pixel frame: [1316.07860116  451.00444608]\n",
      "EL: 305.0 arcsec \n",
      "CE: 35.5 arcsec\n",
      "slit position in mm on mask: [-8.51572   4.436704]\n",
      "slit coord in guider local frame: ['0d16m54.72493574s 0d12m35.11934034s']\n",
      "slit coord in guider pixel frame: [1761.54132647 1333.37260137]\n",
      "EL: 505.4 arcsec \n",
      "CE: -366.8 arcsec\n",
      "slit position in mm on mask: [-7.570966  1.9379  ]\n",
      "slit coord in guider local frame: ['0d13m22.25238814s 0d11m12.22516341s']\n",
      "slit coord in guider pixel frame: [1534.52634666 1257.80271349]\n",
      "EL: 399.6 arcsec \n",
      "CE: -326.6 arcsec\n",
      "slit position in mm on mask: [-5.303522 -0.138687]\n",
      "slit coord in guider local frame: ['0d10m27.01989436s 0d07m57.01062115s']\n",
      "slit coord in guider pixel frame: [1340.00626933 1056.12039523]\n",
      "EL: 312.3 arcsec \n",
      "CE: -231.7 arcsec\n"
     ]
    }
   ],
   "source": [
    "slit_pos = np.zeros((len(slits),2))\n",
    "slit_coord = []\n",
    "slit_coord_pix = np.zeros((len(slits),2))\n",
    "theta_EL = np.zeros(len(slits))\n",
    "theta_CE = np.zeros(len(slits))\n",
    "\n",
    "for i, s in enumerate(slits):\n",
    "    \n",
    "    slit_pos[i] = np.array([F4[F4['Internal-count']==s]['xmm'][0], F4[F4['Internal-count']==s]['ymm'][0]])\n",
    "    print(\"slit position in mm on mask:\", slit_pos[i])\n",
    "    slit_coord.append(G2UVnew.SienceMask2guider(slit_pos[i], angle=True))\n",
    "    print(\"slit coord in guider local frame:\", slit_coord[-1].to_string(u'dms'))\n",
    "    slit_coord_pix[i] = np.array(G2UVnew.SienceMask2guider(slit_pos[i], angle=False)).T\n",
    "    print(\"slit coord in guider pixel frame:\", slit_coord_pix[i])\n",
    "\n",
    "    #frame move\n",
    "    theta_EL[i] =  slit_coord[-1].lon.deg/2./Elg\n",
    "    theta_CE[i] = -slit_coord[-1].lat.deg/2./CEg\n",
    "    print(\"EL: {:.1f} arcsec \\nCE: {:.1f} arcsec\".format(theta_EL[i]*3600, theta_CE[i]*3600))\n",
    "    \n",
    "# compute relative moves\n",
    "moves_EL = theta_EL[1:] - theta_EL[:-1]\n",
    "moves_CE = theta_CE[1:] - theta_CE[:-1]\n"
   ]
  },
  {
   "cell_type": "code",
   "execution_count": 49,
   "metadata": {},
   "outputs": [
    {
     "name": "stdout",
     "output_type": "stream",
     "text": [
      "move:  EL 34.7 arcsec - CE 163.9 arcsec\n",
      "move:  EL 220.2 arcsec - CE 70.8 arcsec\n",
      "move:  EL 95.1 arcsec - CE -215.7 arcsec\n",
      "move:  EL 200.5 arcsec - CE -402.3 arcsec\n",
      "move:  EL -105.8 arcsec - CE 40.3 arcsec\n",
      "move:  EL -87.3 arcsec - CE 94.8 arcsec\n"
     ]
    }
   ],
   "source": [
    "# remove middle\n",
    "idx = np.arange(len(slits)//2)\n",
    "idx = np.concatenate((idx[:-1], idx[:-1]+len(idx)))\n",
    "for i in idx:\n",
    "    print(\"move:  EL {:.1f} arcsec - CE {:.1f} arcsec\".format(moves_EL[i]*3600, moves_CE[i]*3600))\n"
   ]
  },
  {
   "cell_type": "markdown",
   "metadata": {},
   "source": [
    "observed slits position :"
   ]
  },
  {
   "cell_type": "code",
   "execution_count": 50,
   "metadata": {},
   "outputs": [
    {
     "data": {
      "text/plain": [
       "array([[1803. ,  421.2],\n",
       "       [1469.6,  288.7],\n",
       "       [1304.2, 1347.9],\n",
       "       [1619.6, 1625.4],\n",
       "       [1620. , 1626.6],\n",
       "       [1304.3, 1355.6],\n",
       "       [1469.5,  288.7],\n",
       "       [1802.9,  412.5]])"
      ]
     },
     "execution_count": 50,
     "metadata": {},
     "output_type": "execute_result"
    }
   ],
   "source": [
    "slit_coord_obs_det = np.zeros((8,2)) + np.array([1800, 421])\n",
    "\n",
    "slit_coord_obs_det = np.array([[ 1803 ,  421.2 ],\n",
    "        [ 1469.6 ,  288.7 ],\n",
    "        [ 1304.2 , 1347.9 ],\n",
    "        [ 1619.6 ,  1625.4 ],\n",
    "        [ 1620 ,  1626.6 ],\n",
    "\n",
    "        [ 1304.3 ,  1355.6 ],\n",
    "        [ 1469.5 ,  288.7 ],\n",
    "        [ 1802.9 ,  412.5 ]])\n",
    "slit_coord_obs_det"
   ]
  },
  {
   "cell_type": "code",
   "execution_count": 73,
   "metadata": {},
   "outputs": [
    {
     "data": {
      "text/plain": [
       "array([[1434.8650639 ,  585.43183891],\n",
       "       [1374.06466849,  282.66833213],\n",
       "       [1023.62132638,  154.47212257],\n",
       "       [ 880.97041158,  557.86053795],\n",
       "       [1212.59185429,  874.28735921],\n",
       "       [ 895.63656053, 1624.99469452],\n",
       "       [1064.2534211 , 1549.72894175],\n",
       "       [1203.38665259, 1371.47307296]])"
      ]
     },
     "execution_count": 73,
     "metadata": {},
     "output_type": "execute_result"
    }
   ],
   "source": [
    "mask_det_map.map(0.2139, slit_pos[:,0], slit_pos[:, 1]).T + diffuse_offset\n",
    "# mask_det_map.map(mask_det_map.w[1], slit_pos[:,0], slit_pos[:, 1]).T + diffuse_offset\n",
    "#direct_map(mask_det_map.w[1], slit_pos[:,0].T, slit_pos[:, 1].T)"
   ]
  },
  {
   "cell_type": "markdown",
   "metadata": {},
   "source": [
    "map on mask :"
   ]
  },
  {
   "cell_type": "code",
   "execution_count": 52,
   "metadata": {},
   "outputs": [],
   "source": [
    "slit_coord_obs_wave = 0.20619    \n",
    "\n",
    "#slit_pos_obs = mask_det_map.inv_map(slit_coord_obs_wave, slit_coord_obs_det[:,0], slit_coord_obs_det[:,1]).T\n",
    "slit_pos_obs = inv_map(slit_coord_obs_wave, slit_coord_obs_det[:,0], slit_coord_obs_det[:,1]).T\n",
    "#print(slit_pos_obs - slit_pos)\n",
    "\n",
    "#print(slit_coord_obs_wave)\n",
    "#print(slit_pos_obs)\n"
   ]
  },
  {
   "cell_type": "code",
   "execution_count": 77,
   "metadata": {},
   "outputs": [
    {
     "name": "stdout",
     "output_type": "stream",
     "text": [
      "observed slit 0 position in mm on mask: [ 6.9958932  -3.98569701]\n",
      "observed slit 0 coord in guider local frame: ['0d05m08.83154164s -0d09m34.55986535s']\n",
      "observed slit coord in guider pixel frame: [ 997.33248824 -117.69146038]\n",
      "-------------\n",
      "observed slit 1 position in mm on mask: [8.8177731  0.93034368]\n",
      "observed slit 1 coord in guider local frame: ['0d12m09.4864078s -0d12m06.12768296s']\n",
      "observed slit coord in guider pixel frame: [1459.81502663 -290.03807805]\n",
      "-------------\n",
      "observed slit 2 position in mm on mask: [-4.89687232  3.70343821]\n",
      "observed slit 2 coord in guider local frame: ['0d15m54.81768072s 0d07m25.49001266s']\n",
      "observed slit coord in guider pixel frame: [1686.93209582 1006.77452425]\n",
      "-------------\n",
      "observed slit 3 position in mm on mask: [-8.61528237 -0.946206  ]\n",
      "observed slit 3 coord in guider local frame: ['0d09m15.49131885s 0d12m39.11291293s']\n",
      "observed slit coord in guider pixel frame: [1274.83650397 1363.72718512]\n",
      "-------------\n",
      "observed slit 4 position in mm on mask: [-8.63108915 -0.95205141]\n",
      "observed slit 4 coord in guider local frame: ['0d09m14.97978698s 0d12m40.45938511s']\n",
      "observed slit coord in guider pixel frame: [1274.3534242  1365.19648205]\n",
      "-------------\n",
      "observed slit 5 position in mm on mask: [-4.99734946  3.70305821]\n",
      "observed slit 5 coord in guider local frame: ['0d15m54.7095441s 0d07m34.06004594s']\n",
      "observed slit coord in guider pixel frame: [1687.07358077 1015.99313536]\n",
      "-------------\n",
      "observed slit 6 position in mm on mask: [8.81780664 0.93182621]\n",
      "observed slit 6 coord in guider local frame: ['0d12m09.61287657s -0d12m06.12939442s']\n",
      "observed slit coord in guider pixel frame: [1459.94973061 -290.03998622]\n",
      "-------------\n",
      "observed slit 7 position in mm on mask: [ 7.10871515 -3.98773917]\n",
      "observed slit 7 coord in guider local frame: ['0d05m08.7396363s -0d09m44.19628616s']\n",
      "observed slit coord in guider pixel frame: [ 997.65184603 -128.85211618]\n",
      "-------------\n"
     ]
    }
   ],
   "source": [
    "slit_coord_obs = []\n",
    "slit_coord_obs_pix = np.zeros((len(slits),2))\n",
    "\n",
    "# for i, s in enumerate(slit_pos_obs):\n",
    "for i, s in enumerate(slits):# change vincent\n",
    "    print(\"observed slit %i position in mm on mask:\"%(i), slit_pos_obs[i])\n",
    "    slit_coord_obs.append(G2UVnew.SienceMask2guider(slit_pos_obs[i], angle=True))\n",
    "    print(\"observed slit %i coord in guider local frame:\"%(i), slit_coord_obs[-1].to_string(u'dms'))\n",
    "    slit_coord_obs_pix[i] = np.array(G2UVnew.SienceMask2guider(slit_pos_obs[i], angle=False)).T\n",
    "    print(\"observed slit coord in guider pixel frame:\", slit_coord_obs_pix[i])\n",
    "    print(\"-------------\")\n"
   ]
  },
  {
   "cell_type": "markdown",
   "metadata": {},
   "source": [
    "## compute NEW MODEL: orientation, offset & magnification"
   ]
  },
  {
   "cell_type": "code",
   "execution_count": 56,
   "metadata": {},
   "outputs": [
    {
     "name": "stdout",
     "output_type": "stream",
     "text": [
      "[[-1.49241395e+01 -1.82885159e+02]\n",
      " [ 3.37717405e+02 -4.38683914e-01]\n",
      " [ 1.33373011e+02  1.31888260e+03]\n",
      " [-4.58019135e+02  1.19397453e+03]\n",
      " [-4.94141878e+01  8.34055840e+02]\n",
      " [-6.28417102e+01 -3.00495875e+02]\n",
      " [-8.57671429e+01 -1.39767262e+03]\n",
      " [-3.28242776e+02 -1.05821892e+03]]\n"
     ]
    }
   ],
   "source": [
    "slit_coord_F = np.zeros((len(slits),2))\n",
    "slit_coord_obs_F = np.zeros((len(slits),2))\n",
    "\n",
    "for i in range(len(slits)): #change vincent\n",
    "# for i in range(len(slit_coord_obs)):\n",
    "    \n",
    "    c = G2UVnew.guider_to_FieldLocal(slit_coord[i], angle=True)\n",
    "    slit_coord_F[i] = np.array([ c.lon.deg, c.lat.deg]).T\n",
    "    \n",
    "    c_obs = G2UVnew.guider_to_FieldLocal(slit_coord_obs[i], angle=True)\n",
    "    slit_coord_obs_F[i] = np.array([ c_obs.lon.deg, c_obs.lat.deg]).T\n",
    "\n",
    "    \n",
    "delta = slit_coord_obs_F - slit_coord_F\n",
    "print(delta*3600)\n"
   ]
  },
  {
   "cell_type": "code",
   "execution_count": 57,
   "metadata": {},
   "outputs": [
    {
     "name": "stdout",
     "output_type": "stream",
     "text": [
      "gamma: -0.061174855001148165\n",
      "theta: 849.2557585474365 arcmin\n",
      "dx: -27.516059820613332 arcsec\n",
      "dy: -69.91196286597793 arcsec\n",
      "variances: [5.48046431e-04 1.88404485e+00 3.59260143e-01 3.59260143e-01]\n",
      "\n",
      "residuals in arcsec: [ 434.44081521   94.62515345 -131.65232302  143.53992789   79.81810224\n",
      " -545.79254056 -276.58548238  201.60634717  471.69371996  664.33586432\n",
      " -387.13767276 -683.3908304  -807.90713532 -446.83254793  683.51157709\n",
      "  505.72702504]\n"
     ]
    }
   ],
   "source": [
    "row_x = np.hstack((slit_coord_F*[1.,-1], np.ones((8,1)), np.zeros((8,1)) )) # xn -x = x dgamma - y theta + dx\n",
    "row_y = np.hstack((slit_coord_F[:,::-1], np.zeros((8,1)), np.ones((8,1)) )) # yn - y = x theta - y dgamma \n",
    "mat = np.vstack((row_x, row_y))\n",
    "matinv =  np.linalg.pinv(mat)\n",
    "data = np.concatenate((delta[:,0], delta[:,1]))\n",
    "sol = matinv.dot(data)\n",
    "gama = 1 + sol[0]\n",
    "theta_rad = sol[1]\n",
    "deltax = sol[2]\n",
    "deltay = sol[3]\n",
    "theta = theta_rad*180/np.pi*60 #arcmin\n",
    "print(\"gamma: {}\\ntheta: {} arcmin\\ndx: {} arcsec\\ndy: {} arcsec\".format(gama, theta, deltax*3600, deltay*3600))\n",
    "covar = matinv.dot(matinv.T)\n",
    "# accuracy, assuming 1 arcsec measurement error\n",
    "print(\"variances: {}\\n\".format(np.sqrt(np.diag(covar))/3600*[1, 180/np.pi*60, 3600, 3600])) #\n",
    "#residual\n",
    "data_new = mat.dot(sol) \n",
    "print(\"residuals in arcsec:\", (data_new - data)*3600)"
   ]
  },
  {
   "cell_type": "code",
   "execution_count": 58,
   "metadata": {},
   "outputs": [
    {
     "data": {
      "text/plain": [
       "Text(-10, 7, 'rotation: 849.26 arcmin\\nmagnification -0.0612\\ndeltax: 69.9120 arcsec\\ndeltay: -27.5161 arcsec')"
      ]
     },
     "execution_count": 58,
     "metadata": {},
     "output_type": "execute_result"
    },
    {
     "data": {
      "image/png": "[encoded data removed]",
      "text/plain": [
       "<Figure size 432x288 with 1 Axes>"
      ]
     },
     "metadata": {
      "needs_background": "light"
     },
     "output_type": "display_data"
    }
   ],
   "source": [
    "mask_plate_scale = 42.26134\n",
    "plt.figure()\n",
    "plt.axis('equal')\n",
    "plt.plot(slit_pos[:,0], slit_pos[:,1], 'or')\n",
    "qv = plt.quiver(slit_pos[:,0], slit_pos[:,1], 0., delta[:,0]*mask_plate_scale)\n",
    "plt.quiverkey(qv, .8,.9,.075, \"75 mu\", color='r')\n",
    "plt.xlim([-13, 13])\n",
    "plt.ylim([-7,7])\n",
    "plt.xlabel('x mm')\n",
    "plt.ylabel('y mm')\n",
    "plt.text(-10,7,\"rotation: {:.2f} arcmin\\nmagnification {:.4f}\\ndeltax: {:.4f} arcsec\\ndeltay: {:.4f} arcsec\".format(theta, gama, -deltay*3600, deltax*3600))\n",
    "\n"
   ]
  },
  {
   "cell_type": "code",
   "execution_count": 59,
   "metadata": {},
   "outputs": [
    {
     "name": "stdout",
     "output_type": "stream",
     "text": [
      "[-5.02836519  3.57815955] [10.563193  2.136243]\n",
      "<SkyCoord (SkyOffsetICRS: rotation=-90.0 deg, origin=<ICRS Coordinate: (ra, dec) in deg\n",
      "    (36.9049, 0.65245)>): (lon, lat) in deg\n",
      "    (0.05063688, -0.25038687)>\n",
      "<SkyCoord (SkyOffsetICRS: rotation=-90.0 deg, origin=<ICRS Coordinate: (ra, dec) in deg\n",
      "    (36.9049, 0.65245)>): (lon, lat) in deg\n",
      "    (0.08471611, 0.11905102)>\n"
     ]
    }
   ],
   "source": [
    "sit_pos14_obs_det = np.array([1312.8, 1357.7])\n",
    "slit_pos14_obs = inv_map(slit_coord_obs_wave, sit_pos14_obs_det[0], sit_pos14_obs_det[1]).T\n",
    "print(slit_pos14_obs, slit_pos[2])\n",
    "\n",
    "print(G2UV.FieldP.pix2local(slit_pos[2]))\n",
    "print(G2UV.FieldP.pix2local(slit_pos14_obs))"
   ]
  },
  {
   "cell_type": "code",
   "execution_count": 60,
   "metadata": {},
   "outputs": [],
   "source": [
    "G2UVcor  = Guider2UV(guider_wcs=G2UVnew.GuiderP.w, \n",
    "                     Field_center=G2UVnew.FieldP.center, \n",
    "                     Field_rotation=G2UVnew.FieldP.rotation,\n",
    "                     Field_gamma=gama,\n",
    "                     mask_rotation=G2UVnew.mask_rotation + theta*u.arcmin)\n",
    "\n",
    "\n",
    "#deltaFOV = - 1/gama*deltax\n",
    "\n",
    "#G2UVnew  = Guider2UV(guider_wcs=G2UV.GuiderP.w, \n",
    "#                     Field_center=G2UV.FieldP.center, \n",
    "#                     Field_rotation=G2UV.FieldP.rotation,\n",
    "#                     Field_gamma=gama)\n",
    "#                     #mask_rotation=theta*u.arcmin)\n",
    "#\n",
    "#deltaFOV = - deltax\n",
    "\n",
    "newFOVcenter = coordinates.SkyCoord(G2UVnew.FOV_center_guider_coord.lon + deltax*u.deg, \n",
    "                              G2UVnew.FOV_center_guider_coord.lat + deltay*u.deg,\n",
    "                              frame = G2UVnew.GuiderP.localframe)\n",
    "                     \n",
    "G2UVcor.FOV_center_guider_coord = newFOVcenter\n",
    "\n",
    "#G2UVnew.FOV_guider_coord = G2UV.FOV_guider_coord\n"
   ]
  },
  {
   "cell_type": "code",
   "execution_count": null,
   "metadata": {},
   "outputs": [],
   "source": []
  },
  {
   "cell_type": "markdown",
   "metadata": {},
   "source": [
    "## check new model on new slit #??\n",
    "\n",
    "start from last slit #46"
   ]
  },
  {
   "cell_type": "code",
   "execution_count": 61,
   "metadata": {},
   "outputs": [
    {
     "name": "stdout",
     "output_type": "stream",
     "text": [
      "slit position in mm on mask: [-0.226751  5.705359]\n",
      "slit coord in guider local frame: ['0d09m46.12297342s -0d00m53.5688165s']\n",
      "slit coord in guider pixel frame: [array([1287.87410866]), array([473.31418859])]\n",
      "EL: [131.54413084] arcsec \n",
      "CE: [-164.18365868] arcsec\n"
     ]
    }
   ],
   "source": [
    "slitcheck = '21'\n",
    "slit_pos5 =   np.array([F4[F4['Internal-count']==slitcheck]['xmm'][0], F4[F4['Internal-count']==slitcheck]['ymm'][0]])\n",
    "\n",
    "print(\"slit position in mm on mask:\", slit_pos5)\n",
    "slit_coord5 = G2UVcor.SienceMask2guider(slit_pos5, angle=True)\n",
    "print(\"slit coord in guider local frame:\", slit_coord5.to_string(u'dms'))\n",
    "slit_coord5_pix = G2UVcor.SienceMask2guider(slit_pos5, angle=False)\n",
    "print(\"slit coord in guider pixel frame:\", slit_coord5_pix)\n",
    "\n",
    "#frame move\n",
    "theta_EL =  (slit_coord5.lon.deg -  slit_coord[0].lon.deg)/2./Elg\n",
    "theta_CE = -(slit_coord5.lat.deg -  slit_coord[0].lat.deg)/2./CEg\n",
    "print(\"EL: {} arcsec \\nCE: {} arcsec\".format(theta_EL*3600, theta_CE*3600))"
   ]
  },
  {
   "cell_type": "markdown",
   "metadata": {},
   "source": [
    "## check new model on known slit #??\n",
    "\n",
    "start from last slit #14"
   ]
  },
  {
   "cell_type": "code",
   "execution_count": 62,
   "metadata": {},
   "outputs": [
    {
     "data": {
      "text/plain": [
       "['31', '40', '44', '33', '23', '6', '8', '13']"
      ]
     },
     "execution_count": 62,
     "metadata": {},
     "output_type": "execute_result"
    }
   ],
   "source": [
    "slits"
   ]
  },
  {
   "cell_type": "code",
   "execution_count": 63,
   "metadata": {},
   "outputs": [
    {
     "name": "stdout",
     "output_type": "stream",
     "text": [
      "slit position in mm on mask: [10.563193  2.136243]\n",
      "slit coord in guider local frame: ['0d09m50.27410018s 0d00m07.52402965s']\n",
      "slit coord in guider pixel frame: [array([1292.30202511]), array([541.32931779])]\n",
      "EL: [2.06772669] arcsec \n",
      "CE: [-29.67746685] arcsec\n"
     ]
    }
   ],
   "source": [
    "slitcheck2 = slits[2]\n",
    "slit_pos6 =   np.array([F4[F4['Internal-count']==slitcheck2]['xmm'][0], F4[F4['Internal-count']==slitcheck2]['ymm'][0]])\n",
    "\n",
    "print(\"slit position in mm on mask:\", slit_pos6)\n",
    "slit_coord6 = G2UVcor.SienceMask2guider(slit_pos6, angle=True)\n",
    "print(\"slit coord in guider local frame:\", slit_coord6.to_string(u'dms'))\n",
    "slit_coord6_pix = G2UVcor.SienceMask2guider(slit_pos6, angle=False)\n",
    "print(\"slit coord in guider pixel frame:\", slit_coord6_pix)\n",
    "\n",
    "#frame move\n",
    "theta_EL =  (slit_coord6.lon.deg -  slit_coord5.lon.deg)/2./Elg\n",
    "theta_CE = -(slit_coord6.lat.deg -  slit_coord5.lat.deg)/2./CEg\n",
    "print(\"EL: {} arcsec \\nCE: {} arcsec\".format(theta_EL*3600, theta_CE*3600))"
   ]
  },
  {
   "cell_type": "markdown",
   "metadata": {},
   "source": [
    "compared observed vs diffuse\n",
    "\n",
    "| wavelength | diffuse   | observed |\n",
    "|------------|-----------|----------|\n",
    "| 0.21382    |           |           \n",
    "| 0.20619    | 1738.3-1531.2| 1754.3x1574.3\n",
    "| 0.20255    |   |\n"
   ]
  },
  {
   "cell_type": "code",
   "execution_count": 64,
   "metadata": {},
   "outputs": [
    {
     "name": "stdout",
     "output_type": "stream",
     "text": [
      "observed slit position in mm on mask: [-8.0507355  -3.21109152]\n",
      "observed slit coord in guider local frame: ['0d06m02.79221588s 0d11m49.15474044s']\n",
      "observed slit coord in guider pixel frame: [array([1062.67180859]), array([1318.89091796])]\n"
     ]
    }
   ],
   "source": [
    "# compute observed position on mask\n",
    "slit_coord5_obs_det = np.array([1754.3, 1574.3])\n",
    "slit_coord5_obs_wave = 0.20619\n",
    "slit_pos5_obs = mask_det_map.inv_map(slit_coord5_obs_wave, slit_coord5_obs_det[0], slit_coord5_obs_det[1])\n",
    "print(\"observed slit position in mm on mask:\", slit_pos5_obs)\n",
    "slit_coord5_obs = G2UVnew.SienceMask2guider(slit_pos5_obs, angle=True)\n",
    "print(\"observed slit coord in guider local frame:\", slit_coord5_obs.to_string(u'dms'))\n",
    "slit_coord5_obs_pix = G2UVnew.SienceMask2guider(slit_pos5_obs, angle=False)\n",
    "print(\"observed slit coord in guider pixel frame:\", slit_coord5_obs_pix)\n"
   ]
  },
  {
   "cell_type": "markdown",
   "metadata": {},
   "source": [
    "## F4 Star sequence\n",
    "\n",
    "s18 - s29 - s34 - s14 \n"
   ]
  },
  {
   "cell_type": "code",
   "execution_count": 65,
   "metadata": {},
   "outputs": [],
   "source": [
    "star_target_path = cloudpath + 'Target_selection/GuidingStars/'\n",
    "F4_stars = Table.read(star_target_path + \"F4_guidingstars.fits\", format='fits')\n",
    "F4_stars_coords = coordinates.SkyCoord(F4_stars['RA']*u.deg, F4_stars['DEC']*u.deg)\n"
   ]
  },
  {
   "cell_type": "markdown",
   "metadata": {},
   "source": [
    "### star s18, from guider center"
   ]
  },
  {
   "cell_type": "code",
   "execution_count": 66,
   "metadata": {},
   "outputs": [
    {
     "name": "stdout",
     "output_type": "stream",
     "text": [
      "star position Ra/Dec:  <SkyCoord (ICRS): (ra, dec) in deg\n",
      "    [(36.877561, 0.53311)]>\n",
      "Star position in guider local frame:  <SkyCoord (SkyOffsetICRS: rotation=0.0 deg, origin=<ICRS Coordinate: (ra, dec) in deg\n",
      "    (250.39242605, 36.41307253)>): (lon, lat) in deg\n",
      "    [(0.05903728, 0.03320441)]>\n",
      "Star position in guider pixel frame:  [array([879.11653979]), array([673.54577459])]\n",
      "EL: [105.86586903] arcsec \n",
      "CE: [-58.06772305] arcsec\n"
     ]
    }
   ],
   "source": [
    "star_pos1_radec = F4_stars_coords[F4_stars['Internal count']==18]\n",
    "print(\"star position Ra/Dec: \", star_pos1_radec)\n",
    "star_coord1 = G2UVnew.SienceMask2guider(star_pos1_radec, world=True, angle=True)\n",
    "print(\"Star position in guider local frame: \", star_coord1)\n",
    "star_coord1_pix = G2UVnew.SienceMask2guider(star_pos1_radec, world=True, angle=False)\n",
    "print(\"Star position in guider pixel frame: \", star_coord1_pix)\n",
    "\n",
    "#frame move\n",
    "theta_EL =  star_coord1.lon.deg/2./Elg\n",
    "theta_CE = -star_coord1.lat.deg/2./CEg\n",
    "print(\"EL: {} arcsec \\nCE: {} arcsec\".format(theta_EL*3600, theta_CE*3600))"
   ]
  },
  {
   "cell_type": "markdown",
   "metadata": {},
   "source": [
    "observed star position on guider: 896.2 671.0 retour: 895.3x671.5"
   ]
  },
  {
   "cell_type": "markdown",
   "metadata": {},
   "source": [
    "### star s29"
   ]
  },
  {
   "cell_type": "code",
   "execution_count": 67,
   "metadata": {},
   "outputs": [
    {
     "name": "stdout",
     "output_type": "stream",
     "text": [
      "star position Ra/Dec:  <SkyCoord (ICRS): (ra, dec) in deg\n",
      "    [(36.987137, 0.402799)]>\n",
      "Star position in guider local frame:  <SkyCoord (SkyOffsetICRS: rotation=0.0 deg, origin=<ICRS Coordinate: (ra, dec) in deg\n",
      "    (250.39242605, 36.41307253)>): (lon, lat) in deg\n",
      "    [(-0.07024471, -0.07759171)]>\n",
      "Star position in guider pixel frame:  [array([353.76231425]), array([215.25627296])]\n",
      "EL: [-231.8289431] arcsec \n",
      "CE: [193.75974755] arcsec\n"
     ]
    }
   ],
   "source": [
    "star_pos2_radec = F4_stars_coords[F4_stars['Internal count']==29]\n",
    "print(\"star position Ra/Dec: \", star_pos2_radec)\n",
    "star_coord2 = G2UVnew.SienceMask2guider(star_pos2_radec, world=True, angle=True)\n",
    "print(\"Star position in guider local frame: \", star_coord2)\n",
    "star_coord2_pix = G2UVnew.SienceMask2guider(star_pos2_radec, world=True, angle=False)\n",
    "print(\"Star position in guider pixel frame: \", star_coord2_pix)\n",
    "\n",
    "#frame move\n",
    "#theta_EL =  star_coord2.lon.deg/2./Elg\n",
    "#theta_CE = -star_coord2.lat.deg/2./CEg\n",
    "#print(\"EL: {} arcsec \\nCE: {} arcsec\".format(theta_EL*3600, theta_CE*3600))\n",
    "\n",
    "theta_EL =  (star_coord2.lon.deg - star_coord1.lon.deg)/2./Elg\n",
    "theta_CE = -(star_coord2.lat.deg - star_coord1.lat.deg)/2./CEg\n",
    "print(\"EL: {} arcsec \\nCE: {} arcsec\".format(theta_EL*3600, theta_CE*3600))"
   ]
  },
  {
   "cell_type": "markdown",
   "metadata": {},
   "source": [
    "observed star position on guider: aller 373.2 x 227.2 - retour 372.5x217.6"
   ]
  },
  {
   "cell_type": "markdown",
   "metadata": {},
   "source": [
    "### star s34"
   ]
  },
  {
   "cell_type": "code",
   "execution_count": 68,
   "metadata": {},
   "outputs": [
    {
     "name": "stdout",
     "output_type": "stream",
     "text": [
      "star position Ra/Dec:  <SkyCoord (ICRS): (ra, dec) in deg\n",
      "    [(37.023638, 0.390844)]>\n",
      "Star position in guider local frame:  <SkyCoord (SkyOffsetICRS: rotation=0.0 deg, origin=<ICRS Coordinate: (ra, dec) in deg\n",
      "    (250.39242605, 36.41307253)>): (lon, lat) in deg\n",
      "    [(-0.08185662, -0.11420421)]>\n",
      "Star position in guider pixel frame:  [array([309.20173299]), array([59.75261016])]\n",
      "EL: [-20.8225283] arcsec \n",
      "CE: [64.02776367] arcsec\n"
     ]
    }
   ],
   "source": [
    "star_pos3_radec = F4_stars_coords[F4_stars['Internal count']==34]\n",
    "print(\"star position Ra/Dec: \", star_pos3_radec)\n",
    "star_coord3 = G2UVnew.SienceMask2guider(star_pos3_radec, world=True, angle=True)\n",
    "print(\"Star position in guider local frame: \", star_coord3)\n",
    "star_coord3_pix = G2UVnew.SienceMask2guider(star_pos3_radec, world=True, angle=False)\n",
    "print(\"Star position in guider pixel frame: \", star_coord3_pix)\n",
    "\n",
    "#frame move\n",
    "#theta_EL =  star_coord2.lon.deg/2./Elg\n",
    "#theta_CE = -star_coord2.lat.deg/2./CEg\n",
    "#print(\"EL: {} arcsec \\nCE: {} arcsec\".format(theta_EL*3600, theta_CE*3600))\n",
    "\n",
    "theta_EL =  (star_coord3.lon.deg - star_coord2.lon.deg)/2./Elg\n",
    "theta_CE = -(star_coord3.lat.deg - star_coord2.lat.deg)/2./CEg\n",
    "print(\"EL: {} arcsec \\nCE: {} arcsec\".format(theta_EL*3600, theta_CE*3600))"
   ]
  },
  {
   "cell_type": "markdown",
   "metadata": {},
   "source": [
    "star pos aller: 328.4x76.3 - retour: 328.0x74.2"
   ]
  },
  {
   "cell_type": "markdown",
   "metadata": {},
   "source": [
    "### star s14"
   ]
  },
  {
   "cell_type": "code",
   "execution_count": 69,
   "metadata": {},
   "outputs": [
    {
     "name": "stdout",
     "output_type": "stream",
     "text": [
      "star position Ra/Dec:  <SkyCoord (ICRS): (ra, dec) in deg\n",
      "    [(36.867454, 0.492628)]>\n",
      "Star position in guider local frame:  <SkyCoord (SkyOffsetICRS: rotation=0.0 deg, origin=<ICRS Coordinate: (ra, dec) in deg\n",
      "    (250.39242605, 36.41307253)>): (lon, lat) in deg\n",
      "    [(0.01846044, 0.04293117)]>\n",
      "Star position in guider pixel frame:  [array([715.97692811]), array([714.60307498])]\n",
      "EL: [179.8889344] arcsec \n",
      "CE: [-274.79762006] arcsec\n"
     ]
    }
   ],
   "source": [
    "star_pos4_radec = F4_stars_coords[F4_stars['Internal count']==14]\n",
    "print(\"star position Ra/Dec: \", star_pos4_radec)\n",
    "star_coord4 = G2UVnew.SienceMask2guider(star_pos4_radec, world=True, angle=True)\n",
    "print(\"Star position in guider local frame: \", star_coord4)\n",
    "star_coord4_pix = G2UVnew.SienceMask2guider(star_pos4_radec, world=True, angle=False)\n",
    "print(\"Star position in guider pixel frame: \", star_coord4_pix)\n",
    "\n",
    "#frame move\n",
    "#theta_EL =  star_coord2.lon.deg/2./Elg\n",
    "#theta_CE = -star_coord2.lat.deg/2./CEg\n",
    "#print(\"EL: {} arcsec \\nCE: {} arcsec\".format(theta_EL*3600, theta_CE*3600))\n",
    "\n",
    "theta_EL =  (star_coord4.lon.deg - star_coord3.lon.deg)/2./Elg\n",
    "theta_CE = -(star_coord4.lat.deg - star_coord3.lat.deg)/2./CEg\n",
    "print(\"EL: {} arcsec \\nCE: {} arcsec\".format(theta_EL*3600, theta_CE*3600))"
   ]
  },
  {
   "cell_type": "markdown",
   "metadata": {},
   "source": [
    "star pos aller: 732.2 710.0 retour: 732.0 718.5"
   ]
  },
  {
   "cell_type": "markdown",
   "metadata": {},
   "source": [
    "### back to guider center"
   ]
  },
  {
   "cell_type": "code",
   "execution_count": 70,
   "metadata": {},
   "outputs": [
    {
     "name": "stdout",
     "output_type": "stream",
     "text": [
      "EL: [-33.10333202] arcsec \n",
      "CE: [75.07783189] arcsec\n"
     ]
    }
   ],
   "source": [
    "#frame move\n",
    "theta_EL =  (0. - star_coord4.lon.deg)/2./Elg\n",
    "theta_CE = -(0. - star_coord4.lat.deg)/2./CEg\n",
    "print(\"EL: {} arcsec \\nCE: {} arcsec\".format(theta_EL*3600, theta_CE*3600))"
   ]
  },
  {
   "cell_type": "code",
   "execution_count": null,
   "metadata": {},
   "outputs": [],
   "source": []
  }
 ],
 "metadata": {
  "kernelspec": {
   "display_name": "Python 3.8.13 ('py38')",
   "language": "python",
   "name": "python3"
  },
  "language_info": {
   "codemirror_mode": {
    "name": "ipython",
    "version": 3
   },
   "file_extension": ".py",
   "mimetype": "text/x-python",
   "name": "python",
   "nbconvert_exporter": "python",
   "pygments_lexer": "ipython3",
   "version": "3.8.13"
  },
  "vscode": {
   "interpreter": {
    "hash": "6429251b47eee9d8b9b4d9852116ca976e0b69b141b5bab3b174d6f3c07282ea"
   }
  }
 },
 "nbformat": 4,
 "nbformat_minor": 4
}
