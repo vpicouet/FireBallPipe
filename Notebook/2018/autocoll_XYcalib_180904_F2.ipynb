{
 "cells": [
  {
   "cell_type": "markdown",
   "metadata": {},
   "source": [
    "# UV-Guider alignement with source in autocoll\n",
    "##  Field 2"
   ]
  },
  {
   "cell_type": "code",
   "execution_count": 1,
   "metadata": {},
   "outputs": [
    {
     "name": "stdout",
     "output_type": "stream",
     "text": [
      "/home/jovyan\n"
     ]
    }
   ],
   "source": [
    "cd ../.."
   ]
  },
  {
   "cell_type": "code",
   "execution_count": 29,
   "metadata": {},
   "outputs": [
    {
     "name": "stdout",
     "output_type": "stream",
     "text": [
      "The autoreload extension is already loaded. To reload it, use:\n",
      "  %reload_ext autoreload\n"
     ]
    }
   ],
   "source": [
    "# %matplotlib widget\n",
    "%load_ext autoreload\n",
    "%autoreload 2\n",
    "\n",
    "import sys\n",
    "import numpy as np\n",
    "from astropy.io import fits\n",
    "from astropy import wcs, coordinates\n",
    "from astropy import units as u\n",
    "from astropy.wcs.utils import proj_plane_pixel_scales\n",
    "from matplotlib import pyplot as plt\n",
    "from astropy.table import Table, vstack \n",
    "import matplotlib.patches as patches\n",
    "import unittest\n",
    "from mpl_interactions import heatmap_slicer\n",
    "import pandas as pd\n",
    "import datetime \n",
    "# os.chdir(os.path.dirname(os.path.realpath(__file__)))\n",
    "sys.path.insert(1, './Calibration')\n",
    "from guider2UV.guider2UV import Guider2UV, diff_skycoord, fit_model, plot_fit\n",
    "from Calibration.mapping import Mapping"
   ]
  },
  {
   "cell_type": "markdown",
   "metadata": {},
   "source": [
    "## initialization from last xy calib"
   ]
  },
  {
   "cell_type": "code",
   "execution_count": 3,
   "metadata": {
    "scrolled": true
   },
   "outputs": [
    {
     "name": "stdout",
     "output_type": "stream",
     "text": [
      "FOV center angular position in guider <SkyCoord (SkyOffsetICRS: rotation=0.0 deg, origin=<ICRS Coordinate: (ra, dec) in deg\n",
      "    (250.39837843, 36.42897653)>): (lon, lat) in deg\n",
      "    [(0.18496501, -0.02412983)]>\n",
      "FOV center pixel position in guider [array([1366.06657564]), array([431.55331128])]\n",
      "\n",
      "Guider2UV object:\n",
      "    Local Field Projector: \n",
      "ScienceMaskProjector object:\n",
      "    LocalFrame: <SkyOffsetICRS Frame (rotation=-20.0 deg, origin=<ICRS Coordinate: (ra, dec) in deg\n",
      "    (253.0624, 34.9699)>)>\n",
      "    gamma: 0.9970115643897801\n",
      "\n",
      "    Guider Field Projector: \n",
      "GuiderMaskProjector object:\n",
      "    LocalFrame: <SkyOffsetICRS Frame (rotation=0.0 deg, origin=<ICRS Coordinate: (ra, dec) in deg\n",
      "    (250.39837843, 36.42897653)>)>\n",
      "    wcs: WCS Keywords\n",
      "\n",
      "Number of WCS axes: 2\n",
      "CTYPE : 'RA---TAN-SIP'  'DEC--TAN-SIP'  \n",
      "CRVAL : 250.39837843  36.4289765325  \n",
      "CRPIX : 640.0  540.0  \n",
      "PC1_1 PC1_2  : 1.0  0.0  \n",
      "PC2_1 PC2_2  : 0.0  1.0  \n",
      "CDELT : 0.00024600287745946  0.00024580474694405  \n",
      "NAXIS : 0  0\n",
      "\n",
      "    mask_rotation: 9.41061983303618 arcmin\n",
      "    FOV center in guider: [1366.06657564]x[431.55331128] pix\n",
      "\n"
     ]
    }
   ],
   "source": [
    "G2UV = Guider2UV(filename='Notebook/2018/data_needed_to_run_notebooks/F2_180901.pkl')\n",
    "print(G2UV)"
   ]
  },
  {
   "cell_type": "code",
   "execution_count": 4,
   "metadata": {
    "scrolled": true
   },
   "outputs": [],
   "source": [
    "target_filename = 'Calibration/Targets/targets_F2.txt'\n",
    "F2 = Table.read(target_filename, format='ascii')\n",
    "\n",
    "\n"
   ]
  },
  {
   "cell_type": "markdown",
   "metadata": {},
   "source": [
    "## Diffuse UV image\n",
    "\n",
    "load new mapping"
   ]
  },
  {
   "cell_type": "code",
   "execution_count": 5,
   "metadata": {},
   "outputs": [],
   "source": [
    "mask_det_map_file = 'Notebook/2018/data_needed_to_run_notebooks/mapping-mask-det-180612-F2.pkl'\n",
    "mask_det_map = Mapping(mask_det_map_file)\n",
    "G2UV.set_detector_mapping(mask_det_map, offsets = [1., 1.])\n"
   ]
  },
  {
   "cell_type": "markdown",
   "metadata": {},
   "source": [
    "## Scan sequence\n",
    "\n",
    "GC - 37 - 42 - 44 - 38 - 16 - 9 - 8 - 26  \n"
   ]
  },
  {
   "cell_type": "code",
   "execution_count": 6,
   "metadata": {},
   "outputs": [
    {
     "data": {
      "image/png": "[encoded data removed]",
      "text/plain": [
       "<Figure size 432x288 with 1 Axes>"
      ]
     },
     "metadata": {
      "needs_background": "light"
     },
     "output_type": "display_data"
    },
    {
     "data": {
      "text/html": [
       "<div><i>Table length=16</i>\n",
       "<table id=\"table140457128747744\" class=\"table-striped table-bordered table-condensed\">\n",
       "<thead><tr><th>Internal-count</th><th>xmm</th><th>ymm</th><th>RA</th><th>DEC</th><th>ra_diff</th><th>dec_diff</th><th>angular_distance</th></tr></thead>\n",
       "<thead><tr><th>str2</th><th>float64</th><th>float64</th><th>float64</th><th>float64</th><th>float64</th><th>float64</th><th>float64</th></tr></thead>\n",
       "<tr><td>37</td><td>4.02636</td><td>-5.77259</td><td>252.945648</td><td>34.833462</td><td>-523.1213150513944</td><td>27.561599999989994</td><td>523.8468784441305</td></tr>\n",
       "<tr><td>42</td><td>6.431447</td><td>-0.117245</td><td>253.122681</td><td>34.825806</td><td>-302.2117463764528</td><td>-33.56280000000709</td><td>304.06973080486966</td></tr>\n",
       "<tr><td>44</td><td>7.267641</td><td>3.348729</td><td>253.224945</td><td>34.835129</td><td>106.04757730959045</td><td>-227.7719999999846</td><td>251.24922415248676</td></tr>\n",
       "<tr><td>38</td><td>4.334963</td><td>3.091563</td><td>253.189056</td><td>34.898399</td><td>570.147891550087</td><td>-688.870799999998</td><td>894.2100409476775</td></tr>\n",
       "<tr><td>16</td><td>-5.545143</td><td>-0.426152</td><td>252.995956</td><td>35.089752</td><td>14.428083573303233</td><td>-256.01040000000523</td><td>256.4166424079391</td></tr>\n",
       "<tr><td>9</td><td>-8.420053</td><td>0.443957</td><td>252.991058</td><td>35.160866</td><td>319.4335170281581</td><td>97.39439999999888</td><td>333.95125535373927</td></tr>\n",
       "<tr><td>8</td><td>-8.63111</td><td>-3.466157</td><td>252.882523</td><td>35.133812</td><td>2.78807869309184</td><td>593.3700000000016</td><td>593.3765501625429</td></tr>\n",
       "<tr><td>26</td><td>-2.111124</td><td>-5.892199</td><td>252.881576</td><td>34.968987</td><td>0.0</td><td>0.0</td><td>0.0</td></tr>\n",
       "<tr><td>26</td><td>-2.111124</td><td>-5.892199</td><td>252.881576</td><td>34.968987</td><td>-2.79371117702025</td><td>-593.3700000000016</td><td>593.37657665444</td></tr>\n",
       "<tr><td>8</td><td>-8.63111</td><td>-3.466157</td><td>252.882523</td><td>35.133812</td><td>-319.5397264581807</td><td>-97.39439999999888</td><td>334.05284901693136</td></tr>\n",
       "<tr><td>9</td><td>-8.420053</td><td>0.443957</td><td>252.991058</td><td>35.160866</td><td>-14.415491467294098</td><td>256.01040000000523</td><td>256.41593418195816</td></tr>\n",
       "<tr><td>16</td><td>-5.545143</td><td>-0.426152</td><td>252.995956</td><td>35.089752</td><td>-568.8164430392545</td><td>688.870799999998</td><td>893.3616988456953</td></tr>\n",
       "<tr><td>38</td><td>4.334963</td><td>3.091563</td><td>253.189056</td><td>34.898399</td><td>-105.96601594946127</td><td>227.7719999999846</td><td>251.21480951606824</td></tr>\n",
       "<tr><td>44</td><td>7.267641</td><td>3.348729</td><td>253.224945</td><td>34.835129</td><td>302.17753200110883</td><td>33.56280000000709</td><td>304.0357255161334</td></tr>\n",
       "<tr><td>42</td><td>6.431447</td><td>-0.117245</td><td>253.122681</td><td>34.825806</td><td>523.1699532217162</td><td>-27.561599999989994</td><td>523.8954492535435</td></tr>\n",
       "<tr><td>37</td><td>4.02636</td><td>-5.77259</td><td>252.945648</td><td>34.833462</td><td>0.0</td><td>0.0</td><td>0.0</td></tr>\n",
       "</table></div>"
      ],
      "text/plain": [
       "<Table length=16>\n",
       "Internal-count    xmm       ymm    ...       dec_diff       angular_distance \n",
       "     str2       float64   float64  ...       float64            float64      \n",
       "-------------- --------- --------- ... ------------------- ------------------\n",
       "            37   4.02636  -5.77259 ...  27.561599999989994  523.8468784441305\n",
       "            42  6.431447 -0.117245 ...  -33.56280000000709 304.06973080486966\n",
       "            44  7.267641  3.348729 ...  -227.7719999999846 251.24922415248676\n",
       "            38  4.334963  3.091563 ...   -688.870799999998  894.2100409476775\n",
       "            16 -5.545143 -0.426152 ... -256.01040000000523  256.4166424079391\n",
       "             9 -8.420053  0.443957 ...   97.39439999999888 333.95125535373927\n",
       "             8  -8.63111 -3.466157 ...   593.3700000000016  593.3765501625429\n",
       "            26 -2.111124 -5.892199 ...                 0.0                0.0\n",
       "            26 -2.111124 -5.892199 ...  -593.3700000000016    593.37657665444\n",
       "             8  -8.63111 -3.466157 ...  -97.39439999999888 334.05284901693136\n",
       "             9 -8.420053  0.443957 ...  256.01040000000523 256.41593418195816\n",
       "            16 -5.545143 -0.426152 ...    688.870799999998  893.3616988456953\n",
       "            38  4.334963  3.091563 ...   227.7719999999846 251.21480951606824\n",
       "            44  7.267641  3.348729 ...   33.56280000000709  304.0357255161334\n",
       "            42  6.431447 -0.117245 ... -27.561599999989994  523.8954492535435\n",
       "            37   4.02636  -5.77259 ...                 0.0                0.0"
      ]
     },
     "execution_count": 6,
     "metadata": {},
     "output_type": "execute_result"
    }
   ],
   "source": [
    "#from guider2UV.guider2UV import Guider2UV\n",
    "slits = ['37', '42', '44', '38', '16', '9', '8', '26'] \n",
    "F1=F2\n",
    "F1p = F1.to_pandas()\n",
    "from functools import reduce\n",
    "import warnings\n",
    "warnings.simplefilter(action='ignore', category=FutureWarning)\n",
    "\n",
    "# selected_slits = F1[mask.values]['Internal-count',\"x_mm\",\"y_mm\",\"ra\",\"dec\"]\n",
    "selected_slits = Table.from_pandas((reduce(pd.DataFrame.append, map(lambda i: F1p[F1p['Internal-count'] == i],slits))))\n",
    "\n",
    "ra,dec = \"RA\", \"DEC\"\n",
    "\n",
    "plt.figure()\n",
    "plt.plot(F1[\"xmm\"],F1[\"ymm\"],\"x\")\n",
    "plt.plot(selected_slits[\"xmm\"],selected_slits[\"ymm\"],\"-o\")\n",
    "for s in selected_slits:\n",
    "    plt.text(s[\"xmm\"],s[\"ymm\"],s[\"Internal-count\"])\n",
    "plt.xlabel(\"x_mm\")\n",
    "plt.xlabel(\"y_mm\")\n",
    "plt.title(slits)\n",
    "plt.show()\n",
    "\n",
    "selected_slits = selected_slits['Internal-count',\"xmm\",\"ymm\",ra,dec]\n",
    "slit_path = vstack((selected_slits,selected_slits[::-1]) )\n",
    "# slit_path[\"ra_diff\"] = [0] + list((slit_path[ra][1:] - slit_path[ra][:-1])*np.cos(slit_path[dec][:-1]*np.pi/180)) \n",
    "# slit_path[\"dec_diff\"] = [0] + list((slit_path[dec][1:] - slit_path[dec][:-1])) \n",
    "slit_path[\"ra_diff\"] = list((slit_path[ra][:-1] - slit_path[ra][1:])*np.cos(slit_path[dec][:-1]*np.pi/180)) + [0]\n",
    "slit_path[\"dec_diff\"] = list((slit_path[dec][:-1] - slit_path[dec][1:])) + [0]\n",
    "\n",
    "slit_path[\"ra_diff\"] *= 3600\n",
    "slit_path[\"dec_diff\"] *= 3600\n",
    "slit_path[\"angular_distance\"] = np.sqrt(slit_path[\"ra_diff\"]** 2 + slit_path[\"dec_diff\"]** 2)\n",
    "try:\n",
    "    slit_path.to_pandas().to_clipboard()\n",
    "except Exception:\n",
    "    pass\n",
    "slit_path"
   ]
  },
  {
   "cell_type": "code",
   "execution_count": 7,
   "metadata": {},
   "outputs": [
    {
     "name": "stdout",
     "output_type": "stream",
     "text": [
      "slit position in mm on mask: [ 4.02636 -5.77259]\n",
      "slit position in mm on mask: [ 6.431447 -0.117245]\n",
      "slit position in mm on mask: [7.267641 3.348729]\n",
      "slit position in mm on mask: [4.334963 3.091563]\n",
      "slit position in mm on mask: [-5.545143 -0.426152]\n",
      "slit position in mm on mask: [-8.420053  0.443957]\n",
      "slit position in mm on mask: [-8.63111  -3.466157]\n",
      "slit position in mm on mask: [-2.111124 -5.892199]\n",
      "\n",
      "targets local coords in siderostat local frame:\n",
      "EL: 87.8 arcsec ; CE: 209.1 arcsec\n",
      "EL: 327.5 arcsec ; CE: 307.7 arcsec\n",
      "EL: 474.3 arcsec ; CE: 341.9 arcsec\n",
      "EL: 463.0 arcsec ; CE: 220.8 arcsec\n",
      "EL: 313.0 arcsec ; CE: -186.6 arcsec\n",
      "EL: 349.5 arcsec ; CE: -305.6 arcsec\n",
      "EL: 183.9 arcsec ; CE: -314.0 arcsec\n",
      "EL: 82.0 arcsec ; CE: -44.3 arcsec\n",
      "\n",
      "siderostat moves sequence: \n"
     ]
    }
   ],
   "source": [
    "\n",
    "movs, flags, slits_coord = G2UV.compute_autocoll_moves_slits(slits, F2, hystcomp = True)"
   ]
  },
  {
   "cell_type": "code",
   "execution_count": 8,
   "metadata": {},
   "outputs": [
    {
     "data": {
      "text/plain": [
       "array([1.42108547e-14, 0.00000000e+00])"
      ]
     },
     "execution_count": 8,
     "metadata": {},
     "output_type": "execute_result"
    }
   ],
   "source": [
    "movs.sum(axis=0)"
   ]
  },
  {
   "cell_type": "markdown",
   "metadata": {},
   "source": [
    "observed slits position :"
   ]
  },
  {
   "cell_type": "code",
   "execution_count": 9,
   "metadata": {},
   "outputs": [
    {
     "data": {
      "text/plain": [
       "array([[2075.0313332 ,  547.1837469 ],\n",
       "       [1694.46040086,  364.12707452],\n",
       "       [1459.24135094,  304.18536352],\n",
       "       [1481.23050022,  524.06001572],\n",
       "       [1725.16305356, 1277.10559979],\n",
       "       [1666.1004412 , 1498.52502653],\n",
       "       [1927.08650574, 1511.38206425],\n",
       "       [2088.18460048, 1014.57232211],\n",
       "       [2088.07680252, 1009.05912876],\n",
       "       [1926.62694293, 1515.59833999],\n",
       "       [1665.40137023, 1502.45267976],\n",
       "       [1724.7718892 , 1281.98014583],\n",
       "       [1480.597437  ,  530.26551288],\n",
       "       [1457.9982084 ,  300.01849547],\n",
       "       [1692.86385774,  359.28314686],\n",
       "       [2073.83585872,  541.7236364 ]])"
      ]
     },
     "execution_count": 9,
     "metadata": {},
     "output_type": "execute_result"
    }
   ],
   "source": [
    "slits_coord_obs_det = np.array([\n",
    "       [2075.0313332 ,  547.1837469 ],\n",
    "       [1694.46040086,  364.12707452],\n",
    "       [1459.24135094,  304.18536352],\n",
    "       [1481.23050022,  524.06001572],\n",
    "       [1725.16305356, 1277.10559979],\n",
    "       [1666.1004412 , 1498.52502653],\n",
    "       [1927.08650574, 1511.38206425],\n",
    "       [2088.18460048, 1014.57232211],\n",
    "       [2088.07680252, 1009.05912876],\n",
    "       [1926.62694293, 1515.59833999],\n",
    "       [1665.40137023, 1502.45267976],\n",
    "       [1724.7718892 , 1281.98014583],\n",
    "       [1480.597437  ,  530.26551288],\n",
    "       [1457.9982084 ,  300.01849547],\n",
    "       [1692.86385774,  359.28314686],\n",
    "       [2073.83585872,  541.7236364 ]])\n",
    "\n",
    "\n",
    "slits_coord_obs_det"
   ]
  },
  {
   "cell_type": "code",
   "execution_count": 10,
   "metadata": {},
   "outputs": [
    {
     "name": "stdout",
     "output_type": "stream",
     "text": [
      "wave:  0.20255\n"
     ]
    }
   ],
   "source": [
    "valid = np.isfinite(slits_coord_obs_det[:,0])\n",
    "#valid = np.array([True]*8 + [False]*8)\n",
    "obs_wave = G2UV.mask_det_map.w[0]\n",
    "print(\"wave: \", obs_wave)\n",
    "\n",
    "slits_coord_valid = [slits_coord[i] for i in np.nonzero(valid)[0]]\n",
    "slits_valid = np.array(slits + slits[::-1])[valid]"
   ]
  },
  {
   "cell_type": "code",
   "execution_count": 11,
   "metadata": {},
   "outputs": [
    {
     "data": {
      "text/plain": [
       "[<SkyCoord (SkyOffsetICRS: rotation=0.0 deg, origin=<ICRS Coordinate: (ra, dec) in deg\n",
       "     (250.39837843, 36.42897653)>): (lon, lat) in deg\n",
       "     [(0.04893897, -0.11956206)]>,\n",
       " <SkyCoord (SkyOffsetICRS: rotation=0.0 deg, origin=<ICRS Coordinate: (ra, dec) in deg\n",
       "     (250.39837843, 36.42897653)>): (lon, lat) in deg\n",
       "     [(0.18261289, -0.17596011)]>,\n",
       " <SkyCoord (SkyOffsetICRS: rotation=0.0 deg, origin=<ICRS Coordinate: (ra, dec) in deg\n",
       "     (250.39837843, 36.42897653)>): (lon, lat) in deg\n",
       "     [(0.26451288, -0.19553401)]>,\n",
       " <SkyCoord (SkyOffsetICRS: rotation=0.0 deg, origin=<ICRS Coordinate: (ra, dec) in deg\n",
       "     (250.39837843, 36.42897653)>): (lon, lat) in deg\n",
       "     [(0.25821115, -0.12624249)]>,\n",
       " <SkyCoord (SkyOffsetICRS: rotation=0.0 deg, origin=<ICRS Coordinate: (ra, dec) in deg\n",
       "     (250.39837843, 36.42897653)>): (lon, lat) in deg\n",
       "     [(0.17454844, 0.1067224)]>,\n",
       " <SkyCoord (SkyOffsetICRS: rotation=0.0 deg, origin=<ICRS Coordinate: (ra, dec) in deg\n",
       "     (250.39837843, 36.42897653)>): (lon, lat) in deg\n",
       "     [(0.19490553, 0.17475412)]>,\n",
       " <SkyCoord (SkyOffsetICRS: rotation=0.0 deg, origin=<ICRS Coordinate: (ra, dec) in deg\n",
       "     (250.39837843, 36.42897653)>): (lon, lat) in deg\n",
       "     [(0.10252813, 0.17953307)]>,\n",
       " <SkyCoord (SkyOffsetICRS: rotation=0.0 deg, origin=<ICRS Coordinate: (ra, dec) in deg\n",
       "     (250.39837843, 36.42897653)>): (lon, lat) in deg\n",
       "     [(0.04574015, 0.02532361)]>,\n",
       " <SkyCoord (SkyOffsetICRS: rotation=0.0 deg, origin=<ICRS Coordinate: (ra, dec) in deg\n",
       "     (250.39837843, 36.42897653)>): (lon, lat) in deg\n",
       "     [(0.04574015, 0.02532361)]>,\n",
       " <SkyCoord (SkyOffsetICRS: rotation=0.0 deg, origin=<ICRS Coordinate: (ra, dec) in deg\n",
       "     (250.39837843, 36.42897653)>): (lon, lat) in deg\n",
       "     [(0.10252813, 0.17953307)]>,\n",
       " <SkyCoord (SkyOffsetICRS: rotation=0.0 deg, origin=<ICRS Coordinate: (ra, dec) in deg\n",
       "     (250.39837843, 36.42897653)>): (lon, lat) in deg\n",
       "     [(0.19490553, 0.17475412)]>,\n",
       " <SkyCoord (SkyOffsetICRS: rotation=0.0 deg, origin=<ICRS Coordinate: (ra, dec) in deg\n",
       "     (250.39837843, 36.42897653)>): (lon, lat) in deg\n",
       "     [(0.17454844, 0.1067224)]>,\n",
       " <SkyCoord (SkyOffsetICRS: rotation=0.0 deg, origin=<ICRS Coordinate: (ra, dec) in deg\n",
       "     (250.39837843, 36.42897653)>): (lon, lat) in deg\n",
       "     [(0.25821115, -0.12624249)]>,\n",
       " <SkyCoord (SkyOffsetICRS: rotation=0.0 deg, origin=<ICRS Coordinate: (ra, dec) in deg\n",
       "     (250.39837843, 36.42897653)>): (lon, lat) in deg\n",
       "     [(0.26451288, -0.19553401)]>,\n",
       " <SkyCoord (SkyOffsetICRS: rotation=0.0 deg, origin=<ICRS Coordinate: (ra, dec) in deg\n",
       "     (250.39837843, 36.42897653)>): (lon, lat) in deg\n",
       "     [(0.18261289, -0.17596011)]>,\n",
       " <SkyCoord (SkyOffsetICRS: rotation=0.0 deg, origin=<ICRS Coordinate: (ra, dec) in deg\n",
       "     (250.39837843, 36.42897653)>): (lon, lat) in deg\n",
       "     [(0.04893897, -0.11956206)]>]"
      ]
     },
     "execution_count": 11,
     "metadata": {},
     "output_type": "execute_result"
    }
   ],
   "source": [
    "slits_coord_valid"
   ]
  },
  {
   "cell_type": "code",
   "execution_count": 12,
   "metadata": {},
   "outputs": [
    {
     "ename": "ValueError",
     "evalue": "Single argument to subplot must be a three-digit integer, not '120'",
     "output_type": "error",
     "traceback": [
      "\u001b[0;31m---------------------------------------------------------------------------\u001b[0m",
      "\u001b[0;31mValueError\u001b[0m                                Traceback (most recent call last)",
      "Input \u001b[0;32mIn [12]\u001b[0m, in \u001b[0;36m<cell line: 5>\u001b[0;34m()\u001b[0m\n\u001b[1;32m      3\u001b[0m pair_diff\n\u001b[1;32m      4\u001b[0m plt\u001b[38;5;241m.\u001b[39mfigure()\n\u001b[0;32m----> 5\u001b[0m \u001b[43mplt\u001b[49m\u001b[38;5;241;43m.\u001b[39;49m\u001b[43msubplot\u001b[49m\u001b[43m(\u001b[49m\u001b[38;5;124;43m'\u001b[39;49m\u001b[38;5;124;43m120\u001b[39;49m\u001b[38;5;124;43m'\u001b[39;49m\u001b[43m)\u001b[49m\n\u001b[1;32m      6\u001b[0m plt\u001b[38;5;241m.\u001b[39mplot(pair_diff[:,\u001b[38;5;241m0\u001b[39m],\u001b[38;5;124m'\u001b[39m\u001b[38;5;124m*\u001b[39m\u001b[38;5;124m'\u001b[39m)\n\u001b[1;32m      7\u001b[0m plt\u001b[38;5;241m.\u001b[39mplot(np\u001b[38;5;241m.\u001b[39mabs(pair_diff[:,\u001b[38;5;241m0\u001b[39m]),\u001b[38;5;124m'\u001b[39m\u001b[38;5;124m-\u001b[39m\u001b[38;5;124m'\u001b[39m)\n",
      "File \u001b[0;32m/srv/conda/envs/notebook/lib/python3.8/site-packages/matplotlib/pyplot.py:1289\u001b[0m, in \u001b[0;36msubplot\u001b[0;34m(*args, **kwargs)\u001b[0m\n\u001b[1;32m   1286\u001b[0m fig \u001b[38;5;241m=\u001b[39m gcf()\n\u001b[1;32m   1288\u001b[0m \u001b[38;5;66;03m# First, search for an existing subplot with a matching spec.\u001b[39;00m\n\u001b[0;32m-> 1289\u001b[0m key \u001b[38;5;241m=\u001b[39m \u001b[43mSubplotSpec\u001b[49m\u001b[38;5;241;43m.\u001b[39;49m\u001b[43m_from_subplot_args\u001b[49m\u001b[43m(\u001b[49m\u001b[43mfig\u001b[49m\u001b[43m,\u001b[49m\u001b[43m \u001b[49m\u001b[43margs\u001b[49m\u001b[43m)\u001b[49m\n\u001b[1;32m   1291\u001b[0m \u001b[38;5;28;01mfor\u001b[39;00m ax \u001b[38;5;129;01min\u001b[39;00m fig\u001b[38;5;241m.\u001b[39maxes:\n\u001b[1;32m   1292\u001b[0m     \u001b[38;5;66;03m# if we found an axes at the position sort out if we can re-use it\u001b[39;00m\n\u001b[1;32m   1293\u001b[0m     \u001b[38;5;28;01mif\u001b[39;00m \u001b[38;5;28mhasattr\u001b[39m(ax, \u001b[38;5;124m'\u001b[39m\u001b[38;5;124mget_subplotspec\u001b[39m\u001b[38;5;124m'\u001b[39m) \u001b[38;5;129;01mand\u001b[39;00m ax\u001b[38;5;241m.\u001b[39mget_subplotspec() \u001b[38;5;241m==\u001b[39m key:\n\u001b[1;32m   1294\u001b[0m         \u001b[38;5;66;03m# if the user passed no kwargs, re-use\u001b[39;00m\n",
      "File \u001b[0;32m/srv/conda/envs/notebook/lib/python3.8/site-packages/matplotlib/gridspec.py:582\u001b[0m, in \u001b[0;36mSubplotSpec._from_subplot_args\u001b[0;34m(figure, args)\u001b[0m\n\u001b[1;32m    580\u001b[0m     \u001b[38;5;28;01mreturn\u001b[39;00m arg\n\u001b[1;32m    581\u001b[0m \u001b[38;5;28;01melif\u001b[39;00m \u001b[38;5;129;01mnot\u001b[39;00m \u001b[38;5;28misinstance\u001b[39m(arg, Integral):\n\u001b[0;32m--> 582\u001b[0m     \u001b[38;5;28;01mraise\u001b[39;00m \u001b[38;5;167;01mValueError\u001b[39;00m(\n\u001b[1;32m    583\u001b[0m         \u001b[38;5;124mf\u001b[39m\u001b[38;5;124m\"\u001b[39m\u001b[38;5;124mSingle argument to subplot must be a three-digit \u001b[39m\u001b[38;5;124m\"\u001b[39m\n\u001b[1;32m    584\u001b[0m         \u001b[38;5;124mf\u001b[39m\u001b[38;5;124m\"\u001b[39m\u001b[38;5;124minteger, not \u001b[39m\u001b[38;5;132;01m{\u001b[39;00marg\u001b[38;5;132;01m!r}\u001b[39;00m\u001b[38;5;124m\"\u001b[39m)\n\u001b[1;32m    585\u001b[0m \u001b[38;5;28;01mtry\u001b[39;00m:\n\u001b[1;32m    586\u001b[0m     rows, cols, num \u001b[38;5;241m=\u001b[39m \u001b[38;5;28mmap\u001b[39m(\u001b[38;5;28mint\u001b[39m, \u001b[38;5;28mstr\u001b[39m(arg))\n",
      "\u001b[0;31mValueError\u001b[0m: Single argument to subplot must be a three-digit integer, not '120'"
     ]
    },
    {
     "data": {
      "text/plain": [
       "<Figure size 432x288 with 0 Axes>"
      ]
     },
     "metadata": {},
     "output_type": "display_data"
    }
   ],
   "source": [
    "mid  = len(slits_coord_obs_det)//2\n",
    "pair_diff = slits_coord_obs_det[:mid] - slits_coord_obs_det[::-1][:mid]\n",
    "pair_diff\n",
    "plt.figure()\n",
    "plt.subplot('120')\n",
    "plt.plot(pair_diff[:,0],'*')\n",
    "plt.plot(np.abs(pair_diff[:,0]),'-')\n",
    "plt.title(\"El pair diff\")\n",
    "plt.ylabel(\"El arcsec\")\n",
    "plt.subplot('121')\n",
    "plt.plot(pair_diff[:,1],'*')\n",
    "plt.plot(np.abs(pair_diff[:,1]),'-')\n",
    "plt.title(\"Ce pair diff\")\n",
    "plt.ylabel(\"Ce arcsec\")\n"
   ]
  },
  {
   "cell_type": "code",
   "execution_count": 13,
   "metadata": {},
   "outputs": [],
   "source": [
    "slits_coord_obs = G2UV.detector2guider(slits_coord_obs_det, wave=obs_wave, angle=True  )\n"
   ]
  },
  {
   "cell_type": "code",
   "execution_count": 14,
   "metadata": {},
   "outputs": [
    {
     "name": "stdout",
     "output_type": "stream",
     "text": [
      "Fitting rotation, translation and magnification\n",
      "gamma: 1.0040019827024307\n",
      "theta: 3.041711166981572 arcmin\n",
      "dx: -6.036699495989602 arcsec\n",
      "dy: -0.6268739196853005 arcsec\n",
      "variances: [4.15678072e-04 1.42899595e+00 3.45995123e-01 3.45995123e-01]\n",
      "\n",
      "residuals in arcsec: [[-1.24643378  4.36367746]\n",
      " [-0.91066201  0.89015133]\n",
      " [-0.17710793  2.8578891 ]\n",
      " [-0.19284725 -2.3004637 ]\n",
      " [-0.67749448 -2.90049624]\n",
      " [-0.06161603 -1.85816349]\n",
      " [ 0.74738917 -3.27839866]\n",
      " [-1.32910726  2.68807186]\n",
      " [-1.2226843  -3.41045802]\n",
      " [ 1.29468861  1.38323624]\n",
      " [ 0.79168381  2.49493922]\n",
      " [-0.18513738  2.49317325]\n",
      " [ 0.71477842  4.55138014]\n",
      " [ 1.27462443 -1.75877315]\n",
      " [ 0.98721793 -4.48835976]\n",
      " [ 0.19270804 -1.72740559]]\n",
      "max residual in EL,CE 1.3, 4.6 arcsec\n",
      "mean residual in EL,CE 0.9, 2.9 arcsec\n"
     ]
    },
    {
     "data": {
      "image/png": "[encoded data removed]",
      "text/plain": [
       "<Figure size 432x288 with 2 Axes>"
      ]
     },
     "metadata": {
      "needs_background": "light"
     },
     "output_type": "display_data"
    },
    {
     "name": "stdout",
     "output_type": "stream",
     "text": [
      "After updating:\n",
      "    mask_rotation: 12.45233100001775 arcmin\n",
      "    FOV center in guider: [1362.60618938] x [431.23370108] pix = [662.57900307] arcsec x [-87.25273454] arcsec arcsec\n",
      "    mask_magnification correction: 1.0010015874245914  \n",
      "    \n"
     ]
    }
   ],
   "source": [
    "weight = np.array( [1.]*16  + [1./(1. + 1e-1)]*16)\n",
    "\n",
    "G2UVcor,residuals = G2UV.update_model(slits_coord_valid, slits_coord_obs, labels=slits_valid, plot=True)"
   ]
  },
  {
   "cell_type": "code",
   "execution_count": null,
   "metadata": {},
   "outputs": [],
   "source": [
    "F1['RA'].name='ra'\n",
    "F1['DEC'].name='dec'"
   ]
  },
  {
   "cell_type": "code",
   "execution_count": 37,
   "metadata": {},
   "outputs": [
    {
     "data": {
      "image/png": "[encoded data removed]",
      "text/plain": [
       "<Figure size 576x432 with 1 Axes>"
      ]
     },
     "metadata": {
      "needs_background": "light"
     },
     "output_type": "display_data"
    }
   ],
   "source": [
    "G2UV_test = G2UVcor.copy()\n",
    "G2UV_test.FieldP.gamma = 1.\n",
    "slit_coords_all, source_coords_all = G2UV_test.compare_mask_2_sky(F1['Internal-count'], F1, quiverscale=0.1)"
   ]
  },
  {
   "cell_type": "code",
   "execution_count": 38,
   "metadata": {},
   "outputs": [
    {
     "data": {
      "text/plain": [
       "(-0.001, 0.001)"
      ]
     },
     "execution_count": 38,
     "metadata": {},
     "output_type": "execute_result"
    },
    {
     "data": {
      "image/png": "[encoded data removed]",
      "text/plain": [
       "<Figure size 432x288 with 1 Axes>"
      ]
     },
     "metadata": {
      "needs_background": "light"
     },
     "output_type": "display_data"
    }
   ],
   "source": [
    "origin = slit_coords_all[0].origin\n",
    "slit_coords_all[0].separation(origin).to(u.arcsec)\n",
    "radius = []\n",
    "delta = []\n",
    "for s,g in zip(slit_coords_all, source_coords_all):\n",
    "    radius.append(s.separation(origin).to(u.arcsec).value)\n",
    "    delta.append(s.separation(g).to(u.arcsec).value)\n",
    "    \n",
    "plt.figure()\n",
    "plt.scatter(radius, np.array(delta)/np.array(radius))\n",
    "plt.ylim((-0.001,0.001))"
   ]
  },
  {
   "cell_type": "code",
   "execution_count": null,
   "metadata": {},
   "outputs": [],
   "source": []
  },
  {
   "cell_type": "code",
   "execution_count": 64,
   "metadata": {},
   "outputs": [],
   "source": [
    "#G2UVcor.save(filename=cloudpath + 'TestsFTS2018-Flight/E2E-AIT-Flight/XYCalibration/F2_180904.pkl')"
   ]
  },
  {
   "cell_type": "code",
   "execution_count": 89,
   "metadata": {},
   "outputs": [
    {
     "name": "stdout",
     "output_type": "stream",
     "text": [
      "slit position in mm on mask: [ 4.02636 -5.77259]\n",
      "slit position in mm on mask: [ 6.431447 -0.117245]\n",
      "slit position in mm on mask: [7.267641 3.348729]\n",
      "slit position in mm on mask: [4.334963 3.091563]\n",
      "slit position in mm on mask: [-5.545143 -0.426152]\n",
      "slit position in mm on mask: [-8.420053  0.443957]\n",
      "slit position in mm on mask: [-8.63111  -3.466157]\n",
      "slit position in mm on mask: [-2.111124 -5.892199]\n",
      "\n",
      "targets local coords in siderostat local frame:\n",
      "EL: 85.3 arcsec ; CE: 210.2 arcsec\n",
      "EL: 326.0 arcsec ; CE: 309.0 arcsec\n",
      "EL: 473.5 arcsec ; CE: 343.2 arcsec\n",
      "EL: 462.1 arcsec ; CE: 221.6 arcsec\n",
      "EL: 311.1 arcsec ; CE: -187.3 arcsec\n",
      "EL: 347.6 arcsec ; CE: -306.8 arcsec\n",
      "EL: 181.3 arcsec ; CE: -315.1 arcsec\n",
      "EL: 79.3 arcsec ; CE: -44.2 arcsec\n",
      "\n",
      "siderostat moves sequence: \n"
     ]
    },
    {
     "name": "stderr",
     "output_type": "stream",
     "text": [
      "/var/folders/m8/f6l41h_51qxdzrz8p1xqr3f80000gp/T/ipykernel_41637/3268944343.py:25: RuntimeWarning: invalid value encountered in true_divide\n",
      "  new_cat[\"frame_divided_sky\"] = new_cat[\"Frame_angular_distance\"] / new_cat[\"angular_distance\"]\n",
      "/var/folders/m8/f6l41h_51qxdzrz8p1xqr3f80000gp/T/ipykernel_41637/3268944343.py:26: RuntimeWarning: invalid value encountered in true_divide\n",
      "  new_cat[\"EL_dec_ratio\"] =   new_cat[\"El_sky\"] / new_cat[\"dec_diff\"]\n",
      "/var/folders/m8/f6l41h_51qxdzrz8p1xqr3f80000gp/T/ipykernel_41637/3268944343.py:27: RuntimeWarning: invalid value encountered in true_divide\n",
      "  new_cat[\"CE_ra_ratio\"] =   new_cat[\"Cel_sky\"] / new_cat[\"ra_diff\"]\n"
     ]
    },
    {
     "data": {
      "text/html": [
       "<div><i>Table length=16</i>\n",
       "<table id=\"table140599666452992\" class=\"table-striped table-bordered table-condensed\">\n",
       "<thead><tr><th>Internal-count</th><th>xmm</th><th>ymm</th><th>RA</th><th>DEC</th><th>ra_diff</th><th>dec_diff</th><th>angular_distance</th><th>EL</th><th>CE</th><th>UV_image</th><th>EL_abs</th><th>CE_abs</th><th>EL_moves</th><th>CE_moves</th><th>El_sky_unrot</th><th>Cel_sky_unrot</th><th>El_sky</th><th>Cel_sky</th><th>Frame_angular_distance</th><th>frame_divided_sky</th><th>EL_dec_ratio</th><th>CE_ra_ratio</th></tr></thead>\n",
       "<thead><tr><th>str2</th><th>float64</th><th>float64</th><th>float64</th><th>float64</th><th>float64</th><th>float64</th><th>float64</th><th>float64</th><th>float64</th><th>bool</th><th>float64</th><th>float64</th><th>float64</th><th>float64</th><th>float64</th><th>float64</th><th>float64</th><th>float64</th><th>float64</th><th>float64</th><th>float64</th><th>float64</th></tr></thead>\n",
       "<tr><td>37</td><td>4.02636</td><td>-5.77259</td><td>252.945648</td><td>34.833462</td><td>-523.1213150513944</td><td>27.561599999989994</td><td>523.8468784441305</td><td>85.29151616561498</td><td>210.1563729742276</td><td>True</td><td>85.29151616561498</td><td>210.1563729742276</td><td>240.75428541329237</td><td>98.815929885141</td><td>483.33348831001746</td><td>203.41852062435586</td><td>-25.841093816005667</td><td>523.7581439226732</td><td>524.3952282915352</td><td>1.0010467750596002</td><td>-0.9375759685945319</td><td>-1.001217363645785</td></tr>\n",
       "<tr><td>42</td><td>6.431447</td><td>-0.117245</td><td>253.122681</td><td>34.825806</td><td>-302.21174637645277</td><td>-33.56280000000709</td><td>304.0697308048696</td><td>240.7542854132924</td><td>98.81592988514099</td><td>True</td><td>326.04580157890734</td><td>308.9723028593686</td><td>147.48265438170557</td><td>34.24059174028946</td><td>296.08322728362447</td><td>70.48631253289027</td><td>35.030960078305554</td><td>302.3349625318959</td><td>304.3576805884332</td><td>1.0009469860179814</td><td>-1.0437436709183427</td><td>-1.0004077146468344</td></tr>\n",
       "<tr><td>44</td><td>7.267641</td><td>3.348729</td><td>253.224945</td><td>34.835129</td><td>106.04757730959044</td><td>-227.7719999999846</td><td>251.24922415248676</td><td>147.48265438170557</td><td>34.24059174028946</td><td>True</td><td>473.5284559606129</td><td>343.21289459965806</td><td>-11.455914458746122</td><td>-121.65214078245799</td><td>-22.99866474908954</td><td>-250.4282309291367</td><td>227.45955402679652</td><td>-107.26317498782547</td><td>251.48208172062286</td><td>1.0009267991529986</td><td>-0.9986282511757895</td><td>-1.0114627576515611</td></tr>\n",
       "<tr><td>38</td><td>4.334963</td><td>3.091563</td><td>253.189056</td><td>34.898399</td><td>570.1478915500869</td><td>-688.870799999998</td><td>894.2100409476774</td><td>-11.45591445874613</td><td>-121.65214078245799</td><td>True</td><td>462.0725415018668</td><td>221.56075381720007</td><td>-150.99615611708623</td><td>-408.9093433901625</td><td>-303.13686309753996</td><td>-841.7644179292529</td><td>687.32089860435</td><td>-572.7558602075577</td><td>894.6839067851788</td><td>1.0005299267686585</td><td>-0.9977500840569117</td><td>-1.0045741967937132</td></tr>\n",
       "<tr><td>16</td><td>-5.545143</td><td>-0.426152</td><td>252.995956</td><td>35.089752</td><td>14.42808357330323</td><td>-256.01040000000523</td><td>256.4166424079391</td><td>-150.9961561170862</td><td>-408.9093433901625</td><td>True</td><td>311.07638538478056</td><td>-187.34858957296245</td><td>36.54220994414402</td><td>-119.48160116088542</td><td>73.36140983966465</td><td>-245.96004488575227</td><td>256.2179190952474</td><td>-15.186114327429337</td><td>256.66756735876174</td><td>1.0009785829362177</td><td>-1.0008105885356304</td><td>-1.0525385613602014</td></tr>\n",
       "<tr><td>9</td><td>-8.420053</td><td>0.443957</td><td>252.991058</td><td>35.160866</td><td>319.43351702815806</td><td>97.39439999999888</td><td>333.9512553537392</td><td>36.542209944144005</td><td>-119.48160116088539</td><td>True</td><td>347.6185953289246</td><td>-306.83019073384787</td><td>-166.32243684598092</td><td>-8.247355467904015</td><td>-333.9055977632544</td><td>-16.97767607200849</td><td>-98.24864348127151</td><td>-319.57533346072296</td><td>334.33694037967484</td><td>1.0011549141371758</td><td>-1.0087709712393387</td><td>-1.0004439622801147</td></tr>\n",
       "<tr><td>8</td><td>-8.63111</td><td>-3.466157</td><td>252.882523</td><td>35.133812</td><td>2.7880786930918395</td><td>593.3700000000016</td><td>593.3765501625429</td><td>-166.32243684598092</td><td>-8.247355467904033</td><td>True</td><td>181.29615848294367</td><td>-315.0775462017519</td><td>-101.99455144449718</td><td>270.8488994479924</td><td>-204.76222158894365</td><td>557.5587104476592</td><td>-593.9666102381052</td><td>-1.7172385830758685</td><td>593.9690926185439</td><td>1.0009985943257087</td><td>-1.0010054607379941</td><td>-0.615921848737898</td></tr>\n",
       "<tr><td>26</td><td>-2.111124</td><td>-5.892199</td><td>252.881576</td><td>34.968987</td><td>0.0</td><td>0.0</td><td>0.0</td><td>-101.99455144449718</td><td>270.8488994479924</td><td>True</td><td>79.30160703844649</td><td>-44.228646753759506</td><td>0.0</td><td>0.0</td><td>0.0</td><td>0.0</td><td>0.0</td><td>0.0</td><td>0.0</td><td>nan</td><td>nan</td><td>nan</td></tr>\n",
       "<tr><td>26</td><td>-2.111124</td><td>-5.892199</td><td>252.881576</td><td>34.968987</td><td>-2.79371117702025</td><td>-593.3700000000016</td><td>593.37657665444</td><td>0.0</td><td>-30.0</td><td>True</td><td>79.30160703844649</td><td>-44.228646753759506</td><td>101.99455144449718</td><td>-270.8488994479924</td><td>204.76222158894365</td><td>-557.5587104476592</td><td>593.9666102381052</td><td>1.7172385830758685</td><td>593.9690926185439</td><td>1.0009985496351146</td><td>-1.0010054607379941</td><td>-0.6146800704385846</td></tr>\n",
       "<tr><td>8</td><td>-8.63111</td><td>-3.466157</td><td>252.882523</td><td>35.133812</td><td>-319.5397264581807</td><td>-97.39439999999888</td><td>334.05284901693136</td><td>0.0</td><td>30.0</td><td>True</td><td>181.29615848294367</td><td>-315.0775462017519</td><td>166.32243684598092</td><td>8.247355467904015</td><td>333.9055977632544</td><td>16.97767607200849</td><td>98.24864348127151</td><td>319.57533346072296</td><td>334.33694037967484</td><td>1.0008504383769798</td><td>-1.0087709712393387</td><td>-1.0001114321619315</td></tr>\n",
       "<tr><td>9</td><td>-8.420053</td><td>0.443957</td><td>252.991058</td><td>35.160866</td><td>-14.415491467294094</td><td>256.01040000000523</td><td>256.41593418195816</td><td>166.32243684598092</td><td>8.247355467904033</td><td>True</td><td>347.6185953289246</td><td>-306.83019073384787</td><td>-36.54220994414402</td><td>119.48160116088548</td><td>-73.36140983966465</td><td>245.9600448857524</td><td>-256.21791909524757</td><td>15.18611432742938</td><td>256.6675673587619</td><td>1.0009813476592495</td><td>-1.000810588535631</td><td>-1.0534579665135717</td></tr>\n",
       "<tr><td>16</td><td>-5.545143</td><td>-0.426152</td><td>252.995956</td><td>35.089752</td><td>-568.8164430392544</td><td>688.870799999998</td><td>893.3616988456952</td><td>-36.542209944144005</td><td>119.48160116088539</td><td>True</td><td>311.07638538478056</td><td>-187.3485895729624</td><td>150.99615611708623</td><td>408.9093433901625</td><td>303.13686309753996</td><td>841.7644179292529</td><td>-687.32089860435</td><td>572.7558602075577</td><td>894.6839067851788</td><td>1.0014800365195777</td><td>-0.9977500840569117</td><td>-1.0069256386950673</td></tr>\n",
       "<tr><td>38</td><td>4.334963</td><td>3.091563</td><td>253.189056</td><td>34.898399</td><td>-105.96601594946124</td><td>227.7719999999846</td><td>251.21480951606824</td><td>150.9961561170862</td><td>408.9093433901625</td><td>True</td><td>462.0725415018668</td><td>221.56075381720012</td><td>11.455914458746122</td><td>121.65214078245799</td><td>22.99866474908954</td><td>250.4282309291367</td><td>-227.45955402679652</td><td>107.26317498782547</td><td>251.48208172062286</td><td>1.001063918982601</td><td>-0.9986282511757895</td><td>-1.0122412740230122</td></tr>\n",
       "<tr><td>44</td><td>7.267641</td><td>3.348729</td><td>253.224945</td><td>34.835129</td><td>302.1775320011088</td><td>33.56280000000709</td><td>304.03572551613337</td><td>-0.0</td><td>-30.0</td><td>True</td><td>473.5284559606129</td><td>343.2128945996581</td><td>-147.48265438170557</td><td>-34.24059174028946</td><td>-296.08322728362447</td><td>-70.48631253289027</td><td>-35.030960078305554</td><td>-302.3349625318959</td><td>304.3576805884332</td><td>1.0010589382933643</td><td>-1.0437436709183427</td><td>-1.0005209868839173</td></tr>\n",
       "<tr><td>42</td><td>6.431447</td><td>-0.117245</td><td>253.122681</td><td>34.825806</td><td>523.1699532217162</td><td>-27.561599999989994</td><td>523.8954492535435</td><td>-147.48265438170557</td><td>-34.24059174028946</td><td>True</td><td>326.04580157890734</td><td>308.97230285936865</td><td>-240.7542854132924</td><td>-98.81592988514097</td><td>-483.3334883100175</td><td>-203.4185206243558</td><td>25.841093816005582</td><td>-523.7581439226732</td><td>524.3952282915352</td><td>1.0009539671297085</td><td>-0.9375759685945287</td><td>-1.001124282266852</td></tr>\n",
       "<tr><td>37</td><td>4.02636</td><td>-5.77259</td><td>252.945648</td><td>34.833462</td><td>0.0</td><td>0.0</td><td>0.0</td><td>-240.7542854132924</td><td>-98.81592988514099</td><td>True</td><td>85.29151616561495</td><td>210.15637297422768</td><td>0.0</td><td>0.0</td><td>0.0</td><td>0.0</td><td>0.0</td><td>0.0</td><td>0.0</td><td>nan</td><td>nan</td><td>nan</td></tr>\n",
       "</table></div>"
      ],
      "text/plain": [
       "<Table length=16>\n",
       "Internal-count    xmm       ymm    ...     EL_dec_ratio        CE_ra_ratio    \n",
       "     str2       float64   float64  ...       float64             float64      \n",
       "-------------- --------- --------- ... ------------------- -------------------\n",
       "            37   4.02636  -5.77259 ... -0.9375759685945319  -1.001217363645785\n",
       "            42  6.431447 -0.117245 ... -1.0437436709183427 -1.0004077146468344\n",
       "            44  7.267641  3.348729 ... -0.9986282511757895 -1.0114627576515611\n",
       "            38  4.334963  3.091563 ... -0.9977500840569117 -1.0045741967937132\n",
       "            16 -5.545143 -0.426152 ... -1.0008105885356304 -1.0525385613602014\n",
       "             9 -8.420053  0.443957 ... -1.0087709712393387 -1.0004439622801147\n",
       "             8  -8.63111 -3.466157 ... -1.0010054607379941  -0.615921848737898\n",
       "            26 -2.111124 -5.892199 ...                 nan                 nan\n",
       "            26 -2.111124 -5.892199 ... -1.0010054607379941 -0.6146800704385846\n",
       "             8  -8.63111 -3.466157 ... -1.0087709712393387 -1.0001114321619315\n",
       "             9 -8.420053  0.443957 ...  -1.000810588535631 -1.0534579665135717\n",
       "            16 -5.545143 -0.426152 ... -0.9977500840569117 -1.0069256386950673\n",
       "            38  4.334963  3.091563 ... -0.9986282511757895 -1.0122412740230122\n",
       "            44  7.267641  3.348729 ... -1.0437436709183427 -1.0005209868839173\n",
       "            42  6.431447 -0.117245 ... -0.9375759685945287  -1.001124282266852\n",
       "            37   4.02636  -5.77259 ...                 nan                 nan"
      ]
     },
     "execution_count": 89,
     "metadata": {},
     "output_type": "execute_result"
    }
   ],
   "source": [
    "moves, flags, slits_coord_new = G2UVcor.compute_autocoll_moves_slits(slits, F2, hystcomp = True)\n",
    "CEg, Elg = 1.02928, 1.00379 \n",
    "from astropy.table import hstack\n",
    "moves = Table.from_pandas(pd.DataFrame( np.hstack((moves,flags[:,None]))  , columns=[\"EL\",\"CE\",\"UV_image\"]))\n",
    "# print(moves)\n",
    "moves[\"EL_abs\"] =  [np.sum(moves[\"EL\"][:i+1]) for i in range(len(moves))]\n",
    "moves[\"CE_abs\"] = [np.sum(moves[\"CE\"][:i+1]) for i in range(len(moves))]\n",
    "moves[\"UV_image\"] = moves[\"UV_image\"].astype(bool)\n",
    "new_cat = hstack((slit_path,moves[moves[\"UV_image\"]][1:-1]))\n",
    "new_cat\n",
    "new_cat[\"EL_moves\"] =  list(new_cat[\"EL_abs\"][1:] - new_cat[\"EL_abs\"][:-1]) +  [0]\n",
    "new_cat[\"CE_moves\"] =  list(new_cat[\"CE_abs\"][1:] - new_cat[\"CE_abs\"][:-1]) +  [0]\n",
    "\n",
    "\n",
    "\n",
    "new_cat[\"El_sky_unrot\"] = new_cat[\"EL_moves\"]  * 2 * Elg \n",
    "new_cat[\"Cel_sky_unrot\"] = new_cat[\"CE_moves\"] * 2 * CEg \n",
    "# new_cat[\"El_sky\"] = new_cat[\"CE_moves\"]  * 2 * Elg \n",
    "# new_cat[\"Cel_sky\"] = new_cat[\"EL_moves\"] * 2 * CEg \n",
    "\n",
    "angle=70*np.pi/180\n",
    "new_cat[\"El_sky\"] = np.cos(angle) * new_cat[\"El_sky_unrot\"] -  new_cat[\"Cel_sky_unrot\"]*np.sin(angle)\n",
    "new_cat[\"Cel_sky\"] =  np.sin(angle) * new_cat[\"El_sky_unrot\"] +  new_cat[\"Cel_sky_unrot\"]*np.cos(angle)\n",
    "new_cat[\"Frame_angular_distance\"] = np.sqrt(new_cat[\"El_sky\"]**2 + new_cat[\"Cel_sky\"]**2)\n",
    "new_cat[\"frame_divided_sky\"] = new_cat[\"Frame_angular_distance\"] / new_cat[\"angular_distance\"]\n",
    "new_cat[\"EL_dec_ratio\"] =   new_cat[\"El_sky\"] / new_cat[\"dec_diff\"]\n",
    "new_cat[\"CE_ra_ratio\"] =   new_cat[\"Cel_sky\"] / new_cat[\"ra_diff\"]\n",
    "# new_cat\n",
    "new_cat.to_pandas().to_clipboard()\n",
    "new_cat#[\"ra_diff\",\"dec_diff\",\"EL_moves\",\"CE_moves\",\"El_sky\",\"Cel_sky\",\"frame_divided_sky\",\"EL_dec_ratio\",\"CE_ra_ratio\"]"
   ]
  },
  {
   "cell_type": "markdown",
   "metadata": {},
   "source": [
    "## Star sequence\n",
    "\n",
    "gc - s36 - s40 - s46 - s21\n"
   ]
  },
  {
   "cell_type": "code",
   "execution_count": 93,
   "metadata": {},
   "outputs": [
    {
     "name": "stdout",
     "output_type": "stream",
     "text": [
      "star position Ra/Dec:  <SkyCoord (ICRS): (ra, dec) in deg\n",
      "    [(252.895501, 34.875333)]>\n",
      "star position Ra/Dec:  <SkyCoord (ICRS): (ra, dec) in deg\n",
      "    [(252.83754, 34.836825)]>\n",
      "star position Ra/Dec:  <SkyCoord (ICRS): (ra, dec) in deg\n",
      "    [(252.787662, 34.810634)]>\n",
      "star position Ra/Dec:  <SkyCoord (ICRS): (ra, dec) in deg\n",
      "    [(252.829951, 34.945769)]>\n",
      "\n",
      "targets local coords in siderostat local frame:\n",
      "EL: 41.7 arcsec ; CE: 116.7 arcsec\n",
      "EL: -62.0 arcsec ; CE: 151.7 arcsec\n",
      "EL: -147.1 arcsec ; CE: 170.4 arcsec\n",
      "EL: -6.0 arcsec ; CE: -31.1 arcsec\n",
      "\n",
      "siderostat moves sequence: \n",
      "EL: 0.0 arcsec ; CE -30.0 arcsec ; image: False\n",
      "EL: -0.0 arcsec ; CE 30.0 arcsec ; image: True\n",
      "EL: 41.7 arcsec ; CE 116.7 arcsec ; image: True\n",
      "EL: -103.7 arcsec ; CE 35.0 arcsec ; image: True\n",
      "EL: -85.0 arcsec ; CE 18.6 arcsec ; image: True\n",
      "EL: 141.1 arcsec ; CE -201.5 arcsec ; image: True\n",
      "EL: 0.0 arcsec ; CE -30.0 arcsec ; image: False\n",
      "EL: -0.0 arcsec ; CE 30.0 arcsec ; image: True\n",
      "EL: -141.1 arcsec ; CE 231.5 arcsec ; image: False\n",
      "EL: -0.0 arcsec ; CE -30.0 arcsec ; image: True\n",
      "EL: 85.0 arcsec ; CE -18.6 arcsec ; image: True\n",
      "EL: 103.7 arcsec ; CE -35.0 arcsec ; image: True\n",
      "EL: -41.7 arcsec ; CE -116.7 arcsec ; image: True\n"
     ]
    }
   ],
   "source": [
    "star_target_path = cloudpath + 'Target_selection/GuidingStars/'\n",
    "F2_stars = Table.read(star_target_path + \"F2_guidingstars.fits\", format='fits')\n",
    "\n",
    "stars = [36, 40, 46, 21 ]\n",
    "\n",
    "#F2_stars_coords = coordinates.SkyCoord(F2_stars['RA']*u.deg, F2_stars['DEC']*u.deg)\n",
    "\n",
    "star_movs, stars_coord = G2UVcor.compute_autocoll_move_stars(stars, F2_stars, hystcomp = True)\n"
   ]
  },
  {
   "cell_type": "code",
   "execution_count": 94,
   "metadata": {},
   "outputs": [
    {
     "data": {
      "text/plain": [
       "[<SkyCoord (SkyOffsetICRS: rotation=0.0 deg, origin=<ICRS Coordinate: (ra, dec) in deg\n",
       "     (250.39837843, 36.42897653)>): (lon, lat) in deg\n",
       "     [(0.02323068, -0.06674584)]>,\n",
       " <SkyCoord (SkyOffsetICRS: rotation=0.0 deg, origin=<ICRS Coordinate: (ra, dec) in deg\n",
       "     (250.39837843, 36.42897653)>): (lon, lat) in deg\n",
       "     [(-0.03460088, -0.08676068)]>,\n",
       " <SkyCoord (SkyOffsetICRS: rotation=0.0 deg, origin=<ICRS Coordinate: (ra, dec) in deg\n",
       "     (250.39837843, 36.42897653)>): (lon, lat) in deg\n",
       "     [(-0.08202328, -0.09742144)]>,\n",
       " <SkyCoord (SkyOffsetICRS: rotation=0.0 deg, origin=<ICRS Coordinate: (ra, dec) in deg\n",
       "     (250.39837843, 36.42897653)>): (lon, lat) in deg\n",
       "     [(-0.00332875, 0.01778478)]>]"
      ]
     },
     "execution_count": 94,
     "metadata": {},
     "output_type": "execute_result"
    }
   ],
   "source": [
    "stars_coord"
   ]
  },
  {
   "cell_type": "markdown",
   "metadata": {},
   "source": [
    "------------------------------------------------------"
   ]
  }
 ],
 "metadata": {
  "kernelspec": {
   "display_name": "Python 3 (ipykernel)",
   "language": "python",
   "name": "python3"
  },
  "language_info": {
   "codemirror_mode": {
    "name": "ipython",
    "version": 3
   },
   "file_extension": ".py",
   "mimetype": "text/x-python",
   "name": "python",
   "nbconvert_exporter": "python",
   "pygments_lexer": "ipython3",
   "version": "3.8.13"
  },
  "vscode": {
   "interpreter": {
    "hash": "6429251b47eee9d8b9b4d9852116ca976e0b69b141b5bab3b174d6f3c07282ea"
   }
  }
 },
 "nbformat": 4,
 "nbformat_minor": 4
}
