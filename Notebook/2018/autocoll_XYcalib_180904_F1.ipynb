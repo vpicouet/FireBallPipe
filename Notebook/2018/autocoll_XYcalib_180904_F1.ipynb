{
 "cells": [
  {
   "cell_type": "markdown",
   "metadata": {},
   "source": [
    "# UV-Guider alignement with source in autocoll\n",
    "##  Field 1"
   ]
  },
  {
   "cell_type": "code",
   "execution_count": 1,
   "metadata": {},
   "outputs": [
    {
     "name": "stdout",
     "output_type": "stream",
     "text": [
      "/Users/Vincent/Github/FireBallPipe\n"
     ]
    }
   ],
   "source": [
    "cd ../.."
   ]
  },
  {
   "cell_type": "code",
   "execution_count": 2,
   "metadata": {
    "collapsed": true
   },
   "outputs": [],
   "source": [
    "# %matplotlib widget\n",
    "%load_ext autoreload\n",
    "%autoreload 2\n",
    "\n",
    "import sys\n",
    "import numpy as np\n",
    "from astropy.io import fits\n",
    "from astropy import wcs, coordinates\n",
    "from astropy import units as u\n",
    "from astropy.wcs.utils import proj_plane_pixel_scales\n",
    "from matplotlib import pyplot as plt\n",
    "from astropy.table import Table, vstack \n",
    "import matplotlib.patches as patches\n",
    "import unittest\n",
    "from mpl_interactions import heatmap_slicer\n",
    "import pandas as pd\n",
    "import datetime \n",
    "# os.chdir(os.path.dirname(os.path.realpath(__file__)))\n",
    "sys.path.insert(1, './Calibration')\n",
    "from guider2UV.guider2UV import Guider2UV, diff_skycoord, fit_model, plot_fit\n",
    "from Calibration.mapping import Mapping"
   ]
  },
  {
   "cell_type": "markdown",
   "metadata": {},
   "source": [
    "## initialization from last xy calib"
   ]
  },
  {
   "cell_type": "code",
   "execution_count": 57,
   "metadata": {
    "scrolled": false
   },
   "outputs": [
    {
     "name": "stdout",
     "output_type": "stream",
     "text": [
      "FOV center angular position in guider <SkyCoord (SkyOffsetICRS: rotation=0.0 deg, origin=<ICRS Coordinate: (ra, dec) in deg\n",
      "    (250.39272815, 36.41856381)>): (lon, lat) in deg\n",
      "    [(0.17436856, 0.00516991)]>\n",
      "FOV center pixel position in guider [array([1330.61038367]), array([560.93947921])]\n",
      "\n",
      "Guider2UV object:\n",
      "    Local Field Projector: \n",
      "ScienceMaskProjector object:\n",
      "    LocalFrame: <SkyOffsetICRS Frame (rotation=-90.0 deg, origin=<ICRS Coordinate: (ra, dec) in deg\n",
      "    (32.19, -5.688)>)>\n",
      "    gamma: 1.0\n",
      "\n",
      "    Guider Field Projector: \n",
      "GuiderMaskProjector object:\n",
      "    LocalFrame: <SkyOffsetICRS Frame (rotation=0.0 deg, origin=<ICRS Coordinate: (ra, dec) in deg\n",
      "    (250.39272815, 36.41856381)>)>\n",
      "    wcs: WCS Keywords\n",
      "\n",
      "Number of WCS axes: 2\n",
      "CTYPE : 'RA---TAN-SIP'  'DEC--TAN-SIP'  \n",
      "CRVAL : 250.392728151  36.4185638082  \n",
      "CRPIX : 640.0  540.0  \n",
      "PC1_1 PC1_2  : 1.0  0.0  \n",
      "PC2_1 PC2_2  : 0.0  1.0  \n",
      "CDELT : 0.00024551548564194  0.00024661678545423  \n",
      "NAXIS : 0  0\n",
      "\n",
      "    mask_rotation: 83.96815071133501 arcmin\n",
      "    FOV center in guider: [1330.61038367]x[560.93947921] pix\n",
      "\n"
     ]
    }
   ],
   "source": [
    "G2UV = Guider2UV(filename='Notebook/2018/data_needed_to_run_notebooks/F1_180826.pkl')\n",
    "print(G2UV)"
   ]
  },
  {
   "cell_type": "code",
   "execution_count": 58,
   "metadata": {
    "collapsed": true,
    "scrolled": true
   },
   "outputs": [],
   "source": [
    "target_filename = 'Calibration/Targets/2022/targets_F1.txt'\n",
    "F1 = Table.read(target_filename, format='ascii')"
   ]
  },
  {
   "cell_type": "markdown",
   "metadata": {},
   "source": [
    "## Diffuse UV image\n",
    "\n",
    "load new mapping"
   ]
  },
  {
   "cell_type": "code",
   "execution_count": 59,
   "metadata": {
    "collapsed": true
   },
   "outputs": [],
   "source": [
    "mask_det_map_file = 'Notebook/2018/data_needed_to_run_notebooks/mapping-mask-det-180612-F1.pkl'\n",
    "mask_det_map = Mapping(mask_det_map_file)\n",
    "G2UV.set_detector_mapping(mask_det_map, offsets = [1., 1.])\n"
   ]
  },
  {
   "cell_type": "markdown",
   "metadata": {},
   "source": [
    "## Scan sequence\n",
    "\n",
    "GC - 46 - 51 - 14 - 8 - 12 - 16 - 38 - 44"
   ]
  },
  {
   "cell_type": "code",
   "execution_count": 60,
   "metadata": {},
   "outputs": [
    {
     "data": {
      "image/png": "[encoded data removed]",
      "text/plain": [
       "<Figure size 432x288 with 1 Axes>"
      ]
     },
     "metadata": {
      "needs_background": "light"
     },
     "output_type": "display_data"
    },
    {
     "data": {
      "text/html": [
       "<div><i>Table length=16</i>\n",
       "<table id=\"table140495928675008\" class=\"table-striped table-bordered table-condensed\">\n",
       "<thead><tr><th>Internal-count</th><th>x_mm</th><th>y_mm</th><th>ra</th><th>dec</th><th>ra_diff</th><th>dec_diff</th><th>angular_distance</th></tr></thead>\n",
       "<thead><tr><th>str2</th><th>float64</th><th>float64</th><th>float64</th><th>float64</th><th>float64</th><th>float64</th><th>float64</th></tr></thead>\n",
       "<tr><td>46</td><td>6.7589561</td><td>-3.858979</td><td>32.350896</td><td>-5.779373</td><td>-158.35059581807621</td><td>-416.94479999999993</td><td>446.0021047517373</td></tr>\n",
       "<tr><td>51</td><td>8.6160157</td><td>1.0303866</td><td>32.395107</td><td>-5.663555</td><td>1175.38347272062</td><td>-247.3811999999981</td><td>1201.1343663629907</td></tr>\n",
       "<tr><td>14</td><td>-5.1696728</td><td>3.934102</td><td>32.06701</td><td>-5.594838</td><td>318.3004184522386</td><td>394.60679999999826</td><td>506.9809493394291</td></tr>\n",
       "<tr><td>8</td><td>-8.8972191</td><td>-0.6960435</td><td>31.97817</td><td>-5.704451</td><td>-103.92956391966716</td><td>184.38480000000155</td><td>211.6579994414876</td></tr>\n",
       "<tr><td>12</td><td>-7.6793793</td><td>-2.8581218</td><td>32.007183</td><td>-5.755669</td><td>-297.8129982194271</td><td>-133.8768000000016</td><td>326.52041205211793</td></tr>\n",
       "<tr><td>16</td><td>-4.190085</td><td>-1.2881544</td><td>32.090328</td><td>-5.718481</td><td>-679.4032276648445</td><td>73.12320000000199</td><td>683.326970153856</td></tr>\n",
       "<tr><td>38</td><td>3.7831595</td><td>-2.1462593</td><td>32.279995</td><td>-5.738793</td><td>-203.77037807987836</td><td>-398.3760000000007</td><td>447.4659812307715</td></tr>\n",
       "<tr><td>44</td><td>6.2134041</td><td>2.5275849</td><td>32.336883</td><td>-5.628133</td><td>0.0</td><td>0.0</td><td>0.0</td></tr>\n",
       "<tr><td>44</td><td>6.2134041</td><td>2.5275849</td><td>32.336883</td><td>-5.628133</td><td>203.80954947898192</td><td>398.3760000000007</td><td>447.4838207520202</td></tr>\n",
       "<tr><td>38</td><td>3.7831595</td><td>-2.1462593</td><td>32.279995</td><td>-5.738793</td><td>679.3790658711117</td><td>-73.12320000000199</td><td>683.302947104829</td></tr>\n",
       "<tr><td>16</td><td>-4.190085</td><td>-1.2881544</td><td>32.090328</td><td>-5.718481</td><td>297.83241873491284</td><td>133.8768000000016</td><td>326.53812522847755</td></tr>\n",
       "<tr><td>12</td><td>-7.6793793</td><td>-2.8581218</td><td>32.007183</td><td>-5.755669</td><td>103.92024195489533</td><td>-184.38480000000155</td><td>211.6534222709488</td></tr>\n",
       "<tr><td>8</td><td>-8.8972191</td><td>-0.6960435</td><td>31.97817</td><td>-5.704451</td><td>-318.2401840079969</td><td>-394.60679999999826</td><td>506.94313421101026</td></tr>\n",
       "<tr><td>14</td><td>-5.1696728</td><td>3.934102</td><td>32.06701</td><td>-5.594838</td><td>-1175.5224267550486</td><td>247.3811999999981</td><td>1201.2703417289206</td></tr>\n",
       "<tr><td>51</td><td>8.6160157</td><td>1.0303866</td><td>32.395107</td><td>-5.663555</td><td>158.38266949242558</td><td>416.94479999999993</td><td>446.0134933413863</td></tr>\n",
       "<tr><td>46</td><td>6.7589561</td><td>-3.858979</td><td>32.350896</td><td>-5.779373</td><td>0.0</td><td>0.0</td><td>0.0</td></tr>\n",
       "</table></div>"
      ],
      "text/plain": [
       "<Table length=16>\n",
       "Internal-count    x_mm       y_mm    ...       dec_diff       angular_distance \n",
       "     str2       float64    float64   ...       float64            float64      \n",
       "-------------- ---------- ---------- ... ------------------- ------------------\n",
       "            46  6.7589561  -3.858979 ... -416.94479999999993  446.0021047517373\n",
       "            51  8.6160157  1.0303866 ...  -247.3811999999981 1201.1343663629907\n",
       "            14 -5.1696728   3.934102 ...  394.60679999999826  506.9809493394291\n",
       "             8 -8.8972191 -0.6960435 ...  184.38480000000155  211.6579994414876\n",
       "            12 -7.6793793 -2.8581218 ...  -133.8768000000016 326.52041205211793\n",
       "            16  -4.190085 -1.2881544 ...   73.12320000000199   683.326970153856\n",
       "            38  3.7831595 -2.1462593 ...  -398.3760000000007  447.4659812307715\n",
       "            44  6.2134041  2.5275849 ...                 0.0                0.0\n",
       "            44  6.2134041  2.5275849 ...   398.3760000000007  447.4838207520202\n",
       "            38  3.7831595 -2.1462593 ...  -73.12320000000199   683.302947104829\n",
       "            16  -4.190085 -1.2881544 ...   133.8768000000016 326.53812522847755\n",
       "            12 -7.6793793 -2.8581218 ... -184.38480000000155  211.6534222709488\n",
       "             8 -8.8972191 -0.6960435 ... -394.60679999999826 506.94313421101026\n",
       "            14 -5.1696728   3.934102 ...   247.3811999999981 1201.2703417289206\n",
       "            51  8.6160157  1.0303866 ...  416.94479999999993  446.0134933413863\n",
       "            46  6.7589561  -3.858979 ...                 0.0                0.0"
      ]
     },
     "execution_count": 60,
     "metadata": {},
     "output_type": "execute_result"
    }
   ],
   "source": [
    "\n",
    "slits = ['46', '51', '14', '8', '12', '16', '38', '44'] \n",
    "\n",
    "F1p = F1.to_pandas()\n",
    "from functools import reduce\n",
    "import warnings\n",
    "warnings.simplefilter(action='ignore', category=FutureWarning)\n",
    "\n",
    "# selected_slits = F1[mask.values]['Internal-count',\"x_mm\",\"y_mm\",\"ra\",\"dec\"]\n",
    "selected_slits = Table.from_pandas((reduce(pd.DataFrame.append, map(lambda i: F1p[F1p['Internal-count'] == i],slits))))\n",
    "\n",
    "ra,dec = \"ra\", \"dec\"\n",
    "\n",
    "plt.figure()\n",
    "plt.plot(F1[\"x_mm\"],F1[\"y_mm\"],\"x\")\n",
    "plt.plot(selected_slits[\"x_mm\"],selected_slits[\"y_mm\"],\"-o\")\n",
    "for s in selected_slits:\n",
    "    plt.text(s[\"x_mm\"],s[\"y_mm\"],s[\"Internal-count\"])\n",
    "plt.xlabel(\"x_mm\")\n",
    "plt.xlabel(\"y_mm\")\n",
    "plt.title(slits)\n",
    "plt.show()\n",
    "\n",
    "selected_slits = selected_slits['Internal-count',\"x_mm\",\"y_mm\",ra,dec]\n",
    "slit_path = vstack((selected_slits,selected_slits[::-1]) )\n",
    "# slit_path[\"ra_diff\"] = [0] + list((slit_path[ra][1:] - slit_path[ra][:-1])*np.cos(slit_path[dec][:-1]*np.pi/180)) \n",
    "# slit_path[\"dec_diff\"] = [0] + list((slit_path[dec][1:] - slit_path[dec][:-1])) \n",
    "slit_path[\"ra_diff\"] = list((slit_path[ra][:-1] - slit_path[ra][1:])*np.cos(slit_path[dec][:-1]*np.pi/180)) + [0]\n",
    "slit_path[\"dec_diff\"] = list((slit_path[dec][:-1] - slit_path[dec][1:])) + [0]\n",
    "\n",
    "slit_path[\"ra_diff\"] *= 3600\n",
    "slit_path[\"dec_diff\"] *= 3600\n",
    "slit_path[\"angular_distance\"] = np.sqrt(slit_path[\"ra_diff\"]** 2 + slit_path[\"dec_diff\"]** 2)\n",
    "try:\n",
    "    slit_path.to_pandas().to_clipboard()\n",
    "except Exception:\n",
    "    pass\n",
    "slit_path\n",
    "\n",
    "# selected_slits"
   ]
  },
  {
   "cell_type": "code",
   "execution_count": 61,
   "metadata": {},
   "outputs": [
    {
     "name": "stdout",
     "output_type": "stream",
     "text": [
      "slit position in mm on mask: [ 6.7589561 -3.858979 ]\n",
      "slit position in mm on mask: [8.6160157 1.0303866]\n",
      "slit position in mm on mask: [-5.1696728  3.934102 ]\n",
      "slit position in mm on mask: [-8.8972191 -0.6960435]\n",
      "slit position in mm on mask: [-7.6793793 -2.8581218]\n",
      "slit position in mm on mask: [-4.190085  -1.2881544]\n",
      "slit position in mm on mask: [ 3.7831595 -2.1462593]\n",
      "slit position in mm on mask: [6.2134041 2.5275849]\n",
      "\n",
      "targets local coords in siderostat local frame:\n",
      "EL: 155.8 arcsec ; CE: 274.8 arcsec\n",
      "EL: 365.4 arcsec ; CE: 346.9 arcsec\n",
      "EL: 474.4 arcsec ; CE: -227.1 arcsec\n",
      "EL: 273.9 arcsec ; CE: -377.0 arcsec\n",
      "EL: 183.3 arcsec ; CE: -324.2 arcsec\n",
      "EL: 253.7 arcsec ; CE: -181.2 arcsec\n",
      "EL: 225.5 arcsec ; CE: 149.7 arcsec\n",
      "EL: 426.4 arcsec ; CE: 245.7 arcsec\n",
      "\n",
      "siderostat moves sequence: \n",
      "[[   0.          -30.        ]\n",
      " [  -0.           30.        ]\n",
      " [ 155.79863822  274.80731595]\n",
      " [ 209.5897664    72.04872165]\n",
      " [ 108.96407364 -573.93587185]\n",
      " [-200.47576394 -149.87035271]\n",
      " [ -90.56193597   52.70253765]\n",
      " [  70.34575152  143.07068809]\n",
      " [ -28.15483776  330.89959739]\n",
      " [ 200.93813182   95.96810527]\n",
      " [  -0.           30.        ]\n",
      " [   0.          -30.        ]\n",
      " [-200.93813182  -95.96810527]\n",
      " [  28.15483776 -330.89959739]\n",
      " [ -70.34575152 -143.07068809]\n",
      " [  90.56193597  -82.70253765]\n",
      " [   0.           30.        ]\n",
      " [ 200.47576394  149.87035271]\n",
      " [-108.96407364  603.93587185]\n",
      " [  -0.          -30.        ]\n",
      " [-209.5897664   -72.04872165]\n",
      " [-155.79863822 -274.80731595]] [False  True  True  True  True  True  True  True  True  True False  True\n",
      "  True  True  True False  True  True False  True  True  True]\n",
      "            EL          CE  UV_image\n",
      "0     0.000000  -30.000000       0.0\n",
      "1    -0.000000   30.000000       1.0\n",
      "2   155.798638  274.807316       1.0\n",
      "3   209.589766   72.048722       1.0\n",
      "4   108.964074 -573.935872       1.0\n",
      "5  -200.475764 -149.870353       1.0\n",
      "6   -90.561936   52.702538       1.0\n",
      "7    70.345752  143.070688       1.0\n",
      "8   -28.154838  330.899597       1.0\n",
      "9   200.938132   95.968105       1.0\n",
      "10   -0.000000   30.000000       0.0\n",
      "11    0.000000  -30.000000       1.0\n",
      "12 -200.938132  -95.968105       1.0\n",
      "13   28.154838 -330.899597       1.0\n",
      "14  -70.345752 -143.070688       1.0\n",
      "15   90.561936  -82.702538       0.0\n",
      "16    0.000000   30.000000       1.0\n",
      "17  200.475764  149.870353       1.0\n",
      "18 -108.964074  603.935872       0.0\n",
      "19   -0.000000  -30.000000       1.0\n",
      "20 -209.589766  -72.048722       1.0\n",
      "21 -155.798638 -274.807316       1.0\n",
      "(They have been copied to clipboard, paste it in the spreadsheet)\n",
      "Internal-count    x_mm       y_mm    ...          CE         UV_image\n",
      "-------------- ---------- ---------- ... ------------------- --------\n",
      "            46  6.7589561  -3.858979 ...   72.04872165045957     True\n",
      "            51  8.6160157  1.0303866 ...  -573.9358718548895     True\n",
      "            14 -5.1696728   3.934102 ...  -149.8703527090135     True\n",
      "             8 -8.8972191 -0.6960435 ...   52.70253764561901     True\n",
      "            12 -7.6793793 -2.8581218 ...  143.07068809372834     True\n",
      "            16  -4.190085 -1.2881544 ...   330.8995973883277     True\n",
      "            38  3.7831595 -2.1462593 ...   95.96810526907976     True\n",
      "            44  6.2134041  2.5275849 ...               -30.0     True\n",
      "            44  6.2134041  2.5275849 ...  -95.96810526907976     True\n",
      "            38  3.7831595 -2.1462593 ...  -330.8995973883277     True\n",
      "            16  -4.190085 -1.2881544 ... -143.07068809372834     True\n",
      "            12 -7.6793793 -2.8581218 ...                30.0     True\n",
      "             8 -8.8972191 -0.6960435 ...   149.8703527090135     True\n",
      "            14 -5.1696728   3.934102 ...               -30.0     True\n",
      "            51  8.6160157  1.0303866 ...  -72.04872165045957     True\n",
      "            46  6.7589561  -3.858979 ... -274.80731595178423     True\n"
     ]
    }
   ],
   "source": [
    "\n",
    "\n",
    "\n",
    "moves, flags, slits_coord = G2UV.compute_autocoll_moves_slits(slits, F1, hystcomp = True)\n",
    "\n",
    "print(moves,flags)\n",
    "moves_tab = pd.DataFrame(np.hstack((moves,flags[:,None])), columns=[\"EL\",\"CE\",\"UV_image\"])#,dtype=[(\"EL\",float),(\"CE\",float),(\"UV_image\",float)])\n",
    "print(moves_tab)\n",
    "assert moves.sum(axis=0)[0] <0.1\n",
    "assert moves.sum(axis=0)[1] <0.1\n",
    "# slit_path['lon'] = [s.lon.deg*3600 for s in slits_coord]\n",
    "# slit_path['lat'] =  [s.lat.deg*3600 for s in slits_coord]\n",
    "# slit_path\n",
    "print(\"(They have been copied to clipboard, paste it in the spreadsheet)\")\n",
    "moves_tab[\"UV_image\"] = moves_tab[\"UV_image\"].astype(bool)\n",
    "try:\n",
    "    moves_tab.to_clipboard()\n",
    "except Exception:\n",
    "    pass\n",
    "moves_tab \n",
    "# print(slit_path.to_pandas(), moves_tab[moves_tab[\"UV_image\"]])\n",
    "from astropy.table import hstack\n",
    "# print(len(slit_path),len(moves_tab[moves_tab[\"UV_image\"]]))\n",
    "print(hstack((slit_path, Table.from_pandas(moves_tab[moves_tab[\"UV_image\"]][2:]))))\n",
    "\n",
    "# pd.concat([slit_path.to_pandas(), moves_tab[moves_tab[\"UV_image\"]][2:]], axis=1)\n",
    "# hstack((slit_path,moves_tab[moves_tab[\"UV_image\"]]))"
   ]
  },
  {
   "cell_type": "markdown",
   "metadata": {},
   "source": [
    "observed slits position :"
   ]
  },
  {
   "cell_type": "code",
   "execution_count": 45,
   "metadata": {},
   "outputs": [
    {
     "data": {
      "text/html": [
       "<div><i>Table length=16</i>\n",
       "<table id=\"table140496323004112\" class=\"table-striped table-bordered table-condensed\">\n",
       "<thead><tr><th>Internal-count</th><th>x_mm</th><th>y_mm</th><th>ra</th><th>dec</th><th>ra_diff</th><th>dec_diff</th><th>angular_distance</th><th>x_det_obs</th><th>y_det_obs</th></tr></thead>\n",
       "<thead><tr><th>str2</th><th>float64</th><th>float64</th><th>float64</th><th>float64</th><th>float64</th><th>float64</th><th>float64</th><th>float64</th><th>float64</th></tr></thead>\n",
       "<tr><td>46</td><td>6.7589561</td><td>-3.858979</td><td>32.350896</td><td>-5.779373</td><td>-158.35059581807621</td><td>-416.94479999999993</td><td>446.0021047517373</td><td>1965.59756538</td><td>420.22242579</td></tr>\n",
       "<tr><td>51</td><td>8.6160157</td><td>1.0303866</td><td>32.395107</td><td>-5.663555</td><td>1175.38347272062</td><td>-247.3811999999981</td><td>1201.1343663629907</td><td>1631.74361865</td><td>289.23423754</td></tr>\n",
       "<tr><td>14</td><td>-5.1696728</td><td>3.934102</td><td>32.06701</td><td>-5.594838</td><td>318.3004184522386</td><td>394.60679999999826</td><td>506.9809493394291</td><td>1467.73408468</td><td>1349.36778046</td></tr>\n",
       "<tr><td>8</td><td>-8.8972191</td><td>-0.6960435</td><td>31.97817</td><td>-5.704451</td><td>-103.92956391966716</td><td>184.38480000000155</td><td>211.6579994414876</td><td>1784.27150004</td><td>1626.79774278</td></tr>\n",
       "<tr><td>12</td><td>-7.6793793</td><td>-2.8581218</td><td>32.007183</td><td>-5.755669</td><td>-297.8129982194271</td><td>-133.8768000000016</td><td>326.52041205211793</td><td>1927.70920124</td><td>1532.48181218</td></tr>\n",
       "<tr><td>16</td><td>-4.190085</td><td>-1.2881544</td><td>32.090328</td><td>-5.718481</td><td>-679.4032276648445</td><td>73.12320000000199</td><td>683.326970153856</td><td>1818.74748265</td><td>1266.98195373</td></tr>\n",
       "<tr><td>38</td><td>3.7831595</td><td>-2.1462593</td><td>32.279995</td><td>-5.738793</td><td>-203.77037807987836</td><td>-398.3760000000007</td><td>447.4659812307715</td><td>1859.64545293</td><td>654.1904897</td></tr>\n",
       "<tr><td>44</td><td>6.2134041</td><td>2.5275849</td><td>32.336883</td><td>-5.628133</td><td>0.0</td><td>0.0</td><td>0.0</td><td>1539.18268865</td><td>478.63015312</td></tr>\n",
       "<tr><td>44</td><td>6.2134041</td><td>2.5275849</td><td>32.336883</td><td>-5.628133</td><td>203.80954947898192</td><td>398.3760000000007</td><td>447.4838207520202</td><td>1538.98978056</td><td>473.42365165</td></tr>\n",
       "<tr><td>38</td><td>3.7831595</td><td>-2.1462593</td><td>32.279995</td><td>-5.738793</td><td>679.3790658711117</td><td>-73.12320000000199</td><td>683.302947104829</td><td>1859.70918054</td><td>650.33623459</td></tr>\n",
       "<tr><td>16</td><td>-4.190085</td><td>-1.2881544</td><td>32.090328</td><td>-5.718481</td><td>297.83241873491284</td><td>133.8768000000016</td><td>326.53812522847755</td><td>1819.23982594</td><td>1263.17030059</td></tr>\n",
       "<tr><td>12</td><td>-7.6793793</td><td>-2.8581218</td><td>32.007183</td><td>-5.755669</td><td>103.92024195489533</td><td>-184.38480000000155</td><td>211.6534222709488</td><td>1927.97229623</td><td>1527.29654425</td></tr>\n",
       "<tr><td>8</td><td>-8.8972191</td><td>-0.6960435</td><td>31.97817</td><td>-5.704451</td><td>-318.2401840079969</td><td>-394.60679999999826</td><td>506.94313421101026</td><td>1784.71779993</td><td>1630.64211506</td></tr>\n",
       "<tr><td>14</td><td>-5.1696728</td><td>3.934102</td><td>32.06701</td><td>-5.594838</td><td>-1175.5224267550486</td><td>247.3811999999981</td><td>1201.2703417289206</td><td>1468.24324699</td><td>1354.89013602</td></tr>\n",
       "<tr><td>51</td><td>8.6160157</td><td>1.0303866</td><td>32.395107</td><td>-5.663555</td><td>158.38266949242558</td><td>416.94479999999993</td><td>446.0134933413863</td><td>1631.89394058</td><td>287.11784832</td></tr>\n",
       "<tr><td>46</td><td>6.7589561</td><td>-3.858979</td><td>32.350896</td><td>-5.779373</td><td>0.0</td><td>0.0</td><td>0.0</td><td>1966.20476903</td><td>416.24326822</td></tr>\n",
       "</table></div>"
      ],
      "text/plain": [
       "<Table length=16>\n",
       "Internal-count    x_mm       y_mm    ...   x_det_obs     y_det_obs  \n",
       "     str2       float64    float64   ...    float64       float64   \n",
       "-------------- ---------- ---------- ... ------------- -------------\n",
       "            46  6.7589561  -3.858979 ... 1965.59756538  420.22242579\n",
       "            51  8.6160157  1.0303866 ... 1631.74361865  289.23423754\n",
       "            14 -5.1696728   3.934102 ... 1467.73408468 1349.36778046\n",
       "             8 -8.8972191 -0.6960435 ... 1784.27150004 1626.79774278\n",
       "            12 -7.6793793 -2.8581218 ... 1927.70920124 1532.48181218\n",
       "            16  -4.190085 -1.2881544 ... 1818.74748265 1266.98195373\n",
       "            38  3.7831595 -2.1462593 ... 1859.64545293   654.1904897\n",
       "            44  6.2134041  2.5275849 ... 1539.18268865  478.63015312\n",
       "            44  6.2134041  2.5275849 ... 1538.98978056  473.42365165\n",
       "            38  3.7831595 -2.1462593 ... 1859.70918054  650.33623459\n",
       "            16  -4.190085 -1.2881544 ... 1819.23982594 1263.17030059\n",
       "            12 -7.6793793 -2.8581218 ... 1927.97229623 1527.29654425\n",
       "             8 -8.8972191 -0.6960435 ... 1784.71779993 1630.64211506\n",
       "            14 -5.1696728   3.934102 ... 1468.24324699 1354.89013602\n",
       "            51  8.6160157  1.0303866 ... 1631.89394058  287.11784832\n",
       "            46  6.7589561  -3.858979 ... 1966.20476903  416.24326822"
      ]
     },
     "execution_count": 45,
     "metadata": {},
     "output_type": "execute_result"
    }
   ],
   "source": [
    "slits_coord_obs_det = np.array([\n",
    "       [1965.59756538,  420.22242579],\n",
    "       [1631.74361865,  289.23423754],\n",
    "       [1467.73408468, 1349.36778046],\n",
    "       [1784.27150004, 1626.79774278],\n",
    "       [1927.70920124, 1532.48181218],\n",
    "       [1818.74748265, 1266.98195373],\n",
    "       [1859.64545293,  654.1904897 ],\n",
    "       [1539.18268865,  478.63015312],\n",
    "#retour\n",
    "       [1538.98978056,  473.42365165],\n",
    "       [1859.70918054,  650.33623459],\n",
    "       [1819.23982594, 1263.17030059],\n",
    "       [1927.97229623, 1527.29654425],\n",
    "       [1784.71779993, 1630.64211506],\n",
    "       [1468.24324699, 1354.89013602],\n",
    "       [1631.89394058,  287.11784832],\n",
    "       [1966.20476903,  416.24326822]])\n",
    "\n",
    "# slits_coord_obs_det\n",
    "slit_path[\"x_det_obs\"] = slits_coord_obs_det[:,0]\n",
    "slit_path[\"y_det_obs\"] = slits_coord_obs_det[:,1]\n",
    "slit_path\n"
   ]
  },
  {
   "cell_type": "code",
   "execution_count": 46,
   "metadata": {},
   "outputs": [
    {
     "ename": "NameError",
     "evalue": "name 'Field' is not defined",
     "output_type": "error",
     "traceback": [
      "\u001b[0;31m---------------------------------------------------------------------------\u001b[0m",
      "\u001b[0;31mNameError\u001b[0m                                 Traceback (most recent call last)",
      "\u001b[1;32m/Users/Vincent/Github/FireBallPipe/Notebook/2018/autocoll_XYcalib_180904_F1.ipynb Cell 15'\u001b[0m in \u001b[0;36m<cell line: 10>\u001b[0;34m()\u001b[0m\n\u001b[1;32m      <a href='vscode-notebook-cell:/Users/Vincent/Github/FireBallPipe/Notebook/2018/autocoll_XYcalib_180904_F1.ipynb#ch0000037?line=7'>8</a>\u001b[0m plt\u001b[39m.\u001b[39mxlabel(\u001b[39m\"\u001b[39m\u001b[39mx_mm\u001b[39m\u001b[39m\"\u001b[39m)\n\u001b[1;32m      <a href='vscode-notebook-cell:/Users/Vincent/Github/FireBallPipe/Notebook/2018/autocoll_XYcalib_180904_F1.ipynb#ch0000037?line=8'>9</a>\u001b[0m plt\u001b[39m.\u001b[39mxlabel(\u001b[39m\"\u001b[39m\u001b[39my_mm\u001b[39m\u001b[39m\"\u001b[39m)\n\u001b[0;32m---> <a href='vscode-notebook-cell:/Users/Vincent/Github/FireBallPipe/Notebook/2018/autocoll_XYcalib_180904_F1.ipynb#ch0000037?line=9'>10</a>\u001b[0m plt\u001b[39m.\u001b[39mtitle(Field \u001b[39m+\u001b[39m \u001b[39m\"\u001b[39m\u001b[39m : \u001b[39m\u001b[39m%s\u001b[39;00m\u001b[39m\"\u001b[39m\u001b[39m%\u001b[39m(slits))\n\u001b[1;32m     <a href='vscode-notebook-cell:/Users/Vincent/Github/FireBallPipe/Notebook/2018/autocoll_XYcalib_180904_F1.ipynb#ch0000037?line=10'>11</a>\u001b[0m plt\u001b[39m.\u001b[39mshow()\n",
      "\u001b[0;31mNameError\u001b[0m: name 'Field' is not defined"
     ]
    },
    {
     "data": {
      "image/png": "[encoded data removed]",
      "text/plain": [
       "<Figure size 432x288 with 1 Axes>"
      ]
     },
     "metadata": {
      "needs_background": "light"
     },
     "output_type": "display_data"
    }
   ],
   "source": [
    "# TODO create some quiver of the error\n",
    "plt.figure()\n",
    "plt.plot(F1[\"x_mm\"],F1[\"y_mm\"],\"x\")\n",
    "plt.plot(selected_slits[\"x_mm\"],selected_slits[\"y_mm\"],\"-o\")\n",
    "for s in selected_slits:\n",
    "    plt.text(s[\"x_mm\"],s[\"y_mm\"],s[\"Internal-count\"])\n",
    "plt.quiver(slit_path[\"x_mm\"],slit_path[\"y_mm\"],slit_path[\"x_det_obs\"],slit_path[\"y_det_obs\"])\n",
    "plt.xlabel(\"x_mm\")\n",
    "plt.xlabel(\"y_mm\")\n",
    "plt.title(Field + \" : %s\"%(slits))\n",
    "plt.show()"
   ]
  },
  {
   "cell_type": "code",
   "execution_count": null,
   "metadata": {},
   "outputs": [
    {
     "name": "stdout",
     "output_type": "stream",
     "text": [
      "wave:  0.20255\n"
     ]
    }
   ],
   "source": [
    "valid = np.isfinite(slits_coord_obs_det[:,0])\n",
    "#valid = np.array([True]*8 + [False]*8)\n",
    "obs_wave = G2UV.mask_det_map.w[0]\n",
    "print(\"wave: \", obs_wave)\n",
    "\n",
    "slits_coord_valid = [slits_coord[i] for i in np.nonzero(valid)[0]]\n",
    "slits_valid = np.array(slits + slits[::-1])[valid]"
   ]
  },
  {
   "cell_type": "code",
   "execution_count": null,
   "metadata": {},
   "outputs": [
    {
     "ename": "ValueError",
     "evalue": "Single argument to subplot must be a three-digit integer, not '120'",
     "output_type": "error",
     "traceback": [
      "\u001b[0;31m---------------------------------------------------------------------------\u001b[0m",
      "\u001b[0;31mValueError\u001b[0m                                Traceback (most recent call last)",
      "\u001b[1;32m/Users/Vincent/Github/FireBallPipe/Notebook/2018/autocoll_XYcalib_180904_F1.ipynb Cell 17'\u001b[0m in \u001b[0;36m<cell line: 5>\u001b[0;34m()\u001b[0m\n\u001b[1;32m      <a href='vscode-notebook-cell:/Users/Vincent/Github/FireBallPipe/Notebook/2018/autocoll_XYcalib_180904_F1.ipynb#ch0000016?line=2'>3</a>\u001b[0m pair_diff\n\u001b[1;32m      <a href='vscode-notebook-cell:/Users/Vincent/Github/FireBallPipe/Notebook/2018/autocoll_XYcalib_180904_F1.ipynb#ch0000016?line=3'>4</a>\u001b[0m plt\u001b[39m.\u001b[39mfigure()\n\u001b[0;32m----> <a href='vscode-notebook-cell:/Users/Vincent/Github/FireBallPipe/Notebook/2018/autocoll_XYcalib_180904_F1.ipynb#ch0000016?line=4'>5</a>\u001b[0m plt\u001b[39m.\u001b[39;49msubplot(\u001b[39m'\u001b[39;49m\u001b[39m120\u001b[39;49m\u001b[39m'\u001b[39;49m)\n\u001b[1;32m      <a href='vscode-notebook-cell:/Users/Vincent/Github/FireBallPipe/Notebook/2018/autocoll_XYcalib_180904_F1.ipynb#ch0000016?line=5'>6</a>\u001b[0m plt\u001b[39m.\u001b[39mplot(pair_diff[:,\u001b[39m0\u001b[39m],\u001b[39m'\u001b[39m\u001b[39m*\u001b[39m\u001b[39m'\u001b[39m)\n\u001b[1;32m      <a href='vscode-notebook-cell:/Users/Vincent/Github/FireBallPipe/Notebook/2018/autocoll_XYcalib_180904_F1.ipynb#ch0000016?line=6'>7</a>\u001b[0m plt\u001b[39m.\u001b[39mplot(np\u001b[39m.\u001b[39mabs(pair_diff[:,\u001b[39m0\u001b[39m]),\u001b[39m'\u001b[39m\u001b[39m-\u001b[39m\u001b[39m'\u001b[39m)\n",
      "File \u001b[0;32m~/opt/anaconda3/envs/py38/lib/python3.8/site-packages/matplotlib/pyplot.py:1289\u001b[0m, in \u001b[0;36msubplot\u001b[0;34m(*args, **kwargs)\u001b[0m\n\u001b[1;32m   1286\u001b[0m fig \u001b[39m=\u001b[39m gcf()\n\u001b[1;32m   1288\u001b[0m \u001b[39m# First, search for an existing subplot with a matching spec.\u001b[39;00m\n\u001b[0;32m-> 1289\u001b[0m key \u001b[39m=\u001b[39m SubplotSpec\u001b[39m.\u001b[39;49m_from_subplot_args(fig, args)\n\u001b[1;32m   1291\u001b[0m \u001b[39mfor\u001b[39;00m ax \u001b[39min\u001b[39;00m fig\u001b[39m.\u001b[39maxes:\n\u001b[1;32m   1292\u001b[0m     \u001b[39m# if we found an axes at the position sort out if we can re-use it\u001b[39;00m\n\u001b[1;32m   1293\u001b[0m     \u001b[39mif\u001b[39;00m \u001b[39mhasattr\u001b[39m(ax, \u001b[39m'\u001b[39m\u001b[39mget_subplotspec\u001b[39m\u001b[39m'\u001b[39m) \u001b[39mand\u001b[39;00m ax\u001b[39m.\u001b[39mget_subplotspec() \u001b[39m==\u001b[39m key:\n\u001b[1;32m   1294\u001b[0m         \u001b[39m# if the user passed no kwargs, re-use\u001b[39;00m\n",
      "File \u001b[0;32m~/opt/anaconda3/envs/py38/lib/python3.8/site-packages/matplotlib/gridspec.py:582\u001b[0m, in \u001b[0;36mSubplotSpec._from_subplot_args\u001b[0;34m(figure, args)\u001b[0m\n\u001b[1;32m    580\u001b[0m     \u001b[39mreturn\u001b[39;00m arg\n\u001b[1;32m    581\u001b[0m \u001b[39melif\u001b[39;00m \u001b[39mnot\u001b[39;00m \u001b[39misinstance\u001b[39m(arg, Integral):\n\u001b[0;32m--> 582\u001b[0m     \u001b[39mraise\u001b[39;00m \u001b[39mValueError\u001b[39;00m(\n\u001b[1;32m    583\u001b[0m         \u001b[39mf\u001b[39m\u001b[39m\"\u001b[39m\u001b[39mSingle argument to subplot must be a three-digit \u001b[39m\u001b[39m\"\u001b[39m\n\u001b[1;32m    584\u001b[0m         \u001b[39mf\u001b[39m\u001b[39m\"\u001b[39m\u001b[39minteger, not \u001b[39m\u001b[39m{\u001b[39;00marg\u001b[39m!r}\u001b[39;00m\u001b[39m\"\u001b[39m)\n\u001b[1;32m    585\u001b[0m \u001b[39mtry\u001b[39;00m:\n\u001b[1;32m    586\u001b[0m     rows, cols, num \u001b[39m=\u001b[39m \u001b[39mmap\u001b[39m(\u001b[39mint\u001b[39m, \u001b[39mstr\u001b[39m(arg))\n",
      "\u001b[0;31mValueError\u001b[0m: Single argument to subplot must be a three-digit integer, not '120'"
     ]
    },
    {
     "data": {
      "text/plain": [
       "<Figure size 432x288 with 0 Axes>"
      ]
     },
     "metadata": {},
     "output_type": "display_data"
    }
   ],
   "source": [
    "mid  = len(slits_coord_obs_det)//2\n",
    "pair_diff = slits_coord_obs_det[:mid] - slits_coord_obs_det[::-1][:mid]\n",
    "pair_diff\n",
    "plt.figure()\n",
    "plt.subplot('120')\n",
    "plt.plot(pair_diff[:,0],'*')\n",
    "plt.plot(np.abs(pair_diff[:,0]),'-')\n",
    "plt.title(\"El pair diff\")\n",
    "plt.ylabel(\"El arcsec\")\n",
    "plt.subplot('121')\n",
    "plt.plot(pair_diff[:,1],'*')\n",
    "plt.plot(np.abs(pair_diff[:,1]),'-')\n",
    "plt.title(\"Ce pair diff\")\n",
    "plt.ylabel(\"Ce arcsec\")\n"
   ]
  },
  {
   "cell_type": "code",
   "execution_count": null,
   "metadata": {
    "collapsed": true
   },
   "outputs": [],
   "source": [
    "slits_coord_obs = G2UV.detector2guider(slits_coord_obs_det, wave=obs_wave, angle=True  )\n"
   ]
  },
  {
   "cell_type": "code",
   "execution_count": 47,
   "metadata": {},
   "outputs": [
    {
     "name": "stdout",
     "output_type": "stream",
     "text": [
      "Fitting rotation, translation and magnification\n",
      "gamma: 1.0006108790418187\n",
      "theta: -39.644068270865695 arcmin\n",
      "dx: 1.1024747750345638 arcsec\n",
      "dy: 4.984655023227374 arcsec\n",
      "variances: [4.11192686e-04 1.41357633e+00 3.49021087e-01 3.49021087e-01]\n",
      "\n",
      "residuals in arcsec: [[ 1.17318472  0.54579993]\n",
      " [-0.01797802  1.82609321]\n",
      " [ 1.46175773 -5.01449536]\n",
      " [ 0.68420164 -2.2945999 ]\n",
      " [-0.25537615  4.34532807]\n",
      " [-1.11057397  2.24512917]\n",
      " [ 0.08082209  2.43193811]\n",
      " [-0.45225052  4.16929747]\n",
      " [-0.26025613 -1.60154367]\n",
      " [ 0.01032764 -1.86938962]\n",
      " [-1.68968467 -1.98105369]\n",
      " [-0.50696513 -1.39368167]\n",
      " [ 0.02409439  1.96014729]\n",
      " [ 0.720119    1.10974138]\n",
      " [-0.24087447 -0.53630279]\n",
      " [ 0.37945184 -3.94240794]]\n",
      "max residual in EL,CE 1.7, 5.0 arcsec\n",
      "mean residual in EL,CE 0.8, 2.7 arcsec\n"
     ]
    },
    {
     "data": {
      "image/png": "[encoded data removed]",
      "text/plain": [
       "<Figure size 576x288 with 2 Axes>"
      ]
     },
     "metadata": {
      "needs_background": "light"
     },
     "output_type": "display_data"
    }
   ],
   "source": [
    "weight = np.array( [1.]*16  + [1./(1. + 1e-1)]*16)\n",
    "\n",
    "G2UVcor = G2UV.update_model(slits_coord_valid, slits_coord_obs, labels=slits_valid, plot=True)[0]"
   ]
  },
  {
   "cell_type": "code",
   "execution_count": 48,
   "metadata": {},
   "outputs": [],
   "source": [
    "#G2UVcor.save(filename=cloudpath + 'TestsFTS2018-Flight/E2E-AIT-Flight/XYCalibration/F1_180904.pkl')"
   ]
  },
  {
   "cell_type": "code",
   "execution_count": 53,
   "metadata": {},
   "outputs": [
    {
     "name": "stdout",
     "output_type": "stream",
     "text": [
      "slit position in mm on mask: [ 6.7589561 -3.858979 ]\n",
      "slit position in mm on mask: [8.6160157 1.0303866]\n",
      "slit position in mm on mask: [-5.1696728  3.934102 ]\n",
      "slit position in mm on mask: [-8.8972191 -0.6960435]\n",
      "slit position in mm on mask: [-7.6793793 -2.8581218]\n",
      "slit position in mm on mask: [-4.190085  -1.2881544]\n",
      "slit position in mm on mask: [ 3.7831595 -2.1462593]\n",
      "slit position in mm on mask: [6.2134041 2.5275849]\n",
      "\n",
      "targets local coords in siderostat local frame:\n",
      "EL: 153.2 arcsec ; CE: 274.2 arcsec\n",
      "EL: 362.0 arcsec ; CE: 348.7 arcsec\n",
      "EL: 477.8 arcsec ; CE: -224.2 arcsec\n",
      "EL: 279.1 arcsec ; CE: -376.4 arcsec\n",
      "EL: 187.8 arcsec ; CE: -324.7 arcsec\n",
      "EL: 256.5 arcsec ; CE: -180.8 arcsec\n",
      "EL: 224.4 arcsec ; CE: 149.9 arcsec\n",
      "EL: 424.3 arcsec ; CE: 248.1 arcsec\n",
      "\n",
      "siderostat moves sequence: \n"
     ]
    },
    {
     "name": "stderr",
     "output_type": "stream",
     "text": [
      "/var/folders/m8/f6l41h_51qxdzrz8p1xqr3f80000gp/T/ipykernel_30218/2957200328.py:21: RuntimeWarning: invalid value encountered in true_divide\n",
      "  new_cat[\"frame_divided_sky\"] = new_cat[\"Frame_angular_distance\"] / new_cat[\"angular_distance\"]\n",
      "/var/folders/m8/f6l41h_51qxdzrz8p1xqr3f80000gp/T/ipykernel_30218/2957200328.py:22: RuntimeWarning: invalid value encountered in true_divide\n",
      "  new_cat[\"EL_dec_ratio\"] =   new_cat[\"El_sky\"] / new_cat[\"dec_diff\"]\n",
      "/var/folders/m8/f6l41h_51qxdzrz8p1xqr3f80000gp/T/ipykernel_30218/2957200328.py:23: RuntimeWarning: invalid value encountered in true_divide\n",
      "  new_cat[\"CE_ra_ratio\"] =   new_cat[\"Cel_sky\"] / new_cat[\"ra_diff\"]\n"
     ]
    },
    {
     "data": {
      "text/html": [
       "<div><i>Table length=16</i>\n",
       "<table id=\"table140496324166944\" class=\"table-striped table-bordered table-condensed\">\n",
       "<thead><tr><th>ra_diff</th><th>dec_diff</th><th>EL_moves</th><th>CE_moves</th><th>El_sky</th><th>Cel_sky</th><th>frame_divided_sky</th><th>EL_dec_ratio</th><th>CE_ra_ratio</th></tr></thead>\n",
       "<thead><tr><th>float64</th><th>float64</th><th>float64</th><th>float64</th><th>float64</th><th>float64</th><th>float64</th><th>float64</th><th>float64</th></tr></thead>\n",
       "<tr><td>-158.35059581807621</td><td>-416.94479999999993</td><td>208.80678756487114</td><td>74.42960498154326</td><td>419.19633057948397</td><td>153.2178076308057</td><td>1.000712057283903</td><td>-1.0054000687368785</td><td>-0.9675859243803073</td></tr>\n",
       "<tr><td>1175.38347272062</td><td>-247.3811999999981</td><td>115.78673732422465</td><td>-572.899341335197</td><td>232.4511381173669</td><td>-1179.3476680989831</td><td>1.0007520053310848</td><td>-0.9396475484691993</td><td>-1.0033726825928455</td></tr>\n",
       "<tr><td>318.3004184522386</td><td>394.60679999999826</td><td>-198.76954385674884</td><td>-152.17435387478088</td><td>-399.0457608559318</td><td>-313.26003791246893</td><td>1.000660576348983</td><td>-1.011249073396438</td><td>-0.984164706523859</td></tr>\n",
       "<tr><td>-103.92956391966716</td><td>184.38480000000155</td><td>-91.21495673743885</td><td>51.701376817820346</td><td>-183.1213228469475</td><td>106.43038626209226</td><td>1.0006888085503678</td><td>-0.9931476067818278</td><td>-1.0240626655987715</td></tr>\n",
       "<tr><td>-297.8129982194271</td><td>-133.8768000000016</td><td>68.67709840673314</td><td>143.90893527232186</td><td>137.8747692193893</td><td>296.24517779419085</td><td>1.0007270115514861</td><td>-1.0298630473643502</td><td>-0.9947355540738317</td></tr>\n",
       "<tr><td>-679.4032276648445</td><td>73.12320000000199</td><td>-32.076994595431245</td><td>330.69188505654813</td><td>-64.39713280989585</td><td>680.7490869020077</td><td>1.000674984895498</td><td>-0.8806662291843642</td><td>-1.0019809432489584</td></tr>\n",
       "<tr><td>-203.77037807987836</td><td>-398.3760000000007</td><td>199.86945810288535</td><td>98.25956174971964</td><td>401.2539266981905</td><td>202.27320343550286</td><td>1.004219718183638</td><td>-1.007224146781407</td><td>-0.9926526384331064</td></tr>\n",
       "<tr><td>0.0</td><td>0.0</td><td>0.0</td><td>0.0</td><td>0.0</td><td>0.0</td><td>nan</td><td>nan</td><td>nan</td></tr>\n",
       "<tr><td>203.80954947898192</td><td>398.3760000000007</td><td>-199.86945810288537</td><td>-98.25956174971964</td><td>-401.2539266981906</td><td>-202.27320343550286</td><td>1.0041796836658072</td><td>-1.0072241467814071</td><td>-0.9924618544744024</td></tr>\n",
       "<tr><td>679.3790658711117</td><td>-73.12320000000199</td><td>32.076994595431216</td><td>-330.69188505654813</td><td>64.3971328098958</td><td>-680.7490869020077</td><td>1.0007101658709703</td><td>-0.8806662291843634</td><td>-1.0020165782252053</td></tr>\n",
       "<tr><td>297.83241873491284</td><td>133.8768000000016</td><td>-68.67709840673314</td><td>-143.90893527232186</td><td>-137.8747692193893</td><td>-296.24517779419085</td><td>1.0006727267599902</td><td>-1.0298630473643502</td><td>-0.9946706911642996</td></tr>\n",
       "<tr><td>103.92024195489533</td><td>-184.38480000000155</td><td>91.21495673743897</td><td>-51.70137681782046</td><td>183.12132284694772</td><td>-106.43038626209248</td><td>1.0007104492273018</td><td>-0.993147606781829</td><td>-1.0241545271640786</td></tr>\n",
       "<tr><td>-318.2401840079969</td><td>-394.60679999999826</td><td>198.76954385674884</td><td>152.17435387478085</td><td>399.0457608559318</td><td>313.2600379124689</td><td>1.0007352200430084</td><td>-1.011249073396438</td><td>-0.9843509828557575</td></tr>\n",
       "<tr><td>-1175.5224267550486</td><td>247.3811999999981</td><td>-115.7867373242247</td><td>572.899341335197</td><td>-232.451138117367</td><td>1179.3476680989831</td><td>1.000638727232556</td><td>-0.9396475484691997</td><td>-1.0032540777248238</td></tr>\n",
       "<tr><td>158.38266949242558</td><td>416.94479999999993</td><td>-208.80678756487114</td><td>-74.42960498154326</td><td>-419.19633057948397</td><td>-153.2178076308057</td><td>1.0006865049202474</td><td>-1.0054000687368785</td><td>-0.96738998099873</td></tr>\n",
       "<tr><td>0.0</td><td>0.0</td><td>0.0</td><td>0.0</td><td>0.0</td><td>0.0</td><td>nan</td><td>nan</td><td>nan</td></tr>\n",
       "</table></div>"
      ],
      "text/plain": [
       "<Table length=16>\n",
       "      ra_diff             dec_diff      ...     CE_ra_ratio    \n",
       "      float64             float64       ...       float64      \n",
       "------------------- ------------------- ... -------------------\n",
       "-158.35059581807621 -416.94479999999993 ... -0.9675859243803073\n",
       "   1175.38347272062  -247.3811999999981 ... -1.0033726825928455\n",
       "  318.3004184522386  394.60679999999826 ...  -0.984164706523859\n",
       "-103.92956391966716  184.38480000000155 ... -1.0240626655987715\n",
       " -297.8129982194271  -133.8768000000016 ... -0.9947355540738317\n",
       " -679.4032276648445   73.12320000000199 ... -1.0019809432489584\n",
       "-203.77037807987836  -398.3760000000007 ... -0.9926526384331064\n",
       "                0.0                 0.0 ...                 nan\n",
       " 203.80954947898192   398.3760000000007 ... -0.9924618544744024\n",
       "  679.3790658711117  -73.12320000000199 ... -1.0020165782252053\n",
       " 297.83241873491284   133.8768000000016 ... -0.9946706911642996\n",
       " 103.92024195489533 -184.38480000000155 ... -1.0241545271640786\n",
       " -318.2401840079969 -394.60679999999826 ... -0.9843509828557575\n",
       "-1175.5224267550486   247.3811999999981 ... -1.0032540777248238\n",
       " 158.38266949242558  416.94479999999993 ...   -0.96738998099873\n",
       "                0.0                 0.0 ...                 nan"
      ]
     },
     "execution_count": 53,
     "metadata": {},
     "output_type": "execute_result"
    }
   ],
   "source": [
    "CEg, Elg = 1.02928, 1.00379\n",
    "\n",
    "\n",
    "moves, flags, slit_coords = G2UVcor.compute_autocoll_moves_slits(slits, F1, hystcomp = True, CEg = CEg, Elg = Elg)\n",
    "moves = Table.from_pandas(pd.DataFrame(np.hstack((moves,flags[:,None])), columns=[\"EL\",\"CE\",\"UV_image\"]))\n",
    "\n",
    "\n",
    "moves[\"EL_abs\"] =  [np.sum(moves[\"EL\"][:i+1]) for i in range(len(moves))]\n",
    "moves[\"CE_abs\"] = [np.sum(moves[\"CE\"][:i+1]) for i in range(len(moves))]\n",
    "moves[\"UV_image\"] = moves[\"UV_image\"].astype(bool)\n",
    "new_cat = hstack((slit_path,moves[moves[\"UV_image\"]][1:-1]))\n",
    "new_cat\n",
    "new_cat[\"EL_moves\"] =  list(new_cat[\"EL_abs\"][1:] - new_cat[\"EL_abs\"][:-1]) +  [0]\n",
    "new_cat[\"CE_moves\"] =  list(new_cat[\"CE_abs\"][1:] - new_cat[\"CE_abs\"][:-1]) +  [0]\n",
    "\n",
    "\n",
    "\n",
    "new_cat[\"El_sky\"] = new_cat[\"EL_moves\"]  * 2 * Elg \n",
    "new_cat[\"Cel_sky\"] = new_cat[\"CE_moves\"] * 2 * CEg \n",
    "new_cat[\"Frame_angular_distance\"] = np.sqrt(new_cat[\"El_sky\"]**2 + new_cat[\"Cel_sky\"]**2)\n",
    "new_cat[\"frame_divided_sky\"] = new_cat[\"Frame_angular_distance\"] / new_cat[\"angular_distance\"]\n",
    "new_cat[\"EL_dec_ratio\"] =   new_cat[\"El_sky\"] / new_cat[\"dec_diff\"]\n",
    "new_cat[\"CE_ra_ratio\"] =   new_cat[\"Cel_sky\"] / new_cat[\"ra_diff\"]\n",
    "# new_cat\n",
    "new_cat.to_pandas().to_clipboard()\n",
    "new_cat[\"ra_diff\",\"dec_diff\",\"EL_moves\",\"CE_moves\",\"El_sky\",\"Cel_sky\",\"frame_divided_sky\",\"EL_dec_ratio\",\"CE_ra_ratio\"]\n",
    "\n",
    "# print(\"(They have been copied to clipboard, paste it in the spreadsheet)\")\n",
    "# moves.to_clipboard()\n",
    "# moves\n",
    "\n",
    "# from astropy.table import hstack \n",
    "# # Table.from_pandas(a[moves_tab[\"UV_image\"]])[2:]\n",
    "# print(moves_tab[moves_tab[\"UV_image\"]],len(moves_tab[moves_tab[\"UV_image\"]]))\n",
    "\n",
    "# new_cat = hstack((slit_path,Table.from_pandas(moves_tab[moves_tab[\"UV_image\"]])[2:]))\n",
    "# print(Elg,CEg)\n",
    "# new_cat[\"El_sky\"] = new_cat[\"EL\"]  * 2 * Elg \n",
    "# new_cat[\"Cel_sky\"] = new_cat[\"CE\"] * 2 * CEg \n",
    "# new_cat[\"Frame_angular_distance\"] = np.sqrt(new_cat[\"El_sky\"]**2 + new_cat[\"Cel_sky\"]**2)\n",
    "# new_cat[\"frame_divided_sky\"] = new_cat[\"Frame_angular_distance\"] / new_cat[\"angular_distance\"]\n",
    "# new_cat[\"EL_dec_ratio\"] =   new_cat[\"El_sky\"] / new_cat[\"dec_diff\"]\n",
    "# new_cat[\"CE_ra_ratio\"] =   new_cat[\"Cel_sky\"] / new_cat[\"ra_diff\"]\n",
    "# # new_cat\n",
    "# new_cat.to_pandas().to_clipboard()\n",
    "# new_cat"
   ]
  },
  {
   "cell_type": "markdown",
   "metadata": {},
   "source": [
    "## Star sequence\n",
    "\n",
    "gc - s8 - s25 - s31"
   ]
  },
  {
   "cell_type": "code",
   "execution_count": 21,
   "metadata": {},
   "outputs": [
    {
     "name": "stdout",
     "output_type": "stream",
     "text": [
      "star position Ra/Dec:  <SkyCoord (ICRS): (ra, dec) in deg\n",
      "    [(32.1014, -5.786504)]>\n",
      "star position Ra/Dec:  <SkyCoord (ICRS): (ra, dec) in deg\n",
      "    [(32.221491, -5.776507)]>\n",
      "star position Ra/Dec:  <SkyCoord (ICRS): (ra, dec) in deg\n",
      "    [(32.254526, -5.815258)]>\n",
      "\n",
      "targets local coords in siderostat local frame:\n",
      "EL: 134.8 arcsec ; CE: -159.9 arcsec\n",
      "EL: 155.5 arcsec ; CE: 48.8 arcsec\n",
      "EL: 86.8 arcsec ; CE: 107.2 arcsec\n",
      "\n",
      "siderostat moves sequence: \n",
      "EL: -0.0 arcsec ; CE 30.0 arcsec ; image: False\n",
      "EL: 0.0 arcsec ; CE -30.0 arcsec ; image: True\n",
      "EL: 134.8 arcsec ; CE -159.9 arcsec ; image: True\n",
      "EL: 20.7 arcsec ; CE 208.7 arcsec ; image: True\n",
      "EL: -68.7 arcsec ; CE 58.3 arcsec ; image: True\n",
      "EL: -0.0 arcsec ; CE 30.0 arcsec ; image: False\n",
      "EL: 0.0 arcsec ; CE -30.0 arcsec ; image: True\n",
      "EL: 68.7 arcsec ; CE -58.3 arcsec ; image: True\n",
      "EL: -20.7 arcsec ; CE -238.7 arcsec ; image: False\n",
      "EL: 0.0 arcsec ; CE 30.0 arcsec ; image: True\n",
      "EL: -134.8 arcsec ; CE 159.9 arcsec ; image: True\n"
     ]
    }
   ],
   "source": [
    "star_target_path = cloudpath + 'Target_selection/GuidingStars/'\n",
    "\n",
    "F1_stars = Table.read(star_target_path + \"F1_guidingstars.fits\", format='fits')\n",
    "\n",
    "stars = [8, 25, 31]\n",
    "\n",
    "star_movs, stars_coord = G2UVcor.compute_autocoll_move_stars(stars, F1_stars, hystcomp = True)\n"
   ]
  },
  {
   "cell_type": "code",
   "execution_count": 22,
   "metadata": {},
   "outputs": [
    {
     "data": {
      "text/plain": [
       "[<SkyCoord (SkyOffsetICRS: rotation=0.0 deg, origin=<ICRS Coordinate: (ra, dec) in deg\n",
       "     (250.39272815, 36.41856381)>): (lon, lat) in deg\n",
       "     [(0.07519354, 0.09142528)]>,\n",
       " <SkyCoord (SkyOffsetICRS: rotation=0.0 deg, origin=<ICRS Coordinate: (ra, dec) in deg\n",
       "     (250.39272815, 36.41856381)>): (lon, lat) in deg\n",
       "     [(0.08673703, -0.02792538)]>,\n",
       " <SkyCoord (SkyOffsetICRS: rotation=0.0 deg, origin=<ICRS Coordinate: (ra, dec) in deg\n",
       "     (250.39272815, 36.41856381)>): (lon, lat) in deg\n",
       "     [(0.04840695, -0.06128789)]>]"
      ]
     },
     "execution_count": 22,
     "metadata": {},
     "output_type": "execute_result"
    }
   ],
   "source": [
    "stars_coord"
   ]
  },
  {
   "cell_type": "markdown",
   "metadata": {},
   "source": [
    "------------------------------------------------------"
   ]
  },
  {
   "cell_type": "markdown",
   "metadata": {},
   "source": [
    "Re-compute model (thermal drift) ?"
   ]
  },
  {
   "cell_type": "code",
   "execution_count": 24,
   "metadata": {},
   "outputs": [
    {
     "data": {
      "text/plain": [
       "array([[1967.77672211,  420.883372  ],\n",
       "       [1634.94667484,  284.99941421],\n",
       "       [1460.30889342, 1343.63228178],\n",
       "       [1774.05043782, 1625.66456504],\n",
       "       [1918.36655798, 1531.24794446],\n",
       "       [1811.96613007, 1264.73988401],\n",
       "       [1858.73062442,  652.77625595],\n",
       "       [1539.37281284,  472.87952084],\n",
       "       [1538.92830776,  467.65309777],\n",
       "       [1858.32109489,  647.99384259],\n",
       "       [1811.64481037, 1260.92668703],\n",
       "       [1917.94530091, 1526.91879826],\n",
       "       [1773.67417428, 1628.30043431],\n",
       "       [1459.76904708, 1347.27853125],\n",
       "       [1634.04334215,  281.33418915],\n",
       "       [1966.71028008,  414.34595604]])"
      ]
     },
     "execution_count": 24,
     "metadata": {},
     "output_type": "execute_result"
    }
   ],
   "source": [
    "slits_coord_obs_det2 = np.array([\n",
    "       [1967.77672211,  420.883372  ],\n",
    "       [1634.94667484,  284.99941421],\n",
    "       [1460.30889342, 1343.63228178],\n",
    "       [1774.05043782, 1625.66456504],\n",
    "       [1918.36655798, 1531.24794446],\n",
    "       [1811.96613007, 1264.73988401],\n",
    "       [1858.73062442,  652.77625595],\n",
    "       [1539.37281284,  472.87952084],\n",
    "#retour\n",
    "       [1538.92830776,  467.65309777],\n",
    "       [1858.32109489,  647.99384259],\n",
    "       [1811.64481037, 1260.92668703],\n",
    "       [1917.94530091, 1526.91879826],\n",
    "       [1773.67417428, 1628.30043431],\n",
    "       [1459.76904708, 1347.27853125],\n",
    "       [1634.04334215,  281.33418915],\n",
    "       [1966.71028008,  414.34595604]])\n",
    "    \n",
    "slits_coord_obs_det2"
   ]
  },
  {
   "cell_type": "code",
   "execution_count": 25,
   "metadata": {},
   "outputs": [
    {
     "name": "stdout",
     "output_type": "stream",
     "text": [
      "wave:  0.20255\n"
     ]
    }
   ],
   "source": [
    "valid = np.isfinite(slits_coord_obs_det2[:,0])\n",
    "#valid = np.array([True]*8 + [False]*8)\n",
    "obs_wave = G2UV.mask_det_map.w[0]\n",
    "print(\"wave: \", obs_wave)\n",
    "\n",
    "#slits_coord_valid = [slits_coord[i] for i in np.nonzero(valid)[0]]\n",
    "#slits_valid = np.array(slits + slits[::-1])[valid]"
   ]
  },
  {
   "cell_type": "code",
   "execution_count": 26,
   "metadata": {},
   "outputs": [
    {
     "data": {
      "text/plain": [
       "Text(0,0.5,'Ce arcsec')"
      ]
     },
     "execution_count": 26,
     "metadata": {},
     "output_type": "execute_result"
    },
    {
     "data": {
      "image/png": "[encoded data removed]",
      "text/plain": [
       "<Figure size 432x288 with 2 Axes>"
      ]
     },
     "metadata": {},
     "output_type": "display_data"
    }
   ],
   "source": [
    "mid  = len(slits_coord_obs_det2)//2\n",
    "pair_diff2 = slits_coord_obs_det2[:mid] - slits_coord_obs_det2[::-1][:mid]\n",
    "pair_diff2\n",
    "plt.figure()\n",
    "plt.subplot('120')\n",
    "plt.plot(pair_diff2[:,0],'*')\n",
    "plt.plot(np.abs(pair_diff2[:,0]),'-')\n",
    "plt.title(\"El pair diff\")\n",
    "plt.ylabel(\"El arcsec\")\n",
    "plt.subplot('121')\n",
    "plt.plot(pair_diff2[:,1],'*')\n",
    "plt.plot(np.abs(pair_diff2[:,1]),'-')\n",
    "plt.title(\"Ce pair diff\")\n",
    "plt.ylabel(\"Ce arcsec\")\n"
   ]
  },
  {
   "cell_type": "code",
   "execution_count": 30,
   "metadata": {},
   "outputs": [
    {
     "name": "stdout",
     "output_type": "stream",
     "text": [
      "['14' '8' '12' '16' '38' '44' '44' '38' '16' '12' '8' '14']\n"
     ]
    }
   ],
   "source": [
    "valid2 = np.array([True]*16)\n",
    "valid2[[0,1,-1,-2]] = False\n",
    "slits2 = np.array(slits_valid)[valid2]\n",
    "print(slits2)"
   ]
  },
  {
   "cell_type": "code",
   "execution_count": 31,
   "metadata": {
    "collapsed": true
   },
   "outputs": [],
   "source": [
    "slits_coord_obs2 = G2UV.detector2guider(slits_coord_obs_det2[valid2], wave=obs_wave, angle=True  )\n",
    "slits_coord_valid2 = [slits_coord[i] for i in np.nonzero(valid2)[0]]\n",
    "slits_valid2 = np.array(slits + slits[::-1])[valid2]"
   ]
  },
  {
   "cell_type": "code",
   "execution_count": 33,
   "metadata": {},
   "outputs": [
    {
     "name": "stdout",
     "output_type": "stream",
     "text": [
      "Fitting rotation, translation and magnification\n",
      "gamma: 1.0004019970657176\n",
      "theta: 0.18488190877971084 arcmin\n",
      "dx: -3.6320027044843672 arcsec\n",
      "dy: 1.265077405430739 arcsec\n",
      "variances: [5.47067103e-04 1.88067817e+00 4.63015102e-01 4.63015102e-01]\n",
      "\n",
      "residuals in arcsec: [[ 6.30954183e-01 -4.05872365e+00]\n",
      " [-8.72259151e-03 -1.00583146e+00]\n",
      " [-8.73463106e-01  3.26606726e+00]\n",
      " [-1.52227671e+00  1.85935435e+00]\n",
      " [-5.07748091e-03  2.43003590e+00]\n",
      " [ 1.94836082e-01  4.10281673e+00]\n",
      " [ 7.04795287e-01 -1.69194866e+00]\n",
      " [ 5.30956249e-01 -2.91447063e+00]\n",
      " [-1.05544674e+00 -2.36908996e+00]\n",
      " [-2.65510735e-01 -1.53327703e+00]\n",
      " [ 4.14200160e-01  1.91556693e+00]\n",
      " [ 1.25475541e+00 -4.99766750e-04]]\n",
      "max residual in EL,CE 1.5, 4.1 arcsec\n",
      "mean residual in EL,CE 0.8, 2.5 arcsec\n"
     ]
    },
    {
     "data": {
      "image/png": "[encoded data removed]",
      "text/plain": [
       "<Figure size 1152x576 with 2 Axes>"
      ]
     },
     "metadata": {},
     "output_type": "display_data"
    }
   ],
   "source": [
    "weight = np.array( [1.]*14  + [1./(1. + 1e-1)]*14)\n",
    "\n",
    "G2UVcor2 = G2UV.update_model(slits_coord_valid2, slits_coord_obs2, labels=slits_valid2, plot=True)"
   ]
  },
  {
   "cell_type": "code",
   "execution_count": 34,
   "metadata": {},
   "outputs": [
    {
     "name": "stdout",
     "output_type": "stream",
     "text": [
      "star position Ra/Dec:  <SkyCoord (ICRS): (ra, dec) in deg\n",
      "    [(32.1014, -5.786504)]>\n",
      "star position Ra/Dec:  <SkyCoord (ICRS): (ra, dec) in deg\n",
      "    [(32.221491, -5.776507)]>\n",
      "star position Ra/Dec:  <SkyCoord (ICRS): (ra, dec) in deg\n",
      "    [(32.254526, -5.815258)]>\n",
      "\n",
      "targets local coords in siderostat local frame:\n",
      "EL: 130.5 arcsec ; CE: -159.6 arcsec\n",
      "EL: 153.7 arcsec ; CE: 48.9 arcsec\n",
      "EL: 85.6 arcsec ; CE: 108.0 arcsec\n",
      "\n",
      "siderostat moves sequence: \n",
      "EL: -0.0 arcsec ; CE 30.0 arcsec ; image: False\n",
      "EL: 0.0 arcsec ; CE -30.0 arcsec ; image: True\n",
      "EL: 130.5 arcsec ; CE -159.6 arcsec ; image: True\n",
      "EL: 23.2 arcsec ; CE 208.5 arcsec ; image: True\n",
      "EL: -68.1 arcsec ; CE 59.1 arcsec ; image: True\n",
      "EL: -0.0 arcsec ; CE 30.0 arcsec ; image: False\n",
      "EL: 0.0 arcsec ; CE -30.0 arcsec ; image: True\n",
      "EL: 68.1 arcsec ; CE -59.1 arcsec ; image: True\n",
      "EL: -23.2 arcsec ; CE -238.5 arcsec ; image: False\n",
      "EL: 0.0 arcsec ; CE 30.0 arcsec ; image: True\n",
      "EL: -130.5 arcsec ; CE 159.6 arcsec ; image: True\n"
     ]
    }
   ],
   "source": [
    "star_movs2, stars_coord2 = G2UVcor2.compute_autocoll_move_stars(stars, F1_stars, hystcomp = True)\n"
   ]
  },
  {
   "cell_type": "code",
   "execution_count": 35,
   "metadata": {},
   "outputs": [
    {
     "name": "stdout",
     "output_type": "stream",
     "text": [
      "slit position in mm on mask: [ 6.7589561 -3.858979 ]\n",
      "slit position in mm on mask: [8.6160157 1.0303866]\n",
      "slit position in mm on mask: [-5.1696728  3.934102 ]\n",
      "slit position in mm on mask: [-8.8972191 -0.6960435]\n",
      "slit position in mm on mask: [-7.6793793 -2.8581218]\n",
      "slit position in mm on mask: [-4.190085  -1.2881544]\n",
      "slit position in mm on mask: [ 3.7831595 -2.1462593]\n",
      "slit position in mm on mask: [6.2134041 2.5275849]\n",
      "\n",
      "targets local coords in siderostat local frame:\n",
      "EL: 154.1 arcsec ; CE: 274.3 arcsec\n",
      "EL: 363.7 arcsec ; CE: 346.4 arcsec\n",
      "EL: 472.7 arcsec ; CE: -227.8 arcsec\n",
      "EL: 272.2 arcsec ; CE: -377.7 arcsec\n",
      "EL: 181.6 arcsec ; CE: -325.0 arcsec\n",
      "EL: 251.9 arcsec ; CE: -181.9 arcsec\n",
      "EL: 223.8 arcsec ; CE: 149.2 arcsec\n",
      "EL: 424.8 arcsec ; CE: 245.2 arcsec\n",
      "\n",
      "siderostat moves sequence: \n",
      "EL: 0.0 arcsec ; CE -30.0 arcsec ; image: False\n",
      "EL: -0.0 arcsec ; CE 30.0 arcsec ; image: True\n",
      "EL: 154.1 arcsec ; CE 274.3 arcsec ; image: True\n",
      "EL: 209.7 arcsec ; CE 72.1 arcsec ; image: True\n",
      "EL: 109.0 arcsec ; CE -574.2 arcsec ; image: True\n",
      "EL: -200.6 arcsec ; CE -149.9 arcsec ; image: True\n",
      "EL: -90.6 arcsec ; CE 52.7 arcsec ; image: True\n",
      "EL: 70.4 arcsec ; CE 143.1 arcsec ; image: True\n",
      "EL: -28.1 arcsec ; CE 331.0 arcsec ; image: True\n",
      "EL: 201.0 arcsec ; CE 96.0 arcsec ; image: True\n",
      "EL: -0.0 arcsec ; CE 30.0 arcsec ; image: False\n",
      "EL: 0.0 arcsec ; CE -30.0 arcsec ; image: True\n",
      "EL: -201.0 arcsec ; CE -96.0 arcsec ; image: True\n",
      "EL: 28.1 arcsec ; CE -331.0 arcsec ; image: True\n",
      "EL: -70.4 arcsec ; CE -143.1 arcsec ; image: True\n",
      "EL: 90.6 arcsec ; CE -82.7 arcsec ; image: False\n",
      "EL: 0.0 arcsec ; CE 30.0 arcsec ; image: True\n",
      "EL: 200.6 arcsec ; CE 149.9 arcsec ; image: True\n",
      "EL: -109.0 arcsec ; CE 604.2 arcsec ; image: False\n",
      "EL: -0.0 arcsec ; CE -30.0 arcsec ; image: True\n",
      "EL: -209.7 arcsec ; CE -72.1 arcsec ; image: True\n",
      "EL: -154.1 arcsec ; CE -274.3 arcsec ; image: True\n"
     ]
    }
   ],
   "source": [
    "movs_new2, slits_coord_new2 = G2UVcor2.compute_autocoll_moves_slits(slits, F1, hystcomp = True)"
   ]
  },
  {
   "cell_type": "code",
   "execution_count": null,
   "metadata": {
    "collapsed": true
   },
   "outputs": [],
   "source": []
  }
 ],
 "metadata": {
  "kernelspec": {
   "display_name": "Python 3.8.13 ('py38')",
   "language": "python",
   "name": "python3"
  },
  "language_info": {
   "codemirror_mode": {
    "name": "ipython",
    "version": 3
   },
   "file_extension": ".py",
   "mimetype": "text/x-python",
   "name": "python",
   "nbconvert_exporter": "python",
   "pygments_lexer": "ipython3",
   "version": "3.8.13"
  },
  "vscode": {
   "interpreter": {
    "hash": "6429251b47eee9d8b9b4d9852116ca976e0b69b141b5bab3b174d6f3c07282ea"
   }
  }
 },
 "nbformat": 4,
 "nbformat_minor": 2
}
