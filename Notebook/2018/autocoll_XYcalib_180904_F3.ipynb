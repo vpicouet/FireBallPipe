{
 "cells": [
  {
   "cell_type": "markdown",
   "metadata": {},
   "source": [
    "# UV-Guider alignement with source in autocoll\n",
    "##  Field 3"
   ]
  },
  {
   "cell_type": "code",
   "execution_count": 1,
   "metadata": {},
   "outputs": [
    {
     "name": "stdout",
     "output_type": "stream",
     "text": [
      "/Users/Vincent/Github/FireBallPipe\n"
     ]
    }
   ],
   "source": [
    "cd ../.."
   ]
  },
  {
   "cell_type": "code",
   "execution_count": 2,
   "metadata": {},
   "outputs": [],
   "source": [
    "# %matplotlib widget\n",
    "%load_ext autoreload\n",
    "%autoreload 2\n",
    "\n",
    "import sys\n",
    "import numpy as np\n",
    "from astropy.io import fits\n",
    "from astropy import wcs, coordinates\n",
    "from astropy import units as u\n",
    "from astropy.wcs.utils import proj_plane_pixel_scales\n",
    "from matplotlib import pyplot as plt\n",
    "from astropy.table import Table, vstack \n",
    "import matplotlib.patches as patches\n",
    "import unittest\n",
    "from mpl_interactions import heatmap_slicer\n",
    "import pandas as pd\n",
    "import datetime \n",
    "# os.chdir(os.path.dirname(os.path.realpath(__file__)))\n",
    "sys.path.insert(1, './Calibration')\n",
    "from guider2UV.guider2UV import Guider2UV, diff_skycoord, fit_model, plot_fit\n",
    "from Calibration.mapping import Mapping"
   ]
  },
  {
   "cell_type": "markdown",
   "metadata": {},
   "source": [
    "## initialization from last xy calib"
   ]
  },
  {
   "cell_type": "code",
   "execution_count": 33,
   "metadata": {
    "scrolled": true
   },
   "outputs": [
    {
     "name": "stdout",
     "output_type": "stream",
     "text": [
      "FOV center angular position in guider <SkyCoord (SkyOffsetICRS: rotation=0.0 deg, origin=<ICRS Coordinate: (ra, dec) in deg\n",
      "    (250.42402654, 36.43499699)>): (lon, lat) in deg\n",
      "    [(0.17979887, -0.02325374)]>\n",
      "FOV center pixel position in guider [array([1347.26210746]), array([450.73438835])]\n",
      "\n",
      "Guider2UV object:\n",
      "    Local Field Projector: \n",
      "ScienceMaskProjector object:\n",
      "    LocalFrame: <SkyOffsetICRS Frame (rotation=-90.0 deg, origin=<ICRS Coordinate: (ra, dec) in deg\n",
      "    (352.3424, 0.21245)>)>\n",
      "    gamma: 1.0\n",
      "\n",
      "    Guider Field Projector: \n",
      "GuiderMaskProjector object:\n",
      "    LocalFrame: <SkyOffsetICRS Frame (rotation=0.0 deg, origin=<ICRS Coordinate: (ra, dec) in deg\n",
      "    (250.42402654, 36.43499699)>)>\n",
      "    wcs: WCS Keywords\n",
      "\n",
      "Number of WCS axes: 2\n",
      "CTYPE : 'RA---TAN-SIP'  'DEC--TAN-SIP'  \n",
      "CRVAL : 250.424026537  36.4349969891  \n",
      "CRPIX : 640.0  540.0  \n",
      "PC1_1 PC1_2  : 1.0  0.0  \n",
      "PC2_1 PC2_2  : 0.0  1.0  \n",
      "CDELT : 0.00024648264068189  0.00024664057706659  \n",
      "NAXIS : 0  0\n",
      "\n",
      "    mask_rotation: 44.267791405419715 arcmin\n",
      "    FOV center in guider: [1347.26210746]x[450.73438835] pix\n",
      "\n"
     ]
    }
   ],
   "source": [
    "G2UV = Guider2UV(filename='Notebook/2018/data_needed_to_run_notebooks/F3_180826_2.pkl')\n",
    "print(G2UV)"
   ]
  },
  {
   "cell_type": "code",
   "execution_count": 34,
   "metadata": {
    "scrolled": true
   },
   "outputs": [],
   "source": [
    "target_filename = 'Calibration/Targets/targets_F3.txt'\n",
    "F3 = Table.read(target_filename, format='ascii')"
   ]
  },
  {
   "cell_type": "markdown",
   "metadata": {},
   "source": [
    "## Diffuse UV image\n",
    "\n",
    "load new mapping"
   ]
  },
  {
   "cell_type": "code",
   "execution_count": 35,
   "metadata": {},
   "outputs": [],
   "source": [
    "mask_det_map_file = 'Notebook/2018/data_needed_to_run_notebooks/mapping-mask-det-180612-F3.pkl'\n",
    "mask_det_map = Mapping(mask_det_map_file)\n",
    "G2UV.set_detector_mapping(mask_det_map, offsets = [1., 1.])\n"
   ]
  },
  {
   "cell_type": "markdown",
   "metadata": {},
   "source": [
    "## Scan sequence\n",
    "\n",
    "gc - 41 - 42 - 32 - 30 - 9 - 4 - 10 - 13"
   ]
  },
  {
   "cell_type": "code",
   "execution_count": 12,
   "metadata": {},
   "outputs": [
    {
     "data": {
      "image/png": "[encoded data removed]",
      "text/plain": [
       "<Figure size 432x288 with 1 Axes>"
      ]
     },
     "metadata": {
      "needs_background": "light"
     },
     "output_type": "display_data"
    },
    {
     "data": {
      "text/html": [
       "<div><i>Table length=16</i>\n",
       "<table id=\"table140488287652976\" class=\"table-striped table-bordered table-condensed\">\n",
       "<thead><tr><th>Internal-count</th><th>xmm</th><th>ymm</th><th>RA</th><th>DEC</th><th>ra_diff</th><th>dec_diff</th><th>angular_distance</th></tr></thead>\n",
       "<thead><tr><th>str2</th><th>float64</th><th>float64</th><th>float64</th><th>float64</th><th>float64</th><th>float64</th><th>float64</th></tr></thead>\n",
       "<tr><td>41</td><td>9.692238</td><td>-4.486605</td><td>352.570099</td><td>0.107245</td><td>-25.487955350622904</td><td>-601.1640000000001</td><td>601.7040724176258</td></tr>\n",
       "<tr><td>42</td><td>9.994533</td><td>2.641369</td><td>352.577179</td><td>0.274235</td><td>474.38456618061485</td><td>375.28920000000005</td><td>604.8823854825087</td></tr>\n",
       "<tr><td>32</td><td>4.391899</td><td>-1.817091</td><td>352.445404</td><td>0.169988</td><td>76.68326250800966</td><td>-434.61</td><td>441.32320905303897</td></tr>\n",
       "<tr><td>30</td><td>3.484085</td><td>3.340942</td><td>352.424103</td><td>0.290713</td><td>902.076388144646</td><td>-53.4528000000001</td><td>903.6586810715261</td></tr>\n",
       "<tr><td>9</td><td>-7.189261</td><td>3.964764</td><td>352.173523</td><td>0.305561</td><td>206.97905658075254</td><td>638.5536000000001</td><td>671.2607764021509</td></tr>\n",
       "<tr><td>4</td><td>-9.632198</td><td>-3.583395</td><td>352.116028</td><td>0.128185</td><td>-241.2569962183421</td><td>57.85919999999996</td><td>248.0980154070909</td></tr>\n",
       "<tr><td>10</td><td>-6.784192</td><td>-4.273481</td><td>352.183044</td><td>0.112113</td><td>-123.26736401443848</td><td>-143.73000000000002</td><td>189.34929609340534</td></tr>\n",
       "<tr><td>13</td><td>-5.32832</td><td>-2.571499</td><td>352.217285</td><td>0.152038</td><td>0.0</td><td>0.0</td><td>0.0</td></tr>\n",
       "<tr><td>13</td><td>-5.32832</td><td>-2.571499</td><td>352.217285</td><td>0.152038</td><td>123.26716601203117</td><td>143.73000000000002</td><td>189.34916719288114</td></tr>\n",
       "<tr><td>10</td><td>-6.784192</td><td>-4.273481</td><td>352.183044</td><td>0.112113</td><td>241.25713813242757</td><td>-57.85919999999996</td><td>248.09815340805991</td></tr>\n",
       "<tr><td>4</td><td>-9.632198</td><td>-3.583395</td><td>352.116028</td><td>0.128185</td><td>-206.98148199792305</td><td>-638.5536000000001</td><td>671.2615242683113</td></tr>\n",
       "<tr><td>9</td><td>-7.189261</td><td>3.964764</td><td>352.173523</td><td>0.305561</td><td>-902.0751717191459</td><td>53.4528000000001</td><td>903.6574667759719</td></tr>\n",
       "<tr><td>30</td><td>3.484085</td><td>3.340942</td><td>352.424103</td><td>0.290713</td><td>-76.68261291349137</td><td>434.61</td><td>441.32309618151686</td></tr>\n",
       "<tr><td>32</td><td>4.391899</td><td>-1.817091</td><td>352.445404</td><td>0.169988</td><td>-474.38791216356816</td><td>-375.28920000000005</td><td>604.8850096039323</td></tr>\n",
       "<tr><td>42</td><td>9.994533</td><td>2.641369</td><td>352.577179</td><td>0.274235</td><td>25.487708051952865</td><td>601.1640000000001</td><td>601.704061942199</td></tr>\n",
       "<tr><td>41</td><td>9.692238</td><td>-4.486605</td><td>352.570099</td><td>0.107245</td><td>0.0</td><td>0.0</td><td>0.0</td></tr>\n",
       "</table></div>"
      ],
      "text/plain": [
       "<Table length=16>\n",
       "Internal-count    xmm       ymm    ...       dec_diff       angular_distance \n",
       "     str2       float64   float64  ...       float64            float64      \n",
       "-------------- --------- --------- ... ------------------- ------------------\n",
       "            41  9.692238 -4.486605 ...  -601.1640000000001  601.7040724176258\n",
       "            42  9.994533  2.641369 ...  375.28920000000005  604.8823854825087\n",
       "            32  4.391899 -1.817091 ...             -434.61 441.32320905303897\n",
       "            30  3.484085  3.340942 ...   -53.4528000000001  903.6586810715261\n",
       "             9 -7.189261  3.964764 ...   638.5536000000001  671.2607764021509\n",
       "             4 -9.632198 -3.583395 ...   57.85919999999996  248.0980154070909\n",
       "            10 -6.784192 -4.273481 ... -143.73000000000002 189.34929609340534\n",
       "            13  -5.32832 -2.571499 ...                 0.0                0.0\n",
       "            13  -5.32832 -2.571499 ...  143.73000000000002 189.34916719288114\n",
       "            10 -6.784192 -4.273481 ...  -57.85919999999996 248.09815340805991\n",
       "             4 -9.632198 -3.583395 ...  -638.5536000000001  671.2615242683113\n",
       "             9 -7.189261  3.964764 ...    53.4528000000001  903.6574667759719\n",
       "            30  3.484085  3.340942 ...              434.61 441.32309618151686\n",
       "            32  4.391899 -1.817091 ... -375.28920000000005  604.8850096039323\n",
       "            42  9.994533  2.641369 ...   601.1640000000001   601.704061942199\n",
       "            41  9.692238 -4.486605 ...                 0.0                0.0"
      ]
     },
     "execution_count": 12,
     "metadata": {},
     "output_type": "execute_result"
    }
   ],
   "source": [
    "#from guider2UV.guider2UV import Guider2UV\n",
    "slits = ['41', '42', '32', '30', '9', '4', '10', '13'] \n",
    "F1=F3\n",
    "F1p = F1.to_pandas()\n",
    "from functools import reduce\n",
    "import warnings\n",
    "warnings.simplefilter(action='ignore', category=FutureWarning)\n",
    "\n",
    "# selected_slits = F1[mask.values]['Internal-count',\"x_mm\",\"y_mm\",\"ra\",\"dec\"]\n",
    "selected_slits = Table.from_pandas((reduce(pd.DataFrame.append, map(lambda i: F1p[F1p['Internal-count'] == i],slits))))\n",
    "\n",
    "ra,dec = \"RA\", \"DEC\"\n",
    "x,y = \"xmm\",\"ymm\"\n",
    "plt.figure()\n",
    "plt.plot(F1[x],F1[y],\"x\")\n",
    "plt.plot(selected_slits[x],selected_slits[y],\"-o\")\n",
    "for s in selected_slits:\n",
    "    plt.text(s[x],s[y],s[\"Internal-count\"])\n",
    "plt.xlabel(\"x_mm\")\n",
    "plt.xlabel(\"y_mm\")\n",
    "plt.title(slits)\n",
    "plt.show()\n",
    "\n",
    "selected_slits = selected_slits['Internal-count',x,y,ra,dec]\n",
    "slit_path = vstack((selected_slits,selected_slits[::-1]) )\n",
    "# slit_path[\"ra_diff\"] = [0] + list((slit_path[ra][1:] - slit_path[ra][:-1])*np.cos(slit_path[dec][:-1]*np.pi/180)) \n",
    "# slit_path[\"dec_diff\"] = [0] + list((slit_path[dec][1:] - slit_path[dec][:-1])) \n",
    "slit_path[\"ra_diff\"] = list((slit_path[ra][:-1] - slit_path[ra][1:])*np.cos(slit_path[dec][:-1]*np.pi/180)) + [0]\n",
    "slit_path[\"dec_diff\"] = list((slit_path[dec][:-1] - slit_path[dec][1:])) + [0]\n",
    "\n",
    "slit_path[\"ra_diff\"] *= 3600\n",
    "slit_path[\"dec_diff\"] *= 3600\n",
    "slit_path[\"angular_distance\"] = np.sqrt(slit_path[\"ra_diff\"]** 2 + slit_path[\"dec_diff\"]** 2)\n",
    "try:\n",
    "    slit_path.to_pandas().to_clipboard()\n",
    "except Exception:\n",
    "    pass\n",
    "slit_path"
   ]
  },
  {
   "cell_type": "code",
   "execution_count": 13,
   "metadata": {},
   "outputs": [
    {
     "name": "stdout",
     "output_type": "stream",
     "text": [
      "slit position in mm on mask: [ 9.692238 -4.486605]\n",
      "slit position in mm on mask: [9.994533 2.641369]\n",
      "slit position in mm on mask: [ 4.391899 -1.817091]\n",
      "slit position in mm on mask: [3.484085 3.340942]\n",
      "slit position in mm on mask: [-7.189261  3.964764]\n",
      "slit position in mm on mask: [-9.632198 -3.583395]\n",
      "slit position in mm on mask: [-6.784192 -4.273481]\n",
      "slit position in mm on mask: [-5.32832  -2.571499]\n",
      "\n",
      "targets local coords in siderostat local frame:\n",
      "EL: 137.0 arcsec ; CE: 444.8 arcsec\n",
      "EL: 440.1 arcsec ; CE: 453.5 arcsec\n",
      "EL: 247.7 arcsec ; CE: 223.4 arcsec\n",
      "EL: 466.1 arcsec ; CE: 183.1 arcsec\n",
      "EL: 486.9 arcsec ; CE: -259.2 arcsec\n",
      "EL: 164.9 arcsec ; CE: -356.6 arcsec\n",
      "EL: 137.2 arcsec ; CE: -238.1 arcsec\n",
      "EL: 210.3 arcsec ; CE: -178.6 arcsec\n",
      "\n",
      "siderostat moves sequence: \n"
     ]
    }
   ],
   "source": [
    "\n",
    "\n",
    "\n",
    "movs, flags, slits_coord = G2UV.compute_autocoll_moves_slits(slits, F3, hystcomp = True)"
   ]
  },
  {
   "cell_type": "markdown",
   "metadata": {},
   "source": [
    "observed slits position :"
   ]
  },
  {
   "cell_type": "code",
   "execution_count": 14,
   "metadata": {},
   "outputs": [
    {
     "data": {
      "text/plain": [
       "array([[1988.41878403,  106.44539382],\n",
       "       [1508.6230669 ,   94.16400114],\n",
       "       [1822.7014584 ,  516.16028525],\n",
       "       [1477.52007584,  593.68117987],\n",
       "       [1447.92426796, 1411.47702315],\n",
       "       [1956.33276732, 1590.47665766],\n",
       "       [2001.79997879, 1373.67216511],\n",
       "       [1887.22774603, 1265.54090648],\n",
       "       [1887.38268588, 1260.91895482],\n",
       "       [2001.62796297, 1368.91605632],\n",
       "       [1956.14587627, 1594.1909615 ],\n",
       "       [1448.1237799 , 1417.47802767],\n",
       "       [1477.68955404,  598.70432329],\n",
       "       [1822.91909465,  521.68723695],\n",
       "       [1508.25355969,   90.13554281],\n",
       "       [1987.94755047,  102.14549882]])"
      ]
     },
     "execution_count": 14,
     "metadata": {},
     "output_type": "execute_result"
    }
   ],
   "source": [
    "slits_coord_obs_det = np.array([\n",
    "       [1988.41878403,  106.44539382],\n",
    "       [1508.6230669 ,   94.16400114],\n",
    "       [1822.7014584 ,  516.16028525],\n",
    "       [1477.52007584,  593.68117987],\n",
    "       [1447.92426796, 1411.47702315],\n",
    "       [1956.33276732, 1590.47665766],\n",
    "       [2001.79997879, 1373.67216511],\n",
    "       [1887.22774603, 1265.54090648],\n",
    "# retour\n",
    "       [1887.38268588, 1260.91895482],\n",
    "       [2001.62796297, 1368.91605632],\n",
    "       [1956.14587627, 1594.1909615 ],\n",
    "       [1448.1237799 , 1417.47802767],\n",
    "       [1477.68955404,  598.70432329],\n",
    "       [1822.91909465,  521.68723695],\n",
    "       [1508.25355969,   90.13554281],\n",
    "       [1987.94755047,  102.14549882]])\n",
    "\n",
    "slits_coord_obs_det"
   ]
  },
  {
   "cell_type": "code",
   "execution_count": 15,
   "metadata": {},
   "outputs": [
    {
     "name": "stdout",
     "output_type": "stream",
     "text": [
      "wave:  0.20255\n"
     ]
    }
   ],
   "source": [
    "valid = np.isfinite(slits_coord_obs_det[:,0])\n",
    "obs_wave = G2UV.mask_det_map.w[0]\n",
    "print(\"wave: \", obs_wave)\n",
    "\n",
    "slits_coord_valid = [slits_coord[i] for i in np.nonzero(valid)[0]]\n",
    "slits_valid = np.array(slits + slits[::-1])[valid]"
   ]
  },
  {
   "cell_type": "code",
   "execution_count": 21,
   "metadata": {},
   "outputs": [],
   "source": [
    "# mid  = len(slits_coord_obs_det)//2\n",
    "# pair_diff = slits_coord_obs_det[:mid] - slits_coord_obs_det[::-1][:mid]\n",
    "# pair_diff\n",
    "# plt.figure()\n",
    "# plt.subplot('120')\n",
    "# plt.plot(pair_diff[:,0],'*')\n",
    "# plt.plot(np.abs(pair_diff[:,0]),'-')\n",
    "# plt.title(\"El pair diff\")\n",
    "# plt.ylabel(\"El arcsec\")\n",
    "# plt.subplot('121')\n",
    "# plt.plot(pair_diff[:,1],'*')\n",
    "# plt.plot(np.abs(pair_diff[:,1]),'-')\n",
    "# plt.title(\"Ce pair diff\")\n",
    "# plt.ylabel(\"Ce arcsec\")\n"
   ]
  },
  {
   "cell_type": "code",
   "execution_count": 22,
   "metadata": {},
   "outputs": [],
   "source": [
    "slits_coord_obs = G2UV.detector2guider(slits_coord_obs_det, wave=obs_wave, angle=True  )\n"
   ]
  },
  {
   "cell_type": "code",
   "execution_count": 26,
   "metadata": {},
   "outputs": [
    {
     "name": "stdout",
     "output_type": "stream",
     "text": [
      "Fitting rotation, translation and magnification\n",
      "gamma: 0.9989454166629014\n",
      "theta: -40.67468466107561 arcmin\n",
      "dx: 14.67110334667007 arcsec\n",
      "dy: 1.3620474764048631 arcsec\n",
      "variances: [3.73391028e-04 1.24378885e+00 3.30334925e-01 3.35781647e-01]\n",
      "\n",
      "residuals in arcsec: [[ 0.33867091  0.63039789]\n",
      " [ 0.47797165  0.93185503]\n",
      " [-0.45555051 -0.87219076]\n",
      " [-1.46529235 -1.03970432]\n",
      " [ 0.35919206 -3.93731662]\n",
      " [ 1.31949616 -2.01008753]\n",
      " [-0.35022796  1.65963514]\n",
      " [-0.47285333  3.18485562]\n",
      " [-0.61137007 -1.95202791]\n",
      " [-0.0567475  -3.59530069]\n",
      " [ 1.48012079  2.12832775]\n",
      " [ 0.03841903  2.75226543]\n",
      " [-1.65891016  4.53827491]\n",
      " [-0.70185714  5.2720234 ]\n",
      " [ 0.88473358 -3.55884668]\n",
      " [ 0.87420483 -4.13216066]]\n",
      "max residual in EL,CE 1.7, 5.3 arcsec\n",
      "mean residual in EL,CE 0.9, 3.0 arcsec\n"
     ]
    },
    {
     "data": {
      "image/png": "[encoded data removed]",
      "text/plain": [
       "<Figure size 576x288 with 2 Axes>"
      ]
     },
     "metadata": {
      "needs_background": "light"
     },
     "output_type": "display_data"
    }
   ],
   "source": [
    "weight = np.array( [1.]*16  + [1./(1. + 1e-1)]*16)\n",
    "\n",
    "G2UVcor,residuals = G2UV.update_model(slits_coord_valid, slits_coord_obs, labels=slits_valid, plot=True, weight=weight)"
   ]
  },
  {
   "cell_type": "code",
   "execution_count": 27,
   "metadata": {},
   "outputs": [],
   "source": [
    "#G2UVcor.save(filename=cloudpath + 'TestsFTS2018-Flight/E2E-AIT-Flight/XYCalibration/F3_180904.pkl')"
   ]
  },
  {
   "cell_type": "code",
   "execution_count": 29,
   "metadata": {},
   "outputs": [
    {
     "name": "stdout",
     "output_type": "stream",
     "text": [
      "slit position in mm on mask: [ 9.692238 -4.486605]\n",
      "slit position in mm on mask: [9.994533 2.641369]\n",
      "slit position in mm on mask: [ 4.391899 -1.817091]\n",
      "slit position in mm on mask: [3.484085 3.340942]\n",
      "slit position in mm on mask: [-7.189261  3.964764]\n",
      "slit position in mm on mask: [-9.632198 -3.583395]\n",
      "slit position in mm on mask: [-6.784192 -4.273481]\n",
      "slit position in mm on mask: [-5.32832  -2.571499]\n",
      "\n",
      "targets local coords in siderostat local frame:\n",
      "EL: 138.8 arcsec ; CE: 445.2 arcsec\n",
      "EL: 441.5 arcsec ; CE: 457.4 arcsec\n",
      "EL: 252.0 arcsec ; CE: 225.4 arcsec\n",
      "EL: 470.7 arcsec ; CE: 187.6 arcsec\n",
      "EL: 496.8 arcsec ; CE: -254.0 arcsec\n",
      "EL: 176.3 arcsec ; CE: -355.0 arcsec\n",
      "EL: 147.3 arcsec ; CE: -236.8 arcsec\n",
      "EL: 219.6 arcsec ; CE: -176.6 arcsec\n",
      "\n",
      "siderostat moves sequence: \n"
     ]
    }
   ],
   "source": [
    "movs_new, flags, slits_coord_new = G2UVcor.compute_autocoll_moves_slits(slits, F3, hystcomp = True)"
   ]
  },
  {
   "cell_type": "code",
   "execution_count": 32,
   "metadata": {},
   "outputs": [
    {
     "name": "stderr",
     "output_type": "stream",
     "text": [
      "/var/folders/m8/f6l41h_51qxdzrz8p1xqr3f80000gp/T/ipykernel_43146/799231450.py:20: RuntimeWarning: invalid value encountered in true_divide\n",
      "  new_cat[\"frame_divided_sky\"] = new_cat[\"Frame_angular_distance\"] / new_cat[\"angular_distance\"]\n",
      "/var/folders/m8/f6l41h_51qxdzrz8p1xqr3f80000gp/T/ipykernel_43146/799231450.py:21: RuntimeWarning: invalid value encountered in true_divide\n",
      "  new_cat[\"EL_dec_ratio\"] =   new_cat[\"El_sky\"] / new_cat[\"dec_diff\"]\n",
      "/var/folders/m8/f6l41h_51qxdzrz8p1xqr3f80000gp/T/ipykernel_43146/799231450.py:22: RuntimeWarning: invalid value encountered in true_divide\n",
      "  new_cat[\"CE_ra_ratio\"] =   new_cat[\"Cel_sky\"] / new_cat[\"ra_diff\"]\n"
     ]
    },
    {
     "data": {
      "text/html": [
       "<div><i>Table length=16</i>\n",
       "<table id=\"table140488290831328\" class=\"table-striped table-bordered table-condensed\">\n",
       "<thead><tr><th>ra_diff</th><th>dec_diff</th><th>EL_moves</th><th>CE_moves</th><th>El_sky</th><th>Cel_sky</th><th>frame_divided_sky</th><th>EL_dec_ratio</th><th>CE_ra_ratio</th></tr></thead>\n",
       "<thead><tr><th>float64</th><th>float64</th><th>float64</th><th>float64</th><th>float64</th><th>float64</th><th>float64</th><th>float64</th><th>float64</th></tr></thead>\n",
       "<tr><td>-25.487955350622904</td><td>-601.1640000000001</td><td>302.6509436434451</td><td>12.16410958204699</td><td>607.5959814397074</td><td>25.04054942121865</td><td>1.0106492248012922</td><td>-1.010699212593747</td><td>-0.9824463781715892</td></tr>\n",
       "<tr><td>474.38456618061485</td><td>375.28920000000005</td><td>-189.4342688017773</td><td>-232.00594147632273</td><td>-380.30444936107205</td><td>-477.5981508854989</td><td>1.0093158470307415</td><td>-1.0133636922167544</td><td>-1.006774218501157</td></tr>\n",
       "<tr><td>76.68326250800966</td><td>-434.61</td><td>218.66720638422095</td><td>-37.7603849079527</td><td>438.99191019283427</td><td>-77.7320179561151</td><td>1.010191094220855</td><td>-1.0100823961547922</td><td>-1.0136764583796352</td></tr>\n",
       "<tr><td>902.076388144646</td><td>-53.4528000000001</td><td>26.08936684977482</td><td>-441.58244252982837</td><td>52.37649110027093</td><td>-909.0239528942035</td><td>1.0076056879283188</td><td>-0.979864312071039</td><td>-1.0077017477021508</td></tr>\n",
       "<tr><td>206.97905658075254</td><td>638.5536000000001</td><td>-320.4616642704647</td><td>-100.98863498264512</td><td>-643.3524279560995</td><td>-207.89116442987395</td><td>1.00722003283866</td><td>-1.0075151529270205</td><td>-1.0044067639701777</td></tr>\n",
       "<tr><td>-241.2569962183421</td><td>57.85919999999996</td><td>-29.057603554239307</td><td>118.11938515428454</td><td>-58.335463743419744</td><td>243.155841503204</td><td>1.007890258967058</td><td>-1.0082314263491334</td><td>-1.0078706330370764</td></tr>\n",
       "<tr><td>-123.26736401443848</td><td>-143.73000000000002</td><td>72.32382791250629</td><td>60.263000755584414</td><td>145.19587044058937</td><td>124.05500283541585</td><td>1.0085862091172986</td><td>-1.0101987785472022</td><td>-1.006389678462542</td></tr>\n",
       "<tr><td>0.0</td><td>0.0</td><td>0.0</td><td>0.0</td><td>0.0</td><td>0.0</td><td>nan</td><td>nan</td><td>nan</td></tr>\n",
       "<tr><td>123.26716601203117</td><td>143.73000000000002</td><td>-72.32382791250632</td><td>-60.263000755584414</td><td>-145.19587044058943</td><td>-124.05500283541585</td><td>1.0085868957181061</td><td>-1.0101987785472024</td><td>-1.006391295012881</td></tr>\n",
       "<tr><td>241.25713813242757</td><td>-57.85919999999996</td><td>29.057603554239307</td><td>-118.11938515428454</td><td>58.335463743419744</td><td>-243.155841503204</td><td>1.0078896983428434</td><td>-1.0082314263491334</td><td>-1.0078700401798442</td></tr>\n",
       "<tr><td>-206.98148199792305</td><td>-638.5536000000001</td><td>320.46166427046467</td><td>100.98863498264524</td><td>643.3524279560994</td><td>207.89116442987418</td><td>1.0072189106742704</td><td>-1.0075151529270203</td><td>-1.0043949942920993</td></tr>\n",
       "<tr><td>-902.0751717191459</td><td>53.4528000000001</td><td>-26.08936684977482</td><td>441.58244252982837</td><td>-52.37649110027093</td><td>909.0239528942035</td><td>1.0076070419049663</td><td>-0.979864312071039</td><td>-1.0077031065624107</td></tr>\n",
       "<tr><td>-76.68261291349137</td><td>434.61</td><td>-218.66720638422095</td><td>37.7603849079527</td><td>-438.99191019283427</td><td>77.7320179561151</td><td>1.0101913525844155</td><td>-1.0100823961547922</td><td>-1.0136850454457988</td></tr>\n",
       "<tr><td>-474.38791216356816</td><td>-375.28920000000005</td><td>189.4342688017773</td><td>232.00594147632273</td><td>380.30444936107205</td><td>477.5981508854989</td><td>1.0093114684012576</td><td>-1.0133636922167544</td><td>-1.0067671174572927</td></tr>\n",
       "<tr><td>25.487708051952865</td><td>601.1640000000001</td><td>-302.65094364344503</td><td>-12.16410958204699</td><td>-607.5959814397073</td><td>-25.04054942121865</td><td>1.0106492423962903</td><td>-1.0106992125937468</td><td>-0.982455910518798</td></tr>\n",
       "<tr><td>0.0</td><td>0.0</td><td>0.0</td><td>0.0</td><td>0.0</td><td>0.0</td><td>nan</td><td>nan</td><td>nan</td></tr>\n",
       "</table></div>"
      ],
      "text/plain": [
       "<Table length=16>\n",
       "      ra_diff             dec_diff      ...     CE_ra_ratio    \n",
       "      float64             float64       ...       float64      \n",
       "------------------- ------------------- ... -------------------\n",
       "-25.487955350622904  -601.1640000000001 ... -0.9824463781715892\n",
       " 474.38456618061485  375.28920000000005 ...  -1.006774218501157\n",
       "  76.68326250800966             -434.61 ... -1.0136764583796352\n",
       "   902.076388144646   -53.4528000000001 ... -1.0077017477021508\n",
       " 206.97905658075254   638.5536000000001 ... -1.0044067639701777\n",
       " -241.2569962183421   57.85919999999996 ... -1.0078706330370764\n",
       "-123.26736401443848 -143.73000000000002 ...  -1.006389678462542\n",
       "                0.0                 0.0 ...                 nan\n",
       " 123.26716601203117  143.73000000000002 ...  -1.006391295012881\n",
       " 241.25713813242757  -57.85919999999996 ... -1.0078700401798442\n",
       "-206.98148199792305  -638.5536000000001 ... -1.0043949942920993\n",
       " -902.0751717191459    53.4528000000001 ... -1.0077031065624107\n",
       " -76.68261291349137              434.61 ... -1.0136850454457988\n",
       "-474.38791216356816 -375.28920000000005 ... -1.0067671174572927\n",
       " 25.487708051952865   601.1640000000001 ...  -0.982455910518798\n",
       "                0.0                 0.0 ...                 nan"
      ]
     },
     "execution_count": 32,
     "metadata": {},
     "output_type": "execute_result"
    }
   ],
   "source": [
    "CEg, Elg = 1.02928, 1.00379\n",
    "from astropy.table import hstack\n",
    "moves=movs_new\n",
    "moves = Table.from_pandas(pd.DataFrame(np.hstack((moves,flags[:,None])), columns=[\"EL\",\"CE\",\"UV_image\"]))\n",
    "\n",
    "\n",
    "moves[\"EL_abs\"] =  [np.sum(moves[\"EL\"][:i+1]) for i in range(len(moves))]\n",
    "moves[\"CE_abs\"] = [np.sum(moves[\"CE\"][:i+1]) for i in range(len(moves))]\n",
    "moves[\"UV_image\"] = moves[\"UV_image\"].astype(bool)\n",
    "new_cat = hstack((slit_path,moves[moves[\"UV_image\"]][1:-1]))\n",
    "new_cat\n",
    "new_cat[\"EL_moves\"] =  list(new_cat[\"EL_abs\"][1:] - new_cat[\"EL_abs\"][:-1]) +  [0]\n",
    "new_cat[\"CE_moves\"] =  list(new_cat[\"CE_abs\"][1:] - new_cat[\"CE_abs\"][:-1]) +  [0]\n",
    "\n",
    "\n",
    "\n",
    "new_cat[\"El_sky\"] = new_cat[\"EL_moves\"]  * 2 * Elg \n",
    "new_cat[\"Cel_sky\"] = new_cat[\"CE_moves\"] * 2 * CEg \n",
    "new_cat[\"Frame_angular_distance\"] = np.sqrt(new_cat[\"El_sky\"]**2 + new_cat[\"Cel_sky\"]**2)\n",
    "new_cat[\"frame_divided_sky\"] = new_cat[\"Frame_angular_distance\"] / new_cat[\"angular_distance\"]\n",
    "new_cat[\"EL_dec_ratio\"] =   new_cat[\"El_sky\"] / new_cat[\"dec_diff\"]\n",
    "new_cat[\"CE_ra_ratio\"] =   new_cat[\"Cel_sky\"] / new_cat[\"ra_diff\"]\n",
    "# new_cat\n",
    "new_cat.to_pandas().to_clipboard()\n",
    "new_cat[\"ra_diff\",\"dec_diff\",\"EL_moves\",\"CE_moves\",\"El_sky\",\"Cel_sky\",\"frame_divided_sky\",\"EL_dec_ratio\",\"CE_ra_ratio\"]\n"
   ]
  },
  {
   "cell_type": "markdown",
   "metadata": {},
   "source": [
    "## Star sequence\n",
    "\n",
    "gc - s20 - s5 - s9 "
   ]
  },
  {
   "cell_type": "code",
   "execution_count": 17,
   "metadata": {},
   "outputs": [
    {
     "name": "stdout",
     "output_type": "stream",
     "text": [
      "star position Ra/Dec:  <SkyCoord (ICRS): (ra, dec) in deg\n",
      "    [(352.387774, -0.111235)]>\n",
      "star position Ra/Dec:  <SkyCoord (ICRS): (ra, dec) in deg\n",
      "    [(352.228576, -0.041124)]>\n",
      "star position Ra/Dec:  <SkyCoord (ICRS): (ra, dec) in deg\n",
      "    [(352.267202, 0.107397)]>\n",
      "\n",
      "targets local coords in siderostat local frame:\n",
      "EL: -251.5 arcsec ; CE: 123.6 arcsec\n",
      "EL: -126.0 arcsec ; CE: -154.9 arcsec\n",
      "EL: 140.4 arcsec ; CE: -87.6 arcsec\n",
      "\n",
      "siderostat moves sequence: \n",
      "EL: 0.0 arcsec ; CE -30.0 arcsec ; image: False\n",
      "EL: -0.0 arcsec ; CE 30.0 arcsec ; image: True\n",
      "EL: -251.5 arcsec ; CE 123.6 arcsec ; image: True\n",
      "EL: 125.4 arcsec ; CE -278.5 arcsec ; image: True\n",
      "EL: 266.4 arcsec ; CE 67.3 arcsec ; image: True\n",
      "EL: -0.0 arcsec ; CE 30.0 arcsec ; image: False\n",
      "EL: 0.0 arcsec ; CE -30.0 arcsec ; image: True\n",
      "EL: -266.4 arcsec ; CE -97.3 arcsec ; image: False\n",
      "EL: 0.0 arcsec ; CE 30.0 arcsec ; image: True\n",
      "EL: -125.4 arcsec ; CE 308.5 arcsec ; image: False\n",
      "EL: -0.0 arcsec ; CE -30.0 arcsec ; image: True\n",
      "EL: 251.5 arcsec ; CE -123.6 arcsec ; image: True\n"
     ]
    }
   ],
   "source": [
    "star_target_path = cloudpath + 'Target_selection/GuidingStars/'\n",
    "F3_stars = Table.read(star_target_path + \"F3_guidingstars.fits\", format='fits')\n",
    "\n",
    "stars = [20, 5, 9]\n",
    "\n",
    "\n",
    "star_movs, stars_coord = G2UVcor.compute_autocoll_move_stars(stars, F3_stars, hystcomp = True)\n"
   ]
  },
  {
   "cell_type": "code",
   "execution_count": 18,
   "metadata": {},
   "outputs": [
    {
     "data": {
      "text/plain": [
       "[<SkyCoord (SkyOffsetICRS: rotation=0.0 deg, origin=<ICRS Coordinate: (ra, dec) in deg\n",
       "     (250.42402654, 36.43499699)>): (lon, lat) in deg\n",
       "     [(-0.14022818, -0.07069044)]>,\n",
       " <SkyCoord (SkyOffsetICRS: rotation=0.0 deg, origin=<ICRS Coordinate: (ra, dec) in deg\n",
       "     (250.42402654, 36.43499699)>): (lon, lat) in deg\n",
       "     [(-0.07028362, 0.08858072)]>,\n",
       " <SkyCoord (SkyOffsetICRS: rotation=0.0 deg, origin=<ICRS Coordinate: (ra, dec) in deg\n",
       "     (250.42402654, 36.43499699)>): (lon, lat) in deg\n",
       "     [(0.07827793, 0.05010985)]>]"
      ]
     },
     "execution_count": 18,
     "metadata": {},
     "output_type": "execute_result"
    }
   ],
   "source": [
    "stars_coord"
   ]
  },
  {
   "cell_type": "markdown",
   "metadata": {},
   "source": [
    "------------------------------------------------------"
   ]
  },
  {
   "cell_type": "markdown",
   "metadata": {},
   "source": [
    "# Quasar stars"
   ]
  },
  {
   "cell_type": "code",
   "execution_count": 23,
   "metadata": {},
   "outputs": [],
   "source": [
    "from guider2UV.MaskAstrometry import LocalScienceMaskProjector\n",
    "\n",
    "G2UV_QSO = G2UVcor.copy()\n",
    "\n",
    "Field_center = coordinates.SkyCoord(270.52256162*u.deg, 44.0392496*u.deg)\n",
    "Field_rotation = 110.09593332038546*u.deg\n",
    "Field_gamma = G2UVcor.FieldP.gamma\n",
    "\n",
    "FieldP_QSO = LocalScienceMaskProjector(Field_center, Field_rotation, Field_gamma)\n",
    "\n",
    "G2UV_QSO.FieldP = FieldP_QSO"
   ]
  },
  {
   "cell_type": "code",
   "execution_count": 24,
   "metadata": {},
   "outputs": [
    {
     "name": "stdout",
     "output_type": "stream",
     "text": [
      "\n",
      "Guider2UV object:\n",
      "    Local Field Projector: \n",
      "ScienceMaskProjector object:\n",
      "    LocalFrame: <SkyOffsetICRS Frame (rotation=20.095933320385456 deg, origin=<ICRS Coordinate: (ra, dec) in deg\n",
      "    (270.52256162, 44.0392496)>)>\n",
      "    gamma: 0.9989454166629014\n",
      "\n",
      "    Guider Field Projector: \n",
      "GuiderMaskProjector object:\n",
      "    LocalFrame: <SkyOffsetICRS Frame (rotation=0.0 deg, origin=<ICRS Coordinate: (ra, dec) in deg\n",
      "    (250.42402654, 36.43499699)>)>\n",
      "    wcs: WCS Keywords\n",
      "\n",
      "Number of WCS axes: 2\n",
      "CTYPE : 'RA---TAN-SIP'  'DEC--TAN-SIP'  \n",
      "CRVAL : 250.424026537  36.4349969891  \n",
      "CRPIX : 640.0  540.0  \n",
      "PC1_1 PC1_2  : 1.0  0.0  \n",
      "PC2_1 PC2_2  : 0.0  1.0  \n",
      "CDELT : 0.00024648264068189  0.00024664057706659  \n",
      "NAXIS : 0  0\n",
      "\n",
      "    mask_rotation: 3.593106744344041 arcmin\n",
      "    FOV center in guider: [1361.01487994]x[444.15399857] pix\n",
      "\n"
     ]
    }
   ],
   "source": [
    "print(G2UV_QSO)"
   ]
  },
  {
   "cell_type": "code",
   "execution_count": 41,
   "metadata": {},
   "outputs": [
    {
     "name": "stdout",
     "output_type": "stream",
     "text": [
      "star position Ra/Dec:  <SkyCoord (ICRS): (ra, dec) in deg\n",
      "    [(270.238893, 44.214653)]>\n",
      "star position Ra/Dec:  <SkyCoord (ICRS): (ra, dec) in deg\n",
      "    [(270.215559, 44.119755)]>\n",
      "\n",
      "targets local coords in siderostat local frame:\n",
      "EL: -122.0 arcsec ; CE: -122.3 arcsec\n",
      "EL: -92.1 arcsec ; CE: 43.6 arcsec\n",
      "\n",
      "siderostat moves sequence: \n",
      "EL: -0.0 arcsec ; CE 30.0 arcsec ; image: False\n",
      "EL: 0.0 arcsec ; CE -30.0 arcsec ; image: True\n",
      "EL: -122.0 arcsec ; CE -122.3 arcsec ; image: True\n",
      "EL: 29.9 arcsec ; CE 166.0 arcsec ; image: True\n",
      "EL: -0.0 arcsec ; CE 30.0 arcsec ; image: False\n",
      "EL: 0.0 arcsec ; CE -30.0 arcsec ; image: True\n",
      "EL: -29.9 arcsec ; CE -196.0 arcsec ; image: False\n",
      "EL: 0.0 arcsec ; CE 30.0 arcsec ; image: True\n",
      "EL: 122.0 arcsec ; CE 122.3 arcsec ; image: True\n"
     ]
    }
   ],
   "source": [
    "star_target_path = cloudpath + 'Target_selection/GuidingStars/'\n",
    "\n",
    "#Table.read(star_target_path + \"F3_guidingstars.fits\", format='fits')\n",
    "\n",
    "QSO_stars_radec = np.array([[270.238893, 44.214653], # Mag 8.5\n",
    "                        [270.215559,44.119755]]) # Mag 8.7\n",
    "\n",
    "QSO_stars_table = Table(QSO_stars_radec, names=[ 'RA', 'DEC'])\n",
    "QSO_stars_table['Internal count'] = [1,2]\n",
    "\n",
    "stars = [1,2]\n",
    "star_movs, stars_coord = G2UV_QSO.compute_autocoll_move_stars(stars, QSO_stars_table, hystcomp = True)\n"
   ]
  },
  {
   "cell_type": "code",
   "execution_count": 43,
   "metadata": {},
   "outputs": [
    {
     "name": "stdout",
     "output_type": "stream",
     "text": [
      "[array([360.97637173, 430.05207998]), array([828.83300343, 437.60340627])]\n"
     ]
    }
   ],
   "source": [
    "stars_radec_coord = coordinates.SkyCoord(QSO_stars_radec[:,0]*u.deg, QSO_stars_radec[:,1]*u.deg)\n",
    "\n",
    "QSO_stars_pos_guider_pix = G2UV_QSO.SienceMask2guider(stars_radec_coord, world=True, angle=False)\n",
    "print(QSO_stars_pos_guider_pix)"
   ]
  },
  {
   "cell_type": "code",
   "execution_count": 37,
   "metadata": {},
   "outputs": [],
   "source": [
    "#star_target_path = cloudpath + 'Target_selection/GuidingStars/'\n",
    "\n",
    "#Table.read(star_target_path + \"F3_guidingstars.fits\", format='fits')\n",
    "\n",
    "from astropy.table import Column\n",
    "QSO_stars_radec = np.array([[270.238893, 44.214653], # Mag 8.5\n",
    "                        [270.215559,44.119755]]) # Mag 8.7\n",
    "\n",
    "QSO_stars_table = Table(QSO_stars_radec, names=[ 'RA', 'DEC'])\n",
    "QSO_stars_table['Internal count'] = [1,2]"
   ]
  },
  {
   "cell_type": "code",
   "execution_count": 38,
   "metadata": {},
   "outputs": [
    {
     "data": {
      "text/html": [
       "&lt;Table length=2&gt;\n",
       "<table id=\"table139962834010576\" class=\"table-striped table-bordered table-condensed\">\n",
       "<thead><tr><th>RA</th><th>DEC</th><th>Internal count</th></tr></thead>\n",
       "<thead><tr><th>float64</th><th>float64</th><th>int64</th></tr></thead>\n",
       "<tr><td>270.238893</td><td>44.214653</td><td>1</td></tr>\n",
       "<tr><td>270.215559</td><td>44.119755</td><td>2</td></tr>\n",
       "</table>"
      ],
      "text/plain": [
       "<Table length=2>\n",
       "    RA        DEC    Internal count\n",
       " float64    float64      int64     \n",
       "---------- --------- --------------\n",
       "270.238893 44.214653              1\n",
       "270.215559 44.119755              2"
      ]
     },
     "execution_count": 38,
     "metadata": {},
     "output_type": "execute_result"
    }
   ],
   "source": [
    "QSO_stars_table"
   ]
  },
  {
   "cell_type": "code",
   "execution_count": null,
   "metadata": {},
   "outputs": [],
   "source": []
  }
 ],
 "metadata": {
  "kernelspec": {
   "display_name": "Python 3.8.13 ('py38')",
   "language": "python",
   "name": "python3"
  },
  "language_info": {
   "codemirror_mode": {
    "name": "ipython",
    "version": 3
   },
   "file_extension": ".py",
   "mimetype": "text/x-python",
   "name": "python",
   "nbconvert_exporter": "python",
   "pygments_lexer": "ipython3",
   "version": "3.8.13"
  },
  "vscode": {
   "interpreter": {
    "hash": "6429251b47eee9d8b9b4d9852116ca976e0b69b141b5bab3b174d6f3c07282ea"
   }
  }
 },
 "nbformat": 4,
 "nbformat_minor": 2
}
