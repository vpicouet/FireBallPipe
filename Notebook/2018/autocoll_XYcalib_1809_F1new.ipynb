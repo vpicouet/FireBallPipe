{
 "cells": [
  {
   "cell_type": "markdown",
   "metadata": {},
   "source": [
    "# UV-Guider alignement with source in autocoll\n",
    "##  Field 1"
   ]
  },
  {
   "cell_type": "code",
   "execution_count": 148,
   "metadata": {},
   "outputs": [],
   "source": [
    "%matplotlib inline\n",
    "\n",
    "from __future__ import division, print_function\n",
    "\n",
    "import sys\n",
    "sys.path.insert(1, './Calibration')\n",
    "\n",
    "import numpy as np\n",
    "from astropy.io import fits\n",
    "from astropy import wcs, coordinates\n",
    "from astropy import units as u\n",
    "from astropy.wcs.utils import proj_plane_pixel_scales\n",
    "from matplotlib import pyplot as plt\n",
    "from astropy.table import Table\n",
    "import matplotlib.patches as patches\n",
    "\n",
    "from guider2UV.guider2UV import Guider2UV, diff_skycoord\n",
    "\n",
    "from Calibration.mapping import Mapping"
   ]
  },
  {
   "cell_type": "code",
   "execution_count": 62,
   "metadata": {},
   "outputs": [],
   "source": [
    "cloudpath = '/home/dvibert/ownCloud/FIREBALL/'\n",
    "path_SC_GUI02 = cloudpath + 'Tests-at-FortSumner/170909_SC_GUI02/'\n",
    "\n",
    "#mask_plate_scale = 42.26134 #mm/deg\n",
    "\n",
    "#detector platescale\n",
    "#yscale = 1.106 # arcsec/pix spatial (y det -> y mask)\n",
    "#xscale = 1.271 # arcsec/pix spectral (x det -> - x mask)\n",
    "\n",
    "#guider center => put source on guider center\n",
    "gc = np.array([640, 540])"
   ]
  },
  {
   "cell_type": "markdown",
   "metadata": {},
   "source": [
    "## calibrated frame encoder gains:\n",
    "\n",
    "EL : 0.092 x 1.00379 = 0.09469 arcsec/inc\n",
    "\n",
    "CE : 0.01 x 1.02928 = 0.010293 arcsec/inc"
   ]
  },
  {
   "cell_type": "code",
   "execution_count": 63,
   "metadata": {
    "collapsed": true
   },
   "outputs": [],
   "source": [
    "# encoder gains:\n",
    "\n",
    "CEg = 1.02928\n",
    "Elg = 1.00379\n",
    "\n",
    "# 2018 calibrated gains put in CNES software\n",
    "#CEg = 1.0\n",
    "#Elg = 1.0"
   ]
  },
  {
   "cell_type": "markdown",
   "metadata": {},
   "source": [
    "## initialization from last xy calib"
   ]
  },
  {
   "cell_type": "code",
   "execution_count": 64,
   "metadata": {
    "scrolled": true
   },
   "outputs": [
    {
     "name": "stdout",
     "output_type": "stream",
     "text": [
      "FOV center angular position in guider <SkyCoord (SkyOffsetICRS: rotation=0.0 deg, origin=<ICRS Coordinate: (ra, dec) in deg\n",
      "    (250.39272815, 36.41856381)>): (lon, lat) in deg\n",
      "    (0.17639951, 0.0154012)>\n",
      "FOV center pixel position in guider [array(1338.56657245), array(600.7867847)]\n"
     ]
    },
    {
     "name": "stderr",
     "output_type": "stream",
     "text": [
      "WARNING: FITSFixedWarning: The WCS transformation has more axes (2) than the image it is associated with (0) [astropy.wcs.wcs]\n"
     ]
    }
   ],
   "source": [
    "G2UV = Guider2UV(filename=path_SC_GUI02 + 'Guider2UV_F1_nogamma.new.pkl')\n",
    "gc_coord = G2UV.GuiderP.pix2local([gc])\n",
    "\n",
    "target_filename = '/home/dvibert/ownCloud/FIREBALL/Target_selection/targets_F1.txt'\n",
    "F1 = Table.read(target_filename, format='ascii')"
   ]
  },
  {
   "cell_type": "markdown",
   "metadata": {},
   "source": [
    "load current mapping"
   ]
  },
  {
   "cell_type": "code",
   "execution_count": 66,
   "metadata": {},
   "outputs": [],
   "source": [
    "diffuse_tab_file = '/data/FireBall/FTS-06-2018/180612/image-000275-000284-Zinc-with_dark119-stack_table.csv'\n",
    "diffuse_tab = Table.read(diffuse_tab_file, format='csv')\n",
    "mask_det_map_file = '/home/dvibert/work/FireBallPipe/mapping-mask-det-180823-F1.pkl'\n",
    "mask_det_map = Mapping(mask_det_map_file)\n",
    "dxm_dyd = -0.013\n",
    "dym_dxd = -0.015\n",
    "m = np.array([[0., dxm_dyd],[dym_dxd ,0.]])"
   ]
  },
  {
   "cell_type": "markdown",
   "metadata": {},
   "source": [
    "## Diffuse UV image\n",
    "\n",
    "load new mapping"
   ]
  },
  {
   "cell_type": "code",
   "execution_count": 67,
   "metadata": {},
   "outputs": [],
   "source": [
    "diffuse_path = '/data/ownCloud/FIREBALL/TestsFTS2018-Flight/AIT-Optical-FTS-2018-Flight/XYCalibration/DiffuseMasksIllumination180823/'\n",
    "diffuse_tab_file = diffuse_path + 'StackedImage_24-43-NoDark_table.csv'\n",
    "diffuse_tab = Table.read(diffuse_tab_file, format='csv')\n",
    "mask_det_map_file = '/home/dvibert/work/FireBallPipe/mapping-mask-det-180823-F1.pkl'\n",
    "mask_det_map = Mapping(mask_det_map_file)\n",
    "dxm_dyd = -0.013\n",
    "dym_dxd = -0.015\n",
    "m = np.array([[0., dxm_dyd],[dym_dxd ,0.]])"
   ]
  },
  {
   "cell_type": "markdown",
   "metadata": {},
   "source": [
    "record shift from mapping\n",
    "\n",
    "positive: current diffuse -> mapping (old diffuse)"
   ]
  },
  {
   "cell_type": "code",
   "execution_count": 68,
   "metadata": {},
   "outputs": [],
   "source": [
    "diffuse_offset = [ 14.6+1, 0.+1] \n",
    "direct_map = lambda w, x, y: mask_det_map.map(w, x, y) + diffuse_offset\n",
    "inv_map = lambda w, x, y: mask_det_map.inv_map(w, x - diffuse_offset[0], y - diffuse_offset[1])"
   ]
  },
  {
   "cell_type": "markdown",
   "metadata": {},
   "source": [
    "## Scan sequence\n",
    "\n",
    "gc - 46 - 51 -FHC- 4 - FHC - 8 - gc - new model - FHC - 12 - s8 - s31 - FHC - s25 - gc"
   ]
  },
  {
   "cell_type": "markdown",
   "metadata": {},
   "source": [
    "### Go from guider to 1st slit: #46"
   ]
  },
  {
   "cell_type": "code",
   "execution_count": 69,
   "metadata": {},
   "outputs": [
    {
     "name": "stdout",
     "output_type": "stream",
     "text": [
      "slit position in mm on mask: [ 6.7589561 -3.858979 ]\n",
      "slit coord in guider local frame: ['0d05m20.0898s -0d08m48.8744s']\n",
      "EL: [159.44063507] arcsec \n",
      "CE: [256.91471986] arcsec\n"
     ]
    }
   ],
   "source": [
    "slit_pos1 =   np.array([F1[F1['Internal-count']=='46']['xmm'][0], F1[F1['Internal-count']=='46']['ymm'][0]])\n",
    "\n",
    "print(\"slit position in mm on mask:\", slit_pos1)\n",
    "slit_coord1 = G2UV.SienceMask2guider(slit_pos1, angle=True)\n",
    "print(\"slit coord in guider local frame:\", slit_coord1.to_string(u'dms'))\n",
    "\n",
    "#frame move\n",
    "theta_EL =  slit_coord1.lon.deg/2./Elg\n",
    "theta_CE = -slit_coord1.lat.deg/2./CEg\n",
    "print(\"EL: {} arcsec \\nCE: {} arcsec\".format(theta_EL*3600, theta_CE*3600))"
   ]
  },
  {
   "cell_type": "markdown",
   "metadata": {},
   "source": [
    "### Go from guider to 1st slit: #46"
   ]
  },
  {
   "cell_type": "code",
   "execution_count": 69,
   "metadata": {},
   "outputs": [
    {
     "name": "stdout",
     "output_type": "stream",
     "text": [
      "slit position in mm on mask: [ 6.7589561 -3.858979 ]\n",
      "slit coord in guider local frame: ['0d05m20.0898s -0d08m48.8744s']\n",
      "EL: [159.44063507] arcsec \n",
      "CE: [256.91471986] arcsec\n"
     ]
    }
   ],
   "source": [
    "slit_pos1 =   np.array([F1[F1['Internal-count']=='46']['xmm'][0], F1[F1['Internal-count']=='46']['ymm'][0]])\n",
    "\n",
    "print(\"slit position in mm on mask:\", slit_pos1)\n",
    "slit_coord1 = G2UV.SienceMask2guider(slit_pos1, angle=True)\n",
    "print(\"slit coord in guider local frame:\", slit_coord1.to_string(u'dms'))\n",
    "\n",
    "#frame move\n",
    "theta_EL =  slit_coord1.lon.deg/2./Elg\n",
    "theta_CE = -slit_coord1.lat.deg/2./CEg\n",
    "print(\"EL: {} arcsec \\nCE: {} arcsec\".format(theta_EL*3600, theta_CE*3600))"
   ]
  },
  {
   "cell_type": "markdown",
   "metadata": {},
   "source": [
    "remove offset from model to prediction"
   ]
  },
  {
   "cell_type": "code",
   "execution_count": 70,
   "metadata": {},
   "outputs": [
    {
     "name": "stdout",
     "output_type": "stream",
     "text": [
      "mapped slit position on detector:  [1801.96825511  420.67108983]\n"
     ]
    }
   ],
   "source": [
    "slit_coord1_det = direct_map(mask_det_map.w[1], slit_pos1[0], slit_pos1[1])\n",
    "print(\"mapped slit position on detector: \", slit_coord1_det)"
   ]
  },
  {
   "cell_type": "code",
   "execution_count": 71,
   "metadata": {},
   "outputs": [
    {
     "name": "stdout",
     "output_type": "stream",
     "text": [
      "observed slit position in mm on mask: [ 6.32991818 -3.76309197]\n",
      "observed slit position (linear mapping) in mm on mask: [ 6.31788027 -3.78295517]\n",
      "observed slit coord in guider local frame: ['0d05m27.4011s -0d08m12.042s']\n",
      "observed slit coord in guider pixel frame: [array([1011.27784498]), array([-2.53119845])]\n"
     ]
    }
   ],
   "source": [
    "# compute observed position on mask\n",
    "slit_coord1_obs_det = np.array([1796.9, 454.6]) # observed\n",
    "slit_coord1_obs_wave = 0.20619\n",
    "slit_pos1_obs = inv_map(slit_coord1_obs_wave, slit_coord1_obs_det[0], slit_coord1_obs_det[1])\n",
    "slit_pos1_obs2 = slit_pos1 + m.dot(slit_coord1_obs_det - slit_coord1_det)\n",
    "print(\"observed slit position in mm on mask:\", slit_pos1_obs)\n",
    "print(\"observed slit position (linear mapping) in mm on mask:\", slit_pos1_obs2)\n",
    "\n",
    "slit_coord1_obs = G2UV.SienceMask2guider(slit_pos1_obs, angle=True)\n",
    "print(\"observed slit coord in guider local frame:\", slit_coord1_obs.to_string(u'dms'))\n",
    "slit_coord1_obs_pix = G2UV.SienceMask2guider(slit_pos1_obs, angle=False)\n",
    "print(\"observed slit coord in guider pixel frame:\", slit_coord1_obs_pix)\n"
   ]
  },
  {
   "cell_type": "code",
   "execution_count": 72,
   "metadata": {},
   "outputs": [
    {
     "name": "stdout",
     "output_type": "stream",
     "text": [
      "offset from guider in arcsec (guider frame): \n",
      " [[ -7.31128227]\n",
      " [-36.83238861]]\n"
     ]
    }
   ],
   "source": [
    "offset =  diff_skycoord(slit_coord1_obs, slit_coord1) \n",
    "print(\"offset from guider in arcsec (guider frame): \\n\",offset*3600)\n"
   ]
  },
  {
   "cell_type": "code",
   "execution_count": 73,
   "metadata": {},
   "outputs": [],
   "source": [
    "G2UVnew  = G2UV.copy()\n",
    "\n",
    "newFOVcenter = coordinates.SkyCoord(G2UV.FOV_center_guider_coord.lon + offset[0]*u.deg, \n",
    "                              G2UV.FOV_center_guider_coord.lat + offset[1]*u.deg,\n",
    "                              frame = G2UV.GuiderP.localframe)\n",
    "                     \n",
    "G2UVnew.FOV_center_guider_coord = newFOVcenter"
   ]
  },
  {
   "cell_type": "code",
   "execution_count": 74,
   "metadata": {},
   "outputs": [
    {
     "name": "stdout",
     "output_type": "stream",
     "text": [
      "slit coord in guider local frame, corrected from offset: ['0d05m12.7785s -0d09m25.7068s']\n"
     ]
    }
   ],
   "source": [
    "slit_coord1_cor = G2UVnew.SienceMask2guider(slit_pos1, angle=True)\n",
    "print(\"slit coord in guider local frame, corrected from offset:\", slit_coord1_cor.to_string(u'dms'))\n"
   ]
  },
  {
   "cell_type": "markdown",
   "metadata": {},
   "source": [
    "### go back to guider center (absolute)"
   ]
  },
  {
   "cell_type": "markdown",
   "metadata": {},
   "source": [
    "go to 1st slit, offset removed:"
   ]
  },
  {
   "cell_type": "code",
   "execution_count": 75,
   "metadata": {},
   "outputs": [
    {
     "name": "stdout",
     "output_type": "stream",
     "text": [
      "slit coord in guider local frame: ['0d05m12.7785s -0d09m25.7068s']\n",
      "EL: [155.7987965] arcsec \n",
      "CE: [274.8070274] arcsec\n"
     ]
    }
   ],
   "source": [
    "\n",
    "slit_coord1 = G2UVnew.SienceMask2guider(slit_pos1, angle=True)\n",
    "print(\"slit coord in guider local frame:\", slit_coord1.to_string(u'dms'))\n",
    "\n",
    "#frame move\n",
    "theta_EL =  slit_coord1.lon.deg/2./Elg\n",
    "theta_CE = -slit_coord1.lat.deg/2./CEg\n",
    "print(\"EL: {} arcsec \\nCE: {} arcsec\".format(theta_EL*3600, theta_CE*3600))"
   ]
  },
  {
   "cell_type": "markdown",
   "metadata": {},
   "source": [
    "### Loop on slits"
   ]
  },
  {
   "cell_type": "code",
   "execution_count": 76,
   "metadata": {},
   "outputs": [
    {
     "data": {
      "text/plain": [
       "['46', '51', '14', '8', '8', '14', '51', '46']"
      ]
     },
     "execution_count": 76,
     "metadata": {},
     "output_type": "execute_result"
    }
   ],
   "source": [
    "slits = ['46', '51', '14', '8'] \n",
    "slits += slits[::-1]\n",
    "slits"
   ]
  },
  {
   "cell_type": "code",
   "execution_count": 77,
   "metadata": {},
   "outputs": [
    {
     "name": "stdout",
     "output_type": "stream",
     "text": [
      "slit position in mm on mask: [ 6.7589561 -3.858979 ]\n",
      "slit coord in guider local frame: ['0d05m12.7785s -0d09m25.7068s']\n",
      "slit coord in guider pixel frame: [997.36798908 -84.38679322]\n",
      "EL: 155.8 arcsec \n",
      "CE: 274.8 arcsec\n",
      "slit position in mm on mask: [8.6160157 1.0303866]\n",
      "slit coord in guider local frame: ['0d12m13.5464s -0d11m54.0226s']\n",
      "slit coord in guider pixel frame: [1455.13558616 -227.07050342]\n",
      "EL: 365.4 arcsec \n",
      "CE: 346.9 arcsec\n",
      "slit position in mm on mask: [-5.1696728  3.934102 ]\n",
      "slit coord in guider local frame: ['0d15m52.3009s 0d07m47.458s']\n",
      "slit coord in guider pixel frame: [1679.9107799  1037.48140207]\n",
      "EL: 474.4 arcsec \n",
      "CE: -227.1 arcsec\n",
      "slit position in mm on mask: [-8.8972191 -0.6960435]\n",
      "slit coord in guider local frame: ['0d09m09.8297s 0d12m55.9735s']\n",
      "slit coord in guider pixel frame: [1264.03692331 1382.56527435]\n",
      "EL: 273.9 arcsec \n",
      "CE: -376.9 arcsec\n",
      "slit position in mm on mask: [-8.8972191 -0.6960435]\n",
      "slit coord in guider local frame: ['0d09m09.8297s 0d12m55.9735s']\n",
      "slit coord in guider pixel frame: [1264.03692331 1382.56527435]\n",
      "EL: 273.9 arcsec \n",
      "CE: -376.9 arcsec\n",
      "slit position in mm on mask: [-5.1696728  3.934102 ]\n",
      "slit coord in guider local frame: ['0d15m52.3009s 0d07m47.458s']\n",
      "slit coord in guider pixel frame: [1679.9107799  1037.48140207]\n",
      "EL: 474.4 arcsec \n",
      "CE: -227.1 arcsec\n",
      "slit position in mm on mask: [8.6160157 1.0303866]\n",
      "slit coord in guider local frame: ['0d12m13.5464s -0d11m54.0226s']\n",
      "slit coord in guider pixel frame: [1455.13558616 -227.07050342]\n",
      "EL: 365.4 arcsec \n",
      "CE: 346.9 arcsec\n",
      "slit position in mm on mask: [ 6.7589561 -3.858979 ]\n",
      "slit coord in guider local frame: ['0d05m12.7785s -0d09m25.7068s']\n",
      "slit coord in guider pixel frame: [997.36798908 -84.38679322]\n",
      "EL: 155.8 arcsec \n",
      "CE: 274.8 arcsec\n"
     ]
    }
   ],
   "source": [
    "slit_pos = np.zeros((len(slits),2))\n",
    "slit_coord = []\n",
    "slit_coord_pix = np.zeros((len(slits),2))\n",
    "theta_EL = np.zeros(len(slits))\n",
    "theta_CE = np.zeros(len(slits))\n",
    "\n",
    "for i, s in enumerate(slits):\n",
    "    \n",
    "    slit_pos[i] = np.array([F1[F1['Internal-count']==s]['xmm'][0], F1[F1['Internal-count']==s]['ymm'][0]])\n",
    "    print(\"slit position in mm on mask:\", slit_pos[i])\n",
    "    slit_coord.append(G2UVnew.SienceMask2guider(slit_pos[i], angle=True))\n",
    "    print(\"slit coord in guider local frame:\", slit_coord[-1].to_string(u'dms'))\n",
    "    slit_coord_pix[i] = np.array(G2UVnew.SienceMask2guider(slit_pos[i], angle=False)).T\n",
    "    print(\"slit coord in guider pixel frame:\", slit_coord_pix[i])\n",
    "\n",
    "    #frame move\n",
    "    theta_EL[i] =  slit_coord[-1].lon.deg/2./Elg\n",
    "    theta_CE[i] = -slit_coord[-1].lat.deg/2./CEg\n",
    "    print(\"EL: {:.1f} arcsec \\nCE: {:.1f} arcsec\".format(theta_EL[i]*3600, theta_CE[i]*3600))\n",
    "    \n",
    "# compute relative moves\n",
    "moves_EL = theta_EL[1:] - theta_EL[:-1]\n",
    "moves_CE = theta_CE[1:] - theta_CE[:-1]\n"
   ]
  },
  {
   "cell_type": "code",
   "execution_count": 78,
   "metadata": {},
   "outputs": [
    {
     "name": "stdout",
     "output_type": "stream",
     "text": [
      "move:  EL 209.6 arcsec - CE 72.0 arcsec\n",
      "move:  EL 109.0 arcsec - CE -573.9 arcsec\n",
      "move:  EL -200.5 arcsec - CE -149.9 arcsec\n",
      "move:  EL 200.5 arcsec - CE 149.9 arcsec\n",
      "move:  EL -109.0 arcsec - CE 573.9 arcsec\n",
      "move:  EL -209.6 arcsec - CE -72.0 arcsec\n"
     ]
    }
   ],
   "source": [
    "# remove middle\n",
    "idx = np.arange(len(slits)//2)\n",
    "idx = np.concatenate((idx[:-1], idx[:-1]+len(idx)))\n",
    "for i in idx:\n",
    "    print(\"move:  EL {:.1f} arcsec - CE {:.1f} arcsec\".format(moves_EL[i]*3600, moves_CE[i]*3600))\n"
   ]
  },
  {
   "cell_type": "markdown",
   "metadata": {},
   "source": [
    "observed slits position :"
   ]
  },
  {
   "cell_type": "code",
   "execution_count": 109,
   "metadata": {},
   "outputs": [
    {
     "data": {
      "text/plain": [
       "array([[1803. ,  421.2],\n",
       "       [1469.6,  288.7],\n",
       "       [1304.2, 1347.9],\n",
       "       [1619.6, 1625.4],\n",
       "       [1620. , 1626.6],\n",
       "       [1304.3, 1355.6],\n",
       "       [1469.5,  288.7],\n",
       "       [1802.9,  412.5]])"
      ]
     },
     "execution_count": 109,
     "metadata": {},
     "output_type": "execute_result"
    }
   ],
   "source": [
    "#slit_coord_obs_det = np.zeros((8,2)) + np.array([1800, 421])\n",
    "\n",
    "slit_coord_obs_det = np.array([[ 1803 ,  421.2 ],\n",
    "         [ 1469.6 ,  288.7 ],\n",
    "         [ 1304.2 , 1347.9 ],\n",
    "         [ 1619.6 ,  1625.4 ],\n",
    "         [ 1620 ,  1626.6 ],\n",
    "\n",
    "         [ 1304.3 ,  1355.6 ],\n",
    "         [ 1469.5 ,  288.7 ],\n",
    "         [ 1802.9 ,  412.5 ]])\n",
    "slit_coord_obs_det"
   ]
  },
  {
   "cell_type": "code",
   "execution_count": 118,
   "metadata": {},
   "outputs": [
    {
     "data": {
      "text/plain": [
       "array([[1801.96825511,  420.67108983],\n",
       "       [1469.29514119,  286.56101201],\n",
       "       [1295.35176435, 1349.1566357 ],\n",
       "       [1608.56048921, 1627.87990416],\n",
       "       [1608.56048921, 1627.87990416],\n",
       "       [1295.35176435, 1349.1566357 ],\n",
       "       [1469.29514119,  286.56101201],\n",
       "       [1801.96825511,  420.67108983]])"
      ]
     },
     "execution_count": 118,
     "metadata": {},
     "output_type": "execute_result"
    }
   ],
   "source": [
    "mask_det_map.map(mask_det_map.w[1], slit_pos[:,0], slit_pos[:, 1]).T + diffuse_offset\n",
    "#direct_map(mask_det_map.w[1], slit_pos[:,0].T, slit_pos[:, 1].T)"
   ]
  },
  {
   "cell_type": "markdown",
   "metadata": {},
   "source": [
    "map on mask :"
   ]
  },
  {
   "cell_type": "code",
   "execution_count": 126,
   "metadata": {},
   "outputs": [
    {
     "name": "stdout",
     "output_type": "stream",
     "text": [
      "0.20619\n",
      "[[ 6.76495747 -3.86941027]\n",
      " [ 8.5901649   1.01562411]\n",
      " [-5.14382363  3.8054746 ]\n",
      " [-8.84456363 -0.85730731]\n",
      " [-8.86021446 -0.86324882]\n",
      " [-5.24344476  3.8052101 ]\n",
      " [ 8.5901657   1.01711482]\n",
      " [ 6.87734015 -3.87174254]]\n"
     ]
    }
   ],
   "source": [
    "slit_coord_obs_wave = 0.20619    \n",
    "\n",
    "#slit_pos_obs = mask_det_map.inv_map(slit_coord_obs_wave, slit_coord_obs_det[:,0], slit_coord_obs_det[:,1]).T\n",
    "slit_pos_obs = inv_map(slit_coord_obs_wave, slit_coord_obs_det[:,0], slit_coord_obs_det[:,1]).T\n",
    "#print(slit_pos_obs - slit_pos)\n",
    "\n",
    "#print(slit_coord_obs_wave)\n",
    "#print(slit_pos_obs)\n"
   ]
  },
  {
   "cell_type": "code",
   "execution_count": null,
   "metadata": {},
   "outputs": [],
   "source": []
  },
  {
   "cell_type": "code",
   "execution_count": 128,
   "metadata": {},
   "outputs": [
    {
     "name": "stdout",
     "output_type": "stream",
     "text": [
      "observed slit position in mm on mask: [ 6.76495747 -3.86941027]\n",
      "observed slit coord in guider local frame: ['0d05m11.9009s -0d09m26.2416s']\n",
      "observed slit coord in guider pixel frame: [996.42218326 -85.01326863]\n",
      "observed slit position in mm on mask: [8.5901649  1.01562411]\n",
      "observed slit coord in guider local frame: ['0d12m12.2329s -0d11m51.8436s']\n",
      "observed slit coord in guider pixel frame: [1453.6714497  -224.79075016]\n",
      "observed slit position in mm on mask: [-5.14382363  3.8054746 ]\n",
      "observed slit coord in guider local frame: ['0d15m41.3847s 0d07m44.9784s']\n",
      "observed slit coord in guider pixel frame: [1668.46215524 1035.12985365]\n",
      "observed slit position in mm on mask: [-8.84456363 -0.85730731]\n",
      "observed slit coord in guider local frame: ['0d08m56.1867s 0d12m51.1391s']\n",
      "observed slit coord in guider pixel frame: [1249.14207387 1378.00471344]\n",
      "observed slit position in mm on mask: [-8.86021446 -0.86324882]\n",
      "observed slit coord in guider local frame: ['0d08m55.647s 0d12m52.4647s']\n",
      "observed slit coord in guider pixel frame: [1248.6169043  1379.46646695]\n",
      "observed slit position in mm on mask: [-5.24344476  3.8052101 ]\n",
      "observed slit coord in guider local frame: ['0d15m41.1596s 0d07m53.4763s']\n",
      "observed slit coord in guider pixel frame: [1668.44310123 1044.14099491]\n",
      "observed slit position in mm on mask: [8.5901657  1.01711482]\n",
      "observed slit coord in guider local frame: ['0d12m12.36s -0d11m51.8406s']\n",
      "observed slit coord in guider pixel frame: [1453.80573797 -224.78135291]\n",
      "observed slit position in mm on mask: [ 6.87734015 -3.87174254]\n",
      "observed slit coord in guider local frame: ['0d05m11.9287s -0d09m35.8423s']\n",
      "observed slit coord in guider pixel frame: [996.75195734 -95.61175141]\n"
     ]
    }
   ],
   "source": [
    "slit_coord_obs = []\n",
    "slit_coord_obs_pix = np.zeros((len(slits),2))\n",
    "\n",
    "for i, s in enumerate(slits):\n",
    "    \n",
    "    print(\"observed slit position in mm on mask:\", slit_pos_obs[i])\n",
    "    slit_coord_obs.append(G2UVnew.SienceMask2guider(slit_pos_obs[i], angle=True))\n",
    "    print(\"observed slit coord in guider local frame:\", slit_coord_obs[-1].to_string(u'dms'))\n",
    "    slit_coord_obs_pix[i] = np.array(G2UVnew.SienceMask2guider(slit_pos_obs[i], angle=False)).T\n",
    "    print(\"observed slit coord in guider pixel frame:\", slit_coord_obs_pix[i])\n",
    "\n"
   ]
  },
  {
   "cell_type": "markdown",
   "metadata": {},
   "source": [
    "## compute NEW MODEL: orientation, offset & magnification"
   ]
  },
  {
   "cell_type": "code",
   "execution_count": 129,
   "metadata": {},
   "outputs": [
    {
     "name": "stdout",
     "output_type": "stream",
     "text": [
      "[[ -0.8907215   -0.51339299]\n",
      " [ -1.26032556   2.21111182]\n",
      " [-10.97669159  -2.21295766]\n",
      " [-13.76106098  -4.50120895]\n",
      " [-14.26840539  -3.16236772]\n",
      " [-10.99422684   6.29042834]\n",
      " [ -1.13311715   2.21100966]\n",
      " [ -1.09737293 -10.11474404]]\n"
     ]
    }
   ],
   "source": [
    "slit_coord_F = np.zeros((len(slits),2))\n",
    "slit_coord_obs_F = np.zeros((len(slits),2))\n",
    "\n",
    "for i in range(len(slits)):\n",
    "    \n",
    "    c = G2UVnew.guider_to_FieldLocal(slit_coord[i], angle=True)\n",
    "    slit_coord_F[i] = np.array([ c.lon.deg, c.lat.deg]).T\n",
    "    \n",
    "    c_obs = G2UVnew.guider_to_FieldLocal(slit_coord_obs[i], angle=True)\n",
    "    slit_coord_obs_F[i] = np.array([ c_obs.lon.deg, c_obs.lat.deg]).T\n",
    "\n",
    "    \n",
    "delta = slit_coord_obs_F - slit_coord_F\n",
    "print(delta*3600)\n"
   ]
  },
  {
   "cell_type": "code",
   "execution_count": 130,
   "metadata": {},
   "outputs": [
    {
     "name": "stdout",
     "output_type": "stream",
     "text": [
      "gamma: 0.9983429833490758\n",
      "theta: 32.47085964506459 arcmin\n",
      "dx: -7.046980874765198 arcsec\n",
      "dy: -1.3525478005161926 arcsec\n",
      "variances: [5.16708511e-04 1.77631302e+00 3.53876133e-01 3.53876133e-01]\n",
      "\n",
      "residuals in arcsec: [-0.16427833  1.01208459 -0.79092461 -0.35904299  0.14830142 -0.77338936\n",
      "  0.88487618  0.0423731  -2.99329282 -1.51490663  3.29908031  1.32950614\n",
      " -0.0093351  -5.20430569 -1.51480446  6.60805824]\n"
     ]
    }
   ],
   "source": [
    "row_x = np.hstack((slit_coord_F*[1.,-1], np.ones((8,1)), np.zeros((8,1)) )) # xn -x = x dgamma - y theta + dx\n",
    "row_y = np.hstack((slit_coord_F[:,::-1], np.zeros((8,1)), np.ones((8,1)) )) # yn - y = x theta - y dgamma \n",
    "mat = np.vstack((row_x, row_y))\n",
    "matinv =  np.linalg.pinv(mat)\n",
    "data = np.concatenate((delta[:,0], delta[:,1]))\n",
    "sol = matinv.dot(data)\n",
    "gama = 1 + sol[0]\n",
    "theta_rad = sol[1]\n",
    "deltax = sol[2]\n",
    "deltay = sol[3]\n",
    "theta = theta_rad*180/np.pi*60 #arcmin\n",
    "print(\"gamma: {}\\ntheta: {} arcmin\\ndx: {} arcsec\\ndy: {} arcsec\".format(gama, theta, deltax*3600, deltay*3600))\n",
    "covar = matinv.dot(matinv.T)\n",
    "# accuracy, assuming 1 arcsec measurement error\n",
    "print(\"variances: {}\\n\".format(np.sqrt(np.diag(covar))/3600*[1, 180/np.pi*60, 3600, 3600])) #\n",
    "#residual\n",
    "data_new = mat.dot(sol) \n",
    "print(\"residuals in arcsec:\", (data_new - data)*3600)"
   ]
  },
  {
   "cell_type": "code",
   "execution_count": 154,
   "metadata": {},
   "outputs": [
    {
     "data": {
      "text/plain": [
       "Text(-10,7,'rotation: 32.47 arcmin\\nmagnification 0.9983\\ndeltax: 1.3525 arcsec\\ndeltay: -7.0470 arcsec')"
      ]
     },
     "execution_count": 154,
     "metadata": {},
     "output_type": "execute_result"
    },
    {
     "data": {
      "image/png": "[encoded data removed]",
      "text/plain": [
       "<Figure size 432x288 with 1 Axes>"
      ]
     },
     "metadata": {},
     "output_type": "display_data"
    }
   ],
   "source": [
    "mask_plate_scale = 42.26134\n",
    "plt.figure()\n",
    "plt.axis('equal')\n",
    "plt.plot(slit_pos[:,0], slit_pos[:,1], 'or')\n",
    "qv = plt.quiver(slit_pos[:,0], slit_pos[:,1], 0., delta[:,0]*mask_plate_scale)\n",
    "plt.quiverkey(qv, .8,.9,.075, \"75 mu\", color='r')\n",
    "plt.xlim([-13, 13])\n",
    "plt.ylim([-7,7])\n",
    "plt.xlabel('x mm')\n",
    "plt.ylabel('y mm')\n",
    "plt.text(-10,7,\"rotation: {:.2f} arcmin\\nmagnification {:.4f}\\ndeltax: {:.4f} arcsec\\ndeltay: {:.4f} arcsec\".format(theta, gama, -deltay*3600, deltax*3600))\n",
    "\n"
   ]
  },
  {
   "cell_type": "code",
   "execution_count": 160,
   "metadata": {},
   "outputs": [
    {
     "name": "stdout",
     "output_type": "stream",
     "text": [
      "[-5.27348666  3.67916712] [-5.1696728  3.934102 ]\n",
      "<SkyCoord (SkyOffsetICRS: rotation=-90.0 deg, origin=<ICRS Coordinate: (ra, dec) in deg\n",
      "    (32.19, -5.688)>): (lon, lat) in deg\n",
      "    (0.09314919, 0.12240426)>\n",
      "<SkyCoord (SkyOffsetICRS: rotation=-90.0 deg, origin=<ICRS Coordinate: (ra, dec) in deg\n",
      "    (32.19, -5.688)>): (lon, lat) in deg\n",
      "    (0.08711188, 0.12486069)>\n"
     ]
    }
   ],
   "source": [
    "sit_pos14_obs_det = np.array([1312.8, 1357.7])\n",
    "slit_pos14_obs = inv_map(slit_coord_obs_wave, sit_pos14_obs_det[0], sit_pos14_obs_det[1]).T\n",
    "print(slit_pos14_obs, slit_pos[2])\n",
    "\n",
    "print(G2UV.FieldP.pix2local(slit_pos[2]))\n",
    "print(G2UV.FieldP.pix2local(slit_pos14_obs))"
   ]
  },
  {
   "cell_type": "code",
   "execution_count": 163,
   "metadata": {},
   "outputs": [
    {
     "data": {
      "text/plain": [
       "array([1295.35176435, 1349.1566357 ])"
      ]
     },
     "execution_count": 163,
     "metadata": {},
     "output_type": "execute_result"
    }
   ],
   "source": [
    "direct_map(slit_coord_obs_wave, slit_pos[2,0], slit_pos[2,1])"
   ]
  },
  {
   "cell_type": "code",
   "execution_count": 131,
   "metadata": {},
   "outputs": [],
   "source": [
    "G2UVcor  = Guider2UV(guider_wcs=G2UVnew.GuiderP.w, \n",
    "                     Field_center=G2UVnew.FieldP.center, \n",
    "                     Field_rotation=G2UVnew.FieldP.rotation,\n",
    "                     Field_gamma=gama,\n",
    "                     mask_rotation=G2UVnew.mask_rotation + theta*u.arcmin)\n",
    "\n",
    "\n",
    "#deltaFOV = - 1/gama*deltax\n",
    "\n",
    "#G2UVnew  = Guider2UV(guider_wcs=G2UV.GuiderP.w, \n",
    "#                     Field_center=G2UV.FieldP.center, \n",
    "#                     Field_rotation=G2UV.FieldP.rotation,\n",
    "#                     Field_gamma=gama)\n",
    "#                     #mask_rotation=theta*u.arcmin)\n",
    "#\n",
    "#deltaFOV = - deltax\n",
    "\n",
    "newFOVcenter = coordinates.SkyCoord(G2UVnew.FOV_center_guider_coord.lon + deltax*u.deg, \n",
    "                              G2UVnew.FOV_center_guider_coord.lat + deltay*u.deg,\n",
    "                              frame = G2UVnew.GuiderP.localframe)\n",
    "                     \n",
    "G2UVcor.FOV_center_guider_coord = newFOVcenter\n",
    "\n",
    "#G2UVnew.FOV_guider_coord = G2UV.FOV_guider_coord\n"
   ]
  },
  {
   "cell_type": "code",
   "execution_count": null,
   "metadata": {},
   "outputs": [],
   "source": []
  },
  {
   "cell_type": "markdown",
   "metadata": {},
   "source": [
    "## check new model on new slit #21\n",
    "\n",
    "start from last slit #46"
   ]
  },
  {
   "cell_type": "code",
   "execution_count": 136,
   "metadata": {},
   "outputs": [
    {
     "name": "stdout",
     "output_type": "stream",
     "text": [
      "slit position in mm on mask: [-2.4108349  4.2733935]\n",
      "slit coord in guider local frame: ['0d16m17.2885s 0d03m54.673s']\n",
      "slit coord in guider pixel frame: [array([1701.38601191]), array([790.49259996])]\n",
      "EL: [331.00045996] arcsec \n",
      "CE: [-388.80565542] arcsec\n"
     ]
    }
   ],
   "source": [
    "slitcheck = '21'\n",
    "slit_pos5 =   np.array([F1[F1['Internal-count']==slitcheck]['xmm'][0], F1[F1['Internal-count']==slitcheck]['ymm'][0]])\n",
    "\n",
    "print(\"slit position in mm on mask:\", slit_pos5)\n",
    "slit_coord5 = G2UVcor.SienceMask2guider(slit_pos5, angle=True)\n",
    "print(\"slit coord in guider local frame:\", slit_coord5.to_string(u'dms'))\n",
    "slit_coord5_pix = G2UVcor.SienceMask2guider(slit_pos5, angle=False)\n",
    "print(\"slit coord in guider pixel frame:\", slit_coord5_pix)\n",
    "\n",
    "#frame move\n",
    "theta_EL =  (slit_coord5.lon.deg -  slit_coord[0].lon.deg)/2./Elg\n",
    "theta_CE = -(slit_coord5.lat.deg -  slit_coord[0].lat.deg)/2./CEg\n",
    "print(\"EL: {} arcsec \\nCE: {} arcsec\".format(theta_EL*3600, theta_CE*3600))"
   ]
  },
  {
   "cell_type": "markdown",
   "metadata": {},
   "source": [
    "## check new model on known slit #14\n",
    "\n",
    "start from last slit #14"
   ]
  },
  {
   "cell_type": "code",
   "execution_count": 137,
   "metadata": {},
   "outputs": [
    {
     "data": {
      "text/plain": [
       "['46', '51', '14', '8', '8', '14', '51', '46']"
      ]
     },
     "execution_count": 137,
     "metadata": {},
     "output_type": "execute_result"
    }
   ],
   "source": [
    "slits"
   ]
  },
  {
   "cell_type": "code",
   "execution_count": 139,
   "metadata": {},
   "outputs": [
    {
     "name": "stdout",
     "output_type": "stream",
     "text": [
      "slit position in mm on mask: [-5.1696728  3.934102 ]\n",
      "slit coord in guider local frame: ['0d15m40.5608s 0d07m48.5238s']\n",
      "slit coord in guider pixel frame: [array([1667.6919669]), array([1038.90801583])]\n",
      "EL: [-18.29449073] arcsec \n",
      "CE: [-113.59921652] arcsec\n"
     ]
    }
   ],
   "source": [
    "slitcheck2 = slits[2]\n",
    "slit_pos6 =   np.array([F1[F1['Internal-count']==slitcheck2]['xmm'][0], F1[F1['Internal-count']==slitcheck2]['ymm'][0]])\n",
    "\n",
    "print(\"slit position in mm on mask:\", slit_pos6)\n",
    "slit_coord6 = G2UVcor.SienceMask2guider(slit_pos6, angle=True)\n",
    "print(\"slit coord in guider local frame:\", slit_coord6.to_string(u'dms'))\n",
    "slit_coord6_pix = G2UVcor.SienceMask2guider(slit_pos6, angle=False)\n",
    "print(\"slit coord in guider pixel frame:\", slit_coord6_pix)\n",
    "\n",
    "#frame move\n",
    "theta_EL =  (slit_coord6.lon.deg -  slit_coord5.lon.deg)/2./Elg\n",
    "theta_CE = -(slit_coord6.lat.deg -  slit_coord5.lat.deg)/2./CEg\n",
    "print(\"EL: {} arcsec \\nCE: {} arcsec\".format(theta_EL*3600, theta_CE*3600))"
   ]
  },
  {
   "cell_type": "markdown",
   "metadata": {},
   "source": [
    "compared observed vs diffuse\n",
    "\n",
    "| wavelength | diffuse   | observed |\n",
    "|------------|-----------|----------|\n",
    "| 0.21382    |           |           \n",
    "| 0.20619    | 1738.31531.2| 1754.3x1574.3\n",
    "| 0.20255    |   |\n"
   ]
  },
  {
   "cell_type": "code",
   "execution_count": 41,
   "metadata": {},
   "outputs": [
    {
     "name": "stdout",
     "output_type": "stream",
     "text": [
      "observed slit position in mm on mask: [-8.24646907 -3.11000349]\n",
      "observed slit coord in guider local frame: ['0d05m50.7814s 0d12m45.0597s']\n",
      "observed slit coord in guider pixel frame: [array([1047.55138291]), array([1380.7030872])]\n"
     ]
    }
   ],
   "source": [
    "# compute observed position on mask\n",
    "slit_coord5_obs_det = np.array([1754.3, 1574.3])\n",
    "slit_coord5_obs_wave = 0.20619\n",
    "slit_pos5_obs = mask_det_map.inv_map(slit_coord5_obs_wave, slit_coord5_obs_det[0], slit_coord5_obs_det[1])\n",
    "print(\"observed slit position in mm on mask:\", slit_pos5_obs)\n",
    "slit_coord5_obs = G2UVnew.SienceMask2guider(slit_pos5_obs, angle=True)\n",
    "print(\"observed slit coord in guider local frame:\", slit_coord5_obs.to_string(u'dms'))\n",
    "slit_coord5_obs_pix = G2UVnew.SienceMask2guider(slit_pos5_obs, angle=False)\n",
    "print(\"observed slit coord in guider pixel frame:\", slit_coord5_obs_pix)\n"
   ]
  },
  {
   "cell_type": "markdown",
   "metadata": {},
   "source": [
    "## Guide stars"
   ]
  },
  {
   "cell_type": "code",
   "execution_count": 110,
   "metadata": {},
   "outputs": [],
   "source": [
    "star_target_path = cloudpath + 'Target_selection/GuidingStars/'\n",
    "F1_stars = Table.read(star_target_path + \"F1_guidingstars.fits\", format='fits')\n",
    "F1_stars_coords = coordinates.SkyCoord(F1_stars['RA']*u.deg, F1_stars['DEC']*u.deg)\n"
   ]
  },
  {
   "cell_type": "markdown",
   "metadata": {},
   "source": [
    "### star s8"
   ]
  },
  {
   "cell_type": "code",
   "execution_count": 111,
   "metadata": {},
   "outputs": [
    {
     "name": "stdout",
     "output_type": "stream",
     "text": [
      "star position Ra/Dec:  <SkyCoord (ICRS): (ra, dec) in deg\n",
      "    [(32.1014, -5.786504)]>\n",
      "Star position in guider local frame:  <SkyCoord (SkyOffsetICRS: rotation=0.0 deg, origin=<ICRS Coordinate: (ra, dec) in deg\n",
      "    (250.39272815, 36.41856381)>): (lon, lat) in deg\n",
      "    [(0.07819606, 0.09029526)]>\n",
      "Star position in guider pixel frame:  [array([957.65583827]), array([899.37240362])]\n",
      "EL: [140.22146783] arcsec \n",
      "CE: [-157.90793032] arcsec\n"
     ]
    }
   ],
   "source": [
    "star_pos1_radec = F1_stars_coords[F1_stars['Internal count']==8]\n",
    "print(\"star position Ra/Dec: \", star_pos1_radec)\n",
    "star_coord1 = G2UVnew.SienceMask2guider(star_pos1_radec, world=True, angle=True)\n",
    "print(\"Star position in guider local frame: \", star_coord1)\n",
    "star_coord1_pix = G2UVnew.SienceMask2guider(star_pos1_radec, world=True, angle=False)\n",
    "print(\"Star position in guider pixel frame: \", star_coord1_pix)\n",
    "\n",
    "#frame move\n",
    "#theta_EL =  (star_coord1.lon.deg - slit_coord5_obs.lon.deg)/2./Elg\n",
    "#theta_CE = -(star_coord1.lat.deg - slit_coord5_obs.lat.deg)/2./CEg\n",
    "theta_EL =  (star_coord1.lon.deg)/2./Elg\n",
    "theta_CE = -(star_coord1.lat.deg)/2./CEg\n",
    "\n",
    "print(\"EL: {} arcsec \\nCE: {} arcsec\".format(theta_EL*3600, theta_CE*3600))"
   ]
  },
  {
   "cell_type": "markdown",
   "metadata": {},
   "source": [
    "observed star position: 960.2 x 892.8"
   ]
  },
  {
   "cell_type": "markdown",
   "metadata": {},
   "source": [
    "### star s31"
   ]
  },
  {
   "cell_type": "code",
   "execution_count": 113,
   "metadata": {},
   "outputs": [
    {
     "name": "stdout",
     "output_type": "stream",
     "text": [
      "star position Ra/Dec:  <SkyCoord (ICRS): (ra, dec) in deg\n",
      "    [(32.254526, -5.815258)]>\n",
      "Star position in guider local frame:  <SkyCoord (SkyOffsetICRS: rotation=0.0 deg, origin=<ICRS Coordinate: (ra, dec) in deg\n",
      "    (250.39272815, 36.41856381)>): (lon, lat) in deg\n",
      "    [(0.05294451, -0.0627076)]>\n",
      "Star position in guider pixel frame:  [array([855.1152934]), array([288.90210653])]\n",
      "EL: [-45.28117703] arcsec \n",
      "CE: [267.57068507] arcsec\n"
     ]
    }
   ],
   "source": [
    "star_pos2_radec = F1_stars_coords[F1_stars['Internal count']==31]\n",
    "print(\"star position Ra/Dec: \", star_pos2_radec)\n",
    "star_coord2 = G2UVnew.SienceMask2guider(star_pos2_radec, world=True, angle=True)\n",
    "print(\"Star position in guider local frame: \", star_coord2)\n",
    "star_coord2_pix = G2UVnew.SienceMask2guider(star_pos2_radec, world=True, angle=False)\n",
    "print(\"Star position in guider pixel frame: \", star_coord2_pix)\n",
    "\n",
    "#frame move\n",
    "#theta_EL =  star_coord2.lon.deg/2./Elg\n",
    "#theta_CE = -star_coord2.lat.deg/2./CEg\n",
    "#print(\"EL: {} arcsec \\nCE: {} arcsec\".format(theta_EL*3600, theta_CE*3600))\n",
    "\n",
    "theta_EL =  (star_coord2.lon.deg - star_coord1.lon.deg)/2./Elg\n",
    "theta_CE = -(star_coord2.lat.deg - star_coord1.lat.deg)/2./CEg\n",
    "print(\"EL: {} arcsec \\nCE: {} arcsec\".format(theta_EL*3600, theta_CE*3600))"
   ]
  },
  {
   "cell_type": "markdown",
   "metadata": {},
   "source": [
    "observed star position: 860.2 x 287"
   ]
  },
  {
   "cell_type": "markdown",
   "metadata": {},
   "source": [
    "### Frame Hysteresis Compensation in guider"
   ]
  },
  {
   "cell_type": "code",
   "execution_count": 55,
   "metadata": {},
   "outputs": [
    {
     "name": "stdout",
     "output_type": "stream",
     "text": [
      "EL: [ 16.84069783 -16.84069783] arcsec \n",
      "CE: [ 15.10963107 -15.10963107] arcsec\n"
     ]
    }
   ],
   "source": [
    "# 1st try: go away and back to star 31\n",
    "star_pos = np.array([846,318])\n",
    "end_pos = np.array([850, 322]) # to be read on guider\n",
    "# effective frame_move\n",
    "theta_EL = 10. # in arcsec\n",
    "theta_CE = -10. # in arcsec\n",
    "scale = (end_pos - star_pos)/np.array([theta_EL, theta_CE]) \n",
    "\n",
    "# compute final frame move\n",
    "theta = (np.array([star_coord2_pix[0] - end_pos[0], star_coord2_pix[1] - end_pos[1]]))/scale \n",
    "print(\"EL: {} arcsec \\nCE: {} arcsec\".format(theta[0], theta[1]))"
   ]
  },
  {
   "cell_type": "markdown",
   "metadata": {},
   "source": [
    "### star s25"
   ]
  },
  {
   "cell_type": "code",
   "execution_count": 115,
   "metadata": {},
   "outputs": [
    {
     "name": "stdout",
     "output_type": "stream",
     "text": [
      "star position Ra/Dec:  <SkyCoord (ICRS): (ra, dec) in deg\n",
      "    [(32.221491, -5.776507)]>\n",
      "Star position in guider local frame:  <SkyCoord (SkyOffsetICRS: rotation=0.0 deg, origin=<ICRS Coordinate: (ra, dec) in deg\n",
      "    (250.39272815, 36.41856381)>): (lon, lat) in deg\n",
      "    [(0.09094346, -0.0289546)]>\n",
      "Star position in guider pixel frame:  [array([1005.14521052]), array([425.27848748])]\n",
      "EL: [68.13986147] arcsec \n",
      "CE: [-59.02708816] arcsec\n"
     ]
    }
   ],
   "source": [
    "star_pos3_radec = F1_stars_coords[F1_stars['Internal count']==25]\n",
    "print(\"star position Ra/Dec: \", star_pos3_radec)\n",
    "star_coord3 = G2UVnew.SienceMask2guider(star_pos3_radec, world=True, angle=True)\n",
    "print(\"Star position in guider local frame: \", star_coord3)\n",
    "star_coord3_pix = G2UVnew.SienceMask2guider(star_pos3_radec, world=True, angle=False)\n",
    "print(\"Star position in guider pixel frame: \", star_coord3_pix)\n",
    "\n",
    "#frame move\n",
    "#theta_EL =  star_coord2.lon.deg/2./Elg\n",
    "#theta_CE = -star_coord2.lat.deg/2./CEg\n",
    "#print(\"EL: {} arcsec \\nCE: {} arcsec\".format(theta_EL*3600, theta_CE*3600))\n",
    "\n",
    "theta_EL =  (star_coord3.lon.deg - star_coord2.lon.deg)/2./Elg\n",
    "theta_CE = -(star_coord3.lat.deg - star_coord2.lat.deg)/2./CEg\n",
    "print(\"EL: {} arcsec \\nCE: {} arcsec\".format(theta_EL*3600, theta_CE*3600))"
   ]
  },
  {
   "cell_type": "markdown",
   "metadata": {},
   "source": [
    "observed star position 1007.6 x  417"
   ]
  },
  {
   "cell_type": "markdown",
   "metadata": {},
   "source": [
    "### back to guider center"
   ]
  },
  {
   "cell_type": "code",
   "execution_count": 48,
   "metadata": {},
   "outputs": [
    {
     "name": "stdout",
     "output_type": "stream",
     "text": [
      "EL: [-156.72496623] arcsec \n",
      "CE: [-25.33406908] arcsec\n"
     ]
    }
   ],
   "source": [
    "#frame move\n",
    "theta_EL =  (0. - star_coord3.lon.deg)/2./Elg\n",
    "theta_CE = -(0. - star_coord3.lat.deg)/2./CEg\n",
    "print(\"EL: {} arcsec \\nCE: {} arcsec\".format(theta_EL*3600, theta_CE*3600))"
   ]
  }
 ],
 "metadata": {
  "kernelspec": {
   "display_name": "Python 2",
   "language": "python",
   "name": "python2"
  },
  "language_info": {
   "codemirror_mode": {
    "name": "ipython",
    "version": 2
   },
   "file_extension": ".py",
   "mimetype": "text/x-python",
   "name": "python",
   "nbconvert_exporter": "python",
   "pygments_lexer": "ipython2",
   "version": "2.7.14"
  }
 },
 "nbformat": 4,
 "nbformat_minor": 2
}
