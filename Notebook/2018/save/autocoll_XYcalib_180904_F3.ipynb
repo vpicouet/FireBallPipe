{
 "cells": [
  {
   "cell_type": "markdown",
   "metadata": {},
   "source": [
    "# UV-Guider alignement with source in autocoll\n",
    "##  Field 3"
   ]
  },
  {
   "cell_type": "code",
   "execution_count": 44,
   "metadata": {},
   "outputs": [
    {
     "name": "stdout",
     "output_type": "stream",
     "text": [
      "The autoreload extension is already loaded. To reload it, use:\n",
      "  %reload_ext autoreload\n"
     ]
    }
   ],
   "source": [
    "%matplotlib inline\n",
    "%load_ext autoreload\n",
    "%autoreload 2\n",
    "\n",
    "from __future__ import division, print_function\n",
    "\n",
    "import sys\n",
    "sys.path.insert(1, './Calibration')\n",
    "\n",
    "import numpy as np\n",
    "from astropy.io import fits\n",
    "from astropy import wcs, coordinates\n",
    "from astropy import units as u\n",
    "from astropy.wcs.utils import proj_plane_pixel_scales\n",
    "from matplotlib import pyplot as plt\n",
    "from astropy.table import Table\n",
    "import matplotlib.patches as patches\n",
    "\n",
    "from guider2UV.guider2UV import Guider2UV, diff_skycoord, fit_model, plot_fit\n",
    "\n",
    "from Calibration.mapping import Mapping"
   ]
  },
  {
   "cell_type": "code",
   "execution_count": 45,
   "metadata": {},
   "outputs": [],
   "source": [
    "cloudpath = '/home/dvibert/ownCloud/FIREBALL/'\n"
   ]
  },
  {
   "cell_type": "markdown",
   "metadata": {},
   "source": [
    "## initialization from last xy calib"
   ]
  },
  {
   "cell_type": "code",
   "execution_count": 46,
   "metadata": {
    "scrolled": true
   },
   "outputs": [
    {
     "name": "stdout",
     "output_type": "stream",
     "text": [
      "FOV center angular position in guider <SkyCoord (SkyOffsetICRS: rotation=0.0 deg, origin=<ICRS Coordinate: (ra, dec) in deg\n",
      "    (250.42402654, 36.43499699)>): (lon, lat) in deg\n",
      "    [(0.17979887, -0.02325374)]>\n",
      "FOV center pixel position in guider [array([1347.26210746]), array([450.73438835])]\n",
      "\n",
      "Guider2UV object:\n",
      "    Local Field Projector: \n",
      "ScienceMaskProjector object:\n",
      "    LocalFrame: <SkyOffsetICRS Frame (rotation=-90.0 deg, origin=<ICRS Coordinate: (ra, dec) in deg\n",
      "    (352.3424, 0.21245)>)>\n",
      "    gamma: 1.0\n",
      "\n",
      "    Guider Field Projector: \n",
      "GuiderMaskProjector object:\n",
      "    LocalFrame: <SkyOffsetICRS Frame (rotation=0.0 deg, origin=<ICRS Coordinate: (ra, dec) in deg\n",
      "    (250.42402654, 36.43499699)>)>\n",
      "    wcs: WCS Keywords\n",
      "\n",
      "Number of WCS axes: 2\n",
      "CTYPE : 'RA---TAN-SIP'  'DEC--TAN-SIP'  \n",
      "CRVAL : 250.424026537  36.4349969891  \n",
      "CRPIX : 640.0  540.0  \n",
      "PC1_1 PC1_2  : 1.0  0.0  \n",
      "PC2_1 PC2_2  : 0.0  1.0  \n",
      "CDELT : 0.00024648264068189  0.00024664057706659  \n",
      "NAXIS : 0  0\n",
      "\n",
      "    mask_rotation: 44.267791405419715 arcmin\n",
      "    FOV center in guider: [1347.26210746]x[450.73438835] pix\n",
      "\n"
     ]
    },
    {
     "name": "stderr",
     "output_type": "stream",
     "text": [
      "WARNING: FITSFixedWarning: The WCS transformation has more axes (2) than the image it is associated with (0) [astropy.wcs.wcs]\n"
     ]
    }
   ],
   "source": [
    "G2UV = Guider2UV(filename=cloudpath + 'TestsFTS2018-Flight/E2E-AIT-Flight/XYCalibration/F3_180826_2.pkl')\n",
    "print(G2UV)"
   ]
  },
  {
   "cell_type": "code",
   "execution_count": 47,
   "metadata": {
    "scrolled": true
   },
   "outputs": [],
   "source": [
    "target_filename = '/home/dvibert/ownCloud/FIREBALL/Target_selection/targets_F3.txt'\n",
    "F3 = Table.read(target_filename, format='ascii')"
   ]
  },
  {
   "cell_type": "markdown",
   "metadata": {},
   "source": [
    "## Diffuse UV image\n",
    "\n",
    "load new mapping"
   ]
  },
  {
   "cell_type": "code",
   "execution_count": 48,
   "metadata": {},
   "outputs": [],
   "source": [
    "mask_det_map_file = cloudpath + 'TestsFTS2018-Flight/E2E-AIT-Flight/XYCalibration/Detector_Mask_mappings/mapping-mask-det-180612-F3.pkl'\n",
    "mask_det_map = Mapping(mask_det_map_file)\n",
    "G2UV.set_detector_mapping(mask_det_map, offsets = [1., 1.])\n"
   ]
  },
  {
   "cell_type": "markdown",
   "metadata": {},
   "source": [
    "## Scan sequence\n",
    "\n",
    "gc - 41 - 42 - 32 - 30 - 9 - 4 - 10 - 13"
   ]
  },
  {
   "cell_type": "code",
   "execution_count": 49,
   "metadata": {},
   "outputs": [
    {
     "name": "stdout",
     "output_type": "stream",
     "text": [
      "slit position in mm on mask: [ 9.692238 -4.486605]\n",
      "slit position in mm on mask: [9.994533 2.641369]\n",
      "slit position in mm on mask: [ 4.391899 -1.817091]\n",
      "slit position in mm on mask: [3.484085 3.340942]\n",
      "slit position in mm on mask: [-7.189261  3.964764]\n",
      "slit position in mm on mask: [-9.632198 -3.583395]\n",
      "slit position in mm on mask: [-6.784192 -4.273481]\n",
      "slit position in mm on mask: [-5.32832  -2.571499]\n",
      "\n",
      "targets local coords in siderostat local frame:\n",
      "EL: 137.0 arcsec ; CE: 444.8 arcsec\n",
      "EL: 440.1 arcsec ; CE: 453.5 arcsec\n",
      "EL: 247.7 arcsec ; CE: 223.4 arcsec\n",
      "EL: 466.1 arcsec ; CE: 183.1 arcsec\n",
      "EL: 486.9 arcsec ; CE: -259.2 arcsec\n",
      "EL: 164.9 arcsec ; CE: -356.6 arcsec\n",
      "EL: 137.2 arcsec ; CE: -238.1 arcsec\n",
      "EL: 210.3 arcsec ; CE: -178.6 arcsec\n",
      "\n",
      "siderostat moves sequence: \n",
      "EL: 0.0 arcsec ; CE -30.0 arcsec ; image: False\n",
      "EL: -0.0 arcsec ; CE 30.0 arcsec ; image: True\n",
      "EL: 137.0 arcsec ; CE 444.8 arcsec ; image: True\n",
      "EL: 303.1 arcsec ; CE 8.7 arcsec ; image: True\n",
      "EL: -192.5 arcsec ; CE -230.1 arcsec ; image: True\n",
      "EL: 218.4 arcsec ; CE -40.3 arcsec ; image: True\n",
      "EL: 20.8 arcsec ; CE -442.4 arcsec ; image: True\n",
      "EL: -322.0 arcsec ; CE -97.4 arcsec ; image: True\n",
      "EL: -27.7 arcsec ; CE 118.6 arcsec ; image: True\n",
      "EL: 73.1 arcsec ; CE 59.5 arcsec ; image: True\n",
      "EL: -0.0 arcsec ; CE 30.0 arcsec ; image: False\n",
      "EL: 0.0 arcsec ; CE -30.0 arcsec ; image: True\n",
      "EL: -73.1 arcsec ; CE -59.5 arcsec ; image: True\n",
      "EL: 27.7 arcsec ; CE -148.6 arcsec ; image: False\n",
      "EL: 0.0 arcsec ; CE 30.0 arcsec ; image: True\n",
      "EL: 322.0 arcsec ; CE 97.4 arcsec ; image: True\n",
      "EL: -20.8 arcsec ; CE 442.4 arcsec ; image: True\n",
      "EL: -218.4 arcsec ; CE 40.3 arcsec ; image: True\n",
      "EL: 192.5 arcsec ; CE 260.1 arcsec ; image: False\n",
      "EL: -0.0 arcsec ; CE -30.0 arcsec ; image: True\n",
      "EL: -303.1 arcsec ; CE -8.7 arcsec ; image: True\n",
      "EL: -137.0 arcsec ; CE -444.8 arcsec ; image: True\n"
     ]
    }
   ],
   "source": [
    "#from guider2UV.guider2UV import Guider2UV\n",
    "slits = ['41', '42', '32', '30', '9', '4', '10', '13'] \n",
    "\n",
    "movs, slits_coord = G2UV.compute_autocoll_moves_slits(slits, F3, hystcomp = True)"
   ]
  },
  {
   "cell_type": "markdown",
   "metadata": {},
   "source": [
    "observed slits position :"
   ]
  },
  {
   "cell_type": "code",
   "execution_count": 50,
   "metadata": {},
   "outputs": [
    {
     "data": {
      "text/plain": [
       "array([[1988.41878403,  106.44539382],\n",
       "       [1508.6230669 ,   94.16400114],\n",
       "       [1822.7014584 ,  516.16028525],\n",
       "       [1477.52007584,  593.68117987],\n",
       "       [1447.92426796, 1411.47702315],\n",
       "       [1956.33276732, 1590.47665766],\n",
       "       [2001.79997879, 1373.67216511],\n",
       "       [1887.22774603, 1265.54090648],\n",
       "       [1887.38268588, 1260.91895482],\n",
       "       [2001.62796297, 1368.91605632],\n",
       "       [1956.14587627, 1594.1909615 ],\n",
       "       [1448.1237799 , 1417.47802767],\n",
       "       [1477.68955404,  598.70432329],\n",
       "       [1822.91909465,  521.68723695],\n",
       "       [1508.25355969,   90.13554281],\n",
       "       [1987.94755047,  102.14549882]])"
      ]
     },
     "execution_count": 50,
     "metadata": {},
     "output_type": "execute_result"
    }
   ],
   "source": [
    "slits_coord_obs_det = np.array([\n",
    "       [1988.41878403,  106.44539382],\n",
    "       [1508.6230669 ,   94.16400114],\n",
    "       [1822.7014584 ,  516.16028525],\n",
    "       [1477.52007584,  593.68117987],\n",
    "       [1447.92426796, 1411.47702315],\n",
    "       [1956.33276732, 1590.47665766],\n",
    "       [2001.79997879, 1373.67216511],\n",
    "       [1887.22774603, 1265.54090648],\n",
    "# retour\n",
    "       [1887.38268588, 1260.91895482],\n",
    "       [2001.62796297, 1368.91605632],\n",
    "       [1956.14587627, 1594.1909615 ],\n",
    "       [1448.1237799 , 1417.47802767],\n",
    "       [1477.68955404,  598.70432329],\n",
    "       [1822.91909465,  521.68723695],\n",
    "       [1508.25355969,   90.13554281],\n",
    "       [1987.94755047,  102.14549882]])\n",
    "\n",
    "slits_coord_obs_det"
   ]
  },
  {
   "cell_type": "code",
   "execution_count": 51,
   "metadata": {},
   "outputs": [
    {
     "name": "stdout",
     "output_type": "stream",
     "text": [
      "wave:  0.20255\n"
     ]
    }
   ],
   "source": [
    "valid = np.isfinite(slits_coord_obs_det[:,0])\n",
    "obs_wave = G2UV.mask_det_map.w[0]\n",
    "print(\"wave: \", obs_wave)\n",
    "\n",
    "slits_coord_valid = [slits_coord[i] for i in np.nonzero(valid)[0]]\n",
    "slits_valid = np.array(slits + slits[::-1])[valid]"
   ]
  },
  {
   "cell_type": "code",
   "execution_count": 52,
   "metadata": {},
   "outputs": [
    {
     "data": {
      "text/plain": [
       "Text(0,0.5,'Ce arcsec')"
      ]
     },
     "execution_count": 52,
     "metadata": {},
     "output_type": "execute_result"
    },
    {
     "data": {
      "image/png": "[encoded data removed]",
      "text/plain": [
       "<Figure size 432x288 with 2 Axes>"
      ]
     },
     "metadata": {},
     "output_type": "display_data"
    }
   ],
   "source": [
    "mid  = len(slits_coord_obs_det)//2\n",
    "pair_diff = slits_coord_obs_det[:mid] - slits_coord_obs_det[::-1][:mid]\n",
    "pair_diff\n",
    "plt.figure()\n",
    "plt.subplot('120')\n",
    "plt.plot(pair_diff[:,0],'*')\n",
    "plt.plot(np.abs(pair_diff[:,0]),'-')\n",
    "plt.title(\"El pair diff\")\n",
    "plt.ylabel(\"El arcsec\")\n",
    "plt.subplot('121')\n",
    "plt.plot(pair_diff[:,1],'*')\n",
    "plt.plot(np.abs(pair_diff[:,1]),'-')\n",
    "plt.title(\"Ce pair diff\")\n",
    "plt.ylabel(\"Ce arcsec\")\n"
   ]
  },
  {
   "cell_type": "code",
   "execution_count": 53,
   "metadata": {},
   "outputs": [],
   "source": [
    "slits_coord_obs = G2UV.detector2guider(slits_coord_obs_det, wave=obs_wave, angle=True  )\n"
   ]
  },
  {
   "cell_type": "code",
   "execution_count": 54,
   "metadata": {},
   "outputs": [
    {
     "name": "stdout",
     "output_type": "stream",
     "text": [
      "Fitting rotation, translation and magnification\n",
      "gamma: 0.9989454166629014\n",
      "theta: -40.67468466107567 arcmin\n",
      "dx: 14.671103346670062 arcsec\n",
      "dy: 1.3620474764048753 arcsec\n",
      "variances: [3.73391028e-04 1.24378885e+00 3.30334925e-01 3.35781647e-01]\n",
      "\n",
      "residuals in arcsec: [[ 0.33867091  0.63039789]\n",
      " [ 0.47797165  0.93185503]\n",
      " [-0.45555051 -0.87219076]\n",
      " [-1.46529235 -1.03970432]\n",
      " [ 0.35919206 -3.93731662]\n",
      " [ 1.31949616 -2.01008753]\n",
      " [-0.35022796  1.65963514]\n",
      " [-0.47285333  3.18485562]\n",
      " [-0.61137007 -1.95202791]\n",
      " [-0.0567475  -3.59530069]\n",
      " [ 1.48012079  2.12832775]\n",
      " [ 0.03841903  2.75226543]\n",
      " [-1.65891016  4.53827491]\n",
      " [-0.70185714  5.2720234 ]\n",
      " [ 0.88473358 -3.55884668]\n",
      " [ 0.87420483 -4.13216066]]\n",
      "max residual in EL,CE 1.7, 5.3 arcsec\n",
      "mean residual in EL,CE 0.9, 3.0 arcsec\n"
     ]
    },
    {
     "data": {
      "image/png": "[encoded data removed]",
      "text/plain": [
       "<Figure size 1152x576 with 2 Axes>"
      ]
     },
     "metadata": {},
     "output_type": "display_data"
    }
   ],
   "source": [
    "weight = np.array( [1.]*16  + [1./(1. + 1e-1)]*16)\n",
    "\n",
    "G2UVcor = G2UV.update_model(slits_coord_valid, slits_coord_obs, labels=slits_valid, plot=True, weight=weight)"
   ]
  },
  {
   "cell_type": "code",
   "execution_count": 55,
   "metadata": {},
   "outputs": [
    {
     "name": "stdout",
     "output_type": "stream",
     "text": [
      "Dumping to /home/dvibert/ownCloud/FIREBALL/TestsFTS2018-Flight/E2E-AIT-Flight/XYCalibration/F3_180904.pkl\n"
     ]
    }
   ],
   "source": [
    "#G2UVcor.save(filename=cloudpath + 'TestsFTS2018-Flight/E2E-AIT-Flight/XYCalibration/F3_180904.pkl')"
   ]
  },
  {
   "cell_type": "code",
   "execution_count": 16,
   "metadata": {},
   "outputs": [
    {
     "name": "stdout",
     "output_type": "stream",
     "text": [
      "slit position in mm on mask: [ 9.692238 -4.486605]\n",
      "slit position in mm on mask: [9.994533 2.641369]\n",
      "slit position in mm on mask: [ 4.391899 -1.817091]\n",
      "slit position in mm on mask: [3.484085 3.340942]\n",
      "slit position in mm on mask: [-7.189261  3.964764]\n",
      "slit position in mm on mask: [-9.632198 -3.583395]\n",
      "slit position in mm on mask: [-6.784192 -4.273481]\n",
      "slit position in mm on mask: [-5.32832  -2.571499]\n",
      "\n",
      "targets local coords in siderostat local frame:\n",
      "EL: 138.8 arcsec ; CE: 445.2 arcsec\n",
      "EL: 441.5 arcsec ; CE: 457.4 arcsec\n",
      "EL: 252.0 arcsec ; CE: 225.4 arcsec\n",
      "EL: 470.7 arcsec ; CE: 187.6 arcsec\n",
      "EL: 496.8 arcsec ; CE: -254.0 arcsec\n",
      "EL: 176.3 arcsec ; CE: -355.0 arcsec\n",
      "EL: 147.3 arcsec ; CE: -236.8 arcsec\n",
      "EL: 219.6 arcsec ; CE: -176.6 arcsec\n",
      "\n",
      "siderostat moves sequence: \n",
      "EL: 0.0 arcsec ; CE -30.0 arcsec ; image: False\n",
      "EL: -0.0 arcsec ; CE 30.0 arcsec ; image: True\n",
      "EL: 138.8 arcsec ; CE 445.2 arcsec ; image: True\n",
      "EL: 302.7 arcsec ; CE 12.2 arcsec ; image: True\n",
      "EL: -189.4 arcsec ; CE -232.0 arcsec ; image: True\n",
      "EL: 218.7 arcsec ; CE -37.8 arcsec ; image: True\n",
      "EL: 26.1 arcsec ; CE -441.6 arcsec ; image: True\n",
      "EL: -320.5 arcsec ; CE -101.0 arcsec ; image: True\n",
      "EL: -29.1 arcsec ; CE 118.1 arcsec ; image: True\n",
      "EL: 72.3 arcsec ; CE 60.3 arcsec ; image: True\n",
      "EL: -0.0 arcsec ; CE 30.0 arcsec ; image: False\n",
      "EL: 0.0 arcsec ; CE -30.0 arcsec ; image: True\n",
      "EL: -72.3 arcsec ; CE -60.3 arcsec ; image: True\n",
      "EL: 29.1 arcsec ; CE -148.1 arcsec ; image: False\n",
      "EL: 0.0 arcsec ; CE 30.0 arcsec ; image: True\n",
      "EL: 320.5 arcsec ; CE 101.0 arcsec ; image: True\n",
      "EL: -26.1 arcsec ; CE 441.6 arcsec ; image: True\n",
      "EL: -218.7 arcsec ; CE 37.8 arcsec ; image: True\n",
      "EL: 189.4 arcsec ; CE 262.0 arcsec ; image: False\n",
      "EL: -0.0 arcsec ; CE -30.0 arcsec ; image: True\n",
      "EL: -302.7 arcsec ; CE -12.2 arcsec ; image: True\n",
      "EL: -138.8 arcsec ; CE -445.2 arcsec ; image: True\n"
     ]
    }
   ],
   "source": [
    "movs_new, slits_coord_new = G2UVcor.compute_autocoll_moves_slits(slits, F3, hystcomp = True)"
   ]
  },
  {
   "cell_type": "markdown",
   "metadata": {},
   "source": [
    "## Star sequence\n",
    "\n",
    "gc - s20 - s5 - s9 "
   ]
  },
  {
   "cell_type": "code",
   "execution_count": 17,
   "metadata": {},
   "outputs": [
    {
     "name": "stdout",
     "output_type": "stream",
     "text": [
      "star position Ra/Dec:  <SkyCoord (ICRS): (ra, dec) in deg\n",
      "    [(352.387774, -0.111235)]>\n",
      "star position Ra/Dec:  <SkyCoord (ICRS): (ra, dec) in deg\n",
      "    [(352.228576, -0.041124)]>\n",
      "star position Ra/Dec:  <SkyCoord (ICRS): (ra, dec) in deg\n",
      "    [(352.267202, 0.107397)]>\n",
      "\n",
      "targets local coords in siderostat local frame:\n",
      "EL: -251.5 arcsec ; CE: 123.6 arcsec\n",
      "EL: -126.0 arcsec ; CE: -154.9 arcsec\n",
      "EL: 140.4 arcsec ; CE: -87.6 arcsec\n",
      "\n",
      "siderostat moves sequence: \n",
      "EL: 0.0 arcsec ; CE -30.0 arcsec ; image: False\n",
      "EL: -0.0 arcsec ; CE 30.0 arcsec ; image: True\n",
      "EL: -251.5 arcsec ; CE 123.6 arcsec ; image: True\n",
      "EL: 125.4 arcsec ; CE -278.5 arcsec ; image: True\n",
      "EL: 266.4 arcsec ; CE 67.3 arcsec ; image: True\n",
      "EL: -0.0 arcsec ; CE 30.0 arcsec ; image: False\n",
      "EL: 0.0 arcsec ; CE -30.0 arcsec ; image: True\n",
      "EL: -266.4 arcsec ; CE -97.3 arcsec ; image: False\n",
      "EL: 0.0 arcsec ; CE 30.0 arcsec ; image: True\n",
      "EL: -125.4 arcsec ; CE 308.5 arcsec ; image: False\n",
      "EL: -0.0 arcsec ; CE -30.0 arcsec ; image: True\n",
      "EL: 251.5 arcsec ; CE -123.6 arcsec ; image: True\n"
     ]
    }
   ],
   "source": [
    "star_target_path = cloudpath + 'Target_selection/GuidingStars/'\n",
    "F3_stars = Table.read(star_target_path + \"F3_guidingstars.fits\", format='fits')\n",
    "\n",
    "stars = [20, 5, 9]\n",
    "\n",
    "\n",
    "star_movs, stars_coord = G2UVcor.compute_autocoll_move_stars(stars, F3_stars, hystcomp = True)\n"
   ]
  },
  {
   "cell_type": "code",
   "execution_count": 18,
   "metadata": {},
   "outputs": [
    {
     "data": {
      "text/plain": [
       "[<SkyCoord (SkyOffsetICRS: rotation=0.0 deg, origin=<ICRS Coordinate: (ra, dec) in deg\n",
       "     (250.42402654, 36.43499699)>): (lon, lat) in deg\n",
       "     [(-0.14022818, -0.07069044)]>,\n",
       " <SkyCoord (SkyOffsetICRS: rotation=0.0 deg, origin=<ICRS Coordinate: (ra, dec) in deg\n",
       "     (250.42402654, 36.43499699)>): (lon, lat) in deg\n",
       "     [(-0.07028362, 0.08858072)]>,\n",
       " <SkyCoord (SkyOffsetICRS: rotation=0.0 deg, origin=<ICRS Coordinate: (ra, dec) in deg\n",
       "     (250.42402654, 36.43499699)>): (lon, lat) in deg\n",
       "     [(0.07827793, 0.05010985)]>]"
      ]
     },
     "execution_count": 18,
     "metadata": {},
     "output_type": "execute_result"
    }
   ],
   "source": [
    "stars_coord"
   ]
  },
  {
   "cell_type": "markdown",
   "metadata": {},
   "source": [
    "------------------------------------------------------"
   ]
  },
  {
   "cell_type": "markdown",
   "metadata": {},
   "source": [
    "# Quasar stars"
   ]
  },
  {
   "cell_type": "code",
   "execution_count": 23,
   "metadata": {},
   "outputs": [],
   "source": [
    "from guider2UV.MaskAstrometry import LocalScienceMaskProjector\n",
    "\n",
    "G2UV_QSO = G2UVcor.copy()\n",
    "\n",
    "Field_center = coordinates.SkyCoord(270.52256162*u.deg, 44.0392496*u.deg)\n",
    "Field_rotation = 110.09593332038546*u.deg\n",
    "Field_gamma = G2UVcor.FieldP.gamma\n",
    "\n",
    "FieldP_QSO = LocalScienceMaskProjector(Field_center, Field_rotation, Field_gamma)\n",
    "\n",
    "G2UV_QSO.FieldP = FieldP_QSO"
   ]
  },
  {
   "cell_type": "code",
   "execution_count": 24,
   "metadata": {},
   "outputs": [
    {
     "name": "stdout",
     "output_type": "stream",
     "text": [
      "\n",
      "Guider2UV object:\n",
      "    Local Field Projector: \n",
      "ScienceMaskProjector object:\n",
      "    LocalFrame: <SkyOffsetICRS Frame (rotation=20.095933320385456 deg, origin=<ICRS Coordinate: (ra, dec) in deg\n",
      "    (270.52256162, 44.0392496)>)>\n",
      "    gamma: 0.9989454166629014\n",
      "\n",
      "    Guider Field Projector: \n",
      "GuiderMaskProjector object:\n",
      "    LocalFrame: <SkyOffsetICRS Frame (rotation=0.0 deg, origin=<ICRS Coordinate: (ra, dec) in deg\n",
      "    (250.42402654, 36.43499699)>)>\n",
      "    wcs: WCS Keywords\n",
      "\n",
      "Number of WCS axes: 2\n",
      "CTYPE : 'RA---TAN-SIP'  'DEC--TAN-SIP'  \n",
      "CRVAL : 250.424026537  36.4349969891  \n",
      "CRPIX : 640.0  540.0  \n",
      "PC1_1 PC1_2  : 1.0  0.0  \n",
      "PC2_1 PC2_2  : 0.0  1.0  \n",
      "CDELT : 0.00024648264068189  0.00024664057706659  \n",
      "NAXIS : 0  0\n",
      "\n",
      "    mask_rotation: 3.593106744344041 arcmin\n",
      "    FOV center in guider: [1361.01487994]x[444.15399857] pix\n",
      "\n"
     ]
    }
   ],
   "source": [
    "print(G2UV_QSO)"
   ]
  },
  {
   "cell_type": "code",
   "execution_count": 41,
   "metadata": {},
   "outputs": [
    {
     "name": "stdout",
     "output_type": "stream",
     "text": [
      "star position Ra/Dec:  <SkyCoord (ICRS): (ra, dec) in deg\n",
      "    [(270.238893, 44.214653)]>\n",
      "star position Ra/Dec:  <SkyCoord (ICRS): (ra, dec) in deg\n",
      "    [(270.215559, 44.119755)]>\n",
      "\n",
      "targets local coords in siderostat local frame:\n",
      "EL: -122.0 arcsec ; CE: -122.3 arcsec\n",
      "EL: -92.1 arcsec ; CE: 43.6 arcsec\n",
      "\n",
      "siderostat moves sequence: \n",
      "EL: -0.0 arcsec ; CE 30.0 arcsec ; image: False\n",
      "EL: 0.0 arcsec ; CE -30.0 arcsec ; image: True\n",
      "EL: -122.0 arcsec ; CE -122.3 arcsec ; image: True\n",
      "EL: 29.9 arcsec ; CE 166.0 arcsec ; image: True\n",
      "EL: -0.0 arcsec ; CE 30.0 arcsec ; image: False\n",
      "EL: 0.0 arcsec ; CE -30.0 arcsec ; image: True\n",
      "EL: -29.9 arcsec ; CE -196.0 arcsec ; image: False\n",
      "EL: 0.0 arcsec ; CE 30.0 arcsec ; image: True\n",
      "EL: 122.0 arcsec ; CE 122.3 arcsec ; image: True\n"
     ]
    }
   ],
   "source": [
    "star_target_path = cloudpath + 'Target_selection/GuidingStars/'\n",
    "\n",
    "#Table.read(star_target_path + \"F3_guidingstars.fits\", format='fits')\n",
    "\n",
    "QSO_stars_radec = np.array([[270.238893, 44.214653], # Mag 8.5\n",
    "                        [270.215559,44.119755]]) # Mag 8.7\n",
    "\n",
    "QSO_stars_table = Table(QSO_stars_radec, names=[ 'RA', 'DEC'])\n",
    "QSO_stars_table['Internal count'] = [1,2]\n",
    "\n",
    "stars = [1,2]\n",
    "star_movs, stars_coord = G2UV_QSO.compute_autocoll_move_stars(stars, QSO_stars_table, hystcomp = True)\n"
   ]
  },
  {
   "cell_type": "code",
   "execution_count": 43,
   "metadata": {},
   "outputs": [
    {
     "name": "stdout",
     "output_type": "stream",
     "text": [
      "[array([360.97637173, 430.05207998]), array([828.83300343, 437.60340627])]\n"
     ]
    }
   ],
   "source": [
    "stars_radec_coord = coordinates.SkyCoord(QSO_stars_radec[:,0]*u.deg, QSO_stars_radec[:,1]*u.deg)\n",
    "\n",
    "QSO_stars_pos_guider_pix = G2UV_QSO.SienceMask2guider(stars_radec_coord, world=True, angle=False)\n",
    "print(QSO_stars_pos_guider_pix)"
   ]
  },
  {
   "cell_type": "code",
   "execution_count": 37,
   "metadata": {},
   "outputs": [],
   "source": [
    "#star_target_path = cloudpath + 'Target_selection/GuidingStars/'\n",
    "\n",
    "#Table.read(star_target_path + \"F3_guidingstars.fits\", format='fits')\n",
    "\n",
    "from astropy.table import Column\n",
    "QSO_stars_radec = np.array([[270.238893, 44.214653], # Mag 8.5\n",
    "                        [270.215559,44.119755]]) # Mag 8.7\n",
    "\n",
    "QSO_stars_table = Table(QSO_stars_radec, names=[ 'RA', 'DEC'])\n",
    "QSO_stars_table['Internal count'] = [1,2]"
   ]
  },
  {
   "cell_type": "code",
   "execution_count": 38,
   "metadata": {},
   "outputs": [
    {
     "data": {
      "text/html": [
       "&lt;Table length=2&gt;\n",
       "<table id=\"table139962834010576\" class=\"table-striped table-bordered table-condensed\">\n",
       "<thead><tr><th>RA</th><th>DEC</th><th>Internal count</th></tr></thead>\n",
       "<thead><tr><th>float64</th><th>float64</th><th>int64</th></tr></thead>\n",
       "<tr><td>270.238893</td><td>44.214653</td><td>1</td></tr>\n",
       "<tr><td>270.215559</td><td>44.119755</td><td>2</td></tr>\n",
       "</table>"
      ],
      "text/plain": [
       "<Table length=2>\n",
       "    RA        DEC    Internal count\n",
       " float64    float64      int64     \n",
       "---------- --------- --------------\n",
       "270.238893 44.214653              1\n",
       "270.215559 44.119755              2"
      ]
     },
     "execution_count": 38,
     "metadata": {},
     "output_type": "execute_result"
    }
   ],
   "source": [
    "QSO_stars_table"
   ]
  },
  {
   "cell_type": "code",
   "execution_count": null,
   "metadata": {},
   "outputs": [],
   "source": []
  }
 ],
 "metadata": {
  "kernelspec": {
   "display_name": "Python 3",
   "language": "python",
   "name": "python3"
  },
  "language_info": {
   "codemirror_mode": {
    "name": "ipython",
    "version": 3
   },
   "file_extension": ".py",
   "mimetype": "text/x-python",
   "name": "python",
   "nbconvert_exporter": "python",
   "pygments_lexer": "ipython3",
   "version": "3.6.4"
  }
 },
 "nbformat": 4,
 "nbformat_minor": 2
}
