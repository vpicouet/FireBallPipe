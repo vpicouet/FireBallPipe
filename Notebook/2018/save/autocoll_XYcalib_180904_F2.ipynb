{
 "cells": [
  {
   "cell_type": "markdown",
   "metadata": {},
   "source": [
    "# UV-Guider alignement with source in autocoll\n",
    "##  Field 2"
   ]
  },
  {
   "cell_type": "code",
   "execution_count": 1,
   "metadata": {},
   "outputs": [],
   "source": [
    "%matplotlib inline\n",
    "%load_ext autoreload\n",
    "%autoreload 2\n",
    "\n",
    "from __future__ import division, print_function\n",
    "\n",
    "import sys\n",
    "sys.path.insert(1, './Calibration')\n",
    "\n",
    "import numpy as np\n",
    "from astropy.io import fits\n",
    "from astropy import wcs, coordinates\n",
    "from astropy import units as u\n",
    "from astropy.wcs.utils import proj_plane_pixel_scales\n",
    "from matplotlib import pyplot as plt\n",
    "from astropy.table import Table\n",
    "import matplotlib.patches as patches\n",
    "\n",
    "from guider2UV.guider2UV import Guider2UV, diff_skycoord, fit_model, plot_fit\n",
    "\n",
    "from Calibration.mapping import Mapping"
   ]
  },
  {
   "cell_type": "code",
   "execution_count": 2,
   "metadata": {},
   "outputs": [],
   "source": [
    "cloudpath = '/home/dvibert/ownCloud/FIREBALL/'\n"
   ]
  },
  {
   "cell_type": "markdown",
   "metadata": {},
   "source": [
    "## initialization from last xy calib"
   ]
  },
  {
   "cell_type": "code",
   "execution_count": 3,
   "metadata": {
    "scrolled": true
   },
   "outputs": [
    {
     "name": "stdout",
     "output_type": "stream",
     "text": [
      "FOV center angular position in guider <SkyCoord (SkyOffsetICRS: rotation=0.0 deg, origin=<ICRS Coordinate: (ra, dec) in deg\n",
      "    (250.39837843, 36.42897653)>): (lon, lat) in deg\n",
      "    [(0.18496501, -0.02412983)]>\n",
      "FOV center pixel position in guider [array([1366.06657564]), array([431.55331128])]\n",
      "\n",
      "Guider2UV object:\n",
      "    Local Field Projector: \n",
      "ScienceMaskProjector object:\n",
      "    LocalFrame: <SkyOffsetICRS Frame (rotation=-20.0 deg, origin=<ICRS Coordinate: (ra, dec) in deg\n",
      "    (253.0624, 34.9699)>)>\n",
      "    gamma: 0.9970115643897801\n",
      "\n",
      "    Guider Field Projector: \n",
      "GuiderMaskProjector object:\n",
      "    LocalFrame: <SkyOffsetICRS Frame (rotation=0.0 deg, origin=<ICRS Coordinate: (ra, dec) in deg\n",
      "    (250.39837843, 36.42897653)>)>\n",
      "    wcs: WCS Keywords\n",
      "\n",
      "Number of WCS axes: 2\n",
      "CTYPE : 'RA---TAN-SIP'  'DEC--TAN-SIP'  \n",
      "CRVAL : 250.39837843  36.4289765325  \n",
      "CRPIX : 640.0  540.0  \n",
      "PC1_1 PC1_2  : 1.0  0.0  \n",
      "PC2_1 PC2_2  : 0.0  1.0  \n",
      "CDELT : 0.00024600287745946  0.00024580474694405  \n",
      "NAXIS : 0  0\n",
      "\n",
      "    mask_rotation: 9.41061983303618 arcmin\n",
      "    FOV center in guider: [1366.06657564]x[431.55331128] pix\n",
      "\n"
     ]
    },
    {
     "name": "stderr",
     "output_type": "stream",
     "text": [
      "WARNING: FITSFixedWarning: The WCS transformation has more axes (2) than the image it is associated with (0) [astropy.wcs.wcs]\n"
     ]
    }
   ],
   "source": [
    "G2UV = Guider2UV(filename=cloudpath + 'TestsFTS2018-Flight/E2E-AIT-Flight/XYCalibration/F2_180901.pkl')\n",
    "print(G2UV)"
   ]
  },
  {
   "cell_type": "code",
   "execution_count": 4,
   "metadata": {
    "scrolled": true
   },
   "outputs": [],
   "source": [
    "target_filename = '/home/dvibert/ownCloud/FIREBALL/Target_selection/targets_F2.txt'\n",
    "F2 = Table.read(target_filename, format='ascii')"
   ]
  },
  {
   "cell_type": "markdown",
   "metadata": {},
   "source": [
    "## Diffuse UV image\n",
    "\n",
    "load new mapping"
   ]
  },
  {
   "cell_type": "code",
   "execution_count": 8,
   "metadata": {},
   "outputs": [],
   "source": [
    "mask_det_map_file = cloudpath + 'TestsFTS2018-Flight/E2E-AIT-Flight/XYCalibration/Detector_Mask_mappings/mapping-mask-det-180612-F2.pkl'\n",
    "mask_det_map = Mapping(mask_det_map_file)\n",
    "G2UV.set_detector_mapping(mask_det_map, offsets = [1., 1.])\n"
   ]
  },
  {
   "cell_type": "markdown",
   "metadata": {},
   "source": [
    "## Scan sequence\n",
    "\n",
    "GC - 37 - 42 - 44 - 38 - 16 - 9 - 8 - 26  \n"
   ]
  },
  {
   "cell_type": "code",
   "execution_count": 9,
   "metadata": {},
   "outputs": [
    {
     "name": "stdout",
     "output_type": "stream",
     "text": [
      "slit position in mm on mask: [ 4.02636 -5.77259]\n",
      "slit position in mm on mask: [ 6.431447 -0.117245]\n",
      "slit position in mm on mask: [7.267641 3.348729]\n",
      "slit position in mm on mask: [4.334963 3.091563]\n",
      "slit position in mm on mask: [-5.545143 -0.426152]\n",
      "slit position in mm on mask: [-8.420053  0.443957]\n",
      "slit position in mm on mask: [-8.63111  -3.466157]\n",
      "slit position in mm on mask: [-2.111124 -5.892199]\n",
      "\n",
      "targets local coords in siderostat local frame:\n",
      "EL: 87.8 arcsec ; CE: 209.1 arcsec\n",
      "EL: 327.5 arcsec ; CE: 307.7 arcsec\n",
      "EL: 474.3 arcsec ; CE: 341.9 arcsec\n",
      "EL: 463.0 arcsec ; CE: 220.8 arcsec\n",
      "EL: 313.0 arcsec ; CE: -186.6 arcsec\n",
      "EL: 349.5 arcsec ; CE: -305.6 arcsec\n",
      "EL: 183.9 arcsec ; CE: -314.0 arcsec\n",
      "EL: 82.0 arcsec ; CE: -44.3 arcsec\n",
      "\n",
      "siderostat moves sequence: \n",
      "EL: 0.0 arcsec ; CE -30.0 arcsec ; image: False\n",
      "EL: -0.0 arcsec ; CE 30.0 arcsec ; image: True\n",
      "EL: 87.8 arcsec ; CE 209.1 arcsec ; image: True\n",
      "EL: 239.7 arcsec ; CE 98.6 arcsec ; image: True\n",
      "EL: 146.9 arcsec ; CE 34.2 arcsec ; image: True\n",
      "EL: -11.3 arcsec ; CE -121.2 arcsec ; image: True\n",
      "EL: -150.0 arcsec ; CE -407.4 arcsec ; image: True\n",
      "EL: 36.5 arcsec ; CE -119.0 arcsec ; image: True\n",
      "EL: -165.7 arcsec ; CE -8.4 arcsec ; image: True\n",
      "EL: -101.8 arcsec ; CE 269.7 arcsec ; image: True\n",
      "EL: -0.0 arcsec ; CE 30.0 arcsec ; image: False\n",
      "EL: 0.0 arcsec ; CE -30.0 arcsec ; image: True\n",
      "EL: 101.8 arcsec ; CE -299.7 arcsec ; image: False\n",
      "EL: 0.0 arcsec ; CE 30.0 arcsec ; image: True\n",
      "EL: 165.7 arcsec ; CE 8.4 arcsec ; image: True\n",
      "EL: -36.5 arcsec ; CE 119.0 arcsec ; image: True\n",
      "EL: 150.0 arcsec ; CE 407.4 arcsec ; image: True\n",
      "EL: 11.3 arcsec ; CE 151.2 arcsec ; image: False\n",
      "EL: -0.0 arcsec ; CE -30.0 arcsec ; image: True\n",
      "EL: -146.9 arcsec ; CE -34.2 arcsec ; image: True\n",
      "EL: -239.7 arcsec ; CE -98.6 arcsec ; image: True\n",
      "EL: -87.8 arcsec ; CE -209.1 arcsec ; image: True\n"
     ]
    }
   ],
   "source": [
    "#from guider2UV.guider2UV import Guider2UV\n",
    "slits = ['37', '42', '44', '38', '16', '9', '8', '26'] \n",
    "\n",
    "movs, slits_coord = G2UV.compute_autocoll_moves_slits(slits, F2, hystcomp = True)"
   ]
  },
  {
   "cell_type": "code",
   "execution_count": 68,
   "metadata": {},
   "outputs": [
    {
     "data": {
      "text/plain": [
       "array([1.42108547e-14, 0.00000000e+00])"
      ]
     },
     "execution_count": 68,
     "metadata": {},
     "output_type": "execute_result"
    }
   ],
   "source": [
    "movs.sum(axis=0)"
   ]
  },
  {
   "cell_type": "markdown",
   "metadata": {},
   "source": [
    "observed slits position :"
   ]
  },
  {
   "cell_type": "code",
   "execution_count": 85,
   "metadata": {},
   "outputs": [
    {
     "data": {
      "text/plain": [
       "array([[2075.0313332 ,  547.1837469 ],\n",
       "       [1694.46040086,  364.12707452],\n",
       "       [1459.24135094,  304.18536352],\n",
       "       [1481.23050022,  524.06001572],\n",
       "       [1725.16305356, 1277.10559979],\n",
       "       [1666.1004412 , 1498.52502653],\n",
       "       [1927.08650574, 1511.38206425],\n",
       "       [2088.18460048, 1014.57232211],\n",
       "       [2088.07680252, 1009.05912876],\n",
       "       [1926.62694293, 1515.59833999],\n",
       "       [1665.40137023, 1502.45267976],\n",
       "       [1724.7718892 , 1281.98014583],\n",
       "       [1480.597437  ,  530.26551288],\n",
       "       [1457.9982084 ,  300.01849547],\n",
       "       [1692.86385774,  359.28314686],\n",
       "       [2073.83585872,  541.7236364 ]])"
      ]
     },
     "execution_count": 85,
     "metadata": {},
     "output_type": "execute_result"
    }
   ],
   "source": [
    "slits_coord_obs_det = np.array([\n",
    "       [2075.0313332 ,  547.1837469 ],\n",
    "       [1694.46040086,  364.12707452],\n",
    "       [1459.24135094,  304.18536352],\n",
    "       [1481.23050022,  524.06001572],\n",
    "       [1725.16305356, 1277.10559979],\n",
    "       [1666.1004412 , 1498.52502653],\n",
    "       [1927.08650574, 1511.38206425],\n",
    "       [2088.18460048, 1014.57232211],\n",
    "       [2088.07680252, 1009.05912876],\n",
    "       [1926.62694293, 1515.59833999],\n",
    "       [1665.40137023, 1502.45267976],\n",
    "       [1724.7718892 , 1281.98014583],\n",
    "       [1480.597437  ,  530.26551288],\n",
    "       [1457.9982084 ,  300.01849547],\n",
    "       [1692.86385774,  359.28314686],\n",
    "       [2073.83585872,  541.7236364 ]])\n",
    "\n",
    "\n",
    "slits_coord_obs_det"
   ]
  },
  {
   "cell_type": "code",
   "execution_count": 86,
   "metadata": {},
   "outputs": [
    {
     "name": "stdout",
     "output_type": "stream",
     "text": [
      "wave:  0.20255\n"
     ]
    }
   ],
   "source": [
    "valid = np.isfinite(slits_coord_obs_det[:,0])\n",
    "#valid = np.array([True]*8 + [False]*8)\n",
    "obs_wave = G2UV.mask_det_map.w[0]\n",
    "print(\"wave: \", obs_wave)\n",
    "\n",
    "slits_coord_valid = [slits_coord[i] for i in np.nonzero(valid)[0]]\n",
    "slits_valid = np.array(slits + slits[::-1])[valid]"
   ]
  },
  {
   "cell_type": "code",
   "execution_count": 87,
   "metadata": {},
   "outputs": [
    {
     "data": {
      "text/plain": [
       "[<SkyCoord (SkyOffsetICRS: rotation=0.0 deg, origin=<ICRS Coordinate: (ra, dec) in deg\n",
       "     (250.39837843, 36.42897653)>): (lon, lat) in deg\n",
       "     [(0.04893897, -0.11956206)]>,\n",
       " <SkyCoord (SkyOffsetICRS: rotation=0.0 deg, origin=<ICRS Coordinate: (ra, dec) in deg\n",
       "     (250.39837843, 36.42897653)>): (lon, lat) in deg\n",
       "     [(0.18261289, -0.17596011)]>,\n",
       " <SkyCoord (SkyOffsetICRS: rotation=0.0 deg, origin=<ICRS Coordinate: (ra, dec) in deg\n",
       "     (250.39837843, 36.42897653)>): (lon, lat) in deg\n",
       "     [(0.26451288, -0.19553401)]>,\n",
       " <SkyCoord (SkyOffsetICRS: rotation=0.0 deg, origin=<ICRS Coordinate: (ra, dec) in deg\n",
       "     (250.39837843, 36.42897653)>): (lon, lat) in deg\n",
       "     [(0.25821115, -0.12624249)]>,\n",
       " <SkyCoord (SkyOffsetICRS: rotation=0.0 deg, origin=<ICRS Coordinate: (ra, dec) in deg\n",
       "     (250.39837843, 36.42897653)>): (lon, lat) in deg\n",
       "     [(0.17454844, 0.1067224)]>,\n",
       " <SkyCoord (SkyOffsetICRS: rotation=0.0 deg, origin=<ICRS Coordinate: (ra, dec) in deg\n",
       "     (250.39837843, 36.42897653)>): (lon, lat) in deg\n",
       "     [(0.19490553, 0.17475412)]>,\n",
       " <SkyCoord (SkyOffsetICRS: rotation=0.0 deg, origin=<ICRS Coordinate: (ra, dec) in deg\n",
       "     (250.39837843, 36.42897653)>): (lon, lat) in deg\n",
       "     [(0.10252813, 0.17953307)]>,\n",
       " <SkyCoord (SkyOffsetICRS: rotation=0.0 deg, origin=<ICRS Coordinate: (ra, dec) in deg\n",
       "     (250.39837843, 36.42897653)>): (lon, lat) in deg\n",
       "     [(0.04574015, 0.02532361)]>,\n",
       " <SkyCoord (SkyOffsetICRS: rotation=0.0 deg, origin=<ICRS Coordinate: (ra, dec) in deg\n",
       "     (250.39837843, 36.42897653)>): (lon, lat) in deg\n",
       "     [(0.04574015, 0.02532361)]>,\n",
       " <SkyCoord (SkyOffsetICRS: rotation=0.0 deg, origin=<ICRS Coordinate: (ra, dec) in deg\n",
       "     (250.39837843, 36.42897653)>): (lon, lat) in deg\n",
       "     [(0.10252813, 0.17953307)]>,\n",
       " <SkyCoord (SkyOffsetICRS: rotation=0.0 deg, origin=<ICRS Coordinate: (ra, dec) in deg\n",
       "     (250.39837843, 36.42897653)>): (lon, lat) in deg\n",
       "     [(0.19490553, 0.17475412)]>,\n",
       " <SkyCoord (SkyOffsetICRS: rotation=0.0 deg, origin=<ICRS Coordinate: (ra, dec) in deg\n",
       "     (250.39837843, 36.42897653)>): (lon, lat) in deg\n",
       "     [(0.17454844, 0.1067224)]>,\n",
       " <SkyCoord (SkyOffsetICRS: rotation=0.0 deg, origin=<ICRS Coordinate: (ra, dec) in deg\n",
       "     (250.39837843, 36.42897653)>): (lon, lat) in deg\n",
       "     [(0.25821115, -0.12624249)]>,\n",
       " <SkyCoord (SkyOffsetICRS: rotation=0.0 deg, origin=<ICRS Coordinate: (ra, dec) in deg\n",
       "     (250.39837843, 36.42897653)>): (lon, lat) in deg\n",
       "     [(0.26451288, -0.19553401)]>,\n",
       " <SkyCoord (SkyOffsetICRS: rotation=0.0 deg, origin=<ICRS Coordinate: (ra, dec) in deg\n",
       "     (250.39837843, 36.42897653)>): (lon, lat) in deg\n",
       "     [(0.18261289, -0.17596011)]>,\n",
       " <SkyCoord (SkyOffsetICRS: rotation=0.0 deg, origin=<ICRS Coordinate: (ra, dec) in deg\n",
       "     (250.39837843, 36.42897653)>): (lon, lat) in deg\n",
       "     [(0.04893897, -0.11956206)]>]"
      ]
     },
     "execution_count": 87,
     "metadata": {},
     "output_type": "execute_result"
    }
   ],
   "source": [
    "slits_coord_valid"
   ]
  },
  {
   "cell_type": "code",
   "execution_count": 88,
   "metadata": {},
   "outputs": [
    {
     "data": {
      "text/plain": [
       "Text(0,0.5,'Ce arcsec')"
      ]
     },
     "execution_count": 88,
     "metadata": {},
     "output_type": "execute_result"
    },
    {
     "data": {
      "image/png": "[encoded data removed]",
      "text/plain": [
       "<Figure size 432x288 with 2 Axes>"
      ]
     },
     "metadata": {},
     "output_type": "display_data"
    }
   ],
   "source": [
    "mid  = len(slits_coord_obs_det)//2\n",
    "pair_diff = slits_coord_obs_det[:mid] - slits_coord_obs_det[::-1][:mid]\n",
    "pair_diff\n",
    "plt.figure()\n",
    "plt.subplot('120')\n",
    "plt.plot(pair_diff[:,0],'*')\n",
    "plt.plot(np.abs(pair_diff[:,0]),'-')\n",
    "plt.title(\"El pair diff\")\n",
    "plt.ylabel(\"El arcsec\")\n",
    "plt.subplot('121')\n",
    "plt.plot(pair_diff[:,1],'*')\n",
    "plt.plot(np.abs(pair_diff[:,1]),'-')\n",
    "plt.title(\"Ce pair diff\")\n",
    "plt.ylabel(\"Ce arcsec\")\n"
   ]
  },
  {
   "cell_type": "code",
   "execution_count": 89,
   "metadata": {},
   "outputs": [],
   "source": [
    "slits_coord_obs = G2UV.detector2guider(slits_coord_obs_det, wave=obs_wave, angle=True  )\n"
   ]
  },
  {
   "cell_type": "code",
   "execution_count": 90,
   "metadata": {},
   "outputs": [
    {
     "name": "stdout",
     "output_type": "stream",
     "text": [
      "Fitting rotation, translation and magnification\n",
      "gamma: 1.0040019827024307\n",
      "theta: 3.0417111669815697 arcmin\n",
      "dx: -6.036699495989599 arcsec\n",
      "dy: -0.6268739196853002 arcsec\n",
      "variances: [4.15678072e-04 1.42899595e+00 3.45995123e-01 3.45995123e-01]\n",
      "\n",
      "residuals in arcsec: [[-1.24643378  4.36367746]\n",
      " [-0.91066201  0.89015133]\n",
      " [-0.17710793  2.8578891 ]\n",
      " [-0.19284725 -2.3004637 ]\n",
      " [-0.67749448 -2.90049624]\n",
      " [-0.06161603 -1.85816349]\n",
      " [ 0.74738917 -3.27839866]\n",
      " [-1.32910726  2.68807186]\n",
      " [-1.2226843  -3.41045802]\n",
      " [ 1.29468861  1.38323624]\n",
      " [ 0.79168381  2.49493922]\n",
      " [-0.18513738  2.49317325]\n",
      " [ 0.71477842  4.55138014]\n",
      " [ 1.27462443 -1.75877315]\n",
      " [ 0.98721793 -4.48835976]\n",
      " [ 0.19270804 -1.72740559]]\n",
      "max residual in EL,CE 1.3, 4.6 arcsec\n",
      "mean residual in EL,CE 0.9, 2.9 arcsec\n"
     ]
    },
    {
     "data": {
      "image/png": "[encoded data removed]",
      "text/plain": [
       "<Figure size 1152x576 with 2 Axes>"
      ]
     },
     "metadata": {},
     "output_type": "display_data"
    }
   ],
   "source": [
    "weight = np.array( [1.]*16  + [1./(1. + 1e-1)]*16)\n",
    "\n",
    "G2UVcor = G2UV.update_model(slits_coord_valid, slits_coord_obs, labels=slits_valid, plot=True)"
   ]
  },
  {
   "cell_type": "code",
   "execution_count": 95,
   "metadata": {},
   "outputs": [
    {
     "name": "stdout",
     "output_type": "stream",
     "text": [
      "Dumping to /home/dvibert/ownCloud/FIREBALL/TestsFTS2018-Flight/E2E-AIT-Flight/XYCalibration/F2_180904.pkl\n"
     ]
    }
   ],
   "source": [
    "#G2UVcor.save(filename=cloudpath + 'TestsFTS2018-Flight/E2E-AIT-Flight/XYCalibration/F2_180904.pkl')"
   ]
  },
  {
   "cell_type": "code",
   "execution_count": 92,
   "metadata": {},
   "outputs": [
    {
     "name": "stdout",
     "output_type": "stream",
     "text": [
      "slit position in mm on mask: [ 4.02636 -5.77259]\n",
      "slit position in mm on mask: [ 6.431447 -0.117245]\n",
      "slit position in mm on mask: [7.267641 3.348729]\n",
      "slit position in mm on mask: [4.334963 3.091563]\n",
      "slit position in mm on mask: [-5.545143 -0.426152]\n",
      "slit position in mm on mask: [-8.420053  0.443957]\n",
      "slit position in mm on mask: [-8.63111  -3.466157]\n",
      "slit position in mm on mask: [-2.111124 -5.892199]\n",
      "\n",
      "targets local coords in siderostat local frame:\n",
      "EL: 85.3 arcsec ; CE: 210.2 arcsec\n",
      "EL: 326.0 arcsec ; CE: 309.0 arcsec\n",
      "EL: 473.5 arcsec ; CE: 343.2 arcsec\n",
      "EL: 462.1 arcsec ; CE: 221.6 arcsec\n",
      "EL: 311.1 arcsec ; CE: -187.4 arcsec\n",
      "EL: 347.6 arcsec ; CE: -306.8 arcsec\n",
      "EL: 181.3 arcsec ; CE: -315.1 arcsec\n",
      "EL: 79.3 arcsec ; CE: -44.2 arcsec\n",
      "\n",
      "siderostat moves sequence: \n",
      "EL: 0.0 arcsec ; CE -30.0 arcsec ; image: False\n",
      "EL: -0.0 arcsec ; CE 30.0 arcsec ; image: True\n",
      "EL: 85.3 arcsec ; CE 210.2 arcsec ; image: True\n",
      "EL: 240.8 arcsec ; CE 98.8 arcsec ; image: True\n",
      "EL: 147.5 arcsec ; CE 34.2 arcsec ; image: True\n",
      "EL: -11.5 arcsec ; CE -121.7 arcsec ; image: True\n",
      "EL: -151.0 arcsec ; CE -408.9 arcsec ; image: True\n",
      "EL: 36.5 arcsec ; CE -119.5 arcsec ; image: True\n",
      "EL: -166.3 arcsec ; CE -8.2 arcsec ; image: True\n",
      "EL: -102.0 arcsec ; CE 270.9 arcsec ; image: True\n",
      "EL: -0.0 arcsec ; CE 30.0 arcsec ; image: False\n",
      "EL: 0.0 arcsec ; CE -30.0 arcsec ; image: True\n",
      "EL: 102.0 arcsec ; CE -300.9 arcsec ; image: False\n",
      "EL: 0.0 arcsec ; CE 30.0 arcsec ; image: True\n",
      "EL: 166.3 arcsec ; CE 8.2 arcsec ; image: True\n",
      "EL: -36.5 arcsec ; CE 119.5 arcsec ; image: True\n",
      "EL: 151.0 arcsec ; CE 408.9 arcsec ; image: True\n",
      "EL: 11.5 arcsec ; CE 151.7 arcsec ; image: False\n",
      "EL: -0.0 arcsec ; CE -30.0 arcsec ; image: True\n",
      "EL: -147.5 arcsec ; CE -34.2 arcsec ; image: True\n",
      "EL: -240.8 arcsec ; CE -98.8 arcsec ; image: True\n",
      "EL: -85.3 arcsec ; CE -210.2 arcsec ; image: True\n"
     ]
    }
   ],
   "source": [
    "movs_new, slits_coord_new = G2UVcor.compute_autocoll_moves_slits(slits, F2, hystcomp = True)"
   ]
  },
  {
   "cell_type": "markdown",
   "metadata": {},
   "source": [
    "## Star sequence\n",
    "\n",
    "gc - s36 - s40 - s46 - s21\n"
   ]
  },
  {
   "cell_type": "code",
   "execution_count": 93,
   "metadata": {},
   "outputs": [
    {
     "name": "stdout",
     "output_type": "stream",
     "text": [
      "star position Ra/Dec:  <SkyCoord (ICRS): (ra, dec) in deg\n",
      "    [(252.895501, 34.875333)]>\n",
      "star position Ra/Dec:  <SkyCoord (ICRS): (ra, dec) in deg\n",
      "    [(252.83754, 34.836825)]>\n",
      "star position Ra/Dec:  <SkyCoord (ICRS): (ra, dec) in deg\n",
      "    [(252.787662, 34.810634)]>\n",
      "star position Ra/Dec:  <SkyCoord (ICRS): (ra, dec) in deg\n",
      "    [(252.829951, 34.945769)]>\n",
      "\n",
      "targets local coords in siderostat local frame:\n",
      "EL: 41.7 arcsec ; CE: 116.7 arcsec\n",
      "EL: -62.0 arcsec ; CE: 151.7 arcsec\n",
      "EL: -147.1 arcsec ; CE: 170.4 arcsec\n",
      "EL: -6.0 arcsec ; CE: -31.1 arcsec\n",
      "\n",
      "siderostat moves sequence: \n",
      "EL: 0.0 arcsec ; CE -30.0 arcsec ; image: False\n",
      "EL: -0.0 arcsec ; CE 30.0 arcsec ; image: True\n",
      "EL: 41.7 arcsec ; CE 116.7 arcsec ; image: True\n",
      "EL: -103.7 arcsec ; CE 35.0 arcsec ; image: True\n",
      "EL: -85.0 arcsec ; CE 18.6 arcsec ; image: True\n",
      "EL: 141.1 arcsec ; CE -201.5 arcsec ; image: True\n",
      "EL: 0.0 arcsec ; CE -30.0 arcsec ; image: False\n",
      "EL: -0.0 arcsec ; CE 30.0 arcsec ; image: True\n",
      "EL: -141.1 arcsec ; CE 231.5 arcsec ; image: False\n",
      "EL: -0.0 arcsec ; CE -30.0 arcsec ; image: True\n",
      "EL: 85.0 arcsec ; CE -18.6 arcsec ; image: True\n",
      "EL: 103.7 arcsec ; CE -35.0 arcsec ; image: True\n",
      "EL: -41.7 arcsec ; CE -116.7 arcsec ; image: True\n"
     ]
    }
   ],
   "source": [
    "star_target_path = cloudpath + 'Target_selection/GuidingStars/'\n",
    "F2_stars = Table.read(star_target_path + \"F2_guidingstars.fits\", format='fits')\n",
    "\n",
    "stars = [36, 40, 46, 21 ]\n",
    "\n",
    "#F2_stars_coords = coordinates.SkyCoord(F2_stars['RA']*u.deg, F2_stars['DEC']*u.deg)\n",
    "\n",
    "star_movs, stars_coord = G2UVcor.compute_autocoll_move_stars(stars, F2_stars, hystcomp = True)\n"
   ]
  },
  {
   "cell_type": "code",
   "execution_count": 94,
   "metadata": {},
   "outputs": [
    {
     "data": {
      "text/plain": [
       "[<SkyCoord (SkyOffsetICRS: rotation=0.0 deg, origin=<ICRS Coordinate: (ra, dec) in deg\n",
       "     (250.39837843, 36.42897653)>): (lon, lat) in deg\n",
       "     [(0.02323068, -0.06674584)]>,\n",
       " <SkyCoord (SkyOffsetICRS: rotation=0.0 deg, origin=<ICRS Coordinate: (ra, dec) in deg\n",
       "     (250.39837843, 36.42897653)>): (lon, lat) in deg\n",
       "     [(-0.03460088, -0.08676068)]>,\n",
       " <SkyCoord (SkyOffsetICRS: rotation=0.0 deg, origin=<ICRS Coordinate: (ra, dec) in deg\n",
       "     (250.39837843, 36.42897653)>): (lon, lat) in deg\n",
       "     [(-0.08202328, -0.09742144)]>,\n",
       " <SkyCoord (SkyOffsetICRS: rotation=0.0 deg, origin=<ICRS Coordinate: (ra, dec) in deg\n",
       "     (250.39837843, 36.42897653)>): (lon, lat) in deg\n",
       "     [(-0.00332875, 0.01778478)]>]"
      ]
     },
     "execution_count": 94,
     "metadata": {},
     "output_type": "execute_result"
    }
   ],
   "source": [
    "stars_coord"
   ]
  },
  {
   "cell_type": "markdown",
   "metadata": {},
   "source": [
    "------------------------------------------------------"
   ]
  }
 ],
 "metadata": {
  "kernelspec": {
   "display_name": "Python 3",
   "language": "python",
   "name": "python3"
  },
  "language_info": {
   "codemirror_mode": {
    "name": "ipython",
    "version": 3
   },
   "file_extension": ".py",
   "mimetype": "text/x-python",
   "name": "python",
   "nbconvert_exporter": "python",
   "pygments_lexer": "ipython3",
   "version": "3.7.7"
  }
 },
 "nbformat": 4,
 "nbformat_minor": 2
}
