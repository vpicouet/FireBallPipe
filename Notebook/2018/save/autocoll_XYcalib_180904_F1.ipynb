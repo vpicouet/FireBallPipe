{
 "cells": [
  {
   "cell_type": "markdown",
   "metadata": {},
   "source": [
    "# UV-Guider alignement with source in autocoll\n",
    "##  Field 1"
   ]
  },
  {
   "cell_type": "code",
   "execution_count": 1,
   "metadata": {},
   "outputs": [
    {
     "name": "stdout",
     "output_type": "stream",
     "text": [
      "/Users/Vincent/Github/FireBallPipe\n"
     ]
    }
   ],
   "source": [
    "cd ../.."
   ]
  },
  {
   "cell_type": "code",
   "execution_count": 2,
   "metadata": {
    "collapsed": true
   },
   "outputs": [],
   "source": [
    "# %matplotlib widget\n",
    "%load_ext autoreload\n",
    "%autoreload 2\n",
    "\n",
    "import sys\n",
    "import numpy as np\n",
    "from astropy.io import fits\n",
    "from astropy import wcs, coordinates\n",
    "from astropy import units as u\n",
    "from astropy.wcs.utils import proj_plane_pixel_scales\n",
    "from matplotlib import pyplot as plt\n",
    "from astropy.table import Table, vstack \n",
    "import matplotlib.patches as patches\n",
    "import unittest\n",
    "from mpl_interactions import heatmap_slicer\n",
    "import pandas as pd\n",
    "import datetime \n",
    "# os.chdir(os.path.dirname(os.path.realpath(__file__)))\n",
    "sys.path.insert(1, './Calibration')\n",
    "from guider2UV.guider2UV import Guider2UV, diff_skycoord, fit_model, plot_fit\n",
    "from Calibration.mapping import Mapping"
   ]
  },
  {
   "cell_type": "code",
   "execution_count": 2,
   "metadata": {
    "collapsed": true
   },
   "outputs": [],
   "source": [
    "cloudpath = '/home/dvibert/ownCloud/FIREBALL/'\n"
   ]
  },
  {
   "cell_type": "markdown",
   "metadata": {},
   "source": [
    "## initialization from last xy calib"
   ]
  },
  {
   "cell_type": "code",
   "execution_count": 3,
   "metadata": {
    "scrolled": false
   },
   "outputs": [
    {
     "name": "stdout",
     "output_type": "stream",
     "text": [
      "FOV center angular position in guider <SkyCoord (SkyOffsetICRS: rotation=0.0 deg, origin=<ICRS Coordinate: (ra, dec) in deg\n",
      "    (250.39272815, 36.41856381)>): (lon, lat) in deg\n",
      "    [(0.17436856, 0.00516991)]>\n",
      "FOV center pixel position in guider [array([1330.61038367]), array([560.93947921])]\n",
      "\n",
      "Guider2UV object:\n",
      "    Local Field Projector: \n",
      "ScienceMaskProjector object:\n",
      "    LocalFrame: <SkyOffsetICRS Frame (rotation=-90.0 deg, origin=<ICRS Coordinate: (ra, dec) in deg\n",
      "    (32.19, -5.688)>)>\n",
      "    gamma: 1.0\n",
      "\n",
      "    Guider Field Projector: \n",
      "GuiderMaskProjector object:\n",
      "    LocalFrame: <SkyOffsetICRS Frame (rotation=0.0 deg, origin=<ICRS Coordinate: (ra, dec) in deg\n",
      "    (250.39272815, 36.41856381)>)>\n",
      "    wcs: WCS Keywords\n",
      "\n",
      "Number of WCS axes: 2\n",
      "CTYPE : 'RA---TAN-SIP'  'DEC--TAN-SIP'  \n",
      "CRVAL : 250.392728151  36.4185638082  \n",
      "CRPIX : 640.0  540.0  \n",
      "PC1_1 PC1_2  : 1.0  0.0  \n",
      "PC2_1 PC2_2  : 0.0  1.0  \n",
      "CDELT : 0.00024551548564194  0.00024661678545423  \n",
      "NAXIS : 0  0\n",
      "\n",
      "    mask_rotation: 83.96815071133501 arcmin\n",
      "    FOV center in guider: [1330.61038367]x[560.93947921] pix\n",
      "\n"
     ]
    }
   ],
   "source": [
    "G2UV = Guider2UV(filename='/Volumes/ExtremePro/LAM/FIREBALL/TestsFTS2018-Flight/E2E-AIT-Flight/XYCalibration/F1_180826.pkl')\n",
    "print(G2UV)"
   ]
  },
  {
   "cell_type": "code",
   "execution_count": 5,
   "metadata": {
    "collapsed": true,
    "scrolled": true
   },
   "outputs": [],
   "source": [
    "target_filename = '/Users/Vincent/Github/FireBallPipe/Calibration/Targets/2022/targets_F1.txt'\n",
    "F1 = Table.read(target_filename, format='ascii')"
   ]
  },
  {
   "cell_type": "markdown",
   "metadata": {},
   "source": [
    "## Diffuse UV image\n",
    "\n",
    "load new mapping"
   ]
  },
  {
   "cell_type": "code",
   "execution_count": 7,
   "metadata": {
    "collapsed": true
   },
   "outputs": [],
   "source": [
    "mask_det_map_file = '/Users/Vincent/Nextcloud/LAM/FIREBALL/TestsFTS2018-Flight/E2E-AIT-Flight/XYCalibration/Detector_Mask_mappings/mapping-mask-det-180612-F1.pkl'\n",
    "mask_det_map = Mapping(mask_det_map_file)\n",
    "G2UV.set_detector_mapping(mask_det_map, offsets = [1., 1.])\n"
   ]
  },
  {
   "cell_type": "markdown",
   "metadata": {},
   "source": [
    "## Scan sequence\n",
    "\n",
    "GC - 46 - 51 - 14 - 8 - 12 - 16 - 38 - 44"
   ]
  },
  {
   "cell_type": "code",
   "execution_count": 9,
   "metadata": {},
   "outputs": [
    {
     "name": "stdout",
     "output_type": "stream",
     "text": [
      "slit position in mm on mask: [ 6.7589561 -3.858979 ]\n",
      "slit position in mm on mask: [8.6160157 1.0303866]\n",
      "slit position in mm on mask: [-5.1696728  3.934102 ]\n",
      "slit position in mm on mask: [-8.8972191 -0.6960435]\n",
      "slit position in mm on mask: [-7.6793793 -2.8581218]\n",
      "slit position in mm on mask: [-4.190085  -1.2881544]\n",
      "slit position in mm on mask: [ 3.7831595 -2.1462593]\n",
      "slit position in mm on mask: [6.2134041 2.5275849]\n",
      "\n",
      "targets local coords in siderostat local frame:\n",
      "EL: 155.8 arcsec ; CE: 274.8 arcsec\n",
      "EL: 365.4 arcsec ; CE: 346.9 arcsec\n",
      "EL: 474.4 arcsec ; CE: -227.1 arcsec\n",
      "EL: 273.9 arcsec ; CE: -377.0 arcsec\n",
      "EL: 183.3 arcsec ; CE: -324.2 arcsec\n",
      "EL: 253.7 arcsec ; CE: -181.2 arcsec\n",
      "EL: 225.5 arcsec ; CE: 149.7 arcsec\n",
      "EL: 426.4 arcsec ; CE: 245.7 arcsec\n",
      "\n",
      "siderostat moves sequence: \n",
      "EL: 0.0 arcsec ; CE -30.0 arcsec ; image: False\n",
      "EL: -0.0 arcsec ; CE 30.0 arcsec ; image: True\n",
      "EL: 155.8 arcsec ; CE 274.8 arcsec ; image: True\n",
      "EL: 209.6 arcsec ; CE 72.0 arcsec ; image: True\n",
      "EL: 109.0 arcsec ; CE -573.9 arcsec ; image: True\n",
      "EL: -200.5 arcsec ; CE -149.9 arcsec ; image: True\n",
      "EL: -90.6 arcsec ; CE 52.7 arcsec ; image: True\n",
      "EL: 70.3 arcsec ; CE 143.1 arcsec ; image: True\n",
      "EL: -28.2 arcsec ; CE 330.9 arcsec ; image: True\n",
      "EL: 200.9 arcsec ; CE 96.0 arcsec ; image: True\n",
      "EL: -0.0 arcsec ; CE 30.0 arcsec ; image: False\n",
      "EL: 0.0 arcsec ; CE -30.0 arcsec ; image: True\n",
      "EL: -200.9 arcsec ; CE -96.0 arcsec ; image: True\n",
      "EL: 28.2 arcsec ; CE -330.9 arcsec ; image: True\n",
      "EL: -70.3 arcsec ; CE -143.1 arcsec ; image: True\n",
      "EL: 90.6 arcsec ; CE -82.7 arcsec ; image: False\n",
      "EL: 0.0 arcsec ; CE 30.0 arcsec ; image: True\n",
      "EL: 200.5 arcsec ; CE 149.9 arcsec ; image: True\n",
      "EL: -109.0 arcsec ; CE 603.9 arcsec ; image: False\n",
      "EL: -0.0 arcsec ; CE -30.0 arcsec ; image: True\n",
      "EL: -209.6 arcsec ; CE -72.0 arcsec ; image: True\n",
      "EL: -155.8 arcsec ; CE -274.8 arcsec ; image: True\n"
     ]
    }
   ],
   "source": [
    "\n",
    "slits = ['46', '51', '14', '8', '12', '16', '38', '44'] \n",
    "\n",
    "movs, slits_coord = G2UV.compute_autocoll_moves_slits(slits, F1, hystcomp = True)"
   ]
  },
  {
   "cell_type": "code",
   "execution_count": 7,
   "metadata": {},
   "outputs": [
    {
     "data": {
      "text/plain": [
       "array([2.84217094e-14, 0.00000000e+00])"
      ]
     },
     "execution_count": 7,
     "metadata": {},
     "output_type": "execute_result"
    }
   ],
   "source": [
    "movs.sum(axis=0)"
   ]
  },
  {
   "cell_type": "markdown",
   "metadata": {},
   "source": [
    "observed slits position :"
   ]
  },
  {
   "cell_type": "code",
   "execution_count": 13,
   "metadata": {},
   "outputs": [
    {
     "data": {
      "text/plain": [
       "array([[1965.59756538,  420.22242579],\n",
       "       [1631.74361865,  289.23423754],\n",
       "       [1467.73408468, 1349.36778046],\n",
       "       [1784.27150004, 1626.79774278],\n",
       "       [1927.70920124, 1532.48181218],\n",
       "       [1818.74748265, 1266.98195373],\n",
       "       [1859.64545293,  654.1904897 ],\n",
       "       [1539.18268865,  478.63015312],\n",
       "       [1538.98978056,  473.42365165],\n",
       "       [1859.70918054,  650.33623459],\n",
       "       [1819.23982594, 1263.17030059],\n",
       "       [1927.97229623, 1527.29654425],\n",
       "       [1784.71779993, 1630.64211506],\n",
       "       [1468.24324699, 1354.89013602],\n",
       "       [1631.89394058,  287.11784832],\n",
       "       [1966.20476903,  416.24326822]])"
      ]
     },
     "execution_count": 13,
     "metadata": {},
     "output_type": "execute_result"
    }
   ],
   "source": [
    "slits_coord_obs_det = np.array([\n",
    "       [1965.59756538,  420.22242579],\n",
    "       [1631.74361865,  289.23423754],\n",
    "       [1467.73408468, 1349.36778046],\n",
    "       [1784.27150004, 1626.79774278],\n",
    "       [1927.70920124, 1532.48181218],\n",
    "       [1818.74748265, 1266.98195373],\n",
    "       [1859.64545293,  654.1904897 ],\n",
    "       [1539.18268865,  478.63015312],\n",
    "#retour\n",
    "       [1538.98978056,  473.42365165],\n",
    "       [1859.70918054,  650.33623459],\n",
    "       [1819.23982594, 1263.17030059],\n",
    "       [1927.97229623, 1527.29654425],\n",
    "       [1784.71779993, 1630.64211506],\n",
    "       [1468.24324699, 1354.89013602],\n",
    "       [1631.89394058,  287.11784832],\n",
    "       [1966.20476903,  416.24326822]])\n",
    "\n",
    "slits_coord_obs_det"
   ]
  },
  {
   "cell_type": "code",
   "execution_count": 14,
   "metadata": {},
   "outputs": [
    {
     "data": {
      "text/plain": [
       "(16, 2)"
      ]
     },
     "execution_count": 14,
     "metadata": {},
     "output_type": "execute_result"
    }
   ],
   "source": [
    "slits_coord_obs_det.shape"
   ]
  },
  {
   "cell_type": "code",
   "execution_count": 15,
   "metadata": {},
   "outputs": [
    {
     "name": "stdout",
     "output_type": "stream",
     "text": [
      "wave:  0.20255\n"
     ]
    }
   ],
   "source": [
    "valid = np.isfinite(slits_coord_obs_det[:,0])\n",
    "#valid = np.array([True]*8 + [False]*8)\n",
    "obs_wave = G2UV.mask_det_map.w[0]\n",
    "print(\"wave: \", obs_wave)\n",
    "\n",
    "slits_coord_valid = [slits_coord[i] for i in np.nonzero(valid)[0]]\n",
    "slits_valid = np.array(slits + slits[::-1])[valid]"
   ]
  },
  {
   "cell_type": "code",
   "execution_count": 16,
   "metadata": {},
   "outputs": [
    {
     "data": {
      "text/plain": [
       "[<SkyCoord (SkyOffsetICRS: rotation=0.0 deg, origin=<ICRS Coordinate: (ra, dec) in deg\n",
       "     (250.39272815, 36.41856381)>): (lon, lat) in deg\n",
       "     [(0.08688284, -0.15714093)]>,\n",
       " <SkyCoord (SkyOffsetICRS: rotation=0.0 deg, origin=<ICRS Coordinate: (ra, dec) in deg\n",
       "     (250.39272815, 36.41856381)>): (lon, lat) in deg\n",
       "     [(0.2037629, -0.19833999)]>,\n",
       " <SkyCoord (SkyOffsetICRS: rotation=0.0 deg, origin=<ICRS Coordinate: (ra, dec) in deg\n",
       "     (250.39272815, 36.41856381)>): (lon, lat) in deg\n",
       "     [(0.26452793, 0.1298493)]>,\n",
       " <SkyCoord (SkyOffsetICRS: rotation=0.0 deg, origin=<ICRS Coordinate: (ra, dec) in deg\n",
       "     (250.39272815, 36.41856381)>): (lon, lat) in deg\n",
       "     [(0.15273039, 0.21554849)]>,\n",
       " <SkyCoord (SkyOffsetICRS: rotation=0.0 deg, origin=<ICRS Coordinate: (ra, dec) in deg\n",
       "     (250.39272815, 36.41856381)>): (lon, lat) in deg\n",
       "     [(0.10222752, 0.18541201)]>,\n",
       " <SkyCoord (SkyOffsetICRS: rotation=0.0 deg, origin=<ICRS Coordinate: (ra, dec) in deg\n",
       "     (250.39272815, 36.41856381)>): (lon, lat) in deg\n",
       "     [(0.14145661, 0.10360101)]>,\n",
       " <SkyCoord (SkyOffsetICRS: rotation=0.0 deg, origin=<ICRS Coordinate: (ra, dec) in deg\n",
       "     (250.39272815, 36.41856381)>): (lon, lat) in deg\n",
       "     [(0.12575575, -0.08561473)]>,\n",
       " <SkyCoord (SkyOffsetICRS: rotation=0.0 deg, origin=<ICRS Coordinate: (ra, dec) in deg\n",
       "     (250.39272815, 36.41856381)>): (lon, lat) in deg\n",
       "     [(0.23781114, -0.14049143)]>,\n",
       " <SkyCoord (SkyOffsetICRS: rotation=0.0 deg, origin=<ICRS Coordinate: (ra, dec) in deg\n",
       "     (250.39272815, 36.41856381)>): (lon, lat) in deg\n",
       "     [(0.23781114, -0.14049143)]>,\n",
       " <SkyCoord (SkyOffsetICRS: rotation=0.0 deg, origin=<ICRS Coordinate: (ra, dec) in deg\n",
       "     (250.39272815, 36.41856381)>): (lon, lat) in deg\n",
       "     [(0.12575575, -0.08561473)]>,\n",
       " <SkyCoord (SkyOffsetICRS: rotation=0.0 deg, origin=<ICRS Coordinate: (ra, dec) in deg\n",
       "     (250.39272815, 36.41856381)>): (lon, lat) in deg\n",
       "     [(0.14145661, 0.10360101)]>,\n",
       " <SkyCoord (SkyOffsetICRS: rotation=0.0 deg, origin=<ICRS Coordinate: (ra, dec) in deg\n",
       "     (250.39272815, 36.41856381)>): (lon, lat) in deg\n",
       "     [(0.10222752, 0.18541201)]>,\n",
       " <SkyCoord (SkyOffsetICRS: rotation=0.0 deg, origin=<ICRS Coordinate: (ra, dec) in deg\n",
       "     (250.39272815, 36.41856381)>): (lon, lat) in deg\n",
       "     [(0.15273039, 0.21554849)]>,\n",
       " <SkyCoord (SkyOffsetICRS: rotation=0.0 deg, origin=<ICRS Coordinate: (ra, dec) in deg\n",
       "     (250.39272815, 36.41856381)>): (lon, lat) in deg\n",
       "     [(0.26452793, 0.1298493)]>,\n",
       " <SkyCoord (SkyOffsetICRS: rotation=0.0 deg, origin=<ICRS Coordinate: (ra, dec) in deg\n",
       "     (250.39272815, 36.41856381)>): (lon, lat) in deg\n",
       "     [(0.2037629, -0.19833999)]>,\n",
       " <SkyCoord (SkyOffsetICRS: rotation=0.0 deg, origin=<ICRS Coordinate: (ra, dec) in deg\n",
       "     (250.39272815, 36.41856381)>): (lon, lat) in deg\n",
       "     [(0.08688284, -0.15714093)]>]"
      ]
     },
     "execution_count": 16,
     "metadata": {},
     "output_type": "execute_result"
    }
   ],
   "source": [
    "slits_coord_valid"
   ]
  },
  {
   "cell_type": "code",
   "execution_count": 17,
   "metadata": {},
   "outputs": [
    {
     "data": {
      "text/plain": [
       "Text(0,0.5,'Ce arcsec')"
      ]
     },
     "execution_count": 17,
     "metadata": {},
     "output_type": "execute_result"
    },
    {
     "data": {
      "image/png": "[encoded data removed]",
      "text/plain": [
       "<Figure size 432x288 with 2 Axes>"
      ]
     },
     "metadata": {},
     "output_type": "display_data"
    }
   ],
   "source": [
    "mid  = len(slits_coord_obs_det)//2\n",
    "pair_diff = slits_coord_obs_det[:mid] - slits_coord_obs_det[::-1][:mid]\n",
    "pair_diff\n",
    "plt.figure()\n",
    "plt.subplot('120')\n",
    "plt.plot(pair_diff[:,0],'*')\n",
    "plt.plot(np.abs(pair_diff[:,0]),'-')\n",
    "plt.title(\"El pair diff\")\n",
    "plt.ylabel(\"El arcsec\")\n",
    "plt.subplot('121')\n",
    "plt.plot(pair_diff[:,1],'*')\n",
    "plt.plot(np.abs(pair_diff[:,1]),'-')\n",
    "plt.title(\"Ce pair diff\")\n",
    "plt.ylabel(\"Ce arcsec\")\n"
   ]
  },
  {
   "cell_type": "code",
   "execution_count": 18,
   "metadata": {
    "collapsed": true
   },
   "outputs": [],
   "source": [
    "slits_coord_obs = G2UV.detector2guider(slits_coord_obs_det, wave=obs_wave, angle=True  )\n"
   ]
  },
  {
   "cell_type": "code",
   "execution_count": 19,
   "metadata": {},
   "outputs": [
    {
     "name": "stdout",
     "output_type": "stream",
     "text": [
      "Fitting rotation, translation and magnification\n",
      "gamma: 1.0006108790418187\n",
      "theta: -39.644068270865695 arcmin\n",
      "dx: 1.1024747750345616 arcsec\n",
      "dy: 4.984655023227376 arcsec\n",
      "variances: [4.11192686e-04 1.41357633e+00 3.49021087e-01 3.49021087e-01]\n",
      "\n",
      "residuals in arcsec: [[ 1.17318472  0.54579993]\n",
      " [-0.01797802  1.82609321]\n",
      " [ 1.46175773 -5.01449536]\n",
      " [ 0.68420164 -2.2945999 ]\n",
      " [-0.25537615  4.34532807]\n",
      " [-1.11057397  2.24512917]\n",
      " [ 0.08082209  2.43193811]\n",
      " [-0.45225052  4.16929747]\n",
      " [-0.26025613 -1.60154367]\n",
      " [ 0.01032764 -1.86938962]\n",
      " [-1.68968467 -1.98105369]\n",
      " [-0.50696513 -1.39368167]\n",
      " [ 0.02409439  1.96014729]\n",
      " [ 0.720119    1.10974138]\n",
      " [-0.24087447 -0.53630279]\n",
      " [ 0.37945184 -3.94240794]]\n",
      "max residual in EL,CE 1.7, 5.0 arcsec\n",
      "mean residual in EL,CE 0.8, 2.7 arcsec\n"
     ]
    },
    {
     "data": {
      "image/png": "[encoded data removed]",
      "text/plain": [
       "<Figure size 1152x576 with 2 Axes>"
      ]
     },
     "metadata": {},
     "output_type": "display_data"
    }
   ],
   "source": [
    "weight = np.array( [1.]*16  + [1./(1. + 1e-1)]*16)\n",
    "\n",
    "G2UVcor = G2UV.update_model(slits_coord_valid, slits_coord_obs, labels=slits_valid, plot=True)"
   ]
  },
  {
   "cell_type": "code",
   "execution_count": 23,
   "metadata": {},
   "outputs": [
    {
     "name": "stdout",
     "output_type": "stream",
     "text": [
      "Dumping to /home/dvibert/ownCloud/FIREBALL/TestsFTS2018-Flight/E2E-AIT-Flight/XYCalibration/F1_180904.pkl\n"
     ]
    }
   ],
   "source": [
    "#G2UVcor.save(filename=cloudpath + 'TestsFTS2018-Flight/E2E-AIT-Flight/XYCalibration/F1_180904.pkl')"
   ]
  },
  {
   "cell_type": "code",
   "execution_count": 20,
   "metadata": {},
   "outputs": [
    {
     "name": "stdout",
     "output_type": "stream",
     "text": [
      "slit position in mm on mask: [ 6.7589561 -3.858979 ]\n",
      "slit position in mm on mask: [8.6160157 1.0303866]\n",
      "slit position in mm on mask: [-5.1696728  3.934102 ]\n",
      "slit position in mm on mask: [-8.8972191 -0.6960435]\n",
      "slit position in mm on mask: [-7.6793793 -2.8581218]\n",
      "slit position in mm on mask: [-4.190085  -1.2881544]\n",
      "slit position in mm on mask: [ 3.7831595 -2.1462593]\n",
      "slit position in mm on mask: [6.2134041 2.5275849]\n",
      "\n",
      "targets local coords in siderostat local frame:\n",
      "EL: 153.2 arcsec ; CE: 274.2 arcsec\n",
      "EL: 362.0 arcsec ; CE: 348.7 arcsec\n",
      "EL: 477.8 arcsec ; CE: -224.2 arcsec\n",
      "EL: 279.1 arcsec ; CE: -376.4 arcsec\n",
      "EL: 187.8 arcsec ; CE: -324.7 arcsec\n",
      "EL: 256.5 arcsec ; CE: -180.8 arcsec\n",
      "EL: 224.4 arcsec ; CE: 149.9 arcsec\n",
      "EL: 424.3 arcsec ; CE: 248.1 arcsec\n",
      "\n",
      "siderostat moves sequence: \n",
      "EL: 0.0 arcsec ; CE -30.0 arcsec ; image: False\n",
      "EL: -0.0 arcsec ; CE 30.0 arcsec ; image: True\n",
      "EL: 153.2 arcsec ; CE 274.2 arcsec ; image: True\n",
      "EL: 208.8 arcsec ; CE 74.4 arcsec ; image: True\n",
      "EL: 115.8 arcsec ; CE -572.9 arcsec ; image: True\n",
      "EL: -198.8 arcsec ; CE -152.2 arcsec ; image: True\n",
      "EL: -91.2 arcsec ; CE 51.7 arcsec ; image: True\n",
      "EL: 68.7 arcsec ; CE 143.9 arcsec ; image: True\n",
      "EL: -32.1 arcsec ; CE 330.7 arcsec ; image: True\n",
      "EL: 199.9 arcsec ; CE 98.3 arcsec ; image: True\n",
      "EL: -0.0 arcsec ; CE 30.0 arcsec ; image: False\n",
      "EL: 0.0 arcsec ; CE -30.0 arcsec ; image: True\n",
      "EL: -199.9 arcsec ; CE -98.3 arcsec ; image: True\n",
      "EL: 32.1 arcsec ; CE -330.7 arcsec ; image: True\n",
      "EL: -68.7 arcsec ; CE -143.9 arcsec ; image: True\n",
      "EL: 91.2 arcsec ; CE -81.7 arcsec ; image: False\n",
      "EL: 0.0 arcsec ; CE 30.0 arcsec ; image: True\n",
      "EL: 198.8 arcsec ; CE 152.2 arcsec ; image: True\n",
      "EL: -115.8 arcsec ; CE 602.9 arcsec ; image: False\n",
      "EL: -0.0 arcsec ; CE -30.0 arcsec ; image: True\n",
      "EL: -208.8 arcsec ; CE -74.4 arcsec ; image: True\n",
      "EL: -153.2 arcsec ; CE -274.2 arcsec ; image: True\n"
     ]
    }
   ],
   "source": [
    "movs_new, slits_coord_new = G2UVcor.compute_autocoll_moves_slits(slits, F1, hystcomp = True)"
   ]
  },
  {
   "cell_type": "markdown",
   "metadata": {},
   "source": [
    "## Star sequence\n",
    "\n",
    "gc - s8 - s25 - s31"
   ]
  },
  {
   "cell_type": "code",
   "execution_count": 21,
   "metadata": {},
   "outputs": [
    {
     "name": "stdout",
     "output_type": "stream",
     "text": [
      "star position Ra/Dec:  <SkyCoord (ICRS): (ra, dec) in deg\n",
      "    [(32.1014, -5.786504)]>\n",
      "star position Ra/Dec:  <SkyCoord (ICRS): (ra, dec) in deg\n",
      "    [(32.221491, -5.776507)]>\n",
      "star position Ra/Dec:  <SkyCoord (ICRS): (ra, dec) in deg\n",
      "    [(32.254526, -5.815258)]>\n",
      "\n",
      "targets local coords in siderostat local frame:\n",
      "EL: 134.8 arcsec ; CE: -159.9 arcsec\n",
      "EL: 155.5 arcsec ; CE: 48.8 arcsec\n",
      "EL: 86.8 arcsec ; CE: 107.2 arcsec\n",
      "\n",
      "siderostat moves sequence: \n",
      "EL: -0.0 arcsec ; CE 30.0 arcsec ; image: False\n",
      "EL: 0.0 arcsec ; CE -30.0 arcsec ; image: True\n",
      "EL: 134.8 arcsec ; CE -159.9 arcsec ; image: True\n",
      "EL: 20.7 arcsec ; CE 208.7 arcsec ; image: True\n",
      "EL: -68.7 arcsec ; CE 58.3 arcsec ; image: True\n",
      "EL: -0.0 arcsec ; CE 30.0 arcsec ; image: False\n",
      "EL: 0.0 arcsec ; CE -30.0 arcsec ; image: True\n",
      "EL: 68.7 arcsec ; CE -58.3 arcsec ; image: True\n",
      "EL: -20.7 arcsec ; CE -238.7 arcsec ; image: False\n",
      "EL: 0.0 arcsec ; CE 30.0 arcsec ; image: True\n",
      "EL: -134.8 arcsec ; CE 159.9 arcsec ; image: True\n"
     ]
    }
   ],
   "source": [
    "star_target_path = cloudpath + 'Target_selection/GuidingStars/'\n",
    "\n",
    "F1_stars = Table.read(star_target_path + \"F1_guidingstars.fits\", format='fits')\n",
    "\n",
    "stars = [8, 25, 31]\n",
    "\n",
    "star_movs, stars_coord = G2UVcor.compute_autocoll_move_stars(stars, F1_stars, hystcomp = True)\n"
   ]
  },
  {
   "cell_type": "code",
   "execution_count": 22,
   "metadata": {},
   "outputs": [
    {
     "data": {
      "text/plain": [
       "[<SkyCoord (SkyOffsetICRS: rotation=0.0 deg, origin=<ICRS Coordinate: (ra, dec) in deg\n",
       "     (250.39272815, 36.41856381)>): (lon, lat) in deg\n",
       "     [(0.07519354, 0.09142528)]>,\n",
       " <SkyCoord (SkyOffsetICRS: rotation=0.0 deg, origin=<ICRS Coordinate: (ra, dec) in deg\n",
       "     (250.39272815, 36.41856381)>): (lon, lat) in deg\n",
       "     [(0.08673703, -0.02792538)]>,\n",
       " <SkyCoord (SkyOffsetICRS: rotation=0.0 deg, origin=<ICRS Coordinate: (ra, dec) in deg\n",
       "     (250.39272815, 36.41856381)>): (lon, lat) in deg\n",
       "     [(0.04840695, -0.06128789)]>]"
      ]
     },
     "execution_count": 22,
     "metadata": {},
     "output_type": "execute_result"
    }
   ],
   "source": [
    "stars_coord"
   ]
  },
  {
   "cell_type": "markdown",
   "metadata": {},
   "source": [
    "------------------------------------------------------"
   ]
  },
  {
   "cell_type": "markdown",
   "metadata": {},
   "source": [
    "Re-compute model (thermal drift) ?"
   ]
  },
  {
   "cell_type": "code",
   "execution_count": 24,
   "metadata": {},
   "outputs": [
    {
     "data": {
      "text/plain": [
       "array([[1967.77672211,  420.883372  ],\n",
       "       [1634.94667484,  284.99941421],\n",
       "       [1460.30889342, 1343.63228178],\n",
       "       [1774.05043782, 1625.66456504],\n",
       "       [1918.36655798, 1531.24794446],\n",
       "       [1811.96613007, 1264.73988401],\n",
       "       [1858.73062442,  652.77625595],\n",
       "       [1539.37281284,  472.87952084],\n",
       "       [1538.92830776,  467.65309777],\n",
       "       [1858.32109489,  647.99384259],\n",
       "       [1811.64481037, 1260.92668703],\n",
       "       [1917.94530091, 1526.91879826],\n",
       "       [1773.67417428, 1628.30043431],\n",
       "       [1459.76904708, 1347.27853125],\n",
       "       [1634.04334215,  281.33418915],\n",
       "       [1966.71028008,  414.34595604]])"
      ]
     },
     "execution_count": 24,
     "metadata": {},
     "output_type": "execute_result"
    }
   ],
   "source": [
    "slits_coord_obs_det2 = np.array([\n",
    "       [1967.77672211,  420.883372  ],\n",
    "       [1634.94667484,  284.99941421],\n",
    "       [1460.30889342, 1343.63228178],\n",
    "       [1774.05043782, 1625.66456504],\n",
    "       [1918.36655798, 1531.24794446],\n",
    "       [1811.96613007, 1264.73988401],\n",
    "       [1858.73062442,  652.77625595],\n",
    "       [1539.37281284,  472.87952084],\n",
    "#retour\n",
    "       [1538.92830776,  467.65309777],\n",
    "       [1858.32109489,  647.99384259],\n",
    "       [1811.64481037, 1260.92668703],\n",
    "       [1917.94530091, 1526.91879826],\n",
    "       [1773.67417428, 1628.30043431],\n",
    "       [1459.76904708, 1347.27853125],\n",
    "       [1634.04334215,  281.33418915],\n",
    "       [1966.71028008,  414.34595604]])\n",
    "    \n",
    "slits_coord_obs_det2"
   ]
  },
  {
   "cell_type": "code",
   "execution_count": 25,
   "metadata": {},
   "outputs": [
    {
     "name": "stdout",
     "output_type": "stream",
     "text": [
      "wave:  0.20255\n"
     ]
    }
   ],
   "source": [
    "valid = np.isfinite(slits_coord_obs_det2[:,0])\n",
    "#valid = np.array([True]*8 + [False]*8)\n",
    "obs_wave = G2UV.mask_det_map.w[0]\n",
    "print(\"wave: \", obs_wave)\n",
    "\n",
    "#slits_coord_valid = [slits_coord[i] for i in np.nonzero(valid)[0]]\n",
    "#slits_valid = np.array(slits + slits[::-1])[valid]"
   ]
  },
  {
   "cell_type": "code",
   "execution_count": 26,
   "metadata": {},
   "outputs": [
    {
     "data": {
      "text/plain": [
       "Text(0,0.5,'Ce arcsec')"
      ]
     },
     "execution_count": 26,
     "metadata": {},
     "output_type": "execute_result"
    },
    {
     "data": {
      "image/png": "[encoded data removed]",
      "text/plain": [
       "<Figure size 432x288 with 2 Axes>"
      ]
     },
     "metadata": {},
     "output_type": "display_data"
    }
   ],
   "source": [
    "mid  = len(slits_coord_obs_det2)//2\n",
    "pair_diff2 = slits_coord_obs_det2[:mid] - slits_coord_obs_det2[::-1][:mid]\n",
    "pair_diff2\n",
    "plt.figure()\n",
    "plt.subplot('120')\n",
    "plt.plot(pair_diff2[:,0],'*')\n",
    "plt.plot(np.abs(pair_diff2[:,0]),'-')\n",
    "plt.title(\"El pair diff\")\n",
    "plt.ylabel(\"El arcsec\")\n",
    "plt.subplot('121')\n",
    "plt.plot(pair_diff2[:,1],'*')\n",
    "plt.plot(np.abs(pair_diff2[:,1]),'-')\n",
    "plt.title(\"Ce pair diff\")\n",
    "plt.ylabel(\"Ce arcsec\")\n"
   ]
  },
  {
   "cell_type": "code",
   "execution_count": 30,
   "metadata": {},
   "outputs": [
    {
     "name": "stdout",
     "output_type": "stream",
     "text": [
      "['14' '8' '12' '16' '38' '44' '44' '38' '16' '12' '8' '14']\n"
     ]
    }
   ],
   "source": [
    "valid2 = np.array([True]*16)\n",
    "valid2[[0,1,-1,-2]] = False\n",
    "slits2 = np.array(slits_valid)[valid2]\n",
    "print(slits2)"
   ]
  },
  {
   "cell_type": "code",
   "execution_count": 31,
   "metadata": {
    "collapsed": true
   },
   "outputs": [],
   "source": [
    "slits_coord_obs2 = G2UV.detector2guider(slits_coord_obs_det2[valid2], wave=obs_wave, angle=True  )\n",
    "slits_coord_valid2 = [slits_coord[i] for i in np.nonzero(valid2)[0]]\n",
    "slits_valid2 = np.array(slits + slits[::-1])[valid2]"
   ]
  },
  {
   "cell_type": "code",
   "execution_count": 33,
   "metadata": {},
   "outputs": [
    {
     "name": "stdout",
     "output_type": "stream",
     "text": [
      "Fitting rotation, translation and magnification\n",
      "gamma: 1.0004019970657176\n",
      "theta: 0.18488190877971084 arcmin\n",
      "dx: -3.6320027044843672 arcsec\n",
      "dy: 1.265077405430739 arcsec\n",
      "variances: [5.47067103e-04 1.88067817e+00 4.63015102e-01 4.63015102e-01]\n",
      "\n",
      "residuals in arcsec: [[ 6.30954183e-01 -4.05872365e+00]\n",
      " [-8.72259151e-03 -1.00583146e+00]\n",
      " [-8.73463106e-01  3.26606726e+00]\n",
      " [-1.52227671e+00  1.85935435e+00]\n",
      " [-5.07748091e-03  2.43003590e+00]\n",
      " [ 1.94836082e-01  4.10281673e+00]\n",
      " [ 7.04795287e-01 -1.69194866e+00]\n",
      " [ 5.30956249e-01 -2.91447063e+00]\n",
      " [-1.05544674e+00 -2.36908996e+00]\n",
      " [-2.65510735e-01 -1.53327703e+00]\n",
      " [ 4.14200160e-01  1.91556693e+00]\n",
      " [ 1.25475541e+00 -4.99766750e-04]]\n",
      "max residual in EL,CE 1.5, 4.1 arcsec\n",
      "mean residual in EL,CE 0.8, 2.5 arcsec\n"
     ]
    },
    {
     "data": {
      "image/png": "[encoded data removed]",
      "text/plain": [
       "<Figure size 1152x576 with 2 Axes>"
      ]
     },
     "metadata": {},
     "output_type": "display_data"
    }
   ],
   "source": [
    "weight = np.array( [1.]*14  + [1./(1. + 1e-1)]*14)\n",
    "\n",
    "G2UVcor2 = G2UV.update_model(slits_coord_valid2, slits_coord_obs2, labels=slits_valid2, plot=True)"
   ]
  },
  {
   "cell_type": "code",
   "execution_count": 34,
   "metadata": {},
   "outputs": [
    {
     "name": "stdout",
     "output_type": "stream",
     "text": [
      "star position Ra/Dec:  <SkyCoord (ICRS): (ra, dec) in deg\n",
      "    [(32.1014, -5.786504)]>\n",
      "star position Ra/Dec:  <SkyCoord (ICRS): (ra, dec) in deg\n",
      "    [(32.221491, -5.776507)]>\n",
      "star position Ra/Dec:  <SkyCoord (ICRS): (ra, dec) in deg\n",
      "    [(32.254526, -5.815258)]>\n",
      "\n",
      "targets local coords in siderostat local frame:\n",
      "EL: 130.5 arcsec ; CE: -159.6 arcsec\n",
      "EL: 153.7 arcsec ; CE: 48.9 arcsec\n",
      "EL: 85.6 arcsec ; CE: 108.0 arcsec\n",
      "\n",
      "siderostat moves sequence: \n",
      "EL: -0.0 arcsec ; CE 30.0 arcsec ; image: False\n",
      "EL: 0.0 arcsec ; CE -30.0 arcsec ; image: True\n",
      "EL: 130.5 arcsec ; CE -159.6 arcsec ; image: True\n",
      "EL: 23.2 arcsec ; CE 208.5 arcsec ; image: True\n",
      "EL: -68.1 arcsec ; CE 59.1 arcsec ; image: True\n",
      "EL: -0.0 arcsec ; CE 30.0 arcsec ; image: False\n",
      "EL: 0.0 arcsec ; CE -30.0 arcsec ; image: True\n",
      "EL: 68.1 arcsec ; CE -59.1 arcsec ; image: True\n",
      "EL: -23.2 arcsec ; CE -238.5 arcsec ; image: False\n",
      "EL: 0.0 arcsec ; CE 30.0 arcsec ; image: True\n",
      "EL: -130.5 arcsec ; CE 159.6 arcsec ; image: True\n"
     ]
    }
   ],
   "source": [
    "star_movs2, stars_coord2 = G2UVcor2.compute_autocoll_move_stars(stars, F1_stars, hystcomp = True)\n"
   ]
  },
  {
   "cell_type": "code",
   "execution_count": 35,
   "metadata": {},
   "outputs": [
    {
     "name": "stdout",
     "output_type": "stream",
     "text": [
      "slit position in mm on mask: [ 6.7589561 -3.858979 ]\n",
      "slit position in mm on mask: [8.6160157 1.0303866]\n",
      "slit position in mm on mask: [-5.1696728  3.934102 ]\n",
      "slit position in mm on mask: [-8.8972191 -0.6960435]\n",
      "slit position in mm on mask: [-7.6793793 -2.8581218]\n",
      "slit position in mm on mask: [-4.190085  -1.2881544]\n",
      "slit position in mm on mask: [ 3.7831595 -2.1462593]\n",
      "slit position in mm on mask: [6.2134041 2.5275849]\n",
      "\n",
      "targets local coords in siderostat local frame:\n",
      "EL: 154.1 arcsec ; CE: 274.3 arcsec\n",
      "EL: 363.7 arcsec ; CE: 346.4 arcsec\n",
      "EL: 472.7 arcsec ; CE: -227.8 arcsec\n",
      "EL: 272.2 arcsec ; CE: -377.7 arcsec\n",
      "EL: 181.6 arcsec ; CE: -325.0 arcsec\n",
      "EL: 251.9 arcsec ; CE: -181.9 arcsec\n",
      "EL: 223.8 arcsec ; CE: 149.2 arcsec\n",
      "EL: 424.8 arcsec ; CE: 245.2 arcsec\n",
      "\n",
      "siderostat moves sequence: \n",
      "EL: 0.0 arcsec ; CE -30.0 arcsec ; image: False\n",
      "EL: -0.0 arcsec ; CE 30.0 arcsec ; image: True\n",
      "EL: 154.1 arcsec ; CE 274.3 arcsec ; image: True\n",
      "EL: 209.7 arcsec ; CE 72.1 arcsec ; image: True\n",
      "EL: 109.0 arcsec ; CE -574.2 arcsec ; image: True\n",
      "EL: -200.6 arcsec ; CE -149.9 arcsec ; image: True\n",
      "EL: -90.6 arcsec ; CE 52.7 arcsec ; image: True\n",
      "EL: 70.4 arcsec ; CE 143.1 arcsec ; image: True\n",
      "EL: -28.1 arcsec ; CE 331.0 arcsec ; image: True\n",
      "EL: 201.0 arcsec ; CE 96.0 arcsec ; image: True\n",
      "EL: -0.0 arcsec ; CE 30.0 arcsec ; image: False\n",
      "EL: 0.0 arcsec ; CE -30.0 arcsec ; image: True\n",
      "EL: -201.0 arcsec ; CE -96.0 arcsec ; image: True\n",
      "EL: 28.1 arcsec ; CE -331.0 arcsec ; image: True\n",
      "EL: -70.4 arcsec ; CE -143.1 arcsec ; image: True\n",
      "EL: 90.6 arcsec ; CE -82.7 arcsec ; image: False\n",
      "EL: 0.0 arcsec ; CE 30.0 arcsec ; image: True\n",
      "EL: 200.6 arcsec ; CE 149.9 arcsec ; image: True\n",
      "EL: -109.0 arcsec ; CE 604.2 arcsec ; image: False\n",
      "EL: -0.0 arcsec ; CE -30.0 arcsec ; image: True\n",
      "EL: -209.7 arcsec ; CE -72.1 arcsec ; image: True\n",
      "EL: -154.1 arcsec ; CE -274.3 arcsec ; image: True\n"
     ]
    }
   ],
   "source": [
    "movs_new2, slits_coord_new2 = G2UVcor2.compute_autocoll_moves_slits(slits, F1, hystcomp = True)"
   ]
  },
  {
   "cell_type": "code",
   "execution_count": null,
   "metadata": {
    "collapsed": true
   },
   "outputs": [],
   "source": []
  }
 ],
 "metadata": {
  "kernelspec": {
   "display_name": "Python 3.8.13 ('py38')",
   "language": "python",
   "name": "python3"
  },
  "language_info": {
   "codemirror_mode": {
    "name": "ipython",
    "version": 3
   },
   "file_extension": ".py",
   "mimetype": "text/x-python",
   "name": "python",
   "nbconvert_exporter": "python",
   "pygments_lexer": "ipython3",
   "version": "3.8.13"
  },
  "vscode": {
   "interpreter": {
    "hash": "6429251b47eee9d8b9b4d9852116ca976e0b69b141b5bab3b174d6f3c07282ea"
   }
  }
 },
 "nbformat": 4,
 "nbformat_minor": 2
}
