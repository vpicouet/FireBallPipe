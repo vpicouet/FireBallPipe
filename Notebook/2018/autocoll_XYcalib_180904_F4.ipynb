{
 "cells": [
  {
   "cell_type": "markdown",
   "metadata": {},
   "source": [
    "# UV-Guider alignement with source in autocoll\n",
    "##  Field 4"
   ]
  },
  {
   "cell_type": "code",
   "execution_count": 2,
   "metadata": {},
   "outputs": [],
   "source": [
    "%matplotlib inline\n",
    "\n",
    "from __future__ import division, print_function\n",
    "\n",
    "import sys\n",
    "sys.path.insert(1, '../../Calibration')\n",
    "sys.path.append( '../../FireBallPipe')\n",
    "import numpy as np\n",
    "from astropy.io import fits\n",
    "from astropy import wcs, coordinates\n",
    "from astropy import units as u\n",
    "from astropy.wcs.utils import proj_plane_pixel_scales\n",
    "from matplotlib import pyplot as plt\n",
    "from astropy.table import Table\n",
    "import matplotlib.patches as patches\n",
    "\n",
    "from guider2UV.guider2UV import Guider2UV, diff_skycoord\n",
    "\n",
    "from Calibration.mapping import Mapping"
   ]
  },
  {
   "cell_type": "code",
   "execution_count": 3,
   "metadata": {},
   "outputs": [],
   "source": [
    "cloudpath = '/home/dvibert/ownCloud/FIREBALL/'\n",
    "cloudpath = '/Users/Vincent/Nextcloud/LAM/FIREBALL/'\n"
   ]
  },
  {
   "cell_type": "markdown",
   "metadata": {},
   "source": [
    "## initialization from last xy calib"
   ]
  },
  {
   "cell_type": "code",
   "execution_count": 4,
   "metadata": {
    "scrolled": true
   },
   "outputs": [
    {
     "name": "stdout",
     "output_type": "stream",
     "text": [
      "FOV center angular position in guider <SkyCoord (SkyOffsetICRS: rotation=0.0 deg, origin=<ICRS Coordinate: (ra, dec) in deg\n",
      "    (250.39242605, 36.41307253)>): (lon, lat) in deg\n",
      "    [(0.18305925, 0.00754495)]>\n",
      "FOV center pixel position in guider [array([1366.30280082]), array([561.43593333])]\n",
      "\n",
      "Guider2UV object:\n",
      "    Local Field Projector: \n",
      "ScienceMaskProjector object:\n",
      "    LocalFrame: <SkyOffsetICRS Frame (rotation=-90.0 deg, origin=<ICRS Coordinate: (ra, dec) in deg\n",
      "    (36.9049, 0.65245)>)>\n",
      "    gamma: 1.0\n",
      "\n",
      "    Guider Field Projector: \n",
      "GuiderMaskProjector object:\n",
      "    LocalFrame: <SkyOffsetICRS Frame (rotation=0.0 deg, origin=<ICRS Coordinate: (ra, dec) in deg\n",
      "    (250.39242605, 36.41307253)>)>\n",
      "    wcs: WCS Keywords\n",
      "\n",
      "Number of WCS axes: 2\n",
      "CTYPE : 'RA---TAN-SIP'  'DEC--TAN-SIP'  \n",
      "CRVAL : 250.39242605  36.4130725262  \n",
      "CRPIX : 640.0  540.0  \n",
      "PC1_1 PC1_2  : 1.0  0.0  \n",
      "PC2_1 PC2_2  : 0.0  1.0  \n",
      "CDELT : 0.00024526131524219  0.00024414585789761  \n",
      "NAXIS : 0  0\n",
      "\n",
      "    mask_rotation: 32.27326849913995 arcmin\n",
      "    FOV center in guider: [1366.30280082]x[561.43593333] pix\n",
      "\n"
     ]
    }
   ],
   "source": [
    "G2UV = Guider2UV(filename=cloudpath + 'TestsFTS2018-Flight/E2E-AIT-Flight/XYCalibration/F4_180826.pkl')\n",
    "print(G2UV)"
   ]
  },
  {
   "cell_type": "code",
   "execution_count": 5,
   "metadata": {
    "scrolled": true
   },
   "outputs": [],
   "source": [
    "target_filename = '/Users/Vincent/Github/FireBallPipe/Calibration/Targets/targets_F4.txt'\n",
    "F4 = Table.read(target_filename, format='ascii')"
   ]
  },
  {
   "cell_type": "markdown",
   "metadata": {},
   "source": [
    "## Diffuse UV image\n",
    "\n",
    "load new mapping"
   ]
  },
  {
   "cell_type": "code",
   "execution_count": 6,
   "metadata": {},
   "outputs": [],
   "source": [
    "mask_det_map_file = cloudpath + 'TestsFTS2018-Flight/E2E-AIT-Flight/XYCalibration/Detector_Mask_mappings/mapping-mask-det-180823-F4.pkl'\n",
    "mask_det_map = Mapping(mask_det_map_file)\n",
    "G2UV.set_detector_mapping(mask_det_map, offsets = [12.73 + 1., 1.57 + 1.])\n"
   ]
  },
  {
   "cell_type": "markdown",
   "metadata": {},
   "source": [
    "## Scan sequence\n",
    "\n",
    "GC - 31 - 40 - 44 - 33 - 12 - 6 - 8 - 13"
   ]
  },
  {
   "cell_type": "code",
   "execution_count": 7,
   "metadata": {},
   "outputs": [
    {
     "name": "stdout",
     "output_type": "stream",
     "text": [
      "slit position in mm on mask: [ 4.853195 -3.812219]\n",
      "slit position in mm on mask: [ 8.811543 -3.028793]\n",
      "slit position in mm on mask: [10.563193  2.136243]\n",
      "slit position in mm on mask: [5.386155 4.42581 ]\n",
      "slit position in mm on mask: [-5.638908  2.803272]\n",
      "slit position in mm on mask: [-8.51572   4.436704]\n",
      "slit position in mm on mask: [-7.570966  1.9379  ]\n",
      "slit position in mm on mask: [-5.303522 -0.138687]\n",
      "\n",
      "targets local coords in siderostat local frame:\n",
      "EL: 168.3 arcsec ; CE: 189.2 arcsec\n",
      "EL: 203.1 arcsec ; CE: 353.1 arcsec\n",
      "EL: 423.3 arcsec ; CE: 423.8 arcsec\n",
      "EL: 518.3 arcsec ; CE: 208.1 arcsec\n",
      "EL: 445.0 arcsec ; CE: -247.8 arcsec\n",
      "EL: 513.4 arcsec ; CE: -367.8 arcsec\n",
      "EL: 407.5 arcsec ; CE: -327.5 arcsec\n",
      "EL: 320.3 arcsec ; CE: -232.7 arcsec\n",
      "\n",
      "siderostat moves sequence: \n",
      "EL: 0.0 arcsec ; CE -30.0 arcsec ; image: False\n",
      "EL: -0.0 arcsec ; CE 30.0 arcsec ; image: True\n",
      "EL: 168.3 arcsec ; CE 189.2 arcsec ; image: True\n",
      "EL: 34.7 arcsec ; CE 163.9 arcsec ; image: True\n",
      "EL: 220.2 arcsec ; CE 70.8 arcsec ; image: True\n",
      "EL: 95.1 arcsec ; CE -215.7 arcsec ; image: True\n",
      "EL: -73.3 arcsec ; CE -455.9 arcsec ; image: True\n",
      "EL: 68.3 arcsec ; CE -120.0 arcsec ; image: True\n",
      "EL: -105.8 arcsec ; CE 40.3 arcsec ; image: True\n",
      "EL: -87.3 arcsec ; CE 94.8 arcsec ; image: True\n",
      "EL: -0.0 arcsec ; CE 30.0 arcsec ; image: False\n",
      "EL: 0.0 arcsec ; CE -30.0 arcsec ; image: True\n",
      "EL: 87.3 arcsec ; CE -94.8 arcsec ; image: True\n",
      "EL: 105.8 arcsec ; CE -70.3 arcsec ; image: False\n",
      "EL: 0.0 arcsec ; CE 30.0 arcsec ; image: True\n",
      "EL: -68.3 arcsec ; CE 120.0 arcsec ; image: True\n",
      "EL: 73.3 arcsec ; CE 455.9 arcsec ; image: True\n",
      "EL: -95.1 arcsec ; CE 245.7 arcsec ; image: False\n",
      "EL: -0.0 arcsec ; CE -30.0 arcsec ; image: True\n",
      "EL: -220.2 arcsec ; CE -70.8 arcsec ; image: True\n",
      "EL: -34.7 arcsec ; CE -163.9 arcsec ; image: True\n",
      "EL: -168.3 arcsec ; CE -189.2 arcsec ; image: True\n"
     ]
    }
   ],
   "source": [
    "slits = ['31', '40', '44', '33', '12', '6', '8', '13'] \n",
    "# ici on balaye tout le champs\n",
    " \n",
    "movs, slits_coord = G2UV.compute_autocoll_moves_slits(slits, F4, hystcomp = True)\n",
    "#donner les siderostat moves à Johan"
   ]
  },
  {
   "cell_type": "code",
   "execution_count": 8,
   "metadata": {},
   "outputs": [
    {
     "data": {
      "text/plain": [
       "array([ 4.09272616e-10, -2.04636308e-10])"
      ]
     },
     "execution_count": 8,
     "metadata": {},
     "output_type": "execute_result"
    }
   ],
   "source": [
    "movs.sum(axis=0)*3600"
   ]
  },
  {
   "cell_type": "markdown",
   "metadata": {},
   "source": [
    "observed slits position :"
   ]
  },
  {
   "cell_type": "code",
   "execution_count": 9,
   "metadata": {},
   "outputs": [
    {
     "data": {
      "text/plain": [
       "array([[1949.3159009 ,  585.48326732],\n",
       "       [1889.08021255,  280.63274907],\n",
       "       [1537.11743484,  151.33582687],\n",
       "       [1393.47052805,  548.72769955],\n",
       "       [1515.17137437, 1391.33183014],\n",
       "       [1404.33980027, 1617.006362  ],\n",
       "       [1573.20961616, 1543.30619621],\n",
       "       [1713.61565248, 1366.89630183],\n",
       "       [1714.02190371, 1362.65367161],\n",
       "       [1573.37446663, 1540.16005209],\n",
       "       [1404.15691381, 1619.53755111],\n",
       "       [1515.35044943, 1395.87784645],\n",
       "       [1393.86272984,  553.35903851],\n",
       "       [1536.87479529,  146.76319868],\n",
       "       [1888.62954955,  276.27304535],\n",
       "       [1949.00447949,  579.76363422]])"
      ]
     },
     "execution_count": 9,
     "metadata": {},
     "output_type": "execute_result"
    }
   ],
   "source": [
    "slits_coord_obs_det = np.array([\n",
    "       [1949.3159009 ,  585.48326732],\n",
    "       [1889.08021255,  280.63274907],\n",
    "       [1537.11743484,  151.33582687],\n",
    "       [1393.47052805,  548.72769955],\n",
    "       [1515.17137437, 1391.33183014],\n",
    "       [1404.33980027, 1617.006362  ],\n",
    "       [1573.20961616, 1543.30619621],\n",
    "       [1713.61565248, 1366.89630183],\n",
    "#return\n",
    "       [1714.02190371, 1362.65367161],\n",
    "       [1573.37446663, 1540.16005209],\n",
    "       [1404.15691381, 1619.53755111],\n",
    "       [1515.35044943, 1395.87784645],\n",
    "       [1393.86272984,  553.35903851],\n",
    "       [1536.87479529,  146.76319868],\n",
    "       [1888.62954955,  276.27304535],\n",
    "       [1949.00447949,  579.76363422]])\n",
    "\n",
    "\n",
    "slits_coord_obs_det"
   ]
  },
  {
   "cell_type": "code",
   "execution_count": 10,
   "metadata": {},
   "outputs": [
    {
     "data": {
      "text/plain": [
       "(16, 2)"
      ]
     },
     "execution_count": 10,
     "metadata": {},
     "output_type": "execute_result"
    }
   ],
   "source": [
    "slits_coord_obs_det.shape"
   ]
  },
  {
   "cell_type": "code",
   "execution_count": 11,
   "metadata": {},
   "outputs": [
    {
     "name": "stdout",
     "output_type": "stream",
     "text": [
      "wave:  0.20255\n"
     ]
    }
   ],
   "source": [
    "valid = np.isfinite(slits_coord_obs_det[:,0])\n",
    "#valid = np.array([True]*8 + [False]*8)\n",
    "obs_wave = G2UV.mask_det_map.w[0]\n",
    "print(\"wave: \", obs_wave)\n",
    "\n",
    "slits_coord_valid = [slits_coord[i] for i in np.nonzero(valid)[0]]\n",
    "slits_valid = np.array(slits + slits[::-1])[valid]"
   ]
  },
  {
   "cell_type": "code",
   "execution_count": 12,
   "metadata": {},
   "outputs": [
    {
     "data": {
      "text/plain": [
       "[<SkyCoord (SkyOffsetICRS: rotation=0.0 deg, origin=<ICRS Coordinate: (ra, dec) in deg\n",
       "     (250.39242605, 36.41307253)>): (lon, lat) in deg\n",
       "     [(0.09388028, -0.10820609)]>,\n",
       " <SkyCoord (SkyOffsetICRS: rotation=0.0 deg, origin=<ICRS Coordinate: (ra, dec) in deg\n",
       "     (250.39242605, 36.41307253)>): (lon, lat) in deg\n",
       "     [(0.11325723, -0.20190289)]>,\n",
       " <SkyCoord (SkyOffsetICRS: rotation=0.0 deg, origin=<ICRS Coordinate: (ra, dec) in deg\n",
       "     (250.39242605, 36.41307253)>): (lon, lat) in deg\n",
       "     [(0.23604675, -0.24236654)]>,\n",
       " <SkyCoord (SkyOffsetICRS: rotation=0.0 deg, origin=<ICRS Coordinate: (ra, dec) in deg\n",
       "     (250.39242605, 36.41307253)>): (lon, lat) in deg\n",
       "     [(0.28905817, -0.11901337)]>,\n",
       " <SkyCoord (SkyOffsetICRS: rotation=0.0 deg, origin=<ICRS Coordinate: (ra, dec) in deg\n",
       "     (250.39242605, 36.41307253)>): (lon, lat) in deg\n",
       "     [(0.2481774, 0.14167736)]>,\n",
       " <SkyCoord (SkyOffsetICRS: rotation=0.0 deg, origin=<ICRS Coordinate: (ra, dec) in deg\n",
       "     (250.39242605, 36.41307253)>): (lon, lat) in deg\n",
       "     [(0.28629343, 0.21031337)]>,\n",
       " <SkyCoord (SkyOffsetICRS: rotation=0.0 deg, origin=<ICRS Coordinate: (ra, dec) in deg\n",
       "     (250.39242605, 36.41307253)>): (lon, lat) in deg\n",
       "     [(0.22727327, 0.18728721)]>,\n",
       " <SkyCoord (SkyOffsetICRS: rotation=0.0 deg, origin=<ICRS Coordinate: (ra, dec) in deg\n",
       "     (250.39242605, 36.41307253)>): (lon, lat) in deg\n",
       "     [(0.17859758, 0.13306095)]>,\n",
       " <SkyCoord (SkyOffsetICRS: rotation=0.0 deg, origin=<ICRS Coordinate: (ra, dec) in deg\n",
       "     (250.39242605, 36.41307253)>): (lon, lat) in deg\n",
       "     [(0.17859758, 0.13306095)]>,\n",
       " <SkyCoord (SkyOffsetICRS: rotation=0.0 deg, origin=<ICRS Coordinate: (ra, dec) in deg\n",
       "     (250.39242605, 36.41307253)>): (lon, lat) in deg\n",
       "     [(0.22727327, 0.18728721)]>,\n",
       " <SkyCoord (SkyOffsetICRS: rotation=0.0 deg, origin=<ICRS Coordinate: (ra, dec) in deg\n",
       "     (250.39242605, 36.41307253)>): (lon, lat) in deg\n",
       "     [(0.28629343, 0.21031337)]>,\n",
       " <SkyCoord (SkyOffsetICRS: rotation=0.0 deg, origin=<ICRS Coordinate: (ra, dec) in deg\n",
       "     (250.39242605, 36.41307253)>): (lon, lat) in deg\n",
       "     [(0.2481774, 0.14167736)]>,\n",
       " <SkyCoord (SkyOffsetICRS: rotation=0.0 deg, origin=<ICRS Coordinate: (ra, dec) in deg\n",
       "     (250.39242605, 36.41307253)>): (lon, lat) in deg\n",
       "     [(0.28905817, -0.11901337)]>,\n",
       " <SkyCoord (SkyOffsetICRS: rotation=0.0 deg, origin=<ICRS Coordinate: (ra, dec) in deg\n",
       "     (250.39242605, 36.41307253)>): (lon, lat) in deg\n",
       "     [(0.23604675, -0.24236654)]>,\n",
       " <SkyCoord (SkyOffsetICRS: rotation=0.0 deg, origin=<ICRS Coordinate: (ra, dec) in deg\n",
       "     (250.39242605, 36.41307253)>): (lon, lat) in deg\n",
       "     [(0.11325723, -0.20190289)]>,\n",
       " <SkyCoord (SkyOffsetICRS: rotation=0.0 deg, origin=<ICRS Coordinate: (ra, dec) in deg\n",
       "     (250.39242605, 36.41307253)>): (lon, lat) in deg\n",
       "     [(0.09388028, -0.10820609)]>]"
      ]
     },
     "execution_count": 12,
     "metadata": {},
     "output_type": "execute_result"
    }
   ],
   "source": [
    "slits_coord_valid"
   ]
  },
  {
   "cell_type": "code",
   "execution_count": 15,
   "metadata": {},
   "outputs": [
    {
     "data": {
      "text/plain": [
       "[<matplotlib.lines.Line2D at 0x7fcbf0d5f4f0>]"
      ]
     },
     "execution_count": 15,
     "metadata": {},
     "output_type": "execute_result"
    },
    {
     "data": {
      "image/png": "[encoded data removed]",
      "text/plain": [
       "<Figure size 432x288 with 2 Axes>"
      ]
     },
     "metadata": {
      "needs_background": "light"
     },
     "output_type": "display_data"
    }
   ],
   "source": [
    "# analyser histeresis\n",
    "mid  = len(slits_coord_obs_det)//2\n",
    "pair_diff = slits_coord_obs_det[:mid] - slits_coord_obs_det[::-1][:mid]\n",
    "pair_diff\n",
    "fig, (ax0,ax1) = plt.subplots(1,2)\n",
    "# ax0.subplot('120')\n",
    "ax0.plot(pair_diff[:,0],'*')\n",
    "ax0.plot(np.abs(pair_diff[:,0]),'-')\n",
    "# plt.title(\"El pair diff\")\n",
    "# plt.ylabel(\"El arcsec\")\n",
    "# plt.subplot('121')\n",
    "ax1.plot(pair_diff[:,1],'*')\n",
    "ax1.plot(np.abs(pair_diff[:,1]),'-')\n",
    "# plt.title(\"Ce pair diff\")\n",
    "# plt.ylabel(\"Ce arcsec\")\n"
   ]
  },
  {
   "cell_type": "code",
   "execution_count": 16,
   "metadata": {},
   "outputs": [],
   "source": [
    "slits_coord_obs = G2UV.detector2guider(slits_coord_obs_det, wave=obs_wave, angle=True  )\n"
   ]
  },
  {
   "cell_type": "code",
   "execution_count": 21,
   "metadata": {},
   "outputs": [
    {
     "name": "stdout",
     "output_type": "stream",
     "text": [
      "Fitting rotation, translation and magnification\n",
      "gamma: 1.001987005843998\n",
      "theta: 17.519586882347976 arcmin\n",
      "dx: -5.615138174416995 arcsec\n",
      "dy: 5.366774959064225 arcsec\n",
      "variances: [3.70672132e-04 1.27427693e+00 3.74614573e-01 3.74614573e-01]\n",
      "\n",
      "residuals in arcsec: [[-1.68433349  5.38995582]\n",
      " [-0.46739108  2.69934178]\n",
      " [ 1.21014636  1.60621335]\n",
      " [ 1.27522648 -2.07277262]\n",
      " [-0.04355511 -4.44682226]\n",
      " [-0.03725072 -0.51453834]\n",
      " [ 0.80603199  1.39747473]\n",
      " [-0.93078052  1.67528592]\n",
      " [-1.45460975 -3.02896277]\n",
      " [ 0.60676392 -2.11585494]\n",
      " [ 0.16884216  2.29084544]\n",
      " [-0.2699715   0.61384827]\n",
      " [ 0.8988432   3.08242029]\n",
      " [ 1.35647709 -3.45794099]\n",
      " [-0.02609162 -2.16989579]\n",
      " [-1.4083474  -0.94859791]]\n",
      "max residual in EL,CE 1.7, 5.4 arcsec\n",
      "mean residual in EL,CE 1.0, 2.7 arcsec\n"
     ]
    },
    {
     "data": {
      "image/png": "[encoded data removed]",
      "text/plain": [
       "<Figure size 1152x576 with 2 Axes>"
      ]
     },
     "metadata": {},
     "output_type": "display_data"
    }
   ],
   "source": [
    "weight = np.array( [1.]*16  + [1./(1. + 1e-1)]*16)\n",
    "\n",
    "G2UVcor = G2UV.update_model(slits_coord_valid, slits_coord_obs, labels=slits_valid, plot=True)"
   ]
  },
  {
   "cell_type": "code",
   "execution_count": 25,
   "metadata": {},
   "outputs": [
    {
     "name": "stdout",
     "output_type": "stream",
     "text": [
      "Dumping to /home/dvibert/ownCloud/FIREBALL/TestsFTS2018-Flight/E2E-AIT-Flight/XYCalibration/F4_180904.pkl\n"
     ]
    }
   ],
   "source": [
    "#G2UVcor.save(filename=cloudpath + 'TestsFTS2018-Flight/E2E-AIT-Flight/XYCalibration/F4_180904.pkl')"
   ]
  },
  {
   "cell_type": "code",
   "execution_count": 22,
   "metadata": {},
   "outputs": [
    {
     "name": "stdout",
     "output_type": "stream",
     "text": [
      "slit position in mm on mask: [ 4.853195 -3.812219]\n",
      "slit position in mm on mask: [ 8.811543 -3.028793]\n",
      "slit position in mm on mask: [10.563193  2.136243]\n",
      "slit position in mm on mask: [5.386155 4.42581 ]\n",
      "slit position in mm on mask: [-5.638908  2.803272]\n",
      "slit position in mm on mask: [-8.51572   4.436704]\n",
      "slit position in mm on mask: [-7.570966  1.9379  ]\n",
      "slit position in mm on mask: [-5.303522 -0.138687]\n",
      "\n",
      "targets local coords in siderostat local frame:\n",
      "EL: 166.9 arcsec ; CE: 186.2 arcsec\n",
      "EL: 202.5 arcsec ; CE: 350.2 arcsec\n",
      "EL: 423.5 arcsec ; CE: 420.0 arcsec\n",
      "EL: 517.7 arcsec ; CE: 203.4 arcsec\n",
      "EL: 441.8 arcsec ; CE: -253.1 arcsec\n",
      "EL: 509.7 arcsec ; CE: -373.7 arcsec\n",
      "EL: 403.8 arcsec ; CE: -332.8 arcsec\n",
      "EL: 316.9 arcsec ; CE: -237.4 arcsec\n",
      "\n",
      "siderostat moves sequence: \n",
      "EL: 0.0 arcsec ; CE -30.0 arcsec ; image: False\n",
      "EL: -0.0 arcsec ; CE 30.0 arcsec ; image: True\n",
      "EL: 166.9 arcsec ; CE 186.2 arcsec ; image: True\n",
      "EL: 35.7 arcsec ; CE 164.0 arcsec ; image: True\n",
      "EL: 221.0 arcsec ; CE 69.8 arcsec ; image: True\n",
      "EL: 94.1 arcsec ; CE -216.6 arcsec ; image: True\n",
      "EL: -75.8 arcsec ; CE -456.5 arcsec ; image: True\n",
      "EL: 67.9 arcsec ; CE -120.6 arcsec ; image: True\n",
      "EL: -105.8 arcsec ; CE 40.9 arcsec ; image: True\n",
      "EL: -87.0 arcsec ; CE 95.5 arcsec ; image: True\n",
      "EL: -0.0 arcsec ; CE 30.0 arcsec ; image: False\n",
      "EL: 0.0 arcsec ; CE -30.0 arcsec ; image: True\n",
      "EL: 87.0 arcsec ; CE -95.5 arcsec ; image: True\n",
      "EL: 105.8 arcsec ; CE -70.9 arcsec ; image: False\n",
      "EL: 0.0 arcsec ; CE 30.0 arcsec ; image: True\n",
      "EL: -67.9 arcsec ; CE 120.6 arcsec ; image: True\n",
      "EL: 75.8 arcsec ; CE 456.5 arcsec ; image: True\n",
      "EL: -94.1 arcsec ; CE 246.6 arcsec ; image: False\n",
      "EL: -0.0 arcsec ; CE -30.0 arcsec ; image: True\n",
      "EL: -221.0 arcsec ; CE -69.8 arcsec ; image: True\n",
      "EL: -35.7 arcsec ; CE -164.0 arcsec ; image: True\n",
      "EL: -166.9 arcsec ; CE -186.2 arcsec ; image: True\n"
     ]
    }
   ],
   "source": [
    "movs_new, slits_coord_new = G2UVcor.compute_autocoll_moves_slits(slits, F4, hystcomp = True)"
   ]
  },
  {
   "cell_type": "markdown",
   "metadata": {},
   "source": [
    "## Star sequence\n",
    "\n",
    "gc - s18 - s29 - s34 - s14 "
   ]
  },
  {
   "cell_type": "code",
   "execution_count": 24,
   "metadata": {},
   "outputs": [
    {
     "name": "stdout",
     "output_type": "stream",
     "text": [
      "star position Ra/Dec:  <SkyCoord (ICRS): (ra, dec) in deg\n",
      "    [(36.987137, 0.402799)]>\n",
      "star position Ra/Dec:  <SkyCoord (ICRS): (ra, dec) in deg\n",
      "    [(37.023638, 0.390844)]>\n",
      "star position Ra/Dec:  <SkyCoord (ICRS): (ra, dec) in deg\n",
      "    [(36.877561, 0.53311)]>\n",
      "star position Ra/Dec:  <SkyCoord (ICRS): (ra, dec) in deg\n",
      "    [(36.867454, 0.492628)]>\n",
      "\n",
      "targets local coords in siderostat local frame:\n",
      "EL: -119.5 arcsec ; CE: 132.7 arcsec\n",
      "EL: -140.0 arcsec ; CE: 196.8 arcsec\n",
      "EL: 111.3 arcsec ; CE: -62.2 arcsec\n",
      "EL: 38.5 arcsec ; CE: -78.9 arcsec\n",
      "\n",
      "siderostat moves sequence: \n",
      "EL: 0.0 arcsec ; CE -30.0 arcsec ; image: False\n",
      "EL: -0.0 arcsec ; CE 30.0 arcsec ; image: True\n",
      "EL: -119.5 arcsec ; CE 132.7 arcsec ; image: True\n",
      "EL: -20.5 arcsec ; CE 64.1 arcsec ; image: True\n",
      "EL: 251.3 arcsec ; CE -259.1 arcsec ; image: True\n",
      "EL: -72.9 arcsec ; CE -16.6 arcsec ; image: True\n",
      "EL: 0.0 arcsec ; CE -30.0 arcsec ; image: False\n",
      "EL: -0.0 arcsec ; CE 30.0 arcsec ; image: True\n",
      "EL: 72.9 arcsec ; CE 16.6 arcsec ; image: True\n",
      "EL: -251.3 arcsec ; CE 289.1 arcsec ; image: False\n",
      "EL: -0.0 arcsec ; CE -30.0 arcsec ; image: True\n",
      "EL: 20.5 arcsec ; CE -64.1 arcsec ; image: True\n",
      "EL: 119.5 arcsec ; CE -132.7 arcsec ; image: True\n"
     ]
    }
   ],
   "source": [
    "star_target_path = cloudpath + 'Target_selection/GuidingStars/'\n",
    "\n",
    "F4_stars = Table.read(star_target_path + \"F4_guidingstars.fits\", format='fits')\n",
    "\n",
    "stars = [29, 34, 18, 14]\n",
    "\n",
    "star_movs, stars_coord = G2UVcor.compute_autocoll_move_stars(stars, F4_stars, hystcomp = True)\n"
   ]
  },
  {
   "cell_type": "code",
   "execution_count": null,
   "metadata": {},
   "outputs": [],
   "source": [
    "stars_coord"
   ]
  },
  {
   "cell_type": "markdown",
   "metadata": {},
   "source": [
    "------------------------------------------------------"
   ]
  }
 ],
 "metadata": {
  "kernelspec": {
   "display_name": "Python 3.8.13 ('py38')",
   "language": "python",
   "name": "python3"
  },
  "language_info": {
   "codemirror_mode": {
    "name": "ipython",
    "version": 3
   },
   "file_extension": ".py",
   "mimetype": "text/x-python",
   "name": "python",
   "nbconvert_exporter": "python",
   "pygments_lexer": "ipython3",
   "version": "3.8.13"
  },
  "vscode": {
   "interpreter": {
    "hash": "6429251b47eee9d8b9b4d9852116ca976e0b69b141b5bab3b174d6f3c07282ea"
   }
  }
 },
 "nbformat": 4,
 "nbformat_minor": 2
}
