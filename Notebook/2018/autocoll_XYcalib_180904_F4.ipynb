{
 "cells": [
  {
   "cell_type": "markdown",
   "metadata": {},
   "source": [
    "# UV-Guider alignement with source in autocoll\n",
    "##  Field 4"
   ]
  },
  {
   "cell_type": "code",
   "execution_count": 1,
   "metadata": {},
   "outputs": [
    {
     "name": "stdout",
     "output_type": "stream",
     "text": [
      "/Users/Vincent/Github/FireBallPipe\n"
     ]
    }
   ],
   "source": [
    "cd ../.."
   ]
  },
  {
   "cell_type": "code",
   "execution_count": 3,
   "metadata": {},
   "outputs": [],
   "source": [
    "# %matplotlib widget\n",
    "%load_ext autoreload\n",
    "%autoreload 2\n",
    "\n",
    "import sys\n",
    "import numpy as np\n",
    "from astropy.io import fits\n",
    "from astropy import wcs, coordinates\n",
    "from astropy import units as u\n",
    "from astropy.wcs.utils import proj_plane_pixel_scales\n",
    "from matplotlib import pyplot as plt\n",
    "from astropy.table import Table, vstack \n",
    "import matplotlib.patches as patches\n",
    "import unittest\n",
    "from mpl_interactions import heatmap_slicer\n",
    "import pandas as pd\n",
    "import datetime \n",
    "# os.chdir(os.path.dirname(os.path.realpath(__file__)))\n",
    "sys.path.insert(1, './Calibration')\n",
    "from guider2UV.guider2UV import Guider2UV, diff_skycoord, fit_model, plot_fit\n",
    "from Calibration.mapping import Mapping"
   ]
  },
  {
   "cell_type": "markdown",
   "metadata": {},
   "source": [
    "## initialization from last xy calib"
   ]
  },
  {
   "cell_type": "code",
   "execution_count": 33,
   "metadata": {
    "scrolled": true
   },
   "outputs": [
    {
     "name": "stdout",
     "output_type": "stream",
     "text": [
      "FOV center angular position in guider <SkyCoord (SkyOffsetICRS: rotation=0.0 deg, origin=<ICRS Coordinate: (ra, dec) in deg\n",
      "    (250.39242605, 36.41307253)>): (lon, lat) in deg\n",
      "    [(0.18305925, 0.00754495)]>\n",
      "FOV center pixel position in guider [array([1366.30280082]), array([561.43593333])]\n",
      "\n",
      "Guider2UV object:\n",
      "    Local Field Projector: \n",
      "ScienceMaskProjector object:\n",
      "    LocalFrame: <SkyOffsetICRS Frame (rotation=-90.0 deg, origin=<ICRS Coordinate: (ra, dec) in deg\n",
      "    (36.9049, 0.65245)>)>\n",
      "    gamma: 1.0\n",
      "\n",
      "    Guider Field Projector: \n",
      "GuiderMaskProjector object:\n",
      "    LocalFrame: <SkyOffsetICRS Frame (rotation=0.0 deg, origin=<ICRS Coordinate: (ra, dec) in deg\n",
      "    (250.39242605, 36.41307253)>)>\n",
      "    wcs: WCS Keywords\n",
      "\n",
      "Number of WCS axes: 2\n",
      "CTYPE : 'RA---TAN-SIP'  'DEC--TAN-SIP'  \n",
      "CRVAL : 250.39242605  36.4130725262  \n",
      "CRPIX : 640.0  540.0  \n",
      "PC1_1 PC1_2  : 1.0  0.0  \n",
      "PC2_1 PC2_2  : 0.0  1.0  \n",
      "CDELT : 0.00024526131524219  0.00024414585789761  \n",
      "NAXIS : 0  0\n",
      "\n",
      "    mask_rotation: 32.27326849913995 arcmin\n",
      "    FOV center in guider: [1366.30280082]x[561.43593333] pix\n",
      "\n"
     ]
    }
   ],
   "source": [
    "G2UV = Guider2UV(filename='Notebook/2018/data_needed_to_run_notebooks/F4_180826.pkl')\n",
    "print(G2UV)"
   ]
  },
  {
   "cell_type": "code",
   "execution_count": 31,
   "metadata": {
    "scrolled": true
   },
   "outputs": [],
   "source": [
    "target_filename = 'Calibration/Targets/targets_F4.txt'\n",
    "F4 = Table.read(target_filename, format='ascii')"
   ]
  },
  {
   "cell_type": "markdown",
   "metadata": {},
   "source": [
    "## Diffuse UV image\n",
    "\n",
    "load new mapping"
   ]
  },
  {
   "cell_type": "code",
   "execution_count": 32,
   "metadata": {},
   "outputs": [],
   "source": [
    "mask_det_map_file = 'Notebook/2018/data_needed_to_run_notebooks/mapping-mask-det-180823-F4.pkl'\n",
    "mask_det_map = Mapping(mask_det_map_file)\n",
    "G2UV.set_detector_mapping(mask_det_map, offsets = [12.73 + 1., 1.57 + 1.])\n"
   ]
  },
  {
   "cell_type": "markdown",
   "metadata": {},
   "source": [
    "## Scan sequence\n",
    "\n",
    "GC - 31 - 40 - 44 - 33 - 12 - 6 - 8 - 13"
   ]
  },
  {
   "cell_type": "code",
   "execution_count": 10,
   "metadata": {},
   "outputs": [
    {
     "data": {
      "image/png": "[encoded data removed]",
      "text/plain": [
       "<Figure size 432x288 with 1 Axes>"
      ]
     },
     "metadata": {
      "needs_background": "light"
     },
     "output_type": "display_data"
    },
    {
     "data": {
      "text/html": [
       "<div><i>Table length=16</i>\n",
       "<table id=\"table140450847354160\" class=\"table-striped table-bordered table-condensed\">\n",
       "<thead><tr><th>Internal-count</th><th>xmm</th><th>ymm</th><th>RA</th><th>DEC</th><th>ra_diff</th><th>dec_diff</th><th>angular_distance</th></tr></thead>\n",
       "<thead><tr><th>str2</th><th>float64</th><th>float64</th><th>float64</th><th>float64</th><th>float64</th><th>float64</th><th>float64</th></tr></thead>\n",
       "<tr><td>31</td><td>4.853195</td><td>-3.812219</td><td>37.018761</td><td>0.56313</td><td>-335.025017828955</td><td>-66.26519999999982</td><td>341.5155037510473</td></tr>\n",
       "<tr><td>40</td><td>8.811543</td><td>-3.028793</td><td>37.111828</td><td>0.581537</td><td>-148.53914863332398</td><td>-434.8008000000002</td><td>459.4731922075029</td></tr>\n",
       "<tr><td>44</td><td>10.563193</td><td>2.136243</td><td>37.153091</td><td>0.702315</td><td>438.42906064049</td><td>-193.89600000000007</td><td>479.3909678228225</td></tr>\n",
       "<tr><td>33</td><td>5.386155</td><td>4.42581</td><td>37.031296</td><td>0.756175</td><td>931.6708546945574</td><td>136.3644</td><td>941.597488885058</td></tr>\n",
       "<tr><td>12</td><td>-5.638908</td><td>2.803272</td><td>36.772476</td><td>0.718296</td><td>243.67205013159796</td><td>-138.16079999999968</td><td>280.11510968167335</td></tr>\n",
       "<tr><td>6</td><td>-8.51572</td><td>4.436704</td><td>36.704784</td><td>0.756674</td><td>-80.20820491944657</td><td>210.77999999999997</td><td>225.52508626846796</td></tr>\n",
       "<tr><td>8</td><td>-7.570966</td><td>1.9379</td><td>36.727066</td><td>0.698124</td><td>-191.89095471158979</td><td>182.30039999999997</td><td>264.6801359004589</td></tr>\n",
       "<tr><td>13</td><td>-5.303522</td><td>-0.138687</td><td>36.780373</td><td>0.647485</td><td>0.0</td><td>0.0</td><td>0.0</td></tr>\n",
       "<tr><td>13</td><td>-5.303522</td><td>-0.138687</td><td>36.780373</td><td>0.647485</td><td>191.89294632706148</td><td>-182.30039999999997</td><td>264.6815798090991</td></tr>\n",
       "<tr><td>8</td><td>-7.570966</td><td>1.9379</td><td>36.727066</td><td>0.698124</td><td>80.20924555658176</td><td>-210.77999999999997</td><td>225.52545637412203</td></tr>\n",
       "<tr><td>6</td><td>-8.51572</td><td>4.436704</td><td>36.704784</td><td>0.756674</td><td>-243.66994917001384</td><td>138.16079999999968</td><td>280.1132820577365</td></tr>\n",
       "<tr><td>12</td><td>-5.638908</td><td>2.803272</td><td>36.772476</td><td>0.718296</td><td>-931.6787805805603</td><td>-136.3644</td><td>941.6053312144318</td></tr>\n",
       "<tr><td>33</td><td>5.386155</td><td>4.42581</td><td>37.031296</td><td>0.756175</td><td>-438.4238148038369</td><td>193.89600000000007</td><td>479.38617022516314</td></tr>\n",
       "<tr><td>44</td><td>10.563193</td><td>2.136243</td><td>37.153091</td><td>0.702315</td><td>148.5356404549282</td><td>434.8008000000002</td><td>459.4720580905828</td></tr>\n",
       "<tr><td>40</td><td>8.811543</td><td>-3.028793</td><td>37.111828</td><td>0.581537</td><td>335.02394265705476</td><td>66.26519999999982</td><td>341.51444901280166</td></tr>\n",
       "<tr><td>31</td><td>4.853195</td><td>-3.812219</td><td>37.018761</td><td>0.56313</td><td>0.0</td><td>0.0</td><td>0.0</td></tr>\n",
       "</table></div>"
      ],
      "text/plain": [
       "<Table length=16>\n",
       "Internal-count    xmm       ymm    ...       dec_diff       angular_distance \n",
       "     str2       float64   float64  ...       float64            float64      \n",
       "-------------- --------- --------- ... ------------------- ------------------\n",
       "            31  4.853195 -3.812219 ...  -66.26519999999982  341.5155037510473\n",
       "            40  8.811543 -3.028793 ...  -434.8008000000002  459.4731922075029\n",
       "            44 10.563193  2.136243 ... -193.89600000000007  479.3909678228225\n",
       "            33  5.386155   4.42581 ...            136.3644   941.597488885058\n",
       "            12 -5.638908  2.803272 ... -138.16079999999968 280.11510968167335\n",
       "             6  -8.51572  4.436704 ...  210.77999999999997 225.52508626846796\n",
       "             8 -7.570966    1.9379 ...  182.30039999999997  264.6801359004589\n",
       "            13 -5.303522 -0.138687 ...                 0.0                0.0\n",
       "            13 -5.303522 -0.138687 ... -182.30039999999997  264.6815798090991\n",
       "             8 -7.570966    1.9379 ... -210.77999999999997 225.52545637412203\n",
       "             6  -8.51572  4.436704 ...  138.16079999999968  280.1132820577365\n",
       "            12 -5.638908  2.803272 ...           -136.3644  941.6053312144318\n",
       "            33  5.386155   4.42581 ...  193.89600000000007 479.38617022516314\n",
       "            44 10.563193  2.136243 ...   434.8008000000002  459.4720580905828\n",
       "            40  8.811543 -3.028793 ...   66.26519999999982 341.51444901280166\n",
       "            31  4.853195 -3.812219 ...                 0.0                0.0"
      ]
     },
     "execution_count": 10,
     "metadata": {},
     "output_type": "execute_result"
    }
   ],
   "source": [
    "slits = ['31', '40', '44', '33', '12', '6', '8', '13'] \n",
    "F1p = F1.to_pandas()\n",
    "from functools import reduce\n",
    "import warnings\n",
    "warnings.simplefilter(action='ignore', category=FutureWarning)\n",
    "\n",
    "# selected_slits = F1[mask.values]['Internal-count',\"x_mm\",\"y_mm\",\"ra\",\"dec\"]\n",
    "selected_slits = Table.from_pandas((reduce(pd.DataFrame.append, map(lambda i: F1p[F1p['Internal-count'] == i],slits))))\n",
    "\n",
    "ra,dec = \"RA\", \"DEC\"\n",
    "x,y = \"xmm\",\"ymm\"\n",
    "plt.figure()\n",
    "plt.plot(F1[x],F1[y],\"x\")\n",
    "plt.plot(selected_slits[x],selected_slits[y],\"-o\")\n",
    "for s in selected_slits:\n",
    "    plt.text(s[x],s[y],s[\"Internal-count\"])\n",
    "plt.xlabel(\"x_mm\")\n",
    "plt.xlabel(\"y_mm\")\n",
    "plt.title(slits)\n",
    "plt.show()\n",
    "\n",
    "selected_slits = selected_slits['Internal-count',x,y,ra,dec]\n",
    "slit_path = vstack((selected_slits,selected_slits[::-1]) )\n",
    "# slit_path[\"ra_diff\"] = [0] + list((slit_path[ra][1:] - slit_path[ra][:-1])*np.cos(slit_path[dec][:-1]*np.pi/180)) \n",
    "# slit_path[\"dec_diff\"] = [0] + list((slit_path[dec][1:] - slit_path[dec][:-1])) \n",
    "slit_path[\"ra_diff\"] = list((slit_path[ra][:-1] - slit_path[ra][1:])*np.cos(slit_path[dec][:-1]*np.pi/180)) + [0]\n",
    "slit_path[\"dec_diff\"] = list((slit_path[dec][:-1] - slit_path[dec][1:])) + [0]\n",
    "\n",
    "slit_path[\"ra_diff\"] *= 3600\n",
    "slit_path[\"dec_diff\"] *= 3600\n",
    "slit_path[\"angular_distance\"] = np.sqrt(slit_path[\"ra_diff\"]** 2 + slit_path[\"dec_diff\"]** 2)\n",
    "try:\n",
    "    slit_path.to_pandas().to_clipboard()\n",
    "except Exception:\n",
    "    pass\n",
    "slit_path"
   ]
  },
  {
   "cell_type": "code",
   "execution_count": 13,
   "metadata": {},
   "outputs": [
    {
     "name": "stdout",
     "output_type": "stream",
     "text": [
      "slit position in mm on mask: [ 4.853195 -3.812219]\n",
      "slit position in mm on mask: [ 8.811543 -3.028793]\n",
      "slit position in mm on mask: [10.563193  2.136243]\n",
      "slit position in mm on mask: [5.386155 4.42581 ]\n",
      "slit position in mm on mask: [-5.638908  2.803272]\n",
      "slit position in mm on mask: [-8.51572   4.436704]\n",
      "slit position in mm on mask: [-7.570966  1.9379  ]\n",
      "slit position in mm on mask: [-5.303522 -0.138687]\n",
      "\n",
      "targets local coords in siderostat local frame:\n",
      "EL: 168.3 arcsec ; CE: 189.2 arcsec\n",
      "EL: 203.1 arcsec ; CE: 353.1 arcsec\n",
      "EL: 423.3 arcsec ; CE: 423.8 arcsec\n",
      "EL: 518.3 arcsec ; CE: 208.1 arcsec\n",
      "EL: 445.0 arcsec ; CE: -247.8 arcsec\n",
      "EL: 513.4 arcsec ; CE: -367.8 arcsec\n",
      "EL: 407.5 arcsec ; CE: -327.5 arcsec\n",
      "EL: 320.3 arcsec ; CE: -232.7 arcsec\n",
      "\n",
      "siderostat moves sequence: \n"
     ]
    }
   ],
   "source": [
    "\n",
    "\n",
    "\n",
    "# ici on balaye tout le champs\n",
    " \n",
    "movs, flags, slits_coord = G2UV.compute_autocoll_moves_slits(slits, F4, hystcomp = True)\n",
    "#donner les siderostat moves à Johan"
   ]
  },
  {
   "cell_type": "code",
   "execution_count": 14,
   "metadata": {},
   "outputs": [
    {
     "data": {
      "text/plain": [
       "array([ 4.09272616e-10, -2.04636308e-10])"
      ]
     },
     "execution_count": 14,
     "metadata": {},
     "output_type": "execute_result"
    }
   ],
   "source": [
    "movs.sum(axis=0)*3600"
   ]
  },
  {
   "cell_type": "markdown",
   "metadata": {},
   "source": [
    "observed slits position :"
   ]
  },
  {
   "cell_type": "code",
   "execution_count": 15,
   "metadata": {},
   "outputs": [
    {
     "data": {
      "text/plain": [
       "array([[1949.3159009 ,  585.48326732],\n",
       "       [1889.08021255,  280.63274907],\n",
       "       [1537.11743484,  151.33582687],\n",
       "       [1393.47052805,  548.72769955],\n",
       "       [1515.17137437, 1391.33183014],\n",
       "       [1404.33980027, 1617.006362  ],\n",
       "       [1573.20961616, 1543.30619621],\n",
       "       [1713.61565248, 1366.89630183],\n",
       "       [1714.02190371, 1362.65367161],\n",
       "       [1573.37446663, 1540.16005209],\n",
       "       [1404.15691381, 1619.53755111],\n",
       "       [1515.35044943, 1395.87784645],\n",
       "       [1393.86272984,  553.35903851],\n",
       "       [1536.87479529,  146.76319868],\n",
       "       [1888.62954955,  276.27304535],\n",
       "       [1949.00447949,  579.76363422]])"
      ]
     },
     "execution_count": 15,
     "metadata": {},
     "output_type": "execute_result"
    }
   ],
   "source": [
    "slits_coord_obs_det = np.array([\n",
    "       [1949.3159009 ,  585.48326732],\n",
    "       [1889.08021255,  280.63274907],\n",
    "       [1537.11743484,  151.33582687],\n",
    "       [1393.47052805,  548.72769955],\n",
    "       [1515.17137437, 1391.33183014],\n",
    "       [1404.33980027, 1617.006362  ],\n",
    "       [1573.20961616, 1543.30619621],\n",
    "       [1713.61565248, 1366.89630183],\n",
    "#return\n",
    "       [1714.02190371, 1362.65367161],\n",
    "       [1573.37446663, 1540.16005209],\n",
    "       [1404.15691381, 1619.53755111],\n",
    "       [1515.35044943, 1395.87784645],\n",
    "       [1393.86272984,  553.35903851],\n",
    "       [1536.87479529,  146.76319868],\n",
    "       [1888.62954955,  276.27304535],\n",
    "       [1949.00447949,  579.76363422]])\n",
    "\n",
    "\n",
    "slits_coord_obs_det"
   ]
  },
  {
   "cell_type": "code",
   "execution_count": 16,
   "metadata": {},
   "outputs": [
    {
     "data": {
      "text/plain": [
       "(16, 2)"
      ]
     },
     "execution_count": 16,
     "metadata": {},
     "output_type": "execute_result"
    }
   ],
   "source": [
    "slits_coord_obs_det.shape"
   ]
  },
  {
   "cell_type": "code",
   "execution_count": 17,
   "metadata": {},
   "outputs": [
    {
     "name": "stdout",
     "output_type": "stream",
     "text": [
      "wave:  0.20255\n"
     ]
    }
   ],
   "source": [
    "valid = np.isfinite(slits_coord_obs_det[:,0])\n",
    "#valid = np.array([True]*8 + [False]*8)\n",
    "obs_wave = G2UV.mask_det_map.w[0]\n",
    "print(\"wave: \", obs_wave)\n",
    "\n",
    "slits_coord_valid = [slits_coord[i] for i in np.nonzero(valid)[0]]\n",
    "slits_valid = np.array(slits + slits[::-1])[valid]"
   ]
  },
  {
   "cell_type": "code",
   "execution_count": 18,
   "metadata": {},
   "outputs": [
    {
     "data": {
      "text/plain": [
       "[<SkyCoord (SkyOffsetICRS: rotation=0.0 deg, origin=<ICRS Coordinate: (ra, dec) in deg\n",
       "     (250.39242605, 36.41307253)>): (lon, lat) in deg\n",
       "     [(0.09388028, -0.10820609)]>,\n",
       " <SkyCoord (SkyOffsetICRS: rotation=0.0 deg, origin=<ICRS Coordinate: (ra, dec) in deg\n",
       "     (250.39242605, 36.41307253)>): (lon, lat) in deg\n",
       "     [(0.11325723, -0.20190289)]>,\n",
       " <SkyCoord (SkyOffsetICRS: rotation=0.0 deg, origin=<ICRS Coordinate: (ra, dec) in deg\n",
       "     (250.39242605, 36.41307253)>): (lon, lat) in deg\n",
       "     [(0.23604675, -0.24236654)]>,\n",
       " <SkyCoord (SkyOffsetICRS: rotation=0.0 deg, origin=<ICRS Coordinate: (ra, dec) in deg\n",
       "     (250.39242605, 36.41307253)>): (lon, lat) in deg\n",
       "     [(0.28905817, -0.11901337)]>,\n",
       " <SkyCoord (SkyOffsetICRS: rotation=0.0 deg, origin=<ICRS Coordinate: (ra, dec) in deg\n",
       "     (250.39242605, 36.41307253)>): (lon, lat) in deg\n",
       "     [(0.2481774, 0.14167736)]>,\n",
       " <SkyCoord (SkyOffsetICRS: rotation=0.0 deg, origin=<ICRS Coordinate: (ra, dec) in deg\n",
       "     (250.39242605, 36.41307253)>): (lon, lat) in deg\n",
       "     [(0.28629343, 0.21031337)]>,\n",
       " <SkyCoord (SkyOffsetICRS: rotation=0.0 deg, origin=<ICRS Coordinate: (ra, dec) in deg\n",
       "     (250.39242605, 36.41307253)>): (lon, lat) in deg\n",
       "     [(0.22727327, 0.18728721)]>,\n",
       " <SkyCoord (SkyOffsetICRS: rotation=0.0 deg, origin=<ICRS Coordinate: (ra, dec) in deg\n",
       "     (250.39242605, 36.41307253)>): (lon, lat) in deg\n",
       "     [(0.17859758, 0.13306095)]>,\n",
       " <SkyCoord (SkyOffsetICRS: rotation=0.0 deg, origin=<ICRS Coordinate: (ra, dec) in deg\n",
       "     (250.39242605, 36.41307253)>): (lon, lat) in deg\n",
       "     [(0.17859758, 0.13306095)]>,\n",
       " <SkyCoord (SkyOffsetICRS: rotation=0.0 deg, origin=<ICRS Coordinate: (ra, dec) in deg\n",
       "     (250.39242605, 36.41307253)>): (lon, lat) in deg\n",
       "     [(0.22727327, 0.18728721)]>,\n",
       " <SkyCoord (SkyOffsetICRS: rotation=0.0 deg, origin=<ICRS Coordinate: (ra, dec) in deg\n",
       "     (250.39242605, 36.41307253)>): (lon, lat) in deg\n",
       "     [(0.28629343, 0.21031337)]>,\n",
       " <SkyCoord (SkyOffsetICRS: rotation=0.0 deg, origin=<ICRS Coordinate: (ra, dec) in deg\n",
       "     (250.39242605, 36.41307253)>): (lon, lat) in deg\n",
       "     [(0.2481774, 0.14167736)]>,\n",
       " <SkyCoord (SkyOffsetICRS: rotation=0.0 deg, origin=<ICRS Coordinate: (ra, dec) in deg\n",
       "     (250.39242605, 36.41307253)>): (lon, lat) in deg\n",
       "     [(0.28905817, -0.11901337)]>,\n",
       " <SkyCoord (SkyOffsetICRS: rotation=0.0 deg, origin=<ICRS Coordinate: (ra, dec) in deg\n",
       "     (250.39242605, 36.41307253)>): (lon, lat) in deg\n",
       "     [(0.23604675, -0.24236654)]>,\n",
       " <SkyCoord (SkyOffsetICRS: rotation=0.0 deg, origin=<ICRS Coordinate: (ra, dec) in deg\n",
       "     (250.39242605, 36.41307253)>): (lon, lat) in deg\n",
       "     [(0.11325723, -0.20190289)]>,\n",
       " <SkyCoord (SkyOffsetICRS: rotation=0.0 deg, origin=<ICRS Coordinate: (ra, dec) in deg\n",
       "     (250.39242605, 36.41307253)>): (lon, lat) in deg\n",
       "     [(0.09388028, -0.10820609)]>]"
      ]
     },
     "execution_count": 18,
     "metadata": {},
     "output_type": "execute_result"
    }
   ],
   "source": [
    "slits_coord_valid"
   ]
  },
  {
   "cell_type": "code",
   "execution_count": 19,
   "metadata": {},
   "outputs": [
    {
     "data": {
      "text/plain": [
       "[<matplotlib.lines.Line2D at 0x7fbd42efba00>]"
      ]
     },
     "execution_count": 19,
     "metadata": {},
     "output_type": "execute_result"
    },
    {
     "data": {
      "image/png": "[encoded data removed]",
      "text/plain": [
       "<Figure size 432x288 with 2 Axes>"
      ]
     },
     "metadata": {
      "needs_background": "light"
     },
     "output_type": "display_data"
    }
   ],
   "source": [
    "# analyser histeresis\n",
    "mid  = len(slits_coord_obs_det)//2\n",
    "pair_diff = slits_coord_obs_det[:mid] - slits_coord_obs_det[::-1][:mid]\n",
    "pair_diff\n",
    "fig, (ax0,ax1) = plt.subplots(1,2)\n",
    "# ax0.subplot('120')\n",
    "ax0.plot(pair_diff[:,0],'*')\n",
    "ax0.plot(np.abs(pair_diff[:,0]),'-')\n",
    "# plt.title(\"El pair diff\")\n",
    "# plt.ylabel(\"El arcsec\")\n",
    "# plt.subplot('121')\n",
    "ax1.plot(pair_diff[:,1],'*')\n",
    "ax1.plot(np.abs(pair_diff[:,1]),'-')\n",
    "# plt.title(\"Ce pair diff\")\n",
    "# plt.ylabel(\"Ce arcsec\")\n"
   ]
  },
  {
   "cell_type": "code",
   "execution_count": 20,
   "metadata": {},
   "outputs": [],
   "source": [
    "slits_coord_obs = G2UV.detector2guider(slits_coord_obs_det, wave=obs_wave, angle=True  )\n"
   ]
  },
  {
   "cell_type": "code",
   "execution_count": 24,
   "metadata": {},
   "outputs": [
    {
     "name": "stdout",
     "output_type": "stream",
     "text": [
      "Fitting rotation, translation and magnification\n",
      "gamma: 1.001987005843998\n",
      "theta: 17.519586882348012 arcmin\n",
      "dx: -5.6151381744169955 arcsec\n",
      "dy: 5.3667749590642195 arcsec\n",
      "variances: [3.70672132e-04 1.27427693e+00 3.74614573e-01 3.74614573e-01]\n",
      "\n",
      "residuals in arcsec: [[-1.68433349  5.38995582]\n",
      " [-0.46739108  2.69934178]\n",
      " [ 1.21014636  1.60621335]\n",
      " [ 1.27522648 -2.07277262]\n",
      " [-0.04355511 -4.44682226]\n",
      " [-0.03725072 -0.51453834]\n",
      " [ 0.80603199  1.39747473]\n",
      " [-0.93078052  1.67528592]\n",
      " [-1.45460975 -3.02896277]\n",
      " [ 0.60676392 -2.11585494]\n",
      " [ 0.16884216  2.29084544]\n",
      " [-0.2699715   0.61384827]\n",
      " [ 0.8988432   3.08242029]\n",
      " [ 1.35647709 -3.45794099]\n",
      " [-0.02609162 -2.16989579]\n",
      " [-1.4083474  -0.94859791]]\n",
      "max residual in EL,CE 1.7, 5.4 arcsec\n",
      "mean residual in EL,CE 1.0, 2.7 arcsec\n"
     ]
    },
    {
     "data": {
      "image/png": "[encoded data removed]",
      "text/plain": [
       "<Figure size 576x288 with 2 Axes>"
      ]
     },
     "metadata": {
      "needs_background": "light"
     },
     "output_type": "display_data"
    }
   ],
   "source": [
    "weight = np.array( [1.]*16  + [1./(1. + 1e-1)]*16)\n",
    "\n",
    "G2UVcor,residuals = G2UV.update_model(slits_coord_valid, slits_coord_obs, labels=slits_valid, plot=True)"
   ]
  },
  {
   "cell_type": "code",
   "execution_count": 25,
   "metadata": {},
   "outputs": [],
   "source": [
    "#G2UVcor.save(filename=cloudpath + 'TestsFTS2018-Flight/E2E-AIT-Flight/XYCalibration/F4_180904.pkl')"
   ]
  },
  {
   "cell_type": "code",
   "execution_count": 27,
   "metadata": {},
   "outputs": [
    {
     "name": "stdout",
     "output_type": "stream",
     "text": [
      "slit position in mm on mask: [ 4.853195 -3.812219]\n",
      "slit position in mm on mask: [ 8.811543 -3.028793]\n",
      "slit position in mm on mask: [10.563193  2.136243]\n",
      "slit position in mm on mask: [5.386155 4.42581 ]\n",
      "slit position in mm on mask: [-5.638908  2.803272]\n",
      "slit position in mm on mask: [-8.51572   4.436704]\n",
      "slit position in mm on mask: [-7.570966  1.9379  ]\n",
      "slit position in mm on mask: [-5.303522 -0.138687]\n",
      "\n",
      "targets local coords in siderostat local frame:\n",
      "EL: 166.9 arcsec ; CE: 186.2 arcsec\n",
      "EL: 202.5 arcsec ; CE: 350.2 arcsec\n",
      "EL: 423.5 arcsec ; CE: 420.0 arcsec\n",
      "EL: 517.7 arcsec ; CE: 203.4 arcsec\n",
      "EL: 441.8 arcsec ; CE: -253.1 arcsec\n",
      "EL: 509.7 arcsec ; CE: -373.7 arcsec\n",
      "EL: 403.8 arcsec ; CE: -332.8 arcsec\n",
      "EL: 316.9 arcsec ; CE: -237.4 arcsec\n",
      "\n",
      "siderostat moves sequence: \n"
     ]
    }
   ],
   "source": [
    "movs_new, flags, slits_coord_new = G2UVcor.compute_autocoll_moves_slits(slits, F4, hystcomp = True)"
   ]
  },
  {
   "cell_type": "code",
   "execution_count": 29,
   "metadata": {},
   "outputs": [
    {
     "name": "stderr",
     "output_type": "stream",
     "text": [
      "/var/folders/m8/f6l41h_51qxdzrz8p1xqr3f80000gp/T/ipykernel_43766/799231450.py:20: RuntimeWarning: invalid value encountered in true_divide\n",
      "  new_cat[\"frame_divided_sky\"] = new_cat[\"Frame_angular_distance\"] / new_cat[\"angular_distance\"]\n",
      "/var/folders/m8/f6l41h_51qxdzrz8p1xqr3f80000gp/T/ipykernel_43766/799231450.py:21: RuntimeWarning: invalid value encountered in true_divide\n",
      "  new_cat[\"EL_dec_ratio\"] =   new_cat[\"El_sky\"] / new_cat[\"dec_diff\"]\n",
      "/var/folders/m8/f6l41h_51qxdzrz8p1xqr3f80000gp/T/ipykernel_43766/799231450.py:22: RuntimeWarning: invalid value encountered in true_divide\n",
      "  new_cat[\"CE_ra_ratio\"] =   new_cat[\"Cel_sky\"] / new_cat[\"ra_diff\"]\n"
     ]
    },
    {
     "data": {
      "text/html": [
       "<div><i>Table length=16</i>\n",
       "<table id=\"table140450848191488\" class=\"table-striped table-bordered table-condensed\">\n",
       "<thead><tr><th>ra_diff</th><th>dec_diff</th><th>EL_moves</th><th>CE_moves</th><th>El_sky</th><th>Cel_sky</th><th>frame_divided_sky</th><th>EL_dec_ratio</th><th>CE_ra_ratio</th></tr></thead>\n",
       "<thead><tr><th>float64</th><th>float64</th><th>float64</th><th>float64</th><th>float64</th><th>float64</th><th>float64</th><th>float64</th><th>float64</th></tr></thead>\n",
       "<tr><td>-335.025017828955</td><td>-66.26519999999982</td><td>35.67541990978583</td><td>164.01694382282807</td><td>71.62125950248783</td><td>337.6387198759209</td><td>1.0106464470959282</td><td>-1.0808276365647131</td><td>-1.0078015130449163</td></tr>\n",
       "<tr><td>-148.53914863332398</td><td>-434.8008000000002</td><td>221.00516304132498</td><td>69.81021674927769</td><td>443.6855452185032</td><td>143.70851979139306</td><td>1.015028975130263</td><td>-1.0204340590415266</td><td>-0.9674790862450979</td></tr>\n",
       "<tr><td>438.42906064049</td><td>-193.89600000000007</td><td>94.12432021091126</td><td>-216.63176611033256</td><td>188.96210276902124</td><td>-445.94948844408617</td><td>1.0103071881211574</td><td>-0.9745538988376303</td><td>-1.017153123455388</td></tr>\n",
       "<tr><td>931.6708546945574</td><td>136.3644</td><td>-75.84360033345257</td><td>-456.45740117929734</td><td>-152.2620951574327</td><td>-939.6449477716543</td><td>1.0109430651665223</td><td>-1.1165824449594814</td><td>-1.00855891652821</td></tr>\n",
       "<tr><td>243.67205013159796</td><td>-138.16079999999968</td><td>67.86045407168422</td><td>-120.61493547509994</td><td>136.2352903852318</td><td>-248.29308157162174</td><td>1.0110587507850108</td><td>-0.9860632710959412</td><td>-1.0189641423278877</td></tr>\n",
       "<tr><td>-80.20820491944657</td><td>210.77999999999997</td><td>-105.83970033638172</td><td>40.876986286322335</td><td>-212.4816656013132</td><td>84.14772888957171</td><td>1.0133564561490098</td><td>-1.0080731834202166</td><td>-1.0491162216394396</td></tr>\n",
       "<tr><td>-191.89095471158979</td><td>182.30039999999997</td><td>-86.96656272549677</td><td>95.4582401068825</td><td>-174.5923319964528</td><td>196.50651475442405</td><td>0.9931370110282448</td><td>-0.9577177669190678</td><td>-1.0240530360056388</td></tr>\n",
       "<tr><td>0.0</td><td>0.0</td><td>0.0</td><td>0.0</td><td>0.0</td><td>0.0</td><td>nan</td><td>nan</td><td>nan</td></tr>\n",
       "<tr><td>191.89294632706148</td><td>-182.30039999999997</td><td>86.96656272549677</td><td>-95.4582401068825</td><td>174.5923319964528</td><td>-196.50651475442405</td><td>0.9931315932008606</td><td>-0.9577177669190678</td><td>-1.02404240758021</td></tr>\n",
       "<tr><td>80.20924555658176</td><td>-210.77999999999997</td><td>105.83970033638172</td><td>-40.876986286322335</td><td>212.4816656013132</td><td>-84.14772888957171</td><td>1.0133547931484774</td><td>-1.0080731834202166</td><td>-1.0491026103744068</td></tr>\n",
       "<tr><td>-243.66994917001384</td><td>138.16079999999968</td><td>-67.86045407168416</td><td>120.61493547509997</td><td>-136.23529038523168</td><td>248.2930815716218</td><td>1.0110653475274463</td><td>-0.9860632710959403</td><td>-1.0189729280009916</td></tr>\n",
       "<tr><td>-931.6787805805603</td><td>-136.3644</td><td>75.84360033345251</td><td>456.45740117929734</td><td>152.26209515743258</td><td>939.6449477716543</td><td>1.0109346453453592</td><td>-1.1165824449594806</td><td>-1.0085503366150832</td></tr>\n",
       "<tr><td>-438.4238148038369</td><td>193.89600000000007</td><td>-94.12432021091126</td><td>216.6317661103326</td><td>-188.96210276902124</td><td>445.9494884440862</td><td>1.0103172990665747</td><td>-0.9745538988376303</td><td>-1.0171652939145575</td></tr>\n",
       "<tr><td>148.5356404549282</td><td>434.8008000000002</td><td>-221.005163041325</td><td>-69.81021674927769</td><td>-443.68554521850325</td><td>-143.70851979139306</td><td>1.0150314805307872</td><td>-1.0204340590415266</td><td>-0.9675019365806694</td></tr>\n",
       "<tr><td>335.02394265705476</td><td>66.26519999999982</td><td>-35.6754199097858</td><td>-164.01694382282804</td><td>-71.62125950248777</td><td>-337.63871987592086</td><td>1.0106495683912748</td><td>-1.0808276365647123</td><td>-1.0078047473208287</td></tr>\n",
       "<tr><td>0.0</td><td>0.0</td><td>0.0</td><td>0.0</td><td>0.0</td><td>0.0</td><td>nan</td><td>nan</td><td>nan</td></tr>\n",
       "</table></div>"
      ],
      "text/plain": [
       "<Table length=16>\n",
       "      ra_diff             dec_diff      ...     CE_ra_ratio    \n",
       "      float64             float64       ...       float64      \n",
       "------------------- ------------------- ... -------------------\n",
       "  -335.025017828955  -66.26519999999982 ... -1.0078015130449163\n",
       "-148.53914863332398  -434.8008000000002 ... -0.9674790862450979\n",
       "    438.42906064049 -193.89600000000007 ...  -1.017153123455388\n",
       "  931.6708546945574            136.3644 ...   -1.00855891652821\n",
       " 243.67205013159796 -138.16079999999968 ... -1.0189641423278877\n",
       " -80.20820491944657  210.77999999999997 ... -1.0491162216394396\n",
       "-191.89095471158979  182.30039999999997 ... -1.0240530360056388\n",
       "                0.0                 0.0 ...                 nan\n",
       " 191.89294632706148 -182.30039999999997 ...   -1.02404240758021\n",
       "  80.20924555658176 -210.77999999999997 ... -1.0491026103744068\n",
       "-243.66994917001384  138.16079999999968 ... -1.0189729280009916\n",
       " -931.6787805805603           -136.3644 ... -1.0085503366150832\n",
       " -438.4238148038369  193.89600000000007 ... -1.0171652939145575\n",
       "  148.5356404549282   434.8008000000002 ... -0.9675019365806694\n",
       " 335.02394265705476   66.26519999999982 ... -1.0078047473208287\n",
       "                0.0                 0.0 ...                 nan"
      ]
     },
     "execution_count": 29,
     "metadata": {},
     "output_type": "execute_result"
    }
   ],
   "source": [
    "CEg, Elg = 1.02928, 1.00379\n",
    "from astropy.table import hstack\n",
    "moves=movs_new\n",
    "moves = Table.from_pandas(pd.DataFrame(np.hstack((moves,flags[:,None])), columns=[\"EL\",\"CE\",\"UV_image\"]))\n",
    "\n",
    "\n",
    "moves[\"EL_abs\"] =  [np.sum(moves[\"EL\"][:i+1]) for i in range(len(moves))]\n",
    "moves[\"CE_abs\"] = [np.sum(moves[\"CE\"][:i+1]) for i in range(len(moves))]\n",
    "moves[\"UV_image\"] = moves[\"UV_image\"].astype(bool)\n",
    "new_cat = hstack((slit_path,moves[moves[\"UV_image\"]][1:-1]))\n",
    "new_cat\n",
    "new_cat[\"EL_moves\"] =  list(new_cat[\"EL_abs\"][1:] - new_cat[\"EL_abs\"][:-1]) +  [0]\n",
    "new_cat[\"CE_moves\"] =  list(new_cat[\"CE_abs\"][1:] - new_cat[\"CE_abs\"][:-1]) +  [0]\n",
    "\n",
    "\n",
    "\n",
    "new_cat[\"El_sky\"] = new_cat[\"EL_moves\"]  * 2 * Elg \n",
    "new_cat[\"Cel_sky\"] = new_cat[\"CE_moves\"] * 2 * CEg \n",
    "new_cat[\"Frame_angular_distance\"] = np.sqrt(new_cat[\"El_sky\"]**2 + new_cat[\"Cel_sky\"]**2)\n",
    "new_cat[\"frame_divided_sky\"] = new_cat[\"Frame_angular_distance\"] / new_cat[\"angular_distance\"]\n",
    "new_cat[\"EL_dec_ratio\"] =   new_cat[\"El_sky\"] / new_cat[\"dec_diff\"]\n",
    "new_cat[\"CE_ra_ratio\"] =   new_cat[\"Cel_sky\"] / new_cat[\"ra_diff\"]\n",
    "# new_cat\n",
    "new_cat.to_pandas().to_clipboard()\n",
    "new_cat[\"ra_diff\",\"dec_diff\",\"EL_moves\",\"CE_moves\",\"El_sky\",\"Cel_sky\",\"frame_divided_sky\",\"EL_dec_ratio\",\"CE_ra_ratio\"]\n"
   ]
  },
  {
   "cell_type": "markdown",
   "metadata": {},
   "source": [
    "## Star sequence\n",
    "\n",
    "gc - s18 - s29 - s34 - s14 "
   ]
  },
  {
   "cell_type": "code",
   "execution_count": 24,
   "metadata": {},
   "outputs": [
    {
     "name": "stdout",
     "output_type": "stream",
     "text": [
      "star position Ra/Dec:  <SkyCoord (ICRS): (ra, dec) in deg\n",
      "    [(36.987137, 0.402799)]>\n",
      "star position Ra/Dec:  <SkyCoord (ICRS): (ra, dec) in deg\n",
      "    [(37.023638, 0.390844)]>\n",
      "star position Ra/Dec:  <SkyCoord (ICRS): (ra, dec) in deg\n",
      "    [(36.877561, 0.53311)]>\n",
      "star position Ra/Dec:  <SkyCoord (ICRS): (ra, dec) in deg\n",
      "    [(36.867454, 0.492628)]>\n",
      "\n",
      "targets local coords in siderostat local frame:\n",
      "EL: -119.5 arcsec ; CE: 132.7 arcsec\n",
      "EL: -140.0 arcsec ; CE: 196.8 arcsec\n",
      "EL: 111.3 arcsec ; CE: -62.2 arcsec\n",
      "EL: 38.5 arcsec ; CE: -78.9 arcsec\n",
      "\n",
      "siderostat moves sequence: \n",
      "EL: 0.0 arcsec ; CE -30.0 arcsec ; image: False\n",
      "EL: -0.0 arcsec ; CE 30.0 arcsec ; image: True\n",
      "EL: -119.5 arcsec ; CE 132.7 arcsec ; image: True\n",
      "EL: -20.5 arcsec ; CE 64.1 arcsec ; image: True\n",
      "EL: 251.3 arcsec ; CE -259.1 arcsec ; image: True\n",
      "EL: -72.9 arcsec ; CE -16.6 arcsec ; image: True\n",
      "EL: 0.0 arcsec ; CE -30.0 arcsec ; image: False\n",
      "EL: -0.0 arcsec ; CE 30.0 arcsec ; image: True\n",
      "EL: 72.9 arcsec ; CE 16.6 arcsec ; image: True\n",
      "EL: -251.3 arcsec ; CE 289.1 arcsec ; image: False\n",
      "EL: -0.0 arcsec ; CE -30.0 arcsec ; image: True\n",
      "EL: 20.5 arcsec ; CE -64.1 arcsec ; image: True\n",
      "EL: 119.5 arcsec ; CE -132.7 arcsec ; image: True\n"
     ]
    }
   ],
   "source": [
    "star_target_path = cloudpath + 'Target_selection/GuidingStars/'\n",
    "\n",
    "F4_stars = Table.read(star_target_path + \"F4_guidingstars.fits\", format='fits')\n",
    "\n",
    "stars = [29, 34, 18, 14]\n",
    "\n",
    "star_movs, stars_coord = G2UVcor.compute_autocoll_move_stars(stars, F4_stars, hystcomp = True)\n"
   ]
  },
  {
   "cell_type": "code",
   "execution_count": null,
   "metadata": {},
   "outputs": [],
   "source": [
    "stars_coord"
   ]
  },
  {
   "cell_type": "markdown",
   "metadata": {},
   "source": [
    "------------------------------------------------------"
   ]
  }
 ],
 "metadata": {
  "kernelspec": {
   "display_name": "Python 3.8.13 ('py38')",
   "language": "python",
   "name": "python3"
  },
  "language_info": {
   "codemirror_mode": {
    "name": "ipython",
    "version": 3
   },
   "file_extension": ".py",
   "mimetype": "text/x-python",
   "name": "python",
   "nbconvert_exporter": "python",
   "pygments_lexer": "ipython3",
   "version": "3.8.13"
  },
  "vscode": {
   "interpreter": {
    "hash": "6429251b47eee9d8b9b4d9852116ca976e0b69b141b5bab3b174d6f3c07282ea"
   }
  }
 },
 "nbformat": 4,
 "nbformat_minor": 2
}
