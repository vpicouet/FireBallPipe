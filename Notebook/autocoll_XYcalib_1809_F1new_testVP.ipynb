{
 "cells": [
  {
   "cell_type": "markdown",
   "metadata": {},
   "source": [
    "# UV-Guider alignement with source in autocoll\n",
    "##  Field 1"
   ]
  },
  {
   "cell_type": "code",
   "execution_count": 1,
   "metadata": {},
   "outputs": [],
   "source": [
    "%matplotlib inline\n",
    "\n",
    "from __future__ import division, print_function\n",
    "\n",
    "import sys\n",
    "sys.path.insert(1, './Calibration')\n",
    "sys.path.append( '../../FireBallPipe')\n",
    "\n",
    "\n",
    "import numpy as np\n",
    "from astropy.io import fits\n",
    "from astropy import wcs, coordinates\n",
    "from astropy import units as u\n",
    "from astropy.wcs.utils import proj_plane_pixel_scales\n",
    "from matplotlib import pyplot as plt\n",
    "from astropy.table import Table\n",
    "import matplotlib.patches as patches\n",
    "\n",
    "from guider2UV.guider2UV import Guider2UV, diff_skycoord\n",
    "\n",
    "from Calibration.mapping import Mapping"
   ]
  },
  {
   "cell_type": "code",
   "execution_count": 2,
   "metadata": {},
   "outputs": [],
   "source": [
    "cloudpath = '/home/dvibert/ownCloud/FIREBALL/'\n",
    "cloudpath = '/Users/Vincent/Nextcloud/LAM/FIREBALL/'\n",
    "\n",
    "path_SC_GUI02 = cloudpath + 'Tests-at-FortSumner/170909_SC_GUI02/'\n",
    "\n",
    "#mask_plate_scale = 42.26134 #mm/deg\n",
    "\n",
    "#detector platescale\n",
    "#yscale = 1.106 # arcsec/pix spatial (y det -> y mask)\n",
    "#xscale = 1.271 # arcsec/pix spectral (x det -> - x mask)\n",
    "\n",
    "#guider center => put source on guider center\n",
    "gc = np.array([640, 540])"
   ]
  },
  {
   "cell_type": "markdown",
   "metadata": {},
   "source": [
    "## calibrated frame encoder gains:\n",
    "\n",
    "EL : 0.092 x 1.00379 = 0.09469 arcsec/inc\n",
    "\n",
    "CE : 0.01 x 1.02928 = 0.010293 arcsec/inc"
   ]
  },
  {
   "cell_type": "code",
   "execution_count": 3,
   "metadata": {},
   "outputs": [],
   "source": [
    "# encoder gains:\n",
    "\n",
    "CEg = 1.02928\n",
    "Elg = 1.00379\n",
    "\n",
    "# 2018 calibrated gains put in CNES software\n",
    "#CEg = 1.0\n",
    "#Elg = 1.0"
   ]
  },
  {
   "cell_type": "markdown",
   "metadata": {},
   "source": [
    "## initialization from last xy calib"
   ]
  },
  {
   "cell_type": "code",
   "execution_count": 4,
   "metadata": {
    "scrolled": true,
    "tags": []
   },
   "outputs": [
    {
     "name": "stdout",
     "output_type": "stream",
     "text": [
      "FOV center angular position in guider <SkyCoord (SkyOffsetICRS: rotation=0.0 deg, origin=<ICRS Coordinate: (ra, dec) in deg\n",
      "    (250.39272815, 36.41856381)>): (lon, lat) in deg\n",
      "    (0.17639951, 0.0154012)>\n",
      "FOV center pixel position in guider [array(1338.56657245), array(600.7867847)]\n"
     ]
    }
   ],
   "source": [
    "G2UV = Guider2UV(filename=path_SC_GUI02 + 'Guider2UV_F1_nogamma.new.pkl')\n",
    "gc_coord = G2UV.GuiderP.pix2local([gc])\n",
    "\n",
    "target_filename =  '../Calibration/Targets/targets_F1.txt'\n",
    "F1 = Table.read(target_filename, format='ascii')"
   ]
  },
  {
   "cell_type": "markdown",
   "metadata": {
    "tags": []
   },
   "source": [
    "load current mapping"
   ]
  },
  {
   "cell_type": "code",
   "execution_count": 5,
   "metadata": {},
   "outputs": [
    {
     "ename": "FileNotFoundError",
     "evalue": "[Errno 2] No such file or directory: '/data/FireBall/FTS-06-2018/180612/image-000275-000284-Zinc-with_dark119-stack_table.csv'",
     "output_type": "error",
     "traceback": [
      "\u001b[0;31m---------------------------------------------------------------------------\u001b[0m",
      "\u001b[0;31mFileNotFoundError\u001b[0m                         Traceback (most recent call last)",
      "Input \u001b[0;32mIn [5]\u001b[0m, in \u001b[0;36m<cell line: 4>\u001b[0;34m()\u001b[0m\n\u001b[1;32m      1\u001b[0m diffuse_tab_file \u001b[38;5;241m=\u001b[39m \u001b[38;5;124m'\u001b[39m\u001b[38;5;124m/data/FireBall/FTS-06-2018/180612/image-000275-000284-Zinc-with_dark119-stack_table.csv\u001b[39m\u001b[38;5;124m'\u001b[39m\n\u001b[1;32m      2\u001b[0m \u001b[38;5;66;03m# diffuse_path = cloudpath+'TestsFTS2018-Flight/E2E-AIT-Flight/XYCalibration/DiffuseMasksIllumination180823/'\u001b[39;00m\n\u001b[1;32m      3\u001b[0m \u001b[38;5;66;03m# diffuse_tab_file = diffuse_path + 'StackedImage_44-63-NoDark_table.csv'\u001b[39;00m\n\u001b[0;32m----> 4\u001b[0m diffuse_tab \u001b[38;5;241m=\u001b[39m \u001b[43mTable\u001b[49m\u001b[38;5;241;43m.\u001b[39;49m\u001b[43mread\u001b[49m\u001b[43m(\u001b[49m\u001b[43mdiffuse_tab_file\u001b[49m\u001b[43m,\u001b[49m\u001b[43m \u001b[49m\u001b[38;5;28;43mformat\u001b[39;49m\u001b[38;5;241;43m=\u001b[39;49m\u001b[38;5;124;43m'\u001b[39;49m\u001b[38;5;124;43mcsv\u001b[39;49m\u001b[38;5;124;43m'\u001b[39;49m\u001b[43m)\u001b[49m\n\u001b[1;32m      5\u001b[0m mask_det_map_file \u001b[38;5;241m=\u001b[39m \u001b[38;5;124m'\u001b[39m\u001b[38;5;124m/home/dvibert/work/FireBallPipe/mapping-mask-det-180823-F1.pkl\u001b[39m\u001b[38;5;124m'\u001b[39m\n\u001b[1;32m      6\u001b[0m mask_det_map_file \u001b[38;5;241m=\u001b[39m \u001b[38;5;124m'\u001b[39m\u001b[38;5;124m/Users/Vincent/Nextcloud/LAM/FIREBALL/TestsFTS2018-Flight/E2E-AIT-Flight/XYCalibration/Detector_Mask_mappings/mapping-mask-det-180823-F1.pkl\u001b[39m\u001b[38;5;124m'\u001b[39m\n",
      "File \u001b[0;32m~/opt/anaconda3/envs/py38/lib/python3.8/site-packages/astropy/table/connect.py:62\u001b[0m, in \u001b[0;36mTableRead.__call__\u001b[0;34m(self, *args, **kwargs)\u001b[0m\n\u001b[1;32m     59\u001b[0m units \u001b[38;5;241m=\u001b[39m kwargs\u001b[38;5;241m.\u001b[39mpop(\u001b[38;5;124m'\u001b[39m\u001b[38;5;124munits\u001b[39m\u001b[38;5;124m'\u001b[39m, \u001b[38;5;28;01mNone\u001b[39;00m)\n\u001b[1;32m     60\u001b[0m descriptions \u001b[38;5;241m=\u001b[39m kwargs\u001b[38;5;241m.\u001b[39mpop(\u001b[38;5;124m'\u001b[39m\u001b[38;5;124mdescriptions\u001b[39m\u001b[38;5;124m'\u001b[39m, \u001b[38;5;28;01mNone\u001b[39;00m)\n\u001b[0;32m---> 62\u001b[0m out \u001b[38;5;241m=\u001b[39m \u001b[38;5;28;43mself\u001b[39;49m\u001b[38;5;241;43m.\u001b[39;49m\u001b[43mregistry\u001b[49m\u001b[38;5;241;43m.\u001b[39;49m\u001b[43mread\u001b[49m\u001b[43m(\u001b[49m\u001b[38;5;28;43mcls\u001b[39;49m\u001b[43m,\u001b[49m\u001b[43m \u001b[49m\u001b[38;5;241;43m*\u001b[39;49m\u001b[43margs\u001b[49m\u001b[43m,\u001b[49m\u001b[43m \u001b[49m\u001b[38;5;241;43m*\u001b[39;49m\u001b[38;5;241;43m*\u001b[39;49m\u001b[43mkwargs\u001b[49m\u001b[43m)\u001b[49m\n\u001b[1;32m     64\u001b[0m \u001b[38;5;66;03m# For some readers (e.g., ascii.ecsv), the returned `out` class is not\u001b[39;00m\n\u001b[1;32m     65\u001b[0m \u001b[38;5;66;03m# guaranteed to be the same as the desired output `cls`.  If so,\u001b[39;00m\n\u001b[1;32m     66\u001b[0m \u001b[38;5;66;03m# try coercing to desired class without copying (io.registry.read\u001b[39;00m\n\u001b[1;32m     67\u001b[0m \u001b[38;5;66;03m# would normally do a copy).  The normal case here is swapping\u001b[39;00m\n\u001b[1;32m     68\u001b[0m \u001b[38;5;66;03m# Table <=> QTable.\u001b[39;00m\n\u001b[1;32m     69\u001b[0m \u001b[38;5;28;01mif\u001b[39;00m \u001b[38;5;28mcls\u001b[39m \u001b[38;5;129;01mis\u001b[39;00m \u001b[38;5;129;01mnot\u001b[39;00m out\u001b[38;5;241m.\u001b[39m\u001b[38;5;18m__class__\u001b[39m:\n",
      "File \u001b[0;32m~/opt/anaconda3/envs/py38/lib/python3.8/site-packages/astropy/io/registry/core.py:199\u001b[0m, in \u001b[0;36mUnifiedInputRegistry.read\u001b[0;34m(self, cls, format, cache, *args, **kwargs)\u001b[0m\n\u001b[1;32m    195\u001b[0m     \u001b[38;5;28mformat\u001b[39m \u001b[38;5;241m=\u001b[39m \u001b[38;5;28mself\u001b[39m\u001b[38;5;241m.\u001b[39m_get_valid_format(\n\u001b[1;32m    196\u001b[0m         \u001b[38;5;124m'\u001b[39m\u001b[38;5;124mread\u001b[39m\u001b[38;5;124m'\u001b[39m, \u001b[38;5;28mcls\u001b[39m, path, fileobj, args, kwargs)\n\u001b[1;32m    198\u001b[0m reader \u001b[38;5;241m=\u001b[39m \u001b[38;5;28mself\u001b[39m\u001b[38;5;241m.\u001b[39mget_reader(\u001b[38;5;28mformat\u001b[39m, \u001b[38;5;28mcls\u001b[39m)\n\u001b[0;32m--> 199\u001b[0m data \u001b[38;5;241m=\u001b[39m \u001b[43mreader\u001b[49m\u001b[43m(\u001b[49m\u001b[38;5;241;43m*\u001b[39;49m\u001b[43margs\u001b[49m\u001b[43m,\u001b[49m\u001b[43m \u001b[49m\u001b[38;5;241;43m*\u001b[39;49m\u001b[38;5;241;43m*\u001b[39;49m\u001b[43mkwargs\u001b[49m\u001b[43m)\u001b[49m\n\u001b[1;32m    201\u001b[0m \u001b[38;5;28;01mif\u001b[39;00m \u001b[38;5;129;01mnot\u001b[39;00m \u001b[38;5;28misinstance\u001b[39m(data, \u001b[38;5;28mcls\u001b[39m):\n\u001b[1;32m    202\u001b[0m     \u001b[38;5;66;03m# User has read with a subclass where only the parent class is\u001b[39;00m\n\u001b[1;32m    203\u001b[0m     \u001b[38;5;66;03m# registered.  This returns the parent class, so try coercing\u001b[39;00m\n\u001b[1;32m    204\u001b[0m     \u001b[38;5;66;03m# to desired subclass.\u001b[39;00m\n\u001b[1;32m    205\u001b[0m     \u001b[38;5;28;01mtry\u001b[39;00m:\n",
      "File \u001b[0;32m~/opt/anaconda3/envs/py38/lib/python3.8/site-packages/astropy/io/ascii/connect.py:18\u001b[0m, in \u001b[0;36mio_read\u001b[0;34m(format, filename, **kwargs)\u001b[0m\n\u001b[1;32m     16\u001b[0m     \u001b[38;5;28mformat\u001b[39m \u001b[38;5;241m=\u001b[39m re\u001b[38;5;241m.\u001b[39msub(\u001b[38;5;124mr\u001b[39m\u001b[38;5;124m'\u001b[39m\u001b[38;5;124m^ascii\u001b[39m\u001b[38;5;124m\\\u001b[39m\u001b[38;5;124m.\u001b[39m\u001b[38;5;124m'\u001b[39m, \u001b[38;5;124m'\u001b[39m\u001b[38;5;124m'\u001b[39m, \u001b[38;5;28mformat\u001b[39m)\n\u001b[1;32m     17\u001b[0m     kwargs[\u001b[38;5;124m'\u001b[39m\u001b[38;5;124mformat\u001b[39m\u001b[38;5;124m'\u001b[39m] \u001b[38;5;241m=\u001b[39m \u001b[38;5;28mformat\u001b[39m\n\u001b[0;32m---> 18\u001b[0m \u001b[38;5;28;01mreturn\u001b[39;00m \u001b[43mread\u001b[49m\u001b[43m(\u001b[49m\u001b[43mfilename\u001b[49m\u001b[43m,\u001b[49m\u001b[43m \u001b[49m\u001b[38;5;241;43m*\u001b[39;49m\u001b[38;5;241;43m*\u001b[39;49m\u001b[43mkwargs\u001b[49m\u001b[43m)\u001b[49m\n",
      "File \u001b[0;32m~/opt/anaconda3/envs/py38/lib/python3.8/site-packages/astropy/io/ascii/ui.py:358\u001b[0m, in \u001b[0;36mread\u001b[0;34m(table, guess, **kwargs)\u001b[0m\n\u001b[1;32m    356\u001b[0m fast_reader_rdr \u001b[38;5;241m=\u001b[39m get_reader(\u001b[38;5;241m*\u001b[39m\u001b[38;5;241m*\u001b[39mfast_kwargs)\n\u001b[1;32m    357\u001b[0m \u001b[38;5;28;01mtry\u001b[39;00m:\n\u001b[0;32m--> 358\u001b[0m     dat \u001b[38;5;241m=\u001b[39m \u001b[43mfast_reader_rdr\u001b[49m\u001b[38;5;241;43m.\u001b[39;49m\u001b[43mread\u001b[49m\u001b[43m(\u001b[49m\u001b[43mtable\u001b[49m\u001b[43m)\u001b[49m\n\u001b[1;32m    359\u001b[0m     _read_trace\u001b[38;5;241m.\u001b[39mappend({\u001b[38;5;124m'\u001b[39m\u001b[38;5;124mkwargs\u001b[39m\u001b[38;5;124m'\u001b[39m: copy\u001b[38;5;241m.\u001b[39mdeepcopy(fast_kwargs),\n\u001b[1;32m    360\u001b[0m                         \u001b[38;5;124m'\u001b[39m\u001b[38;5;124mReader\u001b[39m\u001b[38;5;124m'\u001b[39m: fast_reader_rdr\u001b[38;5;241m.\u001b[39m\u001b[38;5;18m__class__\u001b[39m,\n\u001b[1;32m    361\u001b[0m                         \u001b[38;5;124m'\u001b[39m\u001b[38;5;124mstatus\u001b[39m\u001b[38;5;124m'\u001b[39m: \u001b[38;5;124m'\u001b[39m\u001b[38;5;124mSuccess with fast reader (no guessing)\u001b[39m\u001b[38;5;124m'\u001b[39m})\n\u001b[1;32m    362\u001b[0m \u001b[38;5;28;01mexcept\u001b[39;00m (core\u001b[38;5;241m.\u001b[39mParameterError, cparser\u001b[38;5;241m.\u001b[39mCParserError, \u001b[38;5;167;01mUnicodeEncodeError\u001b[39;00m) \u001b[38;5;28;01mas\u001b[39;00m err:\n\u001b[1;32m    363\u001b[0m     \u001b[38;5;66;03m# special testing value to avoid falling back on the slow reader\u001b[39;00m\n",
      "File \u001b[0;32m~/opt/anaconda3/envs/py38/lib/python3.8/site-packages/astropy/io/ascii/fastbasic.py:109\u001b[0m, in \u001b[0;36mFastBasic.read\u001b[0;34m(self, table)\u001b[0m\n\u001b[1;32m    106\u001b[0m \u001b[38;5;66;03m# Put fast_reader dict back into kwargs.\u001b[39;00m\n\u001b[1;32m    107\u001b[0m \u001b[38;5;28mself\u001b[39m\u001b[38;5;241m.\u001b[39mkwargs[\u001b[38;5;124m'\u001b[39m\u001b[38;5;124mfast_reader\u001b[39m\u001b[38;5;124m'\u001b[39m] \u001b[38;5;241m=\u001b[39m fast_reader\n\u001b[0;32m--> 109\u001b[0m \u001b[38;5;28mself\u001b[39m\u001b[38;5;241m.\u001b[39mengine \u001b[38;5;241m=\u001b[39m \u001b[43mcparser\u001b[49m\u001b[38;5;241;43m.\u001b[39;49m\u001b[43mCParser\u001b[49m\u001b[43m(\u001b[49m\u001b[43mtable\u001b[49m\u001b[43m,\u001b[49m\u001b[43m \u001b[49m\u001b[38;5;28;43mself\u001b[39;49m\u001b[38;5;241;43m.\u001b[39;49m\u001b[43mstrip_whitespace_lines\u001b[49m\u001b[43m,\u001b[49m\n\u001b[1;32m    110\u001b[0m \u001b[43m                              \u001b[49m\u001b[38;5;28;43mself\u001b[39;49m\u001b[38;5;241;43m.\u001b[39;49m\u001b[43mstrip_whitespace_fields\u001b[49m\u001b[43m,\u001b[49m\n\u001b[1;32m    111\u001b[0m \u001b[43m                              \u001b[49m\u001b[43mdelimiter\u001b[49m\u001b[38;5;241;43m=\u001b[39;49m\u001b[38;5;28;43mself\u001b[39;49m\u001b[38;5;241;43m.\u001b[39;49m\u001b[43mdelimiter\u001b[49m\u001b[43m,\u001b[49m\n\u001b[1;32m    112\u001b[0m \u001b[43m                              \u001b[49m\u001b[43mheader_start\u001b[49m\u001b[38;5;241;43m=\u001b[39;49m\u001b[38;5;28;43mself\u001b[39;49m\u001b[38;5;241;43m.\u001b[39;49m\u001b[43mheader_start\u001b[49m\u001b[43m,\u001b[49m\n\u001b[1;32m    113\u001b[0m \u001b[43m                              \u001b[49m\u001b[43mcomment\u001b[49m\u001b[38;5;241;43m=\u001b[39;49m\u001b[38;5;28;43mself\u001b[39;49m\u001b[38;5;241;43m.\u001b[39;49m\u001b[43mcomment\u001b[49m\u001b[43m,\u001b[49m\n\u001b[1;32m    114\u001b[0m \u001b[43m                              \u001b[49m\u001b[43mquotechar\u001b[49m\u001b[38;5;241;43m=\u001b[39;49m\u001b[38;5;28;43mself\u001b[39;49m\u001b[38;5;241;43m.\u001b[39;49m\u001b[43mquotechar\u001b[49m\u001b[43m,\u001b[49m\n\u001b[1;32m    115\u001b[0m \u001b[43m                              \u001b[49m\u001b[43mdata_start\u001b[49m\u001b[38;5;241;43m=\u001b[39;49m\u001b[38;5;28;43mself\u001b[39;49m\u001b[38;5;241;43m.\u001b[39;49m\u001b[43mdata_start\u001b[49m\u001b[43m,\u001b[49m\n\u001b[1;32m    116\u001b[0m \u001b[43m                              \u001b[49m\u001b[43mfill_extra_cols\u001b[49m\u001b[38;5;241;43m=\u001b[39;49m\u001b[38;5;28;43mself\u001b[39;49m\u001b[38;5;241;43m.\u001b[39;49m\u001b[43mfill_extra_cols\u001b[49m\u001b[43m,\u001b[49m\n\u001b[1;32m    117\u001b[0m \u001b[43m                              \u001b[49m\u001b[38;5;241;43m*\u001b[39;49m\u001b[38;5;241;43m*\u001b[39;49m\u001b[38;5;28;43mself\u001b[39;49m\u001b[38;5;241;43m.\u001b[39;49m\u001b[43mkwargs\u001b[49m\u001b[43m)\u001b[49m\n\u001b[1;32m    118\u001b[0m conversion_info \u001b[38;5;241m=\u001b[39m \u001b[38;5;28mself\u001b[39m\u001b[38;5;241m.\u001b[39m_read_header()\n\u001b[1;32m    119\u001b[0m \u001b[38;5;28mself\u001b[39m\u001b[38;5;241m.\u001b[39mcheck_header()\n",
      "File \u001b[0;32mastropy/io/ascii/cparser.pyx:248\u001b[0m, in \u001b[0;36mastropy.io.ascii.cparser.CParser.__cinit__\u001b[0;34m()\u001b[0m\n",
      "File \u001b[0;32mastropy/io/ascii/cparser.pyx:296\u001b[0m, in \u001b[0;36mastropy.io.ascii.cparser.CParser.setup_tokenizer\u001b[0;34m()\u001b[0m\n",
      "File \u001b[0;32mastropy/io/ascii/cparser.pyx:124\u001b[0m, in \u001b[0;36mastropy.io.ascii.cparser.FileString.__cinit__\u001b[0;34m()\u001b[0m\n",
      "\u001b[0;31mFileNotFoundError\u001b[0m: [Errno 2] No such file or directory: '/data/FireBall/FTS-06-2018/180612/image-000275-000284-Zinc-with_dark119-stack_table.csv'"
     ]
    }
   ],
   "source": [
    "diffuse_tab_file = '/data/FireBall/FTS-06-2018/180612/image-000275-000284-Zinc-with_dark119-stack_table.csv'\n",
    "# diffuse_path = cloudpath+'TestsFTS2018-Flight/E2E-AIT-Flight/XYCalibration/DiffuseMasksIllumination180823/'\n",
    "# diffuse_tab_file = diffuse_path + 'StackedImage_44-63-NoDark_table.csv'\n",
    "diffuse_tab = Table.read(diffuse_tab_file, format='csv')\n",
    "mask_det_map_file = '/home/dvibert/work/FireBallPipe/mapping-mask-det-180823-F1.pkl'\n",
    "mask_det_map_file = '/Users/Vincent/Nextcloud/LAM/FIREBALL/TestsFTS2018-Flight/E2E-AIT-Flight/XYCalibration/Detector_Mask_mappings/mapping-mask-det-180823-F1.pkl'\n",
    "\n",
    "\n",
    "mask_det_map = Mapping(mask_det_map_file)\n",
    "dxm_dyd = -0.013\n",
    "dym_dxd = -0.015\n",
    "m = np.array([[0., dxm_dyd],[dym_dxd ,0.]])"
   ]
  },
  {
   "cell_type": "markdown",
   "metadata": {},
   "source": [
    "## Diffuse UV image\n",
    "\n",
    "load new mapping"
   ]
  },
  {
   "cell_type": "code",
   "execution_count": 46,
   "metadata": {},
   "outputs": [],
   "source": [
    "diffuse_path = '/data/ownCloud/FIREBALL/TestsFTS2018-Flight/AIT-Optical-FTS-2018-Flight/XYCalibration/DiffuseMasksIllumination180823/'\n",
    "diffuse_path = '/Users/Vincent/Nextcloud/LAM/FIREBALL/TestsFTS2018-Flight/E2E-AIT-Flight/XYCalibration/DiffuseMasksIllumination180823/'\n",
    "diffuse_tab_file = diffuse_path + 'StackedImage_24-43-NoDark_table.csv'\n",
    "diffuse_tab = Table.read(diffuse_tab_file, format='csv')\n",
    "mask_det_map_file = '/home/dvibert/work/FireBallPipe/mapping-mask-det-180823-F1.pkl'\n",
    "mask_det_map_file = '/Users/Vincent/Nextcloud/LAM/FIREBALL/TestsFTS2018-Flight/E2E-AIT-Flight/XYCalibration/Detector_Mask_mappings/mapping-mask-det-180823-F1.pkl'\n",
    "mask_det_map = Mapping(mask_det_map_file)\n",
    "dxm_dyd = -0.013\n",
    "dym_dxd = -0.015\n",
    "m = np.array([[0., dxm_dyd],[dym_dxd ,0.]])"
   ]
  },
  {
   "cell_type": "markdown",
   "metadata": {},
   "source": [
    "record shift from mapping\n",
    "\n",
    "positive: current diffuse -> mapping (old diffuse)"
   ]
  },
  {
   "cell_type": "code",
   "execution_count": 14,
   "metadata": {},
   "outputs": [],
   "source": [
    "diffuse_offset = [ 14.6+1, 0.+1] \n",
    "direct_map = lambda w, x, y: mask_det_map.map(w, x, y) + diffuse_offset\n",
    "inv_map = lambda w, x, y: mask_det_map.inv_map(w, x - diffuse_offset[0], y - diffuse_offset[1])"
   ]
  },
  {
   "cell_type": "markdown",
   "metadata": {},
   "source": [
    "## Scan sequence\n",
    "\n",
    "gc - 46 - 51 -FHC- 4 - FHC - 8 - gc - new model - FHC - 12 - s8 - s31 - FHC - s25 - gc"
   ]
  },
  {
   "cell_type": "markdown",
   "metadata": {},
   "source": [
    "### Go from guider to 1st slit: #46"
   ]
  },
  {
   "cell_type": "code",
   "execution_count": 15,
   "metadata": {},
   "outputs": [
    {
     "name": "stdout",
     "output_type": "stream",
     "text": [
      "slit position in mm on mask: [ 6.7589561 -3.858979 ]\n",
      "slit coord in guider local frame: ['0d05m20.08964178s -0d08m48.87471519s']\n",
      "EL: [159.44054124] arcsec \n",
      "CE: [256.91488963] arcsec\n"
     ]
    }
   ],
   "source": [
    "slit_pos1 =   np.array([F1[F1['Internal-count']=='46']['xmm'][0], F1[F1['Internal-count']=='46']['ymm'][0]])\n",
    "\n",
    "print(\"slit position in mm on mask:\", slit_pos1)\n",
    "slit_coord1 = G2UV.SienceMask2guider(slit_pos1, angle=True)\n",
    "print(\"slit coord in guider local frame:\", slit_coord1.to_string(u'dms'))\n",
    "\n",
    "#frame move\n",
    "theta_EL =  slit_coord1.lon.deg/2./Elg\n",
    "theta_CE = -slit_coord1.lat.deg/2./CEg\n",
    "print(\"EL: {} arcsec \\nCE: {} arcsec\".format(theta_EL*3600, theta_CE*3600))"
   ]
  },
  {
   "cell_type": "markdown",
   "metadata": {},
   "source": [
    "### Go from guider to 1st slit: #46"
   ]
  },
  {
   "cell_type": "code",
   "execution_count": 16,
   "metadata": {},
   "outputs": [
    {
     "name": "stdout",
     "output_type": "stream",
     "text": [
      "slit position in mm on mask: [ 6.7589561 -3.858979 ]\n",
      "slit coord in guider local frame: ['0d05m20.08964178s -0d08m48.87471519s']\n",
      "EL: [159.44054124] arcsec \n",
      "CE: [256.91488963] arcsec\n"
     ]
    }
   ],
   "source": [
    "slit_pos1 =   np.array([F1[F1['Internal-count']=='46']['xmm'][0], F1[F1['Internal-count']=='46']['ymm'][0]])\n",
    "\n",
    "print(\"slit position in mm on mask:\", slit_pos1)\n",
    "slit_coord1 = G2UV.SienceMask2guider(slit_pos1, angle=True)\n",
    "print(\"slit coord in guider local frame:\", slit_coord1.to_string(u'dms'))\n",
    "\n",
    "#frame move\n",
    "theta_EL =  slit_coord1.lon.deg/2./Elg\n",
    "theta_CE = -slit_coord1.lat.deg/2./CEg\n",
    "print(\"EL: {} arcsec \\nCE: {} arcsec\".format(theta_EL*3600, theta_CE*3600))"
   ]
  },
  {
   "cell_type": "markdown",
   "metadata": {},
   "source": [
    "remove offset from model to prediction"
   ]
  },
  {
   "cell_type": "code",
   "execution_count": 17,
   "metadata": {},
   "outputs": [
    {
     "name": "stdout",
     "output_type": "stream",
     "text": [
      "mapped slit position on detector:  [1801.96825511  420.67108983]\n"
     ]
    }
   ],
   "source": [
    "slit_coord1_det = direct_map(mask_det_map.w[1], slit_pos1[0], slit_pos1[1])\n",
    "print(\"mapped slit position on detector: \", slit_coord1_det)"
   ]
  },
  {
   "cell_type": "code",
   "execution_count": 18,
   "metadata": {},
   "outputs": [
    {
     "name": "stdout",
     "output_type": "stream",
     "text": [
      "observed slit position in mm on mask: [ 6.32991818 -3.76309197]\n",
      "observed slit position (linear mapping) in mm on mask: [ 6.31788027 -3.78295517]\n",
      "observed slit coord in guider local frame: ['0d05m27.40105344s -0d08m12.04208206s']\n",
      "observed slit coord in guider pixel frame: [array([1011.27778316]), array([-2.53131635])]\n"
     ]
    }
   ],
   "source": [
    "# compute observed position on mask\n",
    "slit_coord1_obs_det = np.array([1796.9, 454.6]) # observed\n",
    "slit_coord1_obs_wave = 0.20619\n",
    "slit_pos1_obs = inv_map(slit_coord1_obs_wave, slit_coord1_obs_det[0], slit_coord1_obs_det[1])\n",
    "slit_pos1_obs2 = slit_pos1 + m.dot(slit_coord1_obs_det - slit_coord1_det)\n",
    "print(\"observed slit position in mm on mask:\", slit_pos1_obs)\n",
    "print(\"observed slit position (linear mapping) in mm on mask:\", slit_pos1_obs2)\n",
    "\n",
    "slit_coord1_obs = G2UV.SienceMask2guider(slit_pos1_obs, angle=True)\n",
    "print(\"observed slit coord in guider local frame:\", slit_coord1_obs.to_string(u'dms'))\n",
    "slit_coord1_obs_pix = G2UV.SienceMask2guider(slit_pos1_obs, angle=False)\n",
    "print(\"observed slit coord in guider pixel frame:\", slit_coord1_obs_pix)\n"
   ]
  },
  {
   "cell_type": "code",
   "execution_count": 19,
   "metadata": {},
   "outputs": [
    {
     "name": "stdout",
     "output_type": "stream",
     "text": [
      "offset from guider in arcsec (guider frame): \n",
      " [[ -7.31141166]\n",
      " [-36.83263313]]\n"
     ]
    }
   ],
   "source": [
    "offset =  diff_skycoord(slit_coord1_obs, slit_coord1) \n",
    "print(\"offset from guider in arcsec (guider frame): \\n\",offset*3600)\n"
   ]
  },
  {
   "cell_type": "code",
   "execution_count": 20,
   "metadata": {},
   "outputs": [],
   "source": [
    "G2UVnew  = G2UV.copy()\n",
    "\n",
    "newFOVcenter = coordinates.SkyCoord(G2UV.FOV_center_guider_coord.lon + offset[0]*u.deg, \n",
    "                              G2UV.FOV_center_guider_coord.lat + offset[1]*u.deg,\n",
    "                              frame = G2UV.GuiderP.localframe)\n",
    "                     \n",
    "G2UVnew.FOV_center_guider_coord = newFOVcenter"
   ]
  },
  {
   "cell_type": "code",
   "execution_count": 21,
   "metadata": {},
   "outputs": [
    {
     "name": "stdout",
     "output_type": "stream",
     "text": [
      "slit coord in guider local frame, corrected from offset: ['0d05m12.77823011s -0d09m25.70734833s']\n"
     ]
    }
   ],
   "source": [
    "slit_coord1_cor = G2UVnew.SienceMask2guider(slit_pos1, angle=True)\n",
    "print(\"slit coord in guider local frame, corrected from offset:\", slit_coord1_cor.to_string(u'dms'))\n"
   ]
  },
  {
   "cell_type": "markdown",
   "metadata": {},
   "source": [
    "### go back to guider center (absolute)"
   ]
  },
  {
   "cell_type": "markdown",
   "metadata": {},
   "source": [
    "go to 1st slit, offset removed:"
   ]
  },
  {
   "cell_type": "code",
   "execution_count": 22,
   "metadata": {},
   "outputs": [
    {
     "name": "stdout",
     "output_type": "stream",
     "text": [
      "slit coord in guider local frame: ['0d05m12.77823011s -0d09m25.70734833s']\n",
      "EL: [155.79863822] arcsec \n",
      "CE: [274.80731595] arcsec\n"
     ]
    }
   ],
   "source": [
    "\n",
    "slit_coord1 = G2UVnew.SienceMask2guider(slit_pos1, angle=True)\n",
    "print(\"slit coord in guider local frame:\", slit_coord1.to_string(u'dms'))\n",
    "\n",
    "#frame move\n",
    "theta_EL =  slit_coord1.lon.deg/2./Elg\n",
    "theta_CE = -slit_coord1.lat.deg/2./CEg\n",
    "print(\"EL: {} arcsec \\nCE: {} arcsec\".format(theta_EL*3600, theta_CE*3600))"
   ]
  },
  {
   "cell_type": "markdown",
   "metadata": {},
   "source": [
    "### Loop on slits"
   ]
  },
  {
   "cell_type": "code",
   "execution_count": 23,
   "metadata": {},
   "outputs": [
    {
     "data": {
      "text/plain": [
       "['46', '51', '14', '8', '8', '14', '51', '46']"
      ]
     },
     "execution_count": 23,
     "metadata": {},
     "output_type": "execute_result"
    }
   ],
   "source": [
    "slits = ['46', '51', '14', '8'] \n",
    "slits += slits[::-1]\n",
    "slits"
   ]
  },
  {
   "cell_type": "code",
   "execution_count": 24,
   "metadata": {},
   "outputs": [
    {
     "name": "stdout",
     "output_type": "stream",
     "text": [
      "slit position in mm on mask: [ 6.7589561 -3.858979 ]\n",
      "slit coord in guider local frame: ['0d05m12.77823011s -0d09m25.70734833s']\n",
      "slit coord in guider pixel frame: [997.367659   -84.38746204]\n",
      "EL: 155.8 arcsec \n",
      "CE: 274.8 arcsec\n",
      "slit position in mm on mask: [8.6160157 1.0303866]\n",
      "slit coord in guider local frame: ['0d12m13.54645334s -0d11m54.02396477s']\n",
      "slit coord in guider pixel frame: [1455.13566132 -227.07193216]\n",
      "EL: 365.4 arcsec \n",
      "CE: 346.9 arcsec\n",
      "slit position in mm on mask: [-5.1696728  3.934102 ]\n",
      "slit coord in guider local frame: ['0d15m52.30054829s 0d07m47.4574636s']\n",
      "slit coord in guider pixel frame: [1679.91043411 1037.48087294]\n",
      "EL: 474.4 arcsec \n",
      "CE: -227.1 arcsec\n",
      "slit position in mm on mask: [-8.8972191 -0.6960435]\n",
      "slit coord in guider local frame: ['0d09m09.82941413s 0d12m55.97457687s']\n",
      "slit coord in guider pixel frame: [1264.03668502 1382.56643118]\n",
      "EL: 273.9 arcsec \n",
      "CE: -377.0 arcsec\n",
      "slit position in mm on mask: [-8.8972191 -0.6960435]\n",
      "slit coord in guider local frame: ['0d09m09.82941413s 0d12m55.97457687s']\n",
      "slit coord in guider pixel frame: [1264.03668502 1382.56643118]\n",
      "EL: 273.9 arcsec \n",
      "CE: -377.0 arcsec\n",
      "slit position in mm on mask: [-5.1696728  3.934102 ]\n",
      "slit coord in guider local frame: ['0d15m52.30054829s 0d07m47.4574636s']\n",
      "slit coord in guider pixel frame: [1679.91043411 1037.48087294]\n",
      "EL: 474.4 arcsec \n",
      "CE: -227.1 arcsec\n",
      "slit position in mm on mask: [8.6160157 1.0303866]\n",
      "slit coord in guider local frame: ['0d12m13.54645334s -0d11m54.02396477s']\n",
      "slit coord in guider pixel frame: [1455.13566132 -227.07193216]\n",
      "EL: 365.4 arcsec \n",
      "CE: 346.9 arcsec\n",
      "slit position in mm on mask: [ 6.7589561 -3.858979 ]\n",
      "slit coord in guider local frame: ['0d05m12.77823011s -0d09m25.70734833s']\n",
      "slit coord in guider pixel frame: [997.367659   -84.38746204]\n",
      "EL: 155.8 arcsec \n",
      "CE: 274.8 arcsec\n"
     ]
    }
   ],
   "source": [
    "slit_pos = np.zeros((len(slits),2))\n",
    "slit_coord = []\n",
    "slit_coord_pix = np.zeros((len(slits),2))\n",
    "theta_EL = np.zeros(len(slits))\n",
    "theta_CE = np.zeros(len(slits))\n",
    "\n",
    "for i, s in enumerate(slits):\n",
    "    \n",
    "    slit_pos[i] = np.array([F1[F1['Internal-count']==s]['xmm'][0], F1[F1['Internal-count']==s]['ymm'][0]])\n",
    "    print(\"slit position in mm on mask:\", slit_pos[i])\n",
    "    slit_coord.append(G2UVnew.SienceMask2guider(slit_pos[i], angle=True))\n",
    "    print(\"slit coord in guider local frame:\", slit_coord[-1].to_string(u'dms'))\n",
    "    slit_coord_pix[i] = np.array(G2UVnew.SienceMask2guider(slit_pos[i], angle=False)).T\n",
    "    print(\"slit coord in guider pixel frame:\", slit_coord_pix[i])\n",
    "\n",
    "    #frame move\n",
    "    theta_EL[i] =  slit_coord[-1].lon.deg/2./Elg\n",
    "    theta_CE[i] = -slit_coord[-1].lat.deg/2./CEg\n",
    "    print(\"EL: {:.1f} arcsec \\nCE: {:.1f} arcsec\".format(theta_EL[i]*3600, theta_CE[i]*3600))\n",
    "    \n",
    "# compute relative moves\n",
    "moves_EL = theta_EL[1:] - theta_EL[:-1]\n",
    "moves_CE = theta_CE[1:] - theta_CE[:-1]\n"
   ]
  },
  {
   "cell_type": "code",
   "execution_count": 25,
   "metadata": {},
   "outputs": [
    {
     "name": "stdout",
     "output_type": "stream",
     "text": [
      "move:  EL 209.6 arcsec - CE 72.0 arcsec\n",
      "move:  EL 109.0 arcsec - CE -573.9 arcsec\n",
      "move:  EL -200.5 arcsec - CE -149.9 arcsec\n",
      "move:  EL 200.5 arcsec - CE 149.9 arcsec\n",
      "move:  EL -109.0 arcsec - CE 573.9 arcsec\n",
      "move:  EL -209.6 arcsec - CE -72.0 arcsec\n"
     ]
    }
   ],
   "source": [
    "# remove middle\n",
    "idx = np.arange(len(slits)//2)\n",
    "idx = np.concatenate((idx[:-1], idx[:-1]+len(idx)))\n",
    "for i in idx:\n",
    "    print(\"move:  EL {:.1f} arcsec - CE {:.1f} arcsec\".format(moves_EL[i]*3600, moves_CE[i]*3600))\n"
   ]
  },
  {
   "cell_type": "markdown",
   "metadata": {},
   "source": [
    "observed slits position :"
   ]
  },
  {
   "cell_type": "code",
   "execution_count": 26,
   "metadata": {},
   "outputs": [
    {
     "data": {
      "text/plain": [
       "array([[1803. ,  421.2],\n",
       "       [1469.6,  288.7],\n",
       "       [1304.2, 1347.9],\n",
       "       [1619.6, 1625.4],\n",
       "       [1620. , 1626.6],\n",
       "       [1304.3, 1355.6],\n",
       "       [1469.5,  288.7],\n",
       "       [1802.9,  412.5]])"
      ]
     },
     "execution_count": 26,
     "metadata": {},
     "output_type": "execute_result"
    }
   ],
   "source": [
    "#slit_coord_obs_det = np.zeros((8,2)) + np.array([1800, 421])\n",
    "\n",
    "slit_coord_obs_det = np.array([[ 1803 ,  421.2 ],\n",
    "         [ 1469.6 ,  288.7 ],\n",
    "         [ 1304.2 , 1347.9 ],\n",
    "         [ 1619.6 ,  1625.4 ],\n",
    "         [ 1620 ,  1626.6 ],\n",
    "\n",
    "         [ 1304.3 ,  1355.6 ],\n",
    "         [ 1469.5 ,  288.7 ],\n",
    "         [ 1802.9 ,  412.5 ]])\n",
    "slit_coord_obs_det"
   ]
  },
  {
   "cell_type": "code",
   "execution_count": 27,
   "metadata": {},
   "outputs": [
    {
     "data": {
      "text/plain": [
       "array([[1801.96825511,  420.67108983],\n",
       "       [1469.29514119,  286.56101201],\n",
       "       [1295.35176435, 1349.1566357 ],\n",
       "       [1608.56048921, 1627.87990416],\n",
       "       [1608.56048921, 1627.87990416],\n",
       "       [1295.35176435, 1349.1566357 ],\n",
       "       [1469.29514119,  286.56101201],\n",
       "       [1801.96825511,  420.67108983]])"
      ]
     },
     "execution_count": 27,
     "metadata": {},
     "output_type": "execute_result"
    }
   ],
   "source": [
    "mask_det_map.map(mask_det_map.w[1], slit_pos[:,0], slit_pos[:, 1]).T + diffuse_offset\n",
    "#direct_map(mask_det_map.w[1], slit_pos[:,0].T, slit_pos[:, 1].T)"
   ]
  },
  {
   "cell_type": "markdown",
   "metadata": {},
   "source": [
    "map on mask :"
   ]
  },
  {
   "cell_type": "code",
   "execution_count": 28,
   "metadata": {},
   "outputs": [],
   "source": [
    "slit_coord_obs_wave = 0.20619    \n",
    "\n",
    "#slit_pos_obs = mask_det_map.inv_map(slit_coord_obs_wave, slit_coord_obs_det[:,0], slit_coord_obs_det[:,1]).T\n",
    "slit_pos_obs = inv_map(slit_coord_obs_wave, slit_coord_obs_det[:,0], slit_coord_obs_det[:,1]).T\n",
    "#print(slit_pos_obs - slit_pos)\n",
    "\n",
    "#print(slit_coord_obs_wave)\n",
    "#print(slit_pos_obs)\n"
   ]
  },
  {
   "cell_type": "code",
   "execution_count": null,
   "metadata": {},
   "outputs": [],
   "source": []
  },
  {
   "cell_type": "code",
   "execution_count": 29,
   "metadata": {},
   "outputs": [
    {
     "name": "stdout",
     "output_type": "stream",
     "text": [
      "observed slit position in mm on mask: [ 6.76495747 -3.86941027]\n",
      "observed slit coord in guider local frame: ['0d05m11.90056827s -0d09m26.24218471s']\n",
      "observed slit coord in guider pixel frame: [996.42184926 -85.0139446 ]\n",
      "observed slit position in mm on mask: [8.5901649  1.01562411]\n",
      "observed slit coord in guider local frame: ['0d12m12.23289954s -0d11m51.84491409s']\n",
      "observed slit coord in guider pixel frame: [1453.67151893 -224.79215479]\n",
      "observed slit position in mm on mask: [-5.14382363  3.8054746 ]\n",
      "observed slit coord in guider local frame: ['0d15m41.38440288s 0d07m44.97784164s']\n",
      "observed slit coord in guider pixel frame: [1668.46178891 1035.12928845]\n",
      "observed slit position in mm on mask: [-8.84456363 -0.85730731]\n",
      "observed slit coord in guider local frame: ['0d08m56.18641599s 0d12m51.14009762s']\n",
      "observed slit coord in guider pixel frame: [1249.14181189 1378.00583341]\n",
      "observed slit position in mm on mask: [-8.86021446 -0.86324882]\n",
      "observed slit coord in guider local frame: ['0d08m55.64668959s 0d12m52.46576977s']\n",
      "observed slit coord in guider pixel frame: [1248.61664046 1379.46760208]\n",
      "observed slit position in mm on mask: [-5.24344476  3.8052101 ]\n",
      "observed slit coord in guider local frame: ['0d15m41.15932436s 0d07m53.47575352s']\n",
      "observed slit coord in guider pixel frame: [1668.44275678 1044.14045481]\n",
      "observed slit position in mm on mask: [8.5901657  1.01711482]\n",
      "observed slit coord in guider local frame: ['0d12m12.3600348s -0d11m51.84191106s']\n",
      "observed slit coord in guider pixel frame: [1453.80580742 -224.78275765]\n",
      "observed slit position in mm on mask: [ 6.87734015 -3.87174254]\n",
      "observed slit coord in guider local frame: ['0d05m11.92838576s -0d09m35.84291937s']\n",
      "observed slit coord in guider pixel frame: [996.75159196 -95.61249931]\n"
     ]
    }
   ],
   "source": [
    "slit_coord_obs = []\n",
    "slit_coord_obs_pix = np.zeros((len(slits),2))\n",
    "\n",
    "for i, s in enumerate(slits):\n",
    "    \n",
    "    print(\"observed slit position in mm on mask:\", slit_pos_obs[i])\n",
    "    slit_coord_obs.append(G2UVnew.SienceMask2guider(slit_pos_obs[i], angle=True))\n",
    "    print(\"observed slit coord in guider local frame:\", slit_coord_obs[-1].to_string(u'dms'))\n",
    "    slit_coord_obs_pix[i] = np.array(G2UVnew.SienceMask2guider(slit_pos_obs[i], angle=False)).T\n",
    "    print(\"observed slit coord in guider pixel frame:\", slit_coord_obs_pix[i])\n",
    "\n"
   ]
  },
  {
   "cell_type": "markdown",
   "metadata": {},
   "source": [
    "## compute NEW MODEL: orientation, offset & magnification"
   ]
  },
  {
   "cell_type": "code",
   "execution_count": 30,
   "metadata": {},
   "outputs": [
    {
     "name": "stdout",
     "output_type": "stream",
     "text": [
      "[[ -0.89072541  -0.51339919]\n",
      " [ -1.26032974   2.21113468]\n",
      " [-10.97671104  -2.21299134]\n",
      " [-13.76108196  -4.50124432]\n",
      " [-14.26842836  -3.16238917]\n",
      " [-10.99422512   6.29041816]\n",
      " [ -1.13312113   2.21103239]\n",
      " [ -1.09740917 -10.1148133 ]]\n"
     ]
    }
   ],
   "source": [
    "slit_coord_F = np.zeros((len(slits),2))\n",
    "slit_coord_obs_F = np.zeros((len(slits),2))\n",
    "\n",
    "for i in range(len(slits)):\n",
    "    \n",
    "    c = G2UVnew.guider_to_FieldLocal(slit_coord[i], angle=True)\n",
    "    slit_coord_F[i] = np.array([ c.lon.deg, c.lat.deg]).T\n",
    "    \n",
    "    c_obs = G2UVnew.guider_to_FieldLocal(slit_coord_obs[i], angle=True)\n",
    "    slit_coord_obs_F[i] = np.array([ c_obs.lon.deg, c_obs.lat.deg]).T\n",
    "\n",
    "    \n",
    "delta = slit_coord_obs_F - slit_coord_F\n",
    "print(delta*3600)\n"
   ]
  },
  {
   "cell_type": "code",
   "execution_count": 31,
   "metadata": {},
   "outputs": [
    {
     "name": "stdout",
     "output_type": "stream",
     "text": [
      "gamma: 0.9983429715031369\n",
      "theta: 32.4708570269681 arcmin\n",
      "dx: -7.046995563730491 arcsec\n",
      "dy: -1.352563741666009 arcsec\n",
      "variances: [5.16707991e-04 1.77631123e+00 3.53876134e-01 3.53876134e-01]\n",
      "\n",
      "residuals in arcsec: [-0.16428207  1.01208255 -0.79092073 -0.35904758  0.14829883 -0.77340664\n",
      "  0.88487394  0.0424017  -2.99329676 -1.51493375  3.29909115  1.32951349\n",
      " -0.00934166 -5.20431836 -1.51483146  6.60811735]\n"
     ]
    }
   ],
   "source": [
    "row_x = np.hstack((slit_coord_F*[1.,-1], np.ones((8,1)), np.zeros((8,1)) )) # xn -x = x dgamma - y theta + dx\n",
    "row_y = np.hstack((slit_coord_F[:,::-1], np.zeros((8,1)), np.ones((8,1)) )) # yn - y = x theta - y dgamma \n",
    "mat = np.vstack((row_x, row_y))\n",
    "matinv =  np.linalg.pinv(mat)\n",
    "data = np.concatenate((delta[:,0], delta[:,1]))\n",
    "sol = matinv.dot(data)\n",
    "gama = 1 + sol[0]\n",
    "theta_rad = sol[1]\n",
    "deltax = sol[2]\n",
    "deltay = sol[3]\n",
    "theta = theta_rad*180/np.pi*60 #arcmin\n",
    "print(\"gamma: {}\\ntheta: {} arcmin\\ndx: {} arcsec\\ndy: {} arcsec\".format(gama, theta, deltax*3600, deltay*3600))\n",
    "covar = matinv.dot(matinv.T)\n",
    "# accuracy, assuming 1 arcsec measurement error\n",
    "print(\"variances: {}\\n\".format(np.sqrt(np.diag(covar))/3600*[1, 180/np.pi*60, 3600, 3600])) #\n",
    "#residual\n",
    "data_new = mat.dot(sol) \n",
    "print(\"residuals in arcsec:\", (data_new - data)*3600)"
   ]
  },
  {
   "cell_type": "code",
   "execution_count": 32,
   "metadata": {},
   "outputs": [
    {
     "data": {
      "text/plain": [
       "Text(-10, 7, 'rotation: 32.47 arcmin\\nmagnification 0.9983\\ndeltax: 1.3526 arcsec\\ndeltay: -7.0470 arcsec')"
      ]
     },
     "execution_count": 32,
     "metadata": {},
     "output_type": "execute_result"
    },
    {
     "data": {
      "image/png": "[encoded data removed]",
      "text/plain": [
       "<Figure size 432x288 with 1 Axes>"
      ]
     },
     "metadata": {
      "needs_background": "light"
     },
     "output_type": "display_data"
    }
   ],
   "source": [
    "mask_plate_scale = 42.26134\n",
    "plt.figure()\n",
    "plt.axis('equal')\n",
    "plt.plot(slit_pos[:,0], slit_pos[:,1], 'or')\n",
    "qv = plt.quiver(slit_pos[:,0], slit_pos[:,1], 0., delta[:,0]*mask_plate_scale)\n",
    "plt.quiverkey(qv, .8,.9,.075, \"75 mu\", color='r')\n",
    "plt.xlim([-13, 13])\n",
    "plt.ylim([-7,7])\n",
    "plt.xlabel('x mm')\n",
    "plt.ylabel('y mm')\n",
    "plt.text(-10,7,\"rotation: {:.2f} arcmin\\nmagnification {:.4f}\\ndeltax: {:.4f} arcsec\\ndeltay: {:.4f} arcsec\".format(theta, gama, -deltay*3600, deltax*3600))\n",
    "\n"
   ]
  },
  {
   "cell_type": "code",
   "execution_count": 33,
   "metadata": {},
   "outputs": [
    {
     "name": "stdout",
     "output_type": "stream",
     "text": [
      "[-5.27348666  3.67916712] [-5.1696728  3.934102 ]\n",
      "<SkyCoord (SkyOffsetICRS: rotation=-90.0 deg, origin=<ICRS Coordinate: (ra, dec) in deg\n",
      "    (32.19, -5.688)>): (lon, lat) in deg\n",
      "    (0.09314914, 0.12240419)>\n",
      "<SkyCoord (SkyOffsetICRS: rotation=-90.0 deg, origin=<ICRS Coordinate: (ra, dec) in deg\n",
      "    (32.19, -5.688)>): (lon, lat) in deg\n",
      "    (0.08711183, 0.12486061)>\n"
     ]
    }
   ],
   "source": [
    "sit_pos14_obs_det = np.array([1312.8, 1357.7])\n",
    "slit_pos14_obs = inv_map(slit_coord_obs_wave, sit_pos14_obs_det[0], sit_pos14_obs_det[1]).T\n",
    "print(slit_pos14_obs, slit_pos[2])\n",
    "\n",
    "print(G2UV.FieldP.pix2local(slit_pos[2]))\n",
    "print(G2UV.FieldP.pix2local(slit_pos14_obs))"
   ]
  },
  {
   "cell_type": "code",
   "execution_count": 34,
   "metadata": {},
   "outputs": [
    {
     "data": {
      "text/plain": [
       "array([1295.35176435, 1349.1566357 ])"
      ]
     },
     "execution_count": 34,
     "metadata": {},
     "output_type": "execute_result"
    }
   ],
   "source": [
    "direct_map(slit_coord_obs_wave, slit_pos[2,0], slit_pos[2,1])"
   ]
  },
  {
   "cell_type": "code",
   "execution_count": 35,
   "metadata": {},
   "outputs": [],
   "source": [
    "G2UVcor  = Guider2UV(guider_wcs=G2UVnew.GuiderP.w, \n",
    "                     Field_center=G2UVnew.FieldP.center, \n",
    "                     Field_rotation=G2UVnew.FieldP.rotation,\n",
    "                     Field_gamma=gama,\n",
    "                     mask_rotation=G2UVnew.mask_rotation + theta*u.arcmin)\n",
    "\n",
    "\n",
    "#deltaFOV = - 1/gama*deltax\n",
    "\n",
    "#G2UVnew  = Guider2UV(guider_wcs=G2UV.GuiderP.w, \n",
    "#                     Field_center=G2UV.FieldP.center, \n",
    "#                     Field_rotation=G2UV.FieldP.rotation,\n",
    "#                     Field_gamma=gama)\n",
    "#                     #mask_rotation=theta*u.arcmin)\n",
    "#\n",
    "#deltaFOV = - deltax\n",
    "\n",
    "newFOVcenter = coordinates.SkyCoord(G2UVnew.FOV_center_guider_coord.lon + deltax*u.deg, \n",
    "                              G2UVnew.FOV_center_guider_coord.lat + deltay*u.deg,\n",
    "                              frame = G2UVnew.GuiderP.localframe)\n",
    "                     \n",
    "G2UVcor.FOV_center_guider_coord = newFOVcenter\n",
    "\n",
    "#G2UVnew.FOV_guider_coord = G2UV.FOV_guider_coord\n"
   ]
  },
  {
   "cell_type": "code",
   "execution_count": null,
   "metadata": {},
   "outputs": [],
   "source": []
  },
  {
   "cell_type": "markdown",
   "metadata": {},
   "source": [
    "## check new model on new slit #21\n",
    "\n",
    "start from last slit #46"
   ]
  },
  {
   "cell_type": "code",
   "execution_count": 36,
   "metadata": {},
   "outputs": [
    {
     "name": "stdout",
     "output_type": "stream",
     "text": [
      "slit position in mm on mask: [-2.4108349  4.2733935]\n",
      "slit coord in guider local frame: ['0d16m17.28773876s 0d03m54.6724083s']\n",
      "slit coord in guider pixel frame: [array([1701.38526186]), array([790.49196444])]\n",
      "EL: [331.00026333] arcsec \n",
      "CE: [-388.80564891] arcsec\n"
     ]
    }
   ],
   "source": [
    "slitcheck = '21'\n",
    "slit_pos5 =   np.array([F1[F1['Internal-count']==slitcheck]['xmm'][0], F1[F1['Internal-count']==slitcheck]['ymm'][0]])\n",
    "\n",
    "print(\"slit position in mm on mask:\", slit_pos5)\n",
    "slit_coord5 = G2UVcor.SienceMask2guider(slit_pos5, angle=True)\n",
    "print(\"slit coord in guider local frame:\", slit_coord5.to_string(u'dms'))\n",
    "slit_coord5_pix = G2UVcor.SienceMask2guider(slit_pos5, angle=False)\n",
    "print(\"slit coord in guider pixel frame:\", slit_coord5_pix)\n",
    "\n",
    "#frame move\n",
    "theta_EL =  (slit_coord5.lon.deg -  slit_coord[0].lon.deg)/2./Elg\n",
    "theta_CE = -(slit_coord5.lat.deg -  slit_coord[0].lat.deg)/2./CEg\n",
    "print(\"EL: {} arcsec \\nCE: {} arcsec\".format(theta_EL*3600, theta_CE*3600))"
   ]
  },
  {
   "cell_type": "markdown",
   "metadata": {},
   "source": [
    "## check new model on known slit #14\n",
    "\n",
    "start from last slit #14"
   ]
  },
  {
   "cell_type": "code",
   "execution_count": 37,
   "metadata": {},
   "outputs": [
    {
     "data": {
      "text/plain": [
       "['46', '51', '14', '8', '8', '14', '51', '46']"
      ]
     },
     "execution_count": 37,
     "metadata": {},
     "output_type": "execute_result"
    }
   ],
   "source": [
    "slits"
   ]
  },
  {
   "cell_type": "code",
   "execution_count": 38,
   "metadata": {},
   "outputs": [
    {
     "name": "stdout",
     "output_type": "stream",
     "text": [
      "slit position in mm on mask: [-5.1696728  3.934102 ]\n",
      "slit coord in guider local frame: ['0d15m40.56046284s 0d07m48.52328867s']\n",
      "slit coord in guider pixel frame: [array([1667.69160409]), array([1038.90746244])]\n",
      "EL: [-18.29430256] arcsec \n",
      "CE: [-113.59925402] arcsec\n"
     ]
    }
   ],
   "source": [
    "slitcheck2 = slits[2]\n",
    "slit_pos6 =   np.array([F1[F1['Internal-count']==slitcheck2]['xmm'][0], F1[F1['Internal-count']==slitcheck2]['ymm'][0]])\n",
    "\n",
    "print(\"slit position in mm on mask:\", slit_pos6)\n",
    "slit_coord6 = G2UVcor.SienceMask2guider(slit_pos6, angle=True)\n",
    "print(\"slit coord in guider local frame:\", slit_coord6.to_string(u'dms'))\n",
    "slit_coord6_pix = G2UVcor.SienceMask2guider(slit_pos6, angle=False)\n",
    "print(\"slit coord in guider pixel frame:\", slit_coord6_pix)\n",
    "\n",
    "#frame move\n",
    "theta_EL =  (slit_coord6.lon.deg -  slit_coord5.lon.deg)/2./Elg\n",
    "theta_CE = -(slit_coord6.lat.deg -  slit_coord5.lat.deg)/2./CEg\n",
    "print(\"EL: {} arcsec \\nCE: {} arcsec\".format(theta_EL*3600, theta_CE*3600))"
   ]
  },
  {
   "cell_type": "markdown",
   "metadata": {},
   "source": [
    "compared observed vs diffuse\n",
    "\n",
    "| wavelength | diffuse   | observed |\n",
    "|------------|-----------|----------|\n",
    "| 0.21382    |           |           \n",
    "| 0.20619    | 1738.31531.2| 1754.3x1574.3\n",
    "| 0.20255    |   |\n"
   ]
  },
  {
   "cell_type": "code",
   "execution_count": 39,
   "metadata": {},
   "outputs": [
    {
     "name": "stdout",
     "output_type": "stream",
     "text": [
      "observed slit position in mm on mask: [-8.24646907 -3.11000349]\n",
      "observed slit coord in guider local frame: ['0d05m45.31513902s 0d11m55.42508506s']\n",
      "observed slit coord in guider pixel frame: [array([1039.4844154]), array([1326.59693706])]\n"
     ]
    }
   ],
   "source": [
    "# compute observed position on mask\n",
    "slit_coord5_obs_det = np.array([1754.3, 1574.3])\n",
    "slit_coord5_obs_wave = 0.20619\n",
    "slit_pos5_obs = mask_det_map.inv_map(slit_coord5_obs_wave, slit_coord5_obs_det[0], slit_coord5_obs_det[1])\n",
    "print(\"observed slit position in mm on mask:\", slit_pos5_obs)\n",
    "slit_coord5_obs = G2UVnew.SienceMask2guider(slit_pos5_obs, angle=True)\n",
    "print(\"observed slit coord in guider local frame:\", slit_coord5_obs.to_string(u'dms'))\n",
    "slit_coord5_obs_pix = G2UVnew.SienceMask2guider(slit_pos5_obs, angle=False)\n",
    "print(\"observed slit coord in guider pixel frame:\", slit_coord5_obs_pix)\n"
   ]
  },
  {
   "cell_type": "markdown",
   "metadata": {},
   "source": [
    "## Guide stars"
   ]
  },
  {
   "cell_type": "code",
   "execution_count": 40,
   "metadata": {},
   "outputs": [],
   "source": [
    "star_target_path = cloudpath + 'Target_selection/GuidingStars/'\n",
    "F1_stars = Table.read(star_target_path + \"F1_guidingstars.fits\", format='fits')\n",
    "F1_stars_coords = coordinates.SkyCoord(F1_stars['RA']*u.deg, F1_stars['DEC']*u.deg)\n"
   ]
  },
  {
   "cell_type": "markdown",
   "metadata": {},
   "source": [
    "### star s8"
   ]
  },
  {
   "cell_type": "code",
   "execution_count": 41,
   "metadata": {},
   "outputs": [
    {
     "name": "stdout",
     "output_type": "stream",
     "text": [
      "star position Ra/Dec:  <SkyCoord (ICRS): (ra, dec) in deg\n",
      "    [(32.1014, -5.786504)]>\n",
      "Star position in guider local frame:  <SkyCoord (SkyOffsetICRS: rotation=0.0 deg, origin=<ICRS Coordinate: (ra, dec) in deg\n",
      "    (250.39272815, 36.41856381)>): (lon, lat) in deg\n",
      "    [(0.07370463, 0.09091228)]>\n",
      "Star position in guider pixel frame:  [array([939.85059787]), array([902.18021436])]\n",
      "EL: [132.16741631] arcsec \n",
      "CE: [-158.98697205] arcsec\n"
     ]
    }
   ],
   "source": [
    "star_pos1_radec = F1_stars_coords[F1_stars['Internal count']==8]\n",
    "print(\"star position Ra/Dec: \", star_pos1_radec)\n",
    "star_coord1 = G2UVnew.SienceMask2guider(star_pos1_radec, world=True, angle=True)\n",
    "print(\"Star position in guider local frame: \", star_coord1)\n",
    "star_coord1_pix = G2UVnew.SienceMask2guider(star_pos1_radec, world=True, angle=False)\n",
    "print(\"Star position in guider pixel frame: \", star_coord1_pix)\n",
    "\n",
    "#frame move\n",
    "#theta_EL =  (star_coord1.lon.deg - slit_coord5_obs.lon.deg)/2./Elg\n",
    "#theta_CE = -(star_coord1.lat.deg - slit_coord5_obs.lat.deg)/2./CEg\n",
    "theta_EL =  (star_coord1.lon.deg)/2./Elg\n",
    "theta_CE = -(star_coord1.lat.deg)/2./CEg\n",
    "\n",
    "print(\"EL: {} arcsec \\nCE: {} arcsec\".format(theta_EL*3600, theta_CE*3600))"
   ]
  },
  {
   "cell_type": "markdown",
   "metadata": {},
   "source": [
    "observed star position: 960.2 x 892.8"
   ]
  },
  {
   "cell_type": "markdown",
   "metadata": {},
   "source": [
    "### star s31"
   ]
  },
  {
   "cell_type": "code",
   "execution_count": 42,
   "metadata": {},
   "outputs": [
    {
     "name": "stdout",
     "output_type": "stream",
     "text": [
      "star position Ra/Dec:  <SkyCoord (ICRS): (ra, dec) in deg\n",
      "    [(32.254526, -5.815258)]>\n",
      "Star position in guider local frame:  <SkyCoord (SkyOffsetICRS: rotation=0.0 deg, origin=<ICRS Coordinate: (ra, dec) in deg\n",
      "    (250.39272815, 36.41856381)>): (lon, lat) in deg\n",
      "    [(0.04867485, -0.06213244)]>\n",
      "Star position in guider pixel frame:  [array([838.00214142]), array([290.94593573])]\n",
      "EL: [-44.88348406] arcsec \n",
      "CE: [267.64388085] arcsec\n"
     ]
    }
   ],
   "source": [
    "star_pos2_radec = F1_stars_coords[F1_stars['Internal count']==31]\n",
    "print(\"star position Ra/Dec: \", star_pos2_radec)\n",
    "star_coord2 = G2UVnew.SienceMask2guider(star_pos2_radec, world=True, angle=True)\n",
    "print(\"Star position in guider local frame: \", star_coord2)\n",
    "star_coord2_pix = G2UVnew.SienceMask2guider(star_pos2_radec, world=True, angle=False)\n",
    "print(\"Star position in guider pixel frame: \", star_coord2_pix)\n",
    "\n",
    "#frame move\n",
    "#theta_EL =  star_coord2.lon.deg/2./Elg\n",
    "#theta_CE = -star_coord2.lat.deg/2./CEg\n",
    "#print(\"EL: {} arcsec \\nCE: {} arcsec\".format(theta_EL*3600, theta_CE*3600))\n",
    "\n",
    "theta_EL =  (star_coord2.lon.deg - star_coord1.lon.deg)/2./Elg\n",
    "theta_CE = -(star_coord2.lat.deg - star_coord1.lat.deg)/2./CEg\n",
    "print(\"EL: {} arcsec \\nCE: {} arcsec\".format(theta_EL*3600, theta_CE*3600))"
   ]
  },
  {
   "cell_type": "markdown",
   "metadata": {},
   "source": [
    "observed star position: 860.2 x 287"
   ]
  },
  {
   "cell_type": "markdown",
   "metadata": {},
   "source": [
    "### Frame Hysteresis Compensation in guider"
   ]
  },
  {
   "cell_type": "code",
   "execution_count": 43,
   "metadata": {},
   "outputs": [
    {
     "name": "stdout",
     "output_type": "stream",
     "text": [
      "EL: [-29.99464644  29.99464644] arcsec \n",
      "CE: [-77.63516067  77.63516067] arcsec\n"
     ]
    }
   ],
   "source": [
    "# 1st try: go away and back to star 31\n",
    "star_pos = np.array([846,318])\n",
    "end_pos = np.array([850, 322]) # to be read on guider\n",
    "# effective frame_move\n",
    "theta_EL = 10. # in arcsec\n",
    "theta_CE = -10. # in arcsec\n",
    "scale = (end_pos - star_pos)/np.array([theta_EL, theta_CE]) \n",
    "\n",
    "# compute final frame move\n",
    "theta = (np.array([star_coord2_pix[0] - end_pos[0], star_coord2_pix[1] - end_pos[1]]))/scale \n",
    "print(\"EL: {} arcsec \\nCE: {} arcsec\".format(theta[0], theta[1]))"
   ]
  },
  {
   "cell_type": "markdown",
   "metadata": {},
   "source": [
    "### star s25"
   ]
  },
  {
   "cell_type": "code",
   "execution_count": 44,
   "metadata": {},
   "outputs": [
    {
     "name": "stdout",
     "output_type": "stream",
     "text": [
      "star position Ra/Dec:  <SkyCoord (ICRS): (ra, dec) in deg\n",
      "    [(32.221491, -5.776507)]>\n",
      "Star position in guider local frame:  <SkyCoord (SkyOffsetICRS: rotation=0.0 deg, origin=<ICRS Coordinate: (ra, dec) in deg\n",
      "    (250.39272815, 36.41856381)>): (lon, lat) in deg\n",
      "    [(0.08662596, -0.02832302)]>\n",
      "Star position in guider pixel frame:  [array([988.05525116]), array([427.65446673])]\n",
      "EL: [68.05407238] arcsec \n",
      "CE: [-59.1257503] arcsec\n"
     ]
    }
   ],
   "source": [
    "star_pos3_radec = F1_stars_coords[F1_stars['Internal count']==25]\n",
    "print(\"star position Ra/Dec: \", star_pos3_radec)\n",
    "star_coord3 = G2UVnew.SienceMask2guider(star_pos3_radec, world=True, angle=True)\n",
    "print(\"Star position in guider local frame: \", star_coord3)\n",
    "star_coord3_pix = G2UVnew.SienceMask2guider(star_pos3_radec, world=True, angle=False)\n",
    "print(\"Star position in guider pixel frame: \", star_coord3_pix)\n",
    "\n",
    "#frame move\n",
    "#theta_EL =  star_coord2.lon.deg/2./Elg\n",
    "#theta_CE = -star_coord2.lat.deg/2./CEg\n",
    "#print(\"EL: {} arcsec \\nCE: {} arcsec\".format(theta_EL*3600, theta_CE*3600))\n",
    "\n",
    "theta_EL =  (star_coord3.lon.deg - star_coord2.lon.deg)/2./Elg\n",
    "theta_CE = -(star_coord3.lat.deg - star_coord2.lat.deg)/2./CEg\n",
    "print(\"EL: {} arcsec \\nCE: {} arcsec\".format(theta_EL*3600, theta_CE*3600))"
   ]
  },
  {
   "cell_type": "markdown",
   "metadata": {},
   "source": [
    "observed star position 1007.6 x  417"
   ]
  },
  {
   "cell_type": "markdown",
   "metadata": {},
   "source": [
    "### back to guider center"
   ]
  },
  {
   "cell_type": "code",
   "execution_count": 45,
   "metadata": {},
   "outputs": [
    {
     "name": "stdout",
     "output_type": "stream",
     "text": [
      "EL: [-155.33800463] arcsec \n",
      "CE: [-49.53115851] arcsec\n"
     ]
    }
   ],
   "source": [
    "#frame move\n",
    "theta_EL =  (0. - star_coord3.lon.deg)/2./Elg\n",
    "theta_CE = -(0. - star_coord3.lat.deg)/2./CEg\n",
    "print(\"EL: {} arcsec \\nCE: {} arcsec\".format(theta_EL*3600, theta_CE*3600))"
   ]
  },
  {
   "cell_type": "code",
   "execution_count": null,
   "metadata": {},
   "outputs": [],
   "source": []
  },
  {
   "cell_type": "code",
   "execution_count": null,
   "metadata": {},
   "outputs": [],
   "source": []
  },
  {
   "cell_type": "code",
   "execution_count": null,
   "metadata": {},
   "outputs": [],
   "source": []
  }
 ],
 "metadata": {
  "kernelspec": {
   "display_name": "Python 3 (ipykernel)",
   "language": "python",
   "name": "python3"
  },
  "language_info": {
   "codemirror_mode": {
    "name": "ipython",
    "version": 3
   },
   "file_extension": ".py",
   "mimetype": "text/x-python",
   "name": "python",
   "nbconvert_exporter": "python",
   "pygments_lexer": "ipython3",
   "version": "3.8.13"
  }
 },
 "nbformat": 4,
 "nbformat_minor": 4
}
